{
 "cells": [
  {
   "cell_type": "markdown",
   "metadata": {
    "toc": true
   },
   "source": [
    "<h1>Table of Contents<span class=\"tocSkip\"></span></h1>\n",
    "<div class=\"toc\"><ul class=\"toc-item\"><li><span><a href=\"#Prompt\" data-toc-modified-id=\"Prompt-1\"><span class=\"toc-item-num\">1&nbsp;&nbsp;</span>Prompt</a></span><ul class=\"toc-item\"><li><span><a href=\"#You're-testing-advertising-emails-for-a-bathing-suit-company-and-you-test-one-version-of-the-email-in-February-and-the-other-in-May.\" data-toc-modified-id=\"You're-testing-advertising-emails-for-a-bathing-suit-company-and-you-test-one-version-of-the-email-in-February-and-the-other-in-May.-1.1\"><span class=\"toc-item-num\">1.1&nbsp;&nbsp;</span>You're testing advertising emails for a bathing suit company and you test one version of the email in February and the other in May.</a></span></li><li><span><a href=\"#You-open-a-clinic-to-treat-anxiety-and-find-that-the-people-who-visit-show-a-higher-rate-of-anxiety-than-the-general-population.\" data-toc-modified-id=\"You-open-a-clinic-to-treat-anxiety-and-find-that-the-people-who-visit-show-a-higher-rate-of-anxiety-than-the-general-population.-1.2\"><span class=\"toc-item-num\">1.2&nbsp;&nbsp;</span>You open a clinic to treat anxiety and find that the people who visit show a higher rate of anxiety than the general population.</a></span></li><li><span><a href=\"#You-launch-a-new-ad-billboard-based-campaign-and-see-an-increase-in-website-visits-in-the-first-week.\" data-toc-modified-id=\"You-launch-a-new-ad-billboard-based-campaign-and-see-an-increase-in-website-visits-in-the-first-week.-1.3\"><span class=\"toc-item-num\">1.3&nbsp;&nbsp;</span>You launch a new ad billboard based campaign and see an increase in website visits in the first week.</a></span></li><li><span><a href=\"#You-launch-a-loyalty-program-but-see-no-change-in-visits-in-the-first-week.\" data-toc-modified-id=\"You-launch-a-loyalty-program-but-see-no-change-in-visits-in-the-first-week.-1.4\"><span class=\"toc-item-num\">1.4&nbsp;&nbsp;</span>You launch a loyalty program but see no change in visits in the first week.</a></span></li></ul></li></ul></div>"
   ]
  },
  {
   "cell_type": "markdown",
   "metadata": {},
   "source": [
    "# Prompt"
   ]
  },
  {
   "cell_type": "markdown",
   "metadata": {},
   "source": [
    "For each of the following scenarios, call out the potential biases in the proposed experiment. Do your best to try to discover not only the bias, but the initial design. There is plenty of room for interpretation here, so make sure to state what assumptions you're making."
   ]
  },
  {
   "cell_type": "markdown",
   "metadata": {},
   "source": [
    "## You're testing advertising emails for a bathing suit company and you test one version of the email in February and the other in May.\n",
    "\n",
    "The May version may have more active users and buyers compared to the February version because of the fact that May is closer to summer and people are probably more likely to buy their bathing suit then. If the emails are sent internationally then that may cause bias results since the seasons are different depending on geography. "
   ]
  },
  {
   "cell_type": "markdown",
   "metadata": {},
   "source": [
    "## You open a clinic to treat anxiety and find that the people who visit show a higher rate of anxiety than the general population.\n",
    "\n",
    "The subgroup of people who visit the clinic are more likely to be anxious since they are going to the clinic to treat it. It's less likely that a non-anxious person will go to an anxiety clinic. The general population of course has a bigger sample size so there will be more non-anxious people thna the clinic sample. "
   ]
  },
  {
   "cell_type": "markdown",
   "metadata": {},
   "source": [
    "## You launch a new ad billboard based campaign and see an increase in website visits in the first week.\n",
    "\n",
    "The time when the billboard was setup could of been the same time something interesting happens in the campaign. There might of been an event going on around the billboard during that first week. A specific demographic of people might of been at the events near the billboard."
   ]
  },
  {
   "cell_type": "markdown",
   "metadata": {},
   "source": [
    "## You launch a loyalty program but see no change in visits in the first week.\n",
    "\n",
    "The program could of been launched during a busy time of year. The program may of been not advertised enough. The rewards of subscribing to the program may of not been worth the cost. Most users are one-time users so they wouldn't want to subscribe to it. "
   ]
  }
 ],
 "metadata": {
  "kernelspec": {
   "display_name": "Python 3",
   "language": "python",
   "name": "python3"
  },
  "language_info": {
   "codemirror_mode": {
    "name": "ipython",
    "version": 3
   },
   "file_extension": ".py",
   "mimetype": "text/x-python",
   "name": "python",
   "nbconvert_exporter": "python",
   "pygments_lexer": "ipython3",
   "version": "3.7.1"
  },
  "toc": {
   "base_numbering": 1,
   "nav_menu": {},
   "number_sections": true,
   "sideBar": true,
   "skip_h1_title": false,
   "title_cell": "Table of Contents",
   "title_sidebar": "Contents",
   "toc_cell": true,
   "toc_position": {},
   "toc_section_display": true,
   "toc_window_display": false
  },
  "varInspector": {
   "cols": {
    "lenName": 16,
    "lenType": 16,
    "lenVar": 40
   },
   "kernels_config": {
    "python": {
     "delete_cmd_postfix": "",
     "delete_cmd_prefix": "del ",
     "library": "var_list.py",
     "varRefreshCmd": "print(var_dic_list())"
    },
    "r": {
     "delete_cmd_postfix": ") ",
     "delete_cmd_prefix": "rm(",
     "library": "var_list.r",
     "varRefreshCmd": "cat(var_dic_list()) "
    }
   },
   "types_to_exclude": [
    "module",
    "function",
    "builtin_function_or_method",
    "instance",
    "_Feature"
   ],
   "window_display": false
  }
 },
 "nbformat": 4,
 "nbformat_minor": 2
}
