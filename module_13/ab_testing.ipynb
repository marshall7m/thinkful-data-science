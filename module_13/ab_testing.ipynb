{
 "cells": [
  {
   "cell_type": "markdown",
   "metadata": {},
   "source": [
    "# Introduction"
   ]
  },
  {
   "cell_type": "markdown",
   "metadata": {},
   "source": [
    "### Imports"
   ]
  },
  {
   "cell_type": "code",
   "execution_count": 1,
   "metadata": {},
   "outputs": [],
   "source": [
    "\n",
    "import pandas as pd\n",
    "import numpy as np\n",
    "import matplotlib.pyplot as plt\n",
    "import seaborn as sns\n",
    "%matplotlib inline\n",
    "\n",
    "# Options for pandas\n",
    "pd.options.display.max_columns = 150\n",
    "pd.options.display.max_rows = 150"
   ]
  },
  {
   "cell_type": "markdown",
   "metadata": {
    "toc": true
   },
   "source": [
    "<h1>Table of Contents<span class=\"tocSkip\"></span></h1>\n",
    "<div class=\"toc\"><ul class=\"toc-item\"><li><span><a href=\"#Introduction\" data-toc-modified-id=\"Introduction-1\"><span class=\"toc-item-num\">1&nbsp;&nbsp;</span>Introduction</a></span><ul class=\"toc-item\"><li><ul class=\"toc-item\"><li><span><a href=\"#Imports\" data-toc-modified-id=\"Imports-1.0.1\"><span class=\"toc-item-num\">1.0.1&nbsp;&nbsp;</span>Imports</a></span></li></ul></li></ul></li><li><span><a href=\"#Drill-#1\" data-toc-modified-id=\"Drill-#1-2\"><span class=\"toc-item-num\">2&nbsp;&nbsp;</span>Drill #1</a></span><ul class=\"toc-item\"><li><ul class=\"toc-item\"><li><span><a href=\"#Does-a-new-supplement-help-people-sleep-better?\" data-toc-modified-id=\"Does-a-new-supplement-help-people-sleep-better?-2.0.1\"><span class=\"toc-item-num\">2.0.1&nbsp;&nbsp;</span>Does a new supplement help people sleep better?</a></span></li><li><span><a href=\"#Will-new-uniforms-help-a-gym's-business?\" data-toc-modified-id=\"Will-new-uniforms-help-a-gym's-business?-2.0.2\"><span class=\"toc-item-num\">2.0.2&nbsp;&nbsp;</span>Will new uniforms help a gym's business?</a></span></li><li><span><a href=\"#Will-a-new-homepage-improve-my-online-exotic-pet-rental-business?\" data-toc-modified-id=\"Will-a-new-homepage-improve-my-online-exotic-pet-rental-business?-2.0.3\"><span class=\"toc-item-num\">2.0.3&nbsp;&nbsp;</span>Will a new homepage improve my online exotic pet rental business?</a></span></li><li><span><a href=\"#If-I-put-'please-read'-in-the-email-subject-will-more-people-read-my-emails?\" data-toc-modified-id=\"If-I-put-'please-read'-in-the-email-subject-will-more-people-read-my-emails?-2.0.4\"><span class=\"toc-item-num\">2.0.4&nbsp;&nbsp;</span>If I put 'please read' in the email subject will more people read my emails?</a></span></li></ul></li></ul></li></ul></div>"
   ]
  },
  {
   "cell_type": "markdown",
   "metadata": {},
   "source": [
    "# Drill #1"
   ]
  },
  {
   "cell_type": "markdown",
   "metadata": {},
   "source": [
    "For each of the following questions, outline how you could use an A/B test to find an answer. Be sure to identify all five key components of an A/B test we outlined above."
   ]
  },
  {
   "cell_type": "markdown",
   "metadata": {},
   "source": [
    "### Does a new supplement help people sleep better?\n",
    "    \n",
    "Control Version (A):\n",
    "\n",
    "Using a sample of people who haven't and aren't currently using the test supplement\n",
    "\n",
    "Test Version (B):\n",
    "\n",
    "Using a sample of people who will use the supplement over a specific timeframe. \n",
    "\n",
    "Samples:\n",
    "\n",
    "Both samples have no experience with supplement before. Everyone should be the same weight and the gender distribution should be equal or all the same.\n",
    "\n",
    "Hypothesis:\n",
    "\n",
    "People who use the sleep supplement will have a higher sleep average compared to people not \n",
    "using the supplement.\n",
    "\n",
    "Controlled variables:\n",
    "\n",
    "- Physical exercise\n",
    "- Diet\n",
    "- Substance use\n",
    "- Room temperature\n",
    "- Bed type\n",
    "- Bedroom lighting\n",
    "- Sleeping attire\n",
    "\n",
    "\n",
    "\n",
    "### Will new uniforms help a gym's business?\n",
    "\n",
    "Control Version (A):\n",
    "\n",
    "Employees wear the old uniform for a specifc timeframe. \n",
    "\n",
    "Test Version (B):\n",
    "\n",
    "Employees wear the new uniforms for a specifc timeframe.\n",
    "\n",
    "Samples:\n",
    "\n",
    "Both samples should include the same employees. Experiment should not be runned when there are any classes or any special events at the gym. \n",
    "\n",
    "Hypothesis:\n",
    "\n",
    "New uniforms at the gym will help the gym business more than the old uniforms.\n",
    "\n",
    "### Will a new homepage improve my online exotic pet rental business?\n",
    "\n",
    "Control Version (A):\n",
    "\n",
    "Random users will expereience the original homepage. \n",
    "\n",
    "Test Version (B)\n",
    "\n",
    "Random users will expereience the new homepage. \n",
    "\n",
    "Samples:\n",
    "\n",
    "The chances of the users experiencing each homepage will be random at first. Although the user should only experience that homepage and not both. The content of the homepage should be the same for both homepages.\n",
    "\n",
    "Hypothesis:\n",
    "\n",
    "The new homepage will improve the online exotic pet rental business more than the original homepage.\n",
    "\n",
    "### If I put 'please read' in the email subject will more people read my emails?\n",
    "\n",
    "Control Version (A):\n",
    "\n",
    "Random users will see the original email subject.\n",
    "\n",
    "Test Version (B)\n",
    "\n",
    "Random users will see the 'please read' in the email subject. \n",
    "\n",
    "Samples:\n",
    "\n",
    "The content and urgency of the email subject should be the same.\n",
    "\n",
    "Hypothesis:\n",
    "\n",
    "Inserting 'please read' in the email subject will increase the amount of emails read by author.\n"
   ]
  }
 ],
 "metadata": {
  "kernelspec": {
   "display_name": "Python 3",
   "language": "python",
   "name": "python3"
  },
  "language_info": {
   "codemirror_mode": {
    "name": "ipython",
    "version": 3
   },
   "file_extension": ".py",
   "mimetype": "text/x-python",
   "name": "python",
   "nbconvert_exporter": "python",
   "pygments_lexer": "ipython3",
   "version": "3.7.1"
  },
  "toc": {
   "base_numbering": 1,
   "nav_menu": {},
   "number_sections": true,
   "sideBar": true,
   "skip_h1_title": false,
   "title_cell": "Table of Contents",
   "title_sidebar": "Contents",
   "toc_cell": true,
   "toc_position": {},
   "toc_section_display": true,
   "toc_window_display": false
  },
  "varInspector": {
   "cols": {
    "lenName": 16,
    "lenType": 16,
    "lenVar": 40
   },
   "kernels_config": {
    "python": {
     "delete_cmd_postfix": "",
     "delete_cmd_prefix": "del ",
     "library": "var_list.py",
     "varRefreshCmd": "print(var_dic_list())"
    },
    "r": {
     "delete_cmd_postfix": ") ",
     "delete_cmd_prefix": "rm(",
     "library": "var_list.r",
     "varRefreshCmd": "cat(var_dic_list()) "
    }
   },
   "types_to_exclude": [
    "module",
    "function",
    "builtin_function_or_method",
    "instance",
    "_Feature"
   ],
   "window_display": false
  }
 },
 "nbformat": 4,
 "nbformat_minor": 2
}
