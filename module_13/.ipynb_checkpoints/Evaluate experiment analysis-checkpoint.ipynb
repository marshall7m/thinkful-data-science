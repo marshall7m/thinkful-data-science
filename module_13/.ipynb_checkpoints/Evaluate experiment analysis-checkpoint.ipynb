{
 "cells": [
  {
   "cell_type": "markdown",
   "metadata": {
    "toc": true
   },
   "source": [
    "<h1>Table of Contents<span class=\"tocSkip\"></span></h1>\n",
    "<div class=\"toc\"><ul class=\"toc-item\"><li><span><a href=\"#Description\" data-toc-modified-id=\"Description-1\"><span class=\"toc-item-num\">1&nbsp;&nbsp;</span>Description</a></span></li><li><span><a href=\"#Prompt-#1\" data-toc-modified-id=\"Prompt-#1-2\"><span class=\"toc-item-num\">2&nbsp;&nbsp;</span>Prompt #1</a></span></li><li><span><a href=\"#Prompt-#2\" data-toc-modified-id=\"Prompt-#2-3\"><span class=\"toc-item-num\">3&nbsp;&nbsp;</span>Prompt #2</a></span></li><li><span><a href=\"#Prompt-#3\" data-toc-modified-id=\"Prompt-#3-4\"><span class=\"toc-item-num\">4&nbsp;&nbsp;</span>Prompt #3</a></span></li><li><span><a href=\"#Prompt-#4\" data-toc-modified-id=\"Prompt-#4-5\"><span class=\"toc-item-num\">5&nbsp;&nbsp;</span>Prompt #4</a></span></li><li><span><a href=\"#Prompt-#5\" data-toc-modified-id=\"Prompt-#5-6\"><span class=\"toc-item-num\">6&nbsp;&nbsp;</span>Prompt #5</a></span></li><li><span><a href=\"#Research-Proposal\" data-toc-modified-id=\"Research-Proposal-7\"><span class=\"toc-item-num\">7&nbsp;&nbsp;</span>Research Proposal</a></span></li></ul></div>"
   ]
  },
  {
   "cell_type": "markdown",
   "metadata": {},
   "source": [
    "# Description"
   ]
  },
  {
   "cell_type": "markdown",
   "metadata": {},
   "source": [
    "Now it's time to flex your critical evaluation skills. Read the following descriptions of an experiment and its analysis, identify the flaws in each, and describe what you would do to correct them."
   ]
  },
  {
   "cell_type": "markdown",
   "metadata": {},
   "source": [
    "# Prompt #1"
   ]
  },
  {
   "cell_type": "markdown",
   "metadata": {},
   "source": [
    "The Sith Lords are concerned that their recruiting slogan, \"Give In to Your Anger,\" isn't very effective. Darth Vader develops an alternative slogan, \"Together We Can Rule the Galaxy.\" They compare the slogans on two groups of 50 captured droids each. In one group, Emperor Palpatine delivers the \"Anger\" slogan. In the other, Darth Vader presents the \"Together\" slogan. 20 droids convert to the Dark Side after hearing Palpatine's slogan, while only 5 droids convert after hearing Vader's. The Sith's data scientist concludes that \"Anger\" is a more effective slogan and should continue to be used."
   ]
  },
  {
   "cell_type": "markdown",
   "metadata": {},
   "source": [
    "In regards to the design of the experiemnt, the speech before the slogan should be the same between both the Emperor and Vader. Since both characters carry a different background and reputation, one character may be more persuasive than the other. Depending on the era or timeframe within the galactic war, one slogan may have more leverage over the other. If the war doesn't look to promising for them, then Vader's slogan isn't as powerful and persuasive. "
   ]
  },
  {
   "cell_type": "markdown",
   "metadata": {},
   "source": [
    "# Prompt #2"
   ]
  },
  {
   "cell_type": "markdown",
   "metadata": {},
   "source": [
    "In the past, the Jedi have had difficulty with public relations. They send two envoys, Jar Jar Binks and Mace Windu, to four friendly and four unfriendly planets respectively, with the goal of promoting favorable feelings toward the Jedi. Upon their return, the envoys learn that Jar Jar was much more effective than Windu: Over 75% of the people surveyed said their attitudes had become more favorable after speaking with Jar Jar, while only 65% said their attitudes had become more favorable after speaking with Windu. This makes Windu angry, because he is sure that he had a better success rate than Jar Jar on every planet. The Jedi choose Jar Jar to be their representative in the future."
   ]
  },
  {
   "cell_type": "markdown",
   "metadata": {},
   "source": [
    "Windu may of had better results from what he seen but since the population of each planet will differ, Jar Jar may of spoken to more people. This ultimately leading to more people responding to the survey in favor of Jar Jar. By random chance, more people who listened to Jar Jar took the survey afterwards. The Windu listeners may of not wanted to take survey after. Especially if they were busy preparing for a war or somekind of other endeavor. If the timeframe from when the survey was given was different for each envoys then that could effect the results too. \n",
    "\n",
    "Since both envoys have differenet communication skills and style, Jar Jar may of been more charistmatic or knew when to smile at the right time. In addition, if the content and delivery of their speeches were different then that could explain why Jar Jar had more success. "
   ]
  },
  {
   "cell_type": "markdown",
   "metadata": {},
   "source": [
    "# Prompt #3"
   ]
  },
  {
   "cell_type": "markdown",
   "metadata": {},
   "source": [
    "A company with work sites in five different countries has sent you data on employee satisfaction rates for workers in Human Resources and workers in Information Technology. Most HR workers are concentrated in three of the countries, while IT workers are equally distributed across worksites. The company requests a report on satisfaction for each job type. You calculate average job satisfaction for HR and for IT and present the report."
   ]
  },
  {
   "cell_type": "markdown",
   "metadata": {},
   "source": [
    "The HR average job satisfaction may not truly represent the two subgroups that have less HR workers. For this case, it may be better to report HR satifaction for each country individually. "
   ]
  },
  {
   "cell_type": "markdown",
   "metadata": {},
   "source": [
    "# Prompt #4"
   ]
  },
  {
   "cell_type": "markdown",
   "metadata": {},
   "source": [
    "When people install the Happy Days Fitness Tracker app, they are asked to \"opt in\" to a data collection scheme where their level of physical activity data is automatically sent to the company for product research purposes. During your interview with the company, they tell you that the app is very effective because after installing the app, the data show that people's activity levels rise steadily."
   ]
  },
  {
   "cell_type": "markdown",
   "metadata": {},
   "source": [
    "This prompt is unclear and confusing"
   ]
  },
  {
   "cell_type": "markdown",
   "metadata": {},
   "source": [
    "# Prompt #5"
   ]
  },
  {
   "cell_type": "markdown",
   "metadata": {},
   "source": [
    "To prevent cheating, a teacher writes three versions of a test. She stacks the three versions together, first all copies of Version A, then all copies of Version B, then all copies of Version C. As students arrive for the exam, each student takes a test. When grading the test, the teacher finds that students who took Version B scored higher than students who took either Version A or Version C. She concludes from this that Version B is easier, and discards it."
   ]
  },
  {
   "cell_type": "markdown",
   "metadata": {},
   "source": [
    "The smarter students may of came into the room at the same time and took a majority of Version B test. Instead of stacking the test in order, the test should be staggered so that the test are different between students who come in at the same time. "
   ]
  },
  {
   "cell_type": "markdown",
   "metadata": {},
   "source": [
    "# Research Proposal"
   ]
  },
  {
   "cell_type": "markdown",
   "metadata": {},
   "source": [
    "Look back to the potential experiments in the previous assignment. For one of those experiments, write up the essential points of a research proposal for an improved version of that experiment."
   ]
  },
  {
   "cell_type": "markdown",
   "metadata": {},
   "source": [
    "Using prompt #5:\n",
    "\n",
    "To prevent cheating, a teacher writes three versions of a test. She stacks the three versions together, first all copies of Version A, then all copies of Version B, then all copies of Version C. As students arrive for the exam, each student takes a test. When grading the test, the teacher finds that students who took Version B scored higher than students who took either Version A or Version C. She concludes from this that Version B is easier, and discards it."
   ]
  },
  {
   "cell_type": "markdown",
   "metadata": {},
   "source": [
    "__Problem__:\n",
    "\n",
    "Stacking each version of the test together inaccurately determines the easiest version of the test. \n",
    "\n",
    "__Solution__:\n",
    "\n",
    "Administering different versions of the test in a staggered order will be a more effective way of accurately determining what test version is the easiest. Using A/B testing, one groups will take the test using all three test versions given in the stacked together order. The other group will take the test using all three test versions given in a staggered order. For example, the staggered order can be: version 1, version 2, version 3 and repeat. \n",
    "\n",
    "The variable of interest is the version of the test with the highest average grade. \n",
    "\n",
    "Total duration of the experiment will be one full week. Both groups will be given 4 days of instruction regarding the test material. Both groups will then have two full days to study for the test that is on the last day. \n",
    "\n",
    "If one test version has the highest average grade in both groups, conclude that the test version is the easiest and disregard the test. If the test version with the highest average score is different between the two groups, ...\n",
    "\n",
    "experiment only uses staggered test to see which test has the highest grade.\n",
    "\n",
    "\n"
   ]
  }
 ],
 "metadata": {
  "kernelspec": {
   "display_name": "Python 3",
   "language": "python",
   "name": "python3"
  },
  "language_info": {
   "codemirror_mode": {
    "name": "ipython",
    "version": 3
   },
   "file_extension": ".py",
   "mimetype": "text/x-python",
   "name": "python",
   "nbconvert_exporter": "python",
   "pygments_lexer": "ipython3",
   "version": "3.7.1"
  },
  "toc": {
   "base_numbering": 1,
   "nav_menu": {},
   "number_sections": true,
   "sideBar": true,
   "skip_h1_title": false,
   "title_cell": "Table of Contents",
   "title_sidebar": "Contents",
   "toc_cell": true,
   "toc_position": {},
   "toc_section_display": true,
   "toc_window_display": false
  },
  "varInspector": {
   "cols": {
    "lenName": 16,
    "lenType": 16,
    "lenVar": 40
   },
   "kernels_config": {
    "python": {
     "delete_cmd_postfix": "",
     "delete_cmd_prefix": "del ",
     "library": "var_list.py",
     "varRefreshCmd": "print(var_dic_list())"
    },
    "r": {
     "delete_cmd_postfix": ") ",
     "delete_cmd_prefix": "rm(",
     "library": "var_list.r",
     "varRefreshCmd": "cat(var_dic_list()) "
    }
   },
   "types_to_exclude": [
    "module",
    "function",
    "builtin_function_or_method",
    "instance",
    "_Feature"
   ],
   "window_display": false
  }
 },
 "nbformat": 4,
 "nbformat_minor": 2
}
