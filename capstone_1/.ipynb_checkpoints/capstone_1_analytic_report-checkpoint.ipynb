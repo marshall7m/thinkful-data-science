{
 "cells": [
  {
   "cell_type": "markdown",
   "metadata": {
    "toc": true
   },
   "source": [
    "<h1>Table of Contents<span class=\"tocSkip\"></span></h1>\n",
    "<div class=\"toc\"><ul class=\"toc-item\"><li><span><a href=\"#Preliminary-Questions\" data-toc-modified-id=\"Preliminary-Questions-1\"><span class=\"toc-item-num\">1&nbsp;&nbsp;</span>Preliminary Questions</a></span></li><li><span><a href=\"#Imports\" data-toc-modified-id=\"Imports-2\"><span class=\"toc-item-num\">2&nbsp;&nbsp;</span>Imports</a></span></li><li><span><a href=\"#Process-Data\" data-toc-modified-id=\"Process-Data-3\"><span class=\"toc-item-num\">3&nbsp;&nbsp;</span>Process Data</a></span></li><li><span><a href=\"#Explore-Data\" data-toc-modified-id=\"Explore-Data-4\"><span class=\"toc-item-num\">4&nbsp;&nbsp;</span>Explore Data</a></span></li><li><span><a href=\"#Investigate\" data-toc-modified-id=\"Investigate-5\"><span class=\"toc-item-num\">5&nbsp;&nbsp;</span>Investigate</a></span></li></ul></div>"
   ]
  },
  {
   "cell_type": "markdown",
   "metadata": {},
   "source": [
    "Describe your dataset. Describe and explore your dataset in the initial section of your Report. What does your data contain and what is its background? Where does it come from? Why is it interesting or significant? Conduct summary statistics and produce visualizations for the particular variables from the dataset that you will use.\n",
    "\n",
    "Ask and answer analytic questions. Ask three analytic questions and answer each one with a combination of statistics and visualizations. These analytic questions can focus on individuals behaviors or comparisons of the population.\n",
    "\n",
    "Propose further research. Lastly, make a proposal for a realistic future research project on this dataset that would use some data science techniques you'd like to learn in the bootcamp. Just like your earlier questions, your research proposal should present one or more clear questions. Then you should describe the techniques you would apply in order to arrive at an answer.\n",
    "\n",
    "See this recent analysis on 2016 celebrity deaths for an excellent example of data-driven story telling that presents a problem, explores data, and produces an answer. The analytics are more robust techniques than we've covered so far, but the general idea and tone are spot on.\n",
    "\n",
    "Report guidelines\n",
    "Keep these guidelines in mind as you draft your Report:\n",
    "\n",
    "Length. Your Report should be three to five pages long with visualizations. Short and clear is better than long and opaque.\n",
    "Structure. Pay attention to the narrative structure of your Report. Each section should flow into the next and make a logical, readable text. Don't simply create a list of bullet points or present code without explanation.\n",
    "\n",
    "\n",
    "Once you've loaded your data, dig around with pandas and matplotlib to explore it. What variables does your data contain and what distributions do you think they have? Does the data bear on the preliminary questions you wrote down? What new questions might you answer? How does the data look when you plot it out?\n",
    "\n",
    "At this point you should be ready to start writing your Report. Decide what format to use, which three analytic questions you'll ask and answer, which research questions you'd like to ask and which data science techniques might be appropriate to answering them. If necessary, do independent research now about the field of data science, or discuss the topic with your mentor, to decide which potential techniques you could use.\n",
    "\n",
    "Use at least 2-3 different types of charts to display the data.\n",
    "Be clear about any assumptions you make about the data and validate those assumptions if possible.\n",
    "Ensure that your dataset actually has the information to answer the questions you're asking. Does the dataset have a bias? Is it incomplete? Problems with your dataset can easily lead to problems in your analysis if you don't address them.\n",
    "Assignment\n",
    "When you're ready, submit your final Report at the bottom of this page. Try to have a final discussion with your mentor about your work before you present your capstone."
   ]
  },
  {
   "cell_type": "markdown",
   "metadata": {},
   "source": [
    "# Preliminary Questions"
   ]
  },
  {
   "cell_type": "markdown",
   "metadata": {},
   "source": [
    "Loneliness:\n",
    "Are people in the city more lonely?\n",
    "What do lonely people have in common?\n",
    "Health, music taste etc.\n",
    "\n",
    "does internet use decrease as you age?\n"
   ]
  },
  {
   "cell_type": "markdown",
   "metadata": {},
   "source": [
    "# Imports"
   ]
  },
  {
   "cell_type": "code",
   "execution_count": 1,
   "metadata": {},
   "outputs": [],
   "source": [
    "import pandas as pd\n",
    "import numpy as np\n",
    "import matplotlib.pyplot as plt\n",
    "from sklearn.metrics import confusion_matrix\n",
    "from collections import Counter\n",
    "import seaborn as sns\n",
    "%matplotlib inline"
   ]
  },
  {
   "cell_type": "code",
   "execution_count": 2,
   "metadata": {},
   "outputs": [],
   "source": [
    "col_data = pd.read_csv('young-people-survey/columns.csv')\n",
    "response_data = pd.read_csv('young-people-survey/responses.csv')"
   ]
  },
  {
   "cell_type": "markdown",
   "metadata": {},
   "source": [
    "# Process Data"
   ]
  },
  {
   "cell_type": "code",
   "execution_count": 7,
   "metadata": {},
   "outputs": [
    {
     "name": "stdout",
     "output_type": "stream",
     "text": [
      "Columns: 135\n"
     ]
    }
   ],
   "source": [
    "features_to_remove = ['Left - right handed', 'Education', \n",
    "                      'House - block of flats', 'Number of siblings', \n",
    "                      'Questionnaires or polls', 'Pets', 'Flying',\n",
    "                      'Storm','Darkness','Heights','Spiders','Snakes',\n",
    "                      'Rats','Ageing','Dangerous dogs','Fear of public speaking']\n",
    "response_data.drop(features_to_remove, axis = 1, inplace = True)\n",
    "print(\"Columns: {}\".format(len(response_data.columns)))"
   ]
  },
  {
   "cell_type": "markdown",
   "metadata": {},
   "source": [
    "# Explore Data"
   ]
  },
  {
   "cell_type": "code",
   "execution_count": 3,
   "metadata": {
    "scrolled": true
   },
   "outputs": [
    {
     "data": {
      "text/plain": [
       "([<matplotlib.axis.XTick at 0x10a28ddd8>,\n",
       "  <matplotlib.axis.XTick at 0x10a28d710>,\n",
       "  <matplotlib.axis.XTick at 0x10a28d438>,\n",
       "  <matplotlib.axis.XTick at 0xe1d772eb8>,\n",
       "  <matplotlib.axis.XTick at 0x10b0755f8>,\n",
       "  <matplotlib.axis.XTick at 0x10b075ac8>,\n",
       "  <matplotlib.axis.XTick at 0x10b075748>,\n",
       "  <matplotlib.axis.XTick at 0x10b084160>,\n",
       "  <matplotlib.axis.XTick at 0x10b0845f8>,\n",
       "  <matplotlib.axis.XTick at 0x10b084b00>,\n",
       "  <matplotlib.axis.XTick at 0x10b08c0b8>,\n",
       "  <matplotlib.axis.XTick at 0x10b08c550>,\n",
       "  <matplotlib.axis.XTick at 0x10b08ca58>,\n",
       "  <matplotlib.axis.XTick at 0x10b08cf60>,\n",
       "  <matplotlib.axis.XTick at 0x10b0934a8>,\n",
       "  <matplotlib.axis.XTick at 0x10b08ca20>],\n",
       " <a list of 16 Text xticklabel objects>)"
      ]
     },
     "execution_count": 3,
     "metadata": {},
     "output_type": "execute_result"
    },
    {
     "data": {
      "image/png": "[encoded data removed]",
      "text/plain": [
       "<Figure size 432x288 with 1 Axes>"
      ]
     },
     "metadata": {
      "needs_background": "light"
     },
     "output_type": "display_data"
    }
   ],
   "source": [
    "age = response_data.Age.value_counts().keys().to_list()\n",
    "age = list(np.int_(age))\n",
    "age_count = response_data.Age.value_counts().values\n",
    "\n",
    "plt.bar(age, age_count)\n",
    "plt.title('Age Count')\n",
    "plt.xlabel('age')\n",
    "plt.ylabel('count')\n",
    "plt.xticks(age)"
   ]
  },
  {
   "cell_type": "markdown",
   "metadata": {},
   "source": [
    "# Investigate"
   ]
  },
  {
   "cell_type": "code",
   "execution_count": 71,
   "metadata": {
    "scrolled": true
   },
   "outputs": [
    {
     "name": "stdout",
     "output_type": "stream",
     "text": [
      "272\n",
      "272\n"
     ]
    }
   ],
   "source": [
    "#find insight between lonely/not lonely\n",
    "lonely_data = response_data.loc[response_data[response_data['Loneliness'] >= 4].index]\n",
    "not_lonely = response_data.loc[response_data[response_data['Loneliness'] <= 2].index]\n",
    "not_lonely = not_lonely.sample(n= 272, random_state= 1)\n",
    "print(len(not_lonely))\n",
    "print(len(lonely_data))\n",
    "\n",
    "\n",
    "concat_list = [lonely_data, not_lonely]\n",
    "df = pd.concat(concat_list)"
   ]
  },
  {
   "cell_type": "code",
   "execution_count": 4,
   "metadata": {},
   "outputs": [],
   "source": [
    "response_data['internet_usage'] = response_data['Internet usage']\n",
    "\n",
    "internet_use_map = {'no time at all': 0,\n",
    "                    'less than an hour a day': 1,\n",
    "                    'few hours a day':2,\n",
    "                    'most of the day': 3}\n",
    "\n",
    "response_data['internet_use_code'] = response_data.internet_usage.map(internet_use_map)"
   ]
  },
  {
   "cell_type": "markdown",
   "metadata": {},
   "source": [
    "As we can see in the catplot below, majority of younger people are using the internet daily which no surprise. The people who fall under the category of using the internet a few hours a day and moderately lonely populate the catplot the most. "
   ]
  },
  {
   "cell_type": "code",
   "execution_count": 76,
   "metadata": {},
   "outputs": [
    {
     "data": {
      "image/png": "[encoded data removed]",
      "text/plain": [
       "<Figure size 576x288 with 4 Axes>"
      ]
     },
     "metadata": {
      "needs_background": "light"
     },
     "output_type": "display_data"
    }
   ],
   "source": [
    "sns.catplot(x= 'Loneliness', col=\"internet_use_code\",\n",
    "            data=df, kind=\"count\",\n",
    "               height=4, aspect=.5);\n"
   ]
  },
  {
   "cell_type": "code",
   "execution_count": 78,
   "metadata": {
    "scrolled": true
   },
   "outputs": [
    {
     "data": {
      "image/png": "[encoded data removed]",
      "text/plain": [
       "<Figure size 288x288 with 2 Axes>"
      ]
     },
     "metadata": {
      "needs_background": "light"
     },
     "output_type": "display_data"
    }
   ],
   "source": [
    "sns.catplot(x= 'Loneliness', col= 'Village - town',\n",
    "            data=df, kind=\"count\",\n",
    "               height=4, aspect=.5);\n"
   ]
  },
  {
   "cell_type": "code",
   "execution_count": null,
   "metadata": {},
   "outputs": [],
   "source": [
    "#scatterplot weight or height with loneliness"
   ]
  }
 ],
 "metadata": {
  "kernelspec": {
   "display_name": "Python 3",
   "language": "python",
   "name": "python3"
  },
  "language_info": {
   "codemirror_mode": {
    "name": "ipython",
    "version": 3
   },
   "file_extension": ".py",
   "mimetype": "text/x-python",
   "name": "python",
   "nbconvert_exporter": "python",
   "pygments_lexer": "ipython3",
   "version": "3.7.2"
  },
  "toc": {
   "base_numbering": 1,
   "nav_menu": {},
   "number_sections": true,
   "sideBar": true,
   "skip_h1_title": false,
   "title_cell": "Table of Contents",
   "title_sidebar": "Contents",
   "toc_cell": true,
   "toc_position": {},
   "toc_section_display": true,
   "toc_window_display": false
  },
  "varInspector": {
   "cols": {
    "lenName": 16,
    "lenType": 16,
    "lenVar": 40
   },
   "kernels_config": {
    "python": {
     "delete_cmd_postfix": "",
     "delete_cmd_prefix": "del ",
     "library": "var_list.py",
     "varRefreshCmd": "print(var_dic_list())"
    },
    "r": {
     "delete_cmd_postfix": ") ",
     "delete_cmd_prefix": "rm(",
     "library": "var_list.r",
     "varRefreshCmd": "cat(var_dic_list()) "
    }
   },
   "types_to_exclude": [
    "module",
    "function",
    "builtin_function_or_method",
    "instance",
    "_Feature"
   ],
   "window_display": false
  }
 },
 "nbformat": 4,
 "nbformat_minor": 2
}
