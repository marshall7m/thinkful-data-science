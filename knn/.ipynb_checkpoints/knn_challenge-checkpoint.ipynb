{
 "cells": [
  {
   "cell_type": "markdown",
   "metadata": {
    "toc": true
   },
   "source": [
    "<h1>Table of Contents<span class=\"tocSkip\"></span></h1>\n",
    "<div class=\"toc\"><ul class=\"toc-item\"><li><span><a href=\"#Imports\" data-toc-modified-id=\"Imports-1\"><span class=\"toc-item-num\">1&nbsp;&nbsp;</span>Imports</a></span></li><li><span><a href=\"#Assignment\" data-toc-modified-id=\"Assignment-2\"><span class=\"toc-item-num\">2&nbsp;&nbsp;</span>Assignment</a></span></li><li><span><a href=\"#Clean-Dataset\" data-toc-modified-id=\"Clean-Dataset-3\"><span class=\"toc-item-num\">3&nbsp;&nbsp;</span>Clean Dataset</a></span></li><li><span><a href=\"#Modeling\" data-toc-modified-id=\"Modeling-4\"><span class=\"toc-item-num\">4&nbsp;&nbsp;</span>Modeling</a></span></li></ul></div>"
   ]
  },
  {
   "cell_type": "markdown",
   "metadata": {},
   "source": [
    "# Imports"
   ]
  },
  {
   "cell_type": "code",
   "execution_count": 20,
   "metadata": {},
   "outputs": [],
   "source": [
    "from statsmodels.tsa.stattools import acf\n",
    "import statsmodels.api as sm\n",
    "from sklearn.metrics import mean_absolute_error\n",
    "from scipy import stats\n",
    "from statsmodels.tools.eval_measures import mse, rmse\n",
    "import pandas as pd\n",
    "import numpy as np\n",
    "import matplotlib.pyplot as plt\n",
    "import seaborn as sns\n",
    "from sklearn.neighbors import KNeighborsRegressor\n",
    "from sklearn.linear_model import LinearRegression\n",
    "from sklearn.model_selection import train_test_split\n",
    "from sqlalchemy import create_engine\n",
    "from sklearn.model_selection import cross_validate\n",
    "\n",
    "%matplotlib inline\n",
    "\n",
    "# Options for pandas\n",
    "pd.options.display.max_columns = 150\n",
    "pd.options.display.max_rows = 150"
   ]
  },
  {
   "cell_type": "markdown",
   "metadata": {},
   "source": [
    "# Assignment"
   ]
  },
  {
   "cell_type": "markdown",
   "metadata": {},
   "source": [
    "Find a data set and build a KNN Regression and an OLS regression. Compare the two. How similar are they? Do they miss in different ways?\n",
    "\n",
    "Create a Jupyter notebook with your models. At the end in a markdown cell write a few paragraphs to describe the models' behaviors and why you favor one model or the other. Try to determine whether there is a situation where you would change your mind, or whether one is unambiguously better than the other. Lastly, try to note what it is about the data that causes the better model to outperform the weaker model. Submit a link to your notebook below."
   ]
  },
  {
   "cell_type": "code",
   "execution_count": 11,
   "metadata": {},
   "outputs": [],
   "source": [
    "postgres_user = 'dsbc_student'\n",
    "postgres_pw = '7*.8G9QH21'\n",
    "postgres_host = '142.93.121.174'\n",
    "postgres_port = '5432'\n",
    "postgres_db = 'houseprices'\n",
    "\n",
    "engine = create_engine('postgresql://{}:{}@{}:{}/{}'.format(\n",
    "    postgres_user, postgres_pw, postgres_host, postgres_port, postgres_db))\n",
    "housing_df = pd.read_sql_query('select * from houseprices',con=engine)\n",
    "\n",
    "engine.dispose()\n"
   ]
  },
  {
   "cell_type": "markdown",
   "metadata": {},
   "source": [
    "# Clean Dataset"
   ]
  },
  {
   "cell_type": "code",
   "execution_count": 12,
   "metadata": {},
   "outputs": [
    {
     "name": "stdout",
     "output_type": "stream",
     "text": [
      "Drop 28 rows with saleprice greater than $400,000\n"
     ]
    }
   ],
   "source": [
    "len(housing_df[housing_df['saleprice'] > 400000])\n",
    "print('Drop {} rows with saleprice greater than $400,000'.format(\n",
    "    len(housing_df[housing_df['saleprice'] > 400000])))\n",
    "housing_df = housing_df[housing_df['saleprice'] < 400000]"
   ]
  },
  {
   "cell_type": "code",
   "execution_count": 13,
   "metadata": {},
   "outputs": [],
   "source": [
    "fill_none_col = ['poolqc', 'miscfeature', 'alley', 'fence', 'fireplacequ', 'garagetype', \n",
    "                 'garagefinish', 'garagequal', 'garagecond', 'bsmtqual', 'bsmtcond', 'bsmtexposure',\n",
    "                 'bsmtfintype1', 'bsmtfintype2', 'masvnrtype', 'electrical']\n",
    "for col in fill_none_col:\n",
    "    housing_df[col] = housing_df[col].fillna('None')\n",
    "\n",
    "fill_zero_col = ['garageyrblt', 'masvnrarea']\n",
    "for col in fill_zero_col:\n",
    "    housing_df[col] = housing_df[col].fillna(0)\n",
    "    \n",
    "housing_df['lotfrontage'] = housing_df.groupby(\"neighborhood\")[\"lotfrontage\"].transform(\n",
    "    lambda x: x.fillna(x.median()))\n",
    "\n"
   ]
  },
  {
   "cell_type": "code",
   "execution_count": 14,
   "metadata": {},
   "outputs": [],
   "source": [
    "# create dummy variables for categorical features\n",
    "binary_count = 0\n",
    "for col in housing_df.columns:\n",
    "    # create dummy variables for binary features\n",
    "    if (housing_df[col].dtype == 'O') and (len(housing_df[col].value_counts()) == 2):\n",
    "        binary_col = housing_df[col].value_counts().keys()[0]\n",
    "        housing_df[\"is_\" + binary_col] = pd.get_dummies(housing_df[col], drop_first=True)\n",
    "        binary_count += 1\n",
    "        housing_df.drop(col, axis=1, inplace=True)\n",
    "    # create dummy variables for other multi-category features\n",
    "    elif (housing_df[col].dtype == 'O') and (len(housing_df[col].value_counts()) != 2):\n",
    "        housing_df = pd.concat([housing_df, pd.get_dummies(housing_df[col], prefix=col)], axis=1)\n",
    "        binary_count += 1\n",
    "        housing_df.drop(col, axis=1, inplace=True)"
   ]
  },
  {
   "cell_type": "code",
   "execution_count": 15,
   "metadata": {},
   "outputs": [],
   "source": [
    "# combine related variables within feature list\n",
    "\n",
    "housing_df['total_sf'] = housing_df.totalbsmtsf + housing_df.grlivarea + housing_df.garagearea \n",
    "+ housing_df.wooddecksf + housing_df.openporchsf + housing_df.poolarea\n",
    "\n",
    "housing_df['total_fullbaths'] = housing_df.bsmtfullbath + housing_df.fullbath\n",
    "housing_df['total_halfbaths'] = housing_df.bsmthalfbath + housing_df.halfbath"
   ]
  },
  {
   "cell_type": "markdown",
   "metadata": {},
   "source": [
    "# Modeling"
   ]
  },
  {
   "cell_type": "code",
   "execution_count": 39,
   "metadata": {},
   "outputs": [
    {
     "data": {
      "image/png": "[encoded data removed]",
      "text/plain": [
       "<Figure size 432x288 with 1 Axes>"
      ]
     },
     "metadata": {
      "needs_background": "light"
     },
     "output_type": "display_data"
    }
   ],
   "source": [
    "feature_list = list(housing_df.loc[:,housing_df.columns != 'saleprice'].columns[1:])\n",
    "\n",
    "train_x, test_x, train_y, test_y = train_test_split(\n",
    "    housing_df[feature_list], housing_df['saleprice'], test_size=.2)\n",
    "\n",
    "knn_scores = {}\n",
    "for num in range(1,50):\n",
    "    knn = KNeighborsRegressor(n_neighbors=num, weights='distance')\n",
    "    knn.fit(train_x, train_y)\n",
    "    knn_scores[num] = knn.score(test_x, test_y)\n",
    "\n",
    "plt.plot(knn_scores.values())\n",
    "plt.show()\n",
    "\n"
   ]
  },
  {
   "cell_type": "code",
   "execution_count": 40,
   "metadata": {},
   "outputs": [
    {
     "name": "stdout",
     "output_type": "stream",
     "text": [
      "Best K val: 5 ... Score: 0.7050670685549578\n"
     ]
    }
   ],
   "source": [
    "print('Best K val: {} ... Score: {}'.format(max(knn_scores, key=knn_scores.get), knn_scores[8]))"
   ]
  },
  {
   "cell_type": "code",
   "execution_count": 42,
   "metadata": {},
   "outputs": [
    {
     "name": "stdout",
     "output_type": "stream",
     "text": [
      "knn\n",
      "linear\n"
     ]
    },
    {
     "data": {
      "text/html": [
       "<div>\n",
       "<style scoped>\n",
       "    .dataframe tbody tr th:only-of-type {\n",
       "        vertical-align: middle;\n",
       "    }\n",
       "\n",
       "    .dataframe tbody tr th {\n",
       "        vertical-align: top;\n",
       "    }\n",
       "\n",
       "    .dataframe thead th {\n",
       "        text-align: right;\n",
       "    }\n",
       "</style>\n",
       "<table border=\"1\" class=\"dataframe\">\n",
       "  <thead>\n",
       "    <tr style=\"text-align: right;\">\n",
       "      <th></th>\n",
       "      <th>MAE</th>\n",
       "      <th>MAPE</th>\n",
       "      <th>r2</th>\n",
       "      <th>root_MSE</th>\n",
       "    </tr>\n",
       "    <tr>\n",
       "      <th>model_name</th>\n",
       "      <th></th>\n",
       "      <th></th>\n",
       "      <th></th>\n",
       "      <th></th>\n",
       "    </tr>\n",
       "  </thead>\n",
       "  <tbody>\n",
       "    <tr>\n",
       "      <th>knn</th>\n",
       "      <td>25627.177986</td>\n",
       "      <td>16.858425</td>\n",
       "      <td>1.00000</td>\n",
       "      <td>36168.475978</td>\n",
       "    </tr>\n",
       "    <tr>\n",
       "      <th>linear</th>\n",
       "      <td>15094.129985</td>\n",
       "      <td>9.398954</td>\n",
       "      <td>0.93195</td>\n",
       "      <td>21769.927290</td>\n",
       "    </tr>\n",
       "  </tbody>\n",
       "</table>\n",
       "</div>"
      ],
      "text/plain": [
       "                     MAE       MAPE       r2      root_MSE\n",
       "model_name                                                \n",
       "knn         25627.177986  16.858425  1.00000  36168.475978\n",
       "linear      15094.129985   9.398954  0.93195  21769.927290"
      ]
     },
     "execution_count": 42,
     "metadata": {},
     "output_type": "execute_result"
    }
   ],
   "source": [
    "knn = KNeighborsRegressor(n_neighbors=5, weights='distance')\n",
    "linear = LinearRegression()\n",
    "\n",
    "model_list = {'knn': knn, 'linear': linear}\n",
    "model_dict = []\n",
    "\n",
    "for name, model in model_list.items():\n",
    "    print(name)\n",
    "    model_stats = {}\n",
    "    \n",
    "    model.fit(train_x, train_y)\n",
    "\n",
    "    pred_y = model.predict(test_x)\n",
    "\n",
    "    model_stats['r2'] = model.score(train_x, train_y)\n",
    "    model_stats['root_MSE'] = np.sqrt(mse(test_y, pred_y))\n",
    "    model_stats['MAE'] = np.abs(test_y - pred_y).mean()\n",
    "    model_stats['MAPE'] = (np.abs(test_y - pred_y) / test_y).mean() * 100\n",
    "    model_stats['model_name'] = name\n",
    "\n",
    "\n",
    "    model_dict.append(model_stats)\n",
    "\n",
    "model_df = pd.DataFrame(model_dict).set_index('model_name')\n",
    "model_df"
   ]
  },
  {
   "cell_type": "markdown",
   "metadata": {},
   "source": [
    "With this specific training and testing set, the linear model performed the best based on all metrics above. The difference between the model's metrics were reasonably significant. The KNN RMSE was 40% higher than the linear model. This means that the KNN model innaccurately predicted more high value houses than the linear model. Another possible reason is that the KNN model's magnitude of high value errors for a small percentage houses were substantial.\n",
    "\n",
    "In favor of the linear model, the linear model's MAE was 10,533 units smaller than the KNN model. In regards to R^2 score's, the KNN model'score was at 100%. The overfitting seems like the results of using a substantial amount of features for training but when the KNN was trained only on the four strongest correlated features to sale price, the R^2 score was the same.\n",
    "\n",
    "One of the problems with KNN models is that it assumes that the unit of measurements is constant across all features. In this particular dataset, the difference in scale between features were significantly large (e.g. square feet and total fullbaths). Standardizing the data seemed like a possible solution although that lead to a substantial increased in all error metrics. "
   ]
  }
 ],
 "metadata": {
  "kernelspec": {
   "display_name": "Python 3",
   "language": "python",
   "name": "python3"
  },
  "language_info": {
   "codemirror_mode": {
    "name": "ipython",
    "version": 3
   },
   "file_extension": ".py",
   "mimetype": "text/x-python",
   "name": "python",
   "nbconvert_exporter": "python",
   "pygments_lexer": "ipython3",
   "version": "3.7.1"
  },
  "toc": {
   "base_numbering": 1,
   "nav_menu": {},
   "number_sections": true,
   "sideBar": true,
   "skip_h1_title": false,
   "title_cell": "Table of Contents",
   "title_sidebar": "Contents",
   "toc_cell": true,
   "toc_position": {},
   "toc_section_display": true,
   "toc_window_display": false
  },
  "varInspector": {
   "cols": {
    "lenName": 16,
    "lenType": 16,
    "lenVar": 40
   },
   "kernels_config": {
    "python": {
     "delete_cmd_postfix": "",
     "delete_cmd_prefix": "del ",
     "library": "var_list.py",
     "varRefreshCmd": "print(var_dic_list())"
    },
    "r": {
     "delete_cmd_postfix": ") ",
     "delete_cmd_prefix": "rm(",
     "library": "var_list.r",
     "varRefreshCmd": "cat(var_dic_list()) "
    }
   },
   "types_to_exclude": [
    "module",
    "function",
    "builtin_function_or_method",
    "instance",
    "_Feature"
   ],
   "window_display": false
  }
 },
 "nbformat": 4,
 "nbformat_minor": 2
}
