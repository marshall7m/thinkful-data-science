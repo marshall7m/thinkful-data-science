{
 "cells": [
  {
   "cell_type": "markdown",
   "metadata": {},
   "source": [
    "# Introduction"
   ]
  },
  {
   "cell_type": "markdown",
   "metadata": {},
   "source": [
    "### Imports"
   ]
  },
  {
   "cell_type": "code",
   "execution_count": 1,
   "metadata": {},
   "outputs": [],
   "source": [
    "import pandas as pd\n",
    "import numpy as np\n",
    "import matplotlib.pyplot as plt\n",
    "import seaborn as sns\n",
    "%matplotlib inline\n",
    "\n",
    "# Options for pandas\n",
    "pd.options.display.max_columns = 150\n",
    "pd.options.display.max_rows = 150"
   ]
  },
  {
   "cell_type": "markdown",
   "metadata": {},
   "source": [
    "Statistical power is a balance of three things: The size of your parameter of interest in the population. $\\mu$ The amount of variance in your population (the standard deviation). $\\sigma$ The sample size. (N)\n",
    "\n",
    "$$Power = \\dfrac{ \\mu}{\\sigma/N}$$"
   ]
  },
  {
   "cell_type": "markdown",
   "metadata": {
    "toc": true
   },
   "source": [
    "<h1>Table of Contents<span class=\"tocSkip\"></span></h1>\n",
    "<div class=\"toc\"><ul class=\"toc-item\"><li><span><a href=\"#Introduction\" data-toc-modified-id=\"Introduction-1\"><span class=\"toc-item-num\">1&nbsp;&nbsp;</span>Introduction</a></span><ul class=\"toc-item\"><li><ul class=\"toc-item\"><li><span><a href=\"#Imports\" data-toc-modified-id=\"Imports-1.0.1\"><span class=\"toc-item-num\">1.0.1&nbsp;&nbsp;</span>Imports</a></span></li></ul></li></ul></li></ul></div>"
   ]
  },
  {
   "cell_type": "markdown",
   "metadata": {},
   "source": [
    "__<font size=\"5\">Drill #1</font>__\n",
    "\n",
    "For each of the following, indicate the best question type to use and why.\n",
    "\n",
    "Age:\n",
    "\n",
    "Multiple choice (choose one) would be ideal since age is mutually exclusive. Write in question with a positive integer input requirement could be a better option in terms of space on the survey. Multiple choice would take up a lot of space on the survey if every age option was available. \n",
    "\n",
    "Gender:\n",
    "\n",
    "Multiple choice (Male/Female/other) \n",
    "\n",
    "Income:\n",
    "\n",
    "Multiple choice with each choice falling under an income range. Last option could be other for people who don't want to say their income. \n",
    "\n",
    "Opinions about dish soap:\n",
    "\n",
    "Write in question or multiple choice. For multiple choice, the choices depends on the intention of asking the question.\n",
    "\n",
    "Brand of dish soap used:\n",
    "\n",
    "Loaded question. The question has to be broken up into two. First question is if they use dish soap. If yes, then ask what brand of dish soap they use (write in).\n",
    "\n",
    "Preference for dish soap brand (Cleany, Sudsy, DeGreaser, Pinesoft):\n",
    "\n",
    "Ranking for every dish soap option. Ranking will get more ordered information out of the person rather than just getting one dish soap option they prefer out of the rest. \n",
    "\n",
    "Positive vs negative feelings about dish soap:\n",
    "\n",
    "Loaded question. First question should be if the person has a positive or negative feeling about dish soap. If yes, then ask person to write in their feeling about dish soap. "
   ]
  },
  {
   "cell_type": "markdown",
   "metadata": {},
   "source": [
    "__<font size= \"5\">Drill#2</font>__\n",
    "\n",
    "Here is a [link](https://action.donaldjtrump.com/mainstream-media-accountability-survey/) to a Mainstream Media Accountability Survey sent to the public by the Trump Administration in February 2017. Read over the survey and select five questions you believe can be improved. Describe the flaw you see and write an improved version of the question. For example, if the original question is: \"Americans are not fully aware just how much waste there is in the federal government.\" Yes No No Opinion\n",
    "\n",
    "The flaw is that this is a loaded question that presupposes the respondent agrees that there is waste in the federal government. To ask this question in a less-biased way, it would need to be converted to two questions:\n",
    "\n",
    "Select the option that describes your opinion of how the federal government handles money:\n",
    "Wastefully\n",
    "Efficiently\n",
    "No Opinion\n",
    "IF they selected a, then:\n",
    "\n",
    "Describe American public opinion about government waste.\n",
    "0 (Unaware) 1 2 (Somewhat Aware) 3 4 (Fully Aware)\n",
    "For each revised question, your version should attempt to get an unbiased picture of the respondent's opinion on the issue."
   ]
  },
  {
   "cell_type": "markdown",
   "metadata": {},
   "source": [
    "__<font size= \"5\">Drill #3</font>__\n",
    "\n",
    "State whether a survey would be the best option for answering each of the following questions.\n",
    "\n",
    "\n",
    "Popularity of various Uber drivers. \n",
    "\n",
    "- Survey would not be the best option. The best option is to query the most popular Uber drivers from the Uber database.\n",
    "\n",
    "A grocery store wants to know how much people like strawberry, chocolate, and vanilla ice cream.\n",
    "\n",
    "- Survey would not be the best option. Metrics in regards to strawberry, chocolate, and vanilla ice cream sales would be the best predictor if people like the strawberries sold at the grocery store. \n",
    "\n",
    "Trojan wants to know whether their condoms are more popular among straight people or gay people. \n",
    "\n",
    "- Survey would be the best option since behavioral information and sex orientation isn't available to Trojan. \n",
    "\n",
    "Recently, rental rates for HappyCars have increased by 30%, which is quite unusual. You want to find out why this is happening and how to keep the increase going. \n",
    "\n",
    "- A survey would be the best option since the survey can ask the customer how they heard about HappyCars and why they chose HappyCars over other companies. Also if the company implemented a new feature or discount rate, asking if that affected their decision to use HappyCars. \n",
    "\n",
    "Assessing the success rate of a new advertising campaign. \n",
    "\n",
    "- Survey would not be the best option for evaluation success rate. Evaluating if the campaign reached specific markers would be more reliable. For example, evaluating if the user retention rate, total site traffic or click rate reached a specfic threshold. \n",
    "\n",
    "Measuring the effect of nurse/patient ratio on patient recovery rates in hospital wards.\n",
    "\n",
    "- Survey would not be the best option. Comparing recovery rates between smaller and larger nurse to patient ratios would be a better way of measuring the effect. The comparison would only be valid between similar patients in regards to illness and age. "
   ]
  }
 ],
 "metadata": {
  "kernelspec": {
   "display_name": "Python 3",
   "language": "python",
   "name": "python3"
  },
  "language_info": {
   "codemirror_mode": {
    "name": "ipython",
    "version": 3
   },
   "file_extension": ".py",
   "mimetype": "text/x-python",
   "name": "python",
   "nbconvert_exporter": "python",
   "pygments_lexer": "ipython3",
   "version": "3.7.1"
  },
  "toc": {
   "base_numbering": 1,
   "nav_menu": {},
   "number_sections": true,
   "sideBar": true,
   "skip_h1_title": false,
   "title_cell": "Table of Contents",
   "title_sidebar": "Contents",
   "toc_cell": true,
   "toc_position": {},
   "toc_section_display": true,
   "toc_window_display": false
  },
  "varInspector": {
   "cols": {
    "lenName": 16,
    "lenType": 16,
    "lenVar": 40
   },
   "kernels_config": {
    "python": {
     "delete_cmd_postfix": "",
     "delete_cmd_prefix": "del ",
     "library": "var_list.py",
     "varRefreshCmd": "print(var_dic_list())"
    },
    "r": {
     "delete_cmd_postfix": ") ",
     "delete_cmd_prefix": "rm(",
     "library": "var_list.r",
     "varRefreshCmd": "cat(var_dic_list()) "
    }
   },
   "types_to_exclude": [
    "module",
    "function",
    "builtin_function_or_method",
    "instance",
    "_Feature"
   ],
   "window_display": false
  }
 },
 "nbformat": 4,
 "nbformat_minor": 2
}
