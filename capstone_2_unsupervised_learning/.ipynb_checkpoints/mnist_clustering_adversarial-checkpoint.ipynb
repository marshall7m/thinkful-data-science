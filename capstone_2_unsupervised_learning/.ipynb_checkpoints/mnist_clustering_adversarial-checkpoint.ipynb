{
 "cells": [
  {
   "cell_type": "markdown",
   "metadata": {},
   "source": [
    "# Introduction"
   ]
  },
  {
   "cell_type": "markdown",
   "metadata": {},
   "source": [
    "### Imports"
   ]
  },
  {
   "cell_type": "code",
   "execution_count": 133,
   "metadata": {},
   "outputs": [],
   "source": [
    "\n",
    "import pandas as pd\n",
    "import numpy as np\n",
    "import matplotlib.pyplot as plt\n",
    "import seaborn as sns\n",
    "%matplotlib inline\n",
    "from sklearn import datasets\n",
    "\n",
    "# Options for pandas\n",
    "pd.options.display.max_columns = 150\n",
    "pd.options.display.max_rows = 150\n",
    "\n",
    "from sklearn.datasets import load_digits\n",
    "from sklearn.cluster import KMeans\n",
    "from collections import defaultdict\n",
    "import pickle\n",
    "from Simple_Adversarial_Examples.network.network import Network as network\n"
   ]
  },
  {
   "cell_type": "markdown",
   "metadata": {
    "toc": true
   },
   "source": [
    "<h1>Table of Contents<span class=\"tocSkip\"></span></h1>\n",
    "<div class=\"toc\"><ul class=\"toc-item\"><li><span><a href=\"#Introduction\" data-toc-modified-id=\"Introduction-1\"><span class=\"toc-item-num\">1&nbsp;&nbsp;</span>Introduction</a></span><ul class=\"toc-item\"><li><ul class=\"toc-item\"><li><span><a href=\"#Imports\" data-toc-modified-id=\"Imports-1.0.1\"><span class=\"toc-item-num\">1.0.1&nbsp;&nbsp;</span>Imports</a></span></li></ul></li></ul></li><li><span><a href=\"#Initial-Clusters\" data-toc-modified-id=\"Initial-Clusters-2\"><span class=\"toc-item-num\">2&nbsp;&nbsp;</span>Initial Clusters</a></span></li><li><span><a href=\"#Sub-Clusters\" data-toc-modified-id=\"Sub-Clusters-3\"><span class=\"toc-item-num\">3&nbsp;&nbsp;</span>Sub-Clusters</a></span></li><li><span><a href=\"#MLP\" data-toc-modified-id=\"MLP-4\"><span class=\"toc-item-num\">4&nbsp;&nbsp;</span>MLP</a></span></li></ul></div>"
   ]
  },
  {
   "cell_type": "code",
   "execution_count": null,
   "metadata": {},
   "outputs": [],
   "source": [
    "digits = load_digits()"
   ]
  },
  {
   "cell_type": "code",
   "execution_count": null,
   "metadata": {},
   "outputs": [],
   "source": [
    "digits.data.shape"
   ]
  },
  {
   "cell_type": "code",
   "execution_count": null,
   "metadata": {},
   "outputs": [],
   "source": [
    "plt.gray() \n",
    "plt.matshow(digits.images[1000]) \n",
    "plt.show() "
   ]
  },
  {
   "cell_type": "markdown",
   "metadata": {},
   "source": [
    "# Initial Clusters"
   ]
  },
  {
   "cell_type": "code",
   "execution_count": null,
   "metadata": {},
   "outputs": [],
   "source": [
    "km = KMeans(n_clusters=10)\n",
    "data = digits.data\n",
    "y_pred = km.fit_predict(data)\n"
   ]
  },
  {
   "cell_type": "markdown",
   "metadata": {},
   "source": [
    "# Sub-Clusters"
   ]
  },
  {
   "cell_type": "markdown",
   "metadata": {},
   "source": [
    "re cluster problematic cluster \n",
    "if cluster hads mislabeled points, re cluster\n",
    "\n",
    "what do you do with the clusters that have all correct labeled points?\n",
    "\n",
    "if NN predict x as mislabeled and x is not labeled correctly within clusters then x is adversarial"
   ]
  },
  {
   "cell_type": "code",
   "execution_count": null,
   "metadata": {},
   "outputs": [],
   "source": [
    "def get_problematic_clusters(y_true, y_pred,):\n",
    "    \n",
    "    # Get list of clusters with mislabeled digits\n",
    "    problematic_cluster_list = []\n",
    "\n",
    "    for i in range(len(np.unique(y_pred))):\n",
    "        label_count_list = list(pd.crosstab(y_true, y_pred)[i])\n",
    "        ratio = max(label_count_list)/sum(label_count_list)\n",
    "        if ratio != 1:\n",
    "            problematic_cluster_list.append(i)\n",
    "            print('Cluster: {} ... Ratio {}'.format(i, ratio))\n",
    "    return problematic_cluster_list\n",
    "        "
   ]
  },
  {
   "cell_type": "code",
   "execution_count": null,
   "metadata": {},
   "outputs": [],
   "source": [
    "problematic_cluster_list = get_problematic_clusters(digits.target, y_pred)"
   ]
  },
  {
   "cell_type": "code",
   "execution_count": null,
   "metadata": {},
   "outputs": [],
   "source": [
    "#create dictionary of cluster data and true digit labels\n",
    "def get_problematic_cluster_dict(y_pred, y_true, x_data, problematic_cluster_list):\n",
    "    problematic_cluster_dict = defaultdict(lambda: [], [])\n",
    "    for i,y in enumerate(y_pred):\n",
    "        if y in problematic_cluster_list:\n",
    "            problematic_cluster_dict['cluster_'+str(y)].append(x_data)\n",
    "            problematic_cluster_dict['cluster_' + str(y)+'_true'].append([y_true])\n",
    "    \n",
    "    return problematic_cluster_dict\n",
    "            \n",
    "\n",
    "            "
   ]
  },
  {
   "cell_type": "code",
   "execution_count": null,
   "metadata": {},
   "outputs": [],
   "source": [
    "problematic_cluster_dict = get_problematic_cluster_dict(y_pred, digits.target, data, problematic_cluster_list)"
   ]
  },
  {
   "cell_type": "markdown",
   "metadata": {},
   "source": [
    "run K-means to find problematic clusters\n",
    "if find problematic clusters\n",
    "get data of clusters and true y of data\n",
    "run k-means on data"
   ]
  },
  {
   "cell_type": "markdown",
   "metadata": {},
   "source": [
    "if y_pred == y_true\n",
    "\n",
    "save km model for specific cluster in model dict"
   ]
  },
  {
   "cell_type": "code",
   "execution_count": null,
   "metadata": {},
   "outputs": [],
   "source": [
    "#re-run K-means on each problematic cluster with n_cluster being number of mislabeled digits within cluster\n",
    "def kmeans_on_problematic_cluster(problematic_cluster_dict, problematic_cluster_list):\n",
    "    for cluster in problematic_cluster_list:\n",
    "        while len(problematic_cluster_list) != 0:\n",
    "            data_key = 'cluster_'+str(cluster)\n",
    "            label_key = 'cluster_'+str(cluster)+'_true'\n",
    "\n",
    "            data = problematic_cluster_dict[data_key][0]\n",
    "            for digit in problematic_cluster_dict[data_key][1:]:\n",
    "                data = np.vstack((data, digit))\n",
    "\n",
    "            n_clusters = len(np.unique(problematic_cluster_dict[label_key]))\n",
    "            km = KMeans(n_clusters=n_clusters)\n",
    "            y_pred = km.fit_predict(data)\n",
    "\n",
    "            problematic_cluster_list = get_problematic_clusters(problematic_cluster_dict[label_key], y_pred)\n",
    "            problematic_cluster_dict = get_problematic_cluster_dict(y_pred, problematic_cluster_dict[label_key], \n",
    "                                                                    data, problematic_cluster_list)\n",
    "    return "
   ]
  },
  {
   "cell_type": "code",
   "execution_count": null,
   "metadata": {},
   "outputs": [],
   "source": [
    "y_true = problematic_clusters['cluster_0_true']\n",
    "y_true = [y for sub_list in y_true for y in sub_list]\n",
    "y_true = np.array(y_true)\n",
    "\n"
   ]
  },
  {
   "cell_type": "code",
   "execution_count": null,
   "metadata": {},
   "outputs": [],
   "source": [
    "pd.crosstab(y_true, y_pred)"
   ]
  },
  {
   "cell_type": "markdown",
   "metadata": {},
   "source": [
    "Repeat Process:\n",
    "    - Indentify problematic clusters (clusters with mislabeled digits according true digit labels)\n",
    "    - Re-run K Means on problematic clusters separately\n",
    "  "
   ]
  },
  {
   "cell_type": "markdown",
   "metadata": {},
   "source": [
    "# MLP "
   ]
  },
  {
   "cell_type": "code",
   "execution_count": 144,
   "metadata": {
    "scrolled": true
   },
   "outputs": [
    {
     "ename": "ModuleNotFoundError",
     "evalue": "No module named 'network.network'; 'network' is not a package",
     "output_type": "error",
     "traceback": [
      "\u001b[0;31m---------------------------------------------------------------------------\u001b[0m",
      "\u001b[0;31mModuleNotFoundError\u001b[0m                       Traceback (most recent call last)",
      "\u001b[0;32m<ipython-input-144-7867701c502c>\u001b[0m in \u001b[0;36m<module>\u001b[0;34m\u001b[0m\n\u001b[1;32m      1\u001b[0m \u001b[0;32mwith\u001b[0m \u001b[0mopen\u001b[0m\u001b[0;34m(\u001b[0m\u001b[0;34m'Simple_Adversarial_Examples/network/trained_network.pkl'\u001b[0m\u001b[0;34m,\u001b[0m \u001b[0;34m'rb'\u001b[0m\u001b[0;34m)\u001b[0m \u001b[0;32mas\u001b[0m \u001b[0mf\u001b[0m\u001b[0;34m:\u001b[0m\u001b[0;34m\u001b[0m\u001b[0;34m\u001b[0m\u001b[0m\n\u001b[0;32m----> 2\u001b[0;31m      \u001b[0mnet\u001b[0m \u001b[0;34m=\u001b[0m \u001b[0mpickle\u001b[0m\u001b[0;34m.\u001b[0m\u001b[0mload\u001b[0m\u001b[0;34m(\u001b[0m\u001b[0mf\u001b[0m\u001b[0;34m)\u001b[0m\u001b[0;34m\u001b[0m\u001b[0;34m\u001b[0m\u001b[0m\n\u001b[0m\u001b[1;32m      3\u001b[0m \u001b[0;34m\u001b[0m\u001b[0m\n",
      "\u001b[0;31mModuleNotFoundError\u001b[0m: No module named 'network.network'; 'network' is not a package"
     ]
    }
   ],
   "source": [
    "with open('Simple_Adversarial_Examples/network/trained_network.pkl', 'rb') as f:\n",
    "     net = pickle.load(f)\n",
    "    "
   ]
  },
  {
   "cell_type": "code",
   "execution_count": 48,
   "metadata": {},
   "outputs": [],
   "source": [
    "def view_classify(img, ps):\n",
    "    ps = ps.data.numpy().squeeze()\n",
    "\n",
    "    fig, (ax1, ax2) = plt.subplots(figsize=(6,9), ncols=2)\n",
    "    ax1.imshow(img.reshape((28,28)), cmap='Greys')\n",
    "    ax1.axis('off')\n",
    "    ax2.barh(np.arange(10), ps)\n",
    "    ax2.set_aspect(0.1)\n",
    "    ax2.set_yticks(np.arange(10))\n",
    "    ax2.set_yticklabels(np.arange(10))\n",
    "    ax2.set_title('Class Probability')\n",
    "    ax2.set_xlim(0, 1.1)\n",
    "    plt.tight_layout()"
   ]
  },
  {
   "cell_type": "code",
   "execution_count": 53,
   "metadata": {},
   "outputs": [
    {
     "name": "stdout",
     "output_type": "stream",
     "text": [
      "Predicted Digit = 3\n"
     ]
    },
    {
     "data": {
      "text/plain": [
       "3"
      ]
     },
     "execution_count": 53,
     "metadata": {},
     "output_type": "execute_result"
    },
    {
     "data": {
      "image/png": "[encoded data removed]",
      "text/plain": [
       "<Figure size 432x648 with 2 Axes>"
      ]
     },
     "metadata": {
      "needs_background": "light"
     },
     "output_type": "display_data"
    }
   ],
   "source": [
    "def predict(img,model):\n",
    "    img = img.view(1,784).float()\n",
    "\n",
    "    with torch.no_grad():\n",
    "        log_prob = model(img)\n",
    "\n",
    "    ps = torch.exp(log_prob)\n",
    "    probab = list(ps.numpy()[0])\n",
    "    output = probab.index(max(probab))\n",
    "    print(\"Predicted Digit =\", output)\n",
    "    \n",
    "    view_classify(img, ps)\n",
    "    return output\n",
    "\n",
    "predict(test_data.data[200], model)"
   ]
  }
 ],
 "metadata": {
  "kernelspec": {
   "display_name": "Python 3",
   "language": "python",
   "name": "python3"
  },
  "language_info": {
   "codemirror_mode": {
    "name": "ipython",
    "version": 3
   },
   "file_extension": ".py",
   "mimetype": "text/x-python",
   "name": "python",
   "nbconvert_exporter": "python",
   "pygments_lexer": "ipython3",
   "version": "3.7.1"
  },
  "toc": {
   "base_numbering": 1,
   "nav_menu": {},
   "number_sections": true,
   "sideBar": true,
   "skip_h1_title": false,
   "title_cell": "Table of Contents",
   "title_sidebar": "Contents",
   "toc_cell": true,
   "toc_position": {},
   "toc_section_display": true,
   "toc_window_display": false
  },
  "varInspector": {
   "cols": {
    "lenName": 16,
    "lenType": 16,
    "lenVar": 40
   },
   "kernels_config": {
    "python": {
     "delete_cmd_postfix": "",
     "delete_cmd_prefix": "del ",
     "library": "var_list.py",
     "varRefreshCmd": "print(var_dic_list())"
    },
    "r": {
     "delete_cmd_postfix": ") ",
     "delete_cmd_prefix": "rm(",
     "library": "var_list.r",
     "varRefreshCmd": "cat(var_dic_list()) "
    }
   },
   "types_to_exclude": [
    "module",
    "function",
    "builtin_function_or_method",
    "instance",
    "_Feature"
   ],
   "window_display": false
  }
 },
 "nbformat": 4,
 "nbformat_minor": 2
}
