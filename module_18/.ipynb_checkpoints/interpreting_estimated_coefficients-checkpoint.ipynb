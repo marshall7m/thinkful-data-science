{
 "cells": [
  {
   "cell_type": "markdown",
   "metadata": {},
   "source": [
    "# Introduction"
   ]
  },
  {
   "cell_type": "markdown",
   "metadata": {},
   "source": [
    "### Imports"
   ]
  },
  {
   "cell_type": "code",
   "execution_count": 1,
   "metadata": {},
   "outputs": [],
   "source": [
    "from statsmodels.tsa.stattools import acf\n",
    "import statsmodels.api as sm\n",
    "import pandas as pd\n",
    "import numpy as np\n",
    "import matplotlib.pyplot as plt\n",
    "import seaborn as sns\n",
    "from sklearn.linear_model import LinearRegression\n",
    "from sklearn.model_selection import train_test_split\n",
    "from sqlalchemy import create_engine\n",
    "%matplotlib inline\n",
    "\n",
    "# Options for pandas\n",
    "pd.options.display.max_columns = 150\n",
    "pd.options.display.max_rows = 150"
   ]
  },
  {
   "cell_type": "markdown",
   "metadata": {
    "toc": true
   },
   "source": [
    "<h1>Table of Contents<span class=\"tocSkip\"></span></h1>\n",
    "<div class=\"toc\"><ul class=\"toc-item\"><li><span><a href=\"#Introduction\" data-toc-modified-id=\"Introduction-1\"><span class=\"toc-item-num\">1&nbsp;&nbsp;</span>Introduction</a></span><ul class=\"toc-item\"><li><ul class=\"toc-item\"><li><span><a href=\"#Imports\" data-toc-modified-id=\"Imports-1.0.1\"><span class=\"toc-item-num\">1.0.1&nbsp;&nbsp;</span>Imports</a></span></li><li><span><a href=\"#1.-Interpretation-and-significance\" data-toc-modified-id=\"1.-Interpretation-and-significance-1.0.2\"><span class=\"toc-item-num\">1.0.2&nbsp;&nbsp;</span>1. Interpretation and significance</a></span></li><li><span><a href=\"#2.-Weather-model\" data-toc-modified-id=\"2.-Weather-model-1.0.3\"><span class=\"toc-item-num\">1.0.3&nbsp;&nbsp;</span>2. Weather model</a></span></li><li><span><a href=\"#3.-House-prices-model\" data-toc-modified-id=\"3.-House-prices-model-1.0.4\"><span class=\"toc-item-num\">1.0.4&nbsp;&nbsp;</span>3. House prices model</a></span></li></ul></li></ul></li></ul></div>"
   ]
  },
  {
   "cell_type": "markdown",
   "metadata": {},
   "source": [
    "### 1. Interpretation and significance\n",
    "\n",
    "Suppose that we would like to know how much families in the US are spending on recreation annually. We've estimated the following model:\n",
    "\n",
    "$$ expenditure = 873 + 0.0012annual\\_income + 0.00002annual\\_income^2 - 223.57have\\_kids $$\n",
    "\n",
    "*expenditure* is the annual spending on recreation in US dollars, *annual_income* is the annual income in US dollars, and *have_kids* is a dummy variable indicating the families with children. Interpret the estimated coefficients. What additional statistics should be given in order to make sure that your interpretations make sense statistically. Write up your answer."
   ]
  },
  {
   "cell_type": "markdown",
   "metadata": {},
   "source": [
    "1. The first annual income coefficient means that for every dollar of income, expenditure increases .0012. For example, an annual income of 10,000 = $12 expenditure. For the second coefficient, the annual income is squared and then times by the coefficient of .00002. Since the correlation between expenditure and annual income is quadratic, the magnitude increases as annual income increases. Lastly, the \"have kids\" variable is a binary categorical feature (0: no kids, 1: has kids). If the family has kids then 223.57 is minus from the rest of the equation and zero if they don't.\n",
    "\n",
    "\n",
    "2. T-test with corresponding p-value: This will give insight on which independent variable makes a significant difference on outcome variable. If the p-value is less than .05 then that specific variable does make a significant difference on the outcome variable.\n"
   ]
  },
  {
   "cell_type": "markdown",
   "metadata": {},
   "source": [
    "### 2. Weather model\n",
    "\n",
    "In this exercise, you'll work with the historical temperature data from the previous checkpoint. To complete this assignment, submit a link to a Jupyter notebook containing your solutions to the following tasks:\n",
    "\n",
    "* First, load the dataset from the **weatherinszeged** table from Thinkful's database.\n",
    "* Build a linear regression model where your target variable is the difference between the *apparenttemperature* and the *temperature*. As explanatory variables, use *humidity* and *windspeed*. Now, estimate your model using OLS. Are the estimated coefficients statistically significant? Are the signs of the estimated coefficients in line with your previous expectations? Interpret the estimated coefficients. What are the relations between the target and the explanatory variables? \n",
    "* Next, include the interaction of *humidity* and *windspeed* to the model above and estimate the model using OLS. Are the coefficients statistically significant? Did the signs of the estimated coefficients for *humidity* and *windspeed* change? Interpret the estimated coefficients."
   ]
  },
  {
   "cell_type": "code",
   "execution_count": 2,
   "metadata": {},
   "outputs": [],
   "source": [
    "postgres_user = 'dsbc_student'\n",
    "postgres_pw = '7*.8G9QH21'\n",
    "postgres_host = '142.93.121.174'\n",
    "postgres_port = '5432'\n",
    "postgres_db = 'weatherinszeged'\n",
    "\n",
    "engine = create_engine('postgresql://{}:{}@{}:{}/{}'.format(\n",
    "    postgres_user, postgres_pw, postgres_host, postgres_port, postgres_db))\n",
    "\n",
    "weather_df = pd.read_sql_query('select * from weatherinszeged',con=engine)\n",
    "\n",
    "# no need for an open connection, as we're only doing a single query\n",
    "engine.dispose()"
   ]
  },
  {
   "cell_type": "code",
   "execution_count": 3,
   "metadata": {},
   "outputs": [
    {
     "data": {
      "text/html": [
       "<table class=\"simpletable\">\n",
       "<caption>OLS Regression Results</caption>\n",
       "<tr>\n",
       "  <th>Dep. Variable:</th>       <td>target_temp</td>   <th>  R-squared:         </th>  <td>   0.288</td>  \n",
       "</tr>\n",
       "<tr>\n",
       "  <th>Model:</th>                   <td>OLS</td>       <th>  Adj. R-squared:    </th>  <td>   0.288</td>  \n",
       "</tr>\n",
       "<tr>\n",
       "  <th>Method:</th>             <td>Least Squares</td>  <th>  F-statistic:       </th>  <td>1.949e+04</td> \n",
       "</tr>\n",
       "<tr>\n",
       "  <th>Date:</th>             <td>Mon, 15 Jul 2019</td> <th>  Prob (F-statistic):</th>   <td>  0.00</td>   \n",
       "</tr>\n",
       "<tr>\n",
       "  <th>Time:</th>                 <td>16:57:42</td>     <th>  Log-Likelihood:    </th> <td>-1.7046e+05</td>\n",
       "</tr>\n",
       "<tr>\n",
       "  <th>No. Observations:</th>      <td> 96453</td>      <th>  AIC:               </th>  <td>3.409e+05</td> \n",
       "</tr>\n",
       "<tr>\n",
       "  <th>Df Residuals:</th>          <td> 96450</td>      <th>  BIC:               </th>  <td>3.409e+05</td> \n",
       "</tr>\n",
       "<tr>\n",
       "  <th>Df Model:</th>              <td>     2</td>      <th>                     </th>      <td> </td>     \n",
       "</tr>\n",
       "<tr>\n",
       "  <th>Covariance Type:</th>      <td>nonrobust</td>    <th>                     </th>      <td> </td>     \n",
       "</tr>\n",
       "</table>\n",
       "<table class=\"simpletable\">\n",
       "<tr>\n",
       "      <td></td>         <th>coef</th>     <th>std err</th>      <th>t</th>      <th>P>|t|</th>  <th>[0.025</th>    <th>0.975]</th>  \n",
       "</tr>\n",
       "<tr>\n",
       "  <th>const</th>     <td>    2.4381</td> <td>    0.021</td> <td>  115.948</td> <td> 0.000</td> <td>    2.397</td> <td>    2.479</td>\n",
       "</tr>\n",
       "<tr>\n",
       "  <th>humidity</th>  <td>   -3.0292</td> <td>    0.024</td> <td> -126.479</td> <td> 0.000</td> <td>   -3.076</td> <td>   -2.982</td>\n",
       "</tr>\n",
       "<tr>\n",
       "  <th>windspeed</th> <td>   -0.1193</td> <td>    0.001</td> <td> -176.164</td> <td> 0.000</td> <td>   -0.121</td> <td>   -0.118</td>\n",
       "</tr>\n",
       "</table>\n",
       "<table class=\"simpletable\">\n",
       "<tr>\n",
       "  <th>Omnibus:</th>       <td>3935.747</td> <th>  Durbin-Watson:     </th> <td>   0.267</td>\n",
       "</tr>\n",
       "<tr>\n",
       "  <th>Prob(Omnibus):</th>  <td> 0.000</td>  <th>  Jarque-Bera (JB):  </th> <td>4613.311</td>\n",
       "</tr>\n",
       "<tr>\n",
       "  <th>Skew:</th>           <td>-0.478</td>  <th>  Prob(JB):          </th> <td>    0.00</td>\n",
       "</tr>\n",
       "<tr>\n",
       "  <th>Kurtosis:</th>       <td> 3.484</td>  <th>  Cond. No.          </th> <td>    88.1</td>\n",
       "</tr>\n",
       "</table><br/><br/>Warnings:<br/>[1] Standard Errors assume that the covariance matrix of the errors is correctly specified."
      ],
      "text/plain": [
       "<class 'statsmodels.iolib.summary.Summary'>\n",
       "\"\"\"\n",
       "                            OLS Regression Results                            \n",
       "==============================================================================\n",
       "Dep. Variable:            target_temp   R-squared:                       0.288\n",
       "Model:                            OLS   Adj. R-squared:                  0.288\n",
       "Method:                 Least Squares   F-statistic:                 1.949e+04\n",
       "Date:                Mon, 15 Jul 2019   Prob (F-statistic):               0.00\n",
       "Time:                        16:57:42   Log-Likelihood:            -1.7046e+05\n",
       "No. Observations:               96453   AIC:                         3.409e+05\n",
       "Df Residuals:                   96450   BIC:                         3.409e+05\n",
       "Df Model:                           2                                         \n",
       "Covariance Type:            nonrobust                                         \n",
       "==============================================================================\n",
       "                 coef    std err          t      P>|t|      [0.025      0.975]\n",
       "------------------------------------------------------------------------------\n",
       "const          2.4381      0.021    115.948      0.000       2.397       2.479\n",
       "humidity      -3.0292      0.024   -126.479      0.000      -3.076      -2.982\n",
       "windspeed     -0.1193      0.001   -176.164      0.000      -0.121      -0.118\n",
       "==============================================================================\n",
       "Omnibus:                     3935.747   Durbin-Watson:                   0.267\n",
       "Prob(Omnibus):                  0.000   Jarque-Bera (JB):             4613.311\n",
       "Skew:                          -0.478   Prob(JB):                         0.00\n",
       "Kurtosis:                       3.484   Cond. No.                         88.1\n",
       "==============================================================================\n",
       "\n",
       "Warnings:\n",
       "[1] Standard Errors assume that the covariance matrix of the errors is correctly specified.\n",
       "\"\"\""
      ]
     },
     "execution_count": 3,
     "metadata": {},
     "output_type": "execute_result"
    }
   ],
   "source": [
    "weather_df['wind_and_humidity'] = weather_df.windspeed * weather_df.humidity\n",
    "weather_df['target_temp'] = weather_df.apparenttemperature - weather_df.temperature\n",
    "\n",
    "model = LinearRegression()\n",
    "\n",
    "X = weather_df[['humidity', 'windspeed']]\n",
    "\n",
    "Y = weather_df['target_temp']\n",
    "\n",
    "model.fit(X, Y)\n",
    "\n",
    "X = sm.add_constant(X)\n",
    "\n",
    "pred = sm.OLS(Y, X).fit()\n",
    "\n",
    "pred.summary()"
   ]
  },
  {
   "cell_type": "markdown",
   "metadata": {},
   "source": [
    "The humidity and windspeed variables are statistically significant in terms of predicting the difference between the apparent and actual temperature. This is also the case when only predicting temperature. \n",
    "\n",
    "The coefficients can be interpreted as:\n",
    "\n",
    "$$-3.0292\\_humidiity +  -0.1193\\_windspeed $$\n",
    "\n",
    "The coefficients for both variables are negative. As humidity and windspeed increase, the difference between apparent temperature and temperature increases. "
   ]
  },
  {
   "cell_type": "code",
   "execution_count": 4,
   "metadata": {
    "scrolled": false
   },
   "outputs": [
    {
     "data": {
      "text/html": [
       "<table class=\"simpletable\">\n",
       "<caption>OLS Regression Results</caption>\n",
       "<tr>\n",
       "  <th>Dep. Variable:</th>       <td>target_temp</td>   <th>  R-squared:         </th>  <td>   0.341</td>  \n",
       "</tr>\n",
       "<tr>\n",
       "  <th>Model:</th>                   <td>OLS</td>       <th>  Adj. R-squared:    </th>  <td>   0.341</td>  \n",
       "</tr>\n",
       "<tr>\n",
       "  <th>Method:</th>             <td>Least Squares</td>  <th>  F-statistic:       </th>  <td>1.666e+04</td> \n",
       "</tr>\n",
       "<tr>\n",
       "  <th>Date:</th>             <td>Mon, 15 Jul 2019</td> <th>  Prob (F-statistic):</th>   <td>  0.00</td>   \n",
       "</tr>\n",
       "<tr>\n",
       "  <th>Time:</th>                 <td>16:57:42</td>     <th>  Log-Likelihood:    </th> <td>-1.6669e+05</td>\n",
       "</tr>\n",
       "<tr>\n",
       "  <th>No. Observations:</th>      <td> 96453</td>      <th>  AIC:               </th>  <td>3.334e+05</td> \n",
       "</tr>\n",
       "<tr>\n",
       "  <th>Df Residuals:</th>          <td> 96449</td>      <th>  BIC:               </th>  <td>3.334e+05</td> \n",
       "</tr>\n",
       "<tr>\n",
       "  <th>Df Model:</th>              <td>     3</td>      <th>                     </th>      <td> </td>     \n",
       "</tr>\n",
       "<tr>\n",
       "  <th>Covariance Type:</th>      <td>nonrobust</td>    <th>                     </th>      <td> </td>     \n",
       "</tr>\n",
       "</table>\n",
       "<table class=\"simpletable\">\n",
       "<tr>\n",
       "          <td></td>             <th>coef</th>     <th>std err</th>      <th>t</th>      <th>P>|t|</th>  <th>[0.025</th>    <th>0.975]</th>  \n",
       "</tr>\n",
       "<tr>\n",
       "  <th>const</th>             <td>    0.0839</td> <td>    0.033</td> <td>    2.511</td> <td> 0.012</td> <td>    0.018</td> <td>    0.149</td>\n",
       "</tr>\n",
       "<tr>\n",
       "  <th>humidity</th>          <td>    0.1775</td> <td>    0.043</td> <td>    4.133</td> <td> 0.000</td> <td>    0.093</td> <td>    0.262</td>\n",
       "</tr>\n",
       "<tr>\n",
       "  <th>windspeed</th>         <td>    0.0905</td> <td>    0.002</td> <td>   36.797</td> <td> 0.000</td> <td>    0.086</td> <td>    0.095</td>\n",
       "</tr>\n",
       "<tr>\n",
       "  <th>wind_and_humidity</th> <td>   -0.2971</td> <td>    0.003</td> <td>  -88.470</td> <td> 0.000</td> <td>   -0.304</td> <td>   -0.291</td>\n",
       "</tr>\n",
       "</table>\n",
       "<table class=\"simpletable\">\n",
       "<tr>\n",
       "  <th>Omnibus:</th>       <td>4849.937</td> <th>  Durbin-Watson:     </th> <td>   0.265</td>\n",
       "</tr>\n",
       "<tr>\n",
       "  <th>Prob(Omnibus):</th>  <td> 0.000</td>  <th>  Jarque-Bera (JB):  </th> <td>9295.404</td>\n",
       "</tr>\n",
       "<tr>\n",
       "  <th>Skew:</th>           <td>-0.378</td>  <th>  Prob(JB):          </th> <td>    0.00</td>\n",
       "</tr>\n",
       "<tr>\n",
       "  <th>Kurtosis:</th>       <td> 4.320</td>  <th>  Cond. No.          </th> <td>    193.</td>\n",
       "</tr>\n",
       "</table><br/><br/>Warnings:<br/>[1] Standard Errors assume that the covariance matrix of the errors is correctly specified."
      ],
      "text/plain": [
       "<class 'statsmodels.iolib.summary.Summary'>\n",
       "\"\"\"\n",
       "                            OLS Regression Results                            \n",
       "==============================================================================\n",
       "Dep. Variable:            target_temp   R-squared:                       0.341\n",
       "Model:                            OLS   Adj. R-squared:                  0.341\n",
       "Method:                 Least Squares   F-statistic:                 1.666e+04\n",
       "Date:                Mon, 15 Jul 2019   Prob (F-statistic):               0.00\n",
       "Time:                        16:57:42   Log-Likelihood:            -1.6669e+05\n",
       "No. Observations:               96453   AIC:                         3.334e+05\n",
       "Df Residuals:                   96449   BIC:                         3.334e+05\n",
       "Df Model:                           3                                         \n",
       "Covariance Type:            nonrobust                                         \n",
       "=====================================================================================\n",
       "                        coef    std err          t      P>|t|      [0.025      0.975]\n",
       "-------------------------------------------------------------------------------------\n",
       "const                 0.0839      0.033      2.511      0.012       0.018       0.149\n",
       "humidity              0.1775      0.043      4.133      0.000       0.093       0.262\n",
       "windspeed             0.0905      0.002     36.797      0.000       0.086       0.095\n",
       "wind_and_humidity    -0.2971      0.003    -88.470      0.000      -0.304      -0.291\n",
       "==============================================================================\n",
       "Omnibus:                     4849.937   Durbin-Watson:                   0.265\n",
       "Prob(Omnibus):                  0.000   Jarque-Bera (JB):             9295.404\n",
       "Skew:                          -0.378   Prob(JB):                         0.00\n",
       "Kurtosis:                       4.320   Cond. No.                         193.\n",
       "==============================================================================\n",
       "\n",
       "Warnings:\n",
       "[1] Standard Errors assume that the covariance matrix of the errors is correctly specified.\n",
       "\"\"\""
      ]
     },
     "execution_count": 4,
     "metadata": {},
     "output_type": "execute_result"
    }
   ],
   "source": [
    "weather_df['wind_and_humidity'] = weather_df.windspeed * weather_df.humidity\n",
    "weather_df['target_temp'] = weather_df.apparenttemperature - weather_df.temperature\n",
    "\n",
    "model = LinearRegression()\n",
    "\n",
    "X = weather_df[['humidity', 'windspeed', 'wind_and_humidity']]\n",
    "\n",
    "Y = weather_df['target_temp']\n",
    "\n",
    "model.fit(X, Y)\n",
    "\n",
    "X = sm.add_constant(X)\n",
    "\n",
    "pred = sm.OLS(Y, X).fit()\n",
    "\n",
    "pred.summary()"
   ]
  },
  {
   "cell_type": "markdown",
   "metadata": {},
   "source": [
    "Adding the interaction term changed the humidity and windspeed coefficients positively. All explanatory variables are statistically significant in relation to the target variable. As the humidity and windspeed go up the target outcome goes up. Although since the interaction term's coefficient is stronger than the windspeed and humidity coefficient combined, the difference between apparent and actual temeperature still increases.\n",
    "\n",
    "Windspeed increase and humidity constant = greater temperature difference compared to humidity increases and windspeed constant. \n",
    "\n",
    "This because humidity has a stronger larger positive coefficient compared to windspeed. "
   ]
  },
  {
   "cell_type": "markdown",
   "metadata": {},
   "source": [
    "###  3. House prices model\n",
    "\n",
    "In this exercise, you'll interpret your house prices model. To complete this assignment, submit a link to a Jupyter notebook containing your solutions to the following tasks:\n",
    "\n",
    "* Load the **houseprices** data from Thinkful's database.\n",
    "* Run your house prices model again and interpret the results. Which features are statistically significant, and which are not?\n",
    "* Now, exclude the insignificant features from your model. Did anything change?\n",
    "* Interpret the statistically significant coefficients by quantifying their relations with the house prices. Which features have a more prominent effect on house prices?\n",
    "* Do the results sound reasonable to you? If not, try to explain the potential reasons."
   ]
  },
  {
   "cell_type": "code",
   "execution_count": 5,
   "metadata": {},
   "outputs": [],
   "source": [
    "postgres_user = 'dsbc_student'\n",
    "postgres_pw = '7*.8G9QH21'\n",
    "postgres_host = '142.93.121.174'\n",
    "postgres_port = '5432'\n",
    "postgres_db = 'houseprices'\n",
    "\n",
    "engine = create_engine('postgresql://{}:{}@{}:{}/{}'.format(\n",
    "    postgres_user, postgres_pw, postgres_host, postgres_port, postgres_db))\n",
    "housing_df = pd.read_sql_query('select * from houseprices',con=engine)\n",
    "\n",
    "engine.dispose()\n"
   ]
  },
  {
   "cell_type": "code",
   "execution_count": 6,
   "metadata": {
    "scrolled": true
   },
   "outputs": [
    {
     "data": {
      "text/html": [
       "<table class=\"simpletable\">\n",
       "<caption>OLS Regression Results</caption>\n",
       "<tr>\n",
       "  <th>Dep. Variable:</th>        <td>saleprice</td>    <th>  R-squared:         </th> <td>   0.771</td> \n",
       "</tr>\n",
       "<tr>\n",
       "  <th>Model:</th>                   <td>OLS</td>       <th>  Adj. R-squared:    </th> <td>   0.769</td> \n",
       "</tr>\n",
       "<tr>\n",
       "  <th>Method:</th>             <td>Least Squares</td>  <th>  F-statistic:       </th> <td>   696.5</td> \n",
       "</tr>\n",
       "<tr>\n",
       "  <th>Date:</th>             <td>Mon, 15 Jul 2019</td> <th>  Prob (F-statistic):</th>  <td>  0.00</td>  \n",
       "</tr>\n",
       "<tr>\n",
       "  <th>Time:</th>                 <td>16:57:45</td>     <th>  Log-Likelihood:    </th> <td> -17470.</td> \n",
       "</tr>\n",
       "<tr>\n",
       "  <th>No. Observations:</th>      <td>  1460</td>      <th>  AIC:               </th> <td>3.496e+04</td>\n",
       "</tr>\n",
       "<tr>\n",
       "  <th>Df Residuals:</th>          <td>  1452</td>      <th>  BIC:               </th> <td>3.500e+04</td>\n",
       "</tr>\n",
       "<tr>\n",
       "  <th>Df Model:</th>              <td>     7</td>      <th>                     </th>     <td> </td>    \n",
       "</tr>\n",
       "<tr>\n",
       "  <th>Covariance Type:</th>      <td>nonrobust</td>    <th>                     </th>     <td> </td>    \n",
       "</tr>\n",
       "</table>\n",
       "<table class=\"simpletable\">\n",
       "<tr>\n",
       "        <td></td>          <th>coef</th>     <th>std err</th>      <th>t</th>      <th>P>|t|</th>  <th>[0.025</th>    <th>0.975]</th>  \n",
       "</tr>\n",
       "<tr>\n",
       "  <th>const</th>        <td>-1.214e+06</td> <td> 1.28e+05</td> <td>   -9.498</td> <td> 0.000</td> <td>-1.46e+06</td> <td>-9.63e+05</td>\n",
       "</tr>\n",
       "<tr>\n",
       "  <th>overallqual</th>  <td> 1.976e+04</td> <td> 1178.281</td> <td>   16.767</td> <td> 0.000</td> <td> 1.74e+04</td> <td> 2.21e+04</td>\n",
       "</tr>\n",
       "<tr>\n",
       "  <th>yearbuilt</th>    <td>  283.6291</td> <td>   49.800</td> <td>    5.695</td> <td> 0.000</td> <td>  185.942</td> <td>  381.317</td>\n",
       "</tr>\n",
       "<tr>\n",
       "  <th>yearremodadd</th> <td>  297.5604</td> <td>   63.988</td> <td>    4.650</td> <td> 0.000</td> <td>  172.042</td> <td>  423.079</td>\n",
       "</tr>\n",
       "<tr>\n",
       "  <th>totalbsmtsf</th>  <td>   27.8779</td> <td>    2.879</td> <td>    9.684</td> <td> 0.000</td> <td>   22.231</td> <td>   33.525</td>\n",
       "</tr>\n",
       "<tr>\n",
       "  <th>grlivarea</th>    <td>   54.0144</td> <td>    3.007</td> <td>   17.964</td> <td> 0.000</td> <td>   48.116</td> <td>   59.913</td>\n",
       "</tr>\n",
       "<tr>\n",
       "  <th>fullbath</th>     <td>-5452.9867</td> <td> 2656.907</td> <td>   -2.052</td> <td> 0.040</td> <td>-1.07e+04</td> <td> -241.201</td>\n",
       "</tr>\n",
       "<tr>\n",
       "  <th>garagearea</th>   <td>   45.5563</td> <td>    6.144</td> <td>    7.414</td> <td> 0.000</td> <td>   33.503</td> <td>   57.609</td>\n",
       "</tr>\n",
       "</table>\n",
       "<table class=\"simpletable\">\n",
       "<tr>\n",
       "  <th>Omnibus:</th>       <td>545.241</td> <th>  Durbin-Watson:     </th> <td>   1.982</td> \n",
       "</tr>\n",
       "<tr>\n",
       "  <th>Prob(Omnibus):</th> <td> 0.000</td>  <th>  Jarque-Bera (JB):  </th> <td>75131.350</td>\n",
       "</tr>\n",
       "<tr>\n",
       "  <th>Skew:</th>          <td>-0.653</td>  <th>  Prob(JB):          </th> <td>    0.00</td> \n",
       "</tr>\n",
       "<tr>\n",
       "  <th>Kurtosis:</th>      <td>38.119</td>  <th>  Cond. No.          </th> <td>4.36e+05</td> \n",
       "</tr>\n",
       "</table><br/><br/>Warnings:<br/>[1] Standard Errors assume that the covariance matrix of the errors is correctly specified.<br/>[2] The condition number is large, 4.36e+05. This might indicate that there are<br/>strong multicollinearity or other numerical problems."
      ],
      "text/plain": [
       "<class 'statsmodels.iolib.summary.Summary'>\n",
       "\"\"\"\n",
       "                            OLS Regression Results                            \n",
       "==============================================================================\n",
       "Dep. Variable:              saleprice   R-squared:                       0.771\n",
       "Model:                            OLS   Adj. R-squared:                  0.769\n",
       "Method:                 Least Squares   F-statistic:                     696.5\n",
       "Date:                Mon, 15 Jul 2019   Prob (F-statistic):               0.00\n",
       "Time:                        16:57:45   Log-Likelihood:                -17470.\n",
       "No. Observations:                1460   AIC:                         3.496e+04\n",
       "Df Residuals:                    1452   BIC:                         3.500e+04\n",
       "Df Model:                           7                                         \n",
       "Covariance Type:            nonrobust                                         \n",
       "================================================================================\n",
       "                   coef    std err          t      P>|t|      [0.025      0.975]\n",
       "--------------------------------------------------------------------------------\n",
       "const        -1.214e+06   1.28e+05     -9.498      0.000   -1.46e+06   -9.63e+05\n",
       "overallqual   1.976e+04   1178.281     16.767      0.000    1.74e+04    2.21e+04\n",
       "yearbuilt      283.6291     49.800      5.695      0.000     185.942     381.317\n",
       "yearremodadd   297.5604     63.988      4.650      0.000     172.042     423.079\n",
       "totalbsmtsf     27.8779      2.879      9.684      0.000      22.231      33.525\n",
       "grlivarea       54.0144      3.007     17.964      0.000      48.116      59.913\n",
       "fullbath     -5452.9867   2656.907     -2.052      0.040   -1.07e+04    -241.201\n",
       "garagearea      45.5563      6.144      7.414      0.000      33.503      57.609\n",
       "==============================================================================\n",
       "Omnibus:                      545.241   Durbin-Watson:                   1.982\n",
       "Prob(Omnibus):                  0.000   Jarque-Bera (JB):            75131.350\n",
       "Skew:                          -0.653   Prob(JB):                         0.00\n",
       "Kurtosis:                      38.119   Cond. No.                     4.36e+05\n",
       "==============================================================================\n",
       "\n",
       "Warnings:\n",
       "[1] Standard Errors assume that the covariance matrix of the errors is correctly specified.\n",
       "[2] The condition number is large, 4.36e+05. This might indicate that there are\n",
       "strong multicollinearity or other numerical problems.\n",
       "\"\"\""
      ]
     },
     "execution_count": 6,
     "metadata": {},
     "output_type": "execute_result"
    }
   ],
   "source": [
    "#features with .5 correlation or more with sales price and aren't correlated with each other\n",
    "feature_list = ['overallqual', 'yearbuilt', 'yearremodadd', 'totalbsmtsf', 'grlivarea', 'fullbath', 'garagearea']\n",
    "\n",
    "model = LinearRegression()\n",
    "\n",
    "X = housing_df[feature_list]\n",
    "Y = housing_df['saleprice']\n",
    "\n",
    "model.fit(X,Y)\n",
    "\n",
    "X = sm.add_constant(X)\n",
    "results = sm.OLS(Y,X).fit()\n",
    "\n",
    "results.summary()"
   ]
  },
  {
   "cell_type": "code",
   "execution_count": 7,
   "metadata": {},
   "outputs": [
    {
     "data": {
      "text/plain": [
       "<matplotlib.axes._subplots.AxesSubplot at 0x1c177d19e8>"
      ]
     },
     "execution_count": 7,
     "metadata": {},
     "output_type": "execute_result"
    },
    {
     "data": {
      "image/png": "[encoded data removed]",
      "text/plain": [
       "<Figure size 432x288 with 1 Axes>"
      ]
     },
     "metadata": {
      "needs_background": "light"
     },
     "output_type": "display_data"
    }
   ],
   "source": [
    "sns.stripplot('fullbath', 'saleprice', data= housing_df, jitter=True)"
   ]
  },
  {
   "cell_type": "markdown",
   "metadata": {},
   "source": [
    "Looking at the p-value for all independent variables, all variables are statistically significant in terms of sales price. In addition, all of their respective coefficients are significantly greater than zero. The variables that contribute the most to sale price are: overallqual, fullbath and year built. It makes sense why the overall quality and year built of the house is an important factor to sales price but the negative significant of the full bath variable doesn't. You would assume that the more full baths there are in the house the higher the sales price would be. This issue could be the result in the data being bias towards houses with less fullbaths."
   ]
  }
 ],
 "metadata": {
  "kernelspec": {
   "display_name": "Python 3",
   "language": "python",
   "name": "python3"
  },
  "language_info": {
   "codemirror_mode": {
    "name": "ipython",
    "version": 3
   },
   "file_extension": ".py",
   "mimetype": "text/x-python",
   "name": "python",
   "nbconvert_exporter": "python",
   "pygments_lexer": "ipython3",
   "version": "3.7.1"
  },
  "toc": {
   "base_numbering": 1,
   "nav_menu": {},
   "number_sections": true,
   "sideBar": true,
   "skip_h1_title": false,
   "title_cell": "Table of Contents",
   "title_sidebar": "Contents",
   "toc_cell": true,
   "toc_position": {},
   "toc_section_display": true,
   "toc_window_display": false
  },
  "varInspector": {
   "cols": {
    "lenName": 16,
    "lenType": 16,
    "lenVar": 40
   },
   "kernels_config": {
    "python": {
     "delete_cmd_postfix": "",
     "delete_cmd_prefix": "del ",
     "library": "var_list.py",
     "varRefreshCmd": "print(var_dic_list())"
    },
    "r": {
     "delete_cmd_postfix": ") ",
     "delete_cmd_prefix": "rm(",
     "library": "var_list.r",
     "varRefreshCmd": "cat(var_dic_list()) "
    }
   },
   "types_to_exclude": [
    "module",
    "function",
    "builtin_function_or_method",
    "instance",
    "_Feature"
   ],
   "window_display": false
  }
 },
 "nbformat": 4,
 "nbformat_minor": 2
}
