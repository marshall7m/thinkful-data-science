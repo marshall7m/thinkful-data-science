{
 "cells": [
  {
   "cell_type": "markdown",
   "metadata": {},
   "source": [
    "# Introduction"
   ]
  },
  {
   "cell_type": "markdown",
   "metadata": {},
   "source": [
    "### Imports"
   ]
  },
  {
   "cell_type": "code",
   "execution_count": 25,
   "metadata": {},
   "outputs": [],
   "source": [
    "from statsmodels.tsa.stattools import acf\n",
    "import statsmodels.api as sm\n",
    "from sklearn.metrics import mean_absolute_error\n",
    "from statsmodels.tools.eval_measures import mse, rmse\n",
    "import pandas as pd\n",
    "import numpy as np\n",
    "import matplotlib.pyplot as plt\n",
    "import seaborn as sns\n",
    "from sklearn.linear_model import LinearRegression, Lasso, ElasticNet, Ridge\n",
    "from sklearn.model_selection import train_test_split\n",
    "from sklearn.model_selection import cross_validate\n",
    "from sklearn.metrics import r2_score, mean_absolute_error, mean_squared_error\n",
    "from sklearn.metrics import SCORERS\n",
    "from sqlalchemy import create_engine\n",
    "%matplotlib inline\n",
    "\n",
    "# Options for pandas\n",
    "pd.options.display.max_columns = 150\n",
    "pd.options.display.max_rows = 150"
   ]
  },
  {
   "cell_type": "markdown",
   "metadata": {
    "toc": true
   },
   "source": [
    "<h1>Table of Contents<span class=\"tocSkip\"></span></h1>\n",
    "<div class=\"toc\"><ul class=\"toc-item\"><li><span><a href=\"#Introduction\" data-toc-modified-id=\"Introduction-1\"><span class=\"toc-item-num\">1&nbsp;&nbsp;</span>Introduction</a></span><ul class=\"toc-item\"><li><ul class=\"toc-item\"><li><span><a href=\"#Imports\" data-toc-modified-id=\"Imports-1.0.1\"><span class=\"toc-item-num\">1.0.1&nbsp;&nbsp;</span>Imports</a></span></li></ul></li></ul></li><li><span><a href=\"#Assignment\" data-toc-modified-id=\"Assignment-2\"><span class=\"toc-item-num\">2&nbsp;&nbsp;</span>Assignment</a></span></li><li><span><a href=\"#OLS-Model\" data-toc-modified-id=\"OLS-Model-3\"><span class=\"toc-item-num\">3&nbsp;&nbsp;</span>OLS Model</a></span></li><li><span><a href=\"#Lasso-Model\" data-toc-modified-id=\"Lasso-Model-4\"><span class=\"toc-item-num\">4&nbsp;&nbsp;</span>Lasso Model</a></span></li><li><span><a href=\"#Ridge-Model\" data-toc-modified-id=\"Ridge-Model-5\"><span class=\"toc-item-num\">5&nbsp;&nbsp;</span>Ridge Model</a></span></li><li><span><a href=\"#Elastic-Net\" data-toc-modified-id=\"Elastic-Net-6\"><span class=\"toc-item-num\">6&nbsp;&nbsp;</span>Elastic Net</a></span></li><li><span><a href=\"#Best-Model\" data-toc-modified-id=\"Best-Model-7\"><span class=\"toc-item-num\">7&nbsp;&nbsp;</span>Best Model</a></span></li></ul></div>"
   ]
  },
  {
   "cell_type": "markdown",
   "metadata": {},
   "source": [
    "# Assignment\n",
    "Load the houseprices data from Thinkful's database.\n",
    "Reimplement your model from the previous checkpoint.\n",
    "Try OLS, Lasso, Ridge, and ElasticNet regression using the same model specification. This time, you need to do k-fold cross-validation to choose the best hyperparameter values for your models. Which model is the best? Why?"
   ]
  },
  {
   "cell_type": "code",
   "execution_count": 5,
   "metadata": {},
   "outputs": [],
   "source": [
    "postgres_user = 'dsbc_student'\n",
    "postgres_pw = '7*.8G9QH21'\n",
    "postgres_host = '142.93.121.174'\n",
    "postgres_port = '5432'\n",
    "postgres_db = 'houseprices'\n",
    "\n",
    "engine = create_engine('postgresql://{}:{}@{}:{}/{}'.format(\n",
    "    postgres_user, postgres_pw, postgres_host, postgres_port, postgres_db))\n",
    "housing_df = pd.read_sql_query('select * from houseprices',con=engine)\n",
    "\n",
    "engine.dispose()\n"
   ]
  },
  {
   "cell_type": "code",
   "execution_count": 6,
   "metadata": {},
   "outputs": [],
   "source": [
    "# remove major outliers (caused RMSE to be exceptionally high)\n",
    "housing_df = housing_df[(housing_df['totalbsmtsf'] < 5000) & (housing_df['grlivarea'] < 4000)].copy()\n",
    "# filter out houses with sale price higher than 400,000 (not enough high value houses in dataset)\n",
    "housing_df = housing_df[housing_df['saleprice'] < 400000]"
   ]
  },
  {
   "cell_type": "markdown",
   "metadata": {},
   "source": [
    "house_prices_df['totalsf'] = house_prices_df['totalbsmtsf'] + house_prices_df['firstflrsf'] + house_prices_df['secondflrsf']"
   ]
  },
  {
   "cell_type": "markdown",
   "metadata": {},
   "source": [
    "# OLS Model"
   ]
  },
  {
   "cell_type": "code",
   "execution_count": 80,
   "metadata": {
    "scrolled": true
   },
   "outputs": [],
   "source": [
    "feature_list = ['overallqual',\n",
    " 'yearbuilt',\n",
    " 'yearremodadd',\n",
    " 'totalbsmtsf',\n",
    " 'firstflrsf',\n",
    " 'grlivarea',\n",
    " 'garagearea']\n",
    "\n",
    "model = LinearRegression()\n",
    "data = housing_df[feature_list]\n",
    "target = housing_df['saleprice']\n",
    "linear_results = cross_validate(model, data, target, cv=5, scoring=['r2', 'neg_mean_absolute_error', 'neg_mean_squared_error'], return_train_score=True)"
   ]
  },
  {
   "cell_type": "markdown",
   "metadata": {},
   "source": [
    "# Lasso Model"
   ]
  },
  {
   "cell_type": "code",
   "execution_count": 78,
   "metadata": {},
   "outputs": [],
   "source": [
    "lasso = Lasso(alpha=10*25)\n",
    "lasso_results = cross_validate(lasso, data, target, cv=5, scoring=['r2', 'neg_mean_absolute_error', 'neg_mean_squared_error'], return_train_score=True)"
   ]
  },
  {
   "cell_type": "markdown",
   "metadata": {},
   "source": [
    "# Ridge Model"
   ]
  },
  {
   "cell_type": "code",
   "execution_count": 79,
   "metadata": {},
   "outputs": [],
   "source": [
    "ridge = Ridge(alpha=10**25)\n",
    "ridge_results = cross_validate(lasso, data, target, cv=5, scoring=['r2', 'neg_mean_absolute_error', 'neg_mean_squared_error'], return_train_score=True)"
   ]
  },
  {
   "cell_type": "markdown",
   "metadata": {},
   "source": [
    "# Elastic Net"
   ]
  },
  {
   "cell_type": "code",
   "execution_count": 74,
   "metadata": {
    "scrolled": true
   },
   "outputs": [],
   "source": [
    "elastic = ElasticNet(alpha= 10**25)\n",
    "elastic_results = cross_validate(lasso, data, target, cv=5, scoring=['r2', 'neg_mean_absolute_error', 'neg_mean_squared_error'], return_train_score=True)"
   ]
  },
  {
   "cell_type": "markdown",
   "metadata": {},
   "source": [
    "# Best Model"
   ]
  },
  {
   "cell_type": "code",
   "execution_count": 83,
   "metadata": {},
   "outputs": [
    {
     "data": {
      "text/plain": [
       "{'fit_time': array([0.00533915, 0.00359797, 0.00302577, 0.00505996, 0.00344706]),\n",
       " 'score_time': array([0.00475812, 0.00660896, 0.00303102, 0.00355315, 0.00226188]),\n",
       " 'test_r2': array([0.81595429, 0.84813905, 0.81961668, 0.8154111 , 0.79379942]),\n",
       " 'train_r2': array([0.82460187, 0.81516833, 0.82351837, 0.82359382, 0.82956452]),\n",
       " 'test_neg_mean_absolute_error': array([-20291.15956938, -19958.67977726, -19888.08529353, -20143.87817032,\n",
       "        -21543.7079921 ]),\n",
       " 'train_neg_mean_absolute_error': array([-20225.46046339, -20171.29526397, -20161.28153345, -20373.37753659,\n",
       "        -19914.02277102]),\n",
       " 'test_neg_mean_squared_error': array([-7.71600745e+08, -7.62264260e+08, -8.27568829e+08, -6.69865391e+08,\n",
       "        -8.80368284e+08]),\n",
       " 'train_neg_mean_squared_error': array([-7.69492994e+08, -7.72487523e+08, -7.56804292e+08, -7.96910617e+08,\n",
       "        -7.44460613e+08])}"
      ]
     },
     "execution_count": 83,
     "metadata": {},
     "output_type": "execute_result"
    }
   ],
   "source": [
    "lasso_results"
   ]
  },
  {
   "cell_type": "code",
   "execution_count": 88,
   "metadata": {},
   "outputs": [],
   "source": [
    "model_results = [elastic_results, lasso_results, linear_results]\n",
    "scoring = ['test_neg_mean_absolute_error', 'train_neg_mean_absolute_error', 'test_neg_mean_squared_error', 'train_neg_mean_squared_error']\n",
    "\n",
    "#convert neg score to pos\n",
    "for results in model_results:\n",
    "    for score in scoring:\n",
    "        results[score] = results[score] * -1\n",
    "#create RMSE for all model results\n",
    "for results in model_results:\n",
    "    for score in scoring[2:]:\n",
    "        results['root_'+score] = np.sqrt(results[score])"
   ]
  },
  {
   "cell_type": "markdown",
   "metadata": {},
   "source": [
    "Create MAPE for each results\n",
    "\n",
    "create function to take the sum of all errors in each fold and find which fold has the smallest sum of errors\n",
    "\n",
    "Compare the best fold in each model with each other to find the best model"
   ]
  }
 ],
 "metadata": {
  "kernelspec": {
   "display_name": "Python 3",
   "language": "python",
   "name": "python3"
  },
  "language_info": {
   "codemirror_mode": {
    "name": "ipython",
    "version": 3
   },
   "file_extension": ".py",
   "mimetype": "text/x-python",
   "name": "python",
   "nbconvert_exporter": "python",
   "pygments_lexer": "ipython3",
   "version": "3.7.1"
  },
  "toc": {
   "base_numbering": 1,
   "nav_menu": {},
   "number_sections": true,
   "sideBar": true,
   "skip_h1_title": false,
   "title_cell": "Table of Contents",
   "title_sidebar": "Contents",
   "toc_cell": true,
   "toc_position": {},
   "toc_section_display": true,
   "toc_window_display": false
  },
  "varInspector": {
   "cols": {
    "lenName": 16,
    "lenType": 16,
    "lenVar": 40
   },
   "kernels_config": {
    "python": {
     "delete_cmd_postfix": "",
     "delete_cmd_prefix": "del ",
     "library": "var_list.py",
     "varRefreshCmd": "print(var_dic_list())"
    },
    "r": {
     "delete_cmd_postfix": ") ",
     "delete_cmd_prefix": "rm(",
     "library": "var_list.r",
     "varRefreshCmd": "cat(var_dic_list()) "
    }
   },
   "types_to_exclude": [
    "module",
    "function",
    "builtin_function_or_method",
    "instance",
    "_Feature"
   ],
   "window_display": false
  }
 },
 "nbformat": 4,
 "nbformat_minor": 2
}
