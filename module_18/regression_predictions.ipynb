{
 "cells": [
  {
   "cell_type": "markdown",
   "metadata": {},
   "source": [
    "# Introduction"
   ]
  },
  {
   "cell_type": "markdown",
   "metadata": {},
   "source": [
    "### Imports"
   ]
  },
  {
   "cell_type": "code",
   "execution_count": 12,
   "metadata": {},
   "outputs": [],
   "source": [
    "from statsmodels.tsa.stattools import acf\n",
    "import statsmodels.api as sm\n",
    "from sklearn.metrics import mean_absolute_error\n",
    "from statsmodels.tools.eval_measures import mse, rmse\n",
    "import pandas as pd\n",
    "import numpy as np\n",
    "import matplotlib.pyplot as plt\n",
    "import seaborn as sns\n",
    "from sklearn.linear_model import LinearRegression\n",
    "from sklearn.model_selection import train_test_split\n",
    "from sqlalchemy import create_engine\n",
    "%matplotlib inline\n",
    "\n",
    "# Options for pandas\n",
    "pd.options.display.max_columns = 150\n",
    "pd.options.display.max_rows = 150"
   ]
  },
  {
   "cell_type": "markdown",
   "metadata": {
    "toc": true
   },
   "source": [
    "<h1>Table of Contents<span class=\"tocSkip\"></span></h1>\n",
    "<div class=\"toc\"><ul class=\"toc-item\"><li><span><a href=\"#Introduction\" data-toc-modified-id=\"Introduction-1\"><span class=\"toc-item-num\">1&nbsp;&nbsp;</span>Introduction</a></span><ul class=\"toc-item\"><li><ul class=\"toc-item\"><li><span><a href=\"#Imports\" data-toc-modified-id=\"Imports-1.0.1\"><span class=\"toc-item-num\">1.0.1&nbsp;&nbsp;</span>Imports</a></span></li></ul></li></ul></li><li><span><a href=\"#Assignment\" data-toc-modified-id=\"Assignment-2\"><span class=\"toc-item-num\">2&nbsp;&nbsp;</span>Assignment</a></span></li><li><span><a href=\"#Model-One\" data-toc-modified-id=\"Model-One-3\"><span class=\"toc-item-num\">3&nbsp;&nbsp;</span>Model One</a></span></li></ul></div>"
   ]
  },
  {
   "cell_type": "markdown",
   "metadata": {},
   "source": [
    "# Assignment\n",
    "* Load the **houseprices** data from Thinkful's database.\n",
    "* Split your data into train and test sets.\n",
    "* Estimate your model from the previous checkpoint in the train set. Assess the goodness of fit of your model.\n",
    "* Predict the house prices in the test set, and evaluate the performance of your model using the metrics we mentioned in this checkpoint.\n",
    "* Is the performance of your model satisfactory? Why?\n",
    "* Try to improve your model in terms of predictive performance by adding or removing some variables.\n"
   ]
  },
  {
   "cell_type": "code",
   "execution_count": 13,
   "metadata": {},
   "outputs": [],
   "source": [
    "postgres_user = 'dsbc_student'\n",
    "postgres_pw = '7*.8G9QH21'\n",
    "postgres_host = '142.93.121.174'\n",
    "postgres_port = '5432'\n",
    "postgres_db = 'houseprices'\n",
    "\n",
    "engine = create_engine('postgresql://{}:{}@{}:{}/{}'.format(\n",
    "    postgres_user, postgres_pw, postgres_host, postgres_port, postgres_db))\n",
    "housing_df = pd.read_sql_query('select * from houseprices',con=engine)\n",
    "\n",
    "engine.dispose()\n"
   ]
  },
  {
   "cell_type": "code",
   "execution_count": 14,
   "metadata": {},
   "outputs": [],
   "source": [
    "# remove major outliers (caused RMSE to be exceptionally high)\n",
    "housing_df = housing_df[(housing_df['totalbsmtsf'] < 5000) & (housing_df['grlivarea'] < 4000)].copy()\n",
    "# filter out houses with sale price higher than 400,000 (not enough high value houses in dataset)\n",
    "housing_df = housing_df[housing_df['saleprice'] < 400000]"
   ]
  },
  {
   "cell_type": "markdown",
   "metadata": {},
   "source": [
    "# Model One"
   ]
  },
  {
   "cell_type": "code",
   "execution_count": 15,
   "metadata": {
    "scrolled": false
   },
   "outputs": [
    {
     "data": {
      "text/html": [
       "<table class=\"simpletable\">\n",
       "<caption>OLS Regression Results</caption>\n",
       "<tr>\n",
       "  <th>Dep. Variable:</th>        <td>saleprice</td>    <th>  R-squared:         </th> <td>   0.823</td> \n",
       "</tr>\n",
       "<tr>\n",
       "  <th>Model:</th>                   <td>OLS</td>       <th>  Adj. R-squared:    </th> <td>   0.822</td> \n",
       "</tr>\n",
       "<tr>\n",
       "  <th>Method:</th>             <td>Least Squares</td>  <th>  F-statistic:       </th> <td>   879.7</td> \n",
       "</tr>\n",
       "<tr>\n",
       "  <th>Date:</th>             <td>Thu, 18 Jul 2019</td> <th>  Prob (F-statistic):</th>  <td>  0.00</td>  \n",
       "</tr>\n",
       "<tr>\n",
       "  <th>Time:</th>                 <td>14:38:46</td>     <th>  Log-Likelihood:    </th> <td> -13324.</td> \n",
       "</tr>\n",
       "<tr>\n",
       "  <th>No. Observations:</th>      <td>  1144</td>      <th>  AIC:               </th> <td>2.666e+04</td>\n",
       "</tr>\n",
       "<tr>\n",
       "  <th>Df Residuals:</th>          <td>  1137</td>      <th>  BIC:               </th> <td>2.670e+04</td>\n",
       "</tr>\n",
       "<tr>\n",
       "  <th>Df Model:</th>              <td>     6</td>      <th>                     </th>     <td> </td>    \n",
       "</tr>\n",
       "<tr>\n",
       "  <th>Covariance Type:</th>      <td>nonrobust</td>    <th>                     </th>     <td> </td>    \n",
       "</tr>\n",
       "</table>\n",
       "<table class=\"simpletable\">\n",
       "<tr>\n",
       "        <td></td>          <th>coef</th>     <th>std err</th>      <th>t</th>      <th>P>|t|</th>  <th>[0.025</th>    <th>0.975]</th>  \n",
       "</tr>\n",
       "<tr>\n",
       "  <th>const</th>        <td>-1.121e+06</td> <td> 9.88e+04</td> <td>  -11.348</td> <td> 0.000</td> <td>-1.32e+06</td> <td>-9.28e+05</td>\n",
       "</tr>\n",
       "<tr>\n",
       "  <th>overallqual</th>  <td>  1.66e+04</td> <td>  980.382</td> <td>   16.937</td> <td> 0.000</td> <td> 1.47e+04</td> <td> 1.85e+04</td>\n",
       "</tr>\n",
       "<tr>\n",
       "  <th>yearbuilt</th>    <td>  227.7787</td> <td>   39.742</td> <td>    5.731</td> <td> 0.000</td> <td>  149.803</td> <td>  305.755</td>\n",
       "</tr>\n",
       "<tr>\n",
       "  <th>yearremodadd</th> <td>  312.5688</td> <td>   51.687</td> <td>    6.047</td> <td> 0.000</td> <td>  211.155</td> <td>  413.982</td>\n",
       "</tr>\n",
       "<tr>\n",
       "  <th>totalbsmtsf</th>  <td>   34.5682</td> <td>    2.499</td> <td>   13.833</td> <td> 0.000</td> <td>   29.665</td> <td>   39.471</td>\n",
       "</tr>\n",
       "<tr>\n",
       "  <th>grlivarea</th>    <td>   47.3641</td> <td>    2.225</td> <td>   21.289</td> <td> 0.000</td> <td>   42.999</td> <td>   51.729</td>\n",
       "</tr>\n",
       "<tr>\n",
       "  <th>garagearea</th>   <td>   44.2613</td> <td>    5.064</td> <td>    8.741</td> <td> 0.000</td> <td>   34.326</td> <td>   54.196</td>\n",
       "</tr>\n",
       "</table>\n",
       "<table class=\"simpletable\">\n",
       "<tr>\n",
       "  <th>Omnibus:</th>       <td>112.340</td> <th>  Durbin-Watson:     </th> <td>   2.010</td>\n",
       "</tr>\n",
       "<tr>\n",
       "  <th>Prob(Omnibus):</th> <td> 0.000</td>  <th>  Jarque-Bera (JB):  </th> <td> 426.885</td>\n",
       "</tr>\n",
       "<tr>\n",
       "  <th>Skew:</th>          <td> 0.409</td>  <th>  Prob(JB):          </th> <td>2.01e-93</td>\n",
       "</tr>\n",
       "<tr>\n",
       "  <th>Kurtosis:</th>      <td> 5.879</td>  <th>  Cond. No.          </th> <td>4.06e+05</td>\n",
       "</tr>\n",
       "</table><br/><br/>Warnings:<br/>[1] Standard Errors assume that the covariance matrix of the errors is correctly specified.<br/>[2] The condition number is large, 4.06e+05. This might indicate that there are<br/>strong multicollinearity or other numerical problems."
      ],
      "text/plain": [
       "<class 'statsmodels.iolib.summary.Summary'>\n",
       "\"\"\"\n",
       "                            OLS Regression Results                            \n",
       "==============================================================================\n",
       "Dep. Variable:              saleprice   R-squared:                       0.823\n",
       "Model:                            OLS   Adj. R-squared:                  0.822\n",
       "Method:                 Least Squares   F-statistic:                     879.7\n",
       "Date:                Thu, 18 Jul 2019   Prob (F-statistic):               0.00\n",
       "Time:                        14:38:46   Log-Likelihood:                -13324.\n",
       "No. Observations:                1144   AIC:                         2.666e+04\n",
       "Df Residuals:                    1137   BIC:                         2.670e+04\n",
       "Df Model:                           6                                         \n",
       "Covariance Type:            nonrobust                                         \n",
       "================================================================================\n",
       "                   coef    std err          t      P>|t|      [0.025      0.975]\n",
       "--------------------------------------------------------------------------------\n",
       "const        -1.121e+06   9.88e+04    -11.348      0.000   -1.32e+06   -9.28e+05\n",
       "overallqual    1.66e+04    980.382     16.937      0.000    1.47e+04    1.85e+04\n",
       "yearbuilt      227.7787     39.742      5.731      0.000     149.803     305.755\n",
       "yearremodadd   312.5688     51.687      6.047      0.000     211.155     413.982\n",
       "totalbsmtsf     34.5682      2.499     13.833      0.000      29.665      39.471\n",
       "grlivarea       47.3641      2.225     21.289      0.000      42.999      51.729\n",
       "garagearea      44.2613      5.064      8.741      0.000      34.326      54.196\n",
       "==============================================================================\n",
       "Omnibus:                      112.340   Durbin-Watson:                   2.010\n",
       "Prob(Omnibus):                  0.000   Jarque-Bera (JB):              426.885\n",
       "Skew:                           0.409   Prob(JB):                     2.01e-93\n",
       "Kurtosis:                       5.879   Cond. No.                     4.06e+05\n",
       "==============================================================================\n",
       "\n",
       "Warnings:\n",
       "[1] Standard Errors assume that the covariance matrix of the errors is correctly specified.\n",
       "[2] The condition number is large, 4.06e+05. This might indicate that there are\n",
       "strong multicollinearity or other numerical problems.\n",
       "\"\"\""
      ]
     },
     "execution_count": 15,
     "metadata": {},
     "output_type": "execute_result"
    }
   ],
   "source": [
    "#features that correlate .5 or more with sale price (target)\n",
    "feature_list = ['overallqual', 'yearbuilt', 'yearremodadd', 'totalbsmtsf', 'grlivarea', 'garagearea']\n",
    "\n",
    "model = LinearRegression()\n",
    "\n",
    "train_x, test_x, train_y, test_y = train_test_split(housing_df[feature_list], housing_df['saleprice'], test_size = .2)\n",
    "\n",
    "model.fit(train_x, train_y)\n",
    "\n",
    "X = sm.add_constant(train_x)\n",
    "\n",
    "pred = sm.OLS(train_y, X).fit()\n",
    "\n",
    "pred.summary()"
   ]
  },
  {
   "cell_type": "markdown",
   "metadata": {},
   "source": [
    "The R^2 scores for the model is reasonable, coming in at .82. This means that 82% of the target variance is explained by the model."
   ]
  },
  {
   "cell_type": "code",
   "execution_count": 16,
   "metadata": {
    "scrolled": false
   },
   "outputs": [
    {
     "name": "stdout",
     "output_type": "stream",
     "text": [
      "MSE:  814523809.2365607\n",
      "RMSE:  28539.863511176096\n",
      "MAE: 20871.823149243322\n",
      "MAPE 12.604742110376211\n"
     ]
    },
    {
     "data": {
      "image/png": "[encoded data removed]",
      "text/plain": [
       "<Figure size 432x288 with 1 Axes>"
      ]
     },
     "metadata": {
      "needs_background": "light"
     },
     "output_type": "display_data"
    }
   ],
   "source": [
    "pred_y = model.predict(test_x)\n",
    "\n",
    "plt.scatter(test_y, pred_y)\n",
    "plt.xlabel('True Target')\n",
    "plt.ylabel('Predicted Target')\n",
    "plt.plot(test_y, test_y, color='red')\n",
    "\n",
    "error_stats1 = pd.DataFrame({'MSE': mse(test_y, pred_y),\n",
    "                   'RMSE': rmse(test_y, pred_y),\n",
    "                   'MAE': mean_absolute_error(test_y, pred_y),\n",
    "                   'MAPE': np.mean(np.abs(test_y - pred_y) / test_y)*100},index=['model_one'])\n",
    "\n",
    "print('MSE: ', error_stats1['MSE'][0])\n",
    "print('RMSE: ',  error_stats1['RMSE'][0])\n",
    "print('MAE:', error_stats1['MAE'][0])\n",
    "print('MAPE', error_stats1['MAPE'][0])"
   ]
  },
  {
   "cell_type": "markdown",
   "metadata": {},
   "source": [
    "The RMSE is 7668 points higher than the MAE for the model. This is because RMSE and MSE penalize higher sale price errors more than smaller sale price errors. The higher sale price predictions were more inaccurate compared to the lower sale price predictions because there was a sparse amount of high sale price houses in the test data. Being that this was also case with the training data, the model wasn't given enough examples of high sale price housing features to be able accurately predict high sale price houses in the test data.\n",
    "\n",
    "The RMSE and MAE are somewhat reasonable given the target variable being housing saleprice. In a real life application, the risk of inaccurately predicting lower priced housing is higher than inaccurately predicting higher priced housing. This is assuming that people looking at higher priced housing have a more flexible budget to put down more money for a house they want if needed. \n",
    "\n",
    "In an attempt to decrease the RMSE, the model below includes features from the first model that contributed the most to the R^2 score."
   ]
  },
  {
   "cell_type": "code",
   "execution_count": 17,
   "metadata": {},
   "outputs": [
    {
     "data": {
      "text/html": [
       "<table class=\"simpletable\">\n",
       "<caption>OLS Regression Results</caption>\n",
       "<tr>\n",
       "  <th>Dep. Variable:</th>        <td>saleprice</td>    <th>  R-squared:         </th> <td>   0.784</td> \n",
       "</tr>\n",
       "<tr>\n",
       "  <th>Model:</th>                   <td>OLS</td>       <th>  Adj. R-squared:    </th> <td>   0.784</td> \n",
       "</tr>\n",
       "<tr>\n",
       "  <th>Method:</th>             <td>Least Squares</td>  <th>  F-statistic:       </th> <td>   1380.</td> \n",
       "</tr>\n",
       "<tr>\n",
       "  <th>Date:</th>             <td>Thu, 18 Jul 2019</td> <th>  Prob (F-statistic):</th>  <td>  0.00</td>  \n",
       "</tr>\n",
       "<tr>\n",
       "  <th>Time:</th>                 <td>14:38:47</td>     <th>  Log-Likelihood:    </th> <td> -13446.</td> \n",
       "</tr>\n",
       "<tr>\n",
       "  <th>No. Observations:</th>      <td>  1144</td>      <th>  AIC:               </th> <td>2.690e+04</td>\n",
       "</tr>\n",
       "<tr>\n",
       "  <th>Df Residuals:</th>          <td>  1140</td>      <th>  BIC:               </th> <td>2.692e+04</td>\n",
       "</tr>\n",
       "<tr>\n",
       "  <th>Df Model:</th>              <td>     3</td>      <th>                     </th>     <td> </td>    \n",
       "</tr>\n",
       "<tr>\n",
       "  <th>Covariance Type:</th>      <td>nonrobust</td>    <th>                     </th>     <td> </td>    \n",
       "</tr>\n",
       "</table>\n",
       "<table class=\"simpletable\">\n",
       "<tr>\n",
       "       <td></td>          <th>coef</th>     <th>std err</th>      <th>t</th>      <th>P>|t|</th>  <th>[0.025</th>    <th>0.975]</th>  \n",
       "</tr>\n",
       "<tr>\n",
       "  <th>const</th>       <td>-8.739e+04</td> <td> 4335.350</td> <td>  -20.158</td> <td> 0.000</td> <td>-9.59e+04</td> <td>-7.89e+04</td>\n",
       "</tr>\n",
       "<tr>\n",
       "  <th>overallqual</th> <td> 2.527e+04</td> <td>  890.152</td> <td>   28.385</td> <td> 0.000</td> <td> 2.35e+04</td> <td>  2.7e+04</td>\n",
       "</tr>\n",
       "<tr>\n",
       "  <th>totalbsmtsf</th> <td>   40.9559</td> <td>    2.651</td> <td>   15.447</td> <td> 0.000</td> <td>   35.754</td> <td>   46.158</td>\n",
       "</tr>\n",
       "<tr>\n",
       "  <th>grlivarea</th>   <td>   45.6877</td> <td>    2.314</td> <td>   19.742</td> <td> 0.000</td> <td>   41.147</td> <td>   50.228</td>\n",
       "</tr>\n",
       "</table>\n",
       "<table class=\"simpletable\">\n",
       "<tr>\n",
       "  <th>Omnibus:</th>       <td>73.455</td> <th>  Durbin-Watson:     </th> <td>   1.964</td>\n",
       "</tr>\n",
       "<tr>\n",
       "  <th>Prob(Omnibus):</th> <td> 0.000</td> <th>  Jarque-Bera (JB):  </th> <td> 230.258</td>\n",
       "</tr>\n",
       "<tr>\n",
       "  <th>Skew:</th>          <td> 0.263</td> <th>  Prob(JB):          </th> <td>1.00e-50</td>\n",
       "</tr>\n",
       "<tr>\n",
       "  <th>Kurtosis:</th>      <td> 5.134</td> <th>  Cond. No.          </th> <td>9.10e+03</td>\n",
       "</tr>\n",
       "</table><br/><br/>Warnings:<br/>[1] Standard Errors assume that the covariance matrix of the errors is correctly specified.<br/>[2] The condition number is large, 9.1e+03. This might indicate that there are<br/>strong multicollinearity or other numerical problems."
      ],
      "text/plain": [
       "<class 'statsmodels.iolib.summary.Summary'>\n",
       "\"\"\"\n",
       "                            OLS Regression Results                            \n",
       "==============================================================================\n",
       "Dep. Variable:              saleprice   R-squared:                       0.784\n",
       "Model:                            OLS   Adj. R-squared:                  0.784\n",
       "Method:                 Least Squares   F-statistic:                     1380.\n",
       "Date:                Thu, 18 Jul 2019   Prob (F-statistic):               0.00\n",
       "Time:                        14:38:47   Log-Likelihood:                -13446.\n",
       "No. Observations:                1144   AIC:                         2.690e+04\n",
       "Df Residuals:                    1140   BIC:                         2.692e+04\n",
       "Df Model:                           3                                         \n",
       "Covariance Type:            nonrobust                                         \n",
       "===============================================================================\n",
       "                  coef    std err          t      P>|t|      [0.025      0.975]\n",
       "-------------------------------------------------------------------------------\n",
       "const       -8.739e+04   4335.350    -20.158      0.000   -9.59e+04   -7.89e+04\n",
       "overallqual  2.527e+04    890.152     28.385      0.000    2.35e+04     2.7e+04\n",
       "totalbsmtsf    40.9559      2.651     15.447      0.000      35.754      46.158\n",
       "grlivarea      45.6877      2.314     19.742      0.000      41.147      50.228\n",
       "==============================================================================\n",
       "Omnibus:                       73.455   Durbin-Watson:                   1.964\n",
       "Prob(Omnibus):                  0.000   Jarque-Bera (JB):              230.258\n",
       "Skew:                           0.263   Prob(JB):                     1.00e-50\n",
       "Kurtosis:                       5.134   Cond. No.                     9.10e+03\n",
       "==============================================================================\n",
       "\n",
       "Warnings:\n",
       "[1] Standard Errors assume that the covariance matrix of the errors is correctly specified.\n",
       "[2] The condition number is large, 9.1e+03. This might indicate that there are\n",
       "strong multicollinearity or other numerical problems.\n",
       "\"\"\""
      ]
     },
     "execution_count": 17,
     "metadata": {},
     "output_type": "execute_result"
    }
   ],
   "source": [
    "feature_list = ['overallqual', 'totalbsmtsf', 'grlivarea']\n",
    "\n",
    "model = LinearRegression()\n",
    "\n",
    "train_x, test_x, train_y, test_y = train_test_split(housing_df[feature_list], housing_df['saleprice'], test_size = .2)\n",
    "\n",
    "model.fit(train_x, train_y)\n",
    "\n",
    "X = sm.add_constant(train_x)\n",
    "\n",
    "pred = sm.OLS(train_y, X).fit()\n",
    "\n",
    "pred.summary()"
   ]
  },
  {
   "cell_type": "code",
   "execution_count": 18,
   "metadata": {
    "scrolled": true
   },
   "outputs": [
    {
     "name": "stdout",
     "output_type": "stream",
     "text": [
      "MSE:  992047246.6662871\n",
      "RMSE:  31496.78152869412\n",
      "MAE: 24334.45619741322\n",
      "MAPE 16.79066279249431\n"
     ]
    },
    {
     "data": {
      "image/png": "[encoded data removed]",
      "text/plain": [
       "<Figure size 432x288 with 1 Axes>"
      ]
     },
     "metadata": {
      "needs_background": "light"
     },
     "output_type": "display_data"
    }
   ],
   "source": [
    "pred_y = model.predict(test_x)\n",
    "\n",
    "plt.scatter(test_y, pred_y)\n",
    "plt.xlabel('True Target')\n",
    "plt.ylabel('Predicted Target')\n",
    "plt.plot(test_y, test_y, color='red')\n",
    "\n",
    "error_stats2 = pd.DataFrame({'MSE': mse(test_y, pred_y),\n",
    "                   'RMSE': rmse(test_y, pred_y),\n",
    "                   'MAE': mean_absolute_error(test_y, pred_y),\n",
    "                   'MAPE': np.mean(np.abs(test_y - pred_y) / test_y)*100},index=['model_two'])\n",
    "\n",
    "print('MSE: ', error_stats2['MSE'][0])\n",
    "print('RMSE: ',  error_stats2['RMSE'][0])\n",
    "print('MAE:', error_stats2['MAE'][0])\n",
    "print('MAPE', error_stats2['MAPE'][0])"
   ]
  },
  {
   "cell_type": "markdown",
   "metadata": {},
   "source": [
    "Since reducing the amount features increased all of the error metrics, the model below incoporates more features than the first model. "
   ]
  },
  {
   "cell_type": "code",
   "execution_count": 26,
   "metadata": {},
   "outputs": [
    {
     "data": {
      "text/html": [
       "<table class=\"simpletable\">\n",
       "<caption>OLS Regression Results</caption>\n",
       "<tr>\n",
       "  <th>Dep. Variable:</th>        <td>saleprice</td>    <th>  R-squared:         </th> <td>   0.819</td> \n",
       "</tr>\n",
       "<tr>\n",
       "  <th>Model:</th>                   <td>OLS</td>       <th>  Adj. R-squared:    </th> <td>   0.818</td> \n",
       "</tr>\n",
       "<tr>\n",
       "  <th>Method:</th>             <td>Least Squares</td>  <th>  F-statistic:       </th> <td>   736.2</td> \n",
       "</tr>\n",
       "<tr>\n",
       "  <th>Date:</th>             <td>Thu, 18 Jul 2019</td> <th>  Prob (F-statistic):</th>  <td>  0.00</td>  \n",
       "</tr>\n",
       "<tr>\n",
       "  <th>Time:</th>                 <td>14:42:05</td>     <th>  Log-Likelihood:    </th> <td> -13345.</td> \n",
       "</tr>\n",
       "<tr>\n",
       "  <th>No. Observations:</th>      <td>  1144</td>      <th>  AIC:               </th> <td>2.671e+04</td>\n",
       "</tr>\n",
       "<tr>\n",
       "  <th>Df Residuals:</th>          <td>  1136</td>      <th>  BIC:               </th> <td>2.675e+04</td>\n",
       "</tr>\n",
       "<tr>\n",
       "  <th>Df Model:</th>              <td>     7</td>      <th>                     </th>     <td> </td>    \n",
       "</tr>\n",
       "<tr>\n",
       "  <th>Covariance Type:</th>      <td>nonrobust</td>    <th>                     </th>     <td> </td>    \n",
       "</tr>\n",
       "</table>\n",
       "<table class=\"simpletable\">\n",
       "<tr>\n",
       "        <td></td>          <th>coef</th>     <th>std err</th>      <th>t</th>      <th>P>|t|</th>  <th>[0.025</th>    <th>0.975]</th>  \n",
       "</tr>\n",
       "<tr>\n",
       "  <th>const</th>        <td>-1.256e+06</td> <td> 1.01e+05</td> <td>  -12.484</td> <td> 0.000</td> <td>-1.45e+06</td> <td>-1.06e+06</td>\n",
       "</tr>\n",
       "<tr>\n",
       "  <th>overallqual</th>  <td> 1.585e+04</td> <td> 1000.596</td> <td>   15.836</td> <td> 0.000</td> <td> 1.39e+04</td> <td> 1.78e+04</td>\n",
       "</tr>\n",
       "<tr>\n",
       "  <th>yearbuilt</th>    <td>  271.3200</td> <td>   39.364</td> <td>    6.893</td> <td> 0.000</td> <td>  194.085</td> <td>  348.555</td>\n",
       "</tr>\n",
       "<tr>\n",
       "  <th>yearremodadd</th> <td>  339.0321</td> <td>   52.844</td> <td>    6.416</td> <td> 0.000</td> <td>  235.349</td> <td>  442.715</td>\n",
       "</tr>\n",
       "<tr>\n",
       "  <th>totalbsmtsf</th>  <td>   27.7512</td> <td>    3.670</td> <td>    7.562</td> <td> 0.000</td> <td>   20.551</td> <td>   34.952</td>\n",
       "</tr>\n",
       "<tr>\n",
       "  <th>firstflrsf</th>   <td>   11.5032</td> <td>    4.152</td> <td>    2.771</td> <td> 0.006</td> <td>    3.357</td> <td>   19.649</td>\n",
       "</tr>\n",
       "<tr>\n",
       "  <th>grlivarea</th>    <td>   44.6902</td> <td>    2.437</td> <td>   18.338</td> <td> 0.000</td> <td>   39.909</td> <td>   49.472</td>\n",
       "</tr>\n",
       "<tr>\n",
       "  <th>garagearea</th>   <td>   41.4288</td> <td>    5.274</td> <td>    7.856</td> <td> 0.000</td> <td>   31.082</td> <td>   51.776</td>\n",
       "</tr>\n",
       "</table>\n",
       "<table class=\"simpletable\">\n",
       "<tr>\n",
       "  <th>Omnibus:</th>       <td>126.958</td> <th>  Durbin-Watson:     </th> <td>   1.995</td> \n",
       "</tr>\n",
       "<tr>\n",
       "  <th>Prob(Omnibus):</th> <td> 0.000</td>  <th>  Jarque-Bera (JB):  </th> <td> 533.874</td> \n",
       "</tr>\n",
       "<tr>\n",
       "  <th>Skew:</th>          <td> 0.446</td>  <th>  Prob(JB):          </th> <td>1.18e-116</td>\n",
       "</tr>\n",
       "<tr>\n",
       "  <th>Kurtosis:</th>      <td> 6.226</td>  <th>  Cond. No.          </th> <td>4.29e+05</td> \n",
       "</tr>\n",
       "</table><br/><br/>Warnings:<br/>[1] Standard Errors assume that the covariance matrix of the errors is correctly specified.<br/>[2] The condition number is large, 4.29e+05. This might indicate that there are<br/>strong multicollinearity or other numerical problems."
      ],
      "text/plain": [
       "<class 'statsmodels.iolib.summary.Summary'>\n",
       "\"\"\"\n",
       "                            OLS Regression Results                            \n",
       "==============================================================================\n",
       "Dep. Variable:              saleprice   R-squared:                       0.819\n",
       "Model:                            OLS   Adj. R-squared:                  0.818\n",
       "Method:                 Least Squares   F-statistic:                     736.2\n",
       "Date:                Thu, 18 Jul 2019   Prob (F-statistic):               0.00\n",
       "Time:                        14:42:05   Log-Likelihood:                -13345.\n",
       "No. Observations:                1144   AIC:                         2.671e+04\n",
       "Df Residuals:                    1136   BIC:                         2.675e+04\n",
       "Df Model:                           7                                         \n",
       "Covariance Type:            nonrobust                                         \n",
       "================================================================================\n",
       "                   coef    std err          t      P>|t|      [0.025      0.975]\n",
       "--------------------------------------------------------------------------------\n",
       "const        -1.256e+06   1.01e+05    -12.484      0.000   -1.45e+06   -1.06e+06\n",
       "overallqual   1.585e+04   1000.596     15.836      0.000    1.39e+04    1.78e+04\n",
       "yearbuilt      271.3200     39.364      6.893      0.000     194.085     348.555\n",
       "yearremodadd   339.0321     52.844      6.416      0.000     235.349     442.715\n",
       "totalbsmtsf     27.7512      3.670      7.562      0.000      20.551      34.952\n",
       "firstflrsf      11.5032      4.152      2.771      0.006       3.357      19.649\n",
       "grlivarea       44.6902      2.437     18.338      0.000      39.909      49.472\n",
       "garagearea      41.4288      5.274      7.856      0.000      31.082      51.776\n",
       "==============================================================================\n",
       "Omnibus:                      126.958   Durbin-Watson:                   1.995\n",
       "Prob(Omnibus):                  0.000   Jarque-Bera (JB):              533.874\n",
       "Skew:                           0.446   Prob(JB):                    1.18e-116\n",
       "Kurtosis:                       6.226   Cond. No.                     4.29e+05\n",
       "==============================================================================\n",
       "\n",
       "Warnings:\n",
       "[1] Standard Errors assume that the covariance matrix of the errors is correctly specified.\n",
       "[2] The condition number is large, 4.29e+05. This might indicate that there are\n",
       "strong multicollinearity or other numerical problems.\n",
       "\"\"\""
      ]
     },
     "execution_count": 26,
     "metadata": {},
     "output_type": "execute_result"
    }
   ],
   "source": [
    "feature_list = ['overallqual',\n",
    " 'yearbuilt',\n",
    " 'yearremodadd',\n",
    " 'totalbsmtsf',\n",
    " 'firstflrsf',\n",
    " 'grlivarea',\n",
    " 'garagearea']\n",
    "\n",
    "model = LinearRegression()\n",
    "\n",
    "train_x, test_x, train_y, test_y = train_test_split(housing_df[feature_list], housing_df['saleprice'], test_size = .2)\n",
    "\n",
    "model.fit(train_x, train_y)\n",
    "\n",
    "X = sm.add_constant(train_x)\n",
    "\n",
    "pred = sm.OLS(train_y, X).fit()\n",
    "\n",
    "pred.summary()\n",
    "\n"
   ]
  },
  {
   "cell_type": "code",
   "execution_count": 27,
   "metadata": {},
   "outputs": [
    {
     "name": "stdout",
     "output_type": "stream",
     "text": [
      "MSE:  673370346.4013838\n",
      "RMSE:  25949.38046276604\n",
      "MAE: 19898.98124496751\n",
      "MAPE 11.706021118426571\n"
     ]
    },
    {
     "data": {
      "image/png": "[encoded data removed]",
      "text/plain": [
       "<Figure size 432x288 with 1 Axes>"
      ]
     },
     "metadata": {
      "needs_background": "light"
     },
     "output_type": "display_data"
    }
   ],
   "source": [
    "pred_y = model.predict(test_x)\n",
    "\n",
    "plt.scatter(test_y, pred_y)\n",
    "plt.xlabel('True Target')\n",
    "plt.ylabel('Predicted Target')\n",
    "plt.plot(test_y, test_y, color='red')\n",
    "\n",
    "error_stats3 = pd.DataFrame({'MSE': mse(test_y, pred_y),\n",
    "                   'RMSE': rmse(test_y, pred_y),\n",
    "                   'MAE': mean_absolute_error(test_y, pred_y),\n",
    "                   'MAPE': np.mean(np.abs(test_y - pred_y) / test_y)*100},index=['model_three'])\n",
    "\n",
    "print('MSE: ', error_stats3['MSE'][0])\n",
    "print('RMSE: ',  error_stats3['RMSE'][0])\n",
    "print('MAE:', error_stats3['MAE'][0])\n",
    "print('MAPE', error_stats3['MAPE'][0])"
   ]
  },
  {
   "cell_type": "code",
   "execution_count": 28,
   "metadata": {},
   "outputs": [
    {
     "data": {
      "text/html": [
       "<div>\n",
       "<style scoped>\n",
       "    .dataframe tbody tr th:only-of-type {\n",
       "        vertical-align: middle;\n",
       "    }\n",
       "\n",
       "    .dataframe tbody tr th {\n",
       "        vertical-align: top;\n",
       "    }\n",
       "\n",
       "    .dataframe thead th {\n",
       "        text-align: right;\n",
       "    }\n",
       "</style>\n",
       "<table border=\"1\" class=\"dataframe\">\n",
       "  <thead>\n",
       "    <tr style=\"text-align: right;\">\n",
       "      <th></th>\n",
       "      <th>MSE</th>\n",
       "      <th>RMSE</th>\n",
       "      <th>MAE</th>\n",
       "      <th>MAPE</th>\n",
       "    </tr>\n",
       "  </thead>\n",
       "  <tbody>\n",
       "    <tr>\n",
       "      <th>model_one</th>\n",
       "      <td>8.145238e+08</td>\n",
       "      <td>28539.863511</td>\n",
       "      <td>20871.823149</td>\n",
       "      <td>12.604742</td>\n",
       "    </tr>\n",
       "    <tr>\n",
       "      <th>model_two</th>\n",
       "      <td>9.920472e+08</td>\n",
       "      <td>31496.781529</td>\n",
       "      <td>24334.456197</td>\n",
       "      <td>16.790663</td>\n",
       "    </tr>\n",
       "    <tr>\n",
       "      <th>model_three</th>\n",
       "      <td>6.733703e+08</td>\n",
       "      <td>25949.380463</td>\n",
       "      <td>19898.981245</td>\n",
       "      <td>11.706021</td>\n",
       "    </tr>\n",
       "  </tbody>\n",
       "</table>\n",
       "</div>"
      ],
      "text/plain": [
       "                      MSE          RMSE           MAE       MAPE\n",
       "model_one    8.145238e+08  28539.863511  20871.823149  12.604742\n",
       "model_two    9.920472e+08  31496.781529  24334.456197  16.790663\n",
       "model_three  6.733703e+08  25949.380463  19898.981245  11.706021"
      ]
     },
     "execution_count": 28,
     "metadata": {},
     "output_type": "execute_result"
    }
   ],
   "source": [
    "error_stats1.append([error_stats2,error_stats3])"
   ]
  },
  {
   "cell_type": "markdown",
   "metadata": {},
   "source": [
    "Out of all three models, the added feature model (third model) performed the best in terms of errors metrics.  "
   ]
  }
 ],
 "metadata": {
  "kernelspec": {
   "display_name": "Python 3",
   "language": "python",
   "name": "python3"
  },
  "language_info": {
   "codemirror_mode": {
    "name": "ipython",
    "version": 3
   },
   "file_extension": ".py",
   "mimetype": "text/x-python",
   "name": "python",
   "nbconvert_exporter": "python",
   "pygments_lexer": "ipython3",
   "version": "3.7.1"
  },
  "toc": {
   "base_numbering": 1,
   "nav_menu": {},
   "number_sections": true,
   "sideBar": true,
   "skip_h1_title": false,
   "title_cell": "Table of Contents",
   "title_sidebar": "Contents",
   "toc_cell": true,
   "toc_position": {},
   "toc_section_display": true,
   "toc_window_display": false
  },
  "varInspector": {
   "cols": {
    "lenName": 16,
    "lenType": 16,
    "lenVar": 40
   },
   "kernels_config": {
    "python": {
     "delete_cmd_postfix": "",
     "delete_cmd_prefix": "del ",
     "library": "var_list.py",
     "varRefreshCmd": "print(var_dic_list())"
    },
    "r": {
     "delete_cmd_postfix": ") ",
     "delete_cmd_prefix": "rm(",
     "library": "var_list.r",
     "varRefreshCmd": "cat(var_dic_list()) "
    }
   },
   "types_to_exclude": [
    "module",
    "function",
    "builtin_function_or_method",
    "instance",
    "_Feature"
   ],
   "window_display": false
  }
 },
 "nbformat": 4,
 "nbformat_minor": 2
}
