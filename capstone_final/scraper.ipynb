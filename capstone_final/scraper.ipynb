{
 "cells": [
  {
   "cell_type": "code",
   "execution_count": 1,
   "metadata": {},
   "outputs": [],
   "source": [
    "\n",
    "import scrapy\n",
    "from scrapy.crawler import CrawlerProcess\n",
    "from scrapy import Spider\n",
    "import scrapy\n",
    "from scrapy import Request\n",
    "\n",
    "class craiglistSpider(scrapy.Spider):\n",
    "    name = \"jobs\"\n",
    "    allowed_domains = [\"craigslist.org\"]\n",
    "    start_urls = [\"https://honolulu.craigslist.org/search/sss?query=surfboard&sort=rel\"]\n",
    "\n",
    "    def parse(self, response):\n",
    "        jobs = response.xpath('//p[@class=\"result-info\"]')\n",
    "\n",
    "        for job in jobs:\n",
    "            \n",
    "            relative_url = job.xpath('a/@href').extract_first()\n",
    "            absolute_url = response.urljoin(relative_url)\n",
    "            \n",
    "            yield Request(absolute_url, callback=self.parse_page, meta={'URL': absolute_url})\n",
    "            \n",
    "        relative_next_url = response.xpath('//a[@class=\"button next\"]/@href').extract_first()\n",
    "        absolute_next_url = \"https://honolulu.craigslist.org\" + relative_next_url\n",
    "\n",
    "        yield Request(absolute_next_url, callback=self.parse)\n",
    "        \n",
    "    def parse_page(self, response):\n",
    "        url = response.meta.get('URL')\n",
    "\n",
    "        yield {\n",
    "        'url': url,\n",
    "        'title': response.xpath('//span[@id=\"titletextonly\"]/text()').extract(),\n",
    "        'price': response.xpath('//span[@class=\"price\"]/text()').extract(),\n",
    "        'description': \"\".join(line for line in response.xpath('//*[@id=\"postingbody\"]/text()').extract()),\n",
    "        'condition': response.xpath('//p[@class=\"attrgroup\"]/span[1]/b/text()').extract(),    \n",
    "        'manufacturer': response.xpath('//p[@class=\"attrgroup\"]/span[2]/b/text()').extract(),\n",
    "        'model_name': response.xpath('//p[@class=\"attrgroup\"]/span[3]/b/text()').extract(),\n",
    "        'size_dimensions': response.xpath('//p[@class=\"attrgroup\"]/span[4]/b/text()').extract()\n",
    "        }\n",
    "process = CrawlerProcess({\n",
    "'FEED_FORMAT': 'json',\n",
    "'FEED_URI': 'surfboard.json',\n",
    "'ROBOTSTXT_OBEY': False,\n",
    "'USER_AGENT': 'ThinkfulDataScienceBootcampCrawler (thinkful.com)',\n",
    "'AUTOTHROTTLE_ENABLED': True,\n",
    "'HTTPCACHE_ENABLED': True,\n",
    "'LOG_ENABLED': False\n",
    "})\n",
    "                                         \n",
    "\n",
    "process.crawl(craiglistSpider)\n",
    "process.start()\n"
   ]
  }
 ],
 "metadata": {
  "kernelspec": {
   "display_name": "Python 3",
   "language": "python",
   "name": "python3"
  },
  "language_info": {
   "codemirror_mode": {
    "name": "ipython",
    "version": 3
   },
   "file_extension": ".py",
   "mimetype": "text/x-python",
   "name": "python",
   "nbconvert_exporter": "python",
   "pygments_lexer": "ipython3",
   "version": "3.7.1"
  },
  "toc": {
   "base_numbering": 1,
   "nav_menu": {},
   "number_sections": true,
   "sideBar": true,
   "skip_h1_title": false,
   "title_cell": "Table of Contents",
   "title_sidebar": "Contents",
   "toc_cell": true,
   "toc_position": {},
   "toc_section_display": true,
   "toc_window_display": false
  },
  "varInspector": {
   "cols": {
    "lenName": 16,
    "lenType": 16,
    "lenVar": 40
   },
   "kernels_config": {
    "python": {
     "delete_cmd_postfix": "",
     "delete_cmd_prefix": "del ",
     "library": "var_list.py",
     "varRefreshCmd": "print(var_dic_list())"
    },
    "r": {
     "delete_cmd_postfix": ") ",
     "delete_cmd_prefix": "rm(",
     "library": "var_list.r",
     "varRefreshCmd": "cat(var_dic_list()) "
    }
   },
   "types_to_exclude": [
    "module",
    "function",
    "builtin_function_or_method",
    "instance",
    "_Feature"
   ],
   "window_display": false
  }
 },
 "nbformat": 4,
 "nbformat_minor": 2
}
