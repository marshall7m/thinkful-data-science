{
 "cells": [
  {
   "cell_type": "code",
   "execution_count": 1,
   "metadata": {},
   "outputs": [],
   "source": [
    "import numpy as np\n",
    "import scrapy\n",
    "from scrapy.crawler import CrawlerProcess\n",
    "from scrapy import Spider\n",
    "import scrapy\n",
    "from scrapy import Request\n",
    "\n",
    "class usb_hi_Spider(scrapy.Spider):\n",
    "        \n",
    "    name = \"surfboards\"\n",
    "    start_urls = [\"https://www.usedsurfboardshawaii.com/?post_type=product\"]\n",
    "\n",
    "    def parse(self, response):\n",
    "        products = response.xpath('//*[@id=\"products-grid\"]/li')\n",
    "\n",
    "        for product in products:\n",
    "            \n",
    "            relative_url = product.xpath('a/@href').extract_first()\n",
    "            absolute_url = response.urljoin(relative_url)\n",
    "            \n",
    "            yield Request(absolute_url, callback=self.parse_page, meta={'URL': absolute_url})\n",
    "            \n",
    "        relative_next_url = response.xpath('//*[@class=\"next page-numbers\"]/@href').extract_first()\n",
    "        absolute_next_url = \"https://www.usedsurfboardshawaii.com\" + relative_next_url\n",
    "\n",
    "        yield Request(absolute_next_url, callback=self.parse)\n",
    "        \n",
    "    def parse_page(self, response):\n",
    "\n",
    "        yield {\n",
    "        'url': response.meta.get('URL'),\n",
    "        'title': ''.join(response.xpath('//h1[@class=\"product_title entry-title\"]/text()').extract()),\n",
    "        'price': float(''.join(response.xpath('//p[@class=\"price\"]/span/text()').extract()).strip('$')),\n",
    "        'description': \"\".join(line for line in response.xpath('//*[@class=\"product_description\"]/p[6]/text()').extract()),\n",
    "        'type': ''.join(response.xpath('//*[@class=\"product_description\"]/p[1]/text()').extract()),    \n",
    "        'height': ''.join(response.xpath('//*[@class=\"product_description\"]/p[2]/text()').extract()),\n",
    "        'width': ''.join(response.xpath('//*[@class=\"product_description\"]/p[3]/text()').extract()),    \n",
    "        'thickness': ''.join(response.xpath('//*[@class=\"product_description\"]/p[4]/text()').extract()),    \n",
    "        'condition': ''.join(response.xpath('//*[@class=\"woocommerce-product-attributes-item woocommerce-product-attributes-item--attribute_pa_condition\"]/td/p/text()').extract()),    \n",
    "        'manufacturer': ''.join(response.xpath('//*[@class=\"woocommerce-product-attributes-item woocommerce-product-attributes-item--attribute_pa_shaper-of-board\"]/td/p/text()').extract())    \n",
    "        }\n",
    "process = CrawlerProcess({\n",
    "'FEED_FORMAT': 'json',\n",
    "'FEED_URI': 'used_surfboard_hawaii.json',\n",
    "'ROBOTSTXT_OBEY': False,\n",
    "'USER_AGENT': 'ThinkfulDataScienceBootcampCrawler (thinkful.com)',\n",
    "'AUTOTHROTTLE_ENABLED': True,\n",
    "'HTTPCACHE_ENABLED': True,\n",
    "'LOG_ENABLED': False,\n",
    "'CLOSESPIDER_PAGECOUNT' : 34\n",
    "})\n",
    "                                         \n",
    "\n",
    "process.crawl(usb_hi_Spider)\n",
    "process.start()\n"
   ]
  }
 ],
 "metadata": {
  "kernelspec": {
   "display_name": "Python 3",
   "language": "python",
   "name": "python3"
  },
  "language_info": {
   "codemirror_mode": {
    "name": "ipython",
    "version": 3
   },
   "file_extension": ".py",
   "mimetype": "text/x-python",
   "name": "python",
   "nbconvert_exporter": "python",
   "pygments_lexer": "ipython3",
   "version": "3.7.1"
  },
  "toc": {
   "base_numbering": 1,
   "nav_menu": {},
   "number_sections": true,
   "sideBar": true,
   "skip_h1_title": false,
   "title_cell": "Table of Contents",
   "title_sidebar": "Contents",
   "toc_cell": true,
   "toc_position": {},
   "toc_section_display": true,
   "toc_window_display": false
  },
  "varInspector": {
   "cols": {
    "lenName": 16,
    "lenType": 16,
    "lenVar": 40
   },
   "kernels_config": {
    "python": {
     "delete_cmd_postfix": "",
     "delete_cmd_prefix": "del ",
     "library": "var_list.py",
     "varRefreshCmd": "print(var_dic_list())"
    },
    "r": {
     "delete_cmd_postfix": ") ",
     "delete_cmd_prefix": "rm(",
     "library": "var_list.r",
     "varRefreshCmd": "cat(var_dic_list()) "
    }
   },
   "types_to_exclude": [
    "module",
    "function",
    "builtin_function_or_method",
    "instance",
    "_Feature"
   ],
   "window_display": false
  }
 },
 "nbformat": 4,
 "nbformat_minor": 2
}
