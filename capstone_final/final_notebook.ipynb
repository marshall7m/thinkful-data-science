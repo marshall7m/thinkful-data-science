{
 "cells": [
  {
   "cell_type": "markdown",
   "metadata": {
    "toc": true
   },
   "source": [
    "<h1>Table of Contents<span class=\"tocSkip\"></span></h1>\n",
    "<div class=\"toc\"><ul class=\"toc-item\"></ul></div>"
   ]
  },
  {
   "cell_type": "code",
   "execution_count": 1,
   "metadata": {},
   "outputs": [],
   "source": [
    "import numpy as np\n",
    "import pandas as pd\n",
    "import scrapy\n",
    "from scrapy.crawler import CrawlerProcess\n",
    "from scrapy import Spider"
   ]
  },
  {
   "cell_type": "code",
   "execution_count": 2,
   "metadata": {},
   "outputs": [],
   "source": [
    "class craiglistSpider(scrapy.Spider):\n",
    "    name = \"craiglist_surfboard_crawl\"\n",
    "    \n",
    "    start_urls = [\n",
    "        'https://honolulu.craigslist.org/search/sss?query=surfboard&sort=rel'\n",
    "        ]\n",
    "\n",
    "    allowed_domains = [\"craigslist.org\"]\n",
    "\n",
    "    def parse(self, page):\n",
    "        products = page.xpath('//p[@class=\"result-info\"]')\n",
    "\n",
    "        for product in products:\n",
    "            relative_url = product.xpath('a/@href').extract_first()\n",
    "            absolute_url = page.urljoin(relative_url)\n",
    "            title = product.xpath('a/text()').extract_first()\n",
    "            \n",
    "            yield Request(absolute_url, callback=self.parse_page, meta={'URL': absolute_url, 'Title': title})\n",
    "\n",
    "        relative_next_url = response.xpath('//a[@class=\"button next\"]/@href').extract_first()\n",
    "        absolute_next_url = \"https://newyork.craigslist.org\" + relative_next_url\n",
    "        \n",
    "    def parse_page(self, page):\n",
    "        yield {\n",
    "        'title': page.xpath('//*[@id=\"titletextonly\"]/text()').extract(),\n",
    "        'price': page.xpath('/html/body/section/section/h2/span/span[2]/text()').extract(),\n",
    "        'description': \"\".join(line for line in response.xpath('//*[@id=\"postingbody\"]/text()').extract()),\n",
    "        'condition': page.xpath('/html/body/section/section/section/div[1]/p/span[1]/b/text()').extract(),\n",
    "        'manufacturer': page.xpath('/html/body/section/section/section/div[1]/p/span[2]/b/text()').extract(),\n",
    "        'model_name': page.xpath('/html/body/section/section/section/div[1]/p/span[3]/b/text()').extract(),\n",
    "        'size_dimensions': page.xpath('/html/body/section/section/section/div[1]/p/span[4])/b/text()').extract()\n",
    "\n",
    "    }\n",
    "                    \n",
    "        # Getting the information needed to continue to the next ten entries.\n",
    "#         next_page = response.xpath('//*[@id=\"searchform\"]/div[5]/div[3]/span[2]/span[4]').extract_first()\n",
    "        \n",
    "#         # Recursively calling the spider to process the next ten entries, if they exist.\n",
    "#         if next_page is not None:\n",
    "#             next_page = '{}&lhcontinue={}'.format(self.start_urls[0],next_page)\n",
    "#             yield scrapy.Request(next_page, callback=self.parse)\n",
    "            \n",
    "    \n",
    "process = CrawlerProcess({\n",
    "    'FEED_FORMAT': 'json',\n",
    "    'FEED_URI': 'surfboard.json',\n",
    "    'ROBOTSTXT_OBEY': False,\n",
    "    'USER_AGENT': 'ThinkfulDataScienceBootcampCrawler (thinkful.com)',\n",
    "    'AUTOTHROTTLE_ENABLED': True,\n",
    "    'HTTPCACHE_ENABLED': True,\n",
    "    'LOG_ENABLED': False,\n",
    "    'CLOSESPIDER_PAGECOUNT' : 10\n",
    "})\n",
    "                                         \n",
    "\n",
    "process.crawl(craiglistSpider)\n",
    "process.start()"
   ]
  }
 ],
 "metadata": {
  "kernelspec": {
   "display_name": "Python 3",
   "language": "python",
   "name": "python3"
  },
  "language_info": {
   "codemirror_mode": {
    "name": "ipython",
    "version": 3
   },
   "file_extension": ".py",
   "mimetype": "text/x-python",
   "name": "python",
   "nbconvert_exporter": "python",
   "pygments_lexer": "ipython3",
   "version": "3.7.1"
  },
  "toc": {
   "base_numbering": 1,
   "nav_menu": {},
   "number_sections": true,
   "sideBar": true,
   "skip_h1_title": false,
   "title_cell": "Table of Contents",
   "title_sidebar": "Contents",
   "toc_cell": true,
   "toc_position": {},
   "toc_section_display": true,
   "toc_window_display": false
  },
  "varInspector": {
   "cols": {
    "lenName": 16,
    "lenType": 16,
    "lenVar": 40
   },
   "kernels_config": {
    "python": {
     "delete_cmd_postfix": "",
     "delete_cmd_prefix": "del ",
     "library": "var_list.py",
     "varRefreshCmd": "print(var_dic_list())"
    },
    "r": {
     "delete_cmd_postfix": ") ",
     "delete_cmd_prefix": "rm(",
     "library": "var_list.r",
     "varRefreshCmd": "cat(var_dic_list()) "
    }
   },
   "types_to_exclude": [
    "module",
    "function",
    "builtin_function_or_method",
    "instance",
    "_Feature"
   ],
   "window_display": false
  }
 },
 "nbformat": 4,
 "nbformat_minor": 2
}
