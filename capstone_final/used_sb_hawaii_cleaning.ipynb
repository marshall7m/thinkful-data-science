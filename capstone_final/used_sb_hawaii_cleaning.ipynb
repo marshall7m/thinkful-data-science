{
 "cells": [
  {
   "cell_type": "markdown",
   "metadata": {},
   "source": [
    "# Introduction"
   ]
  },
  {
   "cell_type": "markdown",
   "metadata": {},
   "source": [
    "### Imports"
   ]
  },
  {
   "cell_type": "code",
   "execution_count": 11,
   "metadata": {},
   "outputs": [],
   "source": [
    "\n",
    "import pandas as pd\n",
    "import numpy as np\n",
    "import matplotlib.pyplot as plt\n",
    "import seaborn as sns\n",
    "import re\n",
    "import json\n",
    "%matplotlib inline\n",
    "\n",
    "# Options for pandas\n",
    "pd.options.display.max_columns = 150\n",
    "pd.options.display.max_rows = 150\n",
    "pd.set_option.max_colwidth = 150\n"
   ]
  },
  {
   "cell_type": "markdown",
   "metadata": {
    "toc": true
   },
   "source": [
    "<h1>Table of Contents<span class=\"tocSkip\"></span></h1>\n",
    "<div class=\"toc\"><ul class=\"toc-item\"><li><span><a href=\"#Introduction\" data-toc-modified-id=\"Introduction-1\"><span class=\"toc-item-num\">1&nbsp;&nbsp;</span>Introduction</a></span><ul class=\"toc-item\"><li><ul class=\"toc-item\"><li><span><a href=\"#Imports\" data-toc-modified-id=\"Imports-1.0.1\"><span class=\"toc-item-num\">1.0.1&nbsp;&nbsp;</span>Imports</a></span></li></ul></li></ul></li></ul></div>"
   ]
  },
  {
   "cell_type": "code",
   "execution_count": 4,
   "metadata": {},
   "outputs": [],
   "source": [
    "with open('used_surfboard_hawaii.json') as datafile:\n",
    "    data = json.load(datafile)\n",
    "df = pd.DataFrame(data)\n"
   ]
  },
  {
   "cell_type": "code",
   "execution_count": 5,
   "metadata": {},
   "outputs": [
    {
     "data": {
      "text/html": [
       "<div>\n",
       "<style scoped>\n",
       "    .dataframe tbody tr th:only-of-type {\n",
       "        vertical-align: middle;\n",
       "    }\n",
       "\n",
       "    .dataframe tbody tr th {\n",
       "        vertical-align: top;\n",
       "    }\n",
       "\n",
       "    .dataframe thead th {\n",
       "        text-align: right;\n",
       "    }\n",
       "</style>\n",
       "<table border=\"1\" class=\"dataframe\">\n",
       "  <thead>\n",
       "    <tr style=\"text-align: right;\">\n",
       "      <th></th>\n",
       "      <th>condition</th>\n",
       "      <th>description</th>\n",
       "      <th>height</th>\n",
       "      <th>manufacturer</th>\n",
       "      <th>price</th>\n",
       "      <th>thickness</th>\n",
       "      <th>title</th>\n",
       "      <th>type</th>\n",
       "      <th>url</th>\n",
       "      <th>width</th>\n",
       "    </tr>\n",
       "  </thead>\n",
       "  <tbody>\n",
       "    <tr>\n",
       "      <th>0</th>\n",
       "      <td>Excellent, Good, Like New, New</td>\n",
       "      <td>Brand new shortboard with no signs of previous...</td>\n",
       "      <td>H 6’2″</td>\n",
       "      <td>Tokoro</td>\n",
       "      <td>585.0</td>\n",
       "      <td>T 2 3/8″</td>\n",
       "      <td>6ft 2in Tokoro (4VC) Round Pin Tail Ref# 30481</td>\n",
       "      <td>Thruster (FCS2)</td>\n",
       "      <td>https://www.usedsurfboardshawaii.com/product/6...</td>\n",
       "      <td>W 18 7/8″</td>\n",
       "    </tr>\n",
       "    <tr>\n",
       "      <th>1</th>\n",
       "      <td>Excellent, Good, Like New</td>\n",
       "      <td></td>\n",
       "      <td>H 6’7″</td>\n",
       "      <td>Tokoro</td>\n",
       "      <td>599.0</td>\n",
       "      <td>T 2 1/4″</td>\n",
       "      <td>6ft 7in Tokoro Round Pin Tail Ref# 30275</td>\n",
       "      <td>Thruster (FCS2)</td>\n",
       "      <td>https://www.usedsurfboardshawaii.com/product/6...</td>\n",
       "      <td>W 18 3/8″</td>\n",
       "    </tr>\n",
       "    <tr>\n",
       "      <th>2</th>\n",
       "      <td>Good</td>\n",
       "      <td>Good condition shortboard with light deck pres...</td>\n",
       "      <td>H 6’1″</td>\n",
       "      <td>SCI-FI / Tomo, Slater Designs</td>\n",
       "      <td>499.0</td>\n",
       "      <td>T 2 3/4″</td>\n",
       "      <td>6ft 1in Slater Designs (Sci-Fi) Round Bat Tail...</td>\n",
       "      <td>5-Fin (Future)</td>\n",
       "      <td>https://www.usedsurfboardshawaii.com/product/6...</td>\n",
       "      <td>W 20 1/4″</td>\n",
       "    </tr>\n",
       "    <tr>\n",
       "      <th>3</th>\n",
       "      <td>Good</td>\n",
       "      <td>Good condition shortboard with some deck press...</td>\n",
       "      <td>H 5’9″</td>\n",
       "      <td>Arakawa, Eric Arakawa</td>\n",
       "      <td>270.0</td>\n",
       "      <td>T 2 1/4″</td>\n",
       "      <td>5ft 9in Eric Arakawa (GX) Squash Tail Ref# 30436</td>\n",
       "      <td>Thruster (FCS)</td>\n",
       "      <td>https://www.usedsurfboardshawaii.com/product/5...</td>\n",
       "      <td>W 18 1/2″</td>\n",
       "    </tr>\n",
       "    <tr>\n",
       "      <th>4</th>\n",
       "      <td>Good</td>\n",
       "      <td>Good condition big guy shortboard with light d...</td>\n",
       "      <td>H 6’6″</td>\n",
       "      <td>Makani</td>\n",
       "      <td>399.0</td>\n",
       "      <td>T 3″</td>\n",
       "      <td>6ft 6in Makani Round Tail Ref# 30398</td>\n",
       "      <td>5-Fin (Future)</td>\n",
       "      <td>https://www.usedsurfboardshawaii.com/product/6...</td>\n",
       "      <td>W 21 3/8″</td>\n",
       "    </tr>\n",
       "  </tbody>\n",
       "</table>\n",
       "</div>"
      ],
      "text/plain": [
       "                        condition  \\\n",
       "0  Excellent, Good, Like New, New   \n",
       "1       Excellent, Good, Like New   \n",
       "2                            Good   \n",
       "3                            Good   \n",
       "4                            Good   \n",
       "\n",
       "                                         description  height  \\\n",
       "0  Brand new shortboard with no signs of previous...  H 6’2″   \n",
       "1                                                     H 6’7″   \n",
       "2  Good condition shortboard with light deck pres...  H 6’1″   \n",
       "3  Good condition shortboard with some deck press...  H 5’9″   \n",
       "4  Good condition big guy shortboard with light d...  H 6’6″   \n",
       "\n",
       "                    manufacturer  price thickness  \\\n",
       "0                         Tokoro  585.0  T 2 3/8″   \n",
       "1                         Tokoro  599.0  T 2 1/4″   \n",
       "2  SCI-FI / Tomo, Slater Designs  499.0  T 2 3/4″   \n",
       "3          Arakawa, Eric Arakawa  270.0  T 2 1/4″   \n",
       "4                         Makani  399.0      T 3″   \n",
       "\n",
       "                                               title             type  \\\n",
       "0     6ft 2in Tokoro (4VC) Round Pin Tail Ref# 30481  Thruster (FCS2)   \n",
       "1           6ft 7in Tokoro Round Pin Tail Ref# 30275  Thruster (FCS2)   \n",
       "2  6ft 1in Slater Designs (Sci-Fi) Round Bat Tail...   5-Fin (Future)   \n",
       "3   5ft 9in Eric Arakawa (GX) Squash Tail Ref# 30436   Thruster (FCS)   \n",
       "4               6ft 6in Makani Round Tail Ref# 30398   5-Fin (Future)   \n",
       "\n",
       "                                                 url      width  \n",
       "0  https://www.usedsurfboardshawaii.com/product/6...  W 18 7/8″  \n",
       "1  https://www.usedsurfboardshawaii.com/product/6...  W 18 3/8″  \n",
       "2  https://www.usedsurfboardshawaii.com/product/6...  W 20 1/4″  \n",
       "3  https://www.usedsurfboardshawaii.com/product/5...  W 18 1/2″  \n",
       "4  https://www.usedsurfboardshawaii.com/product/6...  W 21 3/8″  "
      ]
     },
     "execution_count": 5,
     "metadata": {},
     "output_type": "execute_result"
    }
   ],
   "source": [
    "df.head()"
   ]
  },
  {
   "cell_type": "code",
   "execution_count": 51,
   "metadata": {},
   "outputs": [],
   "source": [
    "def dimension_to_float(int_list):\n",
    "    if len(int_list) == 1:\n",
    "        return int(int_list[0])\n",
    "    else:\n",
    "        return int(int_list[0]) + (int(int_list[1])/int(int_list[2]))\n",
    "    \n",
    "def single_condition(text):\n",
    "    text_list = [condition.strip() for condition in text.lower().split(',')]\n",
    "    condition_list = ['new', 'like new', 'excellent', 'very good', 'good', 'fair', 'poor']\n",
    "    conditon_map = {'new':'new',\n",
    "                    'like new': 'like_new',\n",
    "                    'excellent': 'like_new',\n",
    "                    'very good': 'great',\n",
    "                    'good': 'good',\n",
    "                    'fair': 'fair',\n",
    "                    'poor': 'poor'}\n",
    "    \n",
    "    for condition in condition_list:\n",
    "        if condition in text_list:\n",
    "            return conditon_map[condition]\n",
    "                                    "
   ]
  },
  {
   "cell_type": "code",
   "execution_count": 138,
   "metadata": {},
   "outputs": [],
   "source": [
    "df['model_name'] = df['title'].apply(lambda x: ''.join(re.findall('\\([\\d*\\w*]\\)|(Round\\sPin|Squash|Round|Pin|Diamond|Swallow|Chop|Bat|Fish|Square) Tail(?=\\sRef#)', x)))\n",
    "\n",
    "df['height_list'] = df['height'].apply(lambda x: re.findall('\\d+(?=[\\u0080-\\uFFFF])', x))\n",
    "df['height_float'] = df['height_list'].apply(lambda x: int(x[0]) + (int(x[1])/100))\n",
    "\n",
    "\n",
    "df['width_list'] = df['width'].apply(lambda x: re.findall('(?<=[A-Z]\\s)\\d+|\\d+(?=\\/)|(?<=\\/)\\d+', x))\n",
    "df['width_float'] = df['width_list'].apply(lambda x: dimension_to_float(x))\n",
    "\n",
    "df['thickness_list'] = df['thickness'].apply(lambda x: re.findall('(?<=[A-Z]\\s)\\d+|\\d+(?=\\/)|(?<=\\/)\\d+', x))\n",
    "df['thickness_float'] = df['thickness_list'].apply(lambda x: dimension_to_float(x))\n",
    "\n",
    "df['uni_condition'] = df['condition'].apply(lambda x: single_condition(x))\n",
    "\n"
   ]
  },
  {
   "cell_type": "code",
   "execution_count": 214,
   "metadata": {},
   "outputs": [
    {
     "data": {
      "text/plain": [
       "['', 'Round Pin']"
      ]
     },
     "execution_count": 214,
     "metadata": {},
     "output_type": "execute_result"
    }
   ],
   "source": [
    "x = '6ft 2in Tokoro (4VC) Round Pin Tail Ref# 30481'\n",
    "\n",
    "re.findall('(?<=\\().*?(?=\\))|(Round\\sPin|Squash|Round|Pin|Diamond|Swallow|Chop|Bat|Fish|SquareTail(?=\\sRef#))', x)"
   ]
  }
 ],
 "metadata": {
  "kernelspec": {
   "display_name": "Python 3",
   "language": "python",
   "name": "python3"
  },
  "language_info": {
   "codemirror_mode": {
    "name": "ipython",
    "version": 3
   },
   "file_extension": ".py",
   "mimetype": "text/x-python",
   "name": "python",
   "nbconvert_exporter": "python",
   "pygments_lexer": "ipython3",
   "version": "3.7.1"
  },
  "toc": {
   "base_numbering": 1,
   "nav_menu": {},
   "number_sections": true,
   "sideBar": true,
   "skip_h1_title": false,
   "title_cell": "Table of Contents",
   "title_sidebar": "Contents",
   "toc_cell": true,
   "toc_position": {},
   "toc_section_display": true,
   "toc_window_display": false
  },
  "varInspector": {
   "cols": {
    "lenName": 16,
    "lenType": 16,
    "lenVar": 40
   },
   "kernels_config": {
    "python": {
     "delete_cmd_postfix": "",
     "delete_cmd_prefix": "del ",
     "library": "var_list.py",
     "varRefreshCmd": "print(var_dic_list())"
    },
    "r": {
     "delete_cmd_postfix": ") ",
     "delete_cmd_prefix": "rm(",
     "library": "var_list.r",
     "varRefreshCmd": "cat(var_dic_list()) "
    }
   },
   "types_to_exclude": [
    "module",
    "function",
    "builtin_function_or_method",
    "instance",
    "_Feature"
   ],
   "window_display": false
  }
 },
 "nbformat": 4,
 "nbformat_minor": 2
}
