{
 "cells": [
  {
   "cell_type": "markdown",
   "metadata": {},
   "source": [
    "# Introduction"
   ]
  },
  {
   "cell_type": "markdown",
   "metadata": {},
   "source": [
    "### Imports"
   ]
  },
  {
   "cell_type": "code",
   "execution_count": 1,
   "metadata": {},
   "outputs": [
    {
     "name": "stderr",
     "output_type": "stream",
     "text": [
      "/Users/marshallmamiya/anaconda3/lib/python3.7/site-packages/matplotlib/__init__.py:886: MatplotlibDeprecationWarning: \n",
      "examples.directory is deprecated; in the future, examples will be found relative to the 'datapath' directory.\n",
      "  \"found relative to the 'datapath' directory.\".format(key))\n"
     ]
    }
   ],
   "source": [
    "\n",
    "import pandas as pd\n",
    "import numpy as np\n",
    "import matplotlib.pyplot as plt\n",
    "import seaborn as sns\n",
    "import re\n",
    "%matplotlib inline\n",
    "\n",
    "# Options for pandas\n",
    "pd.options.display.max_columns = 150\n",
    "pd.options.display.max_rows = 150"
   ]
  },
  {
   "cell_type": "markdown",
   "metadata": {
    "toc": true
   },
   "source": [
    "<h1>Table of Contents<span class=\"tocSkip\"></span></h1>\n",
    "<div class=\"toc\"><ul class=\"toc-item\"><li><span><a href=\"#Introduction\" data-toc-modified-id=\"Introduction-1\"><span class=\"toc-item-num\">1&nbsp;&nbsp;</span>Introduction</a></span><ul class=\"toc-item\"><li><ul class=\"toc-item\"><li><span><a href=\"#Imports\" data-toc-modified-id=\"Imports-1.0.1\"><span class=\"toc-item-num\">1.0.1&nbsp;&nbsp;</span>Imports</a></span></li></ul></li></ul></li></ul></div>"
   ]
  },
  {
   "cell_type": "code",
   "execution_count": null,
   "metadata": {},
   "outputs": [],
   "source": [
    "from splinter import Browser\n",
    "from selenium.webdriver.support.ui import WebDriverWait\n",
    "from bs4 import BeautifulSoup\n",
    "from selenium import webdriver\n",
    "import pandas as pd\n",
    "import time\n",
    "\n",
    "browser = Browser('chrome')\n",
    "url = \"https://theboardsource.com/product-category/surfboards/\"\n",
    "browser.visit(url)\n",
    "\n",
    "\n",
    "pause = 5\n",
    "last_height = browser.execute_script(\"return document.body.scrollHeight\")\n",
    "\n",
    "board_source_df = pd.DataFrame(columns=['manufacturer', 'model_name', 'board_dimensions', 'price', 'url'])\n",
    "\n",
    "while True:\n",
    "    browser.execute_script(\"window.scrollTo(0, document.body.scrollHeight);\")\n",
    "    time.sleep(pause)\n",
    "    \n",
    "    new_height = browser.execute_script(\"return document.body.scrollHeight\")    \n",
    "    if new_height == last_height:\n",
    "        break\n",
    "    last_height = new_height\n",
    "\n",
    "html = browser.html\n",
    "soup = BeautifulSoup(html, 'html.parser')\n",
    "data = soup.find_all('div', class_=['column is-3-desktop p-grid is-4-tablet', 'column is-3-desktop p-grid is-4-tablet sold'])"
   ]
  },
  {
   "cell_type": "code",
   "execution_count": 12,
   "metadata": {},
   "outputs": [
    {
     "name": "stdout",
     "output_type": "stream",
     "text": [
      "100\n",
      "100\n",
      "100\n",
      "100\n",
      "100\n",
      "100\n",
      "100\n",
      "100\n",
      "100\n",
      "100\n",
      "100\n",
      "100\n",
      "100\n",
      "100\n",
      "100\n",
      "100\n",
      "100\n",
      "100\n",
      "100\n",
      "100\n",
      "100\n",
      "100\n",
      "100\n",
      "100\n",
      "100\n",
      "100\n",
      "100\n",
      "100\n",
      "100\n",
      "100\n"
     ]
    }
   ],
   "source": [
    "count = 0\n",
    "print_every = 100\n",
    "\n",
    "pause_time = 3\n",
    "\n",
    "for entry in data:\n",
    "    \n",
    "    count += 1\n",
    "    if count == print_every:\n",
    "        print(count)\n",
    "        count = 0\n",
    "        \n",
    "    url = entry.a['href']\n",
    "    manufacturer = entry.find('p', class_=\"title is-4 home-featured--brandname\").text\n",
    "    model_name = entry.find('h4', class_=\"title is-6 home-featured--band\").text\n",
    "    board_dimensions = entry.find('p', class_='title is-6').text\n",
    "    \n",
    "    try:\n",
    "        price = entry.find('p', class_=\"card-footer-item price title is-5\").text\n",
    "    except AttributeError:\n",
    "        price = entry.find('p', class_=\"card-footer-item price title is-5 soldbox\").text\n",
    "    \n",
    "    \n",
    "    board_dict = {\n",
    "        'manufacturer': manufacturer,\n",
    "        'model_name': model_name,\n",
    "        'board_dimensions': board_dimensions,\n",
    "        'price': price,\n",
    "        'url': url\n",
    "        }\n",
    "    \n",
    "    board_source_df = board_source_df.append(board_dict, ignore_index=True)\n",
    "    "
   ]
  },
  {
   "cell_type": "code",
   "execution_count": 17,
   "metadata": {},
   "outputs": [
    {
     "name": "stdout",
     "output_type": "stream",
     "text": [
      "Scraped Count:  100\n",
      "Scraped Count:  200\n",
      "Scraped Count:  300\n",
      "Scraped Count:  400\n",
      "Scraped Count:  500\n",
      "Scraped Count:  600\n",
      "Scraped Count:  700\n",
      "Scraped Count:  800\n",
      "Scraped Count:  900\n",
      "Scraped Count:  1000\n",
      "Scraped Count:  1100\n",
      "Scraped Count:  1200\n",
      "Scraped Count:  1300\n",
      "Scraped Count:  1400\n",
      "Scraped Count:  1500\n",
      "Scraped Count:  1600\n",
      "Scraped Count:  1700\n",
      "Scraped Count:  1800\n",
      "Scraped Count:  1900\n",
      "Scraped Count:  2000\n",
      "Scraped Count:  2100\n",
      "Scraped Count:  2200\n",
      "Scraped Count:  2300\n",
      "Scraped Count:  2400\n",
      "Scraped Count:  2500\n",
      "Scraped Count:  2600\n",
      "Scraped Count:  2700\n",
      "Scraped Count:  2800\n",
      "Scraped Count:  2900\n",
      "Scraped Count:  3000\n"
     ]
    }
   ],
   "source": [
    "browser = Browser('chrome')\n",
    "\n",
    "pause = 1.5\n",
    "count = 0\n",
    "print_every = 100\n",
    "\n",
    "title_list = []\n",
    "description_list = []\n",
    "\n",
    "for url in board_source_df['url']:\n",
    "    count += 1\n",
    "    if count % print_every == 0:\n",
    "        print('Scraped Count: ', count)\n",
    "        \n",
    "            \n",
    "    browser.visit(url)\n",
    "    time.sleep(pause)\n",
    "    html = browser.html\n",
    "    soup = BeautifulSoup(html, 'html.parser')\n",
    "    \n",
    "    title_list.append(soup.find('h1', class_='title is-3 is-uppercase').text)\n",
    "    description_list.append(soup.find('div', class_='short-description').text)\n",
    "    \n",
    "    \n"
   ]
  },
  {
   "cell_type": "code",
   "execution_count": 21,
   "metadata": {},
   "outputs": [],
   "source": [
    "board_source_df['title'] = title_list\n",
    "board_source_df['description'] = description_list\n"
   ]
  },
  {
   "cell_type": "code",
   "execution_count": null,
   "metadata": {},
   "outputs": [],
   "source": [
    "board_source_df.head()"
   ]
  },
  {
   "cell_type": "code",
   "execution_count": 25,
   "metadata": {
    "scrolled": true
   },
   "outputs": [
    {
     "data": {
      "text/plain": [
       "manufacturer        0.0\n",
       "model_name          0.0\n",
       "board_dimensions    0.0\n",
       "price               0.0\n",
       "url                 0.0\n",
       "title               0.0\n",
       "description_list    0.0\n",
       "description         0.0\n",
       "dtype: float64"
      ]
     },
     "execution_count": 25,
     "metadata": {},
     "output_type": "execute_result"
    }
   ],
   "source": [
    "board_source_df.isnull().sum()/board_source_df.isnull().count()*100"
   ]
  },
  {
   "cell_type": "code",
   "execution_count": 19,
   "metadata": {},
   "outputs": [],
   "source": [
    "board_source_df.to_json('board_source_clean_data.json')"
   ]
  },
  {
   "cell_type": "code",
   "execution_count": 23,
   "metadata": {},
   "outputs": [
    {
     "data": {
      "text/html": [
       "<div>\n",
       "<style scoped>\n",
       "    .dataframe tbody tr th:only-of-type {\n",
       "        vertical-align: middle;\n",
       "    }\n",
       "\n",
       "    .dataframe tbody tr th {\n",
       "        vertical-align: top;\n",
       "    }\n",
       "\n",
       "    .dataframe thead th {\n",
       "        text-align: right;\n",
       "    }\n",
       "</style>\n",
       "<table border=\"1\" class=\"dataframe\">\n",
       "  <thead>\n",
       "    <tr style=\"text-align: right;\">\n",
       "      <th></th>\n",
       "      <th>manufacturer</th>\n",
       "      <th>model_name</th>\n",
       "      <th>board_dimensions</th>\n",
       "      <th>price</th>\n",
       "      <th>url</th>\n",
       "      <th>title</th>\n",
       "      <th>description_list</th>\n",
       "      <th>description</th>\n",
       "    </tr>\n",
       "  </thead>\n",
       "  <tbody>\n",
       "    <tr>\n",
       "      <th>3018</th>\n",
       "      <td>Roy Sanchez</td>\n",
       "      <td>Dreadnought Glider</td>\n",
       "      <td>10' x 22 1/2 x 3</td>\n",
       "      <td>$975</td>\n",
       "      <td>https://theboardsource.com/product/brand-new-1...</td>\n",
       "      <td>Brand New 10' x 22 1/2 x 3 Roy Sanchez \"Dreadn...</td>\n",
       "      <td>DREADNOUGHT: The MUST HAVE glider for everyone...</td>\n",
       "      <td>DREADNOUGHT: The MUST HAVE glider for everyone...</td>\n",
       "    </tr>\n",
       "    <tr>\n",
       "      <th>3019</th>\n",
       "      <td>Superbrand</td>\n",
       "      <td>Fling Superflex</td>\n",
       "      <td>5'8'' x 20 1/2 2 3/4 (35.8L)</td>\n",
       "      <td>$600</td>\n",
       "      <td>https://theboardsource.com/product/brand-new-5...</td>\n",
       "      <td>Brand New 5'8'' x 20 1/2 2 3/4 (35.8L) Superbr...</td>\n",
       "      <td>This board is brand new never surfed or waxed....</td>\n",
       "      <td>This board is brand new never surfed or waxed....</td>\n",
       "    </tr>\n",
       "    <tr>\n",
       "      <th>3020</th>\n",
       "      <td>Super Brand</td>\n",
       "      <td>Pug</td>\n",
       "      <td>6'2'' x 20 3/4 x 2 3/4 (39.1L)</td>\n",
       "      <td>$525</td>\n",
       "      <td>https://theboardsource.com/product/brand-new-6...</td>\n",
       "      <td>Brand New 6'2'' x 20 3/4 x 2 3/4 (39.1L) Super...</td>\n",
       "      <td>This board is Brand New and typically retails ...</td>\n",
       "      <td>This board is Brand New and typically retails ...</td>\n",
       "    </tr>\n",
       "    <tr>\n",
       "      <th>3021</th>\n",
       "      <td>Superbrand</td>\n",
       "      <td>Magic Mix</td>\n",
       "      <td>6'4'' x 20 1/2 x 2 3/4 (37.4L)</td>\n",
       "      <td>$525</td>\n",
       "      <td>https://theboardsource.com/product/brand-new-6...</td>\n",
       "      <td>Brand New 6'4'' x 20 1/2 x 2 3/4 (37.4L) Super...</td>\n",
       "      <td>This board is brand new. Typically retails for...</td>\n",
       "      <td>This board is brand new. Typically retails for...</td>\n",
       "    </tr>\n",
       "    <tr>\n",
       "      <th>3022</th>\n",
       "      <td>Mitsven</td>\n",
       "      <td>Mini Glider</td>\n",
       "      <td>8'4'' x 21 7/8 x 2 7/8</td>\n",
       "      <td>$700</td>\n",
       "      <td>https://theboardsource.com/product/84-x-21-7-8...</td>\n",
       "      <td>8'4'' x 21 7/8 x 2 7/8 Mitsven \"Mini Glider\" S...</td>\n",
       "      <td>This board is in excellent condition with no d...</td>\n",
       "      <td>This board is in excellent condition with no d...</td>\n",
       "    </tr>\n",
       "  </tbody>\n",
       "</table>\n",
       "</div>"
      ],
      "text/plain": [
       "     manufacturer          model_name                board_dimensions price  \\\n",
       "3018  Roy Sanchez  Dreadnought Glider                10' x 22 1/2 x 3  $975   \n",
       "3019   Superbrand     Fling Superflex    5'8'' x 20 1/2 2 3/4 (35.8L)  $600   \n",
       "3020  Super Brand                 Pug  6'2'' x 20 3/4 x 2 3/4 (39.1L)  $525   \n",
       "3021   Superbrand           Magic Mix  6'4'' x 20 1/2 x 2 3/4 (37.4L)  $525   \n",
       "3022      Mitsven         Mini Glider          8'4'' x 21 7/8 x 2 7/8  $700   \n",
       "\n",
       "                                                    url  \\\n",
       "3018  https://theboardsource.com/product/brand-new-1...   \n",
       "3019  https://theboardsource.com/product/brand-new-5...   \n",
       "3020  https://theboardsource.com/product/brand-new-6...   \n",
       "3021  https://theboardsource.com/product/brand-new-6...   \n",
       "3022  https://theboardsource.com/product/84-x-21-7-8...   \n",
       "\n",
       "                                                  title  \\\n",
       "3018  Brand New 10' x 22 1/2 x 3 Roy Sanchez \"Dreadn...   \n",
       "3019  Brand New 5'8'' x 20 1/2 2 3/4 (35.8L) Superbr...   \n",
       "3020  Brand New 6'2'' x 20 3/4 x 2 3/4 (39.1L) Super...   \n",
       "3021  Brand New 6'4'' x 20 1/2 x 2 3/4 (37.4L) Super...   \n",
       "3022  8'4'' x 21 7/8 x 2 7/8 Mitsven \"Mini Glider\" S...   \n",
       "\n",
       "                                       description_list  \\\n",
       "3018  DREADNOUGHT: The MUST HAVE glider for everyone...   \n",
       "3019  This board is brand new never surfed or waxed....   \n",
       "3020  This board is Brand New and typically retails ...   \n",
       "3021  This board is brand new. Typically retails for...   \n",
       "3022  This board is in excellent condition with no d...   \n",
       "\n",
       "                                            description  \n",
       "3018  DREADNOUGHT: The MUST HAVE glider for everyone...  \n",
       "3019  This board is brand new never surfed or waxed....  \n",
       "3020  This board is Brand New and typically retails ...  \n",
       "3021  This board is brand new. Typically retails for...  \n",
       "3022  This board is in excellent condition with no d...  "
      ]
     },
     "execution_count": 23,
     "metadata": {},
     "output_type": "execute_result"
    }
   ],
   "source": [
    "board_source_df.tail()"
   ]
  }
 ],
 "metadata": {
  "kernelspec": {
   "display_name": "Python 3",
   "language": "python",
   "name": "python3"
  },
  "language_info": {
   "codemirror_mode": {
    "name": "ipython",
    "version": 3
   },
   "file_extension": ".py",
   "mimetype": "text/x-python",
   "name": "python",
   "nbconvert_exporter": "python",
   "pygments_lexer": "ipython3",
   "version": "3.7.1"
  },
  "toc": {
   "base_numbering": 1,
   "nav_menu": {},
   "number_sections": true,
   "sideBar": true,
   "skip_h1_title": false,
   "title_cell": "Table of Contents",
   "title_sidebar": "Contents",
   "toc_cell": true,
   "toc_position": {},
   "toc_section_display": true,
   "toc_window_display": false
  },
  "varInspector": {
   "cols": {
    "lenName": 16,
    "lenType": 16,
    "lenVar": 40
   },
   "kernels_config": {
    "python": {
     "delete_cmd_postfix": "",
     "delete_cmd_prefix": "del ",
     "library": "var_list.py",
     "varRefreshCmd": "print(var_dic_list())"
    },
    "r": {
     "delete_cmd_postfix": ") ",
     "delete_cmd_prefix": "rm(",
     "library": "var_list.r",
     "varRefreshCmd": "cat(var_dic_list()) "
    }
   },
   "types_to_exclude": [
    "module",
    "function",
    "builtin_function_or_method",
    "instance",
    "_Feature"
   ],
   "window_display": false
  }
 },
 "nbformat": 4,
 "nbformat_minor": 2
}
