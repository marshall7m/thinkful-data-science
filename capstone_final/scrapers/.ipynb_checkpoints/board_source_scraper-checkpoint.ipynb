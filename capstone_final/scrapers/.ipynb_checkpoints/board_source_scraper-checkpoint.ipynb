{
 "cells": [
  {
   "cell_type": "markdown",
   "metadata": {},
   "source": [
    "# Introduction"
   ]
  },
  {
   "cell_type": "markdown",
   "metadata": {},
   "source": [
    "### Imports"
   ]
  },
  {
   "cell_type": "code",
   "execution_count": 1,
   "metadata": {},
   "outputs": [
    {
     "name": "stderr",
     "output_type": "stream",
     "text": [
      "/Users/marshallmamiya/anaconda3/lib/python3.7/site-packages/matplotlib/__init__.py:886: MatplotlibDeprecationWarning: \n",
      "examples.directory is deprecated; in the future, examples will be found relative to the 'datapath' directory.\n",
      "  \"found relative to the 'datapath' directory.\".format(key))\n"
     ]
    }
   ],
   "source": [
    "\n",
    "import pandas as pd\n",
    "import numpy as np\n",
    "import matplotlib.pyplot as plt\n",
    "import seaborn as sns\n",
    "import re\n",
    "%matplotlib inline\n",
    "\n",
    "# Options for pandas\n",
    "pd.options.display.max_columns = 150\n",
    "pd.options.display.max_rows = 150"
   ]
  },
  {
   "cell_type": "markdown",
   "metadata": {
    "toc": true
   },
   "source": [
    "<h1>Table of Contents<span class=\"tocSkip\"></span></h1>\n",
    "<div class=\"toc\"><ul class=\"toc-item\"><li><span><a href=\"#Introduction\" data-toc-modified-id=\"Introduction-1\"><span class=\"toc-item-num\">1&nbsp;&nbsp;</span>Introduction</a></span><ul class=\"toc-item\"><li><ul class=\"toc-item\"><li><span><a href=\"#Imports\" data-toc-modified-id=\"Imports-1.0.1\"><span class=\"toc-item-num\">1.0.1&nbsp;&nbsp;</span>Imports</a></span></li></ul></li></ul></li></ul></div>"
   ]
  },
  {
   "cell_type": "code",
   "execution_count": 2,
   "metadata": {},
   "outputs": [
    {
     "name": "stderr",
     "output_type": "stream",
     "text": [
      "2019-11-16 22:39:42 [scrapy.utils.log] INFO: Scrapy 1.7.3 started (bot: scrapybot)\n",
      "2019-11-16 22:39:42 [scrapy.utils.log] INFO: Versions: lxml 4.2.5.0, libxml2 2.9.8, cssselect 1.1.0, parsel 1.5.2, w3lib 1.21.0, Twisted 19.7.0, Python 3.7.1 (default, Dec 14 2018, 13:28:58) - [Clang 4.0.1 (tags/RELEASE_401/final)], pyOpenSSL 18.0.0 (OpenSSL 1.1.1a  20 Nov 2018), cryptography 2.4.2, Platform Darwin-18.7.0-x86_64-i386-64bit\n",
      "2019-11-16 22:39:42 [scrapy.crawler] INFO: Overridden settings: {'AUTOTHROTTLE_ENABLED': True, 'FEED_FORMAT': 'json', 'FEED_URI': 'the_board_source_raw.json', 'HTTPCACHE_ENABLED': True, 'USER_AGENT': 'ThinkfulDataScienceBootcampCrawler (thinkful.com)'}\n",
      "2019-11-16 22:39:42 [scrapy.extensions.telnet] INFO: Telnet Password: 124851522b33365f\n",
      "2019-11-16 22:39:42 [scrapy.middleware] INFO: Enabled extensions:\n",
      "['scrapy.extensions.corestats.CoreStats',\n",
      " 'scrapy.extensions.telnet.TelnetConsole',\n",
      " 'scrapy.extensions.memusage.MemoryUsage',\n",
      " 'scrapy.extensions.feedexport.FeedExporter',\n",
      " 'scrapy.extensions.logstats.LogStats',\n",
      " 'scrapy.extensions.throttle.AutoThrottle']\n",
      "2019-11-16 22:39:42 [scrapy.middleware] INFO: Enabled downloader middlewares:\n",
      "['scrapy.downloadermiddlewares.httpauth.HttpAuthMiddleware',\n",
      " 'scrapy.downloadermiddlewares.downloadtimeout.DownloadTimeoutMiddleware',\n",
      " 'scrapy.downloadermiddlewares.defaultheaders.DefaultHeadersMiddleware',\n",
      " 'scrapy.downloadermiddlewares.useragent.UserAgentMiddleware',\n",
      " 'scrapy.downloadermiddlewares.retry.RetryMiddleware',\n",
      " 'scrapy.downloadermiddlewares.redirect.MetaRefreshMiddleware',\n",
      " 'scrapy.downloadermiddlewares.httpcompression.HttpCompressionMiddleware',\n",
      " 'scrapy.downloadermiddlewares.redirect.RedirectMiddleware',\n",
      " 'scrapy.downloadermiddlewares.cookies.CookiesMiddleware',\n",
      " 'scrapy.downloadermiddlewares.httpproxy.HttpProxyMiddleware',\n",
      " 'scrapy.downloadermiddlewares.stats.DownloaderStats',\n",
      " 'scrapy.downloadermiddlewares.httpcache.HttpCacheMiddleware']\n",
      "2019-11-16 22:39:42 [scrapy.middleware] INFO: Enabled spider middlewares:\n",
      "['scrapy.spidermiddlewares.httperror.HttpErrorMiddleware',\n",
      " 'scrapy.spidermiddlewares.offsite.OffsiteMiddleware',\n",
      " 'scrapy.spidermiddlewares.referer.RefererMiddleware',\n",
      " 'scrapy.spidermiddlewares.urllength.UrlLengthMiddleware',\n",
      " 'scrapy.spidermiddlewares.depth.DepthMiddleware']\n",
      "2019-11-16 22:39:42 [scrapy.middleware] INFO: Enabled item pipelines:\n",
      "[]\n",
      "2019-11-16 22:39:42 [scrapy.core.engine] INFO: Spider opened\n",
      "2019-11-16 22:39:42 [scrapy.extensions.logstats] INFO: Crawled 0 pages (at 0 pages/min), scraped 0 items (at 0 items/min)\n",
      "2019-11-16 22:39:42 [scrapy.extensions.httpcache] DEBUG: Using filesystem cache storage in .scrapy/httpcache\n",
      "2019-11-16 22:39:42 [scrapy.extensions.telnet] INFO: Telnet console listening on 127.0.0.1:6023\n",
      "2019-11-16 22:39:42 [scrapy.core.engine] DEBUG: Crawled (200) <GET https://theboardsource.com/product-category/surfboards/> (referer: None) ['cached']\n",
      "2019-11-16 22:39:42 [scrapy.core.engine] INFO: Closing spider (finished)\n",
      "2019-11-16 22:39:42 [scrapy.statscollectors] INFO: Dumping Scrapy stats:\n",
      "{'downloader/request_bytes': 260,\n",
      " 'downloader/request_count': 1,\n",
      " 'downloader/request_method_count/GET': 1,\n",
      " 'downloader/response_bytes': 5738,\n",
      " 'downloader/response_count': 1,\n",
      " 'downloader/response_status_count/200': 1,\n",
      " 'elapsed_time_seconds': 0.137149,\n",
      " 'finish_reason': 'finished',\n",
      " 'finish_time': datetime.datetime(2019, 11, 17, 6, 39, 42, 476658),\n",
      " 'httpcache/hit': 1,\n",
      " 'log_count/DEBUG': 2,\n",
      " 'log_count/INFO': 10,\n",
      " 'memusage/max': 136441856,\n",
      " 'memusage/startup': 136441856,\n",
      " 'response_received_count': 1,\n",
      " 'scheduler/dequeued': 1,\n",
      " 'scheduler/dequeued/memory': 1,\n",
      " 'scheduler/enqueued': 1,\n",
      " 'scheduler/enqueued/memory': 1,\n",
      " 'start_time': datetime.datetime(2019, 11, 17, 6, 39, 42, 339509)}\n",
      "2019-11-16 22:39:42 [scrapy.core.engine] INFO: Spider closed (finished)\n"
     ]
    },
    {
     "name": "stdout",
     "output_type": "stream",
     "text": [
      "Total:  0\n"
     ]
    }
   ],
   "source": [
    "import numpy as np\n",
    "import scrapy\n",
    "from scrapy.crawler import CrawlerProcess\n",
    "from scrapy import Spider\n",
    "import scrapy\n",
    "from scrapy import Request\n",
    "import time\n",
    "from collections import defaultdict\n",
    "\n",
    "class board_source_Spider(scrapy.Spider):\n",
    "        \n",
    "    name = \"surfboards\"\n",
    "    start_urls = [\"https://theboardsource.com/product-category/surfboards/\"]\n",
    "    \n",
    "    def attr_check_dict(self, response):\n",
    "\n",
    "        attr_dict = defaultdict(lambda: None)\n",
    "        \n",
    "#         attr_dict['title'] = response.xpath('//*[@class=\"title is-3 is-uppercase\"]/text()').extract()\n",
    "#         attr_dict['price'] = response.xpath('//*[@class=\"title is-4]/text()').extract()\n",
    "#         attr_dict['description'] = \"\".join(line for line in response.xpath('//*[@class=\"short-description\"]/p/text()').extract())\n",
    "        attr_dict['url'] = response.meta.get('URL')\n",
    "        \n",
    "        return attr_dict\n",
    "\n",
    "    def parse(self, response):\n",
    "        products = response.xpath('//*[@class=\"column is-multiline\"]')\n",
    "        print('Total: ', len(products))\n",
    "        for i,product in enumerate(products):\n",
    "            print('Processing {} out of {}'.format(i+1, len(products)))\n",
    "            \n",
    "            relative_url = product.xpath('a/@href').extract_first()\n",
    "\n",
    "            time.sleep(.1)\n",
    "\n",
    "            yield Request(relative_url, callback=self.parse_page, meta={'URL': relative_url})\n",
    "\n",
    "#         relative_next_url = response.xpath('//*[@class=\"next page-numbers\"]/@href').extract_first()\n",
    "        \n",
    "#         print()\n",
    "#         print(relative_next_url)\n",
    "\n",
    "#         yield Request(relative_next_url, callback=self.parse)\n",
    "        \n",
    "    def parse_page(self, response):\n",
    "        attr_dict = self.attr_check_dict(response)\n",
    "        yield {\n",
    "        'url': attr_dict['url'],\n",
    "#         'title': attr_dict['title'],\n",
    "#         'price': attr_dict['price'],\n",
    "#         'description': attr_dict['description']  \n",
    "        }\n",
    "process = CrawlerProcess({\n",
    "'FEED_FORMAT': 'json',\n",
    "'FEED_URI': 'the_board_source_raw.json',\n",
    "'ROBOTSTXT_OBEY': False,\n",
    "'USER_AGENT': 'ThinkfulDataScienceBootcampCrawler (thinkful.com)',\n",
    "'AUTOTHROTTLE_ENABLED': True,\n",
    "'HTTPCACHE_ENABLED': True,\n",
    "'LOG_ENABLED': True\n",
    "# 'DOWNLOAD_DELAY' : 1\n",
    "})                             \n",
    "\n",
    "process.crawl(board_source_Spider)\n",
    "process.start()\n"
   ]
  }
 ],
 "metadata": {
  "kernelspec": {
   "display_name": "Python 3",
   "language": "python",
   "name": "python3"
  },
  "language_info": {
   "codemirror_mode": {
    "name": "ipython",
    "version": 3
   },
   "file_extension": ".py",
   "mimetype": "text/x-python",
   "name": "python",
   "nbconvert_exporter": "python",
   "pygments_lexer": "ipython3",
   "version": "3.7.1"
  },
  "toc": {
   "base_numbering": 1,
   "nav_menu": {},
   "number_sections": true,
   "sideBar": true,
   "skip_h1_title": false,
   "title_cell": "Table of Contents",
   "title_sidebar": "Contents",
   "toc_cell": true,
   "toc_position": {},
   "toc_section_display": true,
   "toc_window_display": false
  },
  "varInspector": {
   "cols": {
    "lenName": 16,
    "lenType": 16,
    "lenVar": 40
   },
   "kernels_config": {
    "python": {
     "delete_cmd_postfix": "",
     "delete_cmd_prefix": "del ",
     "library": "var_list.py",
     "varRefreshCmd": "print(var_dic_list())"
    },
    "r": {
     "delete_cmd_postfix": ") ",
     "delete_cmd_prefix": "rm(",
     "library": "var_list.r",
     "varRefreshCmd": "cat(var_dic_list()) "
    }
   },
   "types_to_exclude": [
    "module",
    "function",
    "builtin_function_or_method",
    "instance",
    "_Feature"
   ],
   "window_display": false
  }
 },
 "nbformat": 4,
 "nbformat_minor": 2
}
