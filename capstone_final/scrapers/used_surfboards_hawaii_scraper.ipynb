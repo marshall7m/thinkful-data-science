{
 "cells": [
  {
   "cell_type": "markdown",
   "metadata": {},
   "source": [
    "# Introduction"
   ]
  },
  {
   "cell_type": "markdown",
   "metadata": {},
   "source": [
    "### Imports"
   ]
  },
  {
   "cell_type": "code",
   "execution_count": 1,
   "metadata": {},
   "outputs": [
    {
     "name": "stderr",
     "output_type": "stream",
     "text": [
      "/Users/marshallmamiya/anaconda3/lib/python3.7/site-packages/matplotlib/__init__.py:886: MatplotlibDeprecationWarning: \n",
      "examples.directory is deprecated; in the future, examples will be found relative to the 'datapath' directory.\n",
      "  \"found relative to the 'datapath' directory.\".format(key))\n"
     ]
    }
   ],
   "source": [
    "\n",
    "import pandas as pd\n",
    "import numpy as np\n",
    "import matplotlib.pyplot as plt\n",
    "import seaborn as sns\n",
    "import re\n",
    "%matplotlib inline\n",
    "\n",
    "# Options for pandas\n",
    "pd.options.display.max_columns = 150\n",
    "pd.options.display.max_rows = 150"
   ]
  },
  {
   "cell_type": "markdown",
   "metadata": {
    "toc": true
   },
   "source": [
    "<h1>Table of Contents<span class=\"tocSkip\"></span></h1>\n",
    "<div class=\"toc\"><ul class=\"toc-item\"><li><span><a href=\"#Introduction\" data-toc-modified-id=\"Introduction-1\"><span class=\"toc-item-num\">1&nbsp;&nbsp;</span>Introduction</a></span><ul class=\"toc-item\"><li><ul class=\"toc-item\"><li><span><a href=\"#Imports\" data-toc-modified-id=\"Imports-1.0.1\"><span class=\"toc-item-num\">1.0.1&nbsp;&nbsp;</span>Imports</a></span></li></ul></li></ul></li></ul></div>"
   ]
  },
  {
   "cell_type": "code",
   "execution_count": 2,
   "metadata": {},
   "outputs": [
    {
     "name": "stderr",
     "output_type": "stream",
     "text": [
      "2019-11-16 15:09:06 [scrapy.utils.log] INFO: Scrapy 1.7.3 started (bot: scrapybot)\n",
      "2019-11-16 15:09:06 [scrapy.utils.log] INFO: Versions: lxml 4.2.5.0, libxml2 2.9.8, cssselect 1.1.0, parsel 1.5.2, w3lib 1.21.0, Twisted 19.7.0, Python 3.7.1 (default, Dec 14 2018, 13:28:58) - [Clang 4.0.1 (tags/RELEASE_401/final)], pyOpenSSL 18.0.0 (OpenSSL 1.1.1a  20 Nov 2018), cryptography 2.4.2, Platform Darwin-18.7.0-x86_64-i386-64bit\n",
      "2019-11-16 15:09:06 [scrapy.crawler] INFO: Overridden settings: {'AUTOTHROTTLE_ENABLED': True, 'FEED_FORMAT': 'json', 'FEED_URI': 'used_surfboard_hawaii.json', 'HTTPCACHE_ENABLED': True, 'USER_AGENT': 'ThinkfulDataScienceBootcampCrawler (thinkful.com)'}\n",
      "2019-11-16 15:09:06 [scrapy.extensions.telnet] INFO: Telnet Password: ee067c70f91f1be9\n",
      "2019-11-16 15:09:06 [scrapy.middleware] INFO: Enabled extensions:\n",
      "['scrapy.extensions.corestats.CoreStats',\n",
      " 'scrapy.extensions.telnet.TelnetConsole',\n",
      " 'scrapy.extensions.memusage.MemoryUsage',\n",
      " 'scrapy.extensions.feedexport.FeedExporter',\n",
      " 'scrapy.extensions.logstats.LogStats',\n",
      " 'scrapy.extensions.throttle.AutoThrottle']\n",
      "2019-11-16 15:09:06 [scrapy.middleware] INFO: Enabled downloader middlewares:\n",
      "['scrapy.downloadermiddlewares.httpauth.HttpAuthMiddleware',\n",
      " 'scrapy.downloadermiddlewares.downloadtimeout.DownloadTimeoutMiddleware',\n",
      " 'scrapy.downloadermiddlewares.defaultheaders.DefaultHeadersMiddleware',\n",
      " 'scrapy.downloadermiddlewares.useragent.UserAgentMiddleware',\n",
      " 'scrapy.downloadermiddlewares.retry.RetryMiddleware',\n",
      " 'scrapy.downloadermiddlewares.redirect.MetaRefreshMiddleware',\n",
      " 'scrapy.downloadermiddlewares.httpcompression.HttpCompressionMiddleware',\n",
      " 'scrapy.downloadermiddlewares.redirect.RedirectMiddleware',\n",
      " 'scrapy.downloadermiddlewares.cookies.CookiesMiddleware',\n",
      " 'scrapy.downloadermiddlewares.httpproxy.HttpProxyMiddleware',\n",
      " 'scrapy.downloadermiddlewares.stats.DownloaderStats',\n",
      " 'scrapy.downloadermiddlewares.httpcache.HttpCacheMiddleware']\n",
      "2019-11-16 15:09:06 [scrapy.middleware] INFO: Enabled spider middlewares:\n",
      "['scrapy.spidermiddlewares.httperror.HttpErrorMiddleware',\n",
      " 'scrapy.spidermiddlewares.offsite.OffsiteMiddleware',\n",
      " 'scrapy.spidermiddlewares.referer.RefererMiddleware',\n",
      " 'scrapy.spidermiddlewares.urllength.UrlLengthMiddleware',\n",
      " 'scrapy.spidermiddlewares.depth.DepthMiddleware']\n",
      "2019-11-16 15:09:06 [scrapy.middleware] INFO: Enabled item pipelines:\n",
      "[]\n",
      "2019-11-16 15:09:06 [scrapy.core.engine] INFO: Spider opened\n",
      "2019-11-16 15:09:06 [scrapy.extensions.logstats] INFO: Crawled 0 pages (at 0 pages/min), scraped 0 items (at 0 items/min)\n",
      "2019-11-16 15:09:06 [scrapy.extensions.httpcache] DEBUG: Using filesystem cache storage in .scrapy/httpcache\n",
      "2019-11-16 15:09:06 [scrapy.extensions.telnet] INFO: Telnet console listening on 127.0.0.1:6023\n",
      "2019-11-16 15:09:06 [scrapy.core.engine] DEBUG: Crawled (200) <GET https://www.usedsurfboardshawaii.com/?post_type=product> (referer: None) ['cached']\n",
      "2019-11-16 15:09:07 [scrapy.core.engine] DEBUG: Crawled (200) <GET https://www.usedsurfboardshawaii.com/product/6ft-2in-tokoro-4vc-round-pin-tail-ref-30481/> (referer: https://www.usedsurfboardshawaii.com/?post_type=product) ['cached']\n"
     ]
    },
    {
     "name": "stdout",
     "output_type": "stream",
     "text": [
      "Total:  25\n",
      "Processing 1 out of 25\n",
      "Processing 2 out of 25\n"
     ]
    },
    {
     "name": "stderr",
     "output_type": "stream",
     "text": [
      "2019-11-16 15:09:07 [scrapy.core.engine] DEBUG: Crawled (200) <GET https://www.usedsurfboardshawaii.com/product/7ft-4in-donald-takayama-scorpion-pin-tail-ref-30543/> (referer: https://www.usedsurfboardshawaii.com/?post_type=product) ['cached']\n",
      "2019-11-16 15:09:07 [scrapy.core.engine] DEBUG: Crawled (200) <GET https://www.usedsurfboardshawaii.com/product/9ft-peralta-round-pin-tail-ref-30460/> (referer: https://www.usedsurfboardshawaii.com/?post_type=product) ['cached']\n",
      "2019-11-16 15:09:07 [scrapy.core.scraper] DEBUG: Scraped from <200 https://www.usedsurfboardshawaii.com/product/6ft-2in-tokoro-4vc-round-pin-tail-ref-30481/>\n",
      "{'url': 'https://www.usedsurfboardshawaii.com/product/6ft-2in-tokoro-4vc-round-pin-tail-ref-30481/', 'title': '6ft 2in Tokoro (4VC) Round Pin Tail Ref# 30481', 'price': 585.0, 'description': 'Brand new shortboard with no signs of previous use', 'type': 'Thruster (FCS2)', 'height': 'H 6’2″', 'width': 'W 18 7/8″', 'thickness': 'T 2 3/8″', 'condition': 'Excellent, Good, Like New, New', 'manufacturer': 'Tokoro'}\n"
     ]
    },
    {
     "name": "stdout",
     "output_type": "stream",
     "text": [
      "Processing 3 out of 25\n",
      "Processing 4 out of 25\n"
     ]
    },
    {
     "name": "stderr",
     "output_type": "stream",
     "text": [
      "2019-11-16 15:09:07 [scrapy.core.engine] DEBUG: Crawled (200) <GET https://www.usedsurfboardshawaii.com/product/9ft-donald-takayama-squash-tail-ref-30445/> (referer: https://www.usedsurfboardshawaii.com/?post_type=product) ['cached']\n",
      "2019-11-16 15:09:07 [scrapy.core.scraper] DEBUG: Scraped from <200 https://www.usedsurfboardshawaii.com/product/7ft-4in-donald-takayama-scorpion-pin-tail-ref-30543/>\n",
      "{'url': 'https://www.usedsurfboardshawaii.com/product/7ft-4in-donald-takayama-scorpion-pin-tail-ref-30543/', 'title': '7ft 4in Donald Takayama (Scorpion) Pin Tail Ref# 30543', 'price': 749.0, 'description': 'Excellent condition Hybrid Fun board with minimal signs of previous use', 'type': '4+1 (FCS)', 'height': 'H 7’4″', 'width': 'W 22″', 'thickness': 'T 2 1/2″', 'condition': 'Excellent, Good', 'manufacturer': 'Donald Takayama, Guy Takayama'}\n",
      "2019-11-16 15:09:07 [scrapy.core.engine] DEBUG: Crawled (200) <GET https://www.usedsurfboardshawaii.com/product/6ft-8in-eric-arakawa-mr-200-round-pin-tail-ref-30469/> (referer: https://www.usedsurfboardshawaii.com/?post_type=product) ['cached']\n",
      "2019-11-16 15:09:07 [scrapy.core.scraper] DEBUG: Scraped from <200 https://www.usedsurfboardshawaii.com/product/9ft-peralta-round-pin-tail-ref-30460/>\n",
      "{'url': 'https://www.usedsurfboardshawaii.com/product/9ft-peralta-round-pin-tail-ref-30460/', 'title': '9ft Peralta Round Pin Tail Ref# 30460', 'price': 565.0, 'description': 'Excellent condition longboard with minimal signs of previous use', 'type': '5-Fin (FCS2)', 'height': 'H 9’0″', 'width': 'W 21 3/4″', 'thickness': 'T 2 3/4″', 'condition': 'Excellent, Good', 'manufacturer': 'Peralta'}\n"
     ]
    },
    {
     "name": "stdout",
     "output_type": "stream",
     "text": [
      "Processing 5 out of 25\n",
      "Processing 6 out of 25\n"
     ]
    },
    {
     "name": "stderr",
     "output_type": "stream",
     "text": [
      "2019-11-16 15:09:07 [scrapy.core.engine] DEBUG: Crawled (200) <GET https://www.usedsurfboardshawaii.com/product/5ft-6in-js-swallow-tail-ref-30430/> (referer: https://www.usedsurfboardshawaii.com/?post_type=product) ['cached']\n",
      "2019-11-16 15:09:07 [scrapy.core.scraper] DEBUG: Scraped from <200 https://www.usedsurfboardshawaii.com/product/9ft-donald-takayama-squash-tail-ref-30445/>\n",
      "{'url': 'https://www.usedsurfboardshawaii.com/product/9ft-donald-takayama-squash-tail-ref-30445/', 'title': '9ft Donald Takayama Squash Tail Ref# 30445', 'price': 1250.0, 'description': 'Excellent condition nose rider longboard with minimal signs of previous use', 'type': 'Single Fin', 'height': 'H 9’0″', 'width': 'W 21 1/2″', 'thickness': 'T 2 1/2″', 'condition': 'Excellent, Good', 'manufacturer': 'Donald Takayama, Takayama'}\n",
      "2019-11-16 15:09:08 [scrapy.core.engine] DEBUG: Crawled (200) <GET https://www.usedsurfboardshawaii.com/product/5ft-6in-ramey-diamond-tail-ref-30414/> (referer: https://www.usedsurfboardshawaii.com/?post_type=product) ['cached']\n",
      "2019-11-16 15:09:08 [scrapy.core.scraper] DEBUG: Scraped from <200 https://www.usedsurfboardshawaii.com/product/6ft-8in-eric-arakawa-mr-200-round-pin-tail-ref-30469/>\n",
      "{'url': 'https://www.usedsurfboardshawaii.com/product/6ft-8in-eric-arakawa-mr-200-round-pin-tail-ref-30469/', 'title': '6ft 8in Eric Arakawa (Mr. 200) Round Pin Tail Ref# 30469', 'price': 250.0, 'description': 'Good condition step up with various pressure dents but otherwise minor signs of previous use', 'type': 'Thruster (FCS)', 'height': 'H 6’8″', 'width': 'W 18.5″', 'thickness': 'T 2.31″', 'condition': 'Good', 'manufacturer': 'Arakawa, Eric Arakawa'}\n"
     ]
    },
    {
     "name": "stdout",
     "output_type": "stream",
     "text": [
      "Processing 7 out of 25\n",
      "Processing 8 out of 25\n"
     ]
    },
    {
     "name": "stderr",
     "output_type": "stream",
     "text": [
      "2019-11-16 15:09:08 [scrapy.core.engine] DEBUG: Crawled (200) <GET https://www.usedsurfboardshawaii.com/product/7ft-6in-bk-round-pin-tail-ref-30456/> (referer: https://www.usedsurfboardshawaii.com/?post_type=product) ['cached']\n",
      "2019-11-16 15:09:08 [scrapy.core.scraper] DEBUG: Scraped from <200 https://www.usedsurfboardshawaii.com/product/5ft-6in-js-swallow-tail-ref-30430/>\n",
      "{'url': 'https://www.usedsurfboardshawaii.com/product/5ft-6in-js-swallow-tail-ref-30430/', 'title': '5ft 6in JS Swallow Tail Ref# 30430', 'price': 275.0, 'description': 'Fair condition shortboard with various pressure denting from previous use', 'type': '5-Fin (FCS)', 'height': 'H 5’6″', 'width': 'W 20″', 'thickness': 'T 2 1/2″', 'condition': 'Fair', 'manufacturer': 'JS'}\n",
      "2019-11-16 15:09:08 [scrapy.core.engine] DEBUG: Crawled (200) <GET https://www.usedsurfboardshawaii.com/product/5ft-10in-tomo-omni-round-tail-ref-30437/> (referer: https://www.usedsurfboardshawaii.com/?post_type=product) ['cached']\n",
      "2019-11-16 15:09:08 [scrapy.core.scraper] DEBUG: Scraped from <200 https://www.usedsurfboardshawaii.com/product/5ft-6in-ramey-diamond-tail-ref-30414/>\n",
      "{'url': 'https://www.usedsurfboardshawaii.com/product/5ft-6in-ramey-diamond-tail-ref-30414/', 'title': '5ft 6in Ramey Diamond Tail Ref# 30414', 'price': 175.0, 'description': 'Fair condition shortboard with multiple repairs, pressures and a small open ding near fcs plug that would need to be repaired for this board to be considered water tight', 'type': 'Quad (Future) with an FCS center fin', 'height': 'H 5’6″', 'width': 'W 20 1/2″', 'thickness': 'T 2 5/8″', 'condition': 'Fair, Poor', 'manufacturer': 'Ramey'}\n"
     ]
    },
    {
     "name": "stdout",
     "output_type": "stream",
     "text": [
      "Processing 9 out of 25\n",
      "Processing 10 out of 25\n"
     ]
    },
    {
     "name": "stderr",
     "output_type": "stream",
     "text": [
      "2019-11-16 15:09:08 [scrapy.core.engine] DEBUG: Crawled (200) <GET https://www.usedsurfboardshawaii.com/product/9ft-peralta-squash-tail-ref-30459/> (referer: https://www.usedsurfboardshawaii.com/?post_type=product) ['cached']\n",
      "2019-11-16 15:09:08 [scrapy.core.scraper] DEBUG: Scraped from <200 https://www.usedsurfboardshawaii.com/product/7ft-6in-bk-round-pin-tail-ref-30456/>\n",
      "{'url': 'https://www.usedsurfboardshawaii.com/product/7ft-6in-bk-round-pin-tail-ref-30456/', 'title': '7ft 6in BK Round Pin Tail Ref# 30456', 'price': 350.0, 'description': 'Fair condition semi gun with light pressure dings and yellowing from age and previous use', 'type': 'Thruster (FCS)', 'height': 'H 7’6″', 'width': 'W 18 1/2″', 'thickness': 'T 2 1/2″', 'condition': 'Good', 'manufacturer': 'BK Hawaii'}\n",
      "2019-11-16 15:09:08 [scrapy.core.engine] DEBUG: Crawled (200) <GET https://www.usedsurfboardshawaii.com/product/8ft-praise-board-riding-squash-tail-ref-30454/> (referer: https://www.usedsurfboardshawaii.com/?post_type=product) ['cached']\n",
      "2019-11-16 15:09:08 [scrapy.core.scraper] DEBUG: Scraped from <200 https://www.usedsurfboardshawaii.com/product/5ft-10in-tomo-omni-round-tail-ref-30437/>\n",
      "{'url': 'https://www.usedsurfboardshawaii.com/product/5ft-10in-tomo-omni-round-tail-ref-30437/', 'title': '5ft 10in Tomo (Omni) Round Tail Ref# 30437', 'price': 550.0, 'description': 'Good condition shortboard with light deck pressures but otherwise minimal signs of previous use', 'type': '5-Fin (FCS2)', 'height': 'H 5’1″', 'width': 'W 20 3/8″', 'thickness': 'T 2 11/16″', 'condition': 'Good', 'manufacturer': 'Tomo'}\n"
     ]
    },
    {
     "name": "stdout",
     "output_type": "stream",
     "text": [
      "Processing 11 out of 25\n",
      "Processing 12 out of 25\n"
     ]
    },
    {
     "name": "stderr",
     "output_type": "stream",
     "text": [
      "2019-11-16 15:09:08 [scrapy.core.engine] DEBUG: Crawled (200) <GET https://www.usedsurfboardshawaii.com/product/6ft-2in-al-merrick-the-proton-squash-tail-ref-30403/> (referer: https://www.usedsurfboardshawaii.com/?post_type=product) ['cached']\n",
      "2019-11-16 15:09:08 [scrapy.core.scraper] DEBUG: Scraped from <200 https://www.usedsurfboardshawaii.com/product/9ft-peralta-squash-tail-ref-30459/>\n",
      "{'url': 'https://www.usedsurfboardshawaii.com/product/9ft-peralta-squash-tail-ref-30459/', 'title': '9ft Peralta Squash Tail Ref# 30459', 'price': 565.0, 'description': 'Excellent condition performance longboard with a few light deck pressures but otherwise minimal signs of previous use', 'type': '5-Fin (FCS2)', 'height': 'H 9’0″', 'width': 'W 19 1/2″', 'thickness': 'T 2 1/2″', 'condition': 'Excellent, Good', 'manufacturer': 'Peralta'}\n",
      "2019-11-16 15:09:09 [scrapy.core.engine] DEBUG: Crawled (200) <GET https://www.usedsurfboardshawaii.com/product/5ft-11in-pyzel-pyzalien-swallow-tail-ref-30425/> (referer: https://www.usedsurfboardshawaii.com/?post_type=product) ['cached']\n",
      "2019-11-16 15:09:09 [scrapy.core.scraper] DEBUG: Scraped from <200 https://www.usedsurfboardshawaii.com/product/8ft-praise-board-riding-squash-tail-ref-30454/>\n",
      "{'url': 'https://www.usedsurfboardshawaii.com/product/8ft-praise-board-riding-squash-tail-ref-30454/', 'title': '8ft Praise Board Riding Squash Tail Ref# 30454', 'price': 299.0, 'description': 'Good condition longboard with light deck pressures and yellowing from age and previous use but otherwise minimal signs of previous use', 'type': '2+1 (FCS)', 'height': 'H 8’0″', 'width': 'W 20 1/2″', 'thickness': 'T 2 5/8″', 'condition': 'Good', 'manufacturer': 'Praise Board Riding'}\n"
     ]
    },
    {
     "name": "stdout",
     "output_type": "stream",
     "text": [
      "Processing 13 out of 25\n",
      "Processing 14 out of 25\n"
     ]
    },
    {
     "name": "stderr",
     "output_type": "stream",
     "text": [
      "2019-11-16 15:09:09 [scrapy.core.engine] DEBUG: Crawled (200) <GET https://www.usedsurfboardshawaii.com/product/5ft-6in-minami-round-tail-ref-30452/> (referer: https://www.usedsurfboardshawaii.com/?post_type=product) ['cached']\n",
      "2019-11-16 15:09:09 [scrapy.core.scraper] DEBUG: Scraped from <200 https://www.usedsurfboardshawaii.com/product/6ft-2in-al-merrick-the-proton-squash-tail-ref-30403/>\n",
      "{'url': 'https://www.usedsurfboardshawaii.com/product/6ft-2in-al-merrick-the-proton-squash-tail-ref-30403/', 'title': '6ft 2in Al Merrick (The Proton) Squash Tail Ref# 30403', 'price': 350.0, 'description': 'Good condition shortboard with light deck pressures but otherwise minimal signs of previous use', 'type': 'Thruster (FCS2)', 'height': 'H 6’2″', 'width': 'W 18 3/8″', 'thickness': 'T 2 3/16″', 'condition': 'Good', 'manufacturer': 'Al Merrick'}\n",
      "2019-11-16 15:09:09 [scrapy.core.engine] DEBUG: Crawled (200) <GET https://www.usedsurfboardshawaii.com/product/5ft-7in-minami-squash-tail-ref-30450/> (referer: https://www.usedsurfboardshawaii.com/?post_type=product) ['cached']\n",
      "2019-11-16 15:09:09 [scrapy.core.scraper] DEBUG: Scraped from <200 https://www.usedsurfboardshawaii.com/product/5ft-11in-pyzel-pyzalien-swallow-tail-ref-30425/>\n",
      "{'url': 'https://www.usedsurfboardshawaii.com/product/5ft-11in-pyzel-pyzalien-swallow-tail-ref-30425/', 'title': '5ft 11in Pyzel (Pyzalien) Swallow Tail Ref# 30425', 'price': 350.0, 'description': 'Good condition shortboard with light deck pressures and a previous professional repair on bottom of board near tail.', 'type': '5-Fin (Future)', 'height': 'H 5’11”', 'width': 'W 19.38″', 'thickness': 'T 2.31″', 'condition': 'Good', 'manufacturer': 'Pyzel'}\n"
     ]
    },
    {
     "name": "stdout",
     "output_type": "stream",
     "text": [
      "Processing 15 out of 25\n",
      "Processing 16 out of 25\n"
     ]
    },
    {
     "name": "stderr",
     "output_type": "stream",
     "text": [
      "2019-11-16 15:09:09 [scrapy.core.engine] DEBUG: Crawled (200) <GET https://www.usedsurfboardshawaii.com/product/7ft-5in-brewer-sunset-tuflite-round-pin-tail-ref-30402/> (referer: https://www.usedsurfboardshawaii.com/?post_type=product) ['cached']\n",
      "2019-11-16 15:09:09 [scrapy.core.scraper] DEBUG: Scraped from <200 https://www.usedsurfboardshawaii.com/product/5ft-6in-minami-round-tail-ref-30452/>\n",
      "{'url': 'https://www.usedsurfboardshawaii.com/product/5ft-6in-minami-round-tail-ref-30452/', 'title': '5ft 6in Minami Round Tail Ref# 30452', 'price': 199.0, 'description': 'Fair condition shortboard with light deck pressures and an open ding on the nose (Shown in photo) that would need to be repaired to make this board water tight', 'type': '5-Fin (FCS)', 'height': 'H 5’6″', 'width': 'W 18 1/4″', 'thickness': 'T 2 1/4″', 'condition': 'Fair', 'manufacturer': 'Minami'}\n",
      "2019-11-16 15:09:09 [scrapy.core.engine] DEBUG: Crawled (200) <GET https://www.usedsurfboardshawaii.com/product/6ft-2in-hayden-shapes-shred-sled-round-tail-ref-30429/> (referer: https://www.usedsurfboardshawaii.com/?post_type=product) ['cached']\n",
      "2019-11-16 15:09:09 [scrapy.core.scraper] DEBUG: Scraped from <200 https://www.usedsurfboardshawaii.com/product/5ft-7in-minami-squash-tail-ref-30450/>\n",
      "{'url': 'https://www.usedsurfboardshawaii.com/product/5ft-7in-minami-squash-tail-ref-30450/', 'title': '5ft 7in Minami Squash Tail Ref# 30450', 'price': 270.0, 'description': 'Good condition shortboard with light deck pressures but otherwise minimal signs of previous use', 'type': '5-Fin (FCS)', 'height': 'H 5’7″', 'width': 'W 18 1/4″', 'thickness': 'T 2 5/16″', 'condition': 'Good', 'manufacturer': 'Minami'}\n"
     ]
    },
    {
     "name": "stdout",
     "output_type": "stream",
     "text": [
      "Processing 17 out of 25\n",
      "Processing 18 out of 25\n"
     ]
    },
    {
     "name": "stderr",
     "output_type": "stream",
     "text": [
      "2019-11-16 15:09:09 [scrapy.core.engine] DEBUG: Crawled (200) <GET https://www.usedsurfboardshawaii.com/product/6ft-3in-j-kashiwai-squash-tail-ref-30399/> (referer: https://www.usedsurfboardshawaii.com/?post_type=product) ['cached']\n",
      "2019-11-16 15:09:09 [scrapy.core.scraper] DEBUG: Scraped from <200 https://www.usedsurfboardshawaii.com/product/7ft-5in-brewer-sunset-tuflite-round-pin-tail-ref-30402/>\n",
      "{'url': 'https://www.usedsurfboardshawaii.com/product/7ft-5in-brewer-sunset-tuflite-round-pin-tail-ref-30402/', 'title': '7ft 5in Brewer (Sunset Tuflite) Round Pin Tail Ref# 30402', 'price': 399.0, 'description': 'Good condition board with minimal signs of previous use', 'type': 'Thruster (Future)', 'height': 'H 7’5″', 'width': 'W 18 1/4″', 'thickness': 'T 2 5/16″', 'condition': 'Good', 'manufacturer': 'Dick Brewer'}\n",
      "2019-11-16 15:09:10 [scrapy.core.engine] DEBUG: Crawled (200) <GET https://www.usedsurfboardshawaii.com/product/6ft-6in-makani-round-tail-ref-30398/> (referer: https://www.usedsurfboardshawaii.com/?post_type=product) ['cached']\n",
      "2019-11-16 15:09:10 [scrapy.core.scraper] DEBUG: Scraped from <200 https://www.usedsurfboardshawaii.com/product/6ft-2in-hayden-shapes-shred-sled-round-tail-ref-30429/>\n",
      "{'url': 'https://www.usedsurfboardshawaii.com/product/6ft-2in-hayden-shapes-shred-sled-round-tail-ref-30429/', 'title': '6ft 2in Hayden Shapes (Shred Sled) Round Tail Ref# 30429', 'price': 585.0, 'description': 'Good condition shortboard with light deck pressures but otherwise minimal signs of previous use.', 'type': '5-Fin (Future)', 'height': 'H 6’2″', 'width': 'W 19 3/4″', 'thickness': 'T 2 1/2″', 'condition': 'Good', 'manufacturer': 'Hayden Shapes'}\n"
     ]
    },
    {
     "name": "stdout",
     "output_type": "stream",
     "text": [
      "Processing 19 out of 25\n",
      "Processing 20 out of 25\n"
     ]
    },
    {
     "name": "stderr",
     "output_type": "stream",
     "text": [
      "2019-11-16 15:09:10 [scrapy.core.engine] DEBUG: Crawled (200) <GET https://www.usedsurfboardshawaii.com/product/5ft-9in-eric-arakawa-gx-squash-tail-ref-30436/> (referer: https://www.usedsurfboardshawaii.com/?post_type=product) ['cached']\n",
      "2019-11-16 15:09:10 [scrapy.core.scraper] DEBUG: Scraped from <200 https://www.usedsurfboardshawaii.com/product/6ft-3in-j-kashiwai-squash-tail-ref-30399/>\n",
      "{'url': 'https://www.usedsurfboardshawaii.com/product/6ft-3in-j-kashiwai-squash-tail-ref-30399/', 'title': '6ft 3in J. Kashiwai Squash Tail Ref# 30399', 'price': 250.0, 'description': 'Good condition Big Guy Shortboard with light deck pressures but otherwise minimal signs of previous use', 'type': '5-Fin (Future)', 'height': 'H 6’3″', 'width': 'W 21 7/8″', 'thickness': 'T 3″', 'condition': 'Good', 'manufacturer': 'J. Kashiwai'}\n",
      "2019-11-16 15:09:10 [scrapy.core.engine] DEBUG: Crawled (200) <GET https://www.usedsurfboardshawaii.com/product/6ft-1in-slater-designs-sci-fi-round-bat-tail-ref-30396/> (referer: https://www.usedsurfboardshawaii.com/?post_type=product) ['cached']\n",
      "2019-11-16 15:09:10 [scrapy.core.scraper] DEBUG: Scraped from <200 https://www.usedsurfboardshawaii.com/product/6ft-6in-makani-round-tail-ref-30398/>\n",
      "{'url': 'https://www.usedsurfboardshawaii.com/product/6ft-6in-makani-round-tail-ref-30398/', 'title': '6ft 6in Makani Round Tail Ref# 30398', 'price': 399.0, 'description': 'Good condition big guy shortboard with light deck pressures but otherwise minimal signs of previous use.', 'type': '5-Fin (Future)', 'height': 'H 6’6″', 'width': 'W 21 3/8″', 'thickness': 'T 3″', 'condition': 'Good', 'manufacturer': 'Makani'}\n"
     ]
    },
    {
     "name": "stdout",
     "output_type": "stream",
     "text": [
      "Processing 21 out of 25\n",
      "Processing 22 out of 25\n"
     ]
    },
    {
     "name": "stderr",
     "output_type": "stream",
     "text": [
      "2019-11-16 15:09:10 [scrapy.core.engine] DEBUG: Crawled (200) <GET https://www.usedsurfboardshawaii.com/product/6ft-7in-tokoro-round-pin-tail-ref-30275/> (referer: https://www.usedsurfboardshawaii.com/?post_type=product) ['cached']\n",
      "2019-11-16 15:09:10 [scrapy.core.scraper] DEBUG: Scraped from <200 https://www.usedsurfboardshawaii.com/product/5ft-9in-eric-arakawa-gx-squash-tail-ref-30436/>\n",
      "{'url': 'https://www.usedsurfboardshawaii.com/product/5ft-9in-eric-arakawa-gx-squash-tail-ref-30436/', 'title': '5ft 9in Eric Arakawa (GX) Squash Tail Ref# 30436', 'price': 270.0, 'description': 'Good condition shortboard with some deck pressures but otherwise minor signs of previous use.', 'type': 'Thruster (FCS)', 'height': 'H 5’9″', 'width': 'W 18 1/2″', 'thickness': 'T 2 1/4″', 'condition': 'Good', 'manufacturer': 'Arakawa, Eric Arakawa'}\n",
      "2019-11-16 15:09:10 [scrapy.core.engine] DEBUG: Crawled (200) <GET https://www.usedsurfboardshawaii.com/product/6ft-4in-eric-arakawa-nitro-round-tail-ref-30431/> (referer: https://www.usedsurfboardshawaii.com/?post_type=product) ['cached']\n",
      "2019-11-16 15:09:10 [scrapy.core.scraper] DEBUG: Scraped from <200 https://www.usedsurfboardshawaii.com/product/6ft-1in-slater-designs-sci-fi-round-bat-tail-ref-30396/>\n",
      "{'url': 'https://www.usedsurfboardshawaii.com/product/6ft-1in-slater-designs-sci-fi-round-bat-tail-ref-30396/', 'title': '6ft 1in Slater Designs (Sci-Fi) Round Bat Tail Ref# 30396', 'price': 499.0, 'description': 'Good condition shortboard with light deck pressures but otherwise minimal signs of previous use', 'type': '5-Fin (Future)', 'height': 'H 6’1″', 'width': 'W 20 1/4″', 'thickness': 'T 2 3/4″', 'condition': 'Good', 'manufacturer': 'SCI-FI / Tomo, Slater Designs'}\n"
     ]
    },
    {
     "name": "stdout",
     "output_type": "stream",
     "text": [
      "Processing 23 out of 25\n",
      "Processing 24 out of 25\n"
     ]
    },
    {
     "name": "stderr",
     "output_type": "stream",
     "text": [
      "2019-11-16 15:09:10 [scrapy.core.engine] DEBUG: Crawled (200) <GET https://www.usedsurfboardshawaii.com/product/6ft-6in-eric-arakawa-rp-round-pin-tail-ref-30427/> (referer: https://www.usedsurfboardshawaii.com/?post_type=product) ['cached']\n",
      "2019-11-16 15:09:10 [scrapy.core.scraper] DEBUG: Scraped from <200 https://www.usedsurfboardshawaii.com/product/6ft-7in-tokoro-round-pin-tail-ref-30275/>\n",
      "{'url': 'https://www.usedsurfboardshawaii.com/product/6ft-7in-tokoro-round-pin-tail-ref-30275/', 'title': '6ft 7in Tokoro Round Pin Tail Ref# 30275', 'price': 599.0, 'description': 'Excellent condition step up with minimal if any signs of previous use', 'type': 'Thruster (FCS2)', 'height': 'H 6’7″', 'width': 'W 18 3/8″', 'thickness': 'T 2 1/4″', 'condition': 'Excellent, Good, Like New', 'manufacturer': 'Tokoro'}\n",
      "2019-11-16 15:09:11 [scrapy.core.engine] DEBUG: Crawled (200) <GET https://www.usedsurfboardshawaii.com/product/5ft-10in-super-siamese-palm-viper-squash-tail-ref-30419/> (referer: https://www.usedsurfboardshawaii.com/?post_type=product) ['cached']\n",
      "2019-11-16 15:09:11 [scrapy.core.scraper] DEBUG: Scraped from <200 https://www.usedsurfboardshawaii.com/product/6ft-4in-eric-arakawa-nitro-round-tail-ref-30431/>\n",
      "{'url': 'https://www.usedsurfboardshawaii.com/product/6ft-4in-eric-arakawa-nitro-round-tail-ref-30431/', 'title': '6ft 4in Eric Arakawa (Nitro) Round Tail Ref# 30431', 'price': 399.0, 'description': 'Good condition step up with light pressure dents\\xa0 otherwise minor signs of previous use', 'type': '5-Fin (FCS2)', 'height': 'H 6’4″', 'width': 'W 19.75″', 'thickness': 'T 2.63″', 'condition': 'Good', 'manufacturer': 'Arakawa, Eric Arakawa'}\n",
      "2019-11-16 15:09:11 [scrapy.core.engine] DEBUG: Crawled (200) <GET https://www.usedsurfboardshawaii.com/page/2/?post_type=product> (referer: https://www.usedsurfboardshawaii.com/?post_type=product) ['cached']\n"
     ]
    },
    {
     "name": "stdout",
     "output_type": "stream",
     "text": [
      "Processing 25 out of 25\n",
      "\n",
      "https://www.usedsurfboardshawaii.com/page/2/?post_type=product\n"
     ]
    },
    {
     "name": "stderr",
     "output_type": "stream",
     "text": [
      "2019-11-16 15:09:11 [scrapy.core.scraper] DEBUG: Scraped from <200 https://www.usedsurfboardshawaii.com/product/6ft-6in-eric-arakawa-rp-round-pin-tail-ref-30427/>\n",
      "{'url': 'https://www.usedsurfboardshawaii.com/product/6ft-6in-eric-arakawa-rp-round-pin-tail-ref-30427/', 'title': '6ft 6in Eric Arakawa (RP) Round Pin Tail Ref# 30427', 'price': 385.0, 'description': 'Good condition step-up with light deck pressures but otherwise minimal signs of previous use', 'type': 'Thruster (FCS2)', 'height': 'H 6’6″', 'width': 'W 18.56″', 'thickness': 'T 2.42″', 'condition': 'Good', 'manufacturer': 'Arakawa, Eric Arakawa'}\n",
      "2019-11-16 15:09:11 [scrapy.core.scraper] DEBUG: Scraped from <200 https://www.usedsurfboardshawaii.com/product/5ft-10in-super-siamese-palm-viper-squash-tail-ref-30419/>\n",
      "{'url': 'https://www.usedsurfboardshawaii.com/product/5ft-10in-super-siamese-palm-viper-squash-tail-ref-30419/', 'title': '5ft 10in Super (Siamese Palm Viper) Squash Tail Ref# 30419', 'price': 299.0, 'description': 'Fair condition shortboard with light deck pressures as well as a professionally reattached nose.', 'type': 'Thruster (FCS2)', 'height': 'H 5’10”', 'width': 'W 19 1/2″', 'thickness': 'T 2 3/8″', 'condition': 'Fair', 'manufacturer': 'Super, Super Brand'}\n",
      "2019-11-16 15:09:11 [scrapy.core.engine] DEBUG: Crawled (200) <GET https://www.usedsurfboardshawaii.com/product/9ft-8in-starboard-sup-pin-tail-ref-30318/> (referer: https://www.usedsurfboardshawaii.com/page/2/?post_type=product) ['cached']\n"
     ]
    },
    {
     "name": "stdout",
     "output_type": "stream",
     "text": [
      "Total:  25\n",
      "Processing 1 out of 25\n",
      "Processing 2 out of 25\n"
     ]
    },
    {
     "name": "stderr",
     "output_type": "stream",
     "text": [
      "2019-11-16 15:09:11 [scrapy.core.engine] DEBUG: Crawled (200) <GET https://www.usedsurfboardshawaii.com/product/5ft-6in-hoss-co-swallow-ref-30295/> (referer: https://www.usedsurfboardshawaii.com/page/2/?post_type=product) ['cached']\n",
      "2019-11-16 15:09:11 [scrapy.core.engine] DEBUG: Crawled (200) <GET https://www.usedsurfboardshawaii.com/product/6ft-8in-island-surfboards-silva-pin-tail-ref-30331/> (referer: https://www.usedsurfboardshawaii.com/page/2/?post_type=product) ['cached']\n",
      "2019-11-16 15:09:11 [scrapy.core.scraper] DEBUG: Scraped from <200 https://www.usedsurfboardshawaii.com/product/9ft-8in-starboard-sup-pin-tail-ref-30318/>\n",
      "{'url': 'https://www.usedsurfboardshawaii.com/product/9ft-8in-starboard-sup-pin-tail-ref-30318/', 'title': '9ft 8in Starboard SUP Pin Tail Ref# 30318', 'price': 699.0, 'description': 'Vol: 153L', 'type': '2+1 (FCS Single)', 'height': 'H 9′ 8″', 'width': 'W 30″', 'thickness': 'T 4.3″', 'condition': 'Good', 'manufacturer': 'Starboard'}\n"
     ]
    },
    {
     "name": "stdout",
     "output_type": "stream",
     "text": [
      "Processing 3 out of 25\n",
      "Processing 4 out of 25\n"
     ]
    },
    {
     "name": "stderr",
     "output_type": "stream",
     "text": [
      "2019-11-16 15:09:11 [scrapy.core.engine] DEBUG: Crawled (200) <GET https://www.usedsurfboardshawaii.com/product/8ft-6in-rusty-black-bird-round-tail-ref-30369/> (referer: https://www.usedsurfboardshawaii.com/page/2/?post_type=product) ['cached']\n",
      "2019-11-16 15:09:11 [scrapy.core.scraper] DEBUG: Scraped from <200 https://www.usedsurfboardshawaii.com/product/5ft-6in-hoss-co-swallow-ref-30295/>\n",
      "{'url': 'https://www.usedsurfboardshawaii.com/product/5ft-6in-hoss-co-swallow-ref-30295/', 'title': '5ft 6in Hoss Co. Swallow Ref# 30295', 'price': 350.0, 'description': 'Good condition groveler for those smaller days. Only some minor pressure denting.', 'type': 'Quad (Future)', 'height': 'H 5′ 6″', 'width': 'W 19.5″', 'thickness': 'T 2.38″', 'condition': 'Good', 'manufacturer': 'Hoss Co.'}\n",
      "2019-11-16 15:09:11 [scrapy.core.engine] DEBUG: Crawled (200) <GET https://www.usedsurfboardshawaii.com/product/5ft-7in-hoss-co-squash-tail-ref-30294/> (referer: https://www.usedsurfboardshawaii.com/page/2/?post_type=product) ['cached']\n",
      "2019-11-16 15:09:12 [scrapy.core.scraper] DEBUG: Scraped from <200 https://www.usedsurfboardshawaii.com/product/6ft-8in-island-surfboards-silva-pin-tail-ref-30331/>\n",
      "{'url': 'https://www.usedsurfboardshawaii.com/product/6ft-8in-island-surfboards-silva-pin-tail-ref-30331/', 'title': '6ft 8in Island Surfboards (Silva) Pin Tail Ref# 30331', 'price': 299.0, 'description': 'Fair condition step up with various pressure dents but otherwise minor signs of previous use', 'type': 'Thruster (FCS)', 'height': 'H 6’8″', 'width': 'W 18 7/8″', 'thickness': 'T 2 9/16″', 'condition': 'Fair', 'manufacturer': 'Island Surfboards Hawaii'}\n"
     ]
    },
    {
     "name": "stdout",
     "output_type": "stream",
     "text": [
      "Processing 5 out of 25\n",
      "Processing 6 out of 25\n"
     ]
    },
    {
     "name": "stderr",
     "output_type": "stream",
     "text": [
      "2019-11-16 15:09:12 [scrapy.core.engine] DEBUG: Crawled (200) <GET https://www.usedsurfboardshawaii.com/product/7ft-2in-bret-round-tail-ref-30367/> (referer: https://www.usedsurfboardshawaii.com/page/2/?post_type=product) ['cached']\n",
      "2019-11-16 15:09:12 [scrapy.core.scraper] DEBUG: Scraped from <200 https://www.usedsurfboardshawaii.com/product/8ft-6in-rusty-black-bird-round-tail-ref-30369/>\n",
      "{'url': 'https://www.usedsurfboardshawaii.com/product/8ft-6in-rusty-black-bird-round-tail-ref-30369/', 'title': '8ft 6in Rusty (Black Bird) Round Tail Ref# 30369', 'price': 799.0, 'description': 'Excellent condition big guy semi gun with minimal if any signs of previous use', 'type': '5-Fin (Future)', 'height': 'H 8’6″', 'width': 'W 20.5″', 'thickness': 'T 4″', 'condition': 'Excellent, Good, Like New', 'manufacturer': 'Rusty'}\n",
      "2019-11-16 15:09:12 [scrapy.core.engine] DEBUG: Crawled (200) <GET https://www.usedsurfboardshawaii.com/product/11ft-6in-c4-waterman-squash-tail-ref-30375/> (referer: https://www.usedsurfboardshawaii.com/page/2/?post_type=product) ['cached']\n",
      "2019-11-16 15:09:12 [scrapy.core.scraper] DEBUG: Scraped from <200 https://www.usedsurfboardshawaii.com/product/5ft-7in-hoss-co-squash-tail-ref-30294/>\n",
      "{'url': 'https://www.usedsurfboardshawaii.com/product/5ft-7in-hoss-co-squash-tail-ref-30294/', 'title': '5ft 7in Hoss Co. Squash Tail Ref# 30294', 'price': 385.0, 'description': 'Good shortboard with very minimal pressure denting.', 'type': 'Thruster (Future)', 'height': 'H 5′ 7″', 'width': 'W 19 1/2″', 'thickness': 'T 2 3/4″', 'condition': 'Good', 'manufacturer': 'Hoss Co.'}\n"
     ]
    },
    {
     "name": "stdout",
     "output_type": "stream",
     "text": [
      "Processing 7 out of 25\n",
      "Processing 8 out of 25\n"
     ]
    },
    {
     "name": "stderr",
     "output_type": "stream",
     "text": [
      "2019-11-16 15:09:12 [scrapy.core.engine] DEBUG: Crawled (200) <GET https://www.usedsurfboardshawaii.com/product/9ft-1in-wilkerson-pin-tail-ref-30271/> (referer: https://www.usedsurfboardshawaii.com/page/2/?post_type=product) ['cached']\n",
      "2019-11-16 15:09:12 [scrapy.core.scraper] DEBUG: Scraped from <200 https://www.usedsurfboardshawaii.com/product/7ft-2in-bret-round-tail-ref-30367/>\n",
      "{'url': 'https://www.usedsurfboardshawaii.com/product/7ft-2in-bret-round-tail-ref-30367/', 'title': '7ft 2in Bret Round Tail Ref# 30367', 'price': 350.0, 'description': '20 1/2″', 'type': 'Thruster (FCS)', 'height': 'H 7’2″', 'width': None, 'thickness': None, 'condition': 'Fair', 'manufacturer': 'Bret'}\n",
      "2019-11-16 15:09:12 [scrapy.core.engine] DEBUG: Crawled (200) <GET https://www.usedsurfboardshawaii.com/product/5ft-5in-js-swallow-tail-ref-30281/> (referer: https://www.usedsurfboardshawaii.com/page/2/?post_type=product) ['cached']\n",
      "2019-11-16 15:09:12 [scrapy.core.scraper] DEBUG: Scraped from <200 https://www.usedsurfboardshawaii.com/product/11ft-6in-c4-waterman-squash-tail-ref-30375/>\n",
      "{'url': 'https://www.usedsurfboardshawaii.com/product/11ft-6in-c4-waterman-squash-tail-ref-30375/', 'title': '11ft 6in C4 Waterman Squash Tail Ref# 30375', 'price': 650.0, 'description': 'Excellent condition SUP with minimal signs of previous use.\\xa0 A paddle and fins are included.', 'type': '2+1 (Future)', 'height': 'H 11’6″', 'width': 'W 29′', 'thickness': 'T 5 1/16″', 'condition': 'Excellent, Good', 'manufacturer': 'C4 Waterman'}\n"
     ]
    },
    {
     "name": "stdout",
     "output_type": "stream",
     "text": [
      "Processing 9 out of 25\n",
      "Processing 10 out of 25\n"
     ]
    },
    {
     "name": "stderr",
     "output_type": "stream",
     "text": [
      "2019-11-16 15:09:12 [scrapy.core.engine] DEBUG: Crawled (200) <GET https://www.usedsurfboardshawaii.com/product/8ft-8in-eric-arakawa-pin-tail-ref-30379/> (referer: https://www.usedsurfboardshawaii.com/page/2/?post_type=product) ['cached']\n",
      "2019-11-16 15:09:12 [scrapy.core.scraper] DEBUG: Scraped from <200 https://www.usedsurfboardshawaii.com/product/9ft-1in-wilkerson-pin-tail-ref-30271/>\n",
      "{'url': 'https://www.usedsurfboardshawaii.com/product/9ft-1in-wilkerson-pin-tail-ref-30271/', 'title': '9ft 1in Wilkerson Pin Tail Ref# 30271', 'price': 399.0, 'description': 'Nice longboard with a fair amount of pressure denting and a couple minor dings. This board still has a lot of sessions left in it.', 'type': 'Single Fin', 'height': 'H 9′ 1″', 'width': 'W 22″', 'thickness': 'T 2 1/2″', 'condition': 'Fair', 'manufacturer': 'M. Wilkerson, Matt Wilkerson'}\n",
      "2019-11-16 15:09:12 [scrapy.core.engine] DEBUG: Crawled (200) <GET https://www.usedsurfboardshawaii.com/product/5ft-11in-pyzel-voyager-squash-tail-ref-30379/> (referer: https://www.usedsurfboardshawaii.com/page/2/?post_type=product) ['cached']\n",
      "2019-11-16 15:09:13 [scrapy.core.scraper] DEBUG: Scraped from <200 https://www.usedsurfboardshawaii.com/product/5ft-5in-js-swallow-tail-ref-30281/>\n",
      "{'url': 'https://www.usedsurfboardshawaii.com/product/5ft-5in-js-swallow-tail-ref-30281/', 'title': '5ft 5in JS Swallow Tail Ref# 30281', 'price': 575.0, 'description': 'Good condition fish with light deck pressures and a small scratch on bottom of the board (Shown in photos)', 'type': 'Twin (Future)', 'height': 'H 5’5″', 'width': 'W 19 3/4″', 'thickness': 'T 2 3/16″', 'condition': 'Good', 'manufacturer': 'JS'}\n"
     ]
    },
    {
     "name": "stdout",
     "output_type": "stream",
     "text": [
      "Processing 11 out of 25\n",
      "Processing 12 out of 25\n"
     ]
    },
    {
     "name": "stderr",
     "output_type": "stream",
     "text": [
      "2019-11-16 15:09:13 [scrapy.core.engine] DEBUG: Crawled (200) <GET https://www.usedsurfboardshawaii.com/product/5ft-6in-hayden-shapes-love-buzz-ref-30280/> (referer: https://www.usedsurfboardshawaii.com/page/2/?post_type=product) ['cached']\n",
      "2019-11-16 15:09:13 [scrapy.core.scraper] DEBUG: Scraped from <200 https://www.usedsurfboardshawaii.com/product/8ft-8in-eric-arakawa-pin-tail-ref-30379/>\n",
      "{'url': 'https://www.usedsurfboardshawaii.com/product/8ft-8in-eric-arakawa-pin-tail-ref-30379/', 'title': '8ft 8in Eric Arakawa Pin Tail Ref# 30379', 'price': 350.0, 'description': 'Vol: 50.6 L', 'type': 'Thruster (Future)', 'height': 'H 8′ 8″', 'width': 'W 20″', 'thickness': 'T 2.88″', 'condition': 'Fair', 'manufacturer': 'Eric Arakawa'}\n",
      "2019-11-16 15:09:13 [scrapy.core.engine] DEBUG: Crawled (200) <GET https://www.usedsurfboardshawaii.com/product/6ft-2in-libtech-vert-series-squash-tail-ref-30370/> (referer: https://www.usedsurfboardshawaii.com/page/2/?post_type=product) ['cached']\n",
      "2019-11-16 15:09:13 [scrapy.core.scraper] DEBUG: Scraped from <200 https://www.usedsurfboardshawaii.com/product/5ft-11in-pyzel-voyager-squash-tail-ref-30379/>\n",
      "{'url': 'https://www.usedsurfboardshawaii.com/product/5ft-11in-pyzel-voyager-squash-tail-ref-30379/', 'title': '5ft 11in Pyzel (Voyager) Squash Tail Ref# 30379', 'price': 385.0, 'description': 'Vol: 28 L', 'type': 'Thruster (Future)', 'height': 'H 5′ 11″', 'width': 'W 18.88″', 'thickness': 'T 2.38″', 'condition': 'Fair', 'manufacturer': 'Pyzel'}\n"
     ]
    },
    {
     "name": "stdout",
     "output_type": "stream",
     "text": [
      "Processing 13 out of 25\n",
      "Processing 14 out of 25\n"
     ]
    },
    {
     "name": "stderr",
     "output_type": "stream",
     "text": [
      "2019-11-16 15:09:13 [scrapy.core.engine] DEBUG: Crawled (200) <GET https://www.usedsurfboardshawaii.com/product/5ft-10in-lost-pocket-rocket-squash-tail-ref-30362/> (referer: https://www.usedsurfboardshawaii.com/page/2/?post_type=product) ['cached']\n",
      "2019-11-16 15:09:13 [scrapy.core.scraper] DEBUG: Scraped from <200 https://www.usedsurfboardshawaii.com/product/5ft-6in-hayden-shapes-love-buzz-ref-30280/>\n",
      "{'url': 'https://www.usedsurfboardshawaii.com/product/5ft-6in-hayden-shapes-love-buzz-ref-30280/', 'title': '5ft 6in Hayden Shapes (Love Buzz) Ref# 30280', 'price': 299.0, 'description': 'Good shortboard with a fair amount of pressure denting but still lots of life in this board.', 'type': '5 fin (Future)', 'height': 'H 5′ 6″', 'width': 'W 18 3/4″', 'thickness': 'T 2 3/16″', 'condition': 'Fair', 'manufacturer': 'Hayden Shapes'}\n",
      "2019-11-16 15:09:13 [scrapy.core.engine] DEBUG: Crawled (200) <GET https://www.usedsurfboardshawaii.com/product/6ft-akila-aipa-squash-tail-ref-30385/> (referer: https://www.usedsurfboardshawaii.com/page/2/?post_type=product) ['cached']\n",
      "2019-11-16 15:09:13 [scrapy.core.scraper] DEBUG: Scraped from <200 https://www.usedsurfboardshawaii.com/product/6ft-2in-libtech-vert-series-squash-tail-ref-30370/>\n",
      "{'url': 'https://www.usedsurfboardshawaii.com/product/6ft-2in-libtech-vert-series-squash-tail-ref-30370/', 'title': '6ft 2in Libtech (Vert Series) Squash Tail Ref# 30370', 'price': 499.0, 'description': 'Good condition shortboard with minimal signs of previous use', 'type': 'Thruster (lib/FCS)', 'height': 'H 6’2″', 'width': 'W 19.37″', 'thickness': 'T 2.58″', 'condition': 'Good', 'manufacturer': 'Lib Tech'}\n"
     ]
    },
    {
     "name": "stdout",
     "output_type": "stream",
     "text": [
      "Processing 15 out of 25\n",
      "Processing 16 out of 25\n"
     ]
    },
    {
     "name": "stderr",
     "output_type": "stream",
     "text": [
      "2019-11-16 15:09:13 [scrapy.core.engine] DEBUG: Crawled (200) <GET https://www.usedsurfboardshawaii.com/product/6ft-3in-akila-aipa-round-tail-ref-30383/> (referer: https://www.usedsurfboardshawaii.com/page/2/?post_type=product) ['cached']\n",
      "2019-11-16 15:09:13 [scrapy.core.scraper] DEBUG: Scraped from <200 https://www.usedsurfboardshawaii.com/product/5ft-10in-lost-pocket-rocket-squash-tail-ref-30362/>\n",
      "{'url': 'https://www.usedsurfboardshawaii.com/product/5ft-10in-lost-pocket-rocket-squash-tail-ref-30362/', 'title': '5ft 10in Lost (Pocket Rocket) Squash Tail Ref# 30362', 'price': 225.0, 'description': 'Fair condition shortboard with an open nose ding (Shown in photo) that needs repair before this board is water tight, as well as being fairly pressure dented', 'type': 'Thruster (FCS2)', 'height': 'H 5’10”', 'width': 'W 18.63″', 'thickness': 'T 2.3″', 'condition': 'Fair', 'manufacturer': 'Lost'}\n",
      "2019-11-16 15:09:13 [scrapy.core.engine] DEBUG: Crawled (200) <GET https://www.usedsurfboardshawaii.com/product/6ft-8in-eric-arakawa-rp-round-pin-tail-ref-30380/> (referer: https://www.usedsurfboardshawaii.com/page/2/?post_type=product) ['cached']\n",
      "2019-11-16 15:09:14 [scrapy.core.scraper] DEBUG: Scraped from <200 https://www.usedsurfboardshawaii.com/product/6ft-akila-aipa-squash-tail-ref-30385/>\n",
      "{'url': 'https://www.usedsurfboardshawaii.com/product/6ft-akila-aipa-squash-tail-ref-30385/', 'title': '6ft Akila Aipa Squash Tail Ref# 30385', 'price': 450.0, 'description': 'Good condition shortboard with light deck pressures but otherwise minimal signs of previous use', 'type': 'Thruster (Future Sides, FCS Center)', 'height': 'H 6’0″', 'width': 'W 19 3/8″', 'thickness': 'T 2 1/2″', 'condition': 'Good', 'manufacturer': 'Aipa, Akila Aipa'}\n"
     ]
    },
    {
     "name": "stdout",
     "output_type": "stream",
     "text": [
      "Processing 17 out of 25\n",
      "Processing 18 out of 25\n"
     ]
    },
    {
     "name": "stderr",
     "output_type": "stream",
     "text": [
      "2019-11-16 15:09:14 [scrapy.core.engine] DEBUG: Crawled (200) <GET https://www.usedsurfboardshawaii.com/product/5ft-10in-akila-aipa-squash-tail-ref-30384/> (referer: https://www.usedsurfboardshawaii.com/page/2/?post_type=product) ['cached']\n",
      "2019-11-16 15:09:14 [scrapy.core.scraper] DEBUG: Scraped from <200 https://www.usedsurfboardshawaii.com/product/6ft-3in-akila-aipa-round-tail-ref-30383/>\n",
      "{'url': 'https://www.usedsurfboardshawaii.com/product/6ft-3in-akila-aipa-round-tail-ref-30383/', 'title': '6ft 3in Akila Aipa Round Tail Ref# 30383', 'price': 399.0, 'description': 'Good condition shortboard with light deck pressures but otherwise minimal signs of previous use', 'type': 'Thruster (FCS)', 'height': 'H 6’3″', 'width': 'W 19″', 'thickness': 'T 2 5/8″', 'condition': 'Good', 'manufacturer': 'Aipa, Akila Aipa'}\n",
      "2019-11-16 15:09:14 [scrapy.core.engine] DEBUG: Crawled (200) <GET https://www.usedsurfboardshawaii.com/product/5ft-9in-al-merrick-rocket-wide-swallow-tail-ref-30372/> (referer: https://www.usedsurfboardshawaii.com/page/2/?post_type=product) ['cached']\n",
      "2019-11-16 15:09:14 [scrapy.core.scraper] DEBUG: Scraped from <200 https://www.usedsurfboardshawaii.com/product/6ft-8in-eric-arakawa-rp-round-pin-tail-ref-30380/>\n",
      "{'url': 'https://www.usedsurfboardshawaii.com/product/6ft-8in-eric-arakawa-rp-round-pin-tail-ref-30380/', 'title': '6ft 8in Eric Arakawa (RP) Round Pin Tail Ref# 30380', 'price': 435.0, 'description': 'Good condition step up with some light deck pressures but otherwise minimal signs of previous use', 'type': 'Thruster (FCS2)', 'height': 'H 6’8″', 'width': 'W 18.6″', 'thickness': 'T 2.45″', 'condition': 'Good', 'manufacturer': 'Arakawa, Eric Arakawa'}\n"
     ]
    },
    {
     "name": "stdout",
     "output_type": "stream",
     "text": [
      "Processing 19 out of 25\n",
      "Processing 20 out of 25\n"
     ]
    },
    {
     "name": "stderr",
     "output_type": "stream",
     "text": [
      "2019-11-16 15:09:14 [scrapy.core.engine] DEBUG: Crawled (200) <GET https://www.usedsurfboardshawaii.com/product/6ft-3in-js-hy-fi-round-tail-ref-30380/> (referer: https://www.usedsurfboardshawaii.com/page/2/?post_type=product) ['cached']\n",
      "2019-11-16 15:09:14 [scrapy.core.scraper] DEBUG: Scraped from <200 https://www.usedsurfboardshawaii.com/product/5ft-10in-akila-aipa-squash-tail-ref-30384/>\n",
      "{'url': 'https://www.usedsurfboardshawaii.com/product/5ft-10in-akila-aipa-squash-tail-ref-30384/', 'title': '5ft 10in Akila Aipa Squash Tail Ref# 30384', 'price': 450.0, 'description': 'Good condition board with just some minor pressure denting.', 'type': '(Future) Twin + (FCS) Trailer', 'height': 'H 5′ 10″', 'width': 'W 20″', 'thickness': 'T 2 1/2″', 'condition': 'Good', 'manufacturer': 'Aipa, Akila Aipa'}\n",
      "2019-11-16 15:09:14 [scrapy.core.engine] DEBUG: Crawled (200) <GET https://www.usedsurfboardshawaii.com/product/6ft-4in-eric-arakawa-round-pin-tail-ref-30363/> (referer: https://www.usedsurfboardshawaii.com/page/2/?post_type=product) ['cached']\n",
      "2019-11-16 15:09:14 [scrapy.core.scraper] DEBUG: Scraped from <200 https://www.usedsurfboardshawaii.com/product/5ft-9in-al-merrick-rocket-wide-swallow-tail-ref-30372/>\n",
      "{'url': 'https://www.usedsurfboardshawaii.com/product/5ft-9in-al-merrick-rocket-wide-swallow-tail-ref-30372/', 'title': '5ft 9in Al Merrick (Rocket Wide) Swallow Tail Ref# 30372', 'price': 565.0, 'description': 'Good condition fish with light deck pressures but otherwise minimal signs of previous use', 'type': '5-Fin (FCS2)', 'height': 'H 5’9″', 'width': 'W 19 3/4″', 'thickness': 'T 2 9/16″', 'condition': 'Good', 'manufacturer': 'Al Merrick'}\n"
     ]
    },
    {
     "name": "stdout",
     "output_type": "stream",
     "text": [
      "Processing 21 out of 25\n",
      "Processing 22 out of 25\n"
     ]
    },
    {
     "name": "stderr",
     "output_type": "stream",
     "text": [
      "2019-11-16 15:09:14 [scrapy.core.engine] DEBUG: Crawled (200) <GET https://www.usedsurfboardshawaii.com/product/6ft-8in-super-round-pin-tail-ref-30386/> (referer: https://www.usedsurfboardshawaii.com/page/2/?post_type=product) ['cached']\n",
      "2019-11-16 15:09:14 [scrapy.core.scraper] DEBUG: Scraped from <200 https://www.usedsurfboardshawaii.com/product/6ft-3in-js-hy-fi-round-tail-ref-30380/>\n",
      "{'url': 'https://www.usedsurfboardshawaii.com/product/6ft-3in-js-hy-fi-round-tail-ref-30380/', 'title': '6ft 3in JS (Hy-Fi) Round Tail Ref# 30380', 'price': 535.0, 'description': 'Excellent condition shortboard with very minimal if any signs of previous use', 'type': '5-Fin (Future)', 'height': 'H 6’3″', 'width': 'W 19 1/3″', 'thickness': 'T 2 1/3″', 'condition': 'Excellent, Good, Like New', 'manufacturer': 'JS'}\n",
      "2019-11-16 15:09:14 [scrapy.core.engine] DEBUG: Crawled (200) <GET https://www.usedsurfboardshawaii.com/product/8ft-al-merrick-round-pin-tail-ref-30316/> (referer: https://www.usedsurfboardshawaii.com/page/2/?post_type=product) ['cached']\n",
      "2019-11-16 15:09:14 [scrapy.core.scraper] DEBUG: Scraped from <200 https://www.usedsurfboardshawaii.com/product/6ft-4in-eric-arakawa-round-pin-tail-ref-30363/>\n",
      "{'url': 'https://www.usedsurfboardshawaii.com/product/6ft-4in-eric-arakawa-round-pin-tail-ref-30363/', 'title': '6ft 4in Eric Arakawa Round Pin Tail Ref# 30363', 'price': 225.0, 'description': 'Fair condition step up with light deck pressures and a scratch on the rail (Shown in photos) that might need some resin to be water tight', 'type': '5-fin (FCS2)', 'height': 'H 6’4″', 'width': 'W 18.5″', 'thickness': 'T 2.31″', 'condition': 'Fair', 'manufacturer': 'Arakawa, Eric Arakawa'}\n"
     ]
    },
    {
     "name": "stdout",
     "output_type": "stream",
     "text": [
      "Processing 23 out of 25\n",
      "Processing 24 out of 25\n"
     ]
    },
    {
     "name": "stderr",
     "output_type": "stream",
     "text": [
      "2019-11-16 15:09:15 [scrapy.core.engine] DEBUG: Crawled (200) <GET https://www.usedsurfboardshawaii.com/product/6ft-4in-bret-round-tail-ref-30316/> (referer: https://www.usedsurfboardshawaii.com/page/2/?post_type=product) ['cached']\n",
      "2019-11-16 15:09:15 [scrapy.core.scraper] DEBUG: Scraped from <200 https://www.usedsurfboardshawaii.com/product/6ft-8in-super-round-pin-tail-ref-30386/>\n",
      "{'url': 'https://www.usedsurfboardshawaii.com/product/6ft-8in-super-round-pin-tail-ref-30386/', 'title': '6ft 8in Super Round Pin Tail Ref# 30386', 'price': 299.0, 'description': 'Good condition step up with some decent deck pressures but otherwise minimal signs of previous use', 'type': 'Thruster (Future)', 'height': 'H 6’8″', 'width': 'W 19 1/4″', 'thickness': 'T 2 5/8″', 'condition': 'Good', 'manufacturer': 'Super'}\n",
      "2019-11-16 15:09:15 [scrapy.core.engine] DEBUG: Crawled (200) <GET https://www.usedsurfboardshawaii.com/product/5ft-6in-tokoro-squash-tail-ref-30314/> (referer: https://www.usedsurfboardshawaii.com/page/2/?post_type=product) ['cached']\n",
      "2019-11-16 15:09:15 [scrapy.core.scraper] DEBUG: Scraped from <200 https://www.usedsurfboardshawaii.com/product/8ft-al-merrick-round-pin-tail-ref-30316/>\n",
      "{'url': 'https://www.usedsurfboardshawaii.com/product/8ft-al-merrick-round-pin-tail-ref-30316/', 'title': '8ft Al Merrick Round Pin Tail Ref# 30316', 'price': 250.0, 'description': 'Good condition Fun Gun with some light wear on the paint but otherwise still has a lot of life!', 'type': 'Thruster (FCS)', 'height': 'H 8’0″', 'width': 'W 21 1/2″', 'thickness': 'T 3 1/2″', 'condition': 'Good', 'manufacturer': 'Al Merrick'}\n",
      "2019-11-16 15:09:15 [scrapy.core.engine] DEBUG: Crawled (200) <GET https://www.usedsurfboardshawaii.com/page/3/?post_type=product> (referer: https://www.usedsurfboardshawaii.com/page/2/?post_type=product) ['cached']\n"
     ]
    },
    {
     "name": "stdout",
     "output_type": "stream",
     "text": [
      "Processing 25 out of 25\n",
      "\n",
      "https://www.usedsurfboardshawaii.com/page/3/?post_type=product\n"
     ]
    },
    {
     "name": "stderr",
     "output_type": "stream",
     "text": [
      "2019-11-16 15:09:15 [scrapy.core.scraper] DEBUG: Scraped from <200 https://www.usedsurfboardshawaii.com/product/6ft-4in-bret-round-tail-ref-30316/>\n",
      "{'url': 'https://www.usedsurfboardshawaii.com/product/6ft-4in-bret-round-tail-ref-30316/', 'title': '6ft 4in Bret Round Tail Ref# 30316', 'price': 225.0, 'description': 'Good condition step up with light deck pressures but otherwise minimal signs of previous use', 'type': '5-Fin (Future)', 'height': 'H 6’4″', 'width': 'W 18.65″', 'thickness': 'T 2 1/2″', 'condition': 'Good', 'manufacturer': 'Bret'}\n",
      "2019-11-16 15:09:15 [scrapy.core.scraper] DEBUG: Scraped from <200 https://www.usedsurfboardshawaii.com/product/5ft-6in-tokoro-squash-tail-ref-30314/>\n",
      "{'url': 'https://www.usedsurfboardshawaii.com/product/5ft-6in-tokoro-squash-tail-ref-30314/', 'title': '5ft 6in Tokoro Squash Tail Ref# 30314', 'price': 450.0, 'description': 'Good condition shortboard with light deck pressures but otherwise minimal signs of previous use', 'type': 'Thruster (Future)', 'height': 'H 5’6″', 'width': 'W 19 1/2″', 'thickness': 'T 2 3/8″', 'condition': 'Good', 'manufacturer': 'Tokoro'}\n",
      "2019-11-16 15:09:15 [scrapy.core.engine] DEBUG: Crawled (200) <GET https://www.usedsurfboardshawaii.com/product/9ft-2in-mike-casey-round-pin-tail-ref-30342/> (referer: https://www.usedsurfboardshawaii.com/page/3/?post_type=product) ['cached']\n"
     ]
    },
    {
     "name": "stdout",
     "output_type": "stream",
     "text": [
      "Total:  25\n",
      "Processing 1 out of 25\n",
      "Processing 2 out of 25\n"
     ]
    },
    {
     "name": "stderr",
     "output_type": "stream",
     "text": [
      "2019-11-16 15:09:15 [scrapy.core.engine] DEBUG: Crawled (200) <GET https://www.usedsurfboardshawaii.com/product/9ft-takayama-surftech-round-pin-tail-ref-30299/> (referer: https://www.usedsurfboardshawaii.com/page/3/?post_type=product) ['cached']\n",
      "2019-11-16 15:09:15 [scrapy.core.engine] DEBUG: Crawled (200) <GET https://www.usedsurfboardshawaii.com/product/9ft-firewire-taylor-jensen-round-tail-ref-30336/> (referer: https://www.usedsurfboardshawaii.com/page/3/?post_type=product) ['cached']\n",
      "2019-11-16 15:09:15 [scrapy.core.scraper] DEBUG: Scraped from <200 https://www.usedsurfboardshawaii.com/product/9ft-2in-mike-casey-round-pin-tail-ref-30342/>\n",
      "{'url': 'https://www.usedsurfboardshawaii.com/product/9ft-2in-mike-casey-round-pin-tail-ref-30342/', 'title': '9ft 2in Mike Casey Round Pin Tail Ref# 30342', 'price': 485.0, 'description': 'Good condition longboard with light deck pressures and slight yellowing from age and previous use', 'type': '2+1 (Future)', 'height': 'H 9’2″', 'width': 'W 21 1/2″', 'thickness': 'T 2 7/8″', 'condition': 'Good', 'manufacturer': 'Casey, Mike Casey'}\n"
     ]
    },
    {
     "name": "stdout",
     "output_type": "stream",
     "text": [
      "Processing 3 out of 25\n",
      "Processing 4 out of 25\n"
     ]
    },
    {
     "name": "stderr",
     "output_type": "stream",
     "text": [
      "2019-11-16 15:09:15 [scrapy.core.engine] DEBUG: Crawled (200) <GET https://www.usedsurfboardshawaii.com/product/5ft-10in-tomo-v4-swallow-tail-ref-30305/> (referer: https://www.usedsurfboardshawaii.com/page/3/?post_type=product) ['cached']\n",
      "2019-11-16 15:09:15 [scrapy.core.scraper] DEBUG: Scraped from <200 https://www.usedsurfboardshawaii.com/product/9ft-takayama-surftech-round-pin-tail-ref-30299/>\n",
      "{'url': 'https://www.usedsurfboardshawaii.com/product/9ft-takayama-surftech-round-pin-tail-ref-30299/', 'title': '9ft Takayama (surftech) Round Pin Tail Ref# 30299', 'price': 335.0, 'description': 'Fair condition longboard with light deck pressures and signs of previous repairs, but otherwise in good condition.', 'type': '2+1 (FCS)', 'height': 'H 9’0″', 'width': 'W 21 1/4″', 'thickness': 'T 2 7/8″', 'condition': 'Fair', 'manufacturer': 'Takayama'}\n",
      "2019-11-16 15:09:16 [scrapy.core.engine] DEBUG: Crawled (200) <GET https://www.usedsurfboardshawaii.com/product/5ft-10in-firewire-almond-butter-squash-tail-ref-30334/> (referer: https://www.usedsurfboardshawaii.com/page/3/?post_type=product) ['cached']\n",
      "2019-11-16 15:09:16 [scrapy.core.scraper] DEBUG: Scraped from <200 https://www.usedsurfboardshawaii.com/product/9ft-firewire-taylor-jensen-round-tail-ref-30336/>\n",
      "{'url': 'https://www.usedsurfboardshawaii.com/product/9ft-firewire-taylor-jensen-round-tail-ref-30336/', 'title': '9ft Firewire (Taylor Jensen) Round Tail Ref# 30336', 'price': 1150.0, 'description': 'Like new condition longboard with minimal signs of previous use.', 'type': 'Single Fin', 'height': 'H 9’0″', 'width': 'W 22 3/4″', 'thickness': 'T 3″', 'condition': 'Excellent, Good, Like New', 'manufacturer': 'Firewire'}\n"
     ]
    },
    {
     "name": "stdout",
     "output_type": "stream",
     "text": [
      "Processing 5 out of 25\n",
      "Processing 6 out of 25\n"
     ]
    },
    {
     "name": "stderr",
     "output_type": "stream",
     "text": [
      "2019-11-16 15:09:16 [scrapy.core.engine] DEBUG: Crawled (200) <GET https://www.usedsurfboardshawaii.com/product/5ft-8in-northern-alliance-squash-tail-ref-30348/> (referer: https://www.usedsurfboardshawaii.com/page/3/?post_type=product) ['cached']\n",
      "2019-11-16 15:09:16 [scrapy.core.scraper] DEBUG: Scraped from <200 https://www.usedsurfboardshawaii.com/product/5ft-10in-tomo-v4-swallow-tail-ref-30305/>\n",
      "{'url': 'https://www.usedsurfboardshawaii.com/product/5ft-10in-tomo-v4-swallow-tail-ref-30305/', 'title': '5ft 10in Tomo (V4) Swallow Tail Ref# 30305', 'price': 299.0, 'description': 'Good condition shortboard with light deck pressures but otherwise minor signs of previous use.', 'type': '5-Fin (Future)', 'height': 'H 5’10”', 'width': 'W 18 3/4″', 'thickness': 'T 2 3/8″', 'condition': 'Good', 'manufacturer': 'Tomo'}\n",
      "2019-11-16 15:09:16 [scrapy.core.engine] DEBUG: Crawled (200) <GET https://www.usedsurfboardshawaii.com/product/5ft-10in-j-kashiwai-squash-tail-ref-30302/> (referer: https://www.usedsurfboardshawaii.com/page/3/?post_type=product) ['cached']\n",
      "2019-11-16 15:09:16 [scrapy.core.scraper] DEBUG: Scraped from <200 https://www.usedsurfboardshawaii.com/product/5ft-10in-firewire-almond-butter-squash-tail-ref-30334/>\n",
      "{'url': 'https://www.usedsurfboardshawaii.com/product/5ft-10in-firewire-almond-butter-squash-tail-ref-30334/', 'title': '5ft 10in Firewire (Almond Butter) Squash Tail Ref# 30334', 'price': 750.0, 'description': 'Like new condition shortboard with very minimal if any signs of previous use', 'type': '5-Fin (Future)', 'height': 'H 5’10”', 'width': 'W 20″', 'thickness': 'T 2 5/8″', 'condition': 'Like New', 'manufacturer': 'Firewire'}\n"
     ]
    },
    {
     "name": "stdout",
     "output_type": "stream",
     "text": [
      "Processing 7 out of 25\n",
      "Processing 8 out of 25\n"
     ]
    },
    {
     "name": "stderr",
     "output_type": "stream",
     "text": [
      "2019-11-16 15:09:16 [scrapy.core.engine] DEBUG: Crawled (200) <GET https://www.usedsurfboardshawaii.com/product/5ft-3in-tomo-evo-squash-tail-ref-30304/> (referer: https://www.usedsurfboardshawaii.com/page/3/?post_type=product) ['cached']\n",
      "2019-11-16 15:09:16 [scrapy.core.scraper] DEBUG: Scraped from <200 https://www.usedsurfboardshawaii.com/product/5ft-8in-northern-alliance-squash-tail-ref-30348/>\n",
      "{'url': 'https://www.usedsurfboardshawaii.com/product/5ft-8in-northern-alliance-squash-tail-ref-30348/', 'title': '5ft 8in Northern Alliance Squash Tail Ref# 30348', 'price': 399.0, 'description': 'Good condition shortboard with light deck pressures but otherwise minimal signs of previous use', 'type': 'Thruster (Future)', 'height': 'H 5’8″', 'width': 'W 18 1/4″', 'thickness': 'T 2 1/4″', 'condition': 'Good', 'manufacturer': 'Northern Alliance'}\n",
      "2019-11-16 15:09:16 [scrapy.core.engine] DEBUG: Crawled (200) <GET https://www.usedsurfboardshawaii.com/product/6ft-6in-tokoro-channels-squash-tail-ref-30313/> (referer: https://www.usedsurfboardshawaii.com/page/3/?post_type=product) ['cached']\n",
      "2019-11-16 15:09:16 [scrapy.core.scraper] DEBUG: Scraped from <200 https://www.usedsurfboardshawaii.com/product/5ft-10in-j-kashiwai-squash-tail-ref-30302/>\n",
      "{'url': 'https://www.usedsurfboardshawaii.com/product/5ft-10in-j-kashiwai-squash-tail-ref-30302/', 'title': '5ft 10in J. Kashiwai Squash Tail Ref# 30302', 'price': 245.0, 'description': 'Good condition shortboard with light deck pressures but otherwise minimal signs of previous use', 'type': 'Thruster (Future)', 'height': 'H 5’10”', 'width': 'W 19″', 'thickness': 'T 2.56″', 'condition': 'Good', 'manufacturer': 'J. Kashiwai'}\n"
     ]
    },
    {
     "name": "stdout",
     "output_type": "stream",
     "text": [
      "Processing 9 out of 25\n",
      "Processing 10 out of 25\n"
     ]
    },
    {
     "name": "stderr",
     "output_type": "stream",
     "text": [
      "2019-11-16 15:09:16 [scrapy.core.engine] DEBUG: Crawled (200) <GET https://www.usedsurfboardshawaii.com/product/7ft-3in-al-merrick-zeke-lau-round-pin-tail-ref-30250/> (referer: https://www.usedsurfboardshawaii.com/page/3/?post_type=product) ['cached']\n",
      "2019-11-16 15:09:16 [scrapy.core.scraper] DEBUG: Scraped from <200 https://www.usedsurfboardshawaii.com/product/5ft-3in-tomo-evo-squash-tail-ref-30304/>\n",
      "{'url': 'https://www.usedsurfboardshawaii.com/product/5ft-3in-tomo-evo-squash-tail-ref-30304/', 'title': '5ft 3in Tomo (Evo) Squash Tail Ref# 30304', 'price': 199.0, 'description': 'Fair condition shortboard with some deck pressures and a possible delamanation on the center of the deck', 'type': '5-Fin (Future)', 'height': 'H 5’3″', 'width': 'W 19″', 'thickness': 'T 2 3/8″', 'condition': 'Fair', 'manufacturer': 'Tomo'}\n",
      "2019-11-16 15:09:16 [scrapy.core.engine] DEBUG: Crawled (200) <GET https://www.usedsurfboardshawaii.com/product/7ft-al-merrick-semi-pro-round-pin-tail-ref-30251/> (referer: https://www.usedsurfboardshawaii.com/page/3/?post_type=product) ['cached']\n",
      "2019-11-16 15:09:16 [scrapy.core.scraper] DEBUG: Scraped from <200 https://www.usedsurfboardshawaii.com/product/6ft-6in-tokoro-channels-squash-tail-ref-30313/>\n",
      "{'url': 'https://www.usedsurfboardshawaii.com/product/6ft-6in-tokoro-channels-squash-tail-ref-30313/', 'title': '6ft 6in Tokoro (Channels) Squash Tail Ref# 30313', 'price': 585.0, 'description': 'Excellent condition Short board with minimal signs of previous use', 'type': 'Single Fin', 'height': 'H 6’6″', 'width': 'W 19 3/4″', 'thickness': 'T 2 5/8″', 'condition': 'Excellent, Good', 'manufacturer': 'Tokoro'}\n"
     ]
    },
    {
     "name": "stdout",
     "output_type": "stream",
     "text": [
      "Processing 11 out of 25\n",
      "Processing 12 out of 25\n"
     ]
    },
    {
     "name": "stderr",
     "output_type": "stream",
     "text": [
      "2019-11-16 15:09:17 [scrapy.core.engine] DEBUG: Crawled (200) <GET https://www.usedsurfboardshawaii.com/product/10ft-christenson-pin-tail-ref-30225/> (referer: https://www.usedsurfboardshawaii.com/page/3/?post_type=product) ['cached']\n",
      "2019-11-16 15:09:17 [scrapy.core.scraper] DEBUG: Scraped from <200 https://www.usedsurfboardshawaii.com/product/7ft-3in-al-merrick-zeke-lau-round-pin-tail-ref-30250/>\n",
      "{'url': 'https://www.usedsurfboardshawaii.com/product/7ft-3in-al-merrick-zeke-lau-round-pin-tail-ref-30250/', 'title': '7ft 3in Al Merrick (Zeke Lau) Round Pin Tail Ref# 30250', 'price': 595.0, 'description': 'Good condition step up, surfed previously by pro surfer Zeke Lau, with some light deck pressures but otherwise minimal signs of previous use', 'type': 'Thruster (Glassed On)', 'height': 'H 7’3″', 'width': 'W 18 7/8″', 'thickness': 'T 2 3/8″', 'condition': 'Good', 'manufacturer': 'Al Merrick'}\n",
      "2019-11-16 15:09:17 [scrapy.core.engine] DEBUG: Crawled (200) <GET https://www.usedsurfboardshawaii.com/product/5ft-9in-northern-alliance-squash-tail-ref-30197/> (referer: https://www.usedsurfboardshawaii.com/page/3/?post_type=product) ['cached']\n",
      "2019-11-16 15:09:17 [scrapy.core.scraper] DEBUG: Scraped from <200 https://www.usedsurfboardshawaii.com/product/7ft-al-merrick-semi-pro-round-pin-tail-ref-30251/>\n",
      "{'url': 'https://www.usedsurfboardshawaii.com/product/7ft-al-merrick-semi-pro-round-pin-tail-ref-30251/', 'title': '7ft Al Merrick (Semi-Pro) Round Pin Tail Ref# 30251', 'price': 595.0, 'description': 'Good condition step-up with light deck pressures but otherwise minimal signs of previous use.', 'type': 'Thruster (FCS2)', 'height': 'H 7’0″', 'width': 'W 19″', 'thickness': 'T 2 1/2″', 'condition': 'Good', 'manufacturer': 'Al Merrick'}\n"
     ]
    },
    {
     "name": "stdout",
     "output_type": "stream",
     "text": [
      "Processing 13 out of 25\n",
      "Processing 14 out of 25\n"
     ]
    },
    {
     "name": "stderr",
     "output_type": "stream",
     "text": [
      "2019-11-16 15:09:17 [scrapy.core.engine] DEBUG: Crawled (200) <GET https://www.usedsurfboardshawaii.com/product/5ft-11in-libtech-puddlejumper-squash-tail-ref-30190/> (referer: https://www.usedsurfboardshawaii.com/page/3/?post_type=product) ['cached']\n",
      "2019-11-16 15:09:17 [scrapy.core.scraper] DEBUG: Scraped from <200 https://www.usedsurfboardshawaii.com/product/10ft-christenson-pin-tail-ref-30225/>\n",
      "{'url': 'https://www.usedsurfboardshawaii.com/product/10ft-christenson-pin-tail-ref-30225/', 'title': '10ft Christenson Pin Tail Ref# 30225', 'price': 999.0, 'description': 'Good condition big wave Glider with light deck pressures but otherwise minimal signs of previous use', 'type': 'Single Fin', 'height': 'H 10′', 'width': 'W 22 2/3″', 'thickness': 'T 3″', 'condition': 'Good', 'manufacturer': 'Christenson'}\n",
      "2019-11-16 15:09:17 [scrapy.core.engine] DEBUG: Crawled (200) <GET https://www.usedsurfboardshawaii.com/product/10ft-9in-carlson-round-pin-tail-ref-30195/> (referer: https://www.usedsurfboardshawaii.com/page/3/?post_type=product) ['cached']\n",
      "2019-11-16 15:09:17 [scrapy.core.scraper] DEBUG: Scraped from <200 https://www.usedsurfboardshawaii.com/product/5ft-9in-northern-alliance-squash-tail-ref-30197/>\n",
      "{'url': 'https://www.usedsurfboardshawaii.com/product/5ft-9in-northern-alliance-squash-tail-ref-30197/', 'title': '5ft 9in Northern Alliance Squash Tail Ref# 30197', 'price': 199.0, 'description': 'Fair condition shortboard with a good amount of pressure dents but otherwise minor signs of previous use', 'type': 'Thruster (Future)', 'height': 'H 5’9″', 'width': 'W 18 3/8″', 'thickness': 'T 2.31″', 'condition': 'Fair', 'manufacturer': 'Northern Alliance'}\n"
     ]
    },
    {
     "name": "stdout",
     "output_type": "stream",
     "text": [
      "Processing 15 out of 25\n",
      "Processing 16 out of 25\n"
     ]
    },
    {
     "name": "stderr",
     "output_type": "stream",
     "text": [
      "2019-11-16 15:09:17 [scrapy.core.engine] DEBUG: Crawled (200) <GET https://www.usedsurfboardshawaii.com/product/7ft-3in-ajw-pin-tail-ref-30211/> (referer: https://www.usedsurfboardshawaii.com/page/3/?post_type=product) ['cached']\n",
      "2019-11-16 15:09:17 [scrapy.core.scraper] DEBUG: Scraped from <200 https://www.usedsurfboardshawaii.com/product/5ft-11in-libtech-puddlejumper-squash-tail-ref-30190/>\n",
      "{'url': 'https://www.usedsurfboardshawaii.com/product/5ft-11in-libtech-puddlejumper-squash-tail-ref-30190/', 'title': '5ft 11in Libtech (PuddleJumper) Squash Tail Ref# 30190', 'price': 599.0, 'description': 'Good condition big guy board with minimal signs of previous use', 'type': '5-fin (FCS/Libtech)', 'height': 'H 5’11”', 'width': 'W 22″', 'thickness': 'T 2 3/4″', 'condition': 'Good', 'manufacturer': 'Lib Tech'}\n",
      "2019-11-16 15:09:17 [scrapy.core.engine] DEBUG: Crawled (200) <GET https://www.usedsurfboardshawaii.com/product/9ft-2in-christenson-squash-tail-ref-30226/> (referer: https://www.usedsurfboardshawaii.com/page/3/?post_type=product) ['cached']\n",
      "2019-11-16 15:09:17 [scrapy.core.scraper] DEBUG: Scraped from <200 https://www.usedsurfboardshawaii.com/product/10ft-9in-carlson-round-pin-tail-ref-30195/>\n",
      "{'url': 'https://www.usedsurfboardshawaii.com/product/10ft-9in-carlson-round-pin-tail-ref-30195/', 'title': '10ft 9in Carlson Round Pin Tail Ref# 30195', 'price': 599.0, 'description': 'Good condition fun gun with light deck pressures but otherwise minimal signs of previous use', 'type': 'Single Fin (Glassed in)', 'height': 'H 10’9″', 'width': 'W 23″', 'thickness': 'T 3 3/8″', 'condition': 'Good', 'manufacturer': 'Carlson'}\n"
     ]
    },
    {
     "name": "stdout",
     "output_type": "stream",
     "text": [
      "Processing 17 out of 25\n",
      "Processing 18 out of 25\n"
     ]
    },
    {
     "name": "stderr",
     "output_type": "stream",
     "text": [
      "2019-11-16 15:09:17 [scrapy.core.engine] DEBUG: Crawled (200) <GET https://www.usedsurfboardshawaii.com/product/6ft-6in-lost-round-up-round-tail-ref-30217/> (referer: https://www.usedsurfboardshawaii.com/page/3/?post_type=product) ['cached']\n",
      "2019-11-16 15:09:18 [scrapy.core.scraper] DEBUG: Scraped from <200 https://www.usedsurfboardshawaii.com/product/7ft-3in-ajw-pin-tail-ref-30211/>\n",
      "{'url': 'https://www.usedsurfboardshawaii.com/product/7ft-3in-ajw-pin-tail-ref-30211/', 'title': '7ft 3in AJW Pin Tail Ref# 30211', 'price': 535.0, 'description': 'Good condition Gun with light deck pressures but otherwise minimal signs of previous use', 'type': 'Thrster (Future)', 'height': 'H 7’3″', 'width': 'W 18 1/4″', 'thickness': 'T 2 7/8″', 'condition': 'Good', 'manufacturer': 'AJW'}\n",
      "2019-11-16 15:09:18 [scrapy.core.engine] DEBUG: Crawled (200) <GET https://www.usedsurfboardshawaii.com/product/7ft-4in-pyzel-padillac-pin-tail-ref-30215/> (referer: https://www.usedsurfboardshawaii.com/page/3/?post_type=product) ['cached']\n",
      "2019-11-16 15:09:18 [scrapy.core.scraper] DEBUG: Scraped from <200 https://www.usedsurfboardshawaii.com/product/9ft-2in-christenson-squash-tail-ref-30226/>\n",
      "{'url': 'https://www.usedsurfboardshawaii.com/product/9ft-2in-christenson-squash-tail-ref-30226/', 'title': '9ft 2in Christenson Squash Tail Ref# 30226', 'price': 550.0, 'description': 'Good condition longboard with light deck pressures but otherwise minimal signs of previous use', 'type': '2+1 (FCS)', 'height': 'H 9’2″', 'width': 'W 22 1/2″', 'thickness': 'T 2 7/8″', 'condition': 'Good', 'manufacturer': 'Christenson'}\n"
     ]
    },
    {
     "name": "stdout",
     "output_type": "stream",
     "text": [
      "Processing 19 out of 25\n",
      "Processing 20 out of 25\n"
     ]
    },
    {
     "name": "stderr",
     "output_type": "stream",
     "text": [
      "2019-11-16 15:09:18 [scrapy.core.engine] DEBUG: Crawled (200) <GET https://www.usedsurfboardshawaii.com/product/6ft-2in-seabird-swallow-tail-ref-30116/> (referer: https://www.usedsurfboardshawaii.com/page/3/?post_type=product) ['cached']\n",
      "2019-11-16 15:09:18 [scrapy.core.scraper] DEBUG: Scraped from <200 https://www.usedsurfboardshawaii.com/product/6ft-6in-lost-round-up-round-tail-ref-30217/>\n",
      "{'url': 'https://www.usedsurfboardshawaii.com/product/6ft-6in-lost-round-up-round-tail-ref-30217/', 'title': '6ft 6in Lost (Round Up) Round Tail Ref# 30217', 'price': 299.0, 'description': 'Good condition shortboard with light deck pressures but otherwise minor signs of previous use', 'type': '5-Fin (Future)', 'height': 'H 6’6″', 'width': 'W 20″', 'thickness': 'T 2 1/2″', 'condition': 'Good', 'manufacturer': 'Lost'}\n",
      "2019-11-16 15:09:18 [scrapy.core.engine] DEBUG: Crawled (200) <GET https://www.usedsurfboardshawaii.com/product/5ft-10in-tomo-hydronaut-ref-30223/> (referer: https://www.usedsurfboardshawaii.com/page/3/?post_type=product) ['cached']\n",
      "2019-11-16 15:09:18 [scrapy.core.scraper] DEBUG: Scraped from <200 https://www.usedsurfboardshawaii.com/product/7ft-4in-pyzel-padillac-pin-tail-ref-30215/>\n",
      "{'url': 'https://www.usedsurfboardshawaii.com/product/7ft-4in-pyzel-padillac-pin-tail-ref-30215/', 'title': '7ft 4in Pyzel (Padillac) Pin Tail Ref# 30215', 'price': 680.0, 'description': 'Good condition Gun with light deck pressures but otherwise minimal signs of previous use.', 'type': 'Quad (Future)', 'height': 'H 7’4″', 'width': 'W 20 1/4″', 'thickness': 'T 2 3/4″', 'condition': 'Good', 'manufacturer': 'Pyzel'}\n"
     ]
    },
    {
     "name": "stdout",
     "output_type": "stream",
     "text": [
      "Processing 21 out of 25\n",
      "Processing 22 out of 25\n"
     ]
    },
    {
     "name": "stderr",
     "output_type": "stream",
     "text": [
      "2019-11-16 15:09:18 [scrapy.core.engine] DEBUG: Crawled (200) <GET https://www.usedsurfboardshawaii.com/product/5ft-7in-tomo-skx-squaash-tail-ref-30222/> (referer: https://www.usedsurfboardshawaii.com/page/3/?post_type=product) ['cached']\n",
      "2019-11-16 15:09:18 [scrapy.core.scraper] DEBUG: Scraped from <200 https://www.usedsurfboardshawaii.com/product/6ft-2in-seabird-swallow-tail-ref-30116/>\n",
      "{'url': 'https://www.usedsurfboardshawaii.com/product/6ft-2in-seabird-swallow-tail-ref-30116/', 'title': '6ft 2in Seabird Swallow Tail Ref# 30116', 'price': 275.0, 'description': 'Good condition shortboard with light pressure dents and a few previous professional repairs but otherwise minimal signs of previous use', 'type': '5-Fin (FCS)', 'height': 'H 6’2″', 'width': 'W 19 1/2″', 'thickness': 'T 2 3/4″', 'condition': 'Good', 'manufacturer': 'Seabird'}\n",
      "2019-11-16 15:09:18 [scrapy.core.engine] DEBUG: Crawled (200) <GET https://www.usedsurfboardshawaii.com/product/6ft-3in-schaper-thumb-tail-ref-30205/> (referer: https://www.usedsurfboardshawaii.com/page/3/?post_type=product) ['cached']\n",
      "2019-11-16 15:09:18 [scrapy.core.scraper] DEBUG: Scraped from <200 https://www.usedsurfboardshawaii.com/product/5ft-10in-tomo-hydronaut-ref-30223/>\n",
      "{'url': 'https://www.usedsurfboardshawaii.com/product/5ft-10in-tomo-hydronaut-ref-30223/', 'title': '5ft 10in Tomo (Hydronaut) Ref# 30223', 'price': 699.0, 'description': 'Volume: 27.5 L', 'type': '5-Fin (FCS 2)', 'height': 'H 5′ 10″', 'width': 'W 18 11/16″', 'thickness': 'T\\xa0 2 1/4″', 'condition': 'Good', 'manufacturer': 'Firewire, Tomo'}\n"
     ]
    },
    {
     "name": "stdout",
     "output_type": "stream",
     "text": [
      "Processing 23 out of 25\n",
      "Processing 24 out of 25\n"
     ]
    },
    {
     "name": "stderr",
     "output_type": "stream",
     "text": [
      "2019-11-16 15:09:18 [scrapy.core.engine] DEBUG: Crawled (200) <GET https://www.usedsurfboardshawaii.com/product/5ft-1in-schaper-deuce-swallow-tail-ref-30184/> (referer: https://www.usedsurfboardshawaii.com/page/3/?post_type=product) ['cached']\n",
      "2019-11-16 15:09:18 [scrapy.core.scraper] DEBUG: Scraped from <200 https://www.usedsurfboardshawaii.com/product/5ft-7in-tomo-skx-squaash-tail-ref-30222/>\n",
      "{'url': 'https://www.usedsurfboardshawaii.com/product/5ft-7in-tomo-skx-squaash-tail-ref-30222/', 'title': '5ft 7in Tomo (SKX) Squaash Tail Ref# 30222', 'price': 499.0, 'description': 'Excellent condition shortboard with minimal signs of previous use', 'type': '5-Fin (Future)', 'height': 'H 5’7″', 'width': 'W 18 3/8″', 'thickness': 'T 2 1/4″', 'condition': 'Excellent, Good', 'manufacturer': 'Tomo'}\n",
      "2019-11-16 15:09:19 [scrapy.core.engine] DEBUG: Crawled (200) <GET https://www.usedsurfboardshawaii.com/product/8ft-10in-greg-noll-mini-gun-pin-tail-ref-30184/> (referer: https://www.usedsurfboardshawaii.com/page/3/?post_type=product) ['cached']\n",
      "2019-11-16 15:09:19 [scrapy.core.scraper] DEBUG: Scraped from <200 https://www.usedsurfboardshawaii.com/product/6ft-3in-schaper-thumb-tail-ref-30205/>\n",
      "{'url': 'https://www.usedsurfboardshawaii.com/product/6ft-3in-schaper-thumb-tail-ref-30205/', 'title': '6ft 3in Schaper Thumb Tail Ref# 30205', 'price': 385.0, 'description': 'Good condition shortboard with light pressure denting but otherwise minimal signs of previous use', 'type': 'Thruster (FCS)', 'height': 'H 6’3″', 'width': 'W 19 1/2″', 'thickness': 'T 2 3/8″', 'condition': 'Good', 'manufacturer': 'Schaper'}\n",
      "2019-11-16 15:09:19 [scrapy.core.engine] DEBUG: Crawled (200) <GET https://www.usedsurfboardshawaii.com/page/4/?post_type=product> (referer: https://www.usedsurfboardshawaii.com/page/3/?post_type=product) ['cached']\n",
      "2019-11-16 15:09:19 [scrapy.core.scraper] DEBUG: Scraped from <200 https://www.usedsurfboardshawaii.com/product/5ft-1in-schaper-deuce-swallow-tail-ref-30184/>\n",
      "{'url': 'https://www.usedsurfboardshawaii.com/product/5ft-1in-schaper-deuce-swallow-tail-ref-30184/', 'title': '5ft 1in Schaper (Deuce) Swallow Tail Ref# 30184', 'price': 335.0, 'description': 'Good condition fish with light deck pressures but otherwise minimal signs of previous use', 'type': 'Twin (Future)', 'height': 'H 5’1″', 'width': 'W 19 3/4″', 'thickness': 'T 2 1/4″', 'condition': 'Good', 'manufacturer': 'Schaper'}\n"
     ]
    },
    {
     "name": "stdout",
     "output_type": "stream",
     "text": [
      "Processing 25 out of 25\n",
      "\n",
      "https://www.usedsurfboardshawaii.com/page/4/?post_type=product\n"
     ]
    },
    {
     "name": "stderr",
     "output_type": "stream",
     "text": [
      "2019-11-16 15:09:19 [scrapy.core.scraper] DEBUG: Scraped from <200 https://www.usedsurfboardshawaii.com/product/8ft-10in-greg-noll-mini-gun-pin-tail-ref-30184/>\n",
      "{'url': 'https://www.usedsurfboardshawaii.com/product/8ft-10in-greg-noll-mini-gun-pin-tail-ref-30184/', 'title': '8ft 10in Greg Noll (Mini Gun) Pin Tail Ref# 30184', 'price': 875.0, 'description': None, 'type': 'Single Fin (Fin included)', 'height': 'H 8’10”', 'width': 'W 23″', 'thickness': 'T 3 1/2″', 'condition': 'Good', 'manufacturer': 'Greg Noll'}\n",
      "2019-11-16 15:09:19 [scrapy.core.engine] DEBUG: Crawled (200) <GET https://www.usedsurfboardshawaii.com/product/5ft-9-5in-pang-squash-tail-ref-30187/> (referer: https://www.usedsurfboardshawaii.com/page/4/?post_type=product) ['cached']\n"
     ]
    },
    {
     "name": "stdout",
     "output_type": "stream",
     "text": [
      "Total:  25\n",
      "Processing 1 out of 25\n",
      "Processing 2 out of 25\n"
     ]
    },
    {
     "name": "stderr",
     "output_type": "stream",
     "text": [
      "2019-11-16 15:09:19 [scrapy.core.engine] DEBUG: Crawled (200) <GET https://www.usedsurfboardshawaii.com/product/5ft-9-5in-pang-squash-tail-ref-30189/> (referer: https://www.usedsurfboardshawaii.com/page/4/?post_type=product) ['cached']\n",
      "2019-11-16 15:09:19 [scrapy.core.engine] DEBUG: Crawled (200) <GET https://www.usedsurfboardshawaii.com/product/5ft-9-5in-pang-squash-tail-ref-30188/> (referer: https://www.usedsurfboardshawaii.com/page/4/?post_type=product) ['cached']\n",
      "2019-11-16 15:09:19 [scrapy.core.scraper] DEBUG: Scraped from <200 https://www.usedsurfboardshawaii.com/product/5ft-9-5in-pang-squash-tail-ref-30187/>\n",
      "{'url': 'https://www.usedsurfboardshawaii.com/product/5ft-9-5in-pang-squash-tail-ref-30187/', 'title': '5ft 9.5in Pang Squash Tail Ref# 30187', 'price': 450.0, 'description': 'Good condition shortboard with light deck pressures but otherwise minimal signs of previous use.', 'type': 'Thruster (FCS2)', 'height': 'H 5’9.5″', 'width': 'W 18 3/8″', 'thickness': 'T 2 3/8″', 'condition': 'Good', 'manufacturer': 'Pang'}\n"
     ]
    },
    {
     "name": "stdout",
     "output_type": "stream",
     "text": [
      "Processing 3 out of 25\n",
      "Processing 4 out of 25\n"
     ]
    },
    {
     "name": "stderr",
     "output_type": "stream",
     "text": [
      "2019-11-16 15:09:19 [scrapy.core.engine] DEBUG: Crawled (200) <GET https://www.usedsurfboardshawaii.com/product/5ft-8in-tokoro-x1-squash-tail-ref-28399/> (referer: https://www.usedsurfboardshawaii.com/page/4/?post_type=product) ['cached']\n",
      "2019-11-16 15:09:19 [scrapy.core.scraper] DEBUG: Scraped from <200 https://www.usedsurfboardshawaii.com/product/5ft-9-5in-pang-squash-tail-ref-30189/>\n",
      "{'url': 'https://www.usedsurfboardshawaii.com/product/5ft-9-5in-pang-squash-tail-ref-30189/', 'title': '5ft 9.5in Pang Squash Tail Ref# 30189', 'price': 450.0, 'description': 'Good condition shortboard with light deck pressures but otherwise minimal signs of previous use', 'type': 'Thruster (FCS2)', 'height': 'H 5’9 1/2″', 'width': 'W 18 3/8″', 'thickness': 'T 2 3/8″', 'condition': 'Good', 'manufacturer': 'Pang'}\n",
      "2019-11-16 15:09:19 [scrapy.core.engine] DEBUG: Crawled (200) <GET https://www.usedsurfboardshawaii.com/product/7ft-dennis-pang-diamond-tail-ref-30186/> (referer: https://www.usedsurfboardshawaii.com/page/4/?post_type=product) ['cached']\n",
      "2019-11-16 15:09:19 [scrapy.core.scraper] DEBUG: Scraped from <200 https://www.usedsurfboardshawaii.com/product/5ft-9-5in-pang-squash-tail-ref-30188/>\n",
      "{'url': 'https://www.usedsurfboardshawaii.com/product/5ft-9-5in-pang-squash-tail-ref-30188/', 'title': '5ft 9.5in Pang Squash Tail Ref# 30188', 'price': 450.0, 'description': 'Good condition shortboard with light deck pressures but otherwise minimal signs of previous use', 'type': 'Thruster (FCS2)', 'height': 'H 5’9 1/2″', 'width': 'W 18 3/8″', 'thickness': 'T 2 3/8″', 'condition': 'Good', 'manufacturer': 'Pang'}\n"
     ]
    },
    {
     "name": "stdout",
     "output_type": "stream",
     "text": [
      "Processing 5 out of 25\n",
      "Processing 6 out of 25\n"
     ]
    },
    {
     "name": "stderr",
     "output_type": "stream",
     "text": [
      "2019-11-16 15:09:20 [scrapy.core.engine] DEBUG: Crawled (200) <GET https://www.usedsurfboardshawaii.com/product/7ft-3in-dick-brewer-pin-tail-ref-30185/> (referer: https://www.usedsurfboardshawaii.com/page/4/?post_type=product) ['cached']\n",
      "2019-11-16 15:09:20 [scrapy.core.scraper] DEBUG: Scraped from <200 https://www.usedsurfboardshawaii.com/product/5ft-8in-tokoro-x1-squash-tail-ref-28399/>\n",
      "{'url': 'https://www.usedsurfboardshawaii.com/product/5ft-8in-tokoro-x1-squash-tail-ref-28399/', 'title': '5ft 8in Tokoro (X1) Squash Tail Ref# 28399', 'price': 535.0, 'description': 'Good condition short board with light deck pressures and a minor nose ding that will need to be repaired to be water tight', 'type': 'Thruster (FCS2)', 'height': 'H 5’8″', 'width': 'W 20 1/2″', 'thickness': 'T 2 3/4″', 'condition': 'Good', 'manufacturer': 'Tokoro'}\n",
      "2019-11-16 15:09:20 [scrapy.core.engine] DEBUG: Crawled (200) <GET https://www.usedsurfboardshawaii.com/product/5ft-10in-local-motion-squash-tail-ref-30160/> (referer: https://www.usedsurfboardshawaii.com/page/4/?post_type=product) ['cached']\n",
      "2019-11-16 15:09:20 [scrapy.core.scraper] DEBUG: Scraped from <200 https://www.usedsurfboardshawaii.com/product/7ft-dennis-pang-diamond-tail-ref-30186/>\n",
      "{'url': 'https://www.usedsurfboardshawaii.com/product/7ft-dennis-pang-diamond-tail-ref-30186/', 'title': '7ft Dennis Pang Diamond Tail Ref# 30186', 'price': 599.0, 'description': 'Good condition fun gun with light deck pressures but otherwise minimal signs of previous use', 'type': '5-Fin (Future)', 'height': 'H 7’0″', 'width': 'W 20″', 'thickness': 'T 2 3/4″', 'condition': 'Good', 'manufacturer': 'D.Pang, Dennis Pang, Pang'}\n"
     ]
    },
    {
     "name": "stdout",
     "output_type": "stream",
     "text": [
      "Processing 7 out of 25\n",
      "Processing 8 out of 25\n"
     ]
    },
    {
     "name": "stderr",
     "output_type": "stream",
     "text": [
      "2019-11-16 15:09:20 [scrapy.core.engine] DEBUG: Crawled (200) <GET https://www.usedsurfboardshawaii.com/product/7ft-2in-minami-surftech-round-pin-tail-ref-30137/> (referer: https://www.usedsurfboardshawaii.com/page/4/?post_type=product) ['cached']\n",
      "2019-11-16 15:09:20 [scrapy.core.scraper] DEBUG: Scraped from <200 https://www.usedsurfboardshawaii.com/product/7ft-3in-dick-brewer-pin-tail-ref-30185/>\n",
      "{'url': 'https://www.usedsurfboardshawaii.com/product/7ft-3in-dick-brewer-pin-tail-ref-30185/', 'title': '7ft 3in Dick Brewer Pin Tail Ref# 30185', 'price': 350.0, 'description': 'Fair condition classic board with various signs of age and previous use, as is to be expected from a board this old', 'type': 'Thruster (Glassed In)', 'height': 'H 7’3″', 'width': 'W 20″', 'thickness': 'T 2 7/8″', 'condition': 'Fair', 'manufacturer': 'Dick Brewer'}\n",
      "2019-11-16 15:09:20 [scrapy.core.engine] DEBUG: Crawled (200) <GET https://www.usedsurfboardshawaii.com/product/6ft-8in-minami-round-pin-tail-ref-30138/> (referer: https://www.usedsurfboardshawaii.com/page/4/?post_type=product) ['cached']\n",
      "2019-11-16 15:09:20 [scrapy.core.scraper] DEBUG: Scraped from <200 https://www.usedsurfboardshawaii.com/product/5ft-10in-local-motion-squash-tail-ref-30160/>\n",
      "{'url': 'https://www.usedsurfboardshawaii.com/product/5ft-10in-local-motion-squash-tail-ref-30160/', 'title': '5ft 10in Local Motion Squash Tail Ref# 30160', 'price': 299.0, 'description': 'Fair condition shortboard with various deck pressures but otherwise minimal signs of previous use', 'type': 'Thruster (Future)', 'height': 'H 5’10”', 'width': 'W 18 3/8″', 'thickness': 'T 2 3/8″', 'condition': 'Fair', 'manufacturer': 'Local Motion'}\n"
     ]
    },
    {
     "name": "stdout",
     "output_type": "stream",
     "text": [
      "Processing 9 out of 25\n",
      "Processing 10 out of 25\n"
     ]
    },
    {
     "name": "stderr",
     "output_type": "stream",
     "text": [
      "2019-11-16 15:09:20 [scrapy.core.engine] DEBUG: Crawled (200) <GET https://www.usedsurfboardshawaii.com/product/5ft-4in-slater-designs-no-brainer-swallow-tail-ref-30149/> (referer: https://www.usedsurfboardshawaii.com/page/4/?post_type=product) ['cached']\n",
      "2019-11-16 15:09:20 [scrapy.core.scraper] DEBUG: Scraped from <200 https://www.usedsurfboardshawaii.com/product/7ft-2in-minami-surftech-round-pin-tail-ref-30137/>\n",
      "{'url': 'https://www.usedsurfboardshawaii.com/product/7ft-2in-minami-surftech-round-pin-tail-ref-30137/', 'title': '7ft 2in Minami (Surftech) Round Pin Tail Ref# 30137', 'price': 299.0, 'description': 'Good condition step up with light deck pressures but otherwise minimal signs of previous use', 'type': 'Thruster (FCS)', 'height': 'H 7’2″', 'width': 'W 18 11/16″', 'thickness': 'T 2 3/4″', 'condition': 'Good', 'manufacturer': 'Minami, Surftech'}\n",
      "2019-11-16 15:09:20 [scrapy.core.engine] DEBUG: Crawled (200) <GET https://www.usedsurfboardshawaii.com/product/5ft-4in-pang-round-pin-tail-ref-30129/> (referer: https://www.usedsurfboardshawaii.com/page/4/?post_type=product) ['cached']\n",
      "2019-11-16 15:09:20 [scrapy.core.scraper] DEBUG: Scraped from <200 https://www.usedsurfboardshawaii.com/product/6ft-8in-minami-round-pin-tail-ref-30138/>\n",
      "{'url': 'https://www.usedsurfboardshawaii.com/product/6ft-8in-minami-round-pin-tail-ref-30138/', 'title': '6ft 8in Minami Round Pin Tail Ref# 30138', 'price': 399.0, 'description': 'Good condition step up with light deck pressures but otherwise minimal signs of previous use', 'type': 'Thruster (FCS)', 'height': 'H 6’8″', 'width': 'W 19 3/4″', 'thickness': 'T 3 1/16″', 'condition': 'Good', 'manufacturer': 'Minami'}\n"
     ]
    },
    {
     "name": "stdout",
     "output_type": "stream",
     "text": [
      "Processing 11 out of 25\n",
      "Processing 12 out of 25\n"
     ]
    },
    {
     "name": "stderr",
     "output_type": "stream",
     "text": [
      "2019-11-16 15:09:20 [scrapy.core.engine] DEBUG: Crawled (200) <GET https://www.usedsurfboardshawaii.com/product/5ft-10in-slingshot-skywalker-swallow-tail-ref-30194/> (referer: https://www.usedsurfboardshawaii.com/page/4/?post_type=product) ['cached']\n",
      "2019-11-16 15:09:20 [scrapy.core.scraper] DEBUG: Scraped from <200 https://www.usedsurfboardshawaii.com/product/5ft-4in-slater-designs-no-brainer-swallow-tail-ref-30149/>\n",
      "{'url': 'https://www.usedsurfboardshawaii.com/product/5ft-4in-slater-designs-no-brainer-swallow-tail-ref-30149/', 'title': '5ft 4in Slater Designs (No Brainer) Swallow Tail Ref# 30149', 'price': 699.0, 'description': 'Excellent condition shortboard with minimal signs of previous use.', 'type': '5-Fin (FCS2)', 'height': 'H 5’4″', 'width': 'W 19 1/4″', 'thickness': 'T 2 1/4″', 'condition': 'Excellent, Good, Like New', 'manufacturer': 'Slater Designs'}\n",
      "2019-11-16 15:09:21 [scrapy.core.engine] DEBUG: Crawled (200) <GET https://www.usedsurfboardshawaii.com/product/5ft-10in-slingshot-sky-walker-swallow-tail-ref-29967/> (referer: https://www.usedsurfboardshawaii.com/page/4/?post_type=product) ['cached']\n",
      "2019-11-16 15:09:21 [scrapy.core.scraper] DEBUG: Scraped from <200 https://www.usedsurfboardshawaii.com/product/5ft-4in-pang-round-pin-tail-ref-30129/>\n",
      "{'url': 'https://www.usedsurfboardshawaii.com/product/5ft-4in-pang-round-pin-tail-ref-30129/', 'title': '5ft 4in Pang Round Pin Tail Ref# 30129', 'price': 325.0, 'description': 'Good condition grom board with light deck pressures but otherwise minor signs of previous use', 'type': 'Thruster (FCS2)', 'height': 'H 5’4″', 'width': 'W 15 3/8″', 'thickness': 'T 2″', 'condition': 'Good', 'manufacturer': 'Pang'}\n"
     ]
    },
    {
     "name": "stdout",
     "output_type": "stream",
     "text": [
      "Processing 13 out of 25\n",
      "Processing 14 out of 25\n"
     ]
    },
    {
     "name": "stderr",
     "output_type": "stream",
     "text": [
      "2019-11-16 15:09:21 [scrapy.core.engine] DEBUG: Crawled (200) <GET https://www.usedsurfboardshawaii.com/product/7ft-2in-arakawa-rp-round-pin-tail-ref-30131/> (referer: https://www.usedsurfboardshawaii.com/page/4/?post_type=product) ['cached']\n",
      "2019-11-16 15:09:21 [scrapy.core.engine] DEBUG: Crawled (200) <GET https://www.usedsurfboardshawaii.com/product/6ft-6in-eric-arakawa-rp-round-pin-tail-ref-30132/> (referer: https://www.usedsurfboardshawaii.com/page/4/?post_type=product) ['cached']\n"
     ]
    },
    {
     "name": "stdout",
     "output_type": "stream",
     "text": [
      "Processing 15 out of 25\n",
      "Processing 16 out of 25\n"
     ]
    },
    {
     "name": "stderr",
     "output_type": "stream",
     "text": [
      "2019-11-16 15:09:21 [scrapy.core.engine] DEBUG: Crawled (200) <GET https://www.usedsurfboardshawaii.com/product/6ft-8in-minami-round-pin-tail-ref-29977/> (referer: https://www.usedsurfboardshawaii.com/page/4/?post_type=product) ['cached']\n",
      "2019-11-16 15:09:21 [scrapy.core.scraper] DEBUG: Scraped from <200 https://www.usedsurfboardshawaii.com/product/7ft-2in-arakawa-rp-round-pin-tail-ref-30131/>\n",
      "{'url': 'https://www.usedsurfboardshawaii.com/product/7ft-2in-arakawa-rp-round-pin-tail-ref-30131/', 'title': '7ft 2in Arakawa (RP) Round Pin Tail Ref# 30131', 'price': 225.0, 'description': 'Fair condition step up with various light deck pressures and other minor signs of previous use', 'type': 'Thruster (FCS)', 'height': 'H 7’2″', 'width': 'W 18.38″', 'thickness': 'T 2.44″', 'condition': 'Fair', 'manufacturer': 'Arakawa, Eric Arakawa'}\n",
      "2019-11-16 15:09:21 [scrapy.core.engine] DEBUG: Crawled (200) <GET https://www.usedsurfboardshawaii.com/product/5ft-6in-morgan-dx3-round-tail-ref-30121/> (referer: https://www.usedsurfboardshawaii.com/page/4/?post_type=product) ['cached']\n",
      "2019-11-16 15:09:21 [scrapy.core.scraper] DEBUG: Scraped from <200 https://www.usedsurfboardshawaii.com/product/6ft-6in-eric-arakawa-rp-round-pin-tail-ref-30132/>\n",
      "{'url': 'https://www.usedsurfboardshawaii.com/product/6ft-6in-eric-arakawa-rp-round-pin-tail-ref-30132/', 'title': '6ft 6in Eric Arakawa (RP) Round Pin Tail Ref# 30132', 'price': 225.0, 'description': 'Fair condition step up with minor pressure dents on the deck but otherwise minor signs of previous use', 'type': 'Thruster (FCS)', 'height': 'H 6’6″', 'width': 'W 18 1/4″', 'thickness': 'T 2 1/4″', 'condition': 'Fair', 'manufacturer': 'Arakawa, Eric Arakawa'}\n"
     ]
    },
    {
     "name": "stdout",
     "output_type": "stream",
     "text": [
      "Processing 17 out of 25\n",
      "Processing 18 out of 25\n"
     ]
    },
    {
     "name": "stderr",
     "output_type": "stream",
     "text": [
      "2019-11-16 15:09:21 [scrapy.core.engine] DEBUG: Crawled (200) <GET https://www.usedsurfboardshawaii.com/product/5ft-9in-al-merrick-fever-squash-tail-ref-30120/> (referer: https://www.usedsurfboardshawaii.com/page/4/?post_type=product) ['cached']\n",
      "2019-11-16 15:09:21 [scrapy.core.scraper] DEBUG: Scraped from <200 https://www.usedsurfboardshawaii.com/product/6ft-8in-minami-round-pin-tail-ref-29977/>\n",
      "{'url': 'https://www.usedsurfboardshawaii.com/product/6ft-8in-minami-round-pin-tail-ref-29977/', 'title': '6ft 8in Minami Round Pin Tail Ref# 29977', 'price': 350.0, 'description': 'Fair condition step-up with light deck pressuring and other minor signs of previous use', 'type': '5-Fin (Future)', 'height': 'H 6’8″', 'width': 'W 19 1/8″', 'thickness': 'T 2 11/16″', 'condition': 'Fair', 'manufacturer': 'Minami'}\n",
      "2019-11-16 15:09:21 [scrapy.core.engine] DEBUG: Crawled (200) <GET https://www.usedsurfboardshawaii.com/product/7ft-6in-tokoro-pin-tail-ref-30122/> (referer: https://www.usedsurfboardshawaii.com/page/4/?post_type=product) ['cached']\n",
      "2019-11-16 15:09:22 [scrapy.core.scraper] DEBUG: Scraped from <200 https://www.usedsurfboardshawaii.com/product/5ft-6in-morgan-dx3-round-tail-ref-30121/>\n",
      "{'url': 'https://www.usedsurfboardshawaii.com/product/5ft-6in-morgan-dx3-round-tail-ref-30121/', 'title': '5ft 6in Morgan (DX3) Round Tail Ref# 30121', 'price': 475.0, 'description': 'Good condition hybrid shortboard with just some minor pressure denting. Read more about the DX3 shape here: https://www.hicsurfboards.com/morgan-dx3', 'type': '5-Fin (Future)', 'height': 'H 5′ 6″', 'width': 'W 19 1/2″', 'thickness': 'T 2.3″', 'condition': 'Good', 'manufacturer': 'Morgan, Steve Morgan'}\n"
     ]
    },
    {
     "name": "stdout",
     "output_type": "stream",
     "text": [
      "Processing 19 out of 25\n",
      "Processing 20 out of 25\n"
     ]
    },
    {
     "name": "stderr",
     "output_type": "stream",
     "text": [
      "2019-11-16 15:09:22 [scrapy.core.engine] DEBUG: Crawled (200) <GET https://www.usedsurfboardshawaii.com/product/5ft-10in-unknown-shaper-swallow-tail-ref-30104/> (referer: https://www.usedsurfboardshawaii.com/page/4/?post_type=product) ['cached']\n",
      "2019-11-16 15:09:22 [scrapy.core.scraper] DEBUG: Scraped from <200 https://www.usedsurfboardshawaii.com/product/5ft-9in-al-merrick-fever-squash-tail-ref-30120/>\n",
      "{'url': 'https://www.usedsurfboardshawaii.com/product/5ft-9in-al-merrick-fever-squash-tail-ref-30120/', 'title': '5ft 9in Al Merrick (Fever) Squash Tail Ref# 30120', 'price': 475.0, 'description': 'Good condition shortboard with a few heavy deck pressures but otherwise, minor signs of previous use', 'type': 'Thruster (FCS2)', 'height': 'H 5’9″', 'width': 'W 18 3/4″', 'thickness': 'T 2 1/4″', 'condition': 'Good', 'manufacturer': 'Al Merrick'}\n",
      "2019-11-16 15:09:22 [scrapy.core.engine] DEBUG: Crawled (200) <GET https://www.usedsurfboardshawaii.com/product/5ft-10in-bushman-squash-tail-ref-30105/> (referer: https://www.usedsurfboardshawaii.com/page/4/?post_type=product) ['cached']\n",
      "2019-11-16 15:09:22 [scrapy.core.scraper] DEBUG: Scraped from <200 https://www.usedsurfboardshawaii.com/product/7ft-6in-tokoro-pin-tail-ref-30122/>\n",
      "{'url': 'https://www.usedsurfboardshawaii.com/product/7ft-6in-tokoro-pin-tail-ref-30122/', 'title': '7ft 6in Tokoro Pin Tail Ref# 30122', 'price': 250.0, 'description': 'Good condition step up with light pressure denting on the deck but otherwise, minimal signs of previous use', 'type': 'Thruster (FCS)', 'height': 'H 7’6″', 'width': 'W 18 3/4″', 'thickness': 'T 2 1/2″', 'condition': 'Good', 'manufacturer': 'Tokoro'}\n"
     ]
    },
    {
     "name": "stdout",
     "output_type": "stream",
     "text": [
      "Processing 21 out of 25\n",
      "Processing 22 out of 25\n"
     ]
    },
    {
     "name": "stderr",
     "output_type": "stream",
     "text": [
      "2019-11-16 15:09:22 [scrapy.core.engine] DEBUG: Crawled (200) <GET https://www.usedsurfboardshawaii.com/product/5ft-8in-reid-varial-foam-squash-tail-ref-30102/> (referer: https://www.usedsurfboardshawaii.com/page/4/?post_type=product) ['cached']\n",
      "2019-11-16 15:09:22 [scrapy.core.scraper] DEBUG: Scraped from <200 https://www.usedsurfboardshawaii.com/product/5ft-10in-unknown-shaper-swallow-tail-ref-30104/>\n",
      "{'url': 'https://www.usedsurfboardshawaii.com/product/5ft-10in-unknown-shaper-swallow-tail-ref-30104/', 'title': '5ft 10in Unknown Shaper Swallow Tail Ref# 30104', 'price': 240.0, 'description': 'Fair condition fish with various pressure dents and quite a few previous repair but it\\xa0 is still surfable and we believe it is still water tight.', 'type': '5-Fin (Future)', 'height': 'H 5’10”', 'width': 'W 21 11/16″', 'thickness': 'T 2 3/4″', 'condition': 'Fair', 'manufacturer': 'Unknown'}\n",
      "2019-11-16 15:09:22 [scrapy.core.engine] DEBUG: Crawled (200) <GET https://www.usedsurfboardshawaii.com/product/8ft-11in-jimmy-lewis-squash-tail-ref-29620/> (referer: https://www.usedsurfboardshawaii.com/page/4/?post_type=product) ['cached']\n",
      "2019-11-16 15:09:22 [scrapy.core.scraper] DEBUG: Scraped from <200 https://www.usedsurfboardshawaii.com/product/5ft-10in-bushman-squash-tail-ref-30105/>\n",
      "{'url': 'https://www.usedsurfboardshawaii.com/product/5ft-10in-bushman-squash-tail-ref-30105/', 'title': '5ft 10in Bushman Squash Tail Ref# 30105', 'price': 350.0, 'description': 'Good condition shortboard with light pressure dents but otherwise minimal signs of previous use.', 'type': 'Thruster (Future)', 'height': 'H 5’10”', 'width': 'W 19 3/4″', 'thickness': 'T 2 1/2″', 'condition': 'Good', 'manufacturer': 'Bushman'}\n"
     ]
    },
    {
     "name": "stdout",
     "output_type": "stream",
     "text": [
      "Processing 23 out of 25\n",
      "Processing 24 out of 25\n"
     ]
    },
    {
     "name": "stderr",
     "output_type": "stream",
     "text": [
      "2019-11-16 15:09:22 [scrapy.core.engine] DEBUG: Crawled (200) <GET https://www.usedsurfboardshawaii.com/product/9ft-5in-jimmy-lewis-squash-tail-ref-29619/> (referer: https://www.usedsurfboardshawaii.com/page/4/?post_type=product) ['cached']\n",
      "2019-11-16 15:09:22 [scrapy.core.scraper] DEBUG: Scraped from <200 https://www.usedsurfboardshawaii.com/product/5ft-8in-reid-varial-foam-squash-tail-ref-30102/>\n",
      "{'url': 'https://www.usedsurfboardshawaii.com/product/5ft-8in-reid-varial-foam-squash-tail-ref-30102/', 'title': '5ft 8in Reid (Varial Foam) Squash tail Ref# 30102', 'price': 350.0, 'description': 'Fair condition shortboard with light deck pressures and 2 major home repairs, one deep gash on the bottom of the board and one on the rail\\xa0 (shown in photos) it appears to have no open dings.', 'type': 'Thruster (Future)', 'height': 'H 5’8″', 'width': 'W 18 7/8″', 'thickness': 'T 2 3/8″', 'condition': 'Fair', 'manufacturer': 'Reid'}\n",
      "2019-11-16 15:09:22 [scrapy.core.engine] DEBUG: Crawled (200) <GET https://www.usedsurfboardshawaii.com/product/8ft-6in-blue-planet-squash-tail-ref-30085/> (referer: https://www.usedsurfboardshawaii.com/page/4/?post_type=product) ['cached']\n",
      "2019-11-16 15:09:22 [scrapy.core.scraper] DEBUG: Scraped from <200 https://www.usedsurfboardshawaii.com/product/8ft-11in-jimmy-lewis-squash-tail-ref-29620/>\n",
      "{'url': 'https://www.usedsurfboardshawaii.com/product/8ft-11in-jimmy-lewis-squash-tail-ref-29620/', 'title': '8ft 11in Jimmy Lewis Squash Tail Ref# 29620', 'price': 550.0, 'description': 'Fair condition Sup with one open ding (shown in photo) and some minor paint scrapes but otherwise still a good cruiser SUP', 'type': '2+1 (Future)', 'height': 'H 8’11”', 'width': 'W 31″', 'thickness': 'T 3 3/4″', 'condition': 'Fair', 'manufacturer': 'Jimmy Lewis'}\n",
      "2019-11-16 15:09:22 [scrapy.core.engine] DEBUG: Crawled (200) <GET https://www.usedsurfboardshawaii.com/page/5/?post_type=product> (referer: https://www.usedsurfboardshawaii.com/page/4/?post_type=product) ['cached']\n"
     ]
    },
    {
     "name": "stdout",
     "output_type": "stream",
     "text": [
      "Processing 25 out of 25\n",
      "\n",
      "https://www.usedsurfboardshawaii.com/page/5/?post_type=product\n"
     ]
    },
    {
     "name": "stderr",
     "output_type": "stream",
     "text": [
      "2019-11-16 15:09:22 [scrapy.core.scraper] DEBUG: Scraped from <200 https://www.usedsurfboardshawaii.com/product/9ft-5in-jimmy-lewis-squash-tail-ref-29619/>\n",
      "{'url': 'https://www.usedsurfboardshawaii.com/product/9ft-5in-jimmy-lewis-squash-tail-ref-29619/', 'title': '9ft 5in Jimmy Lewis Squash Tail Ref# 29619', 'price': 550.0, 'description': 'Good condition Stand Up Paddle board with some paint scratches but otherwise minimal signs of previous use', 'type': '2+1 (Future)', 'height': 'H 9’5″', 'width': 'W 31″', 'thickness': 'T 3 3/4″', 'condition': 'Fair', 'manufacturer': 'Jimmy Lewis'}\n",
      "2019-11-16 15:09:23 [scrapy.core.scraper] DEBUG: Scraped from <200 https://www.usedsurfboardshawaii.com/product/8ft-6in-blue-planet-squash-tail-ref-30085/>\n",
      "{'url': 'https://www.usedsurfboardshawaii.com/product/8ft-6in-blue-planet-squash-tail-ref-30085/', 'title': '8ft 6in Blue Planet (Potato Chip) Squash Tail Ref# 30085', 'price': 850.0, 'description': 'Good condition Stand Up Paddle board with minimal signs of previous use.', 'type': '4+1 (Future)', 'height': 'H 8’6″', 'width': 'W 32″', 'thickness': 'T 3.75″', 'condition': 'Excellent, Good', 'manufacturer': 'Blue Planet'}\n",
      "2019-11-16 15:09:23 [scrapy.core.engine] DEBUG: Crawled (200) <GET https://www.usedsurfboardshawaii.com/product/7ft-3in-eric-arakawa-round-pin-tail-ref-30096/> (referer: https://www.usedsurfboardshawaii.com/page/5/?post_type=product) ['cached']\n"
     ]
    },
    {
     "name": "stdout",
     "output_type": "stream",
     "text": [
      "Total:  25\n",
      "Processing 1 out of 25\n",
      "Processing 2 out of 25\n"
     ]
    },
    {
     "name": "stderr",
     "output_type": "stream",
     "text": [
      "2019-11-16 15:09:23 [scrapy.core.engine] DEBUG: Crawled (200) <GET https://www.usedsurfboardshawaii.com/product/5ft-7in-meeks-swallow-tail-ref-30093/> (referer: https://www.usedsurfboardshawaii.com/page/5/?post_type=product) ['cached']\n",
      "2019-11-16 15:09:23 [scrapy.core.engine] DEBUG: Crawled (200) <GET https://www.usedsurfboardshawaii.com/product/7ft-2in-garduque-swallow-tail-ref-30088/> (referer: https://www.usedsurfboardshawaii.com/page/5/?post_type=product) ['cached']\n",
      "2019-11-16 15:09:23 [scrapy.core.scraper] DEBUG: Scraped from <200 https://www.usedsurfboardshawaii.com/product/7ft-3in-eric-arakawa-round-pin-tail-ref-30096/>\n",
      "{'url': 'https://www.usedsurfboardshawaii.com/product/7ft-3in-eric-arakawa-round-pin-tail-ref-30096/', 'title': '7ft 3in Eric Arakawa (Mr. 200) Round Pin Tail Ref# 30096', 'price': 270.0, 'description': 'Fair condition\\xa0 step up with some deck pressures and yellowing from age and previous use but otherwise good condition', 'type': 'Thruster (FCS2)', 'height': 'H 7’3″', 'width': 'W 19.3″', 'thickness': 'T 2.7″', 'condition': 'Fair', 'manufacturer': 'Arakawa, Eric Arakawa'}\n"
     ]
    },
    {
     "name": "stdout",
     "output_type": "stream",
     "text": [
      "Processing 3 out of 25\n",
      "Processing 4 out of 25\n"
     ]
    },
    {
     "name": "stderr",
     "output_type": "stream",
     "text": [
      "2019-11-16 15:09:23 [scrapy.core.engine] DEBUG: Crawled (200) <GET https://www.usedsurfboardshawaii.com/product/5ft-8in-lost-eps-subdriver-squash-tail-ref-30047/> (referer: https://www.usedsurfboardshawaii.com/page/5/?post_type=product) ['cached']\n",
      "2019-11-16 15:09:23 [scrapy.core.scraper] DEBUG: Scraped from <200 https://www.usedsurfboardshawaii.com/product/5ft-7in-meeks-swallow-tail-ref-30093/>\n",
      "{'url': 'https://www.usedsurfboardshawaii.com/product/5ft-7in-meeks-swallow-tail-ref-30093/', 'title': '5ft 7in Meeks Swallow Tail Ref# 30093', 'price': 225.0, 'description': 'Good condition shortboard with light deck pressures but otherwise minimal signs of previous use', 'type': '5-Fin (FCS)', 'height': 'H 5’7″', 'width': 'W 19 1/2″', 'thickness': 'T 2 3/8″', 'condition': 'Good', 'manufacturer': 'Meeks'}\n",
      "2019-11-16 15:09:23 [scrapy.core.engine] DEBUG: Crawled (200) <GET https://www.usedsurfboardshawaii.com/product/5ft-8in-keith-umeda-squash-tail-ref-30046/> (referer: https://www.usedsurfboardshawaii.com/page/5/?post_type=product) ['cached']\n",
      "2019-11-16 15:09:23 [scrapy.core.scraper] DEBUG: Scraped from <200 https://www.usedsurfboardshawaii.com/product/7ft-2in-garduque-swallow-tail-ref-30088/>\n",
      "{'url': 'https://www.usedsurfboardshawaii.com/product/7ft-2in-garduque-swallow-tail-ref-30088/', 'title': '7ft 2in Garduque Swallow Tail Ref# 30088', 'price': 265.0, 'description': 'Fair condition step up with light deck pressures and yellowing from age and previous use', 'type': 'Thruster (Future)', 'height': 'H 7’2″', 'width': 'W 20 9/16″', 'thickness': 'T 2 3/4″', 'condition': 'Fair', 'manufacturer': 'Garduque'}\n"
     ]
    },
    {
     "name": "stdout",
     "output_type": "stream",
     "text": [
      "Processing 5 out of 25\n",
      "Processing 6 out of 25\n"
     ]
    },
    {
     "name": "stderr",
     "output_type": "stream",
     "text": [
      "2019-11-16 15:09:23 [scrapy.core.engine] DEBUG: Crawled (200) <GET https://www.usedsurfboardshawaii.com/product/7ft-10in-pure-life-bonzer-pin-tail-ref-30067/> (referer: https://www.usedsurfboardshawaii.com/page/5/?post_type=product) ['cached']\n",
      "2019-11-16 15:09:23 [scrapy.core.scraper] DEBUG: Scraped from <200 https://www.usedsurfboardshawaii.com/product/5ft-8in-lost-eps-subdriver-squash-tail-ref-30047/>\n",
      "{'url': 'https://www.usedsurfboardshawaii.com/product/5ft-8in-lost-eps-subdriver-squash-tail-ref-30047/', 'title': '5ft 8in Lost (EPS Subdriver) Squash Tail Ref# 30047', 'price': 275.0, 'description': 'Good condition shortboard with light deck pressures and one previous repair but otherwise minimal signs of previous use', 'type': 'Thruster (FCS)', 'height': 'H 5’8″', 'width': 'W 18.33″', 'thickness': 'T 2.18″', 'condition': 'Good', 'manufacturer': 'Lost'}\n",
      "2019-11-16 15:09:24 [scrapy.core.engine] DEBUG: Crawled (200) <GET https://www.usedsurfboardshawaii.com/product/7ft-mike-casey-swallow-tail-ref-30064/> (referer: https://www.usedsurfboardshawaii.com/page/5/?post_type=product) ['cached']\n",
      "2019-11-16 15:09:24 [scrapy.core.scraper] DEBUG: Scraped from <200 https://www.usedsurfboardshawaii.com/product/5ft-8in-keith-umeda-squash-tail-ref-30046/>\n",
      "{'url': 'https://www.usedsurfboardshawaii.com/product/5ft-8in-keith-umeda-squash-tail-ref-30046/', 'title': '5ft 8in Keith Umeda Squash Tail Ref# 30046', 'price': 199.0, 'description': 'Fair condition shortboard with various previous repairs and some light pressure denting\\xa0 but it appears to be water tight.', 'type': 'Thruster (FCS2)', 'height': 'H 5’8″', 'width': 'W 18 1/4″', 'thickness': 'T 2 1/4″', 'condition': 'Fair', 'manufacturer': 'Keith Umeda, Umeda'}\n"
     ]
    },
    {
     "name": "stdout",
     "output_type": "stream",
     "text": [
      "Processing 7 out of 25\n",
      "Processing 8 out of 25\n"
     ]
    },
    {
     "name": "stderr",
     "output_type": "stream",
     "text": [
      "2019-11-16 15:09:24 [scrapy.core.engine] DEBUG: Crawled (200) <GET https://www.usedsurfboardshawaii.com/product/7ft-2in-surf-design-pin-tail-ref-30066/> (referer: https://www.usedsurfboardshawaii.com/page/5/?post_type=product) ['cached']\n",
      "2019-11-16 15:09:24 [scrapy.core.scraper] DEBUG: Scraped from <200 https://www.usedsurfboardshawaii.com/product/7ft-10in-pure-life-bonzer-pin-tail-ref-30067/>\n",
      "{'url': 'https://www.usedsurfboardshawaii.com/product/7ft-10in-pure-life-bonzer-pin-tail-ref-30067/', 'title': '7ft 10in Pure Life (Bonzer) Pin Tail Ref# 30067', 'price': 650.0, 'description': 'Good condition fun gun style board with light deck pressures but otherwise very minimal signs of previous use', 'type': None, 'height': 'H 7’10”', 'width': 'W 21″', 'thickness': 'T 3″', 'condition': 'Good', 'manufacturer': 'Pure Life'}\n",
      "2019-11-16 15:09:24 [scrapy.core.engine] DEBUG: Crawled (200) <GET https://www.usedsurfboardshawaii.com/product/6ft-3in-eric-arakawa-k4-squash-tail-ref-29976/> (referer: https://www.usedsurfboardshawaii.com/page/5/?post_type=product) ['cached']\n",
      "2019-11-16 15:09:24 [scrapy.core.scraper] DEBUG: Scraped from <200 https://www.usedsurfboardshawaii.com/product/7ft-mike-casey-swallow-tail-ref-30064/>\n",
      "{'url': 'https://www.usedsurfboardshawaii.com/product/7ft-mike-casey-swallow-tail-ref-30064/', 'title': '7ft Mike Casey Swallow Tail Ref# 30064', 'price': 399.0, 'description': 'Good condition step-up/ semi-gun with light deck pressures but otherwise minimal signs of previous use', 'type': '2+1 (Future)', 'height': 'H 7’0″', 'width': 'W 18 7/8″', 'thickness': 'T 2 7/8″', 'condition': 'Good', 'manufacturer': 'Mike Casey'}\n"
     ]
    },
    {
     "name": "stdout",
     "output_type": "stream",
     "text": [
      "Processing 9 out of 25\n",
      "Processing 10 out of 25\n"
     ]
    },
    {
     "name": "stderr",
     "output_type": "stream",
     "text": [
      "2019-11-16 15:09:24 [scrapy.core.engine] DEBUG: Crawled (200) <GET https://www.usedsurfboardshawaii.com/product/6ft-6in-album-context-round-pin-tail-ref-29989/> (referer: https://www.usedsurfboardshawaii.com/page/5/?post_type=product) ['cached']\n",
      "2019-11-16 15:09:24 [scrapy.core.scraper] DEBUG: Scraped from <200 https://www.usedsurfboardshawaii.com/product/7ft-2in-surf-design-pin-tail-ref-30066/>\n",
      "{'url': 'https://www.usedsurfboardshawaii.com/product/7ft-2in-surf-design-pin-tail-ref-30066/', 'title': '7ft 2in Surf Design Pin Tail Ref# 30066', 'price': 499.0, 'description': 'God condition fin gun with light deck pressures but otherwise minimal signs of previous use', 'type': '4+1 (FCS)', 'height': 'H 7’2″', 'width': 'W 19 3/4″', 'thickness': 'T 2 5/8″', 'condition': 'Good', 'manufacturer': 'SurfDesignsHawaii'}\n",
      "2019-11-16 15:09:24 [scrapy.core.engine] DEBUG: Crawled (200) <GET https://www.usedsurfboardshawaii.com/product/6ft-11in-rayour-round-pin-tail-ref-29990/> (referer: https://www.usedsurfboardshawaii.com/page/5/?post_type=product) ['cached']\n",
      "2019-11-16 15:09:24 [scrapy.core.scraper] DEBUG: Scraped from <200 https://www.usedsurfboardshawaii.com/product/6ft-3in-eric-arakawa-k4-squash-tail-ref-29976/>\n",
      "{'url': 'https://www.usedsurfboardshawaii.com/product/6ft-3in-eric-arakawa-k4-squash-tail-ref-29976/', 'title': '6ft 3in Eric Arakawa (K4) Squash Tail Ref# 29976', 'price': 350.0, 'description': 'Fair condition shortboard with multiple repairs and pressure dents, but it appears to be water tight.', 'type': 'Thruster (Future)', 'height': 'H 6’3″', 'width': 'W 19 1/4″', 'thickness': 'T 2 1/2″', 'condition': 'Fair', 'manufacturer': 'Arakawa, Eric Arakawa'}\n"
     ]
    },
    {
     "name": "stdout",
     "output_type": "stream",
     "text": [
      "Processing 11 out of 25\n",
      "Processing 12 out of 25\n"
     ]
    },
    {
     "name": "stderr",
     "output_type": "stream",
     "text": [
      "2019-11-16 15:09:24 [scrapy.core.engine] DEBUG: Crawled (200) <GET https://www.usedsurfboardshawaii.com/product/6ft-10in-album-chest-hair-round-pin-ref-29988/> (referer: https://www.usedsurfboardshawaii.com/page/5/?post_type=product) ['cached']\n",
      "2019-11-16 15:09:24 [scrapy.core.scraper] DEBUG: Scraped from <200 https://www.usedsurfboardshawaii.com/product/6ft-6in-album-context-round-pin-tail-ref-29989/>\n",
      "{'url': 'https://www.usedsurfboardshawaii.com/product/6ft-6in-album-context-round-pin-tail-ref-29989/', 'title': '6ft 6in Album (Context) Round Pin Tail Ref# 29989', 'price': 245.0, 'description': 'This shortboard is in fair condition with some moderate pressure dents on the deck.', 'type': 'FCS2 (Five-Fin)', 'height': 'H 6′ 6″', 'width': 'W 18.75″', 'thickness': 'T 2.32″', 'condition': 'Fair', 'manufacturer': 'Album'}\n",
      "2019-11-16 15:09:24 [scrapy.core.engine] DEBUG: Crawled (200) <GET https://www.usedsurfboardshawaii.com/product/6ft-9in-sparrow-round-pin-ref-29998/> (referer: https://www.usedsurfboardshawaii.com/page/5/?post_type=product) ['cached']\n",
      "2019-11-16 15:09:24 [scrapy.core.scraper] DEBUG: Scraped from <200 https://www.usedsurfboardshawaii.com/product/6ft-11in-rayour-round-pin-tail-ref-29990/>\n",
      "{'url': 'https://www.usedsurfboardshawaii.com/product/6ft-11in-rayour-round-pin-tail-ref-29990/', 'title': '6ft 11in Rayour Round Pin Tail Ref# 29990', 'price': 399.0, 'description': 'This shortboard is in good condition with some light pressure denting.', 'type': 'FCS2 (Thruster)', 'height': 'H 6′ 11″', 'width': 'W 18 3/8″', 'thickness': 'T 2 3/8″', 'condition': 'Fair, Good', 'manufacturer': 'Rayour'}\n"
     ]
    },
    {
     "name": "stdout",
     "output_type": "stream",
     "text": [
      "Processing 13 out of 25\n",
      "Processing 14 out of 25\n"
     ]
    },
    {
     "name": "stderr",
     "output_type": "stream",
     "text": [
      "2019-11-16 15:09:25 [scrapy.core.engine] DEBUG: Crawled (200) <GET https://www.usedsurfboardshawaii.com/product/102921/> (referer: https://www.usedsurfboardshawaii.com/page/5/?post_type=product) ['cached']\n",
      "2019-11-16 15:09:25 [scrapy.core.scraper] DEBUG: Scraped from <200 https://www.usedsurfboardshawaii.com/product/6ft-10in-album-chest-hair-round-pin-ref-29988/>\n",
      "{'url': 'https://www.usedsurfboardshawaii.com/product/6ft-10in-album-chest-hair-round-pin-ref-29988/', 'title': '6ft 10in Album (Chest Hair) Round Pin Ref# 29988', 'price': 299.0, 'description': 'This shortboard is in fair condition with some light pressure denting.', 'type': 'FCS2 (Five-Fin)', 'height': 'H 6′ 10″', 'width': 'W 19″', 'thickness': 'T 2.63″', 'condition': 'Fair', 'manufacturer': 'Album'}\n",
      "2019-11-16 15:09:25 [scrapy.core.engine] DEBUG: Crawled (200) <GET https://www.usedsurfboardshawaii.com/product/5ft-10in-j-johnston-squash-tail-ref-29958/> (referer: https://www.usedsurfboardshawaii.com/page/5/?post_type=product) ['cached']\n",
      "2019-11-16 15:09:25 [scrapy.core.scraper] DEBUG: Scraped from <200 https://www.usedsurfboardshawaii.com/product/6ft-9in-sparrow-round-pin-ref-29998/>\n",
      "{'url': 'https://www.usedsurfboardshawaii.com/product/6ft-9in-sparrow-round-pin-ref-29998/', 'title': '6ft 9in Sparrow Round Pin Ref# 29998', 'price': 375.0, 'description': 'This shortboard is in fair condition with some light pressure dents and is a good for someone looking for a hybrid or big guy board.', 'type': 'Future (Five-Fin)', 'height': 'H 6′ 9″', 'width': 'W 19 5/8″', 'thickness': 'T 2 15/16″', 'condition': 'Fair', 'manufacturer': 'Sparrow'}\n"
     ]
    },
    {
     "name": "stdout",
     "output_type": "stream",
     "text": [
      "Processing 15 out of 25\n",
      "Processing 16 out of 25\n"
     ]
    },
    {
     "name": "stderr",
     "output_type": "stream",
     "text": [
      "2019-11-16 15:09:25 [scrapy.core.engine] DEBUG: Crawled (200) <GET https://www.usedsurfboardshawaii.com/product/6ft-4in-eric-arakawa-bullet-round-tail-ref-29953/> (referer: https://www.usedsurfboardshawaii.com/page/5/?post_type=product) ['cached']\n",
      "2019-11-16 15:09:25 [scrapy.core.scraper] DEBUG: Scraped from <200 https://www.usedsurfboardshawaii.com/product/102921/>\n",
      "{'url': 'https://www.usedsurfboardshawaii.com/product/102921/', 'title': '6ft 8in J. Johnston Round Pin Tail Ref# 29959', 'price': 150.0, 'description': 'Fair condition step up with a decent amount of pressure denting and signs of age and previous use', 'type': 'Thruster (FCS)', 'height': 'H 6’8″', 'width': 'W 18 3/4″', 'thickness': 'T 2 5/16″', 'condition': 'Fair', 'manufacturer': 'J. Johnston'}\n",
      "2019-11-16 15:09:25 [scrapy.core.engine] DEBUG: Crawled (200) <GET https://www.usedsurfboardshawaii.com/product/5ft-11in-j-kashiwai-36-3l-squash-tail-ref-29938/> (referer: https://www.usedsurfboardshawaii.com/page/5/?post_type=product) ['cached']\n",
      "2019-11-16 15:09:25 [scrapy.core.scraper] DEBUG: Scraped from <200 https://www.usedsurfboardshawaii.com/product/5ft-10in-j-johnston-squash-tail-ref-29958/>\n",
      "{'url': 'https://www.usedsurfboardshawaii.com/product/5ft-10in-j-johnston-squash-tail-ref-29958/', 'title': '5ft 10in J. Johnston Squash Tail Ref# 29958', 'price': 199.0, 'description': 'Good condition shortboard with light deck pressures and yellowing from age and previous use.', 'type': 'Thruster (FCS2)', 'height': 'H 5’10”', 'width': 'W 19″', 'thickness': 'T 2 1/4″', 'condition': 'Good', 'manufacturer': 'J. Johnston'}\n"
     ]
    },
    {
     "name": "stdout",
     "output_type": "stream",
     "text": [
      "Processing 17 out of 25\n",
      "Processing 18 out of 25\n"
     ]
    },
    {
     "name": "stderr",
     "output_type": "stream",
     "text": [
      "2019-11-16 15:09:25 [scrapy.core.engine] DEBUG: Crawled (200) <GET https://www.usedsurfboardshawaii.com/product/5ft-9in-bushman-squash-tail-ref-29925/> (referer: https://www.usedsurfboardshawaii.com/page/5/?post_type=product) ['cached']\n",
      "2019-11-16 15:09:25 [scrapy.core.scraper] DEBUG: Scraped from <200 https://www.usedsurfboardshawaii.com/product/6ft-4in-eric-arakawa-bullet-round-tail-ref-29953/>\n",
      "{'url': 'https://www.usedsurfboardshawaii.com/product/6ft-4in-eric-arakawa-bullet-round-tail-ref-29953/', 'title': '6ft 4in Eric Arakawa (Bullet) Round Tail Ref# 29953', 'price': 299.0, 'description': 'Good condition shortboard with light deck pressures but otherwise minimal signs of previous use', 'type': 'Thruster ( FCS)', 'height': 'H 6’4″', 'width': 'W 18 1/4″', 'thickness': 'T 2 3/16″', 'condition': 'Good', 'manufacturer': 'Arakawa'}\n",
      "2019-11-16 15:09:25 [scrapy.core.engine] DEBUG: Crawled (200) <GET https://www.usedsurfboardshawaii.com/product/6ft-bushman-swallow-tail-ref-29924/> (referer: https://www.usedsurfboardshawaii.com/page/5/?post_type=product) ['cached']\n",
      "2019-11-16 15:09:25 [scrapy.core.scraper] DEBUG: Scraped from <200 https://www.usedsurfboardshawaii.com/product/5ft-11in-j-kashiwai-36-3l-squash-tail-ref-29938/>\n",
      "{'url': 'https://www.usedsurfboardshawaii.com/product/5ft-11in-j-kashiwai-36-3l-squash-tail-ref-29938/', 'title': '5ft 11in J. Kashiwai (36.3L) Squash Tail Ref# 29938', 'price': 535.0, 'description': 'Good shortboard for a bigger guy. In good condition with very minimal pressure denting.', 'type': 'Thruster (Future)', 'height': 'H 5′ 11″', 'width': 'W 20 1/2″', 'thickness': 'T 2 3/4″', 'condition': 'Good', 'manufacturer': 'J. Kashiwai'}\n"
     ]
    },
    {
     "name": "stdout",
     "output_type": "stream",
     "text": [
      "Processing 19 out of 25\n",
      "Processing 20 out of 25\n"
     ]
    },
    {
     "name": "stderr",
     "output_type": "stream",
     "text": [
      "2019-11-16 15:09:26 [scrapy.core.engine] DEBUG: Crawled (200) <GET https://www.usedsurfboardshawaii.com/product/6ft-6in-bushman-round-pin-tail-ref-29769/> (referer: https://www.usedsurfboardshawaii.com/page/5/?post_type=product) ['cached']\n",
      "2019-11-16 15:09:26 [scrapy.core.scraper] DEBUG: Scraped from <200 https://www.usedsurfboardshawaii.com/product/5ft-9in-bushman-squash-tail-ref-29925/>\n",
      "{'url': 'https://www.usedsurfboardshawaii.com/product/5ft-9in-bushman-squash-tail-ref-29925/', 'title': '5ft 9in Bushman Squash Tail Ref# 29925', 'price': 399.0, 'description': 'Good performance shortboard with just some minor pressure denting.', 'type': 'Thruster (Future)', 'height': 'H 5′ 9″', 'width': 'W 18 1/2″', 'thickness': 'T 2 1/4″', 'condition': 'Good', 'manufacturer': 'Bushman'}\n",
      "2019-11-16 15:09:26 [scrapy.core.engine] DEBUG: Crawled (200) <GET https://www.usedsurfboardshawaii.com/product/6ft-1in-al-merrick-whip-moon-tail-ref-29853/> (referer: https://www.usedsurfboardshawaii.com/page/5/?post_type=product) ['cached']\n",
      "2019-11-16 15:09:26 [scrapy.core.scraper] DEBUG: Scraped from <200 https://www.usedsurfboardshawaii.com/product/6ft-bushman-swallow-tail-ref-29924/>\n",
      "{'url': 'https://www.usedsurfboardshawaii.com/product/6ft-bushman-swallow-tail-ref-29924/', 'title': '6ft Bushman Swallow Tail Ref# 29924', 'price': 350.0, 'description': 'Good performance shortboard with very minor pressure denting.', 'type': 'Thruster (Future)', 'height': 'H 6′', 'width': 'W 19″', 'thickness': 'T 2 1/4″', 'condition': 'Good', 'manufacturer': 'Bushman'}\n"
     ]
    },
    {
     "name": "stdout",
     "output_type": "stream",
     "text": [
      "Processing 21 out of 25\n",
      "Processing 22 out of 25\n"
     ]
    },
    {
     "name": "stderr",
     "output_type": "stream",
     "text": [
      "2019-11-16 15:09:26 [scrapy.core.engine] DEBUG: Crawled (200) <GET https://www.usedsurfboardshawaii.com/product/5ft-7in-bushman-swallow-tail-ref-29926/> (referer: https://www.usedsurfboardshawaii.com/page/5/?post_type=product) ['cached']\n",
      "2019-11-16 15:09:26 [scrapy.core.scraper] DEBUG: Scraped from <200 https://www.usedsurfboardshawaii.com/product/6ft-6in-bushman-round-pin-tail-ref-29769/>\n",
      "{'url': 'https://www.usedsurfboardshawaii.com/product/6ft-6in-bushman-round-pin-tail-ref-29769/', 'title': '6ft 6in Bushman Round Pin Tail Ref# 29923', 'price': 475.0, 'description': 'Good step up for the winter. This board is very clean and only has a few minor pressure dents.', 'type': 'Thruster (Future)', 'height': 'H 6′ 6″', 'width': 'W 18 1/2″', 'thickness': 'T 2 1/2″', 'condition': 'Good', 'manufacturer': 'Bushman'}\n",
      "2019-11-16 15:09:26 [scrapy.core.engine] DEBUG: Crawled (200) <GET https://www.usedsurfboardshawaii.com/product/9ft-6in-torq-don-xl-round-tail-ref-29800/> (referer: https://www.usedsurfboardshawaii.com/page/5/?post_type=product) ['cached']\n",
      "2019-11-16 15:09:26 [scrapy.core.scraper] DEBUG: Scraped from <200 https://www.usedsurfboardshawaii.com/product/6ft-1in-al-merrick-whip-moon-tail-ref-29853/>\n",
      "{'url': 'https://www.usedsurfboardshawaii.com/product/6ft-1in-al-merrick-whip-moon-tail-ref-29853/', 'title': '6ft 1in Al Merrick (Whip) Moon Tail Ref# 29853', 'price': 199.0, 'description': 'This board is in fair condition with a good amount of pressure denting and some yellowing. The tails have some previous repairs as well. Read more about the Whip Here: https://www.cisurfboards.com/surfboards/legacy-lineup/the-whip/', 'type': '5-Fin (FCS)', 'height': 'H 6′ 1″', 'width': 'W 19 1/2″', 'thickness': 'T 2 1/2″', 'condition': 'Fair', 'manufacturer': 'Al Merrick'}\n"
     ]
    },
    {
     "name": "stdout",
     "output_type": "stream",
     "text": [
      "Processing 23 out of 25\n",
      "Processing 24 out of 25\n"
     ]
    },
    {
     "name": "stderr",
     "output_type": "stream",
     "text": [
      "2019-11-16 15:09:26 [scrapy.core.engine] DEBUG: Crawled (200) <GET https://www.usedsurfboardshawaii.com/product/6ft-1in-minami-round-tail-ref-29789/> (referer: https://www.usedsurfboardshawaii.com/page/5/?post_type=product) ['cached']\n",
      "2019-11-16 15:09:26 [scrapy.core.scraper] DEBUG: Scraped from <200 https://www.usedsurfboardshawaii.com/product/5ft-7in-bushman-swallow-tail-ref-29926/>\n",
      "{'url': 'https://www.usedsurfboardshawaii.com/product/5ft-7in-bushman-swallow-tail-ref-29926/', 'title': '5ft 7in Bushman Swallow Tail Ref# 29926', 'price': 399.0, 'description': 'Good performance shortboard in good condition with just some minor pressure denting.', 'type': 'Thruster (Future)', 'height': 'H 5′ 7″', 'width': 'W 19 5/8″', 'thickness': 'T 2 1/4″', 'condition': 'Good', 'manufacturer': 'Bushman'}\n",
      "2019-11-16 15:09:26 [scrapy.core.engine] DEBUG: Crawled (200) <GET https://www.usedsurfboardshawaii.com/product/5ft-6in-kapena-squash-tail-ref-29783/> (referer: https://www.usedsurfboardshawaii.com/page/5/?post_type=product) ['cached']\n",
      "2019-11-16 15:09:26 [scrapy.core.scraper] DEBUG: Scraped from <200 https://www.usedsurfboardshawaii.com/product/9ft-6in-torq-don-xl-round-tail-ref-29800/>\n",
      "{'url': 'https://www.usedsurfboardshawaii.com/product/9ft-6in-torq-don-xl-round-tail-ref-29800/', 'title': '9ft 6in Torq (Don XL) Round Tail Ref# 29800', 'price': 599.0, 'description': 'Good longboard for a little bit bigger guy on a beginner. The board is in good condition with some minor pressure denting.', 'type': '2+1 (Future/Single)', 'height': 'H 9′ 6″', 'width': 'W 22 3/4″', 'thickness': 'T 3 5/8″', 'condition': 'Good', 'manufacturer': 'Torq'}\n",
      "2019-11-16 15:09:26 [scrapy.core.engine] DEBUG: Crawled (200) <GET https://www.usedsurfboardshawaii.com/page/6/?post_type=product> (referer: https://www.usedsurfboardshawaii.com/page/5/?post_type=product) ['cached']\n",
      "2019-11-16 15:09:27 [scrapy.core.scraper] DEBUG: Scraped from <200 https://www.usedsurfboardshawaii.com/product/6ft-1in-minami-round-tail-ref-29789/>\n",
      "{'url': 'https://www.usedsurfboardshawaii.com/product/6ft-1in-minami-round-tail-ref-29789/', 'title': '6ft 1in Minami Round Tail Ref# 29789', 'price': 485.0, 'description': 'Good performance shortboard with minor pressure denting.', 'type': 'Thruster (FCS 2)', 'height': 'H 6′ 1″', 'width': 'W 19″', 'thickness': 'T 2 1/2″', 'condition': 'Good', 'manufacturer': 'Minami'}\n"
     ]
    },
    {
     "name": "stdout",
     "output_type": "stream",
     "text": [
      "Processing 25 out of 25\n",
      "\n",
      "https://www.usedsurfboardshawaii.com/page/6/?post_type=product\n"
     ]
    },
    {
     "name": "stderr",
     "output_type": "stream",
     "text": [
      "2019-11-16 15:09:27 [scrapy.core.scraper] DEBUG: Scraped from <200 https://www.usedsurfboardshawaii.com/product/5ft-6in-kapena-squash-tail-ref-29783/>\n",
      "{'url': 'https://www.usedsurfboardshawaii.com/product/5ft-6in-kapena-squash-tail-ref-29783/', 'title': '5ft 6in Kapena Squash Tail Ref# 29783', 'price': 225.0, 'description': 'Good shortboard for a smaller person. Has a fair amount of pressure dents but still lots of life in it.', 'type': 'Thruster (Future)', 'height': 'H 5′ 6″', 'width': 'W 18 3/4″', 'thickness': 'T 2 3/16″', 'condition': 'Fair', 'manufacturer': 'Kapena'}\n",
      "2019-11-16 15:09:27 [scrapy.core.engine] DEBUG: Crawled (200) <GET https://www.usedsurfboardshawaii.com/product/5ft-6in-pang-squash-tail-ref-29789/> (referer: https://www.usedsurfboardshawaii.com/page/6/?post_type=product) ['cached']\n"
     ]
    },
    {
     "name": "stdout",
     "output_type": "stream",
     "text": [
      "Total:  25\n",
      "Processing 1 out of 25\n",
      "Processing 2 out of 25\n"
     ]
    },
    {
     "name": "stderr",
     "output_type": "stream",
     "text": [
      "2019-11-16 15:09:27 [scrapy.core.engine] DEBUG: Crawled (200) <GET https://www.usedsurfboardshawaii.com/product/5ft-2in-mick-fanning-little-marley-squash-tail-ref-29929/> (referer: https://www.usedsurfboardshawaii.com/page/6/?post_type=product) ['cached']\n",
      "2019-11-16 15:09:27 [scrapy.core.engine] DEBUG: Crawled (200) <GET https://www.usedsurfboardshawaii.com/product/5ft-8in-ivan-round-pin-tail-ref-29930/> (referer: https://www.usedsurfboardshawaii.com/page/6/?post_type=product) ['cached']\n",
      "2019-11-16 15:09:27 [scrapy.core.scraper] DEBUG: Scraped from <200 https://www.usedsurfboardshawaii.com/product/5ft-6in-pang-squash-tail-ref-29789/>\n",
      "{'url': 'https://www.usedsurfboardshawaii.com/product/5ft-6in-pang-squash-tail-ref-29789/', 'title': '5ft 6in Pang Squash Tail Ref# 29789', 'price': 199.0, 'description': 'Good shortboard for those smaller days. This board is in fair condition with some pressure denting and some previous repairs.', 'type': 'Thruster (future)', 'height': 'H 5′ 6″', 'width': 'W 19 1/2″', 'thickness': 'T 2 1/2″', 'condition': 'Fair', 'manufacturer': 'Glen Pang, Pang'}\n"
     ]
    },
    {
     "name": "stdout",
     "output_type": "stream",
     "text": [
      "Processing 3 out of 25\n",
      "Processing 4 out of 25\n"
     ]
    },
    {
     "name": "stderr",
     "output_type": "stream",
     "text": [
      "2019-11-16 15:09:27 [scrapy.core.engine] DEBUG: Crawled (200) <GET https://www.usedsurfboardshawaii.com/product/6ft-1in-machado-firewire-midas-swallow-tail-ref-29848/> (referer: https://www.usedsurfboardshawaii.com/page/6/?post_type=product) ['cached']\n",
      "2019-11-16 15:09:27 [scrapy.core.scraper] DEBUG: Scraped from <200 https://www.usedsurfboardshawaii.com/product/5ft-2in-mick-fanning-little-marley-squash-tail-ref-29929/>\n",
      "{'url': 'https://www.usedsurfboardshawaii.com/product/5ft-2in-mick-fanning-little-marley-squash-tail-ref-29929/', 'title': '5ft 2in Mick Fanning (Little Marley) Squash Tail Ref# 29929', 'price': 299.0, 'description': 'This soft top shortboard is in poor condition with a sizable ding on the deck.', 'type': 'FCS2 (5 Fin)', 'height': 'H 5′ 2″', 'width': 'W 21″', 'thickness': 'T 2 5/16″', 'condition': 'Poor', 'manufacturer': 'Mick Fanning Soft Top'}\n",
      "2019-11-16 15:09:27 [scrapy.core.engine] DEBUG: Crawled (200) <GET https://www.usedsurfboardshawaii.com/product/7ft-2in-mendonca-pin-tail-ref-29877/> (referer: https://www.usedsurfboardshawaii.com/page/6/?post_type=product) ['cached']\n",
      "2019-11-16 15:09:27 [scrapy.core.scraper] DEBUG: Scraped from <200 https://www.usedsurfboardshawaii.com/product/5ft-8in-ivan-round-pin-tail-ref-29930/>\n",
      "{'url': 'https://www.usedsurfboardshawaii.com/product/5ft-8in-ivan-round-pin-tail-ref-29930/', 'title': '5ft 8in Ivan Round Pin Tail Ref# 29930', 'price': 299.0, 'description': 'This shortboard is in fair condition with moderate pressure dents and multiple previously repaired dings.', 'type': 'Future (Thruster)', 'height': 'H 5′ 8″', 'width': 'W 19 5/4″', 'thickness': 'T 2 1/2″', 'condition': 'Fair', 'manufacturer': 'Ivan'}\n"
     ]
    },
    {
     "name": "stdout",
     "output_type": "stream",
     "text": [
      "Processing 5 out of 25\n",
      "Processing 6 out of 25\n"
     ]
    },
    {
     "name": "stderr",
     "output_type": "stream",
     "text": [
      "2019-11-16 15:09:27 [scrapy.core.engine] DEBUG: Crawled (200) <GET https://www.usedsurfboardshawaii.com/product/5ft-7-5in-mendonca-round-tail-ref29876/> (referer: https://www.usedsurfboardshawaii.com/page/6/?post_type=product) ['cached']\n",
      "2019-11-16 15:09:27 [scrapy.core.scraper] DEBUG: Scraped from <200 https://www.usedsurfboardshawaii.com/product/6ft-1in-machado-firewire-midas-swallow-tail-ref-29848/>\n",
      "{'url': 'https://www.usedsurfboardshawaii.com/product/6ft-1in-machado-firewire-midas-swallow-tail-ref-29848/', 'title': '6ft 1in Machado Firewire (Midas) Swallow Tail Ref# 29848', 'price': 299.0, 'description': 'This shortboard is in fair condition but has multiple dings for repair.', 'type': 'FCS2 (Thruster)', 'height': 'H 6′ 1″', 'width': 'W 20 7/8″', 'thickness': 'T 2 9/16″', 'condition': 'Poor', 'manufacturer': 'Machado'}\n",
      "2019-11-16 15:09:28 [scrapy.core.engine] DEBUG: Crawled (200) <GET https://www.usedsurfboardshawaii.com/product/7ft-2in-mendonca-round-pin-tail-ref-29877/> (referer: https://www.usedsurfboardshawaii.com/page/6/?post_type=product) ['cached']\n",
      "2019-11-16 15:09:28 [scrapy.core.scraper] DEBUG: Scraped from <200 https://www.usedsurfboardshawaii.com/product/7ft-2in-mendonca-pin-tail-ref-29877/>\n",
      "{'url': 'https://www.usedsurfboardshawaii.com/product/7ft-2in-mendonca-pin-tail-ref-29877/', 'title': '7ft 2in Mendonca Pin Tail Ref# 29877', 'price': 475.0, 'description': 'This step-up is new, it has not been previously used. Be ready for the upcoming winter with no excuses.', 'type': 'Future (5 Fin)', 'height': 'H 7′ 2″', 'width': 'W 19.5″', 'thickness': 'T 2.7″', 'condition': 'New', 'manufacturer': 'Mendonca'}\n"
     ]
    },
    {
     "name": "stdout",
     "output_type": "stream",
     "text": [
      "Processing 7 out of 25\n",
      "Processing 8 out of 25\n"
     ]
    },
    {
     "name": "stderr",
     "output_type": "stream",
     "text": [
      "2019-11-16 15:09:28 [scrapy.core.engine] DEBUG: Crawled (200) <GET https://www.usedsurfboardshawaii.com/product/5ft-7-5in-mendonca-round-tail-ref-29876/> (referer: https://www.usedsurfboardshawaii.com/page/6/?post_type=product) ['cached']\n",
      "2019-11-16 15:09:28 [scrapy.core.scraper] DEBUG: Scraped from <200 https://www.usedsurfboardshawaii.com/product/5ft-7-5in-mendonca-round-tail-ref29876/>\n",
      "{'url': 'https://www.usedsurfboardshawaii.com/product/5ft-7-5in-mendonca-round-tail-ref29876/', 'title': '5ft 7.5in Mendonca Round Tail Ref#29876', 'price': 475.0, 'description': 'This shortboard is in good condition with minimal signs of previous use.', 'type': 'Future (Thruster)', 'height': 'H 5′ 7.5″', 'width': 'W 19″', 'thickness': 'T 2.5″', 'condition': 'Like New', 'manufacturer': 'Mendonca'}\n",
      "2019-11-16 15:09:28 [scrapy.core.engine] DEBUG: Crawled (200) <GET https://www.usedsurfboardshawaii.com/product/5ft-9in-pang-squash-tail-ref-29829/> (referer: https://www.usedsurfboardshawaii.com/page/6/?post_type=product) ['cached']\n",
      "2019-11-16 15:09:28 [scrapy.core.scraper] DEBUG: Scraped from <200 https://www.usedsurfboardshawaii.com/product/7ft-2in-mendonca-round-pin-tail-ref-29877/>\n",
      "{'url': 'https://www.usedsurfboardshawaii.com/product/7ft-2in-mendonca-round-pin-tail-ref-29877/', 'title': '7ft 2in Mendonca Round Pin Tail Ref# 29877', 'price': 475.0, 'description': 'Brand new board in excellent condition', 'type': '5-Fin (Future)', 'height': 'H 7’2″', 'width': 'W 19.5', 'thickness': 'T 2.7″', 'condition': 'Excellent, Good, Like New, New', 'manufacturer': 'Mendonca'}\n"
     ]
    },
    {
     "name": "stdout",
     "output_type": "stream",
     "text": [
      "Processing 9 out of 25\n",
      "Processing 10 out of 25\n"
     ]
    },
    {
     "name": "stderr",
     "output_type": "stream",
     "text": [
      "2019-11-16 15:09:28 [scrapy.core.engine] DEBUG: Crawled (200) <GET https://www.usedsurfboardshawaii.com/product/8ft-j-johnston-squash-tail-ref-29751/> (referer: https://www.usedsurfboardshawaii.com/page/6/?post_type=product) ['cached']\n",
      "2019-11-16 15:09:28 [scrapy.core.scraper] DEBUG: Scraped from <200 https://www.usedsurfboardshawaii.com/product/5ft-7-5in-mendonca-round-tail-ref-29876/>\n",
      "{'url': 'https://www.usedsurfboardshawaii.com/product/5ft-7-5in-mendonca-round-tail-ref-29876/', 'title': '5ft 7.5in Mendonca Round Tail Ref# 29876', 'price': 475.0, 'description': 'Brand new board in excellent condition', 'type': 'Thruster (Future)', 'height': 'H 5’7.5″', 'width': 'W 19″', 'thickness': 'T 2.5″', 'condition': 'Excellent, Good, Like New, New', 'manufacturer': 'Mendonca'}\n",
      "2019-11-16 15:09:28 [scrapy.core.engine] DEBUG: Crawled (200) <GET https://www.usedsurfboardshawaii.com/product/8ft-11in-blue-planet-fish-n-chips-swallow-tail-ref-29814/> (referer: https://www.usedsurfboardshawaii.com/page/6/?post_type=product) ['cached']\n",
      "2019-11-16 15:09:28 [scrapy.core.scraper] DEBUG: Scraped from <200 https://www.usedsurfboardshawaii.com/product/5ft-9in-pang-squash-tail-ref-29829/>\n",
      "{'url': 'https://www.usedsurfboardshawaii.com/product/5ft-9in-pang-squash-tail-ref-29829/', 'title': '5ft 9in Pang Squash Tail Ref# 29829', 'price': 299.0, 'description': 'Fair condition shortboard with light pressure dents and a small ding near the nose of the board that will need to be repaired before the board is water tight.', 'type': 'Thruster (FCS)', 'height': 'H 5’9″', 'width': 'W 19″', 'thickness': 'T 2 3/16″', 'condition': 'Fair', 'manufacturer': 'Pang'}\n"
     ]
    },
    {
     "name": "stdout",
     "output_type": "stream",
     "text": [
      "Processing 11 out of 25\n",
      "Processing 12 out of 25\n"
     ]
    },
    {
     "name": "stderr",
     "output_type": "stream",
     "text": [
      "2019-11-16 15:09:28 [scrapy.core.engine] DEBUG: Crawled (200) <GET https://www.usedsurfboardshawaii.com/product/8ft-10in-patagonia-round-pin-tail-ref-29429/> (referer: https://www.usedsurfboardshawaii.com/page/6/?post_type=product) ['cached']\n",
      "2019-11-16 15:09:28 [scrapy.core.scraper] DEBUG: Scraped from <200 https://www.usedsurfboardshawaii.com/product/8ft-j-johnston-squash-tail-ref-29751/>\n",
      "{'url': 'https://www.usedsurfboardshawaii.com/product/8ft-j-johnston-squash-tail-ref-29751/', 'title': '8ft J. Johnston Squash Tail Ref# 29751', 'price': 750.0, 'description': 'Good condition SUP with minor signs of previous use', 'type': 'Thruster (FCS)', 'height': 'H 8’0″', 'width': 'W 28 3/4″', 'thickness': 'T 4 1/8″', 'condition': 'Good', 'manufacturer': 'J. Johnston'}\n",
      "2019-11-16 15:09:28 [scrapy.core.engine] DEBUG: Crawled (200) <GET https://www.usedsurfboardshawaii.com/product/9ft-2in-seabird-round-tail-ref-29533/> (referer: https://www.usedsurfboardshawaii.com/page/6/?post_type=product) ['cached']\n",
      "2019-11-16 15:09:29 [scrapy.core.scraper] DEBUG: Scraped from <200 https://www.usedsurfboardshawaii.com/product/8ft-11in-blue-planet-fish-n-chips-swallow-tail-ref-29814/>\n",
      "{'url': 'https://www.usedsurfboardshawaii.com/product/8ft-11in-blue-planet-fish-n-chips-swallow-tail-ref-29814/', 'title': '8ft 11in Blue Planet (Fish N’ Chips) Swallow Tail Ref# 29814', 'price': 1200.0, 'description': 'Good condition Stand up Paddle board with minimal signs of previous use.\\xa0 This board comes as a full package, board bag, fins and paddle are all included in the price.', 'type': '4+1 (Future)', 'height': 'H 8’11”', 'width': 'W 32″', 'thickness': 'T 4″', 'condition': 'Excellent, Like New', 'manufacturer': 'Blue Planet'}\n"
     ]
    },
    {
     "name": "stdout",
     "output_type": "stream",
     "text": [
      "Processing 13 out of 25\n",
      "Processing 14 out of 25\n"
     ]
    },
    {
     "name": "stderr",
     "output_type": "stream",
     "text": [
      "2019-11-16 15:09:29 [scrapy.core.engine] DEBUG: Crawled (200) <GET https://www.usedsurfboardshawaii.com/product/9ft-10in-carlson-pin-tail-ref-29649/> (referer: https://www.usedsurfboardshawaii.com/page/6/?post_type=product) ['cached']\n",
      "2019-11-16 15:09:29 [scrapy.core.scraper] DEBUG: Scraped from <200 https://www.usedsurfboardshawaii.com/product/8ft-10in-patagonia-round-pin-tail-ref-29429/>\n",
      "{'url': 'https://www.usedsurfboardshawaii.com/product/8ft-10in-patagonia-round-pin-tail-ref-29429/', 'title': '8ft 10in Patagonia Round Pin Tail Ref# 29429', 'price': 499.0, 'description': 'Good condition longboard with light deck pressures ad yellowing from age and previous use but otherwise a good condition board', 'type': '2+1 (LokBox)', 'height': 'H 8’10”', 'width': 'W 21 1/4″', 'thickness': 'T 2 3/4″', 'condition': 'Good', 'manufacturer': 'Fletcher, Patagonia'}\n",
      "2019-11-16 15:09:29 [scrapy.core.engine] DEBUG: Crawled (200) <GET https://www.usedsurfboardshawaii.com/product/5ft-11in-schaper-swallow-tail-ref-29699/> (referer: https://www.usedsurfboardshawaii.com/page/6/?post_type=product) ['cached']\n",
      "2019-11-16 15:09:29 [scrapy.core.scraper] DEBUG: Scraped from <200 https://www.usedsurfboardshawaii.com/product/9ft-2in-seabird-round-tail-ref-29533/>\n",
      "{'url': 'https://www.usedsurfboardshawaii.com/product/9ft-2in-seabird-round-tail-ref-29533/', 'title': '9ft 2in Seabird Round Tail Ref# 29533', 'price': 599.0, 'description': 'Good condition longboard with light deck pressures but otherwise minimal signs of previous use', 'type': 'Quad (FCS)', 'height': 'H 9’2″', 'width': 'W 22.5″', 'thickness': 'T 3″', 'condition': 'Good', 'manufacturer': 'Seabird'}\n"
     ]
    },
    {
     "name": "stdout",
     "output_type": "stream",
     "text": [
      "Processing 15 out of 25\n",
      "Processing 16 out of 25\n"
     ]
    },
    {
     "name": "stderr",
     "output_type": "stream",
     "text": [
      "2019-11-16 15:09:29 [scrapy.core.engine] DEBUG: Crawled (200) <GET https://www.usedsurfboardshawaii.com/product/6ft-2in-eric-arakawa-amp-round-tail-ref-29740/> (referer: https://www.usedsurfboardshawaii.com/page/6/?post_type=product) ['cached']\n",
      "2019-11-16 15:09:29 [scrapy.core.scraper] DEBUG: Scraped from <200 https://www.usedsurfboardshawaii.com/product/9ft-10in-carlson-pin-tail-ref-29649/>\n",
      "{'url': 'https://www.usedsurfboardshawaii.com/product/9ft-10in-carlson-pin-tail-ref-29649/', 'title': '9ft 10in Carlson Pin Tail Ref# 29649', 'price': 399.0, 'description': 'Good condition board with minor signs of wear and previous use', 'type': 'Single fin (Glassed In)', 'height': 'H 9’10”', 'width': 'W 22 3/8″', 'thickness': 'T 3″', 'condition': 'Good', 'manufacturer': 'Carlson'}\n",
      "2019-11-16 15:09:29 [scrapy.core.engine] DEBUG: Crawled (200) <GET https://www.usedsurfboardshawaii.com/product/5ft-9in-j-kashiwai-super-model-squash-tail-ref-29744/> (referer: https://www.usedsurfboardshawaii.com/page/6/?post_type=product) ['cached']\n",
      "2019-11-16 15:09:29 [scrapy.core.scraper] DEBUG: Scraped from <200 https://www.usedsurfboardshawaii.com/product/5ft-11in-schaper-swallow-tail-ref-29699/>\n",
      "{'url': 'https://www.usedsurfboardshawaii.com/product/5ft-11in-schaper-swallow-tail-ref-29699/', 'title': '5ft 11in Schaper Swallow Tail Ref# 29699', 'price': 199.0, 'description': 'Good condition short board with various pressure dents but otherwise minor signs of previous use', 'type': '5-Fin (Future)', 'height': 'H 5’11”', 'width': 'W 19″', 'thickness': 'T 2.44″', 'condition': 'Good', 'manufacturer': 'Schaper'}\n"
     ]
    },
    {
     "name": "stdout",
     "output_type": "stream",
     "text": [
      "Processing 17 out of 25\n",
      "Processing 18 out of 25\n"
     ]
    },
    {
     "name": "stderr",
     "output_type": "stream",
     "text": [
      "2019-11-16 15:09:29 [scrapy.core.engine] DEBUG: Crawled (200) <GET https://www.usedsurfboardshawaii.com/product/5ft-10in-bret-eps-swallow-tail-ref-29708/> (referer: https://www.usedsurfboardshawaii.com/page/6/?post_type=product) ['cached']\n",
      "2019-11-16 15:09:29 [scrapy.core.scraper] DEBUG: Scraped from <200 https://www.usedsurfboardshawaii.com/product/6ft-2in-eric-arakawa-amp-round-tail-ref-29740/>\n",
      "{'url': 'https://www.usedsurfboardshawaii.com/product/6ft-2in-eric-arakawa-amp-round-tail-ref-29740/', 'title': '6ft 2in Eric Arakawa (Amp) Round Tail Ref# 29740', 'price': 365.0, 'description': 'Good condition shortboard with light deck pressures but otherwise minimal signs of previous use', 'type': 'Thruster (Future)', 'height': 'H 6’2″', 'width': 'W 18.63″', 'thickness': 'T 2.38″', 'condition': 'Good', 'manufacturer': 'Eric Arakawa'}\n",
      "2019-11-16 15:09:29 [scrapy.core.engine] DEBUG: Crawled (200) <GET https://www.usedsurfboardshawaii.com/product/5ft-10in-johnston-sonic-swallow-tail-ref-29565/> (referer: https://www.usedsurfboardshawaii.com/page/6/?post_type=product) ['cached']\n",
      "2019-11-16 15:09:29 [scrapy.core.scraper] DEBUG: Scraped from <200 https://www.usedsurfboardshawaii.com/product/5ft-9in-j-kashiwai-super-model-squash-tail-ref-29744/>\n",
      "{'url': 'https://www.usedsurfboardshawaii.com/product/5ft-9in-j-kashiwai-super-model-squash-tail-ref-29744/', 'title': '5ft 9in J. Kashiwai (Super Model) Squash Tail Ref# 29744', 'price': 450.0, 'description': 'Good condition shortboard with some deck pressures but otherwise minimal signs of previous use', 'type': 'Thruster (Future)', 'height': 'H 5’9″', 'width': 'W 18 3/4″', 'thickness': 'T 2.31″', 'condition': 'Good', 'manufacturer': 'J. Kashiwai'}\n"
     ]
    },
    {
     "name": "stdout",
     "output_type": "stream",
     "text": [
      "Processing 19 out of 25\n",
      "Processing 20 out of 25\n"
     ]
    },
    {
     "name": "stderr",
     "output_type": "stream",
     "text": [
      "2019-11-16 15:09:30 [scrapy.core.engine] DEBUG: Crawled (200) <GET https://www.usedsurfboardshawaii.com/product/5ft-8in-eric-arakawa-bandit-squash-tail-ref-29707/> (referer: https://www.usedsurfboardshawaii.com/page/6/?post_type=product) ['cached']\n",
      "2019-11-16 15:09:30 [scrapy.core.scraper] DEBUG: Scraped from <200 https://www.usedsurfboardshawaii.com/product/5ft-10in-bret-eps-swallow-tail-ref-29708/>\n",
      "{'url': 'https://www.usedsurfboardshawaii.com/product/5ft-10in-bret-eps-swallow-tail-ref-29708/', 'title': '5ft 10in Bret (EPS) Swallow Tail Ref# 29708', 'price': 299.0, 'description': 'Good condition shortboard with light deck pressures but otherwise minimal signs of previous use', 'type': 'Thruster (Future)', 'height': 'H 5’10”', 'width': 'W 19 1/2″', 'thickness': 'T 2 1/5″', 'condition': 'Good', 'manufacturer': 'Bret'}\n",
      "2019-11-16 15:09:30 [scrapy.core.engine] DEBUG: Crawled (200) <GET https://www.usedsurfboardshawaii.com/product/6ft-tatsuno-round-pin-tail-ref-29709/> (referer: https://www.usedsurfboardshawaii.com/page/6/?post_type=product) ['cached']\n",
      "2019-11-16 15:09:30 [scrapy.core.scraper] DEBUG: Scraped from <200 https://www.usedsurfboardshawaii.com/product/5ft-10in-johnston-sonic-swallow-tail-ref-29565/>\n",
      "{'url': 'https://www.usedsurfboardshawaii.com/product/5ft-10in-johnston-sonic-swallow-tail-ref-29565/', 'title': '5ft 10in Johnston (Sonic) Swallow Tail Ref# 29565', 'price': 275.0, 'description': 'Good condition shortboard with light deck pressures but otherwise minimal signs of previous use', 'type': 'Quad (Future)', 'height': 'H 5’10”', 'width': 'W 21″', 'thickness': 'T 2 7/8″', 'condition': 'Good', 'manufacturer': 'Johnston'}\n"
     ]
    },
    {
     "name": "stdout",
     "output_type": "stream",
     "text": [
      "Processing 21 out of 25\n",
      "Processing 22 out of 25\n"
     ]
    },
    {
     "name": "stderr",
     "output_type": "stream",
     "text": [
      "2019-11-16 15:09:30 [scrapy.core.engine] DEBUG: Crawled (200) <GET https://www.usedsurfboardshawaii.com/product/5ft-10in-ron-jon-squash-tail-ref-29739/> (referer: https://www.usedsurfboardshawaii.com/page/6/?post_type=product) ['cached']\n",
      "2019-11-16 15:09:30 [scrapy.core.scraper] DEBUG: Scraped from <200 https://www.usedsurfboardshawaii.com/product/5ft-8in-eric-arakawa-bandit-squash-tail-ref-29707/>\n",
      "{'url': 'https://www.usedsurfboardshawaii.com/product/5ft-8in-eric-arakawa-bandit-squash-tail-ref-29707/', 'title': '5ft 8in Eric Arakawa (Bandit) Squash Tail Ref# 29707', 'price': 450.0, 'description': 'Good condition shortboard with a few light deck pressures but otherwise minimal signs of previous use', 'type': '5-Fin (Future)', 'height': 'H 5’8″', 'width': 'W 19.25″', 'thickness': 'T 2.31″', 'condition': 'Good', 'manufacturer': 'Arakawa'}\n",
      "2019-11-16 15:09:30 [scrapy.core.engine] DEBUG: Crawled (200) <GET https://www.usedsurfboardshawaii.com/product/6ft-4in-js-squash-tail-ref-29700/> (referer: https://www.usedsurfboardshawaii.com/page/6/?post_type=product) ['cached']\n",
      "2019-11-16 15:09:30 [scrapy.core.scraper] DEBUG: Scraped from <200 https://www.usedsurfboardshawaii.com/product/6ft-tatsuno-round-pin-tail-ref-29709/>\n",
      "{'url': 'https://www.usedsurfboardshawaii.com/product/6ft-tatsuno-round-pin-tail-ref-29709/', 'title': '6ft Tatsuno Round Pin Tail Ref# 29709', 'price': 175.0, 'description': 'Good condition shortboard with light deck pressures but otherwise minimal signs of previous use', 'type': 'Thruster (Future)', 'height': 'H 6’0″', 'width': 'W 18″', 'thickness': 'T 2 1/4″', 'condition': 'Good', 'manufacturer': 'D. Tatsuno'}\n"
     ]
    },
    {
     "name": "stdout",
     "output_type": "stream",
     "text": [
      "Processing 23 out of 25\n",
      "Processing 24 out of 25\n"
     ]
    },
    {
     "name": "stderr",
     "output_type": "stream",
     "text": [
      "2019-11-16 15:09:30 [scrapy.core.engine] DEBUG: Crawled (200) <GET https://www.usedsurfboardshawaii.com/product/6ft-7in-jeff-mack-pin-tail-ref-29723/> (referer: https://www.usedsurfboardshawaii.com/page/6/?post_type=product) ['cached']\n",
      "2019-11-16 15:09:30 [scrapy.core.scraper] DEBUG: Scraped from <200 https://www.usedsurfboardshawaii.com/product/5ft-10in-ron-jon-squash-tail-ref-29739/>\n",
      "{'url': 'https://www.usedsurfboardshawaii.com/product/5ft-10in-ron-jon-squash-tail-ref-29739/', 'title': '5ft 10in Ron Jon Squash Tail Ref# 29739', 'price': 225.0, 'description': 'Good condition hybrid with light deck pressures but otherwise minimal signs of previous use', 'type': 'Thruster (FCS)', 'height': 'H 5’10”', 'width': 'W 19 11/16″', 'thickness': 'T 2 5/8″', 'condition': 'Good', 'manufacturer': 'Ron Jon'}\n",
      "2019-11-16 15:09:30 [scrapy.core.engine] DEBUG: Crawled (200) <GET https://www.usedsurfboardshawaii.com/product/6ft-j-kashiwai-sfo-squash-tail-ref-29728/> (referer: https://www.usedsurfboardshawaii.com/page/6/?post_type=product) ['cached']\n",
      "2019-11-16 15:09:30 [scrapy.core.scraper] DEBUG: Scraped from <200 https://www.usedsurfboardshawaii.com/product/6ft-4in-js-squash-tail-ref-29700/>\n",
      "{'url': 'https://www.usedsurfboardshawaii.com/product/6ft-4in-js-squash-tail-ref-29700/', 'title': '6ft 4in JS Squash Tail Ref# 29700', 'price': 225.0, 'description': 'Fair condition surfboard with various pressures, repair and yellowing from age and previous use', 'type': 'Thruster (FCS)', 'height': 'H 6’4″', 'width': 'W 19″', 'thickness': 'T 2 1/2″', 'condition': 'Fair', 'manufacturer': 'JS'}\n",
      "2019-11-16 15:09:30 [scrapy.core.engine] DEBUG: Crawled (200) <GET https://www.usedsurfboardshawaii.com/page/7/?post_type=product> (referer: https://www.usedsurfboardshawaii.com/page/6/?post_type=product) ['cached']\n",
      "2019-11-16 15:09:30 [scrapy.core.scraper] DEBUG: Scraped from <200 https://www.usedsurfboardshawaii.com/product/6ft-7in-jeff-mack-pin-tail-ref-29723/>\n",
      "{'url': 'https://www.usedsurfboardshawaii.com/product/6ft-7in-jeff-mack-pin-tail-ref-29723/', 'title': '6ft 7in Jeff Mack Pin Tail Ref# 29723', 'price': 299.0, 'description': 'Good condition older fun gun style board with various pressure dents bu otherwise minor signs of previous use', 'type': '2+1 (FCS)', 'height': 'H 6’7″', 'width': 'W 19 1/2″', 'thickness': 'T 2 7/8″', 'condition': 'Good', 'manufacturer': 'Jeff Mack'}\n"
     ]
    },
    {
     "name": "stdout",
     "output_type": "stream",
     "text": [
      "Processing 25 out of 25\n",
      "\n",
      "https://www.usedsurfboardshawaii.com/page/7/?post_type=product\n"
     ]
    },
    {
     "name": "stderr",
     "output_type": "stream",
     "text": [
      "2019-11-16 15:09:30 [scrapy.core.scraper] DEBUG: Scraped from <200 https://www.usedsurfboardshawaii.com/product/6ft-j-kashiwai-sfo-squash-tail-ref-29728/>\n",
      "{'url': 'https://www.usedsurfboardshawaii.com/product/6ft-j-kashiwai-sfo-squash-tail-ref-29728/', 'title': '6ft J. Kashiwai (SFO) Squash Tail Ref# 29728', 'price': 475.0, 'description': 'Good condition shortboard with light deck pressures but otherwise minimal signs of previous use', 'type': 'Thruster (FCS2)', 'height': 'H 6’0″', 'width': 'W 20″\\nT 2 3/4″', 'thickness': None, 'condition': 'Good', 'manufacturer': 'J. Kashiwai'}\n",
      "2019-11-16 15:09:31 [scrapy.dupefilters] DEBUG: Filtered duplicate request: <GET https://www.usedsurfboardshawaii.com/product/6ft-j-kashiwai-sfo-squash-tail-ref-29728/> - no more duplicates will be shown (see DUPEFILTER_DEBUG to show all duplicates)\n"
     ]
    },
    {
     "name": "stdout",
     "output_type": "stream",
     "text": [
      "Total:  25\n",
      "Processing 1 out of 25\n",
      "Processing 2 out of 25\n"
     ]
    },
    {
     "name": "stderr",
     "output_type": "stream",
     "text": [
      "2019-11-16 15:09:31 [scrapy.core.engine] DEBUG: Crawled (200) <GET https://www.usedsurfboardshawaii.com/product/6ft-5in-progression-bonzer5-swallow-tail-ref-29690/> (referer: https://www.usedsurfboardshawaii.com/page/7/?post_type=product) ['cached']\n",
      "2019-11-16 15:09:31 [scrapy.core.engine] DEBUG: Crawled (200) <GET https://www.usedsurfboardshawaii.com/product/6ft-specialized-shapers-squash-tail-red-29633/> (referer: https://www.usedsurfboardshawaii.com/page/7/?post_type=product) ['cached']\n"
     ]
    },
    {
     "name": "stdout",
     "output_type": "stream",
     "text": [
      "Processing 3 out of 25\n",
      "Processing 4 out of 25\n"
     ]
    },
    {
     "name": "stderr",
     "output_type": "stream",
     "text": [
      "2019-11-16 15:09:31 [scrapy.core.engine] DEBUG: Crawled (200) <GET https://www.usedsurfboardshawaii.com/product/10ft-km-hawaii-grom-sup-diamond-tail-ref-27018/> (referer: https://www.usedsurfboardshawaii.com/page/7/?post_type=product) ['cached']\n",
      "2019-11-16 15:09:31 [scrapy.core.scraper] DEBUG: Scraped from <200 https://www.usedsurfboardshawaii.com/product/6ft-5in-progression-bonzer5-swallow-tail-ref-29690/>\n",
      "{'url': 'https://www.usedsurfboardshawaii.com/product/6ft-5in-progression-bonzer5-swallow-tail-ref-29690/', 'title': '6ft 5in Progression (Bonzer5) Swallow Tail Ref# 29690', 'price': 340.0, 'description': 'Fair condition shortboard with light deck pressures and a ding by the nose that would need to be repaired before being water tight', 'type': '4+1 Bonzer (Lokbox)', 'height': 'H 6’5″', 'width': 'W 19 1/2″', 'thickness': 'T 2 3/8″', 'condition': 'Fair', 'manufacturer': 'Progression'}\n",
      "2019-11-16 15:09:31 [scrapy.core.engine] DEBUG: Crawled (200) <GET https://www.usedsurfboardshawaii.com/product/5ft-9in-al-merrick-flyer-squash-tail-ref-29668/> (referer: https://www.usedsurfboardshawaii.com/page/7/?post_type=product) ['cached']\n",
      "2019-11-16 15:09:31 [scrapy.core.scraper] DEBUG: Scraped from <200 https://www.usedsurfboardshawaii.com/product/6ft-specialized-shapers-squash-tail-red-29633/>\n",
      "{'url': 'https://www.usedsurfboardshawaii.com/product/6ft-specialized-shapers-squash-tail-red-29633/', 'title': '6ft Specialized Shapers Squash Tail Red# 29633', 'price': 299.0, 'description': 'Good condition shortboard with light deck pressures but otherwise minimal signs of previous use', 'type': 'Thruster (Future)', 'height': 'H 6’0″', 'width': 'W 19 1/4″', 'thickness': 'T 2.5″', 'condition': 'Good', 'manufacturer': 'Specialized Shapers'}\n"
     ]
    },
    {
     "name": "stdout",
     "output_type": "stream",
     "text": [
      "Processing 5 out of 25\n",
      "Processing 6 out of 25\n"
     ]
    },
    {
     "name": "stderr",
     "output_type": "stream",
     "text": [
      "2019-11-16 15:09:31 [scrapy.core.engine] DEBUG: Crawled (200) <GET https://www.usedsurfboardshawaii.com/product/5ft-7in-south-point-swallow-tail-ref-29635/> (referer: https://www.usedsurfboardshawaii.com/page/7/?post_type=product) ['cached']\n",
      "2019-11-16 15:09:31 [scrapy.core.scraper] DEBUG: Scraped from <200 https://www.usedsurfboardshawaii.com/product/10ft-km-hawaii-grom-sup-diamond-tail-ref-27018/>\n",
      "{'url': 'https://www.usedsurfboardshawaii.com/product/10ft-km-hawaii-grom-sup-diamond-tail-ref-27018/', 'title': '10ft KM Hawaii (Grom SUP) Diamond Tail Ref# 27018', 'price': 200.0, 'description': 'Good condition youth SUP with minimal signs of previous use', 'type': 'Single Fin', 'height': 'H 10’0″', 'width': 'W 25 1/2″', 'thickness': 'T 4 1/2″', 'condition': 'Good', 'manufacturer': 'KM Hawaii'}\n",
      "2019-11-16 15:09:31 [scrapy.core.engine] DEBUG: Crawled (200) <GET https://www.usedsurfboardshawaii.com/product/5ft-7in-hayden-shapes-holy-grail-squash-tail-ref-29597/> (referer: https://www.usedsurfboardshawaii.com/page/7/?post_type=product) ['cached']\n",
      "2019-11-16 15:09:31 [scrapy.core.scraper] DEBUG: Scraped from <200 https://www.usedsurfboardshawaii.com/product/5ft-9in-al-merrick-flyer-squash-tail-ref-29668/>\n",
      "{'url': 'https://www.usedsurfboardshawaii.com/product/5ft-9in-al-merrick-flyer-squash-tail-ref-29668/', 'title': '5ft 9in Al Merrick (Flyer) Squash Tail Ref# 29668', 'price': 585.0, 'description': 'Great condition shortboard with minimal signs of previous use', 'type': 'Thruster (FCS2)', 'height': 'H 5’9″', 'width': 'W 19″', 'thickness': 'T 2 3/8″', 'condition': 'Good, Like New', 'manufacturer': 'Al Merrick'}\n"
     ]
    },
    {
     "name": "stdout",
     "output_type": "stream",
     "text": [
      "Processing 7 out of 25\n",
      "Processing 8 out of 25\n"
     ]
    },
    {
     "name": "stderr",
     "output_type": "stream",
     "text": [
      "2019-11-16 15:09:32 [scrapy.core.engine] DEBUG: Crawled (200) <GET https://www.usedsurfboardshawaii.com/product/5ft-8in-tokoro-eps-k3-round-tail-ref-29590/> (referer: https://www.usedsurfboardshawaii.com/page/7/?post_type=product) ['cached']\n",
      "2019-11-16 15:09:32 [scrapy.core.scraper] DEBUG: Scraped from <200 https://www.usedsurfboardshawaii.com/product/5ft-7in-south-point-swallow-tail-ref-29635/>\n",
      "{'url': 'https://www.usedsurfboardshawaii.com/product/5ft-7in-south-point-swallow-tail-ref-29635/', 'title': '5ft 7in South Point Swallow Tail Ref# 29635', 'price': 399.0, 'description': 'Good condition fish with\\xa0 a few light deck pressures but otherwise minimal signs of previous use', 'type': '5-Fin (FCS)', 'height': 'H 5’7″', 'width': 'W 20 5/8″', 'thickness': 'T 2 1/2″', 'condition': 'Good', 'manufacturer': 'Southpoint'}\n",
      "2019-11-16 15:09:32 [scrapy.core.engine] DEBUG: Crawled (200) <GET https://www.usedsurfboardshawaii.com/product/6ft-8in-gunther-rohn-baby-swallow-tail-ref-29508/> (referer: https://www.usedsurfboardshawaii.com/page/7/?post_type=product) ['cached']\n",
      "2019-11-16 15:09:32 [scrapy.core.scraper] DEBUG: Scraped from <200 https://www.usedsurfboardshawaii.com/product/5ft-7in-hayden-shapes-holy-grail-squash-tail-ref-29597/>\n",
      "{'url': 'https://www.usedsurfboardshawaii.com/product/5ft-7in-hayden-shapes-holy-grail-squash-tail-ref-29597/', 'title': '5ft 7in Hayden Shapes (Holy Grail) Squash Tail Ref# 29597', 'price': 599.0, 'description': 'This shortboard is in good condition with minimal pressure dents.', 'type': 'FCS2 (5 Fin)', 'height': 'H 5′ 7″', 'width': 'W 19 3/4″', 'thickness': 'T 2 3/8″', 'condition': 'Good', 'manufacturer': 'Hayden Shapes'}\n"
     ]
    },
    {
     "name": "stdout",
     "output_type": "stream",
     "text": [
      "Processing 9 out of 25\n",
      "Processing 10 out of 25\n"
     ]
    },
    {
     "name": "stderr",
     "output_type": "stream",
     "text": [
      "2019-11-16 15:09:32 [scrapy.core.engine] DEBUG: Crawled (200) <GET https://www.usedsurfboardshawaii.com/product/5ft-10in-peralta-squash-tail-ref-29520/> (referer: https://www.usedsurfboardshawaii.com/page/7/?post_type=product) ['cached']\n",
      "2019-11-16 15:09:32 [scrapy.core.scraper] DEBUG: Scraped from <200 https://www.usedsurfboardshawaii.com/product/5ft-8in-tokoro-eps-k3-round-tail-ref-29590/>\n",
      "{'url': 'https://www.usedsurfboardshawaii.com/product/5ft-8in-tokoro-eps-k3-round-tail-ref-29590/', 'title': '5ft 8in Tokoro (EPS K3) Round Tail Ref# 29590', 'price': 445.0, 'description': 'This shortboard is in good condition with minimal pressure dents and signs of previous use.', 'type': 'FCS2 (Thruster)', 'height': 'H 5′ 8″', 'width': 'W 18 1/2″', 'thickness': 'T 2 1/4″', 'condition': 'Good', 'manufacturer': 'Tokoro'}\n",
      "2019-11-16 15:09:32 [scrapy.core.engine] DEBUG: Crawled (200) <GET https://www.usedsurfboardshawaii.com/product/6ft-1in-hilo-eps-epoxy-round-tail-ref-29504/> (referer: https://www.usedsurfboardshawaii.com/page/7/?post_type=product) ['cached']\n",
      "2019-11-16 15:09:32 [scrapy.core.scraper] DEBUG: Scraped from <200 https://www.usedsurfboardshawaii.com/product/6ft-8in-gunther-rohn-baby-swallow-tail-ref-29508/>\n",
      "{'url': 'https://www.usedsurfboardshawaii.com/product/6ft-8in-gunther-rohn-baby-swallow-tail-ref-29508/', 'title': '6ft 8in Gunther Rohn Baby Swallow Tail Ref# 29508', 'price': 190.0, 'description': 'This shortboard previously owned by pro surfer Anthony Walsh, is in fair condition with moderate pressure dents.', 'type': 'Future (5 Fin)', 'height': 'H 6′ 8″', 'width': 'W 18 3/8″', 'thickness': 'T 2 3/8″', 'condition': 'Fair', 'manufacturer': 'Gunther Rohn'}\n"
     ]
    },
    {
     "name": "stdout",
     "output_type": "stream",
     "text": [
      "Processing 11 out of 25\n",
      "Processing 12 out of 25\n"
     ]
    },
    {
     "name": "stderr",
     "output_type": "stream",
     "text": [
      "2019-11-16 15:09:32 [scrapy.core.engine] DEBUG: Crawled (200) <GET https://www.usedsurfboardshawaii.com/product/6ft-6in-firewire-tomo-v4-swallow-tail-ref-29538/> (referer: https://www.usedsurfboardshawaii.com/page/7/?post_type=product) ['cached']\n",
      "2019-11-16 15:09:32 [scrapy.core.scraper] DEBUG: Scraped from <200 https://www.usedsurfboardshawaii.com/product/5ft-10in-peralta-squash-tail-ref-29520/>\n",
      "{'url': 'https://www.usedsurfboardshawaii.com/product/5ft-10in-peralta-squash-tail-ref-29520/', 'title': '5ft 10in Peralta Squash Tail Ref# 29520', 'price': 299.0, 'description': 'This big guy board is in fair condition with some light to moderate pressure dents.', 'type': 'FCS2 (5Fin)', 'height': 'H 5′ 10″', 'width': 'W 21″', 'thickness': 'T 2 5/8″', 'condition': 'Fair', 'manufacturer': 'Peralta'}\n",
      "2019-11-16 15:09:32 [scrapy.core.engine] DEBUG: Crawled (200) <GET https://www.usedsurfboardshawaii.com/product/5ft-11in-von-sol-boardworks-epoxy-round-tail-ref-29603/> (referer: https://www.usedsurfboardshawaii.com/page/7/?post_type=product) ['cached']\n",
      "2019-11-16 15:09:32 [scrapy.core.scraper] DEBUG: Scraped from <200 https://www.usedsurfboardshawaii.com/product/6ft-1in-hilo-eps-epoxy-round-tail-ref-29504/>\n",
      "{'url': 'https://www.usedsurfboardshawaii.com/product/6ft-1in-hilo-eps-epoxy-round-tail-ref-29504/', 'title': '6ft 1in Hilo (EPS Epoxy) Round Tail Ref# 29504', 'price': 299.0, 'description': 'This shortboard is in fair condition with moderate pressure dents and from what we can tell, no signs of previously repaired dings.', 'type': 'Future (Thruster)', 'height': 'H 6′ 1″', 'width': 'W 18 1/2″', 'thickness': 'T 2 5/16″', 'condition': 'Fair', 'manufacturer': ''}\n"
     ]
    },
    {
     "name": "stdout",
     "output_type": "stream",
     "text": [
      "Processing 13 out of 25\n",
      "Processing 14 out of 25\n"
     ]
    },
    {
     "name": "stderr",
     "output_type": "stream",
     "text": [
      "2019-11-16 15:09:32 [scrapy.core.engine] DEBUG: Crawled (200) <GET https://www.usedsurfboardshawaii.com/product/6ft-2in-hemanu-round-tail-ref-29584/> (referer: https://www.usedsurfboardshawaii.com/page/7/?post_type=product) ['cached']\n",
      "2019-11-16 15:09:32 [scrapy.core.scraper] DEBUG: Scraped from <200 https://www.usedsurfboardshawaii.com/product/6ft-6in-firewire-tomo-v4-swallow-tail-ref-29538/>\n",
      "{'url': 'https://www.usedsurfboardshawaii.com/product/6ft-6in-firewire-tomo-v4-swallow-tail-ref-29538/', 'title': '6ft 6in Firewire Tomo V4 Swallow Tail Ref# 29538', 'price': 450.0, 'description': 'W ?', 'type': 'Future (5 Fin)', 'height': 'H 6′ 6″', 'width': None, 'thickness': None, 'condition': 'Good', 'manufacturer': 'Tomo'}\n",
      "2019-11-16 15:09:33 [scrapy.core.engine] DEBUG: Crawled (200) <GET https://www.usedsurfboardshawaii.com/product/5ft-4in-lost-v2-rocket-diamond-tail-ref-29608/> (referer: https://www.usedsurfboardshawaii.com/page/7/?post_type=product) ['cached']\n",
      "2019-11-16 15:09:33 [scrapy.core.scraper] DEBUG: Scraped from <200 https://www.usedsurfboardshawaii.com/product/5ft-11in-von-sol-boardworks-epoxy-round-tail-ref-29603/>\n",
      "{'url': 'https://www.usedsurfboardshawaii.com/product/5ft-11in-von-sol-boardworks-epoxy-round-tail-ref-29603/', 'title': '5ft 11in Von Sol (Boardworks Epoxy) Round Tail Ref# 29603', 'price': 575.0, 'description': 'This hybrid/fun board is in excellent condition with very little signs of previous use.', 'type': 'FCS (5 Fin)', 'height': 'H 5′ 11″', 'width': 'W 20 13/16″', 'thickness': 'T 2 1/4″', 'condition': 'Like New', 'manufacturer': 'Von Sol'}\n"
     ]
    },
    {
     "name": "stdout",
     "output_type": "stream",
     "text": [
      "Processing 15 out of 25\n",
      "Processing 16 out of 25\n"
     ]
    },
    {
     "name": "stderr",
     "output_type": "stream",
     "text": [
      "2019-11-16 15:09:33 [scrapy.core.engine] DEBUG: Crawled (200) <GET https://www.usedsurfboardshawaii.com/product/5ft-11in-amundson-squash-tail-ref-29587/> (referer: https://www.usedsurfboardshawaii.com/page/7/?post_type=product) ['cached']\n",
      "2019-11-16 15:09:33 [scrapy.core.scraper] DEBUG: Scraped from <200 https://www.usedsurfboardshawaii.com/product/6ft-2in-hemanu-round-tail-ref-29584/>\n",
      "{'url': 'https://www.usedsurfboardshawaii.com/product/6ft-2in-hemanu-round-tail-ref-29584/', 'title': '6ft 2in Hemanu Round Tail Ref# 29584', 'price': 250.0, 'description': 'This big guy board is in good condition with minimal signs of previous use.', 'type': 'FCS2 (Thruster)', 'height': 'H 6′ 2″', 'width': 'W 20″', 'thickness': 'T 2.75″', 'condition': 'Good', 'manufacturer': 'Hemanu'}\n",
      "2019-11-16 15:09:33 [scrapy.core.engine] DEBUG: Crawled (200) <GET https://www.usedsurfboardshawaii.com/product/5ft-1in-al-merrick-squash-tail-ref-29478/> (referer: https://www.usedsurfboardshawaii.com/page/7/?post_type=product) ['cached']\n",
      "2019-11-16 15:09:33 [scrapy.core.scraper] DEBUG: Scraped from <200 https://www.usedsurfboardshawaii.com/product/5ft-4in-lost-v2-rocket-diamond-tail-ref-29608/>\n",
      "{'url': 'https://www.usedsurfboardshawaii.com/product/5ft-4in-lost-v2-rocket-diamond-tail-ref-29608/', 'title': '5ft 4in Lost (V2 Rocket) Diamond Tail Ref# 29608', 'price': 375.0, 'description': 'This shortboard is in good condition with light signs of previous use and minimal pressure dents.', 'type': 'FCS (5 Fin)', 'height': 'H 5′ 4″', 'width': 'W 18.5″', 'thickness': 'T 2.12″', 'condition': 'Good', 'manufacturer': 'Lost'}\n"
     ]
    },
    {
     "name": "stdout",
     "output_type": "stream",
     "text": [
      "Processing 17 out of 25\n",
      "Processing 18 out of 25\n"
     ]
    },
    {
     "name": "stderr",
     "output_type": "stream",
     "text": [
      "2019-11-16 15:09:33 [scrapy.core.engine] DEBUG: Crawled (200) <GET https://www.usedsurfboardshawaii.com/product/8ft-6in-cannibal-diamond-tail-ref-29235/> (referer: https://www.usedsurfboardshawaii.com/page/7/?post_type=product) ['cached']\n",
      "2019-11-16 15:09:33 [scrapy.core.scraper] DEBUG: Scraped from <200 https://www.usedsurfboardshawaii.com/product/5ft-11in-amundson-squash-tail-ref-29587/>\n",
      "{'url': 'https://www.usedsurfboardshawaii.com/product/5ft-11in-amundson-squash-tail-ref-29587/', 'title': '5ft 11in Amundson Squash Tail Ref# 29587', 'price': 350.0, 'description': 'This big guy board is in fair condition with light pressure dents.', 'type': 'Future (5 Fin) V36.1', 'height': 'H 5′ 11″', 'width': 'W 21″', 'thickness': 'T 2.7″', 'condition': 'Fair', 'manufacturer': 'Amundson'}\n",
      "2019-11-16 15:09:33 [scrapy.core.engine] DEBUG: Crawled (200) <GET https://www.usedsurfboardshawaii.com/product/10ft-4in-keoki-round-pin-tail-ref-29213/> (referer: https://www.usedsurfboardshawaii.com/page/7/?post_type=product) ['cached']\n",
      "2019-11-16 15:09:33 [scrapy.core.scraper] DEBUG: Scraped from <200 https://www.usedsurfboardshawaii.com/product/5ft-1in-al-merrick-squash-tail-ref-29478/>\n",
      "{'url': 'https://www.usedsurfboardshawaii.com/product/5ft-1in-al-merrick-squash-tail-ref-29478/', 'title': '5ft 1in Al Merrick (Joe) Squash Tail Ref# 29478', 'price': 399.0, 'description': 'Good condition groveler with light deck pressures but otherwise minimal signs of previous use', 'type': '5-Fin (FCS)', 'height': 'H 5’1″', 'width': 'W 20 3/8″', 'thickness': 'T 2 1/4″', 'condition': 'Good', 'manufacturer': 'Al Merrick'}\n"
     ]
    },
    {
     "name": "stdout",
     "output_type": "stream",
     "text": [
      "Processing 19 out of 25\n",
      "Processing 20 out of 25\n"
     ]
    },
    {
     "name": "stderr",
     "output_type": "stream",
     "text": [
      "2019-11-16 15:09:33 [scrapy.core.engine] DEBUG: Crawled (200) <GET https://www.usedsurfboardshawaii.com/product/5ft-6in-hoss-co-squash-tail-ref-28945/> (referer: https://www.usedsurfboardshawaii.com/page/7/?post_type=product) ['cached']\n",
      "2019-11-16 15:09:33 [scrapy.core.scraper] DEBUG: Scraped from <200 https://www.usedsurfboardshawaii.com/product/8ft-6in-cannibal-diamond-tail-ref-29235/>\n",
      "{'url': 'https://www.usedsurfboardshawaii.com/product/8ft-6in-cannibal-diamond-tail-ref-29235/', 'title': '8ft 6in Cannibal Diamond Tail Ref# 29235', 'price': 575.0, 'description': 'Good condition Surf SUP with minor signs of previous use.\\xa0 Paddle and fins are included with purchase of this SUP', 'type': '5-Fin (Future)', 'height': 'H 8’6″', 'width': 'W 30″', 'thickness': 'T 4 1/8″', 'condition': 'Good', 'manufacturer': 'Cannibal'}\n",
      "2019-11-16 15:09:33 [scrapy.core.engine] DEBUG: Crawled (200) <GET https://www.usedsurfboardshawaii.com/product/5ft-9in-maurice-cole-dirty-dingo-rounded-squash-tail-ref-29377/> (referer: https://www.usedsurfboardshawaii.com/page/7/?post_type=product) ['cached']\n",
      "2019-11-16 15:09:34 [scrapy.core.scraper] DEBUG: Scraped from <200 https://www.usedsurfboardshawaii.com/product/10ft-4in-keoki-round-pin-tail-ref-29213/>\n",
      "{'url': 'https://www.usedsurfboardshawaii.com/product/10ft-4in-keoki-round-pin-tail-ref-29213/', 'title': '10ft 4in Keoki Round Pin Tail Ref# 29213', 'price': 750.0, 'description': 'Good condition SUPwith some light deck pressures, yellowing and a small puka shown in photo', 'type': '2+ (FCS)', 'height': 'H 10’4″', 'width': 'W 30″', 'thickness': 'T 4.7″', 'condition': 'Good', 'manufacturer': 'Keoki'}\n"
     ]
    },
    {
     "name": "stdout",
     "output_type": "stream",
     "text": [
      "Processing 21 out of 25\n",
      "Processing 22 out of 25\n"
     ]
    },
    {
     "name": "stderr",
     "output_type": "stream",
     "text": [
      "2019-11-16 15:09:34 [scrapy.core.engine] DEBUG: Crawled (200) <GET https://www.usedsurfboardshawaii.com/product/7ft-linden-squash-tail-ref-29115/> (referer: https://www.usedsurfboardshawaii.com/page/7/?post_type=product) ['cached']\n",
      "2019-11-16 15:09:34 [scrapy.core.scraper] DEBUG: Scraped from <200 https://www.usedsurfboardshawaii.com/product/5ft-6in-hoss-co-squash-tail-ref-28945/>\n",
      "{'url': 'https://www.usedsurfboardshawaii.com/product/5ft-6in-hoss-co-squash-tail-ref-28945/', 'title': '5ft 6in Hoss Co Squash Tail Ref# 28945', 'price': 250.0, 'description': 'Good condition shortboard with light deck pressures but otherwise minimal signs of previous use', 'type': 'Thruster (Future)', 'height': 'H 5’6″', 'width': 'W 20″', 'thickness': 'T 2 1/2″', 'condition': 'Good', 'manufacturer': 'Hoss Co.'}\n",
      "2019-11-16 15:09:34 [scrapy.core.engine] DEBUG: Crawled (200) <GET https://www.usedsurfboardshawaii.com/product/5ft-9in-j-kashiwai-round-tail-ref-29338/> (referer: https://www.usedsurfboardshawaii.com/page/7/?post_type=product) ['cached']\n",
      "2019-11-16 15:09:34 [scrapy.core.scraper] DEBUG: Scraped from <200 https://www.usedsurfboardshawaii.com/product/5ft-9in-maurice-cole-dirty-dingo-rounded-squash-tail-ref-29377/>\n",
      "{'url': 'https://www.usedsurfboardshawaii.com/product/5ft-9in-maurice-cole-dirty-dingo-rounded-squash-tail-ref-29377/', 'title': '5ft 9in Maurice Cole (Dirty Dingo) Rounded Squash Tail Ref# 29377', 'price': 499.0, 'description': 'Good condition shortboard with light deck pressures but otherwise minimal signs of previous use', 'type': 'Thruster (Future)', 'height': 'H 5’9″', 'width': 'W 20 1/2″', 'thickness': 'T\\xa0 5/8″', 'condition': 'Good', 'manufacturer': 'Maurice Cole'}\n"
     ]
    },
    {
     "name": "stdout",
     "output_type": "stream",
     "text": [
      "Processing 23 out of 25\n",
      "Processing 24 out of 25\n"
     ]
    },
    {
     "name": "stderr",
     "output_type": "stream",
     "text": [
      "2019-11-16 15:09:34 [scrapy.core.engine] DEBUG: Crawled (200) <GET https://www.usedsurfboardshawaii.com/product/5ft-8in-greg-griffin-swallow-tail-ref-29298/> (referer: https://www.usedsurfboardshawaii.com/page/7/?post_type=product) ['cached']\n",
      "2019-11-16 15:09:34 [scrapy.core.scraper] DEBUG: Scraped from <200 https://www.usedsurfboardshawaii.com/product/7ft-linden-squash-tail-ref-29115/>\n",
      "{'url': 'https://www.usedsurfboardshawaii.com/product/7ft-linden-squash-tail-ref-29115/', 'title': '7ft Linden Squash Tail Ref# 29115', 'price': 299.0, 'description': 'Good condition shortboard with light deck pressures but otherwise minimal signs of previous use', 'type': 'Thruster (Future)', 'height': 'H 7’0″', 'width': 'W 20″', 'thickness': 'T 2 1/2″', 'condition': 'Good', 'manufacturer': 'Linden'}\n",
      "2019-11-16 15:09:34 [scrapy.core.engine] DEBUG: Crawled (200) <GET https://www.usedsurfboardshawaii.com/product/6ft-ben-aipa-sting-swallow-tail-ref-29296/> (referer: https://www.usedsurfboardshawaii.com/page/7/?post_type=product) ['cached']\n",
      "2019-11-16 15:09:34 [scrapy.core.scraper] DEBUG: Scraped from <200 https://www.usedsurfboardshawaii.com/product/5ft-9in-j-kashiwai-round-tail-ref-29338/>\n",
      "{'url': 'https://www.usedsurfboardshawaii.com/product/5ft-9in-j-kashiwai-round-tail-ref-29338/', 'title': '5ft 9in J. Kashiwai Round Tail Ref# 29338', 'price': 265.0, 'description': 'Fair condition shortboard with various light deck pressures and yellowing from age and previous use but otherwise good condition', 'type': 'Thruster (Future)', 'height': 'H 5’9″', 'width': 'W 18 1/8″', 'thickness': 'T 2 3/8″', 'condition': 'Fair', 'manufacturer': 'J. Kashiwai'}\n",
      "2019-11-16 15:09:34 [scrapy.core.engine] DEBUG: Crawled (200) <GET https://www.usedsurfboardshawaii.com/page/8/?post_type=product> (referer: https://www.usedsurfboardshawaii.com/page/7/?post_type=product) ['cached']\n"
     ]
    },
    {
     "name": "stdout",
     "output_type": "stream",
     "text": [
      "Processing 25 out of 25\n",
      "\n",
      "https://www.usedsurfboardshawaii.com/page/8/?post_type=product\n"
     ]
    },
    {
     "name": "stderr",
     "output_type": "stream",
     "text": [
      "2019-11-16 15:09:34 [scrapy.core.scraper] DEBUG: Scraped from <200 https://www.usedsurfboardshawaii.com/product/5ft-8in-greg-griffin-swallow-tail-ref-29298/>\n",
      "{'url': 'https://www.usedsurfboardshawaii.com/product/5ft-8in-greg-griffin-swallow-tail-ref-29298/', 'title': '5ft 8in Greg Griffin Swallow Tail Ref# 29298', 'price': 350.0, 'description': 'Good condition fish with light deck pressures but otherwise minimal signs of previous use', 'type': '5-fin (FCS)', 'height': 'H 5’8″', 'width': 'W 20 1/6″', 'thickness': 'T 2 1/2″', 'condition': 'Good', 'manufacturer': 'Greg Griffin'}\n",
      "2019-11-16 15:09:34 [scrapy.core.scraper] DEBUG: Scraped from <200 https://www.usedsurfboardshawaii.com/product/6ft-ben-aipa-sting-swallow-tail-ref-29296/>\n",
      "{'url': 'https://www.usedsurfboardshawaii.com/product/6ft-ben-aipa-sting-swallow-tail-ref-29296/', 'title': '6ft Ben Aipa (Sting) Swallow Tail Ref# 29296', 'price': 199.0, 'description': 'Good condition shortboard with minimal signs of previous use', 'type': '(Thruster (FCS)', 'height': 'H 6’0″', 'width': 'W 18 3/8″', 'thickness': 'T 2 1/4″', 'condition': 'Good', 'manufacturer': 'Aipa'}\n",
      "2019-11-16 15:09:34 [scrapy.core.engine] DEBUG: Crawled (200) <GET https://www.usedsurfboardshawaii.com/product/5ft-10in-arakawa-k4-squash-tail-ref-29111/> (referer: https://www.usedsurfboardshawaii.com/page/8/?post_type=product) ['cached']\n"
     ]
    },
    {
     "name": "stdout",
     "output_type": "stream",
     "text": [
      "Total:  25\n",
      "Processing 1 out of 25\n",
      "Processing 2 out of 25\n"
     ]
    },
    {
     "name": "stderr",
     "output_type": "stream",
     "text": [
      "2019-11-16 15:09:34 [scrapy.core.engine] DEBUG: Crawled (200) <GET https://www.usedsurfboardshawaii.com/product/5ft-10in-pang-round-tail-ref-29299/> (referer: https://www.usedsurfboardshawaii.com/page/8/?post_type=product) ['cached']\n",
      "2019-11-16 15:09:35 [scrapy.core.engine] DEBUG: Crawled (200) <GET https://www.usedsurfboardshawaii.com/product/9ft-bk-squash-tail-ref-29304/> (referer: https://www.usedsurfboardshawaii.com/page/8/?post_type=product) ['cached']\n",
      "2019-11-16 15:09:35 [scrapy.core.scraper] DEBUG: Scraped from <200 https://www.usedsurfboardshawaii.com/product/5ft-10in-arakawa-k4-squash-tail-ref-29111/>\n",
      "{'url': 'https://www.usedsurfboardshawaii.com/product/5ft-10in-arakawa-k4-squash-tail-ref-29111/', 'title': '5ft 10in Arakawa (K4) Squash Tail Ref# 29111', 'price': 299.0, 'description': 'Good condition shortboard with light deck pressures and a minor ding by the nose but otherwise minimal signs of previous use', 'type': 'Thruster (Future)', 'height': 'H 5’10”', 'width': 'W 18.25″', 'thickness': 'T 2.19″', 'condition': 'Good', 'manufacturer': 'Eric Arakawa'}\n"
     ]
    },
    {
     "name": "stdout",
     "output_type": "stream",
     "text": [
      "Processing 3 out of 25\n",
      "Processing 4 out of 25\n"
     ]
    },
    {
     "name": "stderr",
     "output_type": "stream",
     "text": [
      "2019-11-16 15:09:35 [scrapy.core.engine] DEBUG: Crawled (200) <GET https://www.usedsurfboardshawaii.com/product/6ft-blank-squash-tail-ref-29472/> (referer: https://www.usedsurfboardshawaii.com/page/8/?post_type=product) ['cached']\n",
      "2019-11-16 15:09:35 [scrapy.core.scraper] DEBUG: Scraped from <200 https://www.usedsurfboardshawaii.com/product/5ft-10in-pang-round-tail-ref-29299/>\n",
      "{'url': 'https://www.usedsurfboardshawaii.com/product/5ft-10in-pang-round-tail-ref-29299/', 'title': '5ft 10in Pang Round Tail Ref# 29299', 'price': 299.0, 'description': 'Good condition shortboard with light deck pressures but otherwise minimal signs of previous use', 'type': 'Thruster (Future)', 'height': 'H 5’10”', 'width': 'W 18 1/2″', 'thickness': 'T 2 1/4″', 'condition': 'Good', 'manufacturer': 'Pang'}\n",
      "2019-11-16 15:09:35 [scrapy.core.engine] DEBUG: Crawled (200) <GET https://www.usedsurfboardshawaii.com/product/5ft-10in-hayden-shapes-round-tail-ref-29420/> (referer: https://www.usedsurfboardshawaii.com/page/8/?post_type=product) ['cached']\n",
      "2019-11-16 15:09:35 [scrapy.core.scraper] DEBUG: Scraped from <200 https://www.usedsurfboardshawaii.com/product/9ft-bk-squash-tail-ref-29304/>\n",
      "{'url': 'https://www.usedsurfboardshawaii.com/product/9ft-bk-squash-tail-ref-29304/', 'title': '9ft BK Squash Tail Ref# 29304', 'price': 1200.0, 'description': 'Good condition custom BK Longboard with minimal signs of previous use', 'type': '2+1 (FCS)', 'height': 'H 9’0″', 'width': 'W 21″', 'thickness': 'T 2 7/8″', 'condition': 'Good', 'manufacturer': 'BK Hawaii'}\n"
     ]
    },
    {
     "name": "stdout",
     "output_type": "stream",
     "text": [
      "Processing 5 out of 25\n",
      "Processing 6 out of 25\n"
     ]
    },
    {
     "name": "stderr",
     "output_type": "stream",
     "text": [
      "2019-11-16 15:09:35 [scrapy.core.engine] DEBUG: Crawled (200) <GET https://www.usedsurfboardshawaii.com/product/5ft-11in-pang-crankshaft-squash-tail-ref-29420/> (referer: https://www.usedsurfboardshawaii.com/page/8/?post_type=product) ['cached']\n",
      "2019-11-16 15:09:35 [scrapy.core.scraper] DEBUG: Scraped from <200 https://www.usedsurfboardshawaii.com/product/6ft-blank-squash-tail-ref-29472/>\n",
      "{'url': 'https://www.usedsurfboardshawaii.com/product/6ft-blank-squash-tail-ref-29472/', 'title': '6ft Blank Squash Tail Ref# 29472', 'price': 199.0, 'description': 'Fair condition shortboard with light deck pressures on the deck and a few light pressures on the body as well but otherwise good condition', 'type': 'Thruster (Future)', 'height': 'H 6’0″', 'width': 'W 20 1/2″', 'thickness': 'T 2 1/2″', 'condition': 'Fair', 'manufacturer': 'Blank'}\n",
      "2019-11-16 15:09:35 [scrapy.core.engine] DEBUG: Crawled (200) <GET https://www.usedsurfboardshawaii.com/product/6ft-minami-square-tail-ref-29447/> (referer: https://www.usedsurfboardshawaii.com/page/8/?post_type=product) ['cached']\n",
      "2019-11-16 15:09:35 [scrapy.core.scraper] DEBUG: Scraped from <200 https://www.usedsurfboardshawaii.com/product/5ft-10in-hayden-shapes-round-tail-ref-29420/>\n",
      "{'url': 'https://www.usedsurfboardshawaii.com/product/5ft-10in-hayden-shapes-round-tail-ref-29420/', 'title': '5ft 10in Hayden Shapes Round Tail Ref# 29420', 'price': 299.0, 'description': 'Poor condition shortboard with a lot of repairs needed.\\xa0 Rail is soft, multiple pressure dents both on deck and bottom of board, all shown in photos.', 'type': 'Thruster (Future)', 'height': 'H 5’10”', 'width': 'W 20 1/4″', 'thickness': 'T 2 9/16″', 'condition': 'Poor', 'manufacturer': 'Hayden Shapes'}\n"
     ]
    },
    {
     "name": "stdout",
     "output_type": "stream",
     "text": [
      "Processing 7 out of 25\n",
      "Processing 8 out of 25\n"
     ]
    },
    {
     "name": "stderr",
     "output_type": "stream",
     "text": [
      "2019-11-16 15:09:35 [scrapy.core.engine] DEBUG: Crawled (200) <GET https://www.usedsurfboardshawaii.com/product/6ft-2in-lost-round-pin-tail-ref-29433/> (referer: https://www.usedsurfboardshawaii.com/page/8/?post_type=product) ['cached']\n",
      "2019-11-16 15:09:35 [scrapy.core.scraper] DEBUG: Scraped from <200 https://www.usedsurfboardshawaii.com/product/5ft-11in-pang-crankshaft-squash-tail-ref-29420/>\n",
      "{'url': 'https://www.usedsurfboardshawaii.com/product/5ft-11in-pang-crankshaft-squash-tail-ref-29420/', 'title': '5ft 11in Pang (Crankshaft) Squash Tail Ref# 29420', 'price': 375.0, 'description': 'Good condition shortboard with light deck pressures but otherwise minimal signs of previous use', 'type': '5-Fin (Future)', 'height': 'H 5’11”', 'width': 'W 19 1/2″', 'thickness': 'T 2 9/16″', 'condition': 'Good', 'manufacturer': 'Pang'}\n",
      "2019-11-16 15:09:36 [scrapy.core.engine] DEBUG: Crawled (200) <GET https://www.usedsurfboardshawaii.com/product/6ft-2in-lost-round-tail-ref-29406/> (referer: https://www.usedsurfboardshawaii.com/page/8/?post_type=product) ['cached']\n",
      "2019-11-16 15:09:36 [scrapy.core.scraper] DEBUG: Scraped from <200 https://www.usedsurfboardshawaii.com/product/6ft-minami-square-tail-ref-29447/>\n",
      "{'url': 'https://www.usedsurfboardshawaii.com/product/6ft-minami-square-tail-ref-29447/', 'title': '6ft Minami Square Tail Ref# 29447', 'price': 385.0, 'description': 'Fair condition shortboard with light deck pressures and a minor buckling shown in photos', 'type': 'Thruster (Future)', 'height': 'H 6’0″', 'width': 'W 18 5/8″', 'thickness': 'T 2 5/8″', 'condition': 'Fair', 'manufacturer': 'Minami'}\n"
     ]
    },
    {
     "name": "stdout",
     "output_type": "stream",
     "text": [
      "Processing 9 out of 25\n",
      "Processing 10 out of 25\n"
     ]
    },
    {
     "name": "stderr",
     "output_type": "stream",
     "text": [
      "2019-11-16 15:09:36 [scrapy.core.engine] DEBUG: Crawled (200) <GET https://www.usedsurfboardshawaii.com/product/5ft-8-in-eric-arakawa-squash-tail-ref-29400/> (referer: https://www.usedsurfboardshawaii.com/page/8/?post_type=product) ['cached']\n",
      "2019-11-16 15:09:36 [scrapy.core.scraper] DEBUG: Scraped from <200 https://www.usedsurfboardshawaii.com/product/6ft-2in-lost-round-pin-tail-ref-29433/>\n",
      "{'url': 'https://www.usedsurfboardshawaii.com/product/6ft-2in-lost-round-pin-tail-ref-29433/', 'title': '6ft 2in Lost Round Pin Tail Ref# 29433', 'price': 299.0, 'description': 'This shortboard is in fair condition with moderate-deeper pressure dents. Fins are included.', 'type': 'Future (Quad)', 'height': 'H 6′ 2″', 'width': 'W 18.75″', 'thickness': 'T 2.65″', 'condition': 'Fair', 'manufacturer': 'Lost'}\n",
      "2019-11-16 15:09:36 [scrapy.core.engine] DEBUG: Crawled (200) <GET https://www.usedsurfboardshawaii.com/product/5ft-10in-fatboy-squash-tail-ref-29453/> (referer: https://www.usedsurfboardshawaii.com/page/8/?post_type=product) ['cached']\n",
      "2019-11-16 15:09:36 [scrapy.core.scraper] DEBUG: Scraped from <200 https://www.usedsurfboardshawaii.com/product/6ft-2in-lost-round-tail-ref-29406/>\n",
      "{'url': 'https://www.usedsurfboardshawaii.com/product/6ft-2in-lost-round-tail-ref-29406/', 'title': '6ft 2in Lost Round Tail Ref# 29406', 'price': 499.0, 'description': 'This shortboard is in good condition, it has a few pressure dents and light signs of previous\\xa0 use.', 'type': 'Future (Thruster) V28.30', 'height': 'H 6′ 2″', 'width': 'W\\xa0 18.63″', 'thickness': 'T 2.39″', 'condition': 'Good', 'manufacturer': 'Lost'}\n"
     ]
    },
    {
     "name": "stdout",
     "output_type": "stream",
     "text": [
      "Processing 11 out of 25\n",
      "Processing 12 out of 25\n"
     ]
    },
    {
     "name": "stderr",
     "output_type": "stream",
     "text": [
      "2019-11-16 15:09:36 [scrapy.core.engine] DEBUG: Crawled (200) <GET https://www.usedsurfboardshawaii.com/product/5ft-tokoro-squash-tail-ref-29452/> (referer: https://www.usedsurfboardshawaii.com/page/8/?post_type=product) ['cached']\n",
      "2019-11-16 15:09:36 [scrapy.core.scraper] DEBUG: Scraped from <200 https://www.usedsurfboardshawaii.com/product/5ft-8-in-eric-arakawa-squash-tail-ref-29400/>\n",
      "{'url': 'https://www.usedsurfboardshawaii.com/product/5ft-8-in-eric-arakawa-squash-tail-ref-29400/', 'title': '5ft 8 in Eric Arakawa Squash Tail Ref# 29400', 'price': 299.0, 'description': 'This shortboard is in fair condition with several pressure dents and a previous repaired ding on the belly.', 'type': 'FCS2 (Thruster)', 'height': 'H 5′ 8″', 'width': 'W 18 1/2″', 'thickness': 'T 2 1/4″', 'condition': 'Fair', 'manufacturer': 'Eric Arakawa'}\n",
      "2019-11-16 15:09:36 [scrapy.core.engine] DEBUG: Crawled (200) <GET https://www.usedsurfboardshawaii.com/product/5ft-4in-dennis-pang-round-pin-tail-ref-29283/> (referer: https://www.usedsurfboardshawaii.com/page/8/?post_type=product) ['cached']\n",
      "2019-11-16 15:09:36 [scrapy.core.scraper] DEBUG: Scraped from <200 https://www.usedsurfboardshawaii.com/product/5ft-10in-fatboy-squash-tail-ref-29453/>\n",
      "{'url': 'https://www.usedsurfboardshawaii.com/product/5ft-10in-fatboy-squash-tail-ref-29453/', 'title': '5ft 10in Fatboy Squash Tail Ref# 29453', 'price': 225.0, 'description': 'This shortboard is in fair condition with some yellowing and minimal pressure dents.', 'type': 'FCS (5 Fin)', 'height': 'H 5′ 10″', 'width': 'W 19 1/2″', 'thickness': 'T 2 3/8″', 'condition': 'Fair', 'manufacturer': 'Fatboy'}\n"
     ]
    },
    {
     "name": "stdout",
     "output_type": "stream",
     "text": [
      "Processing 13 out of 25\n",
      "Processing 14 out of 25\n"
     ]
    },
    {
     "name": "stderr",
     "output_type": "stream",
     "text": [
      "2019-11-16 15:09:36 [scrapy.core.engine] DEBUG: Crawled (200) <GET https://www.usedsurfboardshawaii.com/product/5ft-4in-dennis-pang-squash-tail-ref-29282/> (referer: https://www.usedsurfboardshawaii.com/page/8/?post_type=product) ['cached']\n",
      "2019-11-16 15:09:36 [scrapy.core.scraper] DEBUG: Scraped from <200 https://www.usedsurfboardshawaii.com/product/5ft-tokoro-squash-tail-ref-29452/>\n",
      "{'url': 'https://www.usedsurfboardshawaii.com/product/5ft-tokoro-squash-tail-ref-29452/', 'title': '5ft Tokoro Squash Tail Ref# 29452', 'price': 225.0, 'description': 'This grom board is in fair condition with some pressure dents and yellowing.', 'type': 'FCS (Thruster)', 'height': 'H 5′', 'width': 'W 18 1/4″', 'thickness': 'T 2\\xa0 1/4″', 'condition': 'Fair', 'manufacturer': 'Tokoro'}\n",
      "2019-11-16 15:09:36 [scrapy.core.engine] DEBUG: Crawled (200) <GET https://www.usedsurfboardshawaii.com/product/5ft-9in-eric-arakawa-bandit-squash-tail-ref-28677/> (referer: https://www.usedsurfboardshawaii.com/page/8/?post_type=product) ['cached']\n",
      "2019-11-16 15:09:36 [scrapy.core.scraper] DEBUG: Scraped from <200 https://www.usedsurfboardshawaii.com/product/5ft-4in-dennis-pang-round-pin-tail-ref-29283/>\n",
      "{'url': 'https://www.usedsurfboardshawaii.com/product/5ft-4in-dennis-pang-round-pin-tail-ref-29283/', 'title': '5ft 4in Dennis Pang Round Pin Tail Ref# 29283', 'price': 199.0, 'description': 'Good condition grom board with light deck pressures but otherwise minimal signs of previous use', 'type': 'Thruster (FCS2)', 'height': 'H 5’4″', 'width': 'W 17 7/8″', 'thickness': 'T 2 1/4″', 'condition': 'Fair', 'manufacturer': 'D.Pang, Dennis Pang, Pang'}\n"
     ]
    },
    {
     "name": "stdout",
     "output_type": "stream",
     "text": [
      "Processing 15 out of 25\n",
      "Processing 16 out of 25\n"
     ]
    },
    {
     "name": "stderr",
     "output_type": "stream",
     "text": [
      "2019-11-16 15:09:37 [scrapy.core.engine] DEBUG: Crawled (200) <GET https://www.usedsurfboardshawaii.com/product/6ft-3in-wrv-round-tail-ref-29089/> (referer: https://www.usedsurfboardshawaii.com/page/8/?post_type=product) ['cached']\n",
      "2019-11-16 15:09:37 [scrapy.core.scraper] DEBUG: Scraped from <200 https://www.usedsurfboardshawaii.com/product/5ft-4in-dennis-pang-squash-tail-ref-29282/>\n",
      "{'url': 'https://www.usedsurfboardshawaii.com/product/5ft-4in-dennis-pang-squash-tail-ref-29282/', 'title': '5ft 4in Dennis Pang Squash Tail Ref# 29282', 'price': 225.0, 'description': 'Good condition grom board with light deck pressures but otherwise minimal signs of previous use', 'type': 'Thruster (FCS2)', 'height': 'H 5’4″', 'width': 'W 17 7/8″', 'thickness': 'T 2 1/4″', 'condition': 'Good', 'manufacturer': 'D.Pang, Dennis Pang, Pang'}\n",
      "2019-11-16 15:09:37 [scrapy.core.engine] DEBUG: Crawled (200) <GET https://www.usedsurfboardshawaii.com/product/5ft-9in-stretch-f4-bat-tail-ref-29272/> (referer: https://www.usedsurfboardshawaii.com/page/8/?post_type=product) ['cached']\n",
      "2019-11-16 15:09:37 [scrapy.core.scraper] DEBUG: Scraped from <200 https://www.usedsurfboardshawaii.com/product/5ft-9in-eric-arakawa-bandit-squash-tail-ref-28677/>\n",
      "{'url': 'https://www.usedsurfboardshawaii.com/product/5ft-9in-eric-arakawa-bandit-squash-tail-ref-28677/', 'title': '5ft 9in Eric Arakawa (Bandit) Squash Tail Ref# 28677', 'price': 499.0, 'description': 'Good condition shortboard with light deck pressures but otherwise minimal signs of previous use', 'type': 'Thruster (future)', 'height': 'H 5’9″', 'width': 'W 19″', 'thickness': 'T 2.45″', 'condition': 'Good', 'manufacturer': 'Eric Arakawa'}\n"
     ]
    },
    {
     "name": "stdout",
     "output_type": "stream",
     "text": [
      "Processing 17 out of 25\n",
      "Processing 18 out of 25\n"
     ]
    },
    {
     "name": "stderr",
     "output_type": "stream",
     "text": [
      "2019-11-16 15:09:37 [scrapy.core.engine] DEBUG: Crawled (200) <GET https://www.usedsurfboardshawaii.com/product/6ft-10in-tropical-blends-bat-tail-ref-29202/> (referer: https://www.usedsurfboardshawaii.com/page/8/?post_type=product) ['cached']\n",
      "2019-11-16 15:09:37 [scrapy.core.scraper] DEBUG: Scraped from <200 https://www.usedsurfboardshawaii.com/product/6ft-3in-wrv-round-tail-ref-29089/>\n",
      "{'url': 'https://www.usedsurfboardshawaii.com/product/6ft-3in-wrv-round-tail-ref-29089/', 'title': '6ft 3in WRV Round Tail Ref# 29089', 'price': 270.0, 'description': 'Fair condition shortboard with various light deck pressures and one minor ding that will need to be repaired in order for the board to be water tight', 'type': 'Thruster (Future)', 'height': 'H 6’3″', 'width': 'W 19″', 'thickness': 'T 2 5/16″', 'condition': 'Fair', 'manufacturer': 'WRV'}\n",
      "2019-11-16 15:09:37 [scrapy.core.engine] DEBUG: Crawled (200) <GET https://www.usedsurfboardshawaii.com/product/5ft-9in-js-blackbox-round-tail-ref-29189/> (referer: https://www.usedsurfboardshawaii.com/page/8/?post_type=product) ['cached']\n",
      "2019-11-16 15:09:37 [scrapy.core.scraper] DEBUG: Scraped from <200 https://www.usedsurfboardshawaii.com/product/5ft-9in-stretch-f4-bat-tail-ref-29272/>\n",
      "{'url': 'https://www.usedsurfboardshawaii.com/product/5ft-9in-stretch-f4-bat-tail-ref-29272/', 'title': '5ft 9in Stretch (F4) Bat Tail Ref# 29272', 'price': 299.0, 'description': 'Good condition shortboard with light deck pressures but otherwise minimal signs of previous use', 'type': 'Quad (FCS)', 'height': 'H 5’9″', 'width': 'W 18.7″', 'thickness': 'T 2.19″', 'condition': 'Good', 'manufacturer': 'Stretch'}\n"
     ]
    },
    {
     "name": "stdout",
     "output_type": "stream",
     "text": [
      "Processing 19 out of 25\n",
      "Processing 20 out of 25\n"
     ]
    },
    {
     "name": "stderr",
     "output_type": "stream",
     "text": [
      "2019-11-16 15:09:37 [scrapy.core.engine] DEBUG: Crawled (200) <GET https://www.usedsurfboardshawaii.com/product/5ft-8in-bret-aka-bird-swallow-tail-ref-29211/> (referer: https://www.usedsurfboardshawaii.com/page/8/?post_type=product) ['cached']\n",
      "2019-11-16 15:09:37 [scrapy.core.scraper] DEBUG: Scraped from <200 https://www.usedsurfboardshawaii.com/product/6ft-10in-tropical-blends-bat-tail-ref-29202/>\n",
      "{'url': 'https://www.usedsurfboardshawaii.com/product/6ft-10in-tropical-blends-bat-tail-ref-29202/', 'title': '6ft 10in Tropical Blends Bat Tail Ref# 29202', 'price': 599.0, 'description': 'Good condition big guy shortboard with light deck pressures but otherwise minimal signs of previous use', 'type': 'Quad (Future)', 'height': 'H 6’10”', 'width': 'W 20 1/4″', 'thickness': 'T 2 5/8″', 'condition': 'Good', 'manufacturer': 'Tropic Blends'}\n",
      "2019-11-16 15:09:37 [scrapy.core.engine] DEBUG: Crawled (200) <GET https://www.usedsurfboardshawaii.com/product/5ft-10in-eric-arakawa-pulse-round-tail-ref-29273/> (referer: https://www.usedsurfboardshawaii.com/page/8/?post_type=product) ['cached']\n",
      "2019-11-16 15:09:37 [scrapy.core.scraper] DEBUG: Scraped from <200 https://www.usedsurfboardshawaii.com/product/5ft-9in-js-blackbox-round-tail-ref-29189/>\n",
      "{'url': 'https://www.usedsurfboardshawaii.com/product/5ft-9in-js-blackbox-round-tail-ref-29189/', 'title': '5ft 9in JS (BlackBox) Round Tail Ref# 29189', 'price': 325.0, 'description': 'Good condition shortboard with\\xa0 a few previous repairs that appear to be professional and some light deck pressures but otherwise minimal signs of previous use', 'type': '5-fin (FCS2)', 'height': 'H 5’9″', 'width': 'W 19 5/8″', 'thickness': 'T 2 5/16″', 'condition': 'Good', 'manufacturer': 'JS'}\n"
     ]
    },
    {
     "name": "stdout",
     "output_type": "stream",
     "text": [
      "Processing 21 out of 25\n",
      "Processing 22 out of 25\n"
     ]
    },
    {
     "name": "stderr",
     "output_type": "stream",
     "text": [
      "2019-11-16 15:09:37 [scrapy.core.engine] DEBUG: Crawled (200) <GET https://www.usedsurfboardshawaii.com/product/6ft-j-kashiwai-buzzsaw-squash-tail-ref-29214/> (referer: https://www.usedsurfboardshawaii.com/page/8/?post_type=product) ['cached']\n",
      "2019-11-16 15:09:38 [scrapy.core.scraper] DEBUG: Scraped from <200 https://www.usedsurfboardshawaii.com/product/5ft-8in-bret-aka-bird-swallow-tail-ref-29211/>\n",
      "{'url': 'https://www.usedsurfboardshawaii.com/product/5ft-8in-bret-aka-bird-swallow-tail-ref-29211/', 'title': '5ft 8in Bret (AKA Bird) Swallow Tail Ref# 29211', 'price': 225.0, 'description': 'Fair condition shortboard with various pressure dents and dings', 'type': 'Thruster (Future)', 'height': 'H 5’8″', 'width': 'W 18.75″', 'thickness': 'T 2.36', 'condition': 'Fair', 'manufacturer': 'Bret'}\n",
      "2019-11-16 15:09:38 [scrapy.core.engine] DEBUG: Crawled (200) <GET https://www.usedsurfboardshawaii.com/product/5ft-11in-drift-squash-tail-ref-29218/> (referer: https://www.usedsurfboardshawaii.com/page/8/?post_type=product) ['cached']\n",
      "2019-11-16 15:09:38 [scrapy.core.scraper] DEBUG: Scraped from <200 https://www.usedsurfboardshawaii.com/product/5ft-10in-eric-arakawa-pulse-round-tail-ref-29273/>\n",
      "{'url': 'https://www.usedsurfboardshawaii.com/product/5ft-10in-eric-arakawa-pulse-round-tail-ref-29273/', 'title': '5ft 10in Eric Arakawa (Pulse) Round Tail Ref# 29273', 'price': 299.0, 'description': 'Good condition shortboard with light deck pressures and two previous repairs (shown in pictures) but otherwise minimal signs of previous use', 'type': '5-Fin (FCS2)', 'height': 'H 5’10”', 'width': 'W 20″', 'thickness': 'T 2 1/2″', 'condition': 'Good', 'manufacturer': 'Eric Arakawa'}\n"
     ]
    },
    {
     "name": "stdout",
     "output_type": "stream",
     "text": [
      "Processing 23 out of 25\n",
      "Processing 24 out of 25\n"
     ]
    },
    {
     "name": "stderr",
     "output_type": "stream",
     "text": [
      "2019-11-16 15:09:38 [scrapy.core.engine] DEBUG: Crawled (200) <GET https://www.usedsurfboardshawaii.com/product/5ft-10in-al-merrick-fred-stubble-squash-tail-ref-29210/> (referer: https://www.usedsurfboardshawaii.com/page/8/?post_type=product) ['cached']\n",
      "2019-11-16 15:09:38 [scrapy.core.scraper] DEBUG: Scraped from <200 https://www.usedsurfboardshawaii.com/product/6ft-j-kashiwai-buzzsaw-squash-tail-ref-29214/>\n",
      "{'url': 'https://www.usedsurfboardshawaii.com/product/6ft-j-kashiwai-buzzsaw-squash-tail-ref-29214/', 'title': '6ft J. Kashiwai (BuzzSaw) Squash Tail Ref# 29214', 'price': 299.0, 'description': 'Good condition shortboard with light deck pressures but otherwise minimal signs of previous use', 'type': 'Thruster (Future)', 'height': 'H 6’0″', 'width': 'W 18 3/4″', 'thickness': 'T 2 3/8″', 'condition': 'Good', 'manufacturer': 'J. Kashiwai'}\n",
      "2019-11-16 15:09:38 [scrapy.core.engine] DEBUG: Crawled (200) <GET https://www.usedsurfboardshawaii.com/product/6ft-stacey-squash-tail-ref-29206/> (referer: https://www.usedsurfboardshawaii.com/page/8/?post_type=product) ['cached']\n",
      "2019-11-16 15:09:38 [scrapy.core.scraper] DEBUG: Scraped from <200 https://www.usedsurfboardshawaii.com/product/5ft-11in-drift-squash-tail-ref-29218/>\n",
      "{'url': 'https://www.usedsurfboardshawaii.com/product/5ft-11in-drift-squash-tail-ref-29218/', 'title': '5ft 11in Drift Squash Tail Ref# 29218', 'price': 399.0, 'description': 'Good condition short board with light deck pressures but otherwise minimal signs of previous use', 'type': '5-Fin (Future)', 'height': 'H 5’11”', 'width': 'W 19 3/4″', 'thickness': 'T 2 5/8″', 'condition': 'Good', 'manufacturer': 'Drift'}\n",
      "2019-11-16 15:09:38 [scrapy.core.engine] DEBUG: Crawled (200) <GET https://www.usedsurfboardshawaii.com/page/9/?post_type=product> (referer: https://www.usedsurfboardshawaii.com/page/8/?post_type=product) ['cached']\n",
      "2019-11-16 15:09:38 [scrapy.core.scraper] DEBUG: Scraped from <200 https://www.usedsurfboardshawaii.com/product/5ft-10in-al-merrick-fred-stubble-squash-tail-ref-29210/>\n",
      "{'url': 'https://www.usedsurfboardshawaii.com/product/5ft-10in-al-merrick-fred-stubble-squash-tail-ref-29210/', 'title': '5ft 10in Al Merrick (Fred Stubble) Squash Tail Ref# 29210', 'price': 325.0, 'description': 'Fair condition shortboard with various pressure dents.\\xa0 Previously surfed by Dillon Perillo', 'type': 'Thruster (Future)', 'height': 'H 5’10”', 'width': 'W 18 1/2″', 'thickness': 'T 2 5/16″', 'condition': 'Fair', 'manufacturer': 'Al Merrick'}\n"
     ]
    },
    {
     "name": "stdout",
     "output_type": "stream",
     "text": [
      "Processing 25 out of 25\n",
      "\n",
      "https://www.usedsurfboardshawaii.com/page/9/?post_type=product\n"
     ]
    },
    {
     "name": "stderr",
     "output_type": "stream",
     "text": [
      "2019-11-16 15:09:38 [scrapy.core.scraper] DEBUG: Scraped from <200 https://www.usedsurfboardshawaii.com/product/6ft-stacey-squash-tail-ref-29206/>\n",
      "{'url': 'https://www.usedsurfboardshawaii.com/product/6ft-stacey-squash-tail-ref-29206/', 'title': '6ft Stacey Squash Tail Ref# 29206', 'price': 325.0, 'description': 'Fair condition Short board with various pressure dents as shown in photos', 'type': 'Thruster (Future)', 'height': 'H 6’0″', 'width': 'W 18 3/4″', 'thickness': 'T 2 5/16″', 'condition': 'Fair', 'manufacturer': 'Stacey'}\n",
      "2019-11-16 15:09:38 [scrapy.core.engine] DEBUG: Crawled (200) <GET https://www.usedsurfboardshawaii.com/product/6ft-lost-chris-ward-round-tail-ref-29208/> (referer: https://www.usedsurfboardshawaii.com/page/9/?post_type=product) ['cached']\n"
     ]
    },
    {
     "name": "stdout",
     "output_type": "stream",
     "text": [
      "Total:  25\n",
      "Processing 1 out of 25\n",
      "Processing 2 out of 25\n"
     ]
    },
    {
     "name": "stderr",
     "output_type": "stream",
     "text": [
      "2019-11-16 15:09:38 [scrapy.core.engine] DEBUG: Crawled (200) <GET https://www.usedsurfboardshawaii.com/product/6ft-2in-kahanamoku-sons-squash-tail-ref-29233/> (referer: https://www.usedsurfboardshawaii.com/page/9/?post_type=product) ['cached']\n",
      "2019-11-16 15:09:38 [scrapy.core.engine] DEBUG: Crawled (200) <GET https://www.usedsurfboardshawaii.com/product/6ft-al-merrick-nat-young-squash-tail-ref-29205/> (referer: https://www.usedsurfboardshawaii.com/page/9/?post_type=product) ['cached']\n",
      "2019-11-16 15:09:38 [scrapy.core.scraper] DEBUG: Scraped from <200 https://www.usedsurfboardshawaii.com/product/6ft-lost-chris-ward-round-tail-ref-29208/>\n",
      "{'url': 'https://www.usedsurfboardshawaii.com/product/6ft-lost-chris-ward-round-tail-ref-29208/', 'title': '6ft Lost (Chris Ward) Round Tail Ref# 29208', 'price': 245.0, 'description': 'This shortboard is in fair condition with various pressure dents and multiple dings.', 'type': '(Thruster) FCS', 'height': 'H 6′', 'width': 'W 18.75″', 'thickness': 'T 2.32″', 'condition': 'Fair', 'manufacturer': 'Lost'}\n"
     ]
    },
    {
     "name": "stdout",
     "output_type": "stream",
     "text": [
      "Processing 3 out of 25\n",
      "Processing 4 out of 25\n"
     ]
    },
    {
     "name": "stderr",
     "output_type": "stream",
     "text": [
      "2019-11-16 15:09:39 [scrapy.core.engine] DEBUG: Crawled (200) <GET https://www.usedsurfboardshawaii.com/product/6ft-4in-hayden-shapes-shredsled-round-pin-tail-ref-29184/> (referer: https://www.usedsurfboardshawaii.com/page/9/?post_type=product) ['cached']\n",
      "2019-11-16 15:09:39 [scrapy.core.scraper] DEBUG: Scraped from <200 https://www.usedsurfboardshawaii.com/product/6ft-2in-kahanamoku-sons-squash-tail-ref-29233/>\n",
      "{'url': 'https://www.usedsurfboardshawaii.com/product/6ft-2in-kahanamoku-sons-squash-tail-ref-29233/', 'title': '6ft 2in Kahanamoku Sons Squash Tail Ref# 29233', 'price': 325.0, 'description': 'This Shortboard is in good condition with minimal pressure dents.', 'type': '(Thruster) Future', 'height': 'H 6′ 2″', 'width': 'W 18 3/4″', 'thickness': 'T 2 3/8″', 'condition': 'Good', 'manufacturer': 'Kahanamoku Sons'}\n",
      "2019-11-16 15:09:39 [scrapy.core.engine] DEBUG: Crawled (200) <GET https://www.usedsurfboardshawaii.com/product/6ft-6in-surftech-spitfire-winged-swallow-tail-ref-29173/> (referer: https://www.usedsurfboardshawaii.com/page/9/?post_type=product) ['cached']\n",
      "2019-11-16 15:09:39 [scrapy.core.scraper] DEBUG: Scraped from <200 https://www.usedsurfboardshawaii.com/product/6ft-al-merrick-nat-young-squash-tail-ref-29205/>\n",
      "{'url': 'https://www.usedsurfboardshawaii.com/product/6ft-al-merrick-nat-young-squash-tail-ref-29205/', 'title': '6ft Al Merrick (Nat Young) Squash Tail Ref# 29205', 'price': 355.0, 'description': 'This shortboard is in fair condition with moderate pressure denting.', 'type': 'FCS2 (Thruster)', 'height': 'H 6′', 'width': 'W 18 5/8″', 'thickness': 'T 2 3/16″', 'condition': 'Fair', 'manufacturer': 'Al Merrick'}\n"
     ]
    },
    {
     "name": "stdout",
     "output_type": "stream",
     "text": [
      "Processing 5 out of 25\n",
      "Processing 6 out of 25\n"
     ]
    },
    {
     "name": "stderr",
     "output_type": "stream",
     "text": [
      "2019-11-16 15:09:39 [scrapy.core.engine] DEBUG: Crawled (200) <GET https://www.usedsurfboardshawaii.com/product/6ft-8in-anacapa-glider-squash-tail-ref-28947/> (referer: https://www.usedsurfboardshawaii.com/page/9/?post_type=product) ['cached']\n",
      "2019-11-16 15:09:39 [scrapy.core.scraper] DEBUG: Scraped from <200 https://www.usedsurfboardshawaii.com/product/6ft-4in-hayden-shapes-shredsled-round-pin-tail-ref-29184/>\n",
      "{'url': 'https://www.usedsurfboardshawaii.com/product/6ft-4in-hayden-shapes-shredsled-round-pin-tail-ref-29184/', 'title': '6ft 4in Hayden Shapes (ShredSled) Round Pin Tail Ref# 29184', 'price': 450.0, 'description': 'Good condition shortboard with light deck pressures but otherwise minimal signs of previous use', 'type': '5-Fin (Future)', 'height': 'H 6’4″', 'width': 'W 20 1/4″', 'thickness': 'T 2 5/8″', 'condition': 'Good', 'manufacturer': 'Hayden Shapes'}\n",
      "2019-11-16 15:09:39 [scrapy.core.engine] DEBUG: Crawled (200) <GET https://www.usedsurfboardshawaii.com/product/5ft-10in-pang-squash-tail-ref-28895/> (referer: https://www.usedsurfboardshawaii.com/page/9/?post_type=product) ['cached']\n",
      "2019-11-16 15:09:39 [scrapy.core.scraper] DEBUG: Scraped from <200 https://www.usedsurfboardshawaii.com/product/6ft-6in-surftech-spitfire-winged-swallow-tail-ref-29173/>\n",
      "{'url': 'https://www.usedsurfboardshawaii.com/product/6ft-6in-surftech-spitfire-winged-swallow-tail-ref-29173/', 'title': '6ft 6in Surftech (Spitfire) Winged Swallow Tail Ref# 29173', 'price': 225.0, 'description': 'Fair condition epoxy fish with lots of previous dings and repairs', 'type': 'Thruster (FCS)', 'height': 'H 6’6″', 'width': 'W 20″', 'thickness': 'T 2 5/8″', 'condition': 'Fair', 'manufacturer': 'Surftech'}\n"
     ]
    },
    {
     "name": "stdout",
     "output_type": "stream",
     "text": [
      "Processing 7 out of 25\n",
      "Processing 8 out of 25\n"
     ]
    },
    {
     "name": "stderr",
     "output_type": "stream",
     "text": [
      "2019-11-16 15:09:39 [scrapy.core.engine] DEBUG: Crawled (200) <GET https://www.usedsurfboardshawaii.com/product/5ft-10in-brice-round-tail-ref-29019/> (referer: https://www.usedsurfboardshawaii.com/page/9/?post_type=product) ['cached']\n",
      "2019-11-16 15:09:39 [scrapy.core.scraper] DEBUG: Scraped from <200 https://www.usedsurfboardshawaii.com/product/6ft-8in-anacapa-glider-squash-tail-ref-28947/>\n",
      "{'url': 'https://www.usedsurfboardshawaii.com/product/6ft-8in-anacapa-glider-squash-tail-ref-28947/', 'title': '6ft 8in Anacapa (Glider) Squash tail Ref# 28947', 'price': 225.0, 'description': 'This shortboard is fair condition with various pressure dents and some yellowing.', 'type': '(Thruster) FCS', 'height': 'H 6′ 8″', 'width': 'W 20 1/2″', 'thickness': 'T 3″', 'condition': 'Fair', 'manufacturer': 'Anacapa'}\n",
      "2019-11-16 15:09:39 [scrapy.core.engine] DEBUG: Crawled (200) <GET https://www.usedsurfboardshawaii.com/product/6ft-1in-apex-squash-tail-ref-29088/> (referer: https://www.usedsurfboardshawaii.com/page/9/?post_type=product) ['cached']\n",
      "2019-11-16 15:09:39 [scrapy.core.scraper] DEBUG: Scraped from <200 https://www.usedsurfboardshawaii.com/product/5ft-10in-pang-squash-tail-ref-28895/>\n",
      "{'url': 'https://www.usedsurfboardshawaii.com/product/5ft-10in-pang-squash-tail-ref-28895/', 'title': '5ft 10in Pang Squash Tail Ref# 29011', 'price': 250.0, 'description': 'Fair condition shortboard with light deck pressures and yellowing from age and previous use', 'type': 'Thruster (FCS)', 'height': 'H 5’10”', 'width': 'W 18 1/8″', 'thickness': 'T 2 1/8″', 'condition': 'Fair', 'manufacturer': 'Pang'}\n"
     ]
    },
    {
     "name": "stdout",
     "output_type": "stream",
     "text": [
      "Processing 9 out of 25\n",
      "Processing 10 out of 25\n"
     ]
    },
    {
     "name": "stderr",
     "output_type": "stream",
     "text": [
      "2019-11-16 15:09:40 [scrapy.core.engine] DEBUG: Crawled (200) <GET https://www.usedsurfboardshawaii.com/product/5ft-1in-m2-swallow-tail-ref-29133/> (referer: https://www.usedsurfboardshawaii.com/page/9/?post_type=product) ['cached']\n",
      "2019-11-16 15:09:40 [scrapy.core.scraper] DEBUG: Scraped from <200 https://www.usedsurfboardshawaii.com/product/5ft-10in-brice-round-tail-ref-29019/>\n",
      "{'url': 'https://www.usedsurfboardshawaii.com/product/5ft-10in-brice-round-tail-ref-29019/', 'title': '5ft 10in Brice Round Tail Ref# 29019', 'price': 425.0, 'description': 'Good condition shortboard with a few light deck pressures but otherwise minimal signs of previous use', 'type': 'Thruster (FCS2)', 'height': 'H 5’10”', 'width': 'W 18.88″', 'thickness': 'T 2.44″', 'condition': 'Good', 'manufacturer': 'Brice'}\n",
      "2019-11-16 15:09:40 [scrapy.core.engine] DEBUG: Crawled (200) <GET https://www.usedsurfboardshawaii.com/product/5ft-9in-tokoro-5-fin-squash-tail-ref-29129/> (referer: https://www.usedsurfboardshawaii.com/page/9/?post_type=product) ['cached']\n",
      "2019-11-16 15:09:40 [scrapy.core.scraper] DEBUG: Scraped from <200 https://www.usedsurfboardshawaii.com/product/6ft-1in-apex-squash-tail-ref-29088/>\n",
      "{'url': 'https://www.usedsurfboardshawaii.com/product/6ft-1in-apex-squash-tail-ref-29088/', 'title': '6ft 1in Apex Squash Tail Ref# 29088', 'price': 399.0, 'description': 'Good condition shortboard with minimal signs of previous use', 'type': 'Thruster (Future)', 'height': 'H 6’1″', 'width': 'W 20.3″', 'thickness': 'T 2.5″', 'condition': 'Good', 'manufacturer': 'Apex'}\n"
     ]
    },
    {
     "name": "stdout",
     "output_type": "stream",
     "text": [
      "Processing 11 out of 25\n",
      "Processing 12 out of 25\n"
     ]
    },
    {
     "name": "stderr",
     "output_type": "stream",
     "text": [
      "2019-11-16 15:09:40 [scrapy.core.engine] DEBUG: Crawled (200) <GET https://www.usedsurfboardshawaii.com/product/4ft-11in-aloha-grom-squash-tail-ref-29145/> (referer: https://www.usedsurfboardshawaii.com/page/9/?post_type=product) ['cached']\n",
      "2019-11-16 15:09:40 [scrapy.core.scraper] DEBUG: Scraped from <200 https://www.usedsurfboardshawaii.com/product/5ft-1in-m2-swallow-tail-ref-29133/>\n",
      "{'url': 'https://www.usedsurfboardshawaii.com/product/5ft-1in-m2-swallow-tail-ref-29133/', 'title': '5ft 1in M2 Swallow Tail Ref# 29133', 'price': 199.0, 'description': 'Fair condition shortboard with some yellowing and deck pressures from age and previous use', 'type': 'Thruster (Future)', 'height': 'H 5’1″', 'width': 'W 17 3/8″', 'thickness': 'T 2″', 'condition': 'Fair', 'manufacturer': 'M2'}\n",
      "2019-11-16 15:09:40 [scrapy.core.engine] DEBUG: Crawled (200) <GET https://www.usedsurfboardshawaii.com/product/6ft-2in-dylan-squash-tail-ref-29139/> (referer: https://www.usedsurfboardshawaii.com/page/9/?post_type=product) ['cached']\n",
      "2019-11-16 15:09:40 [scrapy.core.scraper] DEBUG: Scraped from <200 https://www.usedsurfboardshawaii.com/product/5ft-9in-tokoro-5-fin-squash-tail-ref-29129/>\n",
      "{'url': 'https://www.usedsurfboardshawaii.com/product/5ft-9in-tokoro-5-fin-squash-tail-ref-29129/', 'title': '5ft 9in Tokoro Squash Tail Ref# 29129', 'price': 199.0, 'description': 'This shortboard is in fair condition with various pressure dents.', 'type': '(5 Fin) FCS', 'height': 'H 5′ 9″', 'width': 'W 19″', 'thickness': 'T 2 1/4″', 'condition': 'Fair', 'manufacturer': 'Tokoro'}\n"
     ]
    },
    {
     "name": "stdout",
     "output_type": "stream",
     "text": [
      "Processing 13 out of 25\n",
      "Processing 14 out of 25\n"
     ]
    },
    {
     "name": "stderr",
     "output_type": "stream",
     "text": [
      "2019-11-16 15:09:40 [scrapy.core.engine] DEBUG: Crawled (200) <GET https://www.usedsurfboardshawaii.com/product/11ft-4in-pacific-rad-surf-squash-tail-ref-29141/> (referer: https://www.usedsurfboardshawaii.com/page/9/?post_type=product) ['cached']\n",
      "2019-11-16 15:09:40 [scrapy.core.scraper] DEBUG: Scraped from <200 https://www.usedsurfboardshawaii.com/product/4ft-11in-aloha-grom-squash-tail-ref-29145/>\n",
      "{'url': 'https://www.usedsurfboardshawaii.com/product/4ft-11in-aloha-grom-squash-tail-ref-29145/', 'title': '4ft 11in Aloha (Grom) Squash Tail Ref# 29145', 'price': 270.0, 'description': 'This grom shortboard is in very good condition with minimal pressure dents and no dings.', 'type': '(Thruster) Future', 'height': 'H 4′ 11″', 'width': 'W 17 1/4″', 'thickness': 'T 2″', 'condition': 'very good', 'manufacturer': 'Aloha'}\n",
      "2019-11-16 15:09:40 [scrapy.core.engine] DEBUG: Crawled (200) <GET https://www.usedsurfboardshawaii.com/product/5ft-7in-lost-puddle-jumper-hp-squash-ref-29134/> (referer: https://www.usedsurfboardshawaii.com/page/9/?post_type=product) ['cached']\n",
      "2019-11-16 15:09:40 [scrapy.core.scraper] DEBUG: Scraped from <200 https://www.usedsurfboardshawaii.com/product/6ft-2in-dylan-squash-tail-ref-29139/>\n",
      "{'url': 'https://www.usedsurfboardshawaii.com/product/6ft-2in-dylan-squash-tail-ref-29139/', 'title': '6ft 2in Dylan Squash Tail Ref# 29139', 'price': 299.0, 'description': 'This shortboard is in good condition with light pressure dents.', 'type': '(Thruster) FCS', 'height': 'H 6’2″', 'width': 'W 20″', 'thickness': 'T 2 1/2″', 'condition': 'Good', 'manufacturer': 'Dylan'}\n"
     ]
    },
    {
     "name": "stdout",
     "output_type": "stream",
     "text": [
      "Processing 15 out of 25\n",
      "Processing 16 out of 25\n"
     ]
    },
    {
     "name": "stderr",
     "output_type": "stream",
     "text": [
      "2019-11-16 15:09:40 [scrapy.core.engine] DEBUG: Crawled (200) <GET https://www.usedsurfboardshawaii.com/product/5ft-6in-dhd-doubleshot-squash-tail-ref-29045/> (referer: https://www.usedsurfboardshawaii.com/page/9/?post_type=product) ['cached']\n",
      "2019-11-16 15:09:40 [scrapy.core.scraper] DEBUG: Scraped from <200 https://www.usedsurfboardshawaii.com/product/11ft-4in-pacific-rad-surf-squash-tail-ref-29141/>\n",
      "{'url': 'https://www.usedsurfboardshawaii.com/product/11ft-4in-pacific-rad-surf-squash-tail-ref-29141/', 'title': '11ft 4in Pacific Rad Surf Squash Tail Ref# 29141', 'price': 450.0, 'description': 'Good condition stand up paddle board with minimal signs of previous use', 'type': '4+1 (Future)', 'height': 'H 11’4″', 'width': 'W 30 1/2″', 'thickness': 'T 4 3/4″', 'condition': 'Good', 'manufacturer': 'Pacific Rad Sports'}\n",
      "2019-11-16 15:09:41 [scrapy.core.engine] DEBUG: Crawled (200) <GET https://www.usedsurfboardshawaii.com/product/5ft-3in-north-pacific-swallow-tail-ref-28999/> (referer: https://www.usedsurfboardshawaii.com/page/9/?post_type=product) ['cached']\n",
      "2019-11-16 15:09:41 [scrapy.core.scraper] DEBUG: Scraped from <200 https://www.usedsurfboardshawaii.com/product/5ft-7in-lost-puddle-jumper-hp-squash-ref-29134/>\n",
      "{'url': 'https://www.usedsurfboardshawaii.com/product/5ft-7in-lost-puddle-jumper-hp-squash-ref-29134/', 'title': '5ft 7in Lost (Puddle Jumper HP) Squash Ref# 29134', 'price': 450.0, 'description': 'Good condition short board with light deck pressures and one previous ding by the nose, but otherwise minimal signs of previous use.', 'type': '5-Fin (future)', 'height': 'H 5′ 7″', 'width': 'W 20 1/4″', 'thickness': 'T 2 1/2″', 'condition': 'Good', 'manufacturer': 'Lost'}\n"
     ]
    },
    {
     "name": "stdout",
     "output_type": "stream",
     "text": [
      "Processing 17 out of 25\n",
      "Processing 18 out of 25\n"
     ]
    },
    {
     "name": "stderr",
     "output_type": "stream",
     "text": [
      "2019-11-16 15:09:41 [scrapy.core.engine] DEBUG: Crawled (200) <GET https://www.usedsurfboardshawaii.com/product/10ft-6in-surftech-paddle-inc-ref-29117/> (referer: https://www.usedsurfboardshawaii.com/page/9/?post_type=product) ['cached']\n",
      "2019-11-16 15:09:41 [scrapy.core.scraper] DEBUG: Scraped from <200 https://www.usedsurfboardshawaii.com/product/5ft-6in-dhd-doubleshot-squash-tail-ref-29045/>\n",
      "{'url': 'https://www.usedsurfboardshawaii.com/product/5ft-6in-dhd-doubleshot-squash-tail-ref-29045/', 'title': '5ft 6in DHD (DoubleShot) Squash Tail Ref# 29045', 'price': 299.0, 'description': 'Good condition shortboard with light deck pressures but otherwise minimal signs of previous use', 'type': '5-Fin (FCS)', 'height': 'H 5’6″', 'width': 'W 19 3/4″', 'thickness': 'T 2 9/16″', 'condition': 'Good', 'manufacturer': 'DHD'}\n",
      "2019-11-16 15:09:41 [scrapy.core.engine] DEBUG: Crawled (200) <GET https://www.usedsurfboardshawaii.com/product/6ft-10in-tokoro-round-pin-ref-24230/> (referer: https://www.usedsurfboardshawaii.com/page/9/?post_type=product) ['cached']\n"
     ]
    },
    {
     "name": "stdout",
     "output_type": "stream",
     "text": [
      "Processing 19 out of 25\n",
      "Processing 20 out of 25\n"
     ]
    },
    {
     "name": "stderr",
     "output_type": "stream",
     "text": [
      "2019-11-16 15:09:41 [scrapy.core.engine] DEBUG: Crawled (200) <GET https://www.usedsurfboardshawaii.com/product/6ft-5in-backdoor-pin-tail-ref-28870/> (referer: https://www.usedsurfboardshawaii.com/page/9/?post_type=product) ['cached']\n",
      "2019-11-16 15:09:41 [scrapy.core.scraper] DEBUG: Scraped from <200 https://www.usedsurfboardshawaii.com/product/10ft-6in-surftech-paddle-inc-ref-29117/>\n",
      "{'url': 'https://www.usedsurfboardshawaii.com/product/10ft-6in-surftech-paddle-inc-ref-29117/', 'title': '10ft 6in Surftech (Paddle Inc) Ref# 29117', 'price': 625.0, 'description': 'Good condition SUP with minimal signs of previous use and a paddle included', 'type': '2+1 (FCS)', 'height': 'H 10’6″', 'width': 'W 32″', 'thickness': 'T 5″', 'condition': 'Good', 'manufacturer': 'Surftech'}\n",
      "2019-11-16 15:09:41 [scrapy.core.engine] DEBUG: Crawled (200) <GET https://www.usedsurfboardshawaii.com/product/6ft-10in-pang-smokebomb-round-pin-tail-ref-28853/> (referer: https://www.usedsurfboardshawaii.com/page/9/?post_type=product) ['cached']\n",
      "2019-11-16 15:09:41 [scrapy.core.scraper] DEBUG: Scraped from <200 https://www.usedsurfboardshawaii.com/product/6ft-10in-tokoro-round-pin-ref-24230/>\n",
      "{'url': 'https://www.usedsurfboardshawaii.com/product/6ft-10in-tokoro-round-pin-ref-24230/', 'title': '6ft 10in Tokoro Round Pin Ref# 24230', 'price': 385.0, 'description': 'Clean step up for when the waves go solid over head and all you need is to control your speed to set your rail.', 'type': 'Thruster (FCS)', 'height': 'H 6’10”', 'width': 'W 18 7/16″', 'thickness': 'T 2 5/16″', 'condition': 'Good', 'manufacturer': 'Tokoro'}\n"
     ]
    },
    {
     "name": "stdout",
     "output_type": "stream",
     "text": [
      "Processing 21 out of 25\n",
      "Processing 22 out of 25\n"
     ]
    },
    {
     "name": "stderr",
     "output_type": "stream",
     "text": [
      "2019-11-16 15:09:41 [scrapy.core.engine] DEBUG: Crawled (200) <GET https://www.usedsurfboardshawaii.com/product/5ft-10in-johnston-squash-tail-ref-28841/> (referer: https://www.usedsurfboardshawaii.com/page/9/?post_type=product) ['cached']\n",
      "2019-11-16 15:09:41 [scrapy.core.engine] DEBUG: Crawled (200) <GET https://www.usedsurfboardshawaii.com/product/5ft-11in-lost-indo-driver-round-tail-ref-28840/> (referer: https://www.usedsurfboardshawaii.com/page/9/?post_type=product) ['cached']\n",
      "2019-11-16 15:09:41 [scrapy.core.scraper] DEBUG: Scraped from <200 https://www.usedsurfboardshawaii.com/product/6ft-10in-pang-smokebomb-round-pin-tail-ref-28853/>\n",
      "{'url': 'https://www.usedsurfboardshawaii.com/product/6ft-10in-pang-smokebomb-round-pin-tail-ref-28853/', 'title': '6ft 10in Pang (SmokeBomb) Round Pin Tail Ref# 28853', 'price': 350.0, 'description': 'Good condition shortboard with light deck pressures but otherwise minimal signs of previous use', 'type': '5-fin (Future)', 'height': 'H 22″', 'width': None, 'thickness': 'T 3 1/4″', 'condition': 'Good', 'manufacturer': 'Pang'}\n"
     ]
    },
    {
     "name": "stdout",
     "output_type": "stream",
     "text": [
      "Processing 23 out of 25\n",
      "Processing 24 out of 25\n"
     ]
    },
    {
     "name": "stderr",
     "output_type": "stream",
     "text": [
      "2019-11-16 15:09:42 [scrapy.core.engine] DEBUG: Crawled (200) <GET https://www.usedsurfboardshawaii.com/product/5ft-9in-johnston-dirty-whirly-squash-tail-ref-28759/> (referer: https://www.usedsurfboardshawaii.com/page/9/?post_type=product) ['cached']\n",
      "2019-11-16 15:09:42 [scrapy.core.scraper] DEBUG: Scraped from <200 https://www.usedsurfboardshawaii.com/product/5ft-10in-johnston-squash-tail-ref-28841/>\n",
      "{'url': 'https://www.usedsurfboardshawaii.com/product/5ft-10in-johnston-squash-tail-ref-28841/', 'title': '5ft 10in Johnston Squash Tail Ref# 28841', 'price': 199.0, 'description': 'Good condition shortboard with light deck pressures but otherwise minimal signs of previous use', 'type': 'Thruster (Future)', 'height': 'H 5’10”', 'width': 'W 18.5″', 'thickness': 'T 2.25″', 'condition': 'Good', 'manufacturer': 'Johnston'}\n",
      "2019-11-16 15:09:42 [scrapy.core.engine] DEBUG: Crawled (200) <GET https://www.usedsurfboardshawaii.com/product/5ft-7in-johnston-dirty-whirly-squash-tail-ref-28758/> (referer: https://www.usedsurfboardshawaii.com/page/9/?post_type=product) ['cached']\n",
      "2019-11-16 15:09:42 [scrapy.core.scraper] DEBUG: Scraped from <200 https://www.usedsurfboardshawaii.com/product/5ft-11in-lost-indo-driver-round-tail-ref-28840/>\n",
      "{'url': 'https://www.usedsurfboardshawaii.com/product/5ft-11in-lost-indo-driver-round-tail-ref-28840/', 'title': '5ft 11in Lost (Indo-Driver) Round Tail Ref# 28840', 'price': 549.0, 'description': 'Good condition shortboard with light deck pressures but otherwise minimal signs of previous use', 'type': '5-Fin (Future)', 'height': 'H 5’11”', 'width': 'W 18.63″', 'thickness': 'T 2.32″', 'condition': 'Good', 'manufacturer': 'Lost'}\n",
      "2019-11-16 15:09:42 [scrapy.core.engine] DEBUG: Crawled (200) <GET https://www.usedsurfboardshawaii.com/page/10/?post_type=product> (referer: https://www.usedsurfboardshawaii.com/page/9/?post_type=product) ['cached']\n",
      "2019-11-16 15:09:42 [scrapy.core.scraper] DEBUG: Scraped from <200 https://www.usedsurfboardshawaii.com/product/5ft-9in-johnston-dirty-whirly-squash-tail-ref-28759/>\n",
      "{'url': 'https://www.usedsurfboardshawaii.com/product/5ft-9in-johnston-dirty-whirly-squash-tail-ref-28759/', 'title': '5ft 9in Johnston (Dirty Whirly) Squash Tail Ref# 28759', 'price': 350.0, 'description': 'Fair condition shortboard with various deck pressures and minor signs of previous use, sock and fins included', 'type': '5-Fin (Future)', 'height': 'H 5’9″', 'width': 'W 19 1/2″', 'thickness': 'T 2 1/8″', 'condition': 'Fair', 'manufacturer': 'J. Johnston'}\n"
     ]
    },
    {
     "name": "stdout",
     "output_type": "stream",
     "text": [
      "Processing 25 out of 25\n",
      "\n",
      "https://www.usedsurfboardshawaii.com/page/10/?post_type=product\n"
     ]
    },
    {
     "name": "stderr",
     "output_type": "stream",
     "text": [
      "2019-11-16 15:09:42 [scrapy.core.scraper] DEBUG: Scraped from <200 https://www.usedsurfboardshawaii.com/product/5ft-7in-johnston-dirty-whirly-squash-tail-ref-28758/>\n",
      "{'url': 'https://www.usedsurfboardshawaii.com/product/5ft-7in-johnston-dirty-whirly-squash-tail-ref-28758/', 'title': '5ft 7in Johnston (Dirty Whirly) Squash Tail Ref# 28758', 'price': 350.0, 'description': 'Fair condition shortboard with various deck pressures.\\xa0 This board comes as a package deal with a board bag and fins.', 'type': '5-Fin (FCS)', 'height': 'H 5’7″', 'width': 'W 19 1/8″', 'thickness': 'T 2 5/16″', 'condition': 'Fair', 'manufacturer': 'J. Johnston'}\n",
      "2019-11-16 15:09:42 [scrapy.core.engine] DEBUG: Crawled (200) <GET https://www.usedsurfboardshawaii.com/product/5ft-11in-peralta-squash-tail-ref-28806/> (referer: https://www.usedsurfboardshawaii.com/page/10/?post_type=product) ['cached']\n"
     ]
    },
    {
     "name": "stdout",
     "output_type": "stream",
     "text": [
      "Total:  25\n",
      "Processing 1 out of 25\n",
      "Processing 2 out of 25\n"
     ]
    },
    {
     "name": "stderr",
     "output_type": "stream",
     "text": [
      "2019-11-16 15:09:42 [scrapy.core.engine] DEBUG: Crawled (200) <GET https://www.usedsurfboardshawaii.com/product/5ft-4in-makani-double-swallow-tail-ref-28795/> (referer: https://www.usedsurfboardshawaii.com/page/10/?post_type=product) ['cached']\n",
      "2019-11-16 15:09:42 [scrapy.core.engine] DEBUG: Crawled (200) <GET https://www.usedsurfboardshawaii.com/product/5ft-3in-makani-diamond-tail-ref-28794/> (referer: https://www.usedsurfboardshawaii.com/page/10/?post_type=product) ['cached']\n",
      "2019-11-16 15:09:42 [scrapy.core.scraper] DEBUG: Scraped from <200 https://www.usedsurfboardshawaii.com/product/5ft-11in-peralta-squash-tail-ref-28806/>\n",
      "{'url': 'https://www.usedsurfboardshawaii.com/product/5ft-11in-peralta-squash-tail-ref-28806/', 'title': '5ft 11in Peralta Squash Tail Ref# 28806', 'price': 299.0, 'description': 'Good condition shortboard with light deck pressures but otherwise minor signs of previous use', 'type': 'Thruster (Future)', 'height': 'H 5’11”', 'width': 'W 19 3/4″', 'thickness': 'T 3″', 'condition': 'Good', 'manufacturer': 'Peralta'}\n"
     ]
    },
    {
     "name": "stdout",
     "output_type": "stream",
     "text": [
      "Processing 3 out of 25\n",
      "Processing 4 out of 25\n"
     ]
    },
    {
     "name": "stderr",
     "output_type": "stream",
     "text": [
      "2019-11-16 15:09:42 [scrapy.core.engine] DEBUG: Crawled (404) <GET https://www.usedsurfboardshawaii.com/product/5ft-10in-tolhurst-asymmetrical-tail-ref-28781/> (referer: https://www.usedsurfboardshawaii.com/page/10/?post_type=product) ['cached']\n",
      "2019-11-16 15:09:42 [scrapy.core.scraper] DEBUG: Scraped from <200 https://www.usedsurfboardshawaii.com/product/5ft-4in-makani-double-swallow-tail-ref-28795/>\n",
      "{'url': 'https://www.usedsurfboardshawaii.com/product/5ft-4in-makani-double-swallow-tail-ref-28795/', 'title': '5ft 4in Makani Double Swallow Tail Ref# 28795', 'price': 375.0, 'description': 'Good condition shortboard with light deck pressures but otherwise minimal signs of previous use', 'type': 'Thruster (Future)', 'height': 'H 5’4″', 'width': 'W 19 3/4″', 'thickness': 'T 2 3/8″', 'condition': 'Good', 'manufacturer': 'Makani'}\n",
      "2019-11-16 15:09:43 [scrapy.core.engine] DEBUG: Crawled (200) <GET https://www.usedsurfboardshawaii.com/product/6ft-6in-bushman-round-tail-ref-28792/> (referer: https://www.usedsurfboardshawaii.com/page/10/?post_type=product) ['cached']\n",
      "2019-11-16 15:09:43 [scrapy.core.scraper] DEBUG: Scraped from <200 https://www.usedsurfboardshawaii.com/product/5ft-3in-makani-diamond-tail-ref-28794/>\n",
      "{'url': 'https://www.usedsurfboardshawaii.com/product/5ft-3in-makani-diamond-tail-ref-28794/', 'title': '5ft 3in Makani Diamond Tail Ref# 28794', 'price': 350.0, 'description': 'Good condition shortboard with minimal signs of previous use', 'type': 'Thruster (Future)', 'height': 'H 5’3″', 'width': 'W 19 3/8″', 'thickness': 'T 2 3/18″', 'condition': 'Good', 'manufacturer': 'Makani'}\n",
      "2019-11-16 15:09:43 [scrapy.spidermiddlewares.httperror] INFO: Ignoring response <404 https://www.usedsurfboardshawaii.com/product/5ft-10in-tolhurst-asymmetrical-tail-ref-28781/>: HTTP status code is not handled or not allowed\n"
     ]
    },
    {
     "name": "stdout",
     "output_type": "stream",
     "text": [
      "Processing 5 out of 25\n",
      "Processing 6 out of 25\n"
     ]
    },
    {
     "name": "stderr",
     "output_type": "stream",
     "text": [
      "2019-11-16 15:09:43 [scrapy.core.engine] DEBUG: Crawled (200) <GET https://www.usedsurfboardshawaii.com/product/6ft-6in-bushman-round-tail-ref-28793/> (referer: https://www.usedsurfboardshawaii.com/page/10/?post_type=product) ['cached']\n",
      "2019-11-16 15:09:43 [scrapy.core.engine] DEBUG: Crawled (200) <GET https://www.usedsurfboardshawaii.com/product/6ft-5in-bret-varial-foam-round-tail-ref-28791/> (referer: https://www.usedsurfboardshawaii.com/page/10/?post_type=product) ['cached']\n",
      "2019-11-16 15:09:43 [scrapy.core.scraper] DEBUG: Scraped from <200 https://www.usedsurfboardshawaii.com/product/6ft-6in-bushman-round-tail-ref-28792/>\n",
      "{'url': 'https://www.usedsurfboardshawaii.com/product/6ft-6in-bushman-round-tail-ref-28792/', 'title': '6ft 6in Bushman Round Tail Ref# 28792', 'price': 250.0, 'description': 'Good condition shortboard with some light deck pressures but otherwise minimal signs of previous use', 'type': 'Thruster (Future)', 'height': 'H 6’6″', 'width': 'W 19 1/2″', 'thickness': 'T 2 5/8″', 'condition': 'Good', 'manufacturer': 'Bushman'}\n"
     ]
    },
    {
     "name": "stdout",
     "output_type": "stream",
     "text": [
      "Processing 7 out of 25\n",
      "Processing 8 out of 25\n"
     ]
    },
    {
     "name": "stderr",
     "output_type": "stream",
     "text": [
      "2019-11-16 15:09:43 [scrapy.core.engine] DEBUG: Crawled (200) <GET https://www.usedsurfboardshawaii.com/product/6ft-3in-wayne-lynch-round-pin-tail-ref-28532/> (referer: https://www.usedsurfboardshawaii.com/page/10/?post_type=product) ['cached']\n",
      "2019-11-16 15:09:43 [scrapy.core.scraper] DEBUG: Scraped from <200 https://www.usedsurfboardshawaii.com/product/6ft-6in-bushman-round-tail-ref-28793/>\n",
      "{'url': 'https://www.usedsurfboardshawaii.com/product/6ft-6in-bushman-round-tail-ref-28793/', 'title': '6ft 6in Bushman Round Tail Ref# 28793', 'price': 250.0, 'description': 'Good condition shortboard with various light deck pressures but otherwise minor signs of previous use', 'type': 'Thruster (Future)', 'height': 'H 6’6″', 'width': 'W 19 1/2″', 'thickness': 'T 2 5/8″', 'condition': 'Good', 'manufacturer': 'Bushman'}\n",
      "2019-11-16 15:09:43 [scrapy.core.engine] DEBUG: Crawled (200) <GET https://www.usedsurfboardshawaii.com/product/5ft-10in-minami-avenger-squash-tail-ref-28770/> (referer: https://www.usedsurfboardshawaii.com/page/10/?post_type=product) ['cached']\n",
      "2019-11-16 15:09:43 [scrapy.core.scraper] DEBUG: Scraped from <200 https://www.usedsurfboardshawaii.com/product/6ft-5in-bret-varial-foam-round-tail-ref-28791/>\n",
      "{'url': 'https://www.usedsurfboardshawaii.com/product/6ft-5in-bret-varial-foam-round-tail-ref-28791/', 'title': '6ft 5in Bret (Varial Foam) from Pro Pancho Sullivan Round Tail Ref# 28791', 'price': 525.0, 'description': 'Good condition shortboard with minimal signs of previous use', 'type': 'Thruster (Future)', 'height': 'H 6’5″', 'width': 'W 19.38″', 'thickness': 'T 2.30″', 'condition': 'Good, Like New', 'manufacturer': 'Bret'}\n"
     ]
    },
    {
     "name": "stdout",
     "output_type": "stream",
     "text": [
      "Processing 9 out of 25\n",
      "Processing 10 out of 25\n"
     ]
    },
    {
     "name": "stderr",
     "output_type": "stream",
     "text": [
      "2019-11-16 15:09:43 [scrapy.core.engine] DEBUG: Crawled (200) <GET https://www.usedsurfboardshawaii.com/product/6ft-6in-minami-round-tail-ref-28771/> (referer: https://www.usedsurfboardshawaii.com/page/10/?post_type=product) ['cached']\n",
      "2019-11-16 15:09:43 [scrapy.core.scraper] DEBUG: Scraped from <200 https://www.usedsurfboardshawaii.com/product/6ft-3in-wayne-lynch-round-pin-tail-ref-28532/>\n",
      "{'url': 'https://www.usedsurfboardshawaii.com/product/6ft-3in-wayne-lynch-round-pin-tail-ref-28532/', 'title': '6ft 3in Wayne Lynch Round Pin Tail Ref# 28532', 'price': 215.0, 'description': 'Good condition shortboard with light deck pressures but otherwise minimal signs of previous use', 'type': 'Thruster (FCS)', 'height': 'H 6’3″', 'width': 'W 19 1/4″', 'thickness': 'T 2 1/2″', 'condition': 'Good', 'manufacturer': 'Wayne Lynch'}\n",
      "2019-11-16 15:09:44 [scrapy.core.engine] DEBUG: Crawled (200) <GET https://www.usedsurfboardshawaii.com/product/5ft-10in-downing-dart-squash-tail-ref-28772/> (referer: https://www.usedsurfboardshawaii.com/page/10/?post_type=product) ['cached']\n",
      "2019-11-16 15:09:44 [scrapy.core.scraper] DEBUG: Scraped from <200 https://www.usedsurfboardshawaii.com/product/5ft-10in-minami-avenger-squash-tail-ref-28770/>\n",
      "{'url': 'https://www.usedsurfboardshawaii.com/product/5ft-10in-minami-avenger-squash-tail-ref-28770/', 'title': '5ft 10in Minami (Avenger) Squash Tail Ref# 28770', 'price': 399.0, 'description': 'Good condition shortboard with light deck pressures but otherwise minimal signs of previous use.', 'type': '5-Fin (Future)', 'height': 'H 5’10”', 'width': 'W 18 1/4″', 'thickness': 'T 2 11/16″', 'condition': 'Good', 'manufacturer': 'Minami'}\n"
     ]
    },
    {
     "name": "stdout",
     "output_type": "stream",
     "text": [
      "Processing 11 out of 25\n",
      "Processing 12 out of 25\n"
     ]
    },
    {
     "name": "stderr",
     "output_type": "stream",
     "text": [
      "2019-11-16 15:09:44 [scrapy.core.engine] DEBUG: Crawled (200) <GET https://www.usedsurfboardshawaii.com/product/6ft-6in-mike-woo-squash-tail-ref-28775/> (referer: https://www.usedsurfboardshawaii.com/page/10/?post_type=product) ['cached']\n",
      "2019-11-16 15:09:44 [scrapy.core.scraper] DEBUG: Scraped from <200 https://www.usedsurfboardshawaii.com/product/6ft-6in-minami-round-tail-ref-28771/>\n",
      "{'url': 'https://www.usedsurfboardshawaii.com/product/6ft-6in-minami-round-tail-ref-28771/', 'title': '6ft 6in Minami Round Tail Ref# 28771', 'price': 200.0, 'description': 'Good condition hybrid with light deck pressures but otherwise minor signs of previous use', 'type': '5-Fin (Future)', 'height': 'H 6’6″', 'width': 'W 18 1/4″', 'thickness': 'T 2 9/16″', 'condition': 'Good', 'manufacturer': 'Minami'}\n",
      "2019-11-16 15:09:44 [scrapy.core.engine] DEBUG: Crawled (200) <GET https://www.usedsurfboardshawaii.com/product/6ft-1in-mike-woo-squash-tail-ref-28778/> (referer: https://www.usedsurfboardshawaii.com/page/10/?post_type=product) ['cached']\n",
      "2019-11-16 15:09:44 [scrapy.core.scraper] DEBUG: Scraped from <200 https://www.usedsurfboardshawaii.com/product/5ft-10in-downing-dart-squash-tail-ref-28772/>\n",
      "{'url': 'https://www.usedsurfboardshawaii.com/product/5ft-10in-downing-dart-squash-tail-ref-28772/', 'title': '5ft 10in Downing (Dart) Squash Tail Ref# 28772', 'price': 199.0, 'description': 'Fair condition shortboard with deck pressures and yellowing from previous use', 'type': 'Thruster (Future)', 'height': 'H 5’10”', 'width': 'W 18 3/8″', 'thickness': 'T 2 3/8″', 'condition': 'Fair', 'manufacturer': 'Downing'}\n"
     ]
    },
    {
     "name": "stdout",
     "output_type": "stream",
     "text": [
      "Processing 13 out of 25\n",
      "Processing 14 out of 25\n"
     ]
    },
    {
     "name": "stderr",
     "output_type": "stream",
     "text": [
      "2019-11-16 15:09:44 [scrapy.core.engine] DEBUG: Crawled (200) <GET https://www.usedsurfboardshawaii.com/product/6ft-kerry-tokoro-swallow-tail-ref-28777/> (referer: https://www.usedsurfboardshawaii.com/page/10/?post_type=product) ['cached']\n",
      "2019-11-16 15:09:44 [scrapy.core.scraper] DEBUG: Scraped from <200 https://www.usedsurfboardshawaii.com/product/6ft-6in-mike-woo-squash-tail-ref-28775/>\n",
      "{'url': 'https://www.usedsurfboardshawaii.com/product/6ft-6in-mike-woo-squash-tail-ref-28775/', 'title': '6ft 6in Mike Woo Squash Tail Ref# 28775', 'price': 399.0, 'description': 'Very clean board. Good step up for winter. Has a mean spooky skull airbrush for good looks.', 'type': 'Thruster (FCS)', 'height': 'H 6′ 6″', 'width': 'W 18 3/4″', 'thickness': 'T 2 7/16', 'condition': 'Good', 'manufacturer': 'Mike Woo'}\n",
      "2019-11-16 15:09:44 [scrapy.core.engine] DEBUG: Crawled (200) <GET https://www.usedsurfboardshawaii.com/product/6ft-8in-nsp-surfbetty-round-tail-ref-28534/> (referer: https://www.usedsurfboardshawaii.com/page/10/?post_type=product) ['cached']\n",
      "2019-11-16 15:09:44 [scrapy.core.scraper] DEBUG: Scraped from <200 https://www.usedsurfboardshawaii.com/product/6ft-1in-mike-woo-squash-tail-ref-28778/>\n",
      "{'url': 'https://www.usedsurfboardshawaii.com/product/6ft-1in-mike-woo-squash-tail-ref-28778/', 'title': '6ft 1in Mike Woo Squash Tail Ref# 28778', 'price': 399.0, 'description': 'Good condition performance shortboard with very minimal pressure denting. This board also has a mean airbrush job guaranteed to turn some heads in the lineup.', 'type': 'Thruster (FCS)', 'height': 'H 6′ 1″', 'width': 'W 18 7/8″', 'thickness': 'T 2 /16″', 'condition': 'Good', 'manufacturer': 'Mike Woo'}\n"
     ]
    },
    {
     "name": "stdout",
     "output_type": "stream",
     "text": [
      "Processing 15 out of 25\n",
      "Processing 16 out of 25\n"
     ]
    },
    {
     "name": "stderr",
     "output_type": "stream",
     "text": [
      "2019-11-16 15:09:44 [scrapy.core.engine] DEBUG: Crawled (200) <GET https://www.usedsurfboardshawaii.com/product/6ft-6in-minami-round-pin-tail-ref-28736/> (referer: https://www.usedsurfboardshawaii.com/page/10/?post_type=product) ['cached']\n",
      "2019-11-16 15:09:44 [scrapy.core.scraper] DEBUG: Scraped from <200 https://www.usedsurfboardshawaii.com/product/6ft-kerry-tokoro-swallow-tail-ref-28777/>\n",
      "{'url': 'https://www.usedsurfboardshawaii.com/product/6ft-kerry-tokoro-swallow-tail-ref-28777/', 'title': '6ft Kerry Tokoro Swallow Tail Ref# 28777', 'price': 399.0, 'description': 'Good condition shortboard with very minimal previous use and a super cool star paint job!', 'type': 'Thruster (FCS)', 'height': 'H 6′', 'width': 'W 19 1/4″', 'thickness': 'T 2 7/16', 'condition': 'Good', 'manufacturer': 'Kerry Tokoro, Tokoro'}\n",
      "2019-11-16 15:09:45 [scrapy.core.engine] DEBUG: Crawled (200) <GET https://www.usedsurfboardshawaii.com/product/6ft-kerry-tokoro-squash-tail-ref-28685/> (referer: https://www.usedsurfboardshawaii.com/page/10/?post_type=product) ['cached']\n",
      "2019-11-16 15:09:45 [scrapy.core.scraper] DEBUG: Scraped from <200 https://www.usedsurfboardshawaii.com/product/6ft-8in-nsp-surfbetty-round-tail-ref-28534/>\n",
      "{'url': 'https://www.usedsurfboardshawaii.com/product/6ft-8in-nsp-surfbetty-round-tail-ref-28534/', 'title': '6ft 8in NSP (SurfBetty) Round Tail Ref# 28534', 'price': 399.0, 'description': 'Good condition funboard with minimal signs of previous use', 'type': 'Thruster (NSP)', 'height': 'H 6’8″', 'width': 'W 21″', 'thickness': 'T 2 7/8″', 'condition': 'Good', 'manufacturer': 'NSP, Surfbetty'}\n"
     ]
    },
    {
     "name": "stdout",
     "output_type": "stream",
     "text": [
      "Processing 17 out of 25\n",
      "Processing 18 out of 25\n"
     ]
    },
    {
     "name": "stderr",
     "output_type": "stream",
     "text": [
      "2019-11-16 15:09:45 [scrapy.core.engine] DEBUG: Crawled (200) <GET https://www.usedsurfboardshawaii.com/product/6ft-6in-surftech-squash-tail-ref-28672/> (referer: https://www.usedsurfboardshawaii.com/page/10/?post_type=product) ['cached']\n",
      "2019-11-16 15:09:45 [scrapy.core.scraper] DEBUG: Scraped from <200 https://www.usedsurfboardshawaii.com/product/6ft-6in-minami-round-pin-tail-ref-28736/>\n",
      "{'url': 'https://www.usedsurfboardshawaii.com/product/6ft-6in-minami-round-pin-tail-ref-28736/', 'title': '6ft 6in Minami Round Pin Tail Ref# 28736', 'price': 499.0, 'description': 'Good condition shortboard with light deck pressures but otherwise minimal signs of previous use', 'type': '5-Fin (Future)', 'height': 'H 6’6″', 'width': 'W 18 5/8″', 'thickness': 'T 2 3/8″', 'condition': 'Good', 'manufacturer': 'Minami'}\n",
      "2019-11-16 15:09:45 [scrapy.core.engine] DEBUG: Crawled (200) <GET https://www.usedsurfboardshawaii.com/product/6ft-5in-yellow-shaka-round-tail-ref-28720/> (referer: https://www.usedsurfboardshawaii.com/page/10/?post_type=product) ['cached']\n",
      "2019-11-16 15:09:45 [scrapy.core.scraper] DEBUG: Scraped from <200 https://www.usedsurfboardshawaii.com/product/6ft-kerry-tokoro-squash-tail-ref-28685/>\n",
      "{'url': 'https://www.usedsurfboardshawaii.com/product/6ft-kerry-tokoro-squash-tail-ref-28685/', 'title': '6ft Kerry Tokoro Squash Tail Ref# 28685', 'price': 199.0, 'description': 'Fair condition shortboard with light deck pressures and yellowing from age and previous use', 'type': 'Thruster (FCS)', 'height': 'H 6’0″', 'width': 'W 18 1/4″', 'thickness': 'T 2 3/16″', 'condition': 'Fair', 'manufacturer': 'Kerry Tokoro'}\n"
     ]
    },
    {
     "name": "stdout",
     "output_type": "stream",
     "text": [
      "Processing 19 out of 25\n",
      "Processing 20 out of 25\n"
     ]
    },
    {
     "name": "stderr",
     "output_type": "stream",
     "text": [
      "2019-11-16 15:09:45 [scrapy.core.engine] DEBUG: Crawled (200) <GET https://www.usedsurfboardshawaii.com/product/5ft-10in-tc-pang-swallow-tail-ref-28688/> (referer: https://www.usedsurfboardshawaii.com/page/10/?post_type=product) ['cached']\n",
      "2019-11-16 15:09:45 [scrapy.core.scraper] DEBUG: Scraped from <200 https://www.usedsurfboardshawaii.com/product/6ft-6in-surftech-squash-tail-ref-28672/>\n",
      "{'url': 'https://www.usedsurfboardshawaii.com/product/6ft-6in-surftech-squash-tail-ref-28672/', 'title': '6ft 6in Surftech Squash Tail Ref# 28672', 'price': 225.0, 'description': 'Good condition shortboard with minor light deck pressures but otherwise minimal signs of previous use', 'type': 'Thruster (FCS)', 'height': 'H 6’6′', 'width': 'W 19 3/4″', 'thickness': 'T 2 3/8″', 'condition': 'Good', 'manufacturer': 'Surftech'}\n",
      "2019-11-16 15:09:45 [scrapy.core.engine] DEBUG: Crawled (200) <GET https://www.usedsurfboardshawaii.com/product/5ft-10in-just-rip-squash-tail-ref-28657/> (referer: https://www.usedsurfboardshawaii.com/page/10/?post_type=product) ['cached']\n",
      "2019-11-16 15:09:45 [scrapy.core.scraper] DEBUG: Scraped from <200 https://www.usedsurfboardshawaii.com/product/6ft-5in-yellow-shaka-round-tail-ref-28720/>\n",
      "{'url': 'https://www.usedsurfboardshawaii.com/product/6ft-5in-yellow-shaka-round-tail-ref-28720/', 'title': '6ft 5in Yellow Shaka Round Tail Ref# 28720', 'price': 325.0, 'description': 'Good shortboard for bigger guys has a lot of volume and it is a little longer, minimal pressure dents.', 'type': 'Thruster (Future)', 'height': 'H 6′ 5″', 'width': 'W 20 3/4', 'thickness': 'T 2 3/4', 'condition': 'Good', 'manufacturer': 'Yellow Shaka'}\n"
     ]
    },
    {
     "name": "stdout",
     "output_type": "stream",
     "text": [
      "Processing 21 out of 25\n",
      "Processing 22 out of 25\n"
     ]
    },
    {
     "name": "stderr",
     "output_type": "stream",
     "text": [
      "2019-11-16 15:09:45 [scrapy.core.engine] DEBUG: Crawled (200) <GET https://www.usedsurfboardshawaii.com/product/5ft-11in-mystery-round-pin-ref-28697/> (referer: https://www.usedsurfboardshawaii.com/page/10/?post_type=product) ['cached']\n",
      "2019-11-16 15:09:45 [scrapy.core.scraper] DEBUG: Scraped from <200 https://www.usedsurfboardshawaii.com/product/5ft-10in-tc-pang-swallow-tail-ref-28688/>\n",
      "{'url': 'https://www.usedsurfboardshawaii.com/product/5ft-10in-tc-pang-swallow-tail-ref-28688/', 'title': '5ft 10in T&C Pang Swallow Tail Ref# 28688', 'price': 299.0, 'description': 'Good shortboard with very minimal pressure dents.', 'type': 'Thruster (FCS)', 'height': 'H 5′ 10″', 'width': 'W 17 3/4', 'thickness': 'T 2 1/8', 'condition': 'Good', 'manufacturer': 'Pang'}\n",
      "2019-11-16 15:09:45 [scrapy.core.engine] DEBUG: Crawled (200) <GET https://www.usedsurfboardshawaii.com/product/6ft-4in-tokoro-round-pin-ref-27197/> (referer: https://www.usedsurfboardshawaii.com/page/10/?post_type=product) ['cached']\n",
      "2019-11-16 15:09:45 [scrapy.core.scraper] DEBUG: Scraped from <200 https://www.usedsurfboardshawaii.com/product/5ft-10in-just-rip-squash-tail-ref-28657/>\n",
      "{'url': 'https://www.usedsurfboardshawaii.com/product/5ft-10in-just-rip-squash-tail-ref-28657/', 'title': '5ft 10in Just Rip Squash Tail Ref# 28657', 'price': 350.0, 'description': 'Fun smaller board with minimal pressure denting.', 'type': 'Quad (FCS)', 'height': 'H 5′ 10″', 'width': 'W 20″', 'thickness': 'T 2 1/4', 'condition': 'Good', 'manufacturer': 'Just Rip'}\n"
     ]
    },
    {
     "name": "stdout",
     "output_type": "stream",
     "text": [
      "Processing 23 out of 25\n",
      "Processing 24 out of 25\n"
     ]
    },
    {
     "name": "stderr",
     "output_type": "stream",
     "text": [
      "2019-11-16 15:09:46 [scrapy.core.engine] DEBUG: Crawled (200) <GET https://www.usedsurfboardshawaii.com/product/5ft-6in-al-merrick-squash-tail-ref-28584/> (referer: https://www.usedsurfboardshawaii.com/page/10/?post_type=product) ['cached']\n",
      "2019-11-16 15:09:46 [scrapy.core.scraper] DEBUG: Scraped from <200 https://www.usedsurfboardshawaii.com/product/5ft-11in-mystery-round-pin-ref-28697/>\n",
      "{'url': 'https://www.usedsurfboardshawaii.com/product/5ft-11in-mystery-round-pin-ref-28697/', 'title': '5ft 11in Mystery Round Pin Ref# 28697', 'price': 199.0, 'description': 'Good shortboard with minor pressure denting.', 'type': 'Thruster (Future)', 'height': 'H 5′ 11″', 'width': 'W 18 1/2', 'thickness': 'T 2 1/4', 'condition': 'Good', 'manufacturer': 'mystery'}\n",
      "2019-11-16 15:09:46 [scrapy.core.engine] DEBUG: Crawled (200) <GET https://www.usedsurfboardshawaii.com/product/5ft-7in-brewer-morgan-swallow-tail-ref-28535/> (referer: https://www.usedsurfboardshawaii.com/page/10/?post_type=product) ['cached']\n",
      "2019-11-16 15:09:46 [scrapy.core.scraper] DEBUG: Scraped from <200 https://www.usedsurfboardshawaii.com/product/6ft-4in-tokoro-round-pin-ref-27197/>\n",
      "{'url': 'https://www.usedsurfboardshawaii.com/product/6ft-4in-tokoro-round-pin-ref-27197/', 'title': '6ft 4in Tokoro Round Pin Ref# 27197', 'price': 475.0, 'description': 'Good step up with minimal pressure denting.', 'type': 'Thruster (Future)', 'height': 'H 6’4″', 'width': 'W 18 5/14', 'thickness': 'T 2 1/4', 'condition': 'Good', 'manufacturer': 'Tokoro'}\n",
      "2019-11-16 15:09:46 [scrapy.core.engine] DEBUG: Crawled (200) <GET https://www.usedsurfboardshawaii.com/page/11/?post_type=product> (referer: https://www.usedsurfboardshawaii.com/page/10/?post_type=product) ['cached']\n"
     ]
    },
    {
     "name": "stdout",
     "output_type": "stream",
     "text": [
      "Processing 25 out of 25\n",
      "\n",
      "https://www.usedsurfboardshawaii.com/page/11/?post_type=product\n"
     ]
    },
    {
     "name": "stderr",
     "output_type": "stream",
     "text": [
      "2019-11-16 15:09:46 [scrapy.core.scraper] DEBUG: Scraped from <200 https://www.usedsurfboardshawaii.com/product/5ft-6in-al-merrick-squash-tail-ref-28584/>\n",
      "{'url': 'https://www.usedsurfboardshawaii.com/product/5ft-6in-al-merrick-squash-tail-ref-28584/', 'title': '5ft 6in Al Merrick Squash Tail Ref# 28584', 'price': 299.0, 'description': 'Good shortboard with previous repairs but still has plenty of life left.', 'type': 'Five-Fin (Future)', 'height': 'H 5′ 6″', 'width': 'W 19 1/4', 'thickness': 'T 2 1/4', 'condition': 'Good', 'manufacturer': 'Al Merrick'}\n",
      "2019-11-16 15:09:46 [scrapy.core.scraper] DEBUG: Scraped from <200 https://www.usedsurfboardshawaii.com/product/5ft-7in-brewer-morgan-swallow-tail-ref-28535/>\n",
      "{'url': 'https://www.usedsurfboardshawaii.com/product/5ft-7in-brewer-morgan-swallow-tail-ref-28535/', 'title': '5ft 7in Brewer/Morgan Swallow Tail Ref# 28535', 'price': 465.0, 'description': '2 3/8″', 'type': 'Thruster (FCS 2)', 'height': 'H 5′ 7″', 'width': 'W 19 1/2″', 'thickness': None, 'condition': 'Good', 'manufacturer': 'Dick Brewer, Steve Morgan'}\n",
      "2019-11-16 15:09:46 [scrapy.core.engine] DEBUG: Crawled (200) <GET https://www.usedsurfboardshawaii.com/product/5ft-3in-hoss-co-swallow-tail-ref-28602/> (referer: https://www.usedsurfboardshawaii.com/page/11/?post_type=product) ['cached']\n"
     ]
    },
    {
     "name": "stdout",
     "output_type": "stream",
     "text": [
      "Total:  25\n",
      "Processing 1 out of 25\n",
      "Processing 2 out of 25\n"
     ]
    },
    {
     "name": "stderr",
     "output_type": "stream",
     "text": [
      "2019-11-16 15:09:46 [scrapy.core.engine] DEBUG: Crawled (200) <GET https://www.usedsurfboardshawaii.com/product/5ft-10in-sharpeye-modern2-swallow-tail-ref-28531/> (referer: https://www.usedsurfboardshawaii.com/page/11/?post_type=product) ['cached']\n",
      "2019-11-16 15:09:46 [scrapy.core.engine] DEBUG: Crawled (200) <GET https://www.usedsurfboardshawaii.com/product/6ft-4in-al-merrick-black-white-round-tail-ref-28559/> (referer: https://www.usedsurfboardshawaii.com/page/11/?post_type=product) ['cached']\n",
      "2019-11-16 15:09:46 [scrapy.core.scraper] DEBUG: Scraped from <200 https://www.usedsurfboardshawaii.com/product/5ft-3in-hoss-co-swallow-tail-ref-28602/>\n",
      "{'url': 'https://www.usedsurfboardshawaii.com/product/5ft-3in-hoss-co-swallow-tail-ref-28602/', 'title': '5ft 3in Hoss Co Swallow Tail Ref# 28602', 'price': 350.0, 'description': 'Good condition hybrid with a few light deck pressures but otherwise minimal signs of previous use', 'type': 'Quad (Future)', 'height': 'H 5’3″', 'width': 'W 20″', 'thickness': 'T 2.5″', 'condition': 'Good', 'manufacturer': 'Hoss Co.'}\n"
     ]
    },
    {
     "name": "stdout",
     "output_type": "stream",
     "text": [
      "Processing 3 out of 25\n",
      "Processing 4 out of 25\n"
     ]
    },
    {
     "name": "stderr",
     "output_type": "stream",
     "text": [
      "2019-11-16 15:09:46 [scrapy.core.engine] DEBUG: Crawled (200) <GET https://www.usedsurfboardshawaii.com/product/6ft-4in-dhd-dna-mf-squash-tail-ref-28550/> (referer: https://www.usedsurfboardshawaii.com/page/11/?post_type=product) ['cached']\n",
      "2019-11-16 15:09:46 [scrapy.core.scraper] DEBUG: Scraped from <200 https://www.usedsurfboardshawaii.com/product/5ft-10in-sharpeye-modern2-swallow-tail-ref-28531/>\n",
      "{'url': 'https://www.usedsurfboardshawaii.com/product/5ft-10in-sharpeye-modern2-swallow-tail-ref-28531/', 'title': '5ft 10in SharpEye (Modern2) Swallow Tail Ref# 28531', 'price': 499.0, 'description': 'Good condition shortboard with light deck pressures but otherwise minimal signs of previous use', 'type': 'Thruster (FCS2)', 'height': 'H 5’10”', 'width': 'W 20.25″', 'thickness': 'T 2.65″', 'condition': 'Good', 'manufacturer': 'Sharp Eye, Sharpeye'}\n",
      "2019-11-16 15:09:47 [scrapy.core.engine] DEBUG: Crawled (200) <GET https://www.usedsurfboardshawaii.com/product/6ft-2in-pyzel-ghost-round-tail-ref-28551/> (referer: https://www.usedsurfboardshawaii.com/page/11/?post_type=product) ['cached']\n",
      "2019-11-16 15:09:47 [scrapy.core.scraper] DEBUG: Scraped from <200 https://www.usedsurfboardshawaii.com/product/6ft-4in-al-merrick-black-white-round-tail-ref-28559/>\n",
      "{'url': 'https://www.usedsurfboardshawaii.com/product/6ft-4in-al-merrick-black-white-round-tail-ref-28559/', 'title': '6ft 4in Al Merrick (Black/White) Round Tail Ref# 28559', 'price': 599.0, 'description': 'Good condition shortboard with a few light deck pressures but otherwise minimal signs of previous use', 'type': 'Thruster (FCS)', 'height': 'H 6’4″', 'width': 'W 20 1/4″', 'thickness': 'T 2 11/16″', 'condition': 'Good', 'manufacturer': 'Al Merrick'}\n"
     ]
    },
    {
     "name": "stdout",
     "output_type": "stream",
     "text": [
      "Processing 5 out of 25\n",
      "Processing 6 out of 25\n"
     ]
    },
    {
     "name": "stderr",
     "output_type": "stream",
     "text": [
      "2019-11-16 15:09:47 [scrapy.core.engine] DEBUG: Crawled (200) <GET https://www.usedsurfboardshawaii.com/product/7ft-1in-small-faces-diamond-tail-ref-28517/> (referer: https://www.usedsurfboardshawaii.com/page/11/?post_type=product) ['cached']\n",
      "2019-11-16 15:09:47 [scrapy.core.scraper] DEBUG: Scraped from <200 https://www.usedsurfboardshawaii.com/product/6ft-4in-dhd-dna-mf-squash-tail-ref-28550/>\n",
      "{'url': 'https://www.usedsurfboardshawaii.com/product/6ft-4in-dhd-dna-mf-squash-tail-ref-28550/', 'title': '6ft 4in DHD (DNA MF) Squash Tail Ref# 28550', 'price': 485.0, 'description': 'Good condition shortboard with light deck pressures but otherwise minimal signs of previous use', 'type': 'Thruster (Future)', 'height': 'H 6’4″', 'width': 'W 19 1/2″', 'thickness': 'T 2 1/2″', 'condition': 'Good', 'manufacturer': 'DHD'}\n",
      "2019-11-16 15:09:47 [scrapy.core.engine] DEBUG: Crawled (200) <GET https://www.usedsurfboardshawaii.com/product/6ft-2in-snapy-round-tail-ref-28497/> (referer: https://www.usedsurfboardshawaii.com/page/11/?post_type=product) ['cached']\n",
      "2019-11-16 15:09:47 [scrapy.core.scraper] DEBUG: Scraped from <200 https://www.usedsurfboardshawaii.com/product/6ft-2in-pyzel-ghost-round-tail-ref-28551/>\n",
      "{'url': 'https://www.usedsurfboardshawaii.com/product/6ft-2in-pyzel-ghost-round-tail-ref-28551/', 'title': '6ft 2in Pyzel (Ghost) Round Tail Ref# 28551', 'price': 485.0, 'description': 'Good condition shortboard with light deck pressures but otherwise minimal signs of previous use', 'type': '5-Fin (FCS2)', 'height': 'H 6’2″', 'width': 'W 19.38″', 'thickness': 'T 2.56″', 'condition': 'Good', 'manufacturer': 'Pyzel'}\n"
     ]
    },
    {
     "name": "stdout",
     "output_type": "stream",
     "text": [
      "Processing 7 out of 25\n",
      "Processing 8 out of 25\n"
     ]
    },
    {
     "name": "stderr",
     "output_type": "stream",
     "text": [
      "2019-11-16 15:09:47 [scrapy.core.engine] DEBUG: Crawled (200) <GET https://www.usedsurfboardshawaii.com/product/10ft-6in-carbon-riders-sup-squash-tail-ref-28404/> (referer: https://www.usedsurfboardshawaii.com/page/11/?post_type=product) ['cached']\n",
      "2019-11-16 15:09:47 [scrapy.core.engine] DEBUG: Crawled (200) <GET https://www.usedsurfboardshawaii.com/product/8ft-riviera-square-tail-ref-28431/> (referer: https://www.usedsurfboardshawaii.com/page/11/?post_type=product) ['cached']\n",
      "2019-11-16 15:09:47 [scrapy.core.scraper] DEBUG: Scraped from <200 https://www.usedsurfboardshawaii.com/product/6ft-2in-snapy-round-tail-ref-28497/>\n",
      "{'url': 'https://www.usedsurfboardshawaii.com/product/6ft-2in-snapy-round-tail-ref-28497/', 'title': '6ft 2in Snapy Round Tail Ref# 28497', 'price': 200.0, 'description': None, 'type': 'Thruster (', 'height': None, 'width': None, 'thickness': None, 'condition': 'Good', 'manufacturer': 'Snapy'}\n"
     ]
    },
    {
     "name": "stdout",
     "output_type": "stream",
     "text": [
      "Processing 9 out of 25\n",
      "Processing 10 out of 25\n"
     ]
    },
    {
     "name": "stderr",
     "output_type": "stream",
     "text": [
      "2019-11-16 15:09:47 [scrapy.core.engine] DEBUG: Crawled (200) <GET https://www.usedsurfboardshawaii.com/product/6ft-3in-demarco-eps-swallow-tail-ref-28431/> (referer: https://www.usedsurfboardshawaii.com/page/11/?post_type=product) ['cached']\n",
      "2019-11-16 15:09:47 [scrapy.core.scraper] DEBUG: Scraped from <200 https://www.usedsurfboardshawaii.com/product/10ft-6in-carbon-riders-sup-squash-tail-ref-28404/>\n",
      "{'url': 'https://www.usedsurfboardshawaii.com/product/10ft-6in-carbon-riders-sup-squash-tail-ref-28404/', 'title': '10ft 6in Carbon Riders SUP Squash Tail Ref# 28404', 'price': 1299.0, 'description': 'Great condition SUP with minimal signs of previous use', 'type': '2+1 (FCS)', 'height': 'H 10’6″\\nW 32″', 'width': None, 'thickness': 'T 4″', 'condition': 'Good, Like New, very good', 'manufacturer': 'Carbon Riders'}\n",
      "2019-11-16 15:09:47 [scrapy.core.engine] DEBUG: Crawled (200) <GET https://www.usedsurfboardshawaii.com/product/5ft-9in-aloha-swallow-tail-ref-28485/> (referer: https://www.usedsurfboardshawaii.com/page/11/?post_type=product) ['cached']\n",
      "2019-11-16 15:09:48 [scrapy.core.scraper] DEBUG: Scraped from <200 https://www.usedsurfboardshawaii.com/product/8ft-riviera-square-tail-ref-28431/>\n",
      "{'url': 'https://www.usedsurfboardshawaii.com/product/8ft-riviera-square-tail-ref-28431/', 'title': '8ft Riviera Square Tail Ref# 28431', 'price': 450.0, 'description': 'Good condition SUP Paddle Board with minimal signs of previous use', 'type': '5-Fin (Future)', 'height': 'H 8’0″', 'width': 'W 31″', 'thickness': 'T 3 1/2″', 'condition': 'Good', 'manufacturer': 'Riviera'}\n"
     ]
    },
    {
     "name": "stdout",
     "output_type": "stream",
     "text": [
      "Processing 11 out of 25\n",
      "Processing 12 out of 25\n"
     ]
    },
    {
     "name": "stderr",
     "output_type": "stream",
     "text": [
      "2019-11-16 15:09:48 [scrapy.core.engine] DEBUG: Crawled (200) <GET https://www.usedsurfboardshawaii.com/product/5ft-11in-raynor-swallow-tail-ref-28444/> (referer: https://www.usedsurfboardshawaii.com/page/11/?post_type=product) ['cached']\n",
      "2019-11-16 15:09:48 [scrapy.core.scraper] DEBUG: Scraped from <200 https://www.usedsurfboardshawaii.com/product/6ft-3in-demarco-eps-swallow-tail-ref-28431/>\n",
      "{'url': 'https://www.usedsurfboardshawaii.com/product/6ft-3in-demarco-eps-swallow-tail-ref-28431/', 'title': '6ft 3in Demarco (EPS) Swallow Tail Ref# 28431', 'price': 350.0, 'description': 'Good condition EPS shortboard with light deck pressures but otherwise minimal signs of previous use', 'type': 'Thruster (FCS)', 'height': 'H 6’3″', 'width': 'W 19 11/16″', 'thickness': 'T 2 11/16″', 'condition': 'Good', 'manufacturer': 'DeMarco'}\n",
      "2019-11-16 15:09:48 [scrapy.core.engine] DEBUG: Crawled (200) <GET https://www.usedsurfboardshawaii.com/product/5ft-11in-hansen-swallow-tail-ref-28432/> (referer: https://www.usedsurfboardshawaii.com/page/11/?post_type=product) ['cached']\n",
      "2019-11-16 15:09:48 [scrapy.core.scraper] DEBUG: Scraped from <200 https://www.usedsurfboardshawaii.com/product/5ft-9in-aloha-swallow-tail-ref-28485/>\n",
      "{'url': 'https://www.usedsurfboardshawaii.com/product/5ft-9in-aloha-swallow-tail-ref-28485/', 'title': '5ft 9in Aloha Swallow Tail Ref# 28485', 'price': 499.0, 'description': 'Good condition fish with wax mats already applied and minimal signs of previous use', 'type': 'Twin (Future)', 'height': 'H 5’9″', 'width': 'W 20.5″', 'thickness': 'T 2.75″', 'condition': 'Good', 'manufacturer': 'Aloha'}\n"
     ]
    },
    {
     "name": "stdout",
     "output_type": "stream",
     "text": [
      "Processing 13 out of 25\n",
      "Processing 14 out of 25\n"
     ]
    },
    {
     "name": "stderr",
     "output_type": "stream",
     "text": [
      "2019-11-16 15:09:48 [scrapy.core.engine] DEBUG: Crawled (200) <GET https://www.usedsurfboardshawaii.com/product/5ft-10in-kils-squash-tail-ref-28398/> (referer: https://www.usedsurfboardshawaii.com/page/11/?post_type=product) ['cached']\n",
      "2019-11-16 15:09:48 [scrapy.core.scraper] DEBUG: Scraped from <200 https://www.usedsurfboardshawaii.com/product/5ft-11in-raynor-swallow-tail-ref-28444/>\n",
      "{'url': 'https://www.usedsurfboardshawaii.com/product/5ft-11in-raynor-swallow-tail-ref-28444/', 'title': '5ft 11in Raynor Swallow Tail Ref# 28444', 'price': 199.0, 'description': 'Fair condition shortboard that is decently pressure dented but is in otherwise good shape', 'type': 'Thruster (FCS2)', 'height': 'H 5’11”', 'width': 'W 18 1/2″', 'thickness': 'T 2 3/16″', 'condition': 'Fair', 'manufacturer': 'Raynor'}\n",
      "2019-11-16 15:09:48 [scrapy.core.engine] DEBUG: Crawled (200) <GET https://www.usedsurfboardshawaii.com/product/8ft-4in-blue-planet-sup-pin-tail-ref-28025/> (referer: https://www.usedsurfboardshawaii.com/page/11/?post_type=product) ['cached']\n",
      "2019-11-16 15:09:48 [scrapy.core.scraper] DEBUG: Scraped from <200 https://www.usedsurfboardshawaii.com/product/5ft-11in-hansen-swallow-tail-ref-28432/>\n",
      "{'url': 'https://www.usedsurfboardshawaii.com/product/5ft-11in-hansen-swallow-tail-ref-28432/', 'title': '5ft 11in Hansen Swallow Tail Ref# 28432', 'price': 250.0, 'description': 'Fair condition shortboard with a lot of pressure dents from previous use but otherwise good condition', 'type': 'Thruster (Future)', 'height': 'H 5’11”', 'width': 'W 19 3/8″', 'thickness': 'T 2 3/8″', 'condition': 'Fair', 'manufacturer': 'Hansen'}\n"
     ]
    },
    {
     "name": "stdout",
     "output_type": "stream",
     "text": [
      "Processing 15 out of 25\n",
      "Processing 16 out of 25\n"
     ]
    },
    {
     "name": "stderr",
     "output_type": "stream",
     "text": [
      "2019-11-16 15:09:48 [scrapy.core.engine] DEBUG: Crawled (200) <GET https://www.usedsurfboardshawaii.com/product/9ft-c4-waterman-bat-tail-ref-28350/> (referer: https://www.usedsurfboardshawaii.com/page/11/?post_type=product) ['cached']\n",
      "2019-11-16 15:09:48 [scrapy.core.scraper] DEBUG: Scraped from <200 https://www.usedsurfboardshawaii.com/product/5ft-10in-kils-squash-tail-ref-28398/>\n",
      "{'url': 'https://www.usedsurfboardshawaii.com/product/5ft-10in-kils-squash-tail-ref-28398/', 'title': '5ft 10in Kils Squash Tail Ref# 28398', 'price': 535.0, 'description': 'Good condition shortboard with light deck pressures but otherwise minimal signs of previous use', 'type': 'Thruster (Future)', 'height': 'H 5’10”', 'width': 'W 19″', 'thickness': 'T 2 3/4″', 'condition': 'Good', 'manufacturer': 'Kils'}\n",
      "2019-11-16 15:09:48 [scrapy.core.engine] DEBUG: Crawled (200) <GET https://www.usedsurfboardshawaii.com/product/6ft-1in-tokoro-eps-round-pin-tail-ref-28142/> (referer: https://www.usedsurfboardshawaii.com/page/11/?post_type=product) ['cached']\n",
      "2019-11-16 15:09:48 [scrapy.core.scraper] DEBUG: Scraped from <200 https://www.usedsurfboardshawaii.com/product/8ft-4in-blue-planet-sup-pin-tail-ref-28025/>\n",
      "{'url': 'https://www.usedsurfboardshawaii.com/product/8ft-4in-blue-planet-sup-pin-tail-ref-28025/', 'title': '8ft 4in Blue Planet SUP Pin Tail Ref# 28025', 'price': 450.0, 'description': 'Good condition Stand Up Paddle with minimal signs of previous use', 'type': '4+1 (Future)', 'height': 'H 8’4″', 'width': 'W 27″', 'thickness': 'T 4″', 'condition': 'Good', 'manufacturer': 'Blue Planet'}\n"
     ]
    },
    {
     "name": "stdout",
     "output_type": "stream",
     "text": [
      "Processing 17 out of 25\n",
      "Processing 18 out of 25\n"
     ]
    },
    {
     "name": "stderr",
     "output_type": "stream",
     "text": [
      "2019-11-16 15:09:49 [scrapy.core.engine] DEBUG: Crawled (200) <GET https://www.usedsurfboardshawaii.com/product/5ft-8in-mega-round-tail-ref-28351/> (referer: https://www.usedsurfboardshawaii.com/page/11/?post_type=product) ['cached']\n",
      "2019-11-16 15:09:49 [scrapy.core.scraper] DEBUG: Scraped from <200 https://www.usedsurfboardshawaii.com/product/9ft-c4-waterman-bat-tail-ref-28350/>\n",
      "{'url': 'https://www.usedsurfboardshawaii.com/product/9ft-c4-waterman-bat-tail-ref-28350/', 'title': '9ft C4 Waterman Bat Tail Ref# 28350', 'price': 350.0, 'description': 'Fair condition SUP with minor signs of previous use', 'type': '2+1 (Future)', 'height': 'H 9’0″', 'width': 'W 26 3/4″', 'thickness': 'T 3 7/16″', 'condition': 'Fair', 'manufacturer': 'C4 Waterman'}\n",
      "2019-11-16 15:09:49 [scrapy.core.engine] DEBUG: Crawled (200) <GET https://www.usedsurfboardshawaii.com/product/10ft-2in-j-k-round-tail-ref-28230/> (referer: https://www.usedsurfboardshawaii.com/page/11/?post_type=product) ['cached']\n",
      "2019-11-16 15:09:49 [scrapy.core.scraper] DEBUG: Scraped from <200 https://www.usedsurfboardshawaii.com/product/6ft-1in-tokoro-eps-round-pin-tail-ref-28142/>\n",
      "{'url': 'https://www.usedsurfboardshawaii.com/product/6ft-1in-tokoro-eps-round-pin-tail-ref-28142/', 'title': '6ft 1in Tokoro (EPS) Round Pin Tail Ref# 28142', 'price': 275.0, 'description': None, 'type': None, 'height': None, 'width': None, 'thickness': None, 'condition': 'Good', 'manufacturer': 'Tokoro'}\n"
     ]
    },
    {
     "name": "stdout",
     "output_type": "stream",
     "text": [
      "Processing 19 out of 25\n",
      "Processing 20 out of 25\n"
     ]
    },
    {
     "name": "stderr",
     "output_type": "stream",
     "text": [
      "2019-11-16 15:09:49 [scrapy.core.engine] DEBUG: Crawled (200) <GET https://www.usedsurfboardshawaii.com/product/6ft-8in-parameter-bat-tail-ref-28358/> (referer: https://www.usedsurfboardshawaii.com/page/11/?post_type=product) ['cached']\n",
      "2019-11-16 15:09:49 [scrapy.core.scraper] DEBUG: Scraped from <200 https://www.usedsurfboardshawaii.com/product/5ft-8in-mega-round-tail-ref-28351/>\n",
      "{'url': 'https://www.usedsurfboardshawaii.com/product/5ft-8in-mega-round-tail-ref-28351/', 'title': '5ft 8in Mega Round Tail Ref# 28351', 'price': 215.0, 'description': 'Fair condition shortboard with pressure denting and signs of previous use', 'type': 'Quad (Future)', 'height': 'H 5’8″', 'width': 'W 19″', 'thickness': 'T 2 1/4″', 'condition': 'Fair', 'manufacturer': 'Mega'}\n",
      "2019-11-16 15:09:49 [scrapy.core.engine] DEBUG: Crawled (200) <GET https://www.usedsurfboardshawaii.com/product/5ft-9in-apex-kolohe-squash-tail-ref-28316/> (referer: https://www.usedsurfboardshawaii.com/page/11/?post_type=product) ['cached']\n",
      "2019-11-16 15:09:49 [scrapy.core.scraper] DEBUG: Scraped from <200 https://www.usedsurfboardshawaii.com/product/10ft-2in-j-k-round-tail-ref-28230/>\n",
      "{'url': 'https://www.usedsurfboardshawaii.com/product/10ft-2in-j-k-round-tail-ref-28230/', 'title': '10ft 2in J.K. Round Tail Ref# 28230', 'price': 599.0, 'description': 'Good condition Stand Up Paddle board with minor signs of previous use', 'type': '2+1 (Future)', 'height': 'H 10’2″', 'width': 'W 32″', 'thickness': 'T 4.6″', 'condition': 'Good', 'manufacturer': 'JK Surfboards'}\n"
     ]
    },
    {
     "name": "stdout",
     "output_type": "stream",
     "text": [
      "Processing 21 out of 25\n",
      "Processing 22 out of 25\n"
     ]
    },
    {
     "name": "stderr",
     "output_type": "stream",
     "text": [
      "2019-11-16 15:09:49 [scrapy.core.engine] DEBUG: Crawled (200) <GET https://www.usedsurfboardshawaii.com/product/6ft-2in-pang-squash-tail-ref-27923/> (referer: https://www.usedsurfboardshawaii.com/page/11/?post_type=product) ['cached']\n",
      "2019-11-16 15:09:49 [scrapy.core.scraper] DEBUG: Scraped from <200 https://www.usedsurfboardshawaii.com/product/6ft-8in-parameter-bat-tail-ref-28358/>\n",
      "{'url': 'https://www.usedsurfboardshawaii.com/product/6ft-8in-parameter-bat-tail-ref-28358/', 'title': '6ft 8in Parameter Bat Tail Ref# 28358', 'price': 399.0, 'description': 'Good condition shortboard with light deck pressures but otherwise minimal signs of previous use', 'type': '5-Fin (FCS)', 'height': 'H 6’8″', 'width': 'W 19 3/4″', 'thickness': 'T 21/2″', 'condition': 'Good', 'manufacturer': 'parmenter'}\n",
      "2019-11-16 15:09:49 [scrapy.core.engine] DEBUG: Crawled (200) <GET https://www.usedsurfboardshawaii.com/product/6ft-4in-8-track-booster-pocket-round-tail-ref-28281/> (referer: https://www.usedsurfboardshawaii.com/page/11/?post_type=product) ['cached']\n",
      "2019-11-16 15:09:49 [scrapy.core.scraper] DEBUG: Scraped from <200 https://www.usedsurfboardshawaii.com/product/5ft-9in-apex-kolohe-squash-tail-ref-28316/>\n",
      "{'url': 'https://www.usedsurfboardshawaii.com/product/5ft-9in-apex-kolohe-squash-tail-ref-28316/', 'title': '5ft 9in Apex (Kolohe) Squash Tail Ref# 28316', 'price': 299.0, 'description': 'Good condition hybrid/shortboard with light deck pressures but otherwise minimal signs of previous use', 'type': '5-Fin (Future)', 'height': 'H 5’9″', 'width': 'W 20″', 'thickness': 'T 2.3″', 'condition': 'Good', 'manufacturer': 'Apex'}\n"
     ]
    },
    {
     "name": "stdout",
     "output_type": "stream",
     "text": [
      "Processing 23 out of 25\n",
      "Processing 24 out of 25\n"
     ]
    },
    {
     "name": "stderr",
     "output_type": "stream",
     "text": [
      "2019-11-16 15:09:49 [scrapy.core.engine] DEBUG: Crawled (200) <GET https://www.usedsurfboardshawaii.com/product/9ft-da-stand-up-kine-swallow-tail-ref-27669/> (referer: https://www.usedsurfboardshawaii.com/page/11/?post_type=product) ['cached']\n",
      "2019-11-16 15:09:49 [scrapy.core.scraper] DEBUG: Scraped from <200 https://www.usedsurfboardshawaii.com/product/6ft-2in-pang-squash-tail-ref-27923/>\n",
      "{'url': 'https://www.usedsurfboardshawaii.com/product/6ft-2in-pang-squash-tail-ref-27923/', 'title': '6ft 2in Pang Squash Tail Ref# 27923', 'price': 399.0, 'description': 'Good condition shortboard with some light pressure dents and previous professional repairs as shown in photos', 'type': 'Thruster (FCS2)', 'height': 'H 6’2″', 'width': 'W 18 3/8″', 'thickness': 'T 2 3/8″', 'condition': 'Good', 'manufacturer': 'Pang'}\n",
      "2019-11-16 15:09:50 [scrapy.core.engine] DEBUG: Crawled (200) <GET https://www.usedsurfboardshawaii.com/product/5ft-11in-bushman-square-tail-ref-28146/> (referer: https://www.usedsurfboardshawaii.com/page/11/?post_type=product) ['cached']\n",
      "2019-11-16 15:09:50 [scrapy.core.scraper] DEBUG: Scraped from <200 https://www.usedsurfboardshawaii.com/product/6ft-4in-8-track-booster-pocket-round-tail-ref-28281/>\n",
      "{'url': 'https://www.usedsurfboardshawaii.com/product/6ft-4in-8-track-booster-pocket-round-tail-ref-28281/', 'title': '6ft 4in 8 Track (Booster Pocket) Round Tail Ref# 28281', 'price': 350.0, 'description': 'Good condition hybrid/shortboard with light deck pressures but otherwise minimal signs of previous use', 'type': 'Quad (Future)', 'height': 'H 6’4″', 'width': 'W 20″', 'thickness': 'T 2 5/8″', 'condition': 'Good', 'manufacturer': '8 Track'}\n",
      "2019-11-16 15:09:50 [scrapy.core.engine] DEBUG: Crawled (200) <GET https://www.usedsurfboardshawaii.com/page/12/?post_type=product> (referer: https://www.usedsurfboardshawaii.com/page/11/?post_type=product) ['cached']\n"
     ]
    },
    {
     "name": "stdout",
     "output_type": "stream",
     "text": [
      "Processing 25 out of 25\n",
      "\n",
      "https://www.usedsurfboardshawaii.com/page/12/?post_type=product\n"
     ]
    },
    {
     "name": "stderr",
     "output_type": "stream",
     "text": [
      "2019-11-16 15:09:50 [scrapy.core.scraper] DEBUG: Scraped from <200 https://www.usedsurfboardshawaii.com/product/9ft-da-stand-up-kine-swallow-tail-ref-27669/>\n",
      "{'url': 'https://www.usedsurfboardshawaii.com/product/9ft-da-stand-up-kine-swallow-tail-ref-27669/', 'title': '9ft Da Stand Up Kine Swallow Tail Ref# 27669', 'price': 350.0, 'description': 'Good condition SUP with a few minor signs of previous use', 'type': '2+1 (Future)', 'height': 'H 9’0″', 'width': 'W 27″', 'thickness': 'T 3″', 'condition': 'Good', 'manufacturer': 'Da Stand Up Kine'}\n",
      "2019-11-16 15:09:50 [scrapy.core.scraper] DEBUG: Scraped from <200 https://www.usedsurfboardshawaii.com/product/5ft-11in-bushman-square-tail-ref-28146/>\n",
      "{'url': 'https://www.usedsurfboardshawaii.com/product/5ft-11in-bushman-square-tail-ref-28146/', 'title': '5ft 11in Bushman Square Tail Ref# 28146', 'price': 275.0, 'description': 'Good condition shortbard with light deck pressures but otherwise minimal signs of previous use', 'type': 'Quad (Future)', 'height': 'H 5’11”', 'width': 'W 18.5″', 'thickness': 'T 2 1/4″', 'condition': 'Good', 'manufacturer': 'Bushman'}\n",
      "2019-11-16 15:09:50 [scrapy.core.engine] DEBUG: Crawled (200) <GET https://www.usedsurfboardshawaii.com/product/6ft-2in-chronic-swallow-tail-ref-28076/> (referer: https://www.usedsurfboardshawaii.com/page/12/?post_type=product) ['cached']\n"
     ]
    },
    {
     "name": "stdout",
     "output_type": "stream",
     "text": [
      "Total:  25\n",
      "Processing 1 out of 25\n",
      "Processing 2 out of 25\n"
     ]
    },
    {
     "name": "stderr",
     "output_type": "stream",
     "text": [
      "2019-11-16 15:09:50 [scrapy.core.engine] DEBUG: Crawled (200) <GET https://www.usedsurfboardshawaii.com/product/5ft-8in-tomo-nano-squash-tail-ref-28061/> (referer: https://www.usedsurfboardshawaii.com/page/12/?post_type=product) ['cached']\n",
      "2019-11-16 15:09:50 [scrapy.core.engine] DEBUG: Crawled (200) <GET https://www.usedsurfboardshawaii.com/product/5ft-9in-purington-monkey-bizz-squash-tail-ref-28067/> (referer: https://www.usedsurfboardshawaii.com/page/12/?post_type=product) ['cached']\n",
      "2019-11-16 15:09:50 [scrapy.core.scraper] DEBUG: Scraped from <200 https://www.usedsurfboardshawaii.com/product/6ft-2in-chronic-swallow-tail-ref-28076/>\n",
      "{'url': 'https://www.usedsurfboardshawaii.com/product/6ft-2in-chronic-swallow-tail-ref-28076/', 'title': '6ft 2in Chronic Swallow Tail Ref# 28076', 'price': 275.0, 'description': 'Good condition shortboard with some light pressure dents but otherwise minimal signs of previous use', 'type': '5-Fin (Future)', 'height': 'H 6’2″', 'width': 'W 19 5/8″', 'thickness': 'T 2 5/8″', 'condition': 'Good', 'manufacturer': 'Chronic'}\n"
     ]
    },
    {
     "name": "stdout",
     "output_type": "stream",
     "text": [
      "Processing 3 out of 25\n",
      "Processing 4 out of 25\n"
     ]
    },
    {
     "name": "stderr",
     "output_type": "stream",
     "text": [
      "2019-11-16 15:09:50 [scrapy.core.engine] DEBUG: Crawled (200) <GET https://www.usedsurfboardshawaii.com/product/8ft-george-ku-round-pin-ref-28232/> (referer: https://www.usedsurfboardshawaii.com/page/12/?post_type=product) ['cached']\n",
      "2019-11-16 15:09:50 [scrapy.core.scraper] DEBUG: Scraped from <200 https://www.usedsurfboardshawaii.com/product/5ft-8in-tomo-nano-squash-tail-ref-28061/>\n",
      "{'url': 'https://www.usedsurfboardshawaii.com/product/5ft-8in-tomo-nano-squash-tail-ref-28061/', 'title': '5ft 8in Tomo Nano Squash Tail Ref# 28061', 'price': 399.0, 'description': 'Good condition shortboard with light deck pressures but otherwise minimal signs of previous use.', 'type': '5-Fin (Future)', 'height': 'H 5’8″', 'width': 'W 20″', 'thickness': 'T 2 5/8″', 'condition': 'Good', 'manufacturer': 'Tomo'}\n",
      "2019-11-16 15:09:50 [scrapy.core.engine] DEBUG: Crawled (200) <GET https://www.usedsurfboardshawaii.com/product/6ft-1in-al-merrick-squash-tail-ref-28102/> (referer: https://www.usedsurfboardshawaii.com/page/12/?post_type=product) ['cached']\n",
      "2019-11-16 15:09:50 [scrapy.core.scraper] DEBUG: Scraped from <200 https://www.usedsurfboardshawaii.com/product/5ft-9in-purington-monkey-bizz-squash-tail-ref-28067/>\n",
      "{'url': 'https://www.usedsurfboardshawaii.com/product/5ft-9in-purington-monkey-bizz-squash-tail-ref-28067/', 'title': '5ft 9in Purington (Monkey Bizz) Squash Tail Ref# 28067', 'price': 399.0, 'description': 'Good condition shortboard with light deck pressures but otherwise minimal signs of previous use', 'type': 'Thruster (Future)', 'height': 'H 5’9″', 'width': 'W 18 5/8″', 'thickness': 'T 2 5/16″', 'condition': 'Good', 'manufacturer': 'Purington'}\n"
     ]
    },
    {
     "name": "stdout",
     "output_type": "stream",
     "text": [
      "Processing 5 out of 25\n",
      "Processing 6 out of 25\n"
     ]
    },
    {
     "name": "stderr",
     "output_type": "stream",
     "text": [
      "2019-11-16 15:09:51 [scrapy.core.engine] DEBUG: Crawled (200) <GET https://www.usedsurfboardshawaii.com/product/5ft-10in-matchi-squash-tail-ref-27919/> (referer: https://www.usedsurfboardshawaii.com/page/12/?post_type=product) ['cached']\n",
      "2019-11-16 15:09:51 [scrapy.core.scraper] DEBUG: Scraped from <200 https://www.usedsurfboardshawaii.com/product/8ft-george-ku-round-pin-ref-28232/>\n",
      "{'url': 'https://www.usedsurfboardshawaii.com/product/8ft-george-ku-round-pin-ref-28232/', 'title': '8ft George Ku Round Pin Ref# 28232', 'price': 665.0, 'description': 'Good condition gun with very light deck pressures and minimal signs of previous use.', 'type': '5 Fin (Futures)', 'height': 'H 8′', 'width': 'W 22”', 'thickness': 'T 3 1/4″', 'condition': 'Good', 'manufacturer': 'George Ku'}\n",
      "2019-11-16 15:09:51 [scrapy.core.engine] DEBUG: Crawled (200) <GET https://www.usedsurfboardshawaii.com/product/6ft-2in-cole-eps-bat-tail-ref-28114/> (referer: https://www.usedsurfboardshawaii.com/page/12/?post_type=product) ['cached']\n",
      "2019-11-16 15:09:51 [scrapy.core.scraper] DEBUG: Scraped from <200 https://www.usedsurfboardshawaii.com/product/6ft-1in-al-merrick-squash-tail-ref-28102/>\n",
      "{'url': 'https://www.usedsurfboardshawaii.com/product/6ft-1in-al-merrick-squash-tail-ref-28102/', 'title': '6ft 1in Al Merrick Squash Tail Ref# 28102', 'price': 599.0, 'description': 'Good condition shortboard with a few light deck pressures but otherwise minimal signs of previous use', 'type': 'Thruster (Future)', 'height': 'H 6’1″', 'width': 'W 20 5/8″', 'thickness': 'T 2 11/16″', 'condition': 'Good', 'manufacturer': 'Al Merrick'}\n"
     ]
    },
    {
     "name": "stdout",
     "output_type": "stream",
     "text": [
      "Processing 7 out of 25\n",
      "Processing 8 out of 25\n"
     ]
    },
    {
     "name": "stderr",
     "output_type": "stream",
     "text": [
      "2019-11-16 15:09:51 [scrapy.core.engine] DEBUG: Crawled (200) <GET https://www.usedsurfboardshawaii.com/product/6ft-2in-j-kashiwai-squash-tail-ref-28108/> (referer: https://www.usedsurfboardshawaii.com/page/12/?post_type=product) ['cached']\n",
      "2019-11-16 15:09:51 [scrapy.core.scraper] DEBUG: Scraped from <200 https://www.usedsurfboardshawaii.com/product/5ft-10in-matchi-squash-tail-ref-27919/>\n",
      "{'url': 'https://www.usedsurfboardshawaii.com/product/5ft-10in-matchi-squash-tail-ref-27919/', 'title': '5ft 10in Matchi Squash Tail Ref# 27919', 'price': 375.0, 'description': 'Good condition short board with light pressure dents but otherwise minimal signs of previous use', 'type': 'Thruster (FCS)', 'height': 'H 5’10”', 'width': 'W 18 11/16″', 'thickness': 'T 2 5/16″', 'condition': 'Good', 'manufacturer': 'Matchi'}\n",
      "2019-11-16 15:09:51 [scrapy.core.engine] DEBUG: Crawled (200) <GET https://www.usedsurfboardshawaii.com/product/6ft-2in-minami-squash-tail-ref-28051/> (referer: https://www.usedsurfboardshawaii.com/page/12/?post_type=product) ['cached']\n",
      "2019-11-16 15:09:51 [scrapy.core.scraper] DEBUG: Scraped from <200 https://www.usedsurfboardshawaii.com/product/6ft-2in-cole-eps-bat-tail-ref-28114/>\n",
      "{'url': 'https://www.usedsurfboardshawaii.com/product/6ft-2in-cole-eps-bat-tail-ref-28114/', 'title': '6ft 2in Cole (EPS) Bat Tail Ref# 28114', 'price': 270.0, 'description': 'Good condition full Epoxy\\xa0 shortboard with minimal signs of previous use', 'type': 'Quad (Future)', 'height': 'H 6’2″', 'width': 'W 19 1/2″', 'thickness': 'T 2 1/2″', 'condition': 'Good', 'manufacturer': 'Cole'}\n"
     ]
    },
    {
     "name": "stdout",
     "output_type": "stream",
     "text": [
      "Processing 9 out of 25\n",
      "Processing 10 out of 25\n"
     ]
    },
    {
     "name": "stderr",
     "output_type": "stream",
     "text": [
      "2019-11-16 15:09:51 [scrapy.core.engine] DEBUG: Crawled (200) <GET https://www.usedsurfboardshawaii.com/product/5ft-7in-no-brand-rounded-pin-tail-ref-28128/> (referer: https://www.usedsurfboardshawaii.com/page/12/?post_type=product) ['cached']\n",
      "2019-11-16 15:09:51 [scrapy.core.scraper] DEBUG: Scraped from <200 https://www.usedsurfboardshawaii.com/product/6ft-2in-j-kashiwai-squash-tail-ref-28108/>\n",
      "{'url': 'https://www.usedsurfboardshawaii.com/product/6ft-2in-j-kashiwai-squash-tail-ref-28108/', 'title': '6ft 2in J. Kashiwai Squash Tail Ref# 28108', 'price': 299.0, 'description': 'Good condition shortboard with light deck pressures but otherwise minimal signs of previous use', 'type': 'Thruster (Future)', 'height': 'H 6’2″', 'width': 'W 18 7/8″', 'thickness': 'T 2 9/16″', 'condition': 'Good', 'manufacturer': 'J. Kashiwai'}\n",
      "2019-11-16 15:09:51 [scrapy.core.engine] DEBUG: Crawled (200) <GET https://www.usedsurfboardshawaii.com/product/7ft-fred-barker-squash-tail-ref-27774/> (referer: https://www.usedsurfboardshawaii.com/page/12/?post_type=product) ['cached']\n",
      "2019-11-16 15:09:51 [scrapy.core.scraper] DEBUG: Scraped from <200 https://www.usedsurfboardshawaii.com/product/6ft-2in-minami-squash-tail-ref-28051/>\n",
      "{'url': 'https://www.usedsurfboardshawaii.com/product/6ft-2in-minami-squash-tail-ref-28051/', 'title': '6ft 2in Minami Squash Tail Ref# 28051', 'price': 275.0, 'description': 'Good condition shortboard with light pressure dents and yellowing from age but otherwise minimal signs of previous use', 'type': 'Thruster (FCS)', 'height': 'H 6’2″', 'width': 'W 18 1/4″', 'thickness': 'T 2 1/4″', 'condition': 'Good', 'manufacturer': 'Minami'}\n"
     ]
    },
    {
     "name": "stdout",
     "output_type": "stream",
     "text": [
      "Processing 11 out of 25\n",
      "Processing 12 out of 25\n"
     ]
    },
    {
     "name": "stderr",
     "output_type": "stream",
     "text": [
      "2019-11-16 15:09:51 [scrapy.core.engine] DEBUG: Crawled (200) <GET https://www.usedsurfboardshawaii.com/product/6ft-6in-russell-doublebump-pin-tail-ref-28055/> (referer: https://www.usedsurfboardshawaii.com/page/12/?post_type=product) ['cached']\n",
      "2019-11-16 15:09:52 [scrapy.core.scraper] DEBUG: Scraped from <200 https://www.usedsurfboardshawaii.com/product/5ft-7in-no-brand-rounded-pin-tail-ref-28128/>\n",
      "{'url': 'https://www.usedsurfboardshawaii.com/product/5ft-7in-no-brand-rounded-pin-tail-ref-28128/', 'title': '5ft 7in No Brand Rounded Pin Tail Ref# 28128', 'price': 199.0, 'description': 'Good condition shortboard that was painted by the previous owner and some of the paint has chipped off but otherwise it has minor other signs of previous use', 'type': '5-Fin (FCS)', 'height': 'H 5’7″', 'width': 'W 20 1/2″', 'thickness': 'T 2 1/4″', 'condition': 'Good', 'manufacturer': 'No Brand'}\n",
      "2019-11-16 15:09:52 [scrapy.core.engine] DEBUG: Crawled (200) <GET https://www.usedsurfboardshawaii.com/product/7ft-jube-round-pin-tail-ref-28200/> (referer: https://www.usedsurfboardshawaii.com/page/12/?post_type=product) ['cached']\n",
      "2019-11-16 15:09:52 [scrapy.core.scraper] DEBUG: Scraped from <200 https://www.usedsurfboardshawaii.com/product/7ft-fred-barker-squash-tail-ref-27774/>\n",
      "{'url': 'https://www.usedsurfboardshawaii.com/product/7ft-fred-barker-squash-tail-ref-27774/', 'title': '7ft Fred Barker Squash Tail Ref# 27774', 'price': 199.0, 'description': 'Fair condition step up with some pressure denting and yellowing from age and previous use', 'type': 'Thruster (Squash)', 'height': 'H 7’0″', 'width': 'W 18 3/4″', 'thickness': 'T 2 9/16″', 'condition': 'Fair', 'manufacturer': 'Fred barker'}\n"
     ]
    },
    {
     "name": "stdout",
     "output_type": "stream",
     "text": [
      "Processing 13 out of 25\n",
      "Processing 14 out of 25\n"
     ]
    },
    {
     "name": "stderr",
     "output_type": "stream",
     "text": [
      "2019-11-16 15:09:52 [scrapy.core.engine] DEBUG: Crawled (200) <GET https://www.usedsurfboardshawaii.com/product/5ft-11in-tokoro-round-tail-ref-28136/> (referer: https://www.usedsurfboardshawaii.com/page/12/?post_type=product) ['cached']\n",
      "2019-11-16 15:09:52 [scrapy.core.scraper] DEBUG: Scraped from <200 https://www.usedsurfboardshawaii.com/product/6ft-6in-russell-doublebump-pin-tail-ref-28055/>\n",
      "{'url': 'https://www.usedsurfboardshawaii.com/product/6ft-6in-russell-doublebump-pin-tail-ref-28055/', 'title': '6ft 6in Russell (DoubleBump) Pin Tail Ref# 28055', 'price': 599.0, 'description': 'Good condition shortboard/step-up with minimal signs of previous use', 'type': 'Thruster (Future)', 'height': 'H 6’6″', 'width': 'W 19″', 'thickness': 'T 2 3/8″', 'condition': 'Good', 'manufacturer': 'Russel Surfboards'}\n",
      "2019-11-16 15:09:52 [scrapy.core.engine] DEBUG: Crawled (200) <GET https://www.usedsurfboardshawaii.com/product/6ft-1in-tokoro-round-pin-tail-ref-28139/> (referer: https://www.usedsurfboardshawaii.com/page/12/?post_type=product) ['cached']\n",
      "2019-11-16 15:09:52 [scrapy.core.scraper] DEBUG: Scraped from <200 https://www.usedsurfboardshawaii.com/product/7ft-jube-round-pin-tail-ref-28200/>\n",
      "{'url': 'https://www.usedsurfboardshawaii.com/product/7ft-jube-round-pin-tail-ref-28200/', 'title': '7ft Jube Round Pin Tail Ref# 28200', 'price': 599.0, 'description': 'Good condition retro gun with a few light deck pressures but otherwise minimal signs of previous use', 'type': '4+1 (FCS2)', 'height': 'H 7’0″', 'width': 'W 20 1/4″', 'thickness': 'T 3 1/2″', 'condition': 'Good', 'manufacturer': 'Jube'}\n"
     ]
    },
    {
     "name": "stdout",
     "output_type": "stream",
     "text": [
      "Processing 15 out of 25\n",
      "Processing 16 out of 25\n"
     ]
    },
    {
     "name": "stderr",
     "output_type": "stream",
     "text": [
      "2019-11-16 15:09:52 [scrapy.core.engine] DEBUG: Crawled (200) <GET https://www.usedsurfboardshawaii.com/product/6ft-1in-tokoro-round-pin-tail-ref-28143/> (referer: https://www.usedsurfboardshawaii.com/page/12/?post_type=product) ['cached']\n",
      "2019-11-16 15:09:52 [scrapy.core.scraper] DEBUG: Scraped from <200 https://www.usedsurfboardshawaii.com/product/5ft-11in-tokoro-round-tail-ref-28136/>\n",
      "{'url': 'https://www.usedsurfboardshawaii.com/product/5ft-11in-tokoro-round-tail-ref-28136/', 'title': '5ft 11in Tokoro Round Tail Ref# 28136', 'price': 399.0, 'description': 'Good condition shortboard with light deck pressures but otherwise minimal signs of previous use', 'type': 'Thruster (FCS2)', 'height': 'H 5’11”', 'width': 'W 18 1/2″', 'thickness': 'T 2 5/16″', 'condition': 'Good', 'manufacturer': 'Tokoro'}\n",
      "2019-11-16 15:09:52 [scrapy.core.engine] DEBUG: Crawled (200) <GET https://www.usedsurfboardshawaii.com/product/6ft-2in-j-behrens-swallow-tail-ref-28194/> (referer: https://www.usedsurfboardshawaii.com/page/12/?post_type=product) ['cached']\n",
      "2019-11-16 15:09:52 [scrapy.core.scraper] DEBUG: Scraped from <200 https://www.usedsurfboardshawaii.com/product/6ft-1in-tokoro-round-pin-tail-ref-28139/>\n",
      "{'url': 'https://www.usedsurfboardshawaii.com/product/6ft-1in-tokoro-round-pin-tail-ref-28139/', 'title': '6ft 1in Tokoro Round Pin Tail Ref# 28139', 'price': 199.0, 'description': 'Fair condition shortboard with light deck pressures, there is a sizable ding (as seen in photos) it can be repaired through our shop for $50 with a 3-7 day turnaround and text message updates', 'type': 'Thruster (FCS2)', 'height': 'H 6’1″', 'width': 'W 18 5/8″', 'thickness': 'T 2 5/6″', 'condition': 'Fair', 'manufacturer': 'Tokoro'}\n"
     ]
    },
    {
     "name": "stdout",
     "output_type": "stream",
     "text": [
      "Processing 17 out of 25\n",
      "Processing 18 out of 25\n"
     ]
    },
    {
     "name": "stderr",
     "output_type": "stream",
     "text": [
      "2019-11-16 15:09:52 [scrapy.core.engine] DEBUG: Crawled (200) <GET https://www.usedsurfboardshawaii.com/product/9ft-10in-gordon-smith-mike-hynson-square-tail-ref-27803/> (referer: https://www.usedsurfboardshawaii.com/page/12/?post_type=product) ['cached']\n",
      "2019-11-16 15:09:52 [scrapy.core.scraper] DEBUG: Scraped from <200 https://www.usedsurfboardshawaii.com/product/6ft-1in-tokoro-round-pin-tail-ref-28143/>\n",
      "{'url': 'https://www.usedsurfboardshawaii.com/product/6ft-1in-tokoro-round-pin-tail-ref-28143/', 'title': '6ft 1in Tokoro Round Pin Tail Ref# 28143', 'price': 275.0, 'description': 'Good condition shortboard with light deck pressures but otherwise minimal signs of previous use', 'type': 'Thruster (FCS2)', 'height': 'H 6’1″', 'width': 'W 18 5/8″', 'thickness': 'T 2 5/6″', 'condition': 'Good', 'manufacturer': 'Tokoro'}\n",
      "2019-11-16 15:09:53 [scrapy.core.engine] DEBUG: Crawled (200) <GET https://www.usedsurfboardshawaii.com/product/5ft-8in-tokoro-squash-tail-ref-28219/> (referer: https://www.usedsurfboardshawaii.com/page/12/?post_type=product) ['cached']\n",
      "2019-11-16 15:09:53 [scrapy.core.scraper] DEBUG: Scraped from <200 https://www.usedsurfboardshawaii.com/product/6ft-2in-j-behrens-swallow-tail-ref-28194/>\n",
      "{'url': 'https://www.usedsurfboardshawaii.com/product/6ft-2in-j-behrens-swallow-tail-ref-28194/', 'title': '6ft 2in J. Behrens Swallow tail Ref# 28194', 'price': 350.0, 'description': 'Good condition fish/hybrid board with minimal signs of previous use.\\xa0 This board shape is like a snowboard surfboard hybrid', 'type': '4+1 (Future)', 'height': 'H 6’2″', 'width': 'W 19″', 'thickness': 'T 2 3/4″', 'condition': 'Good', 'manufacturer': 'Jay Behrens'}\n"
     ]
    },
    {
     "name": "stdout",
     "output_type": "stream",
     "text": [
      "Processing 19 out of 25\n",
      "Processing 20 out of 25\n"
     ]
    },
    {
     "name": "stderr",
     "output_type": "stream",
     "text": [
      "2019-11-16 15:09:53 [scrapy.core.engine] DEBUG: Crawled (200) <GET https://www.usedsurfboardshawaii.com/product/6ft-4in-peralta-squash-tail-ref-2828/> (referer: https://www.usedsurfboardshawaii.com/page/12/?post_type=product) ['cached']\n",
      "2019-11-16 15:09:53 [scrapy.core.scraper] DEBUG: Scraped from <200 https://www.usedsurfboardshawaii.com/product/9ft-10in-gordon-smith-mike-hynson-square-tail-ref-27803/>\n",
      "{'url': 'https://www.usedsurfboardshawaii.com/product/9ft-10in-gordon-smith-mike-hynson-square-tail-ref-27803/', 'title': '9ft 10in Gordon Smith (Mike Hynson) Square Tail Ref# 27803', 'price': 1600.0, 'description': 'Good condition retro longboard with minimal signs of previous use.', 'type': 'Single (Glassed in)', 'height': 'H 9’10”', 'width': 'W 23″', 'thickness': 'T 3 1/2″', 'condition': 'Good', 'manufacturer': 'Mike Hynson, Gordon Smith, Hynson'}\n",
      "2019-11-16 15:09:53 [scrapy.core.engine] DEBUG: Crawled (200) <GET https://www.usedsurfboardshawaii.com/product/5ft-7in-bret-malolo-diamond-tail-ref-28252/> (referer: https://www.usedsurfboardshawaii.com/page/12/?post_type=product) ['cached']\n",
      "2019-11-16 15:09:53 [scrapy.core.scraper] DEBUG: Scraped from <200 https://www.usedsurfboardshawaii.com/product/5ft-8in-tokoro-squash-tail-ref-28219/>\n",
      "{'url': 'https://www.usedsurfboardshawaii.com/product/5ft-8in-tokoro-squash-tail-ref-28219/', 'title': '5ft 8in Tokoro Squash Tail Ref# 28219', 'price': 399.0, 'description': 'Good condition shortboard with light deck pressures but otherwise minimal signs of previous use', 'type': 'Thruster (Future)', 'height': 'H 5’8″', 'width': 'W 19″', 'thickness': 'T 2 7/16″', 'condition': 'Good', 'manufacturer': 'Tokoro'}\n"
     ]
    },
    {
     "name": "stdout",
     "output_type": "stream",
     "text": [
      "Processing 21 out of 25\n",
      "Processing 22 out of 25\n"
     ]
    },
    {
     "name": "stderr",
     "output_type": "stream",
     "text": [
      "2019-11-16 15:09:53 [scrapy.core.engine] DEBUG: Crawled (200) <GET https://www.usedsurfboardshawaii.com/product/5ft4in-slater-designs-omni-round-tail-ref-28202/> (referer: https://www.usedsurfboardshawaii.com/page/12/?post_type=product) ['cached']\n",
      "2019-11-16 15:09:53 [scrapy.core.scraper] DEBUG: Scraped from <200 https://www.usedsurfboardshawaii.com/product/6ft-4in-peralta-squash-tail-ref-2828/>\n",
      "{'url': 'https://www.usedsurfboardshawaii.com/product/6ft-4in-peralta-squash-tail-ref-2828/', 'title': '6ft 4in Peralta Squash Tail Ref# 2828', 'price': 350.0, 'description': 'Good condition shortboard with light deck pressures but otherwise minimal signs of previous use', 'type': 'Thruster (FCS2)', 'height': 'H 6’4″', 'width': 'W 19 7/8″', 'thickness': 'T 2 13/16″', 'condition': 'Good', 'manufacturer': 'Peralta'}\n",
      "2019-11-16 15:09:53 [scrapy.core.engine] DEBUG: Crawled (200) <GET https://www.usedsurfboardshawaii.com/product/5ft-10in-ian-round-tail-ref-28077/> (referer: https://www.usedsurfboardshawaii.com/page/12/?post_type=product) ['cached']\n",
      "2019-11-16 15:09:53 [scrapy.core.scraper] DEBUG: Scraped from <200 https://www.usedsurfboardshawaii.com/product/5ft-7in-bret-malolo-diamond-tail-ref-28252/>\n",
      "{'url': 'https://www.usedsurfboardshawaii.com/product/5ft-7in-bret-malolo-diamond-tail-ref-28252/', 'title': '5ft 7in Bret (Malolo) Diamond Tail Ref# 28252', 'price': 175.0, 'description': 'Fair condition shortboard with a good amount of pressure dents and signs of previous use but still surfable', 'type': '5-Fin (Future)', 'height': 'H 5’7″', 'width': 'W 19.5″', 'thickness': 'T 2.2″', 'condition': 'Fair', 'manufacturer': 'Bret'}\n"
     ]
    },
    {
     "name": "stdout",
     "output_type": "stream",
     "text": [
      "Processing 23 out of 25\n",
      "Processing 24 out of 25\n"
     ]
    },
    {
     "name": "stderr",
     "output_type": "stream",
     "text": [
      "2019-11-16 15:09:53 [scrapy.core.engine] DEBUG: Crawled (200) <GET https://www.usedsurfboardshawaii.com/product/6ft-eric-b-squash-tail-ref-28240/> (referer: https://www.usedsurfboardshawaii.com/page/12/?post_type=product) ['cached']\n",
      "2019-11-16 15:09:53 [scrapy.core.scraper] DEBUG: Scraped from <200 https://www.usedsurfboardshawaii.com/product/5ft4in-slater-designs-omni-round-tail-ref-28202/>\n",
      "{'url': 'https://www.usedsurfboardshawaii.com/product/5ft4in-slater-designs-omni-round-tail-ref-28202/', 'title': '5ft 4in Slater Designs (Omni) Round Tail Ref# 28202', 'price': 650.0, 'description': 'Good condition shortboard with minimal signs of previous use', 'type': '5-fin (Future)', 'height': 'H 5’4″', 'width': 'W 18 7/8″', 'thickness': 'T 2 5/16″', 'condition': 'Good', 'manufacturer': 'Slater Designs'}\n",
      "2019-11-16 15:09:53 [scrapy.core.engine] DEBUG: Crawled (200) <GET https://www.usedsurfboardshawaii.com/product/7ft-2in-tsukurimichi-bat-tail-ref-27918/> (referer: https://www.usedsurfboardshawaii.com/page/12/?post_type=product) ['cached']\n",
      "2019-11-16 15:09:53 [scrapy.core.scraper] DEBUG: Scraped from <200 https://www.usedsurfboardshawaii.com/product/5ft-10in-ian-round-tail-ref-28077/>\n",
      "{'url': 'https://www.usedsurfboardshawaii.com/product/5ft-10in-ian-round-tail-ref-28077/', 'title': '5ft 10in Ian Round Tail Ref# 28077', 'price': 275.0, 'description': 'Good condition shortboard with light deck pressures but otherwise minimal signs of previous use', 'type': 'Thruster (FCS)', 'height': 'H 5’10”', 'width': 'W 19 3/8″', 'thickness': 'T 2 7/16', 'condition': 'Good', 'manufacturer': 'Ian'}\n",
      "2019-11-16 15:09:54 [scrapy.core.engine] DEBUG: Crawled (200) <GET https://www.usedsurfboardshawaii.com/page/13/?post_type=product> (referer: https://www.usedsurfboardshawaii.com/page/12/?post_type=product) ['cached']\n",
      "2019-11-16 15:09:54 [scrapy.core.scraper] DEBUG: Scraped from <200 https://www.usedsurfboardshawaii.com/product/6ft-eric-b-squash-tail-ref-28240/>\n",
      "{'url': 'https://www.usedsurfboardshawaii.com/product/6ft-eric-b-squash-tail-ref-28240/', 'title': '6ft Eric B. Squash Tail Ref# 28240', 'price': 535.0, 'description': 'Good condition high performance shortboard.', 'type': 'Thruster (Future)', 'height': 'H 6′', 'width': 'W 19″', 'thickness': 'T 2 3/4″', 'condition': 'Good', 'manufacturer': 'Eric B.'}\n"
     ]
    },
    {
     "name": "stdout",
     "output_type": "stream",
     "text": [
      "Processing 25 out of 25\n",
      "\n",
      "https://www.usedsurfboardshawaii.com/page/13/?post_type=product\n"
     ]
    },
    {
     "name": "stderr",
     "output_type": "stream",
     "text": [
      "2019-11-16 15:09:54 [scrapy.core.scraper] DEBUG: Scraped from <200 https://www.usedsurfboardshawaii.com/product/7ft-2in-tsukurimichi-bat-tail-ref-27918/>\n",
      "{'url': 'https://www.usedsurfboardshawaii.com/product/7ft-2in-tsukurimichi-bat-tail-ref-27918/', 'title': '7ft 2in Tsukurimichi Bat Tail Ref# 27918', 'price': 599.0, 'description': 'Good condition board with light deck pressures from previous use', 'type': 'Single Fin', 'height': 'H 7’2″', 'width': 'W 24″', 'thickness': 'T 3″', 'condition': 'Good', 'manufacturer': 'Tsukurimichi'}\n",
      "2019-11-16 15:09:54 [scrapy.core.engine] DEBUG: Crawled (200) <GET https://www.usedsurfboardshawaii.com/product/6ft-1in-lost-driver-squash-tail-ref-27983/> (referer: https://www.usedsurfboardshawaii.com/page/13/?post_type=product) ['cached']\n"
     ]
    },
    {
     "name": "stdout",
     "output_type": "stream",
     "text": [
      "Total:  25\n",
      "Processing 1 out of 25\n",
      "Processing 2 out of 25\n"
     ]
    },
    {
     "name": "stderr",
     "output_type": "stream",
     "text": [
      "2019-11-16 15:09:54 [scrapy.core.engine] DEBUG: Crawled (200) <GET https://www.usedsurfboardshawaii.com/product/8ft-6in-paddle-surf-hawaii-diamond-tail-ref-25234/> (referer: https://www.usedsurfboardshawaii.com/page/13/?post_type=product) ['cached']\n",
      "2019-11-16 15:09:54 [scrapy.core.engine] DEBUG: Crawled (200) <GET https://www.usedsurfboardshawaii.com/product/7ft-4in-matsumoto-foil-board/> (referer: https://www.usedsurfboardshawaii.com/page/13/?post_type=product) ['cached']\n",
      "2019-11-16 15:09:54 [scrapy.core.scraper] DEBUG: Scraped from <200 https://www.usedsurfboardshawaii.com/product/6ft-1in-lost-driver-squash-tail-ref-27983/>\n",
      "{'url': 'https://www.usedsurfboardshawaii.com/product/6ft-1in-lost-driver-squash-tail-ref-27983/', 'title': '6ft 1in Lost (Driver) Squash Tail Ref# 27983', 'price': 225.0, 'description': 'Good condition shortboard with pressure dents on the deck but otherwise minor signs of previous use.', 'type': 'Thruster (FCS)', 'height': 'H 6’1″', 'width': 'W 19 1/4″', 'thickness': 'T 2 3/4″', 'condition': 'Good', 'manufacturer': 'Lost, Mayhem'}\n"
     ]
    },
    {
     "name": "stdout",
     "output_type": "stream",
     "text": [
      "Processing 3 out of 25\n",
      "Processing 4 out of 25\n"
     ]
    },
    {
     "name": "stderr",
     "output_type": "stream",
     "text": [
      "2019-11-16 15:09:54 [scrapy.core.engine] DEBUG: Crawled (200) <GET https://www.usedsurfboardshawaii.com/product/9ft-6in-pacific-rad-sports-diamond-tail-ref-26257/> (referer: https://www.usedsurfboardshawaii.com/page/13/?post_type=product) ['cached']\n",
      "2019-11-16 15:09:54 [scrapy.core.scraper] DEBUG: Scraped from <200 https://www.usedsurfboardshawaii.com/product/8ft-6in-paddle-surf-hawaii-diamond-tail-ref-25234/>\n",
      "{'url': 'https://www.usedsurfboardshawaii.com/product/8ft-6in-paddle-surf-hawaii-diamond-tail-ref-25234/', 'title': '8ft 6in paddle Surf Hawaii Diamond Tail Ref# 25234', 'price': 285.0, 'description': 'Fair condition SUP with a few previous repairs as shown in photos but otherwise good condition', 'type': '4+1 (Future)', 'height': 'H 8’6′', 'width': 'W 28″', 'thickness': 'T 4 1/4″', 'condition': 'Fair', 'manufacturer': 'Paddle Surf Hawaii'}\n",
      "2019-11-16 15:09:54 [scrapy.core.engine] DEBUG: Crawled (200) <GET https://www.usedsurfboardshawaii.com/product/5ft-5in-david-squash-tail-ref-28011/> (referer: https://www.usedsurfboardshawaii.com/page/13/?post_type=product) ['cached']\n",
      "2019-11-16 15:09:54 [scrapy.core.scraper] DEBUG: Scraped from <200 https://www.usedsurfboardshawaii.com/product/7ft-4in-matsumoto-foil-board/>\n",
      "{'url': 'https://www.usedsurfboardshawaii.com/product/7ft-4in-matsumoto-foil-board/', 'title': '7ft 4in Matsumoto Foil Board Square Tail Ref# 26634', 'price': 375.0, 'description': 'Good condition SUP with minimal signs of previous use, it can be ridden either with a foil or as a 5-fin', 'type': '5-fin+ Foil (Future)', 'height': 'H 7’4″', 'width': 'W 29″', 'thickness': 'T 3.5″', 'condition': 'Good', 'manufacturer': 'Matsumoto'}\n"
     ]
    },
    {
     "name": "stdout",
     "output_type": "stream",
     "text": [
      "Processing 5 out of 25\n",
      "Processing 6 out of 25\n"
     ]
    },
    {
     "name": "stderr",
     "output_type": "stream",
     "text": [
      "2019-11-16 15:09:54 [scrapy.core.engine] DEBUG: Crawled (200) <GET https://www.usedsurfboardshawaii.com/product/5ft-10in-matchi-squash-tail-ref-27920/> (referer: https://www.usedsurfboardshawaii.com/page/13/?post_type=product) ['cached']\n",
      "2019-11-16 15:09:54 [scrapy.core.scraper] DEBUG: Scraped from <200 https://www.usedsurfboardshawaii.com/product/9ft-6in-pacific-rad-sports-diamond-tail-ref-26257/>\n",
      "{'url': 'https://www.usedsurfboardshawaii.com/product/9ft-6in-pacific-rad-sports-diamond-tail-ref-26257/', 'title': '9ft 6in Pacific Rad Sports Diamond Tail Ref# 26257', 'price': 599.0, 'description': 'Good condition SUP with a minor ding but otherwise minimal signs of previous use', 'type': '4+1 (Future)', 'height': 'H 9’6″', 'width': 'W 28 7/16″', 'thickness': 'T 4 3/8″', 'condition': 'Good', 'manufacturer': 'Pacific Rad Sports'}\n",
      "2019-11-16 15:09:55 [scrapy.core.engine] DEBUG: Crawled (200) <GET https://www.usedsurfboardshawaii.com/product/5ft-6in-tokoro-round-tail-ref-27845/> (referer: https://www.usedsurfboardshawaii.com/page/13/?post_type=product) ['cached']\n",
      "2019-11-16 15:09:55 [scrapy.core.scraper] DEBUG: Scraped from <200 https://www.usedsurfboardshawaii.com/product/5ft-5in-david-squash-tail-ref-28011/>\n",
      "{'url': 'https://www.usedsurfboardshawaii.com/product/5ft-5in-david-squash-tail-ref-28011/', 'title': '5ft 5in David Squash Tail Ref# 28011', 'price': 150.0, 'description': 'Board in good condition, pressure dents on deck.', 'type': 'Thruster (FCS)', 'height': 'H 5’5″', 'width': 'W 18″', 'thickness': 'T 2.25″', 'condition': 'Good', 'manufacturer': 'David'}\n"
     ]
    },
    {
     "name": "stdout",
     "output_type": "stream",
     "text": [
      "Processing 7 out of 25\n",
      "Processing 8 out of 25\n"
     ]
    },
    {
     "name": "stderr",
     "output_type": "stream",
     "text": [
      "2019-11-16 15:09:55 [scrapy.core.engine] DEBUG: Crawled (200) <GET https://www.usedsurfboardshawaii.com/product/6ft-johnston-round-tail-ref-27925/> (referer: https://www.usedsurfboardshawaii.com/page/13/?post_type=product) ['cached']\n",
      "2019-11-16 15:09:55 [scrapy.core.scraper] DEBUG: Scraped from <200 https://www.usedsurfboardshawaii.com/product/5ft-10in-matchi-squash-tail-ref-27920/>\n",
      "{'url': 'https://www.usedsurfboardshawaii.com/product/5ft-10in-matchi-squash-tail-ref-27920/', 'title': '5ft 10in Matchi Squash Tail Ref# 27920', 'price': 375.0, 'description': 'Normal pressure dents on deck. Fins included.', 'type': 'Thruster (FCS)', 'height': 'H 5′ 10″', 'width': 'W 18 7/16″', 'thickness': 'T 2 5/16″', 'condition': 'Good', 'manufacturer': 'Matchi'}\n",
      "2019-11-16 15:09:55 [scrapy.core.engine] DEBUG: Crawled (200) <GET https://www.usedsurfboardshawaii.com/product/5ft-10in-k-tokoro-mojo-squash-tail-ref-27580/> (referer: https://www.usedsurfboardshawaii.com/page/13/?post_type=product) ['cached']\n",
      "2019-11-16 15:09:55 [scrapy.core.scraper] DEBUG: Scraped from <200 https://www.usedsurfboardshawaii.com/product/5ft-6in-tokoro-round-tail-ref-27845/>\n",
      "{'url': 'https://www.usedsurfboardshawaii.com/product/5ft-6in-tokoro-round-tail-ref-27845/', 'title': '5ft 6in Tokoro Round Tail Ref# 27845', 'price': 399.0, 'description': 'Board in good condition. Normal wear on deck.', 'type': 'Thruster (FCS2)', 'height': 'H 5’6″', 'width': 'W 18 1/2″', 'thickness': 'T 2 5/16″', 'condition': 'Good', 'manufacturer': 'Tokoro'}\n"
     ]
    },
    {
     "name": "stdout",
     "output_type": "stream",
     "text": [
      "Processing 9 out of 25\n",
      "Processing 10 out of 25\n"
     ]
    },
    {
     "name": "stderr",
     "output_type": "stream",
     "text": [
      "2019-11-16 15:09:55 [scrapy.core.engine] DEBUG: Crawled (200) <GET https://www.usedsurfboardshawaii.com/product/5ft-7in-tokoro-pin-tail-ref-27968/> (referer: https://www.usedsurfboardshawaii.com/page/13/?post_type=product) ['cached']\n",
      "2019-11-16 15:09:55 [scrapy.core.scraper] DEBUG: Scraped from <200 https://www.usedsurfboardshawaii.com/product/6ft-johnston-round-tail-ref-27925/>\n",
      "{'url': 'https://www.usedsurfboardshawaii.com/product/6ft-johnston-round-tail-ref-27925/', 'title': '6ft Johnston Round Tail Ref# 27925', 'price': 299.0, 'description': 'Pressure dings on deck. Board in good condition.', 'type': '4 + 1 (FCS)', 'height': 'H 6′', 'width': 'W 19″', 'thickness': 'T 2 1/4″', 'condition': 'Good', 'manufacturer': 'J. Johnston'}\n",
      "2019-11-16 15:09:55 [scrapy.core.engine] DEBUG: Crawled (200) <GET https://www.usedsurfboardshawaii.com/product/6ft-arakawa-barracuda-swallow-tail-ref-27932/> (referer: https://www.usedsurfboardshawaii.com/page/13/?post_type=product) ['cached']\n",
      "2019-11-16 15:09:55 [scrapy.core.scraper] DEBUG: Scraped from <200 https://www.usedsurfboardshawaii.com/product/5ft-10in-k-tokoro-mojo-squash-tail-ref-27580/>\n",
      "{'url': 'https://www.usedsurfboardshawaii.com/product/5ft-10in-k-tokoro-mojo-squash-tail-ref-27580/', 'title': '5ft 10in K Tokoro (Mojo) Squash Tail Ref# 27580', 'price': 250.0, 'description': 'Kerry Tokoro “Mojo” in good condition with 25.5L.', 'type': 'Thruster (FCS2)', 'height': 'H 5’10”', 'width': 'W 18.5″', 'thickness': 'T 2.25″', 'condition': 'Good', 'manufacturer': 'Kerry Tokoro'}\n"
     ]
    },
    {
     "name": "stdout",
     "output_type": "stream",
     "text": [
      "Processing 11 out of 25\n",
      "Processing 12 out of 25\n"
     ]
    },
    {
     "name": "stderr",
     "output_type": "stream",
     "text": [
      "2019-11-16 15:09:55 [scrapy.core.engine] DEBUG: Crawled (200) <GET https://www.usedsurfboardshawaii.com/product/5ft-6in-minami-winged-swallow-tail-ref-27834/> (referer: https://www.usedsurfboardshawaii.com/page/13/?post_type=product) ['cached']\n",
      "2019-11-16 15:09:55 [scrapy.core.scraper] DEBUG: Scraped from <200 https://www.usedsurfboardshawaii.com/product/5ft-7in-tokoro-pin-tail-ref-27968/>\n",
      "{'url': 'https://www.usedsurfboardshawaii.com/product/5ft-7in-tokoro-pin-tail-ref-27968/', 'title': '5ft 7in Tokoro Pin Tail Ref# 27968', 'price': 395.0, 'description': 'Board in great condition.', 'type': 'Thruster (Future)', 'height': 'H 5’7″', 'width': 'W 18 9/16″', 'thickness': 'T 2 1/8″', 'condition': 'Good', 'manufacturer': 'Tokoro'}\n",
      "2019-11-16 15:09:55 [scrapy.core.engine] DEBUG: Crawled (200) <GET https://www.usedsurfboardshawaii.com/product/6ft-6in-al-merrick-proton-round-tail-ref-27516/> (referer: https://www.usedsurfboardshawaii.com/page/13/?post_type=product) ['cached']\n",
      "2019-11-16 15:09:56 [scrapy.core.scraper] DEBUG: Scraped from <200 https://www.usedsurfboardshawaii.com/product/6ft-arakawa-barracuda-swallow-tail-ref-27932/>\n",
      "{'url': 'https://www.usedsurfboardshawaii.com/product/6ft-arakawa-barracuda-swallow-tail-ref-27932/', 'title': '6ft Arakawa (Barracuda) Swallow Tail Ref# 27932', 'price': 399.0, 'description': 'Board is in good condition with double-winged swallow tail.', 'type': 'Twin Fin (Future) 26.3L', 'height': 'H 6′', 'width': 'W 18.63″', 'thickness': 'T 2.31″', 'condition': 'Good', 'manufacturer': 'Eric Arakawa'}\n"
     ]
    },
    {
     "name": "stdout",
     "output_type": "stream",
     "text": [
      "Processing 13 out of 25\n",
      "Processing 14 out of 25\n"
     ]
    },
    {
     "name": "stderr",
     "output_type": "stream",
     "text": [
      "2019-11-16 15:09:56 [scrapy.core.engine] DEBUG: Crawled (200) <GET https://www.usedsurfboardshawaii.com/product/5ft-11in-schaper-squash-tail-ref-27798/> (referer: https://www.usedsurfboardshawaii.com/page/13/?post_type=product) ['cached']\n",
      "2019-11-16 15:09:56 [scrapy.core.scraper] DEBUG: Scraped from <200 https://www.usedsurfboardshawaii.com/product/5ft-6in-minami-winged-swallow-tail-ref-27834/>\n",
      "{'url': 'https://www.usedsurfboardshawaii.com/product/5ft-6in-minami-winged-swallow-tail-ref-27834/', 'title': '5ft 6in Minami Winged Swallow Tail Ref# 27834', 'price': 299.0, 'description': 'Board in good condition. Normal pressure dents on deck.', 'type': 'Thruster (Future)', 'height': 'H 5’6″', 'width': 'W 18 3/4″', 'thickness': 'T 2 1/4″', 'condition': 'Good', 'manufacturer': 'Minami'}\n",
      "2019-11-16 15:09:56 [scrapy.core.engine] DEBUG: Crawled (200) <GET https://www.usedsurfboardshawaii.com/product/6ft-6in-pyzel-jp-50-swallow-tail-ref-27793/> (referer: https://www.usedsurfboardshawaii.com/page/13/?post_type=product) ['cached']\n",
      "2019-11-16 15:09:56 [scrapy.core.scraper] DEBUG: Scraped from <200 https://www.usedsurfboardshawaii.com/product/6ft-6in-al-merrick-proton-round-tail-ref-27516/>\n",
      "{'url': 'https://www.usedsurfboardshawaii.com/product/6ft-6in-al-merrick-proton-round-tail-ref-27516/', 'title': '6ft 6in Al Merrick (Proton) Round Tail Ref# 27516', 'price': 499.0, 'description': 'Al Merrick “Proton” in good condition. Some pressure dents on deck from use.', 'type': 'Thruster (FCS2) 31L', 'height': 'H 6’6″', 'width': 'W 19″', 'thickness': 'T 2 7/16″', 'condition': 'Good', 'manufacturer': 'Al Merrick'}\n"
     ]
    },
    {
     "name": "stdout",
     "output_type": "stream",
     "text": [
      "Processing 15 out of 25\n",
      "Processing 16 out of 25\n"
     ]
    },
    {
     "name": "stderr",
     "output_type": "stream",
     "text": [
      "2019-11-16 15:09:56 [scrapy.core.engine] DEBUG: Crawled (200) <GET https://www.usedsurfboardshawaii.com/product/6ft-4in-northern-alliance-block-head-swallow-tail-ref-27775/> (referer: https://www.usedsurfboardshawaii.com/page/13/?post_type=product) ['cached']\n",
      "2019-11-16 15:09:56 [scrapy.core.scraper] DEBUG: Scraped from <200 https://www.usedsurfboardshawaii.com/product/5ft-11in-schaper-squash-tail-ref-27798/>\n",
      "{'url': 'https://www.usedsurfboardshawaii.com/product/5ft-11in-schaper-squash-tail-ref-27798/', 'title': '5ft 11in Schaper Squash Tail Ref# 27798', 'price': 199.0, 'description': 'Board has normal wear and tear.', 'type': 'Thruster (FCS) 27.9L', 'height': 'H 5’11”', 'width': 'W 18 3/4″', 'thickness': 'T 2 3/8″', 'condition': 'Fair', 'manufacturer': 'Schaper'}\n",
      "2019-11-16 15:09:56 [scrapy.core.engine] DEBUG: Crawled (200) <GET https://www.usedsurfboardshawaii.com/product/5ft-10-5in-chris-gallagher-designs-s-model-squash-tail-ref-27673/> (referer: https://www.usedsurfboardshawaii.com/page/13/?post_type=product) ['cached']\n",
      "2019-11-16 15:09:56 [scrapy.core.scraper] DEBUG: Scraped from <200 https://www.usedsurfboardshawaii.com/product/6ft-6in-pyzel-jp-50-swallow-tail-ref-27793/>\n",
      "{'url': 'https://www.usedsurfboardshawaii.com/product/6ft-6in-pyzel-jp-50-swallow-tail-ref-27793/', 'title': '6ft 6in Pyzel (JP-50) Swallow Tail Ref# 27793', 'price': 225.0, 'description': None, 'type': 'Thruster (FCS)', 'height': 'H 6’6″', 'width': 'W 19″', 'thickness': 'T 2 3/8″', 'condition': 'Fair', 'manufacturer': 'Pyzel'}\n"
     ]
    },
    {
     "name": "stdout",
     "output_type": "stream",
     "text": [
      "Processing 17 out of 25\n",
      "Processing 18 out of 25\n"
     ]
    },
    {
     "name": "stderr",
     "output_type": "stream",
     "text": [
      "2019-11-16 15:09:56 [scrapy.core.engine] DEBUG: Crawled (200) <GET https://www.usedsurfboardshawaii.com/product/5ft-6in-slater-gamma-squash-tail-ref-27691/> (referer: https://www.usedsurfboardshawaii.com/page/13/?post_type=product) ['cached']\n",
      "2019-11-16 15:09:56 [scrapy.core.scraper] DEBUG: Scraped from <200 https://www.usedsurfboardshawaii.com/product/6ft-4in-northern-alliance-block-head-swallow-tail-ref-27775/>\n",
      "{'url': 'https://www.usedsurfboardshawaii.com/product/6ft-4in-northern-alliance-block-head-swallow-tail-ref-27775/', 'title': '6ft 4in Northern Alliance (Block Head) Swallow Tail Ref# 27775', 'price': 250.0, 'description': 'Northern Alliance Block Head with a 5-fin set up. Pressure dents from normal wear and tear on deck and bottom of board.', 'type': '5-fin (Future) 36L', 'height': 'H 6’4″', 'width': 'W 20″', 'thickness': 'T 2 3/4″', 'condition': 'Fair', 'manufacturer': 'Northern Alliance'}\n",
      "2019-11-16 15:09:56 [scrapy.core.engine] DEBUG: Crawled (200) <GET https://www.usedsurfboardshawaii.com/product/5ft-4in-tokoro-round-pin-tail-ref-27750/> (referer: https://www.usedsurfboardshawaii.com/page/13/?post_type=product) ['cached']\n",
      "2019-11-16 15:09:56 [scrapy.core.scraper] DEBUG: Scraped from <200 https://www.usedsurfboardshawaii.com/product/5ft-10-5in-chris-gallagher-designs-s-model-squash-tail-ref-27673/>\n",
      "{'url': 'https://www.usedsurfboardshawaii.com/product/5ft-10-5in-chris-gallagher-designs-s-model-squash-tail-ref-27673/', 'title': '5ft 10.5in Chris Gallagher Designs (S< Model) Squash Tail Ref# 27673', 'price': 350.0, 'description': 'Normal wear and tear pressure dings on deck but overall in good condition.', 'type': 'Thruster (FCS2) 26.5L', 'height': 'H 5’10.5″', 'width': 'W 18.38″', 'thickness': 'T 2.31″', 'condition': 'Good', 'manufacturer': 'Chris Gallagher'}\n"
     ]
    },
    {
     "name": "stdout",
     "output_type": "stream",
     "text": [
      "Processing 19 out of 25\n",
      "Processing 20 out of 25\n"
     ]
    },
    {
     "name": "stderr",
     "output_type": "stream",
     "text": [
      "2019-11-16 15:09:57 [scrapy.core.engine] DEBUG: Crawled (200) <GET https://www.usedsurfboardshawaii.com/product/6ft-2in-raynor-round-tail-ref-27659/> (referer: https://www.usedsurfboardshawaii.com/page/13/?post_type=product) ['cached']\n",
      "2019-11-16 15:09:57 [scrapy.core.scraper] DEBUG: Scraped from <200 https://www.usedsurfboardshawaii.com/product/5ft-6in-slater-gamma-squash-tail-ref-27691/>\n",
      "{'url': 'https://www.usedsurfboardshawaii.com/product/5ft-6in-slater-gamma-squash-tail-ref-27691/', 'title': '5ft 6in Slater (Gamma) Squash Tail Ref# 27691', 'price': 545.0, 'description': 'Gamma Slater + He in good condition', 'type': '5-fin (FCS2) 23.4L', 'height': 'H 5’6″', 'width': 'W 18 1/4″', 'thickness': 'T 2 1/4″', 'condition': 'Good', 'manufacturer': 'Slater Designs'}\n",
      "2019-11-16 15:09:57 [scrapy.core.engine] DEBUG: Crawled (200) <GET https://www.usedsurfboardshawaii.com/product/6ft-8in-firewire-alternator-squash-tail-ref-27696/> (referer: https://www.usedsurfboardshawaii.com/page/13/?post_type=product) ['cached']\n",
      "2019-11-16 15:09:57 [scrapy.core.scraper] DEBUG: Scraped from <200 https://www.usedsurfboardshawaii.com/product/5ft-4in-tokoro-round-pin-tail-ref-27750/>\n",
      "{'url': 'https://www.usedsurfboardshawaii.com/product/5ft-4in-tokoro-round-pin-tail-ref-27750/', 'title': '5ft 4in Tokoro Round Pin Tail Ref# 27750', 'price': 350.0, 'description': '5-fin Tokoro Egg in good condition.', 'type': '5-fin (FCS)', 'height': 'H 5’4″', 'width': 'W 20″', 'thickness': 'T 2 3/8″', 'condition': 'Good', 'manufacturer': 'Tokoro'}\n"
     ]
    },
    {
     "name": "stdout",
     "output_type": "stream",
     "text": [
      "Processing 21 out of 25\n",
      "Processing 22 out of 25\n"
     ]
    },
    {
     "name": "stderr",
     "output_type": "stream",
     "text": [
      "2019-11-16 15:09:57 [scrapy.core.engine] DEBUG: Crawled (200) <GET https://www.usedsurfboardshawaii.com/product/6ft-2in-aipa-aloha-swallow-tail-ref-27577/> (referer: https://www.usedsurfboardshawaii.com/page/13/?post_type=product) ['cached']\n",
      "2019-11-16 15:09:57 [scrapy.core.scraper] DEBUG: Scraped from <200 https://www.usedsurfboardshawaii.com/product/6ft-2in-raynor-round-tail-ref-27659/>\n",
      "{'url': 'https://www.usedsurfboardshawaii.com/product/6ft-2in-raynor-round-tail-ref-27659/', 'title': '6ft 2in Raynor Round Tail Ref# 27659', 'price': 199.0, 'description': 'Good condition shortboard with some light deck pressures but otherwise minimal signs of previous use', 'type': 'Thruster (FCS2)', 'height': 'H 6’2″', 'width': 'W 18 5/8″', 'thickness': 'T 2 1/4″', 'condition': 'Good', 'manufacturer': 'Raynor'}\n",
      "2019-11-16 15:09:57 [scrapy.core.engine] DEBUG: Crawled (200) <GET https://www.usedsurfboardshawaii.com/product/6ft-1in-northern-alliance-el-guapo-squash-tail-ref-27651/> (referer: https://www.usedsurfboardshawaii.com/page/13/?post_type=product) ['cached']\n",
      "2019-11-16 15:09:57 [scrapy.core.scraper] DEBUG: Scraped from <200 https://www.usedsurfboardshawaii.com/product/6ft-8in-firewire-alternator-squash-tail-ref-27696/>\n",
      "{'url': 'https://www.usedsurfboardshawaii.com/product/6ft-8in-firewire-alternator-squash-tail-ref-27696/', 'title': '6ft 8in Firewire (Alternator) Squash Tail Ref# 27696', 'price': 299.0, 'description': 'Good condition shortboard with some light deck pressures and yellowing from age and previous use', 'type': 'Thruster (FCS)', 'height': 'H 6’8″', 'width': 'W 20 1/4″', 'thickness': 'T 2 1/2″', 'condition': 'Good', 'manufacturer': 'Firewire'}\n"
     ]
    },
    {
     "name": "stdout",
     "output_type": "stream",
     "text": [
      "Processing 23 out of 25\n",
      "Processing 24 out of 25\n"
     ]
    },
    {
     "name": "stderr",
     "output_type": "stream",
     "text": [
      "2019-11-16 15:09:57 [scrapy.core.engine] DEBUG: Crawled (200) <GET https://www.usedsurfboardshawaii.com/product/6ft-5in-hayden-shapes-holy-grail-squash-tail-ref-27698/> (referer: https://www.usedsurfboardshawaii.com/page/13/?post_type=product) ['cached']\n",
      "2019-11-16 15:09:57 [scrapy.core.scraper] DEBUG: Scraped from <200 https://www.usedsurfboardshawaii.com/product/6ft-2in-aipa-aloha-swallow-tail-ref-27577/>\n",
      "{'url': 'https://www.usedsurfboardshawaii.com/product/6ft-2in-aipa-aloha-swallow-tail-ref-27577/', 'title': '6ft 2in Aipa (Aloha) Swallow Tail Ref# 27577', 'price': 195.0, 'description': 'Good condition big guy board with some deck pressures and yellowing from age and previous use', 'type': 'Thruster (Future)', 'height': 'H 6’2″', 'width': 'W 19 1/2″', 'thickness': 'T 3″', 'condition': 'Good', 'manufacturer': 'Aipa'}\n",
      "2019-11-16 15:09:57 [scrapy.core.engine] DEBUG: Crawled (200) <GET https://www.usedsurfboardshawaii.com/product/6ft-northern-alliance-hellraiser-swallow-tail-ref-27650/> (referer: https://www.usedsurfboardshawaii.com/page/13/?post_type=product) ['cached']\n",
      "2019-11-16 15:09:57 [scrapy.core.scraper] DEBUG: Scraped from <200 https://www.usedsurfboardshawaii.com/product/6ft-1in-northern-alliance-el-guapo-squash-tail-ref-27651/>\n",
      "{'url': 'https://www.usedsurfboardshawaii.com/product/6ft-1in-northern-alliance-el-guapo-squash-tail-ref-27651/', 'title': '6ft 1in Northern Alliance (El Guapo) Squash Tail Ref# 27651', 'price': 399.0, 'description': 'Good condition shortboard with a few light deck pressures but otherwise good condition', 'type': 'Thruster (Future)', 'height': 'H 6’1″', 'width': 'W 19 9/16″', 'thickness': 'T 2 9/16', 'condition': 'Good', 'manufacturer': 'Northern Alliance'}\n",
      "2019-11-16 15:09:57 [scrapy.core.engine] DEBUG: Crawled (200) <GET https://www.usedsurfboardshawaii.com/page/14/?post_type=product> (referer: https://www.usedsurfboardshawaii.com/page/13/?post_type=product) ['cached']\n",
      "2019-11-16 15:09:57 [scrapy.core.scraper] DEBUG: Scraped from <200 https://www.usedsurfboardshawaii.com/product/6ft-5in-hayden-shapes-holy-grail-squash-tail-ref-27698/>\n",
      "{'url': 'https://www.usedsurfboardshawaii.com/product/6ft-5in-hayden-shapes-holy-grail-squash-tail-ref-27698/', 'title': '6ft 5in Hayden Shapes (Holy Grail) Squash Tail Ref# 27698', 'price': 750.0, 'description': 'Great condition shortboard with minimal signs of previous use', 'type': '5-Fin (Future)', 'height': 'H 6’5″', 'width': 'W 21 1/4″', 'thickness': 'T 2 7/8″', 'condition': 'Good', 'manufacturer': 'Hayden Shapes'}\n"
     ]
    },
    {
     "name": "stdout",
     "output_type": "stream",
     "text": [
      "Processing 25 out of 25\n",
      "\n",
      "https://www.usedsurfboardshawaii.com/page/14/?post_type=product\n"
     ]
    },
    {
     "name": "stderr",
     "output_type": "stream",
     "text": [
      "2019-11-16 15:09:57 [scrapy.core.scraper] DEBUG: Scraped from <200 https://www.usedsurfboardshawaii.com/product/6ft-northern-alliance-hellraiser-swallow-tail-ref-27650/>\n",
      "{'url': 'https://www.usedsurfboardshawaii.com/product/6ft-northern-alliance-hellraiser-swallow-tail-ref-27650/', 'title': '6ft Northern Alliance (HellRaiser) Swallow Tail Ref# 27650', 'price': 350.0, 'description': 'Fair condition shortboard with a fair amount of deck pressures but otherwise it is in good condition', 'type': 'Thruster (Future)', 'height': 'H 6’0″', 'width': 'W 19 11/16″', 'thickness': 'T 2 9/16″', 'condition': 'Fair', 'manufacturer': 'Northern Alliance'}\n",
      "2019-11-16 15:09:58 [scrapy.core.engine] DEBUG: Crawled (200) <GET https://www.usedsurfboardshawaii.com/product/5ft-11in-northern-alliance-swallow-tail-ref-27655/> (referer: https://www.usedsurfboardshawaii.com/page/14/?post_type=product) ['cached']\n"
     ]
    },
    {
     "name": "stdout",
     "output_type": "stream",
     "text": [
      "Total:  25\n",
      "Processing 1 out of 25\n",
      "Processing 2 out of 25\n"
     ]
    },
    {
     "name": "stderr",
     "output_type": "stream",
     "text": [
      "2019-11-16 15:09:58 [scrapy.core.engine] DEBUG: Crawled (200) <GET https://www.usedsurfboardshawaii.com/product/5ft-1in-al-merrick-sperm-whale-squash-tail-ref-27672/> (referer: https://www.usedsurfboardshawaii.com/page/14/?post_type=product) ['cached']\n",
      "2019-11-16 15:09:58 [scrapy.core.engine] DEBUG: Crawled (200) <GET https://www.usedsurfboardshawaii.com/product/6ft-3in-tokoro-round-tail-ref-27496/> (referer: https://www.usedsurfboardshawaii.com/page/14/?post_type=product) ['cached']\n",
      "2019-11-16 15:09:58 [scrapy.core.scraper] DEBUG: Scraped from <200 https://www.usedsurfboardshawaii.com/product/5ft-11in-northern-alliance-swallow-tail-ref-27655/>\n",
      "{'url': 'https://www.usedsurfboardshawaii.com/product/5ft-11in-northern-alliance-swallow-tail-ref-27655/', 'title': '5ft 11in Northern Alliance Swallow Tail Ref# 27655', 'price': 399.0, 'description': 'Good condition shortboard with a few light deck pressures but otherwise good condition', 'type': '5-Fin (Future)', 'height': 'H 5’11”', 'width': 'W 19 3/4″', 'thickness': 'T 2 5/8″', 'condition': 'Good', 'manufacturer': 'Northern Alliance'}\n"
     ]
    },
    {
     "name": "stdout",
     "output_type": "stream",
     "text": [
      "Processing 3 out of 25\n",
      "Processing 4 out of 25\n"
     ]
    },
    {
     "name": "stderr",
     "output_type": "stream",
     "text": [
      "2019-11-16 15:09:58 [scrapy.core.engine] DEBUG: Crawled (200) <GET https://www.usedsurfboardshawaii.com/product/5ft-6in-wooley-pully-round-tail-ref-27665/> (referer: https://www.usedsurfboardshawaii.com/page/14/?post_type=product) ['cached']\n",
      "2019-11-16 15:09:58 [scrapy.core.scraper] DEBUG: Scraped from <200 https://www.usedsurfboardshawaii.com/product/5ft-1in-al-merrick-sperm-whale-squash-tail-ref-27672/>\n",
      "{'url': 'https://www.usedsurfboardshawaii.com/product/5ft-1in-al-merrick-sperm-whale-squash-tail-ref-27672/', 'title': '5ft 1in Al Merrick (Sperm Whale) Squash Tail Ref# 27672', 'price': 270.0, 'description': 'Good condition hybrid/ groveler with some light pressures and yellowing from previous use', 'type': 'Thruster (FCS)', 'height': 'H 5’1″', 'width': 'W 21″', 'thickness': 'T 2″', 'condition': 'Good', 'manufacturer': 'Al Merrick'}\n",
      "2019-11-16 15:09:58 [scrapy.core.engine] DEBUG: Crawled (200) <GET https://www.usedsurfboardshawaii.com/product/5ft-8in-wooley-multi-tool-squash-tail-ref-27666/> (referer: https://www.usedsurfboardshawaii.com/page/14/?post_type=product) ['cached']\n",
      "2019-11-16 15:09:58 [scrapy.core.scraper] DEBUG: Scraped from <200 https://www.usedsurfboardshawaii.com/product/6ft-3in-tokoro-round-tail-ref-27496/>\n",
      "{'url': 'https://www.usedsurfboardshawaii.com/product/6ft-3in-tokoro-round-tail-ref-27496/', 'title': '6ft 3in Tokoro Round Tail Ref# 27496', 'price': 225.0, 'description': None, 'type': 'Thruster (Future)', 'height': None, 'width': None, 'thickness': None, 'condition': 'Good', 'manufacturer': 'Tokoro'}\n"
     ]
    },
    {
     "name": "stdout",
     "output_type": "stream",
     "text": [
      "Processing 5 out of 25\n",
      "Processing 6 out of 25\n"
     ]
    },
    {
     "name": "stderr",
     "output_type": "stream",
     "text": [
      "2019-11-16 15:09:58 [scrapy.core.engine] DEBUG: Crawled (200) <GET https://www.usedsurfboardshawaii.com/product/6ft-1in-dhd-sweet-spot-2-0-round-tail-ref-27662/> (referer: https://www.usedsurfboardshawaii.com/page/14/?post_type=product) ['cached']\n",
      "2019-11-16 15:09:58 [scrapy.core.scraper] DEBUG: Scraped from <200 https://www.usedsurfboardshawaii.com/product/5ft-6in-wooley-pully-round-tail-ref-27665/>\n",
      "{'url': 'https://www.usedsurfboardshawaii.com/product/5ft-6in-wooley-pully-round-tail-ref-27665/', 'title': '5ft 6in Wooley (Pully) Round Tail Ref# 27665', 'price': 550.0, 'description': 'Good condition shortboard with minimal signs of previous use', 'type': '5-Fin (Future)', 'height': 'H 5’6″', 'width': 'W 20.5″', 'thickness': 'T 2.38″', 'condition': 'Good', 'manufacturer': 'Woolley'}\n",
      "2019-11-16 15:09:58 [scrapy.core.engine] DEBUG: Crawled (200) <GET https://www.usedsurfboardshawaii.com/product/5ft-11in-bulkley-buttaknife-round-tail-ref-27480/> (referer: https://www.usedsurfboardshawaii.com/page/14/?post_type=product) ['cached']\n",
      "2019-11-16 15:09:58 [scrapy.core.scraper] DEBUG: Scraped from <200 https://www.usedsurfboardshawaii.com/product/5ft-8in-wooley-multi-tool-squash-tail-ref-27666/>\n",
      "{'url': 'https://www.usedsurfboardshawaii.com/product/5ft-8in-wooley-multi-tool-squash-tail-ref-27666/', 'title': '5ft 8in Wooley (Multi-Tool) Squash Tail Ref# 27666', 'price': 550.0, 'description': 'Good condition shortboard with minimal signs of previous use', 'type': 'Thruster (Future)', 'height': 'H 5’8″', 'width': 'W 18.75″', 'thickness': 'T 2 5/16″', 'condition': 'Good', 'manufacturer': 'Woolley'}\n"
     ]
    },
    {
     "name": "stdout",
     "output_type": "stream",
     "text": [
      "Processing 7 out of 25\n",
      "Processing 8 out of 25\n"
     ]
    },
    {
     "name": "stderr",
     "output_type": "stream",
     "text": [
      "2019-11-16 15:09:59 [scrapy.core.engine] DEBUG: Crawled (200) <GET https://www.usedsurfboardshawaii.com/product/5ft-9in-minami-avenger-xd-squash-tail-ref-27571/> (referer: https://www.usedsurfboardshawaii.com/page/14/?post_type=product) ['cached']\n",
      "2019-11-16 15:09:59 [scrapy.core.scraper] DEBUG: Scraped from <200 https://www.usedsurfboardshawaii.com/product/6ft-1in-dhd-sweet-spot-2-0-round-tail-ref-27662/>\n",
      "{'url': 'https://www.usedsurfboardshawaii.com/product/6ft-1in-dhd-sweet-spot-2-0-round-tail-ref-27662/', 'title': '6ft 1in DHD (Sweet Spot 2.0) Round Tail Ref# 27662', 'price': 550.0, 'description': 'Good condition shortboard with minimal signs of previous use', 'type': '5-Fin (Future)', 'height': 'H 6’1″', 'width': 'W 19.18″', 'thickness': 'T 2.38″', 'condition': 'Good', 'manufacturer': 'DHD'}\n",
      "2019-11-16 15:09:59 [scrapy.core.engine] DEBUG: Crawled (200) <GET https://www.usedsurfboardshawaii.com/product/5ft-8in-al-merrick-fred-stubble-squash-tail-ref-27608/> (referer: https://www.usedsurfboardshawaii.com/page/14/?post_type=product) ['cached']\n",
      "2019-11-16 15:09:59 [scrapy.core.scraper] DEBUG: Scraped from <200 https://www.usedsurfboardshawaii.com/product/5ft-11in-bulkley-buttaknife-round-tail-ref-27480/>\n",
      "{'url': 'https://www.usedsurfboardshawaii.com/product/5ft-11in-bulkley-buttaknife-round-tail-ref-27480/', 'title': '5ft 11in bulkley (ButtaKnife) Round Tail Ref# 27480', 'price': 350.0, 'description': 'Good condition grom board with light deck pressures but otherwise minimal signs of previous use.', 'type': 'Thruster (FCS2)', 'height': 'H 5’11”', 'width': 'W 18.38″', 'thickness': 'T 2.21″', 'condition': 'Good', 'manufacturer': 'Bulkley'}\n"
     ]
    },
    {
     "name": "stdout",
     "output_type": "stream",
     "text": [
      "Processing 9 out of 25\n",
      "Processing 10 out of 25\n"
     ]
    },
    {
     "name": "stderr",
     "output_type": "stream",
     "text": [
      "2019-11-16 15:09:59 [scrapy.core.engine] DEBUG: Crawled (200) <GET https://www.usedsurfboardshawaii.com/product/5ft-3in-oreilly-squash-tail-ref-27601/> (referer: https://www.usedsurfboardshawaii.com/page/14/?post_type=product) ['cached']\n",
      "2019-11-16 15:09:59 [scrapy.core.scraper] DEBUG: Scraped from <200 https://www.usedsurfboardshawaii.com/product/5ft-9in-minami-avenger-xd-squash-tail-ref-27571/>\n",
      "{'url': 'https://www.usedsurfboardshawaii.com/product/5ft-9in-minami-avenger-xd-squash-tail-ref-27571/', 'title': '5ft 9in Minami (Avenger XD) Squash Tail Ref# 27571', 'price': 399.0, 'description': 'Good condition shortboard with light deck pressures but otherwise minimal signs of previous use.', 'type': '5-Fin (Future)', 'height': 'H 5’9″', 'width': 'W 18 5/8″', 'thickness': 'T 2 3/8″', 'condition': 'Good', 'manufacturer': 'Minami'}\n",
      "2019-11-16 15:09:59 [scrapy.core.engine] DEBUG: Crawled (200) <GET https://www.usedsurfboardshawaii.com/product/6ft-6in-pyzel-v-6-channel-bottom-quad-only-ref-27570/> (referer: https://www.usedsurfboardshawaii.com/page/14/?post_type=product) ['cached']\n",
      "2019-11-16 15:09:59 [scrapy.core.scraper] DEBUG: Scraped from <200 https://www.usedsurfboardshawaii.com/product/5ft-8in-al-merrick-fred-stubble-squash-tail-ref-27608/>\n",
      "{'url': 'https://www.usedsurfboardshawaii.com/product/5ft-8in-al-merrick-fred-stubble-squash-tail-ref-27608/', 'title': '5ft 8in Al Merrick (Fred Stubble) Squash Tail Ref# 27608', 'price': 399.0, 'description': 'Good condition shortboard with light deck pressures but otherwise minimal signs of previous use.', 'type': '5-Fin (FCS2)', 'height': 'H 5’8″', 'width': 'W 19″', 'thickness': 'T 2 1/4″', 'condition': 'Good', 'manufacturer': 'Al Merrick'}\n"
     ]
    },
    {
     "name": "stdout",
     "output_type": "stream",
     "text": [
      "Processing 11 out of 25\n",
      "Processing 12 out of 25\n"
     ]
    },
    {
     "name": "stderr",
     "output_type": "stream",
     "text": [
      "2019-11-16 15:09:59 [scrapy.core.engine] DEBUG: Crawled (200) <GET https://www.usedsurfboardshawaii.com/product/6ft-lost-squash-tail-ref-27501/> (referer: https://www.usedsurfboardshawaii.com/page/14/?post_type=product) ['cached']\n",
      "2019-11-16 15:09:59 [scrapy.core.scraper] DEBUG: Scraped from <200 https://www.usedsurfboardshawaii.com/product/5ft-3in-oreilly-squash-tail-ref-27601/>\n",
      "{'url': 'https://www.usedsurfboardshawaii.com/product/5ft-3in-oreilly-squash-tail-ref-27601/', 'title': '5ft 3in Oreilly Squash Tail Ref# 27601', 'price': 299.0, 'description': 'Good condition groveler style board with light deck pressures but otherwise minimal signs of previous use', 'type': 'Quad (Future)', 'height': 'H 5’3″', 'width': 'W 19″', 'thickness': 'T 2 1/2″', 'condition': 'Good', 'manufacturer': 'Oreily'}\n",
      "2019-11-16 15:09:59 [scrapy.core.engine] DEBUG: Crawled (200) <GET https://www.usedsurfboardshawaii.com/product/5ft-4in-minami-shrimp-chip-fang-tail-ref-27494/> (referer: https://www.usedsurfboardshawaii.com/page/14/?post_type=product) ['cached']\n",
      "2019-11-16 15:09:59 [scrapy.core.scraper] DEBUG: Scraped from <200 https://www.usedsurfboardshawaii.com/product/6ft-6in-pyzel-v-6-channel-bottom-quad-only-ref-27570/>\n",
      "{'url': 'https://www.usedsurfboardshawaii.com/product/6ft-6in-pyzel-v-6-channel-bottom-quad-only-ref-27570/', 'title': '6ft 6in Pyzel (V-6) Channel Bottom Quad Only Ref# 27570', 'price': 299.0, 'description': 'A clean step up style board great for those days when the waves command a longer board to control speed. Enjoy drive with control with the added six channels on the bottom.', 'type': 'Quad (FCS)', 'height': 'H 6’6″', 'width': 'W 19″', 'thickness': 'T 2 3/8″', 'condition': 'Good', 'manufacturer': 'Pyzel'}\n"
     ]
    },
    {
     "name": "stdout",
     "output_type": "stream",
     "text": [
      "Processing 13 out of 25\n",
      "Processing 14 out of 25\n"
     ]
    },
    {
     "name": "stderr",
     "output_type": "stream",
     "text": [
      "2019-11-16 15:10:00 [scrapy.core.engine] DEBUG: Crawled (200) <GET https://www.usedsurfboardshawaii.com/product/5ft-10in-chris-gallagher-squash-tail-ref-27589/> (referer: https://www.usedsurfboardshawaii.com/page/14/?post_type=product) ['cached']\n",
      "2019-11-16 15:10:00 [scrapy.core.scraper] DEBUG: Scraped from <200 https://www.usedsurfboardshawaii.com/product/6ft-lost-squash-tail-ref-27501/>\n",
      "{'url': 'https://www.usedsurfboardshawaii.com/product/6ft-lost-squash-tail-ref-27501/', 'title': '6ft Lost Squash Tail Ref# 27501', 'price': 335.0, 'description': 'Good condition shortboard with light deck pressures but otherwise minimal signs of previous use', 'type': 'Thruster (FCS2)', 'height': 'H 6’0″', 'width': 'W 18.63', 'thickness': 'T 2.62″', 'condition': 'Good', 'manufacturer': 'Lost'}\n",
      "2019-11-16 15:10:00 [scrapy.core.engine] DEBUG: Crawled (200) <GET https://www.usedsurfboardshawaii.com/product/6ft-1in-al-merrick-t-low-squash-tail-ref-27588/> (referer: https://www.usedsurfboardshawaii.com/page/14/?post_type=product) ['cached']\n",
      "2019-11-16 15:10:00 [scrapy.core.scraper] DEBUG: Scraped from <200 https://www.usedsurfboardshawaii.com/product/5ft-4in-minami-shrimp-chip-fang-tail-ref-27494/>\n",
      "{'url': 'https://www.usedsurfboardshawaii.com/product/5ft-4in-minami-shrimp-chip-fang-tail-ref-27494/', 'title': '5ft 4in Minami (Shrimp Chip) Fang Tail Ref# 27494', 'price': 250.0, 'description': 'Good condition groveler shortboard with light deck pressures but otherwise minimal signs of previous use', 'type': '5-fin (FCS)', 'height': 'H 5’4″', 'width': 'W 18 1/2″', 'thickness': 'T 2 1/4″', 'condition': 'Good', 'manufacturer': 'Minami'}\n"
     ]
    },
    {
     "name": "stdout",
     "output_type": "stream",
     "text": [
      "Processing 15 out of 25\n",
      "Processing 16 out of 25\n"
     ]
    },
    {
     "name": "stderr",
     "output_type": "stream",
     "text": [
      "2019-11-16 15:10:00 [scrapy.core.engine] DEBUG: Crawled (200) <GET https://www.usedsurfboardshawaii.com/product/6ft-3in-tokoro-swallow-tail-ref-27350/> (referer: https://www.usedsurfboardshawaii.com/page/14/?post_type=product) ['cached']\n",
      "2019-11-16 15:10:00 [scrapy.core.scraper] DEBUG: Scraped from <200 https://www.usedsurfboardshawaii.com/product/5ft-10in-chris-gallagher-squash-tail-ref-27589/>\n",
      "{'url': 'https://www.usedsurfboardshawaii.com/product/5ft-10in-chris-gallagher-squash-tail-ref-27589/', 'title': '5ft 10in Chris Gallagher Squash Tail Ref# 27589', 'price': 225.0, 'description': 'Good condition shortboard with light deck pressures and minor yellowing from age and previous use', 'type': 'Thruster (FCS)', 'height': 'H 5’10”', 'width': 'W 18.75″', 'thickness': 'T 2.31″', 'condition': 'Good', 'manufacturer': 'Chris Gallagher'}\n",
      "2019-11-16 15:10:00 [scrapy.core.engine] DEBUG: Crawled (200) <GET https://www.usedsurfboardshawaii.com/product/5ft-11in-dennis-pang-grom-step-up-ref-27478/> (referer: https://www.usedsurfboardshawaii.com/page/14/?post_type=product) ['cached']\n",
      "2019-11-16 15:10:00 [scrapy.core.scraper] DEBUG: Scraped from <200 https://www.usedsurfboardshawaii.com/product/6ft-1in-al-merrick-t-low-squash-tail-ref-27588/>\n",
      "{'url': 'https://www.usedsurfboardshawaii.com/product/6ft-1in-al-merrick-t-low-squash-tail-ref-27588/', 'title': '6ft 1in Al Merrick (T-Low) Squash Tail Ref# 27588', 'price': 299.0, 'description': 'Good condition shortboard with light deck pressures and minor yellowing from age and previous use but otherwise great condition', 'type': 'Thruster (FCS)', 'height': 'H 6’1″', 'width': 'W 19 1/8″', 'thickness': 'T 2 1/2″', 'condition': 'Good', 'manufacturer': 'Al Merrick'}\n"
     ]
    },
    {
     "name": "stdout",
     "output_type": "stream",
     "text": [
      "Processing 17 out of 25\n",
      "Processing 18 out of 25\n"
     ]
    },
    {
     "name": "stderr",
     "output_type": "stream",
     "text": [
      "2019-11-16 15:10:00 [scrapy.core.engine] DEBUG: Crawled (200) <GET https://www.usedsurfboardshawaii.com/product/6ft-6in-dennis-pang-round-tail-ref-27477/> (referer: https://www.usedsurfboardshawaii.com/page/14/?post_type=product) ['cached']\n",
      "2019-11-16 15:10:00 [scrapy.core.scraper] DEBUG: Scraped from <200 https://www.usedsurfboardshawaii.com/product/6ft-3in-tokoro-swallow-tail-ref-27350/>\n",
      "{'url': 'https://www.usedsurfboardshawaii.com/product/6ft-3in-tokoro-swallow-tail-ref-27350/', 'title': '6ft 3in Tokoro Swallow Tail Ref# 27350', 'price': 350.0, 'description': 'Good performance shotboard with a little extra width for a little bit bigger guy.', 'type': '5-fin (FCS)', 'height': 'H 6′ 3″', 'width': 'W 19 3/4″', 'thickness': 'T 2 7/16″', 'condition': 'Good', 'manufacturer': 'Tokoro, Wade Tokoro'}\n",
      "2019-11-16 15:10:00 [scrapy.core.engine] DEBUG: Crawled (200) <GET https://www.usedsurfboardshawaii.com/product/8ft-4in-dick-brewer-pin-tail-ref-27507/> (referer: https://www.usedsurfboardshawaii.com/page/14/?post_type=product) ['cached']\n",
      "2019-11-16 15:10:00 [scrapy.core.scraper] DEBUG: Scraped from <200 https://www.usedsurfboardshawaii.com/product/5ft-11in-dennis-pang-grom-step-up-ref-27478/>\n",
      "{'url': 'https://www.usedsurfboardshawaii.com/product/5ft-11in-dennis-pang-grom-step-up-ref-27478/', 'title': '5ft 11in Dennis Pang (Grom Step-up) Ref# 27478', 'price': 385.0, 'description': 'Grom step-up board with just some minor pressure denting.', 'type': 'Thruster (future)', 'height': 'H 5′ 11″', 'width': 'W 16 5/16″', 'thickness': 'T\\xa0 2 3/16″', 'condition': 'Good', 'manufacturer': 'Dennis Pang, Pang'}\n"
     ]
    },
    {
     "name": "stdout",
     "output_type": "stream",
     "text": [
      "Processing 19 out of 25\n",
      "Processing 20 out of 25\n"
     ]
    },
    {
     "name": "stderr",
     "output_type": "stream",
     "text": [
      "2019-11-16 15:10:00 [scrapy.core.engine] DEBUG: Crawled (200) <GET https://www.usedsurfboardshawaii.com/product/5ft-11in-jimmy-lewis-swallow-tail-ref-27500/> (referer: https://www.usedsurfboardshawaii.com/page/14/?post_type=product) ['cached']\n",
      "2019-11-16 15:10:00 [scrapy.core.scraper] DEBUG: Scraped from <200 https://www.usedsurfboardshawaii.com/product/6ft-6in-dennis-pang-round-tail-ref-27477/>\n",
      "{'url': 'https://www.usedsurfboardshawaii.com/product/6ft-6in-dennis-pang-round-tail-ref-27477/', 'title': '6ft 6in Dennis Pang Round Tail Ref# 27477', 'price': 385.0, 'description': 'Good condition grom step up with light deck pressures but otherwise minimal signs of previous use', 'type': 'Thruster (Future)', 'height': 'H 6’6″', 'width': 'W 17 1/8″', 'thickness': 'T 2 1/4″', 'condition': 'Good', 'manufacturer': 'D.Pang, Dennis Pang, Pang'}\n",
      "2019-11-16 15:10:01 [scrapy.core.engine] DEBUG: Crawled (200) <GET https://www.usedsurfboardshawaii.com/product/5ft-8in-tokoro-round-tail-ref-27495/> (referer: https://www.usedsurfboardshawaii.com/page/14/?post_type=product) ['cached']\n",
      "2019-11-16 15:10:01 [scrapy.core.scraper] DEBUG: Scraped from <200 https://www.usedsurfboardshawaii.com/product/8ft-4in-dick-brewer-pin-tail-ref-27507/>\n",
      "{'url': 'https://www.usedsurfboardshawaii.com/product/8ft-4in-dick-brewer-pin-tail-ref-27507/', 'title': '8ft 4in Dick Brewer Pin Tail Ref# 27507', 'price': 405.0, 'description': 'Nice classic semi gun/step up shaped by Owl Chapman. This board is in fair condition with some normal pressure denting and some previously repaired dings.', 'type': 'Thruster (Glass-on)', 'height': 'H 8′ 4″', 'width': 'W 20″', 'thickness': 'T 3″', 'condition': 'Fair', 'manufacturer': 'Dick Brewer, Owl Chapman'}\n"
     ]
    },
    {
     "name": "stdout",
     "output_type": "stream",
     "text": [
      "Processing 21 out of 25\n",
      "Processing 22 out of 25\n"
     ]
    },
    {
     "name": "stderr",
     "output_type": "stream",
     "text": [
      "2019-11-16 15:10:01 [scrapy.core.engine] DEBUG: Crawled (200) <GET https://www.usedsurfboardshawaii.com/product/6ft-chris-gallagher-round-tail-ref-27348/> (referer: https://www.usedsurfboardshawaii.com/page/14/?post_type=product) ['cached']\n",
      "2019-11-16 15:10:01 [scrapy.core.scraper] DEBUG: Scraped from <200 https://www.usedsurfboardshawaii.com/product/5ft-11in-jimmy-lewis-swallow-tail-ref-27500/>\n",
      "{'url': 'https://www.usedsurfboardshawaii.com/product/5ft-11in-jimmy-lewis-swallow-tail-ref-27500/', 'title': '5ft 11in Jimmy Lewis Swallow Tail Ref# 27475', 'price': 450.0, 'description': 'Good condition Kiteboard with minimal signs of previous use', 'type': 'Quad (Future)', 'height': 'H 5’11”', 'width': 'W 18 1/2″', 'thickness': None, 'condition': 'Good', 'manufacturer': 'Jimmy Lewis'}\n",
      "2019-11-16 15:10:01 [scrapy.core.engine] DEBUG: Crawled (200) <GET https://www.usedsurfboardshawaii.com/product/5ft-10in-tokoro-squash-tail-ref-27382/> (referer: https://www.usedsurfboardshawaii.com/page/14/?post_type=product) ['cached']\n",
      "2019-11-16 15:10:01 [scrapy.core.scraper] DEBUG: Scraped from <200 https://www.usedsurfboardshawaii.com/product/5ft-8in-tokoro-round-tail-ref-27495/>\n",
      "{'url': 'https://www.usedsurfboardshawaii.com/product/5ft-8in-tokoro-round-tail-ref-27495/', 'title': '5ft 8in Tokoro Round Tail Ref# 27495', 'price': 250.0, 'description': 'Fair condition shortboard with a lot of pressure dents but otherwise it is in good surfable condition.', 'type': 'Thruster (FCS2)', 'height': 'H 5’8″', 'width': 'W 18 3/4″', 'thickness': 'T 2 1/4″', 'condition': 'Fair', 'manufacturer': 'Tokoro'}\n"
     ]
    },
    {
     "name": "stdout",
     "output_type": "stream",
     "text": [
      "Processing 23 out of 25\n",
      "Processing 24 out of 25\n"
     ]
    },
    {
     "name": "stderr",
     "output_type": "stream",
     "text": [
      "2019-11-16 15:10:01 [scrapy.core.engine] DEBUG: Crawled (200) <GET https://www.usedsurfboardshawaii.com/product/6ft-5in-minami-round-tail-ref-27349/> (referer: https://www.usedsurfboardshawaii.com/page/14/?post_type=product) ['cached']\n",
      "2019-11-16 15:10:01 [scrapy.core.scraper] DEBUG: Scraped from <200 https://www.usedsurfboardshawaii.com/product/6ft-chris-gallagher-round-tail-ref-27348/>\n",
      "{'url': 'https://www.usedsurfboardshawaii.com/product/6ft-chris-gallagher-round-tail-ref-27348/', 'title': '6ft Chris Gallagher Round Tail Ref# 27348', 'price': 399.0, 'description': 'Good condition shortboard with light deck pressures but otherwise minimal signs of previous use.', 'type': 'Thruster (FCS2)', 'height': 'H 6’0″', 'width': 'W 18.5″', 'thickness': 'T 2.38″', 'condition': 'Good', 'manufacturer': 'Chris Gallagher'}\n",
      "2019-11-16 15:10:01 [scrapy.core.engine] DEBUG: Crawled (200) <GET https://www.usedsurfboardshawaii.com/product/6ft-9in-js-round-tail-ref-27353/> (referer: https://www.usedsurfboardshawaii.com/page/14/?post_type=product) ['cached']\n",
      "2019-11-16 15:10:01 [scrapy.core.scraper] DEBUG: Scraped from <200 https://www.usedsurfboardshawaii.com/product/5ft-10in-tokoro-squash-tail-ref-27382/>\n",
      "{'url': 'https://www.usedsurfboardshawaii.com/product/5ft-10in-tokoro-squash-tail-ref-27382/', 'title': '5ft 10in Tokoro Squash Tail Ref# 27382', 'price': 270.0, 'description': 'Good condition shortboard with light deck pressure but otherwise minimal signs of previous use', 'type': 'Thruster (Futures)', 'height': 'H 5’10”', 'width': 'W 18 3/4″', 'thickness': 'T 2 5/16″', 'condition': 'Good', 'manufacturer': 'Tokoro'}\n",
      "2019-11-16 15:10:01 [scrapy.core.engine] DEBUG: Crawled (200) <GET https://www.usedsurfboardshawaii.com/page/15/?post_type=product> (referer: https://www.usedsurfboardshawaii.com/page/14/?post_type=product) ['cached']\n",
      "2019-11-16 15:10:01 [scrapy.core.scraper] DEBUG: Scraped from <200 https://www.usedsurfboardshawaii.com/product/6ft-5in-minami-round-tail-ref-27349/>\n",
      "{'url': 'https://www.usedsurfboardshawaii.com/product/6ft-5in-minami-round-tail-ref-27349/', 'title': '6ft 5in Minami Round Tail Ref# 27349', 'price': 399.0, 'description': 'Fair condition shortboard with yellowing and pressure dents from age and previous use', 'type': 'Thruster (FCS)', 'height': 'H 6’5″', 'width': 'W 19 1/2″', 'thickness': 'T 2 5/8″', 'condition': 'Fair', 'manufacturer': 'Minami'}\n"
     ]
    },
    {
     "name": "stdout",
     "output_type": "stream",
     "text": [
      "Processing 25 out of 25\n",
      "\n",
      "https://www.usedsurfboardshawaii.com/page/15/?post_type=product\n"
     ]
    },
    {
     "name": "stderr",
     "output_type": "stream",
     "text": [
      "2019-11-16 15:10:01 [scrapy.core.scraper] DEBUG: Scraped from <200 https://www.usedsurfboardshawaii.com/product/6ft-9in-js-round-tail-ref-27353/>\n",
      "{'url': 'https://www.usedsurfboardshawaii.com/product/6ft-9in-js-round-tail-ref-27353/', 'title': '6ft 9in JS Round Tail Ref# 27353', 'price': 425.0, 'description': 'Good condition shortboard with light deck pressures but otherwise minimal signs of previous use', 'type': 'Quad (Future)', 'height': 'H 6’9″', 'width': 'W 19 1/2″', 'thickness': 'T 2 1/2″', 'condition': 'Good', 'manufacturer': 'JS'}\n",
      "2019-11-16 15:10:01 [scrapy.core.engine] DEBUG: Crawled (200) <GET https://www.usedsurfboardshawaii.com/product/5ft-10in-petey-varial-foam-round-tail-ref-27282/> (referer: https://www.usedsurfboardshawaii.com/page/15/?post_type=product) ['cached']\n"
     ]
    },
    {
     "name": "stdout",
     "output_type": "stream",
     "text": [
      "Total:  25\n",
      "Processing 1 out of 25\n",
      "Processing 2 out of 25\n"
     ]
    },
    {
     "name": "stderr",
     "output_type": "stream",
     "text": [
      "2019-11-16 15:10:02 [scrapy.core.engine] DEBUG: Crawled (200) <GET https://www.usedsurfboardshawaii.com/product/5ft-11in-eric-arakawa-bandit-diamond-tail-ref-27212/> (referer: https://www.usedsurfboardshawaii.com/page/15/?post_type=product) ['cached']\n",
      "2019-11-16 15:10:02 [scrapy.core.engine] DEBUG: Crawled (200) <GET https://www.usedsurfboardshawaii.com/product/6ft-firewire-amigo-squash-tail-ref-27245/> (referer: https://www.usedsurfboardshawaii.com/page/15/?post_type=product) ['cached']\n",
      "2019-11-16 15:10:02 [scrapy.core.scraper] DEBUG: Scraped from <200 https://www.usedsurfboardshawaii.com/product/5ft-10in-petey-varial-foam-round-tail-ref-27282/>\n",
      "{'url': 'https://www.usedsurfboardshawaii.com/product/5ft-10in-petey-varial-foam-round-tail-ref-27282/', 'title': '5ft 10in Petey (Varial Foam) Round Tail Ref# 27282', 'price': 325.0, 'description': 'Good condition shortboard with light deck pressures but otherwise minimal signs of previous use', 'type': '5-Fin (Future)', 'height': 'H 5’10”', 'width': 'W 201/3″', 'thickness': 'T 2 5/8″', 'condition': 'Good', 'manufacturer': 'Petey'}\n"
     ]
    },
    {
     "name": "stdout",
     "output_type": "stream",
     "text": [
      "Processing 3 out of 25\n"
     ]
    },
    {
     "name": "stderr",
     "output_type": "stream",
     "text": [
      "2019-11-16 15:10:02 [scrapy.core.engine] DEBUG: Crawled (200) <GET https://www.usedsurfboardshawaii.com/product/5ft-6in-meeks-healy-squash-tail-ref-26575/> (referer: https://www.usedsurfboardshawaii.com/page/15/?post_type=product) ['cached']\n",
      "2019-11-16 15:10:02 [scrapy.core.scraper] DEBUG: Scraped from <200 https://www.usedsurfboardshawaii.com/product/5ft-11in-eric-arakawa-bandit-diamond-tail-ref-27212/>\n",
      "{'url': 'https://www.usedsurfboardshawaii.com/product/5ft-11in-eric-arakawa-bandit-diamond-tail-ref-27212/', 'title': '5ft 11in Eric Arakawa (Bandit) Diamond Tail Ref# 27212', 'price': 350.0, 'description': '“\\xa0by Eric\\xa0. The\\xa0 is catches waves easily and grovels well in small, mushy conditions, but don’t think of this board is as a full on groveler. It is a high performance design in a small package.” -Freedom Surf', 'type': '5-Fin (Fture)', 'height': 'H 5’11”', 'width': 'W 19.25″', 'thickness': 'T 2.44', 'condition': 'Good', 'manufacturer': 'Eric Arakawa'}\n",
      "2019-11-16 15:10:02 [scrapy.core.engine] DEBUG: Crawled (200) <GET https://www.usedsurfboardshawaii.com/product/7ft-3in-pang-swallow-tail-ref-27203/> (referer: https://www.usedsurfboardshawaii.com/page/15/?post_type=product) ['cached']\n",
      "2019-11-16 15:10:02 [scrapy.core.scraper] DEBUG: Scraped from <200 https://www.usedsurfboardshawaii.com/product/6ft-firewire-amigo-squash-tail-ref-27245/>\n",
      "{'url': 'https://www.usedsurfboardshawaii.com/product/6ft-firewire-amigo-squash-tail-ref-27245/', 'title': '6ft Firewire (Amigo) Squash Tail Ref# 27245', 'price': 510.0, 'description': 'Good condition shortboard with light deck pressures but otherwise minimal signs of previous use', 'type': '5-Fin (Future)', 'height': 'H 6’0″', 'width': 'W 19 5/8″', 'thickness': 'T 2 1/2″', 'condition': 'Good', 'manufacturer': 'Firewire'}\n"
     ]
    },
    {
     "name": "stdout",
     "output_type": "stream",
     "text": [
      "Processing 4 out of 25\n",
      "Processing 5 out of 25\n",
      "Processing 6 out of 25\n"
     ]
    },
    {
     "name": "stderr",
     "output_type": "stream",
     "text": [
      "2019-11-16 15:10:02 [scrapy.core.engine] DEBUG: Crawled (200) <GET https://www.usedsurfboardshawaii.com/product/6ft-6in-tokoro-round-tail-ref-27179/> (referer: https://www.usedsurfboardshawaii.com/page/15/?post_type=product) ['cached']\n",
      "2019-11-16 15:10:02 [scrapy.core.scraper] DEBUG: Scraped from <200 https://www.usedsurfboardshawaii.com/product/5ft-6in-meeks-healy-squash-tail-ref-26575/>\n",
      "{'url': 'https://www.usedsurfboardshawaii.com/product/5ft-6in-meeks-healy-squash-tail-ref-26575/', 'title': '5ft 6in Meeks (Healy) Squash Tail Ref# 26575', 'price': 175.0, 'description': 'Fair condition shortboard with a good amount of pressure dents and yellowing from age and previous use', 'type': 'Thruster (Future)', 'height': 'H 5’6″', 'width': 'W 18 1/2″', 'thickness': 'T 2 5/16″', 'condition': 'Fair', 'manufacturer': 'Meeks'}\n",
      "2019-11-16 15:10:02 [scrapy.core.engine] DEBUG: Crawled (200) <GET https://www.usedsurfboardshawaii.com/product/6ft-4in-tokoro-round-tail-ref-27179/> (referer: https://www.usedsurfboardshawaii.com/page/15/?post_type=product) ['cached']\n",
      "2019-11-16 15:10:03 [scrapy.core.scraper] DEBUG: Scraped from <200 https://www.usedsurfboardshawaii.com/product/7ft-3in-pang-swallow-tail-ref-27203/>\n",
      "{'url': 'https://www.usedsurfboardshawaii.com/product/7ft-3in-pang-swallow-tail-ref-27203/', 'title': '7ft 3in Pang Swallow Tail Ref# 27203', 'price': 450.0, 'description': 'Good condition step-up with light deck pressures and a little yellowing from age and previous use but otherwise minimal signs of previous use.', 'type': 'Thruster (Glassed in)', 'height': 'H 7’3″', 'width': 'W 19 3/8″', 'thickness': 'T 2 3/4″', 'condition': 'Good', 'manufacturer': 'Pang'}\n"
     ]
    },
    {
     "name": "stdout",
     "output_type": "stream",
     "text": [
      "Processing 7 out of 25\n",
      "Processing 8 out of 25\n"
     ]
    },
    {
     "name": "stderr",
     "output_type": "stream",
     "text": [
      "2019-11-16 15:10:03 [scrapy.core.engine] DEBUG: Crawled (200) <GET https://www.usedsurfboardshawaii.com/product/5ft-10in-reid-varial-foam-squash-tail-ref-27195/> (referer: https://www.usedsurfboardshawaii.com/page/15/?post_type=product) ['cached']\n",
      "2019-11-16 15:10:03 [scrapy.core.scraper] DEBUG: Scraped from <200 https://www.usedsurfboardshawaii.com/product/6ft-6in-tokoro-round-tail-ref-27179/>\n",
      "{'url': 'https://www.usedsurfboardshawaii.com/product/6ft-6in-tokoro-round-tail-ref-27179/', 'title': '6ft 6in Tokoro Round Tail Ref# 27179', 'price': 499.0, 'description': 'Good condition shortboard with light deck pressures and yellowing from age and previous use', 'type': 'Thruster (FCS)', 'height': 'H 6’6″', 'width': 'W 18 3/4″', 'thickness': 'T 2 7/16″', 'condition': 'Good', 'manufacturer': 'Tokoro'}\n",
      "2019-11-16 15:10:03 [scrapy.core.engine] DEBUG: Crawled (200) <GET https://www.usedsurfboardshawaii.com/product/6ft-2in-bessell-swallow-tail-ref-27139/> (referer: https://www.usedsurfboardshawaii.com/page/15/?post_type=product) ['cached']\n",
      "2019-11-16 15:10:03 [scrapy.core.scraper] DEBUG: Scraped from <200 https://www.usedsurfboardshawaii.com/product/6ft-4in-tokoro-round-tail-ref-27179/>\n",
      "{'url': 'https://www.usedsurfboardshawaii.com/product/6ft-4in-tokoro-round-tail-ref-27179/', 'title': '6ft 4in Tokoro Round Tail Ref# 27179', 'price': 475.0, 'description': 'Fair condition shortboad with light deck pressures and yellowing from age and previous use', 'type': 'Thruster (Futures)', 'height': 'H 6’4″', 'width': 'W 18 5/6', 'thickness': 'T 2 1/4″', 'condition': 'Fair', 'manufacturer': 'Tokoro'}\n"
     ]
    },
    {
     "name": "stdout",
     "output_type": "stream",
     "text": [
      "Processing 9 out of 25\n",
      "Processing 10 out of 25\n"
     ]
    },
    {
     "name": "stderr",
     "output_type": "stream",
     "text": [
      "2019-11-16 15:10:03 [scrapy.core.engine] DEBUG: Crawled (200) <GET https://www.usedsurfboardshawaii.com/product/6ft-2in-rusty-squash-tail-ref-27140/> (referer: https://www.usedsurfboardshawaii.com/page/15/?post_type=product) ['cached']\n",
      "2019-11-16 15:10:03 [scrapy.core.scraper] DEBUG: Scraped from <200 https://www.usedsurfboardshawaii.com/product/5ft-10in-reid-varial-foam-squash-tail-ref-27195/>\n",
      "{'url': 'https://www.usedsurfboardshawaii.com/product/5ft-10in-reid-varial-foam-squash-tail-ref-27195/', 'title': '5ft 10in Reid (Varial Foam) Squash Tail Ref# 27195', 'price': 425.0, 'description': 'Good condition shortboard with light deck pressures but otherwise minimal signs of previous use', 'type': 'Thruster (Future)', 'height': 'H 5’10”', 'width': 'W 18 3/8″', 'thickness': 'T 2 5/16″', 'condition': 'Good', 'manufacturer': 'Chris Reid, Reid'}\n",
      "2019-11-16 15:10:03 [scrapy.core.engine] DEBUG: Crawled (200) <GET https://www.usedsurfboardshawaii.com/product/5ft-6in-morgan-super-v-diamond-tail-ref-27128/> (referer: https://www.usedsurfboardshawaii.com/page/15/?post_type=product) ['cached']\n",
      "2019-11-16 15:10:03 [scrapy.core.scraper] DEBUG: Scraped from <200 https://www.usedsurfboardshawaii.com/product/6ft-2in-bessell-swallow-tail-ref-27139/>\n",
      "{'url': 'https://www.usedsurfboardshawaii.com/product/6ft-2in-bessell-swallow-tail-ref-27139/', 'title': '6ft 2in Bessell Swallow Tail Ref# 27139', 'price': 299.0, 'description': 'Good condition shortboard with light deck pressures and yellowing from age and previous use but otherwise good condition', 'type': 'Thruster (FCS)', 'height': 'H 6’2″', 'width': 'W 18 1/2″', 'thickness': 'T 2 1/4″', 'condition': 'Good', 'manufacturer': 'Bessell'}\n"
     ]
    },
    {
     "name": "stdout",
     "output_type": "stream",
     "text": [
      "Processing 11 out of 25\n",
      "Processing 12 out of 25\n"
     ]
    },
    {
     "name": "stderr",
     "output_type": "stream",
     "text": [
      "2019-11-16 15:10:03 [scrapy.core.engine] DEBUG: Crawled (200) <GET https://www.usedsurfboardshawaii.com/product/6ft-eric-arakawa-round-tail-ref-27119/> (referer: https://www.usedsurfboardshawaii.com/page/15/?post_type=product) ['cached']\n",
      "2019-11-16 15:10:03 [scrapy.core.scraper] DEBUG: Scraped from <200 https://www.usedsurfboardshawaii.com/product/6ft-2in-rusty-squash-tail-ref-27140/>\n",
      "{'url': 'https://www.usedsurfboardshawaii.com/product/6ft-2in-rusty-squash-tail-ref-27140/', 'title': '6ft 2in Rusty Squash Tail Ref# 27140', 'price': 199.0, 'description': 'Good condition shortboard with light deck pressures but otherwise minimal signs of previous use', 'type': 'Thruster (FCS)', 'height': 'H 6’2″', 'width': 'W 18.5″', 'thickness': 'T 2.5″', 'condition': 'Good', 'manufacturer': 'Rusty'}\n",
      "2019-11-16 15:10:03 [scrapy.core.engine] DEBUG: Crawled (200) <GET https://www.usedsurfboardshawaii.com/product/5ft-7in-al-merrick-dumpster-diver-swallow-tail-ref-27138/> (referer: https://www.usedsurfboardshawaii.com/page/15/?post_type=product) ['cached']\n",
      "2019-11-16 15:10:03 [scrapy.core.scraper] DEBUG: Scraped from <200 https://www.usedsurfboardshawaii.com/product/5ft-6in-morgan-super-v-diamond-tail-ref-27128/>\n",
      "{'url': 'https://www.usedsurfboardshawaii.com/product/5ft-6in-morgan-super-v-diamond-tail-ref-27128/', 'title': '5ft 6in Morgan (Super V) Diamond Tail Ref# 27128', 'price': 350.0, 'description': 'Good condition shortboard with light deck pressures but otherwise minimal signs of previous use', 'type': '5-Fin (Futures)', 'height': 'H 5’6″', 'width': 'W 19″', 'thickness': 'T 2 3/8″', 'condition': 'Good', 'manufacturer': 'Morgan'}\n"
     ]
    },
    {
     "name": "stdout",
     "output_type": "stream",
     "text": [
      "Processing 13 out of 25\n",
      "Processing 14 out of 25\n"
     ]
    },
    {
     "name": "stderr",
     "output_type": "stream",
     "text": [
      "2019-11-16 15:10:04 [scrapy.core.engine] DEBUG: Crawled (200) <GET https://www.usedsurfboardshawaii.com/product/5ft-4in-tomo-vader-diamond-tail-ref-27100/> (referer: https://www.usedsurfboardshawaii.com/page/15/?post_type=product) ['cached']\n",
      "2019-11-16 15:10:04 [scrapy.core.scraper] DEBUG: Scraped from <200 https://www.usedsurfboardshawaii.com/product/6ft-eric-arakawa-round-tail-ref-27119/>\n",
      "{'url': 'https://www.usedsurfboardshawaii.com/product/6ft-eric-arakawa-round-tail-ref-27119/', 'title': '6ft Eric Arakawa (K4) Round Tail Ref# 27119', 'price': 475.0, 'description': 'Good condition shortboard with a few light deck pressures but otherwise great condition with minimal signs of previous use', 'type': '5-Fin (Futures)', 'height': 'H 6’0″', 'width': 'W 19″', 'thickness': 'T 2.5″', 'condition': 'Good', 'manufacturer': 'Eric Arakawa'}\n",
      "2019-11-16 15:10:04 [scrapy.core.engine] DEBUG: Crawled (200) <GET https://www.usedsurfboardshawaii.com/product/5ft-1in-minami-shrimp-chip-fang-tail-ref-26863/> (referer: https://www.usedsurfboardshawaii.com/page/15/?post_type=product) ['cached']\n",
      "2019-11-16 15:10:04 [scrapy.core.scraper] DEBUG: Scraped from <200 https://www.usedsurfboardshawaii.com/product/5ft-7in-al-merrick-dumpster-diver-swallow-tail-ref-27138/>\n",
      "{'url': 'https://www.usedsurfboardshawaii.com/product/5ft-7in-al-merrick-dumpster-diver-swallow-tail-ref-27138/', 'title': '5ft 7in Al Merrick (Dumpster Diver) Swallow Tail Ref# 27138', 'price': 599.0, 'description': 'Good condition shortboard with some light pressure dents and yellowing from age and previous use', 'type': 'Thruster (Future)', 'height': 'H 5’7″', 'width': 'W 19 1/2″', 'thickness': 'T 2 3/16″', 'condition': 'Good', 'manufacturer': 'Al Merrick'}\n"
     ]
    },
    {
     "name": "stdout",
     "output_type": "stream",
     "text": [
      "Processing 15 out of 25\n",
      "Processing 16 out of 25\n"
     ]
    },
    {
     "name": "stderr",
     "output_type": "stream",
     "text": [
      "2019-11-16 15:10:04 [scrapy.core.engine] DEBUG: Crawled (200) <GET https://www.usedsurfboardshawaii.com/product/5ft-1in-minami-shrimp-chip-fang-tail-ref-26864/> (referer: https://www.usedsurfboardshawaii.com/page/15/?post_type=product) ['cached']\n",
      "2019-11-16 15:10:04 [scrapy.core.scraper] DEBUG: Scraped from <200 https://www.usedsurfboardshawaii.com/product/5ft-4in-tomo-vader-diamond-tail-ref-27100/>\n",
      "{'url': 'https://www.usedsurfboardshawaii.com/product/5ft-4in-tomo-vader-diamond-tail-ref-27100/', 'title': '5ft 4in Tomo (Vader) Diamond Tail Ref# 27100', 'price': 450.0, 'description': 'Good condition shortboard with minor light pressures but otherwise minimal signs of previous use.', 'type': '5-Fin (Futures)', 'height': 'H 5’6″', 'width': 'W 19.25″', 'thickness': 'T 2 3/8″', 'condition': 'Good', 'manufacturer': 'Tomo'}\n",
      "2019-11-16 15:10:04 [scrapy.core.engine] DEBUG: Crawled (200) <GET https://www.usedsurfboardshawaii.com/product/5ft-11in-js-air17-squash-tail-ref-26844/> (referer: https://www.usedsurfboardshawaii.com/page/15/?post_type=product) ['cached']\n",
      "2019-11-16 15:10:04 [scrapy.core.scraper] DEBUG: Scraped from <200 https://www.usedsurfboardshawaii.com/product/5ft-1in-minami-shrimp-chip-fang-tail-ref-26863/>\n",
      "{'url': 'https://www.usedsurfboardshawaii.com/product/5ft-1in-minami-shrimp-chip-fang-tail-ref-26863/', 'title': '5ft 1in Minami (Shrimp Chip) Fang Tail Ref# 26863', 'price': 299.0, 'description': 'Good condition short board with light deck pressures and yellowing from age and previous use.', 'type': '5-Fin (Futures)', 'height': 'H 5’1″', 'width': 'W 20 5/8″', 'thickness': 'T 2 3/8″', 'condition': 'Good', 'manufacturer': 'Minami'}\n"
     ]
    },
    {
     "name": "stdout",
     "output_type": "stream",
     "text": [
      "Processing 17 out of 25\n",
      "Processing 18 out of 25\n"
     ]
    },
    {
     "name": "stderr",
     "output_type": "stream",
     "text": [
      "2019-11-16 15:10:04 [scrapy.core.engine] DEBUG: Crawled (200) <GET https://www.usedsurfboardshawaii.com/product/5ft-6in-kieth-umeda-square-tail-ref-26905/> (referer: https://www.usedsurfboardshawaii.com/page/15/?post_type=product) ['cached']\n",
      "2019-11-16 15:10:04 [scrapy.core.scraper] DEBUG: Scraped from <200 https://www.usedsurfboardshawaii.com/product/5ft-1in-minami-shrimp-chip-fang-tail-ref-26864/>\n",
      "{'url': 'https://www.usedsurfboardshawaii.com/product/5ft-1in-minami-shrimp-chip-fang-tail-ref-26864/', 'title': '5ft 1in Minami (Shrimp Chip) Fang Tail Ref# 26864', 'price': 299.0, 'description': 'Good condition groveler with light deck pressures and yellowing from age and previous use.', 'type': '5-Fin (Future)', 'height': 'H 5’1″', 'width': 'W 20 1/2″', 'thickness': 'T 2 11/16″', 'condition': 'Good', 'manufacturer': 'Minami'}\n",
      "2019-11-16 15:10:04 [scrapy.core.engine] DEBUG: Crawled (200) <GET https://www.usedsurfboardshawaii.com/product/6ft-8in-sparrow-round-tail-ref-26869/> (referer: https://www.usedsurfboardshawaii.com/page/15/?post_type=product) ['cached']\n",
      "2019-11-16 15:10:04 [scrapy.core.scraper] DEBUG: Scraped from <200 https://www.usedsurfboardshawaii.com/product/5ft-11in-js-air17-squash-tail-ref-26844/>\n",
      "{'url': 'https://www.usedsurfboardshawaii.com/product/5ft-11in-js-air17-squash-tail-ref-26844/', 'title': '5ft 11in JS (Air17) Squash Tail Ref# 26844', 'price': 399.0, 'description': 'Good condition shortboard\\xa0 with a few light deck pressures and a previous professional finbox repair as shown in photo', 'type': 'Thruster (FCS2)', 'height': 'H 5’11.5″', 'width': 'W 18 3/4″', 'thickness': 'T 2 3/8″', 'condition': 'Good', 'manufacturer': 'JS'}\n"
     ]
    },
    {
     "name": "stdout",
     "output_type": "stream",
     "text": [
      "Processing 19 out of 25\n",
      "Processing 20 out of 25\n"
     ]
    },
    {
     "name": "stderr",
     "output_type": "stream",
     "text": [
      "2019-11-16 15:10:04 [scrapy.core.engine] DEBUG: Crawled (200) <GET https://www.usedsurfboardshawaii.com/product/6ft-6in-al-merrick-local-motion-square-tail-ref-26871/> (referer: https://www.usedsurfboardshawaii.com/page/15/?post_type=product) ['cached']\n",
      "2019-11-16 15:10:04 [scrapy.core.scraper] DEBUG: Scraped from <200 https://www.usedsurfboardshawaii.com/product/5ft-6in-kieth-umeda-square-tail-ref-26905/>\n",
      "{'url': 'https://www.usedsurfboardshawaii.com/product/5ft-6in-kieth-umeda-square-tail-ref-26905/', 'title': '5ft 6in Kieth Umeda Square Tail Ref# 26905', 'price': 199.0, 'description': 'Fair condition short board with a good amount of pressure dents and yellowing from age but otherwise minor signs of previous use', 'type': 'Quad (FCS2)', 'height': 'H 5’6″', 'width': 'W 19 1/4″', 'thickness': 'T 2 3/16″', 'condition': 'Fair', 'manufacturer': 'Keith Umeda'}\n",
      "2019-11-16 15:10:05 [scrapy.core.engine] DEBUG: Crawled (200) <GET https://www.usedsurfboardshawaii.com/product/6ft-1in-makani-monstah-round-tail-ref-26938/> (referer: https://www.usedsurfboardshawaii.com/page/15/?post_type=product) ['cached']\n",
      "2019-11-16 15:10:05 [scrapy.core.scraper] DEBUG: Scraped from <200 https://www.usedsurfboardshawaii.com/product/6ft-8in-sparrow-round-tail-ref-26869/>\n",
      "{'url': 'https://www.usedsurfboardshawaii.com/product/6ft-8in-sparrow-round-tail-ref-26869/', 'title': '6ft 8in Sparrow Round Tail Ref# 26869', 'price': 399.0, 'description': 'Good condition big guy board with light deck pressures but otherwise minimal signs of previous use', 'type': '5-Fin (Future) Thruster pack of fins included', 'height': 'H 6’8″', 'width': 'W 21″', 'thickness': 'T 2 7/8″', 'condition': 'Good', 'manufacturer': 'Sparrow'}\n"
     ]
    },
    {
     "name": "stdout",
     "output_type": "stream",
     "text": [
      "Processing 21 out of 25\n",
      "Processing 22 out of 25\n"
     ]
    },
    {
     "name": "stderr",
     "output_type": "stream",
     "text": [
      "2019-11-16 15:10:05 [scrapy.core.engine] DEBUG: Crawled (200) <GET https://www.usedsurfboardshawaii.com/product/5ft-9in-nation-mfg-squash-tail-ref-26917/> (referer: https://www.usedsurfboardshawaii.com/page/15/?post_type=product) ['cached']\n",
      "2019-11-16 15:10:05 [scrapy.core.scraper] DEBUG: Scraped from <200 https://www.usedsurfboardshawaii.com/product/6ft-6in-al-merrick-local-motion-square-tail-ref-26871/>\n",
      "{'url': 'https://www.usedsurfboardshawaii.com/product/6ft-6in-al-merrick-local-motion-square-tail-ref-26871/', 'title': '6ft 6in Al Merrick (Local Motion) Square Tail Ref# 26871', 'price': 175.0, 'description': 'Fair condition shortboard with light deck pressures and yellowing from age but otherwise minimal signs of previous use', 'type': 'Thruster (FCS)', 'height': 'H 6’6″', 'width': 'W 18 1/8″', 'thickness': 'T 2 1/4″', 'condition': 'Fair', 'manufacturer': 'Al Merrick, Local Motion'}\n",
      "2019-11-16 15:10:05 [scrapy.core.engine] DEBUG: Crawled (200) <GET https://www.usedsurfboardshawaii.com/product/5ft-10in-schaper-swallow-tail-ref-26920/> (referer: https://www.usedsurfboardshawaii.com/page/15/?post_type=product) ['cached']\n",
      "2019-11-16 15:10:05 [scrapy.core.scraper] DEBUG: Scraped from <200 https://www.usedsurfboardshawaii.com/product/6ft-1in-makani-monstah-round-tail-ref-26938/>\n",
      "{'url': 'https://www.usedsurfboardshawaii.com/product/6ft-1in-makani-monstah-round-tail-ref-26938/', 'title': '6ft 1in Makani (Monstah) Round Tail Ref# 26938', 'price': 199.0, 'description': 'Fair condition shortboard with a good amount of light pressure dents but otherwise good condition', 'type': 'Thruster (FCS)', 'height': 'H 6’1″', 'width': 'W 18 7/8″', 'thickness': 'T 2 3/4″', 'condition': 'Fair', 'manufacturer': 'Makani'}\n"
     ]
    },
    {
     "name": "stdout",
     "output_type": "stream",
     "text": [
      "Processing 23 out of 25\n",
      "Processing 24 out of 25\n"
     ]
    },
    {
     "name": "stderr",
     "output_type": "stream",
     "text": [
      "2019-11-16 15:10:05 [scrapy.core.engine] DEBUG: Crawled (200) <GET https://www.usedsurfboardshawaii.com/product/6ft-4in-rawson-boombox1-squash-tail-ref26868/> (referer: https://www.usedsurfboardshawaii.com/page/15/?post_type=product) ['cached']\n",
      "2019-11-16 15:10:05 [scrapy.core.scraper] DEBUG: Scraped from <200 https://www.usedsurfboardshawaii.com/product/5ft-9in-nation-mfg-squash-tail-ref-26917/>\n",
      "{'url': 'https://www.usedsurfboardshawaii.com/product/5ft-9in-nation-mfg-squash-tail-ref-26917/', 'title': '5ft 9in Nation MFG Squash Tail Ref# 26917', 'price': 175.0, 'description': 'Fair condition shortboard with a good amount of light deck pressures but otherwise good condition', 'type': '5-fin (Future) thruster set inc', 'height': 'H 5’9″', 'width': 'W 19 1/2″', 'thickness': 'T 2 3/8″', 'condition': 'Fair', 'manufacturer': 'MFG Nation'}\n",
      "2019-11-16 15:10:05 [scrapy.core.engine] DEBUG: Crawled (200) <GET https://www.usedsurfboardshawaii.com/product/7ft-no-brand-squash-tail-ref-26804/> (referer: https://www.usedsurfboardshawaii.com/page/15/?post_type=product) ['cached']\n",
      "2019-11-16 15:10:05 [scrapy.core.scraper] DEBUG: Scraped from <200 https://www.usedsurfboardshawaii.com/product/5ft-10in-schaper-swallow-tail-ref-26920/>\n",
      "{'url': 'https://www.usedsurfboardshawaii.com/product/5ft-10in-schaper-swallow-tail-ref-26920/', 'title': '5ft 10in Schaper Swallow Tail Ref# 26920', 'price': 499.0, 'description': 'Good condition fish with light deck pressures and a sign of previous profesional repair (shown in photo) but otherwise minimal signs of previous use', 'type': 'Twin (Glassed on)', 'height': 'H 5’10”', 'width': 'W 22″', 'thickness': 'T 3″', 'condition': 'Good', 'manufacturer': 'Schaper'}\n",
      "2019-11-16 15:10:05 [scrapy.core.engine] DEBUG: Crawled (200) <GET https://www.usedsurfboardshawaii.com/page/16/?post_type=product> (referer: https://www.usedsurfboardshawaii.com/page/15/?post_type=product) ['cached']\n",
      "2019-11-16 15:10:05 [scrapy.core.scraper] DEBUG: Scraped from <200 https://www.usedsurfboardshawaii.com/product/6ft-4in-rawson-boombox1-squash-tail-ref26868/>\n",
      "{'url': 'https://www.usedsurfboardshawaii.com/product/6ft-4in-rawson-boombox1-squash-tail-ref26868/', 'title': '6ft 4in Rawson (BoomBox1) Squash Tail Ref#26868', 'price': 299.0, 'description': 'Fair condition shortboard a few heavy pressure dents and some light ones but otherwise good condition.', 'type': 'Thruster (Futures)', 'height': 'H 6’4″', 'width': 'W 18.62″', 'thickness': 'T 2 1/4″', 'condition': 'Fair', 'manufacturer': 'Rawson'}\n"
     ]
    },
    {
     "name": "stdout",
     "output_type": "stream",
     "text": [
      "Processing 25 out of 25\n",
      "\n",
      "https://www.usedsurfboardshawaii.com/page/16/?post_type=product\n"
     ]
    },
    {
     "name": "stderr",
     "output_type": "stream",
     "text": [
      "2019-11-16 15:10:05 [scrapy.core.scraper] DEBUG: Scraped from <200 https://www.usedsurfboardshawaii.com/product/7ft-no-brand-squash-tail-ref-26804/>\n",
      "{'url': 'https://www.usedsurfboardshawaii.com/product/7ft-no-brand-squash-tail-ref-26804/', 'title': '7ft No Brand Squash Tail Ref# 26804', 'price': 299.0, 'description': 'Good condition hybrid board with light deck pressures but otherwise minimal signs of use', 'type': 'Thruster (WFS) Fins included', 'height': 'H 7’0″', 'width': 'W 19 5/8″', 'thickness': 'T 2 3/4″', 'condition': 'Good', 'manufacturer': 'No Brand'}\n",
      "2019-11-16 15:10:05 [scrapy.core.engine] DEBUG: Crawled (200) <GET https://www.usedsurfboardshawaii.com/product/6ft-3in-tokoro-squash-tail-ref-26813/> (referer: https://www.usedsurfboardshawaii.com/page/16/?post_type=product) ['cached']\n"
     ]
    },
    {
     "name": "stdout",
     "output_type": "stream",
     "text": [
      "Total:  25\n",
      "Processing 1 out of 25\n",
      "Processing 2 out of 25\n"
     ]
    },
    {
     "name": "stderr",
     "output_type": "stream",
     "text": [
      "2019-11-16 15:10:06 [scrapy.core.engine] DEBUG: Crawled (200) <GET https://www.usedsurfboardshawaii.com/product/6ft-2in-wes-oshiro-round-tail-ref-26671/> (referer: https://www.usedsurfboardshawaii.com/page/16/?post_type=product) ['cached']\n",
      "2019-11-16 15:10:06 [scrapy.core.engine] DEBUG: Crawled (200) <GET https://www.usedsurfboardshawaii.com/product/6ft-1in-sharpeye-o-k-round-tail-ref-26754/> (referer: https://www.usedsurfboardshawaii.com/page/16/?post_type=product) ['cached']\n",
      "2019-11-16 15:10:06 [scrapy.core.scraper] DEBUG: Scraped from <200 https://www.usedsurfboardshawaii.com/product/6ft-3in-tokoro-squash-tail-ref-26813/>\n",
      "{'url': 'https://www.usedsurfboardshawaii.com/product/6ft-3in-tokoro-squash-tail-ref-26813/', 'title': '6ft 3in Tokoro Squash Tail Ref# 26813', 'price': 250.0, 'description': 'Fair condition shortboard with a good amount of deck pressures and a previous fin box repair but otherwise minor signs of previous use', 'type': 'Thruster (FCS)', 'height': 'H 6’3″', 'width': 'W 18 1/16″', 'thickness': 'T 2 1/8″', 'condition': 'Fair', 'manufacturer': 'Tokoro'}\n"
     ]
    },
    {
     "name": "stdout",
     "output_type": "stream",
     "text": [
      "Processing 3 out of 25\n",
      "Processing 4 out of 25\n"
     ]
    },
    {
     "name": "stderr",
     "output_type": "stream",
     "text": [
      "2019-11-16 15:10:06 [scrapy.core.engine] DEBUG: Crawled (200) <GET https://www.usedsurfboardshawaii.com/product/5ft-10in-sparrow-squash-tail-ref-26699/> (referer: https://www.usedsurfboardshawaii.com/page/16/?post_type=product) ['cached']\n",
      "2019-11-16 15:10:06 [scrapy.core.scraper] DEBUG: Scraped from <200 https://www.usedsurfboardshawaii.com/product/6ft-2in-wes-oshiro-round-tail-ref-26671/>\n",
      "{'url': 'https://www.usedsurfboardshawaii.com/product/6ft-2in-wes-oshiro-round-tail-ref-26671/', 'title': '6ft 2in Wes Oshiro Round Tail Ref# 26671', 'price': 299.0, 'description': 'Good condition shortboard with light deck pressures and a small dent on the upper bottom of the deck as shown in photo, but otherwise minimal signs of previous use', 'type': 'Thruster (FCS)', 'height': 'H 6’2″', 'width': 'W 18 3/8″', 'thickness': 'T 2 5/16″', 'condition': 'Good', 'manufacturer': 'Wes'}\n",
      "2019-11-16 15:10:06 [scrapy.core.engine] DEBUG: Crawled (200) <GET https://www.usedsurfboardshawaii.com/product/5ft-9in-tokoro-squash-tail-ref-24016/> (referer: https://www.usedsurfboardshawaii.com/page/16/?post_type=product) ['cached']\n",
      "2019-11-16 15:10:06 [scrapy.core.scraper] DEBUG: Scraped from <200 https://www.usedsurfboardshawaii.com/product/6ft-1in-sharpeye-o-k-round-tail-ref-26754/>\n",
      "{'url': 'https://www.usedsurfboardshawaii.com/product/6ft-1in-sharpeye-o-k-round-tail-ref-26754/', 'title': '6ft 1in SharpEye  (O.K.) Round Tail Ref# 26754', 'price': 250.0, 'description': 'Fair condition short board with a lot of light deck pressures,a small pressure on the bottom of the board, and a previous repair but otherwise good condition', 'type': 'Thruster (Future)', 'height': 'H 6’1″', 'width': 'W 19.25″', 'thickness': 'T 2.35″', 'condition': 'Fair', 'manufacturer': 'Sharp Eye, Sharpeye'}\n"
     ]
    },
    {
     "name": "stdout",
     "output_type": "stream",
     "text": [
      "Processing 5 out of 25\n",
      "Processing 6 out of 25\n"
     ]
    },
    {
     "name": "stderr",
     "output_type": "stream",
     "text": [
      "2019-11-16 15:10:06 [scrapy.core.engine] DEBUG: Crawled (200) <GET https://www.usedsurfboardshawaii.com/product/7ft-proctor-sfn-swallow-tail-ref-21925/> (referer: https://www.usedsurfboardshawaii.com/page/16/?post_type=product) ['cached']\n",
      "2019-11-16 15:10:06 [scrapy.core.scraper] DEBUG: Scraped from <200 https://www.usedsurfboardshawaii.com/product/5ft-10in-sparrow-squash-tail-ref-26699/>\n",
      "{'url': 'https://www.usedsurfboardshawaii.com/product/5ft-10in-sparrow-squash-tail-ref-26699/', 'title': '5ft 10in Sparrow Squash Tail Ref# 26699', 'price': 220.0, 'description': 'Fair condition short board with light pressure dents on the deck and an fcs fin box that would need repair before surfing to make water tight.\\xa0 Ask about our in shop repairs!', 'type': 'Thruster (FCS)', 'height': 'H 5’10”', 'width': 'W 18 1/2″', 'thickness': 'T 2″', 'condition': 'Fair', 'manufacturer': 'Sparrow'}\n",
      "2019-11-16 15:10:06 [scrapy.core.engine] DEBUG: Crawled (200) <GET https://www.usedsurfboardshawaii.com/product/6ft-4in-rawson-round-pin-tail-ref-26812/> (referer: https://www.usedsurfboardshawaii.com/page/16/?post_type=product) ['cached']\n",
      "2019-11-16 15:10:06 [scrapy.core.scraper] DEBUG: Scraped from <200 https://www.usedsurfboardshawaii.com/product/5ft-9in-tokoro-squash-tail-ref-24016/>\n",
      "{'url': 'https://www.usedsurfboardshawaii.com/product/5ft-9in-tokoro-squash-tail-ref-24016/', 'title': '5ft 9in Tokoro Squash Tail Ref# 24016', 'price': 425.0, 'description': 'Good condition shortboard with light deck pressures and a nose ding as shown in photo but otherwise good condition', 'type': 'Thruster (FCS)', 'height': 'H 5’9″', 'width': 'W 19 2/8″', 'thickness': 'T 2 7/16″', 'condition': 'Good', 'manufacturer': 'Tokoro'}\n"
     ]
    },
    {
     "name": "stdout",
     "output_type": "stream",
     "text": [
      "Processing 7 out of 25\n",
      "Processing 8 out of 25\n"
     ]
    },
    {
     "name": "stderr",
     "output_type": "stream",
     "text": [
      "2019-11-16 15:10:06 [scrapy.core.engine] DEBUG: Crawled (200) <GET https://www.usedsurfboardshawaii.com/product/6ft-3in-dhd-duck-nuts-squash-tail-ref-26816/> (referer: https://www.usedsurfboardshawaii.com/page/16/?post_type=product) ['cached']\n",
      "2019-11-16 15:10:06 [scrapy.core.scraper] DEBUG: Scraped from <200 https://www.usedsurfboardshawaii.com/product/7ft-proctor-sfn-swallow-tail-ref-21925/>\n",
      "{'url': 'https://www.usedsurfboardshawaii.com/product/7ft-proctor-sfn-swallow-tail-ref-21925/', 'title': '7ft Proctor (SFN) Swallow Tail Ref# 21925', 'price': 499.0, 'description': 'Good condition short board with light pressure dents but otherwise minimal signs of previous use', 'type': '5-Fin (Future)', 'height': 'H 7’0″', 'width': 'W 20 3/4″', 'thickness': 'T 2 3/16″', 'condition': 'Good', 'manufacturer': 'Proctor'}\n",
      "2019-11-16 15:10:06 [scrapy.extensions.logstats] INFO: Crawled 398 pages (at 398 pages/min), scraped 374 items (at 374 items/min)\n",
      "2019-11-16 15:10:07 [scrapy.core.engine] DEBUG: Crawled (200) <GET https://www.usedsurfboardshawaii.com/product/6ft-minami-f2-swallow-tail-ref-26800/> (referer: https://www.usedsurfboardshawaii.com/page/16/?post_type=product) ['cached']\n",
      "2019-11-16 15:10:07 [scrapy.core.scraper] DEBUG: Scraped from <200 https://www.usedsurfboardshawaii.com/product/6ft-4in-rawson-round-pin-tail-ref-26812/>\n",
      "{'url': 'https://www.usedsurfboardshawaii.com/product/6ft-4in-rawson-round-pin-tail-ref-26812/', 'title': '6ft 4in Rawson Round Pin Tail Ref# 26812', 'price': 270.0, 'description': 'Fair condition short board with a fair amount of pressure dents but it is in otherwise good condition', 'type': 'Thruster (FCS)', 'height': 'H 6’4″', 'width': 'W 18″', 'thickness': 'T 2 1/4″', 'condition': 'Fair', 'manufacturer': 'Rawson'}\n"
     ]
    },
    {
     "name": "stdout",
     "output_type": "stream",
     "text": [
      "Processing 9 out of 25\n",
      "Processing 10 out of 25\n"
     ]
    },
    {
     "name": "stderr",
     "output_type": "stream",
     "text": [
      "2019-11-16 15:10:07 [scrapy.core.engine] DEBUG: Crawled (200) <GET https://www.usedsurfboardshawaii.com/product/5ft-3in-makani-da-thumbsquash-tail-ref-26680/> (referer: https://www.usedsurfboardshawaii.com/page/16/?post_type=product) ['cached']\n",
      "2019-11-16 15:10:07 [scrapy.core.scraper] DEBUG: Scraped from <200 https://www.usedsurfboardshawaii.com/product/6ft-3in-dhd-duck-nuts-squash-tail-ref-26816/>\n",
      "{'url': 'https://www.usedsurfboardshawaii.com/product/6ft-3in-dhd-duck-nuts-squash-tail-ref-26816/', 'title': '6ft 3in DHD (Duck Nuts) Squash Tail Ref# 26816', 'price': 275.0, 'description': 'Fair condition short board with a fair amount of pressure dents but otherwise in good condition', 'type': 'Thruster (Future)', 'height': 'H 6’3″', 'width': 'W 18 3/8″', 'thickness': 'T 2 5/16″', 'condition': 'Fair', 'manufacturer': 'DHD'}\n",
      "2019-11-16 15:10:07 [scrapy.core.engine] DEBUG: Crawled (200) <GET https://www.usedsurfboardshawaii.com/product/5ft-8in-pang-round-tail-ref-26682/> (referer: https://www.usedsurfboardshawaii.com/page/16/?post_type=product) ['cached']\n",
      "2019-11-16 15:10:07 [scrapy.core.scraper] DEBUG: Scraped from <200 https://www.usedsurfboardshawaii.com/product/6ft-minami-f2-swallow-tail-ref-26800/>\n",
      "{'url': 'https://www.usedsurfboardshawaii.com/product/6ft-minami-f2-swallow-tail-ref-26800/', 'title': '6ft Minami (F2) Swallow Tail Ref# 26800', 'price': 450.0, 'description': 'Good condition short board with light deck pressures but otherwise minimal signs of previous use', 'type': 'Thruster (FCS2)', 'height': 'H 6’0″', 'width': 'W 18 3/4″', 'thickness': 'T 2 3/8″', 'condition': 'Good', 'manufacturer': 'Minami'}\n"
     ]
    },
    {
     "name": "stdout",
     "output_type": "stream",
     "text": [
      "Processing 11 out of 25\n",
      "Processing 12 out of 25\n"
     ]
    },
    {
     "name": "stderr",
     "output_type": "stream",
     "text": [
      "2019-11-16 15:10:07 [scrapy.core.engine] DEBUG: Crawled (200) <GET https://www.usedsurfboardshawaii.com/product/9ft-2in-downing-round-tail-ref-26651/> (referer: https://www.usedsurfboardshawaii.com/page/16/?post_type=product) ['cached']\n",
      "2019-11-16 15:10:07 [scrapy.core.scraper] DEBUG: Scraped from <200 https://www.usedsurfboardshawaii.com/product/5ft-3in-makani-da-thumbsquash-tail-ref-26680/>\n",
      "{'url': 'https://www.usedsurfboardshawaii.com/product/5ft-3in-makani-da-thumbsquash-tail-ref-26680/', 'title': '5ft 3in Makani (Da thumb)Squash Tail Ref# 26680', 'price': 275.0, 'description': 'Good condition short board with light deck pressures but otherwise minimal signs of previous use.\\xa0 It has wax mats already applied, and inspired by the Tomo Evo shape.', 'type': '5-Fin (Futures)', 'height': 'H 5’3″', 'width': 'W 18 1/2″', 'thickness': 'T 2 5/16″', 'condition': 'Good', 'manufacturer': 'Makani'}\n",
      "2019-11-16 15:10:07 [scrapy.core.engine] DEBUG: Crawled (200) <GET https://www.usedsurfboardshawaii.com/product/6ft-1in-al-merrick-fever-round-tail-ref-26752/> (referer: https://www.usedsurfboardshawaii.com/page/16/?post_type=product) ['cached']\n",
      "2019-11-16 15:10:07 [scrapy.core.scraper] DEBUG: Scraped from <200 https://www.usedsurfboardshawaii.com/product/5ft-8in-pang-round-tail-ref-26682/>\n",
      "{'url': 'https://www.usedsurfboardshawaii.com/product/5ft-8in-pang-round-tail-ref-26682/', 'title': '5ft 8in Pang Round Tail Ref# 26682', 'price': 325.0, 'description': 'Good condition short board with a few light deck pressures but otherwise minimal signs of previous use', 'type': 'Thruster (Futures)', 'height': 'H 5’8″', 'width': 'W 19 3/4″', 'thickness': 'T 2 5/16', 'condition': 'Good', 'manufacturer': 'Pang'}\n"
     ]
    },
    {
     "name": "stdout",
     "output_type": "stream",
     "text": [
      "Processing 13 out of 25\n",
      "Processing 14 out of 25\n"
     ]
    },
    {
     "name": "stderr",
     "output_type": "stream",
     "text": [
      "2019-11-16 15:10:07 [scrapy.core.engine] DEBUG: Crawled (200) <GET https://www.usedsurfboardshawaii.com/product/5ft-10in-trinx-round-tail-ref-26610/> (referer: https://www.usedsurfboardshawaii.com/page/16/?post_type=product) ['cached']\n",
      "2019-11-16 15:10:07 [scrapy.core.scraper] DEBUG: Scraped from <200 https://www.usedsurfboardshawaii.com/product/9ft-2in-downing-round-tail-ref-26651/>\n",
      "{'url': 'https://www.usedsurfboardshawaii.com/product/9ft-2in-downing-round-tail-ref-26651/', 'title': '9ft 2in Downing Round Tail Ref# 26651', 'price': 750.0, 'description': 'Y 2 7/8″', 'type': 'Thruster (Future)', 'height': 'H 9′ 2″', 'width': 'W 22″', 'thickness': None, 'condition': 'Like New', 'manufacturer': 'Downing'}\n",
      "2019-11-16 15:10:07 [scrapy.core.engine] DEBUG: Crawled (200) <GET https://www.usedsurfboardshawaii.com/product/6ft-1in-bill-johnson-swallow-tail-ref-26608/> (referer: https://www.usedsurfboardshawaii.com/page/16/?post_type=product) ['cached']\n",
      "2019-11-16 15:10:08 [scrapy.core.scraper] DEBUG: Scraped from <200 https://www.usedsurfboardshawaii.com/product/6ft-1in-al-merrick-fever-round-tail-ref-26752/>\n",
      "{'url': 'https://www.usedsurfboardshawaii.com/product/6ft-1in-al-merrick-fever-round-tail-ref-26752/', 'title': '6ft 1in Al Merrick (Fever) Round Tail Ref# 26752', 'price': 550.0, 'description': 'Good condition short board with some minor deck pressures but is in otherwise good condition', 'type': 'Thruster (Futures)', 'height': 'H 6’1″', 'width': 'W 18 7/8″', 'thickness': 'T 2 3/8″', 'condition': 'Good', 'manufacturer': 'Al Merrick'}\n"
     ]
    },
    {
     "name": "stdout",
     "output_type": "stream",
     "text": [
      "Processing 15 out of 25\n",
      "Processing 16 out of 25\n"
     ]
    },
    {
     "name": "stderr",
     "output_type": "stream",
     "text": [
      "2019-11-16 15:10:08 [scrapy.core.engine] DEBUG: Crawled (200) <GET https://www.usedsurfboardshawaii.com/product/5ft-8in-dutch-squash-tail-ref-26611/> (referer: https://www.usedsurfboardshawaii.com/page/16/?post_type=product) ['cached']\n",
      "2019-11-16 15:10:08 [scrapy.core.scraper] DEBUG: Scraped from <200 https://www.usedsurfboardshawaii.com/product/5ft-10in-trinx-round-tail-ref-26610/>\n",
      "{'url': 'https://www.usedsurfboardshawaii.com/product/5ft-10in-trinx-round-tail-ref-26610/', 'title': '5ft 10in Trinx Round Tail Ref# 26610', 'price': 235.0, 'description': 'Fair condition short board with some deck pressures and yellowing from age and previous use.', 'type': '5-Fin (Futures)', 'height': 'H 5’10”', 'width': 'W 18.25″', 'thickness': 'T 2.25″', 'condition': 'Fair', 'manufacturer': 'Trinx'}\n",
      "2019-11-16 15:10:08 [scrapy.core.engine] DEBUG: Crawled (200) <GET https://www.usedsurfboardshawaii.com/product/5ft-9in-trinx-round-tail-ref-26609/> (referer: https://www.usedsurfboardshawaii.com/page/16/?post_type=product) ['cached']\n",
      "2019-11-16 15:10:08 [scrapy.core.scraper] DEBUG: Scraped from <200 https://www.usedsurfboardshawaii.com/product/6ft-1in-bill-johnson-swallow-tail-ref-26608/>\n",
      "{'url': 'https://www.usedsurfboardshawaii.com/product/6ft-1in-bill-johnson-swallow-tail-ref-26608/', 'title': '6ft 1in Bill Johnson Swallow Tail Ref# 26608', 'price': 199.0, 'description': 'Good condition short board with minor deck pressures and yellowing from age but otherwise good condition', 'type': 'Thruster (Futures)', 'height': 'H 6’1″', 'width': 'W 18″', 'thickness': 'T 2.06″', 'condition': 'Good', 'manufacturer': 'Bill Johnson'}\n"
     ]
    },
    {
     "name": "stdout",
     "output_type": "stream",
     "text": [
      "Processing 17 out of 25\n",
      "Processing 18 out of 25\n"
     ]
    },
    {
     "name": "stderr",
     "output_type": "stream",
     "text": [
      "2019-11-16 15:10:08 [scrapy.core.engine] DEBUG: Crawled (200) <GET https://www.usedsurfboardshawaii.com/product/5ft-11in-trinx-squash-tail-ref-26609/> (referer: https://www.usedsurfboardshawaii.com/page/16/?post_type=product) ['cached']\n",
      "2019-11-16 15:10:08 [scrapy.core.scraper] DEBUG: Scraped from <200 https://www.usedsurfboardshawaii.com/product/5ft-8in-dutch-squash-tail-ref-26611/>\n",
      "{'url': 'https://www.usedsurfboardshawaii.com/product/5ft-8in-dutch-squash-tail-ref-26611/', 'title': '5ft 8in Dutch Squash Tail Ref# 26611', 'price': 185.0, 'description': 'Good condition shortboard with minor deck pressures but otherwise good condition', 'type': 'Thruster (Future)', 'height': 'H 5’8″', 'width': 'W 19.5″', 'thickness': 'T 2 3/8″', 'condition': 'Good', 'manufacturer': 'Dutch'}\n",
      "2019-11-16 15:10:08 [scrapy.core.engine] DEBUG: Crawled (200) <GET https://www.usedsurfboardshawaii.com/product/5ft-9in-reid-round-tail-ref-26588/> (referer: https://www.usedsurfboardshawaii.com/page/16/?post_type=product) ['cached']\n",
      "2019-11-16 15:10:08 [scrapy.core.scraper] DEBUG: Scraped from <200 https://www.usedsurfboardshawaii.com/product/5ft-9in-trinx-round-tail-ref-26609/>\n",
      "{'url': 'https://www.usedsurfboardshawaii.com/product/5ft-9in-trinx-round-tail-ref-26609/', 'title': '5ft 9in Trinx Round Tail Ref# 26609', 'price': 185.0, 'description': 'Fair condition shortboard with some minor pressures and yellowing from age and previous use.', 'type': '5-Fin (Futures)', 'height': 'H 5’9″', 'width': 'W 18″', 'thickness': 'T 2 1/4″', 'condition': 'Fair', 'manufacturer': 'Trinx'}\n"
     ]
    },
    {
     "name": "stdout",
     "output_type": "stream",
     "text": [
      "Processing 19 out of 25\n",
      "Processing 20 out of 25\n"
     ]
    },
    {
     "name": "stderr",
     "output_type": "stream",
     "text": [
      "2019-11-16 15:10:08 [scrapy.core.engine] DEBUG: Crawled (200) <GET https://www.usedsurfboardshawaii.com/product/6ft-4in-biosphere-squash-tail-ref-26364/> (referer: https://www.usedsurfboardshawaii.com/page/16/?post_type=product) ['cached']\n",
      "2019-11-16 15:10:08 [scrapy.core.scraper] DEBUG: Scraped from <200 https://www.usedsurfboardshawaii.com/product/5ft-11in-trinx-squash-tail-ref-26609/>\n",
      "{'url': 'https://www.usedsurfboardshawaii.com/product/5ft-11in-trinx-squash-tail-ref-26609/', 'title': '5ft 11in Trinx Squash Tail Ref# 26609', 'price': 235.0, 'description': 'Good condition short board with light deck pressures and yellowing from age and use but otherwise good condition', 'type': '5-Fin (Future)', 'height': 'H 5’11”', 'width': 'W 18.63″', 'thickness': 'T 2 1/4″', 'condition': 'Good', 'manufacturer': 'Trinx'}\n",
      "2019-11-16 15:10:08 [scrapy.core.engine] DEBUG: Crawled (200) <GET https://www.usedsurfboardshawaii.com/product/6ft-2in-jc-surftech-squash-tail-ref-26367/> (referer: https://www.usedsurfboardshawaii.com/page/16/?post_type=product) ['cached']\n",
      "2019-11-16 15:10:08 [scrapy.core.scraper] DEBUG: Scraped from <200 https://www.usedsurfboardshawaii.com/product/5ft-9in-reid-round-tail-ref-26588/>\n",
      "{'url': 'https://www.usedsurfboardshawaii.com/product/5ft-9in-reid-round-tail-ref-26588/', 'title': '5ft 9in Reid Round Tail Ref# 26588', 'price': 299.0, 'description': 'Good condition shortboard with light deck pressures but otherwise good condition.', 'type': '5-Fin (Futures)', 'height': 'H 5’9″', 'width': 'W 19 3/8″', 'thickness': 'T 2 3/8″', 'condition': 'Good', 'manufacturer': 'Reid'}\n"
     ]
    },
    {
     "name": "stdout",
     "output_type": "stream",
     "text": [
      "Processing 21 out of 25\n",
      "Processing 22 out of 25\n"
     ]
    },
    {
     "name": "stderr",
     "output_type": "stream",
     "text": [
      "2019-11-16 15:10:09 [scrapy.core.engine] DEBUG: Crawled (200) <GET https://www.usedsurfboardshawaii.com/product/5ft-10in-proctor-pipsqueak-swallow-tail-ref-26550/> (referer: https://www.usedsurfboardshawaii.com/page/16/?post_type=product) ['cached']\n",
      "2019-11-16 15:10:09 [scrapy.core.scraper] DEBUG: Scraped from <200 https://www.usedsurfboardshawaii.com/product/6ft-4in-biosphere-squash-tail-ref-26364/>\n",
      "{'url': 'https://www.usedsurfboardshawaii.com/product/6ft-4in-biosphere-squash-tail-ref-26364/', 'title': '6ft 4in Biosphere Squash Tail Ref# 26364', 'price': 350.0, 'description': 'Good condition short board with minor light deck pressures but otherwise minimal signs of previous use', 'type': 'Thruster (FCS2)', 'height': 'H 6’4″', 'width': 'W 20 1/2″', 'thickness': 'T 2 1/2″', 'condition': 'Good', 'manufacturer': 'BioSphere'}\n",
      "2019-11-16 15:10:09 [scrapy.core.engine] DEBUG: Crawled (200) <GET https://www.usedsurfboardshawaii.com/product/6ft-3in-js-squash-tail-ref-25549/> (referer: https://www.usedsurfboardshawaii.com/page/16/?post_type=product) ['cached']\n",
      "2019-11-16 15:10:09 [scrapy.core.scraper] DEBUG: Scraped from <200 https://www.usedsurfboardshawaii.com/product/6ft-2in-jc-surftech-squash-tail-ref-26367/>\n",
      "{'url': 'https://www.usedsurfboardshawaii.com/product/6ft-2in-jc-surftech-squash-tail-ref-26367/', 'title': '6ft 2in JC Surftech Squash Tail Ref# 26367', 'price': 499.0, 'description': 'Good condition shortboard with minor light deck pressures but in otherwise great condition.\\xa0 Package deal, fins and bag included.', 'type': 'Thruster (FCS)', 'height': 'H 6’2″', 'width': 'W 18.5″', 'thickness': 'T 2.2″', 'condition': 'Good', 'manufacturer': 'JC, Surftech'}\n"
     ]
    },
    {
     "name": "stdout",
     "output_type": "stream",
     "text": [
      "Processing 23 out of 25\n",
      "Processing 24 out of 25\n"
     ]
    },
    {
     "name": "stderr",
     "output_type": "stream",
     "text": [
      "2019-11-16 15:10:09 [scrapy.core.engine] DEBUG: Crawled (200) <GET https://www.usedsurfboardshawaii.com/product/8ft-daline-travel-bag-ref-26460/> (referer: https://www.usedsurfboardshawaii.com/page/16/?post_type=product) ['cached']\n",
      "2019-11-16 15:10:09 [scrapy.core.scraper] DEBUG: Scraped from <200 https://www.usedsurfboardshawaii.com/product/5ft-10in-proctor-pipsqueak-swallow-tail-ref-26550/>\n",
      "{'url': 'https://www.usedsurfboardshawaii.com/product/5ft-10in-proctor-pipsqueak-swallow-tail-ref-26550/', 'title': '5ft 10in Proctor (PipSqueak) Swallow Tail Ref# 26550', 'price': 399.0, 'description': 'Good condition short board with minor light deck pressures but otherwise minimal signs of previous use.', 'type': '5-Fin (FCS)', 'height': 'H 5’10”', 'width': 'W 19 3/8″', 'thickness': 'T 2 3/8″', 'condition': 'Good', 'manufacturer': 'Proctor'}\n",
      "2019-11-16 15:10:09 [scrapy.core.engine] DEBUG: Crawled (200) <GET https://www.usedsurfboardshawaii.com/product/7ft-dakine-travel-bag-ref-26459/> (referer: https://www.usedsurfboardshawaii.com/page/16/?post_type=product) ['cached']\n",
      "2019-11-16 15:10:09 [scrapy.core.scraper] DEBUG: Scraped from <200 https://www.usedsurfboardshawaii.com/product/6ft-3in-js-squash-tail-ref-25549/>\n",
      "{'url': 'https://www.usedsurfboardshawaii.com/product/6ft-3in-js-squash-tail-ref-25549/', 'title': '6ft 3in JS Squash Tail Ref# 25549', 'price': 225.0, 'description': 'Fair condition short board with minor dings and pressures as shown in photos.\\xa0 The fins are currently stuck in the board but cat be removed at customers request.', 'type': 'Thruster (FCS) fins inc', 'height': 'H 6’3″', 'width': 'W 18 1/2″', 'thickness': 'T 2 5/16″', 'condition': 'Fair', 'manufacturer': 'JS'}\n",
      "2019-11-16 15:10:09 [scrapy.core.engine] DEBUG: Crawled (200) <GET https://www.usedsurfboardshawaii.com/page/17/?post_type=product> (referer: https://www.usedsurfboardshawaii.com/page/16/?post_type=product) ['cached']\n"
     ]
    },
    {
     "name": "stdout",
     "output_type": "stream",
     "text": [
      "Processing 25 out of 25\n",
      "\n",
      "https://www.usedsurfboardshawaii.com/page/17/?post_type=product\n"
     ]
    },
    {
     "name": "stderr",
     "output_type": "stream",
     "text": [
      "2019-11-16 15:10:09 [scrapy.core.engine] DEBUG: Crawled (200) <GET https://www.usedsurfboardshawaii.com/product/5ft-6in-al-merrick-flyer-swallow-tail-ref-26502/> (referer: https://www.usedsurfboardshawaii.com/page/17/?post_type=product) ['cached']\n"
     ]
    },
    {
     "name": "stdout",
     "output_type": "stream",
     "text": [
      "Total:  25\n",
      "Processing 1 out of 25\n",
      "Processing 2 out of 25\n"
     ]
    },
    {
     "name": "stderr",
     "output_type": "stream",
     "text": [
      "2019-11-16 15:10:09 [scrapy.core.engine] DEBUG: Crawled (200) <GET https://www.usedsurfboardshawaii.com/product/6ft-5in-al-merrick-flyer-swallow-tail-ref-26503/> (referer: https://www.usedsurfboardshawaii.com/page/17/?post_type=product) ['cached']\n",
      "2019-11-16 15:10:10 [scrapy.core.engine] DEBUG: Crawled (200) <GET https://www.usedsurfboardshawaii.com/product/6ft-8in-trevelyn-round-tail-ref-26520/> (referer: https://www.usedsurfboardshawaii.com/page/17/?post_type=product) ['cached']\n",
      "2019-11-16 15:10:10 [scrapy.core.scraper] DEBUG: Scraped from <200 https://www.usedsurfboardshawaii.com/product/5ft-6in-al-merrick-flyer-swallow-tail-ref-26502/>\n",
      "{'url': 'https://www.usedsurfboardshawaii.com/product/5ft-6in-al-merrick-flyer-swallow-tail-ref-26502/', 'title': '5ft 6in Al Merrick (Flyer) Swallow Tail Ref# 26502', 'price': 270.0, 'description': 'Fair condition short board with some minor dings under tape, light pressures and some yellowing from age and previous use', 'type': 'Thruster (FCS)', 'height': 'H 5’6″', 'width': 'W 17 7/8″', 'thickness': 'T 2″', 'condition': 'Good', 'manufacturer': 'Al Merrick'}\n"
     ]
    },
    {
     "name": "stdout",
     "output_type": "stream",
     "text": [
      "Processing 3 out of 25\n",
      "Processing 4 out of 25\n"
     ]
    },
    {
     "name": "stderr",
     "output_type": "stream",
     "text": [
      "2019-11-16 15:10:10 [scrapy.core.engine] DEBUG: Crawled (200) <GET https://www.usedsurfboardshawaii.com/product/5ft-6in-hayden-shapes-shred-sled-round-tail-ref-26501/> (referer: https://www.usedsurfboardshawaii.com/page/17/?post_type=product) ['cached']\n",
      "2019-11-16 15:10:10 [scrapy.core.scraper] DEBUG: Scraped from <200 https://www.usedsurfboardshawaii.com/product/6ft-5in-al-merrick-flyer-swallow-tail-ref-26503/>\n",
      "{'url': 'https://www.usedsurfboardshawaii.com/product/6ft-5in-al-merrick-flyer-swallow-tail-ref-26503/', 'title': '6ft 5in Al Merrick (Flyer) Swallow Tail Ref# 26503', 'price': 325.0, 'description': 'Good condition short board with light deck pressures but otherwise good condition', 'type': 'Thruster (FCS)', 'height': 'H 6’5″', 'width': 'W 19 1/4″', 'thickness': 'T 2 5/8″', 'condition': 'Good', 'manufacturer': 'Al Merrick'}\n",
      "2019-11-16 15:10:10 [scrapy.core.engine] DEBUG: Crawled (200) <GET https://www.usedsurfboardshawaii.com/product/6ft-stewart-swallow-tail-ref-26454/> (referer: https://www.usedsurfboardshawaii.com/page/17/?post_type=product) ['cached']\n",
      "2019-11-16 15:10:10 [scrapy.core.scraper] DEBUG: Scraped from <200 https://www.usedsurfboardshawaii.com/product/6ft-8in-trevelyn-round-tail-ref-26520/>\n",
      "{'url': 'https://www.usedsurfboardshawaii.com/product/6ft-8in-trevelyn-round-tail-ref-26520/', 'title': '6ft 8in Trevelyn Round Tail Ref# 26520', 'price': 299.0, 'description': 'Good condition big guy shortboard with minor light deck pressures and yellowing from age but is in otherwise good condition.\\xa0 Great board for a bigger surfer or someone who likes more volume', 'type': '5-fin (Future)', 'height': 'H 6’8″', 'width': 'W 22 1/2″', 'thickness': 'T 2 3/4″', 'condition': 'Good', 'manufacturer': 'Trevelyn'}\n"
     ]
    },
    {
     "name": "stdout",
     "output_type": "stream",
     "text": [
      "Processing 5 out of 25\n",
      "Processing 6 out of 25\n"
     ]
    },
    {
     "name": "stderr",
     "output_type": "stream",
     "text": [
      "2019-11-16 15:10:10 [scrapy.core.engine] DEBUG: Crawled (200) <GET https://www.usedsurfboardshawaii.com/product/6ft-2in-tamba-round-tail-ref-26477/> (referer: https://www.usedsurfboardshawaii.com/page/17/?post_type=product) ['cached']\n",
      "2019-11-16 15:10:10 [scrapy.core.scraper] DEBUG: Scraped from <200 https://www.usedsurfboardshawaii.com/product/5ft-6in-hayden-shapes-shred-sled-round-tail-ref-26501/>\n",
      "{'url': 'https://www.usedsurfboardshawaii.com/product/5ft-6in-hayden-shapes-shred-sled-round-tail-ref-26501/', 'title': '5ft 6in Hayden Shapes (Shred Sled) Round Tail Ref# 26501', 'price': 199.0, 'description': 'Fair condition short board with some light pressures.\\xa0 there is a small rail ding and a bad nose job but all of those are easy fixes and for this price definitely worth it.', 'type': '5-Fin (Future)', 'height': 'H 5’6″', 'width': 'W 18 3/4″', 'thickness': 'T 2 1/8″', 'condition': 'Fair', 'manufacturer': 'Hayden Shapes'}\n",
      "2019-11-16 15:10:10 [scrapy.core.engine] DEBUG: Crawled (200) <GET https://www.usedsurfboardshawaii.com/product/6ft-3in-teru-swallow-tail-ref-26479/> (referer: https://www.usedsurfboardshawaii.com/page/17/?post_type=product) ['cached']\n",
      "2019-11-16 15:10:10 [scrapy.core.scraper] DEBUG: Scraped from <200 https://www.usedsurfboardshawaii.com/product/6ft-stewart-swallow-tail-ref-26454/>\n",
      "{'url': 'https://www.usedsurfboardshawaii.com/product/6ft-stewart-swallow-tail-ref-26454/', 'title': '6ft Stewart Swallow Tail Ref# 26454', 'price': 385.0, 'description': 'A high performance shortboard with minimal pressure denting.', 'type': '5-Fin (Future)', 'height': 'H 6′', 'width': 'W 19 5/8″', 'thickness': 'T 2 5/16″', 'condition': 'Good', 'manufacturer': 'Stewart'}\n"
     ]
    },
    {
     "name": "stdout",
     "output_type": "stream",
     "text": [
      "Processing 7 out of 25\n",
      "Processing 8 out of 25\n"
     ]
    },
    {
     "name": "stderr",
     "output_type": "stream",
     "text": [
      "2019-11-16 15:10:10 [scrapy.core.engine] DEBUG: Crawled (200) <GET https://www.usedsurfboardshawaii.com/product/6ft-juniel-squash-tail-ref-26468/> (referer: https://www.usedsurfboardshawaii.com/page/17/?post_type=product) ['cached']\n",
      "2019-11-16 15:10:10 [scrapy.core.scraper] DEBUG: Scraped from <200 https://www.usedsurfboardshawaii.com/product/6ft-2in-tamba-round-tail-ref-26477/>\n",
      "{'url': 'https://www.usedsurfboardshawaii.com/product/6ft-2in-tamba-round-tail-ref-26477/', 'title': '6ft 2in Tamba Round Tail Ref# 26477', 'price': 275.0, 'description': 'Good performance shortboard with minimal pressure denting.', 'type': 'Thruster (fuTURE)', 'height': 'H 6′ 2″', 'width': 'W 19.1″', 'thickness': 'T 2.4″', 'condition': 'Good', 'manufacturer': 'Tamba'}\n",
      "2019-11-16 15:10:10 [scrapy.core.engine] DEBUG: Crawled (200) <GET https://www.usedsurfboardshawaii.com/product/5ft-8in-mccoy-squash-tail-ref-26496/> (referer: https://www.usedsurfboardshawaii.com/page/17/?post_type=product) ['cached']\n",
      "2019-11-16 15:10:10 [scrapy.core.scraper] DEBUG: Scraped from <200 https://www.usedsurfboardshawaii.com/product/6ft-3in-teru-swallow-tail-ref-26479/>\n",
      "{'url': 'https://www.usedsurfboardshawaii.com/product/6ft-3in-teru-swallow-tail-ref-26479/', 'title': '6ft 3in Teru Swallow Tail Ref# 26479', 'price': 225.0, 'description': 'Good condition short board with minor light pressures and minor yellowing from age but otherwise minimal signs of previous use', 'type': '5-Fin (FCS)', 'height': 'H 6’3″', 'width': 'W 18.75″', 'thickness': 'T 2.48″', 'condition': 'Good', 'manufacturer': 'Teru'}\n"
     ]
    },
    {
     "name": "stdout",
     "output_type": "stream",
     "text": [
      "Processing 9 out of 25\n",
      "Processing 10 out of 25\n"
     ]
    },
    {
     "name": "stderr",
     "output_type": "stream",
     "text": [
      "2019-11-16 15:10:11 [scrapy.core.engine] DEBUG: Crawled (200) <GET https://www.usedsurfboardshawaii.com/product/10ft-2in-owl-chapman-pin-tail-ref-26458/> (referer: https://www.usedsurfboardshawaii.com/page/17/?post_type=product) ['cached']\n",
      "2019-11-16 15:10:11 [scrapy.core.scraper] DEBUG: Scraped from <200 https://www.usedsurfboardshawaii.com/product/6ft-juniel-squash-tail-ref-26468/>\n",
      "{'url': 'https://www.usedsurfboardshawaii.com/product/6ft-juniel-squash-tail-ref-26468/', 'title': '6ft Juniel Squash Tail Ref# 26468', 'price': 299.0, 'description': 'Fair condition short board with pressures on the body and a few dings that need repair (as shown in photos)', 'type': 'Thruster (FCS)', 'height': 'H 6’0″', 'width': 'W 19 1/2″', 'thickness': 'T 2 1/2″', 'condition': 'Fair', 'manufacturer': 'JS'}\n",
      "2019-11-16 15:10:11 [scrapy.core.engine] DEBUG: Crawled (200) <GET https://www.usedsurfboardshawaii.com/product/510-minami-xd-squash-tail-ref-26401/> (referer: https://www.usedsurfboardshawaii.com/page/17/?post_type=product) ['cached']\n",
      "2019-11-16 15:10:11 [scrapy.core.scraper] DEBUG: Scraped from <200 https://www.usedsurfboardshawaii.com/product/5ft-8in-mccoy-squash-tail-ref-26496/>\n",
      "{'url': 'https://www.usedsurfboardshawaii.com/product/5ft-8in-mccoy-squash-tail-ref-26496/', 'title': '5ft 8in McCoy Squash Tail Ref# 26496', 'price': 525.0, 'description': 'Good condition short board with minor light deck pressures but otherwise minimal signs of previous use. A great shortboard of the upcoming summer season with a high volume in a short package.', 'type': 'Five fin (Futures)', 'height': 'H 5’8″', 'width': 'W 19 1/2″', 'thickness': 'T 2 3/4″', 'condition': 'Good', 'manufacturer': 'McCoy'}\n"
     ]
    },
    {
     "name": "stdout",
     "output_type": "stream",
     "text": [
      "Processing 11 out of 25\n",
      "Processing 12 out of 25\n"
     ]
    },
    {
     "name": "stderr",
     "output_type": "stream",
     "text": [
      "2019-11-16 15:10:11 [scrapy.core.engine] DEBUG: Crawled (200) <GET https://www.usedsurfboardshawaii.com/product/5ft-11in-kevin-oliander-round-tail-ref-26356/> (referer: https://www.usedsurfboardshawaii.com/page/17/?post_type=product) ['cached']\n",
      "2019-11-16 15:10:11 [scrapy.core.scraper] DEBUG: Scraped from <200 https://www.usedsurfboardshawaii.com/product/10ft-2in-owl-chapman-pin-tail-ref-26458/>\n",
      "{'url': 'https://www.usedsurfboardshawaii.com/product/10ft-2in-owl-chapman-pin-tail-ref-26458/', 'title': '10ft 2in Owl Chapman Pin Tail Ref# 26458', 'price': 1200.0, 'description': 'Good condition big wave gun with very minimal signs of previous use', 'type': '2+1 (FCS)', 'height': 'H 10’2″', 'width': 'W 24″', 'thickness': 'T 3 5/8″', 'condition': 'Good', 'manufacturer': 'Owl Chapman'}\n",
      "2019-11-16 15:10:11 [scrapy.core.engine] DEBUG: Crawled (200) <GET https://www.usedsurfboardshawaii.com/product/5ft-10in-vercelli-swallow-tail-ref-26434/> (referer: https://www.usedsurfboardshawaii.com/page/17/?post_type=product) ['cached']\n",
      "2019-11-16 15:10:11 [scrapy.core.scraper] DEBUG: Scraped from <200 https://www.usedsurfboardshawaii.com/product/510-minami-xd-squash-tail-ref-26401/>\n",
      "{'url': 'https://www.usedsurfboardshawaii.com/product/510-minami-xd-squash-tail-ref-26401/', 'title': '5’10” Minami (XD) Squash Tail Ref# 26401', 'price': 199.0, 'description': 'Good condition shortboard with minor light pressures and some light signs of aging but is in otherwise great condition.', 'type': 'Thruster (FCS)', 'height': 'H 5’10”', 'width': 'W 18 3/8″', 'thickness': 'T 2 5/16″', 'condition': 'Good', 'manufacturer': 'Minami'}\n"
     ]
    },
    {
     "name": "stdout",
     "output_type": "stream",
     "text": [
      "Processing 13 out of 25\n",
      "Processing 14 out of 25\n"
     ]
    },
    {
     "name": "stderr",
     "output_type": "stream",
     "text": [
      "2019-11-16 15:10:11 [scrapy.core.engine] DEBUG: Crawled (200) <GET https://www.usedsurfboardshawaii.com/product/6ft-js-round-tail-ref-26354/> (referer: https://www.usedsurfboardshawaii.com/page/17/?post_type=product) ['cached']\n",
      "2019-11-16 15:10:11 [scrapy.core.scraper] DEBUG: Scraped from <200 https://www.usedsurfboardshawaii.com/product/5ft-11in-kevin-oliander-round-tail-ref-26356/>\n",
      "{'url': 'https://www.usedsurfboardshawaii.com/product/5ft-11in-kevin-oliander-round-tail-ref-26356/', 'title': '5ft 11in Kevin Oliander Round Tail Ref# 26356', 'price': 250.0, 'description': 'Fair condition short board with small light pressure dents all over the deck of the board, but has minimal other signs of previous use.\\xa0 Under all the pressures is a sturdy good short board.', 'type': '5-Fin (FCS)', 'height': 'H 5’11”', 'width': 'W 19″', 'thickness': 'T 2 1/2″', 'condition': 'Fair', 'manufacturer': 'Kevin Oliander'}\n",
      "2019-11-16 15:10:11 [scrapy.core.engine] DEBUG: Crawled (200) <GET https://www.usedsurfboardshawaii.com/product/7ft-tokoro-round-tail-ref-26377/> (referer: https://www.usedsurfboardshawaii.com/page/17/?post_type=product) ['cached']\n",
      "2019-11-16 15:10:11 [scrapy.core.scraper] DEBUG: Scraped from <200 https://www.usedsurfboardshawaii.com/product/5ft-10in-vercelli-swallow-tail-ref-26434/>\n",
      "{'url': 'https://www.usedsurfboardshawaii.com/product/5ft-10in-vercelli-swallow-tail-ref-26434/', 'title': '5ft 10in Vercelli Swallow Tail Ref# 26434', 'price': 425.0, 'description': 'Good condition short board with minor light deck pressures but otherwise minimal signs of previous use', 'type': 'Thruster (Futures)', 'height': 'H 5’10”', 'width': 'W 20 1/2″', 'thickness': 'T 2 1/8″', 'condition': 'Good', 'manufacturer': 'Vercelli'}\n"
     ]
    },
    {
     "name": "stdout",
     "output_type": "stream",
     "text": [
      "Processing 15 out of 25\n",
      "Processing 16 out of 25\n"
     ]
    },
    {
     "name": "stderr",
     "output_type": "stream",
     "text": [
      "2019-11-16 15:10:11 [scrapy.core.engine] DEBUG: Crawled (200) <GET https://www.usedsurfboardshawaii.com/product/6ft-3in-raynor-squash-tail-ref-26323/> (referer: https://www.usedsurfboardshawaii.com/page/17/?post_type=product) ['cached']\n",
      "2019-11-16 15:10:12 [scrapy.core.scraper] DEBUG: Scraped from <200 https://www.usedsurfboardshawaii.com/product/6ft-js-round-tail-ref-26354/>\n",
      "{'url': 'https://www.usedsurfboardshawaii.com/product/6ft-js-round-tail-ref-26354/', 'title': '6ft JS Round Tail Ref# 26354', 'price': 475.0, 'description': 'Good condition short board with minor deck pressures but minimal other signs of previous use', 'type': 'Thruster (Future)', 'height': 'H 6’0″', 'width': 'W 18 5/8″', 'thickness': 'T 2 5/16″', 'condition': 'Good', 'manufacturer': 'JS'}\n",
      "2019-11-16 15:10:12 [scrapy.core.engine] DEBUG: Crawled (200) <GET https://www.usedsurfboardshawaii.com/product/5ft-8in-js-swallow-tail-ref-26353/> (referer: https://www.usedsurfboardshawaii.com/page/17/?post_type=product) ['cached']\n",
      "2019-11-16 15:10:12 [scrapy.core.scraper] DEBUG: Scraped from <200 https://www.usedsurfboardshawaii.com/product/7ft-tokoro-round-tail-ref-26377/>\n",
      "{'url': 'https://www.usedsurfboardshawaii.com/product/7ft-tokoro-round-tail-ref-26377/', 'title': '7ft Tokoro Round Tail Ref# 26377', 'price': 525.0, 'description': 'Good condition shortboard with minimal signs of previous use', 'type': '5 Fin (FCS2)', 'height': 'H 7’0″', 'width': 'W 19 1/8″', 'thickness': 'T 2 1/2″', 'condition': 'Good', 'manufacturer': 'Tokoro'}\n"
     ]
    },
    {
     "name": "stdout",
     "output_type": "stream",
     "text": [
      "Processing 17 out of 25\n",
      "Processing 18 out of 25\n"
     ]
    },
    {
     "name": "stderr",
     "output_type": "stream",
     "text": [
      "2019-11-16 15:10:12 [scrapy.core.engine] DEBUG: Crawled (200) <GET https://www.usedsurfboardshawaii.com/product/6ft-chili-round-tail-ref-26280/> (referer: https://www.usedsurfboardshawaii.com/page/17/?post_type=product) ['cached']\n",
      "2019-11-16 15:10:12 [scrapy.core.scraper] DEBUG: Scraped from <200 https://www.usedsurfboardshawaii.com/product/6ft-3in-raynor-squash-tail-ref-26323/>\n",
      "{'url': 'https://www.usedsurfboardshawaii.com/product/6ft-3in-raynor-squash-tail-ref-26323/', 'title': '6ft 3in Raynor Squash Tail Ref# 26323', 'price': 350.0, 'description': None, 'type': 'Thruster (Futures)', 'height': 'H 6’3″', 'width': 'W 19.5″', 'thickness': 'T 2 5/8″\\nGood condition shortboard except for a small ding photoed above and some light pressure dents.', 'condition': 'Good', 'manufacturer': 'Raynor'}\n",
      "2019-11-16 15:10:12 [scrapy.core.engine] DEBUG: Crawled (200) <GET https://www.usedsurfboardshawaii.com/product/5ft-9in-minami-squash-tail-ref-26251/> (referer: https://www.usedsurfboardshawaii.com/page/17/?post_type=product) ['cached']\n",
      "2019-11-16 15:10:12 [scrapy.core.scraper] DEBUG: Scraped from <200 https://www.usedsurfboardshawaii.com/product/5ft-8in-js-swallow-tail-ref-26353/>\n",
      "{'url': 'https://www.usedsurfboardshawaii.com/product/5ft-8in-js-swallow-tail-ref-26353/', 'title': '5ft 8in JS Swallow Tail Ref# 26353', 'price': 399.0, 'description': 'Good condition short board with some minor light pressures but is in otherwise great condition', 'type': 'Thruster (Futures)', 'height': 'H 5’8″', 'width': 'W 19 1/4″', 'thickness': 'T 2 3/8″', 'condition': 'Good', 'manufacturer': 'JS'}\n"
     ]
    },
    {
     "name": "stdout",
     "output_type": "stream",
     "text": [
      "Processing 19 out of 25\n",
      "Processing 20 out of 25\n"
     ]
    },
    {
     "name": "stderr",
     "output_type": "stream",
     "text": [
      "2019-11-16 15:10:12 [scrapy.core.engine] DEBUG: Crawled (200) <GET https://www.usedsurfboardshawaii.com/product/6ft-hayden-shapes-love-buzz-future-flex-squash-tail-ref-26322/> (referer: https://www.usedsurfboardshawaii.com/page/17/?post_type=product) ['cached']\n",
      "2019-11-16 15:10:12 [scrapy.core.scraper] DEBUG: Scraped from <200 https://www.usedsurfboardshawaii.com/product/6ft-chili-round-tail-ref-26280/>\n",
      "{'url': 'https://www.usedsurfboardshawaii.com/product/6ft-chili-round-tail-ref-26280/', 'title': '6ft Chili Round Tail Ref# 26280', 'price': 415.0, 'description': 'Good condition shortboard with a few open dings on the bottom of the board that would need to be repaired to make this board water tight (shown in photos) and a few light pressures on the deck but is otherwise a great board', 'type': '5-Fin (FCS2)', 'height': 'H 6’0″', 'width': 'W 19″', 'thickness': 'T 2 3/8″', 'condition': 'Good', 'manufacturer': 'Chilli'}\n",
      "2019-11-16 15:10:12 [scrapy.core.engine] DEBUG: Crawled (200) <GET https://www.usedsurfboardshawaii.com/product/5ft-11in-lost-scorcher-squash-tail-ref-26262/> (referer: https://www.usedsurfboardshawaii.com/page/17/?post_type=product) ['cached']\n",
      "2019-11-16 15:10:12 [scrapy.core.scraper] DEBUG: Scraped from <200 https://www.usedsurfboardshawaii.com/product/5ft-9in-minami-squash-tail-ref-26251/>\n",
      "{'url': 'https://www.usedsurfboardshawaii.com/product/5ft-9in-minami-squash-tail-ref-26251/', 'title': '5ft 9in Minami Squash Tail Ref# 26251', 'price': 199.0, 'description': 'Fair condition shortboard with light pressures on the body of the board but in otherwise good condition.', 'type': 'Thruster (FCS)', 'height': 'H 5’9″', 'width': 'W 18 3/4″', 'thickness': 'T 2 5/16″', 'condition': 'Fair', 'manufacturer': 'Minami'}\n"
     ]
    },
    {
     "name": "stdout",
     "output_type": "stream",
     "text": [
      "Processing 21 out of 25\n",
      "Processing 22 out of 25\n"
     ]
    },
    {
     "name": "stderr",
     "output_type": "stream",
     "text": [
      "2019-11-16 15:10:12 [scrapy.core.engine] DEBUG: Crawled (200) <GET https://www.usedsurfboardshawaii.com/product/5ft-11in-dmz-squash-tail-ref-26199/> (referer: https://www.usedsurfboardshawaii.com/page/17/?post_type=product) ['cached']\n",
      "2019-11-16 15:10:12 [scrapy.core.scraper] DEBUG: Scraped from <200 https://www.usedsurfboardshawaii.com/product/6ft-hayden-shapes-love-buzz-future-flex-squash-tail-ref-26322/>\n",
      "{'url': 'https://www.usedsurfboardshawaii.com/product/6ft-hayden-shapes-love-buzz-future-flex-squash-tail-ref-26322/', 'title': '6ft Hayden Shapes (Love Buzz / Future Flex) Squash Tail Ref# 26322', 'price': 475.0, 'description': 'Good condition short board with light deck pressures but in otherwise good condition.', 'type': '5-Fin (Futures)', 'height': 'H 6’0″', 'width': 'W\\xa0 19 7/8″', 'thickness': 'T 2 5/8″', 'condition': 'Good', 'manufacturer': 'Hayden Shapes'}\n",
      "2019-11-16 15:10:13 [scrapy.core.engine] DEBUG: Crawled (200) <GET https://www.usedsurfboardshawaii.com/product/6ft-10in-rawson-pin-tail-ref-26128/> (referer: https://www.usedsurfboardshawaii.com/page/17/?post_type=product) ['cached']\n",
      "2019-11-16 15:10:13 [scrapy.core.scraper] DEBUG: Scraped from <200 https://www.usedsurfboardshawaii.com/product/5ft-11in-lost-scorcher-squash-tail-ref-26262/>\n",
      "{'url': 'https://www.usedsurfboardshawaii.com/product/5ft-11in-lost-scorcher-squash-tail-ref-26262/', 'title': '5ft 11in Lost (Scorcher) Squash Tail Ref# 26262', 'price': 175.0, 'description': 'Fair condition shortboard with a fair amount of body dents but water tight and still full of life!', 'type': 'Thruster (Futures)', 'height': 'H 5’11”', 'width': 'W 19″', 'thickness': 'T 2.32″', 'condition': 'Fair', 'manufacturer': 'Lost'}\n"
     ]
    },
    {
     "name": "stdout",
     "output_type": "stream",
     "text": [
      "Processing 23 out of 25\n",
      "Processing 24 out of 25\n"
     ]
    },
    {
     "name": "stderr",
     "output_type": "stream",
     "text": [
      "2019-11-16 15:10:13 [scrapy.core.engine] DEBUG: Crawled (200) <GET https://www.usedsurfboardshawaii.com/product/6ft-2in-eric-arakawa-squash-tail-ref-26133/> (referer: https://www.usedsurfboardshawaii.com/page/17/?post_type=product) ['cached']\n",
      "2019-11-16 15:10:13 [scrapy.core.scraper] DEBUG: Scraped from <200 https://www.usedsurfboardshawaii.com/product/5ft-11in-dmz-squash-tail-ref-26199/>\n",
      "{'url': 'https://www.usedsurfboardshawaii.com/product/5ft-11in-dmz-squash-tail-ref-26199/', 'title': '5ft 11in DMZ Squash Tail Ref# 26199', 'price': 400.0, 'description': 'Good performance shortboard with only some minor pressure denting.', 'type': 'Thruster (Future)', 'height': 'H 5′ 11″', 'width': 'W 19 3/4″', 'thickness': 'T 2 1/2″', 'condition': 'Good', 'manufacturer': 'DMZ'}\n",
      "2019-11-16 15:10:13 [scrapy.core.engine] DEBUG: Crawled (200) <GET https://www.usedsurfboardshawaii.com/product/6ft-6in-eric-arakawa-round-tail-ref-26131/> (referer: https://www.usedsurfboardshawaii.com/page/17/?post_type=product) ['cached']\n",
      "2019-11-16 15:10:13 [scrapy.core.scraper] DEBUG: Scraped from <200 https://www.usedsurfboardshawaii.com/product/6ft-10in-rawson-pin-tail-ref-26128/>\n",
      "{'url': 'https://www.usedsurfboardshawaii.com/product/6ft-10in-rawson-pin-tail-ref-26128/', 'title': '6ft 10in Rawson Pin Tail Ref# 26128', 'price': 200.0, 'description': 'Fair condition semi-gun with so deck pressures and signs of age like yellowing but otherwise in good condition', 'type': 'Thruster (FCS)', 'height': 'H 6’10”', 'width': 'W 17 1/2″', 'thickness': 'T 2 1/2″', 'condition': 'Fair', 'manufacturer': 'Rawson'}\n",
      "2019-11-16 15:10:13 [scrapy.core.engine] DEBUG: Crawled (200) <GET https://www.usedsurfboardshawaii.com/page/18/?post_type=product> (referer: https://www.usedsurfboardshawaii.com/page/17/?post_type=product) ['cached']\n",
      "2019-11-16 15:10:13 [scrapy.core.scraper] DEBUG: Scraped from <200 https://www.usedsurfboardshawaii.com/product/6ft-2in-eric-arakawa-squash-tail-ref-26133/>\n",
      "{'url': 'https://www.usedsurfboardshawaii.com/product/6ft-2in-eric-arakawa-squash-tail-ref-26133/', 'title': '6ft 2in Eric Arakawa Squash Tail Ref# 26133', 'price': 225.0, 'description': 'Fair condition short board with deck pressures and a ding that has been previously repaired (as seen in photos)', 'type': 'Thruster (FCS)', 'height': 'H 6’2″', 'width': 'W 19″', 'thickness': 'T 2.63', 'condition': 'Fair', 'manufacturer': 'Eric Arakawa'}\n"
     ]
    },
    {
     "name": "stdout",
     "output_type": "stream",
     "text": [
      "Processing 25 out of 25\n",
      "\n",
      "https://www.usedsurfboardshawaii.com/page/18/?post_type=product\n"
     ]
    },
    {
     "name": "stderr",
     "output_type": "stream",
     "text": [
      "2019-11-16 15:10:13 [scrapy.core.scraper] DEBUG: Scraped from <200 https://www.usedsurfboardshawaii.com/product/6ft-6in-eric-arakawa-round-tail-ref-26131/>\n",
      "{'url': 'https://www.usedsurfboardshawaii.com/product/6ft-6in-eric-arakawa-round-tail-ref-26131/', 'title': '6ft 6in Eric Arakawa Round Tail Ref# 26131', 'price': 199.0, 'description': 'Fair condition short board with deck pressures and a few minor dings that had been repaired', 'type': 'Thruster (FCS)', 'height': 'H 6’6″', 'width': 'W\\xa0 19″', 'thickness': 'T 2.63″', 'condition': 'Fair', 'manufacturer': 'Eric Arakawa'}\n",
      "2019-11-16 15:10:13 [scrapy.core.engine] DEBUG: Crawled (200) <GET https://www.usedsurfboardshawaii.com/product/5ft-9in-bret-round-tail-ref-26210/> (referer: https://www.usedsurfboardshawaii.com/page/18/?post_type=product) ['cached']\n"
     ]
    },
    {
     "name": "stdout",
     "output_type": "stream",
     "text": [
      "Total:  25\n",
      "Processing 1 out of 25\n",
      "Processing 2 out of 25\n"
     ]
    },
    {
     "name": "stderr",
     "output_type": "stream",
     "text": [
      "2019-11-16 15:10:13 [scrapy.core.engine] DEBUG: Crawled (200) <GET https://www.usedsurfboardshawaii.com/product/5ft-11in-brett-round-tail-ref-26211/> (referer: https://www.usedsurfboardshawaii.com/page/18/?post_type=product) ['cached']\n",
      "2019-11-16 15:10:13 [scrapy.core.engine] DEBUG: Crawled (200) <GET https://www.usedsurfboardshawaii.com/product/10ft-j-k-surfboards-squash-tail-ref-25748/> (referer: https://www.usedsurfboardshawaii.com/page/18/?post_type=product) ['cached']\n",
      "2019-11-16 15:10:13 [scrapy.core.scraper] DEBUG: Scraped from <200 https://www.usedsurfboardshawaii.com/product/5ft-9in-bret-round-tail-ref-26210/>\n",
      "{'url': 'https://www.usedsurfboardshawaii.com/product/5ft-9in-bret-round-tail-ref-26210/', 'title': '5ft 9in Bret Round Tail Ref# 26210', 'price': 250.0, 'description': 'Fair condition short board with deck pressures and a gash on the underside of the board that would need to be repaired before it would be water tight.', 'type': 'Thruster (Futures)', 'height': 'H 5’9″', 'width': 'W 19.5″', 'thickness': 'T 2.75″', 'condition': 'Fair', 'manufacturer': 'Bret, Brett'}\n"
     ]
    },
    {
     "name": "stdout",
     "output_type": "stream",
     "text": [
      "Processing 3 out of 25\n",
      "Processing 4 out of 25\n"
     ]
    },
    {
     "name": "stderr",
     "output_type": "stream",
     "text": [
      "2019-11-16 15:10:14 [scrapy.core.engine] DEBUG: Crawled (200) <GET https://www.usedsurfboardshawaii.com/product/9ft-6in-torq-round-pin-tail-ref-24440/> (referer: https://www.usedsurfboardshawaii.com/page/18/?post_type=product) ['cached']\n",
      "2019-11-16 15:10:14 [scrapy.core.scraper] DEBUG: Scraped from <200 https://www.usedsurfboardshawaii.com/product/5ft-11in-brett-round-tail-ref-26211/>\n",
      "{'url': 'https://www.usedsurfboardshawaii.com/product/5ft-11in-brett-round-tail-ref-26211/', 'title': '5ft 11in Bret Round Tail Ref# 26211', 'price': 415.0, 'description': 'Fair condition short board with minor pressures and a minor ding (as photoed)', 'type': 'Thruster (Future)', 'height': 'H 5’11”', 'width': 'W 19.5″', 'thickness': 'T 2.75″', 'condition': 'Fair', 'manufacturer': 'Brett'}\n",
      "2019-11-16 15:10:14 [scrapy.core.engine] DEBUG: Crawled (200) <GET https://www.usedsurfboardshawaii.com/product/6ft-5in-brice-round-pin-tail-ref-26121/> (referer: https://www.usedsurfboardshawaii.com/page/18/?post_type=product) ['cached']\n",
      "2019-11-16 15:10:14 [scrapy.core.scraper] DEBUG: Scraped from <200 https://www.usedsurfboardshawaii.com/product/10ft-j-k-surfboards-squash-tail-ref-25748/>\n",
      "{'url': 'https://www.usedsurfboardshawaii.com/product/10ft-j-k-surfboards-squash-tail-ref-25748/', 'title': '10ft J.K. Surfboards Squash Tail Ref# 25748', 'price': 699.0, 'description': 'Great condition Stand Up Paddle Board with no signs of previous use', 'type': '2+1 (Futures)', 'height': 'H 10’0″', 'width': 'W 31″', 'thickness': 'T 4.5″', 'condition': 'Like New', 'manufacturer': 'JK Surfboards'}\n"
     ]
    },
    {
     "name": "stdout",
     "output_type": "stream",
     "text": [
      "Processing 5 out of 25\n",
      "Processing 6 out of 25\n"
     ]
    },
    {
     "name": "stderr",
     "output_type": "stream",
     "text": [
      "2019-11-16 15:10:14 [scrapy.core.engine] DEBUG: Crawled (200) <GET https://www.usedsurfboardshawaii.com/product/7ft-4in-rawson-round-pin-ref-26086/> (referer: https://www.usedsurfboardshawaii.com/page/18/?post_type=product) ['cached']\n",
      "2019-11-16 15:10:14 [scrapy.core.scraper] DEBUG: Scraped from <200 https://www.usedsurfboardshawaii.com/product/9ft-6in-torq-round-pin-tail-ref-24440/>\n",
      "{'url': 'https://www.usedsurfboardshawaii.com/product/9ft-6in-torq-round-pin-tail-ref-24440/', 'title': '9ft 6in Torq Round Pin Tail Ref# 24440', 'price': 679.0, 'description': 'Good condition long board with no pressure dents and minimal signs of previous use', 'type': '2+1 (Futures)', 'height': 'H 9’6″', 'width': 'W 22 3/4″', 'thickness': 'T 2 7/8″', 'condition': 'New', 'manufacturer': 'Torq'}\n",
      "2019-11-16 15:10:14 [scrapy.core.engine] DEBUG: Crawled (200) <GET https://www.usedsurfboardshawaii.com/product/6ft-1in-al-merrick-round-pin-tail-ref-26071/> (referer: https://www.usedsurfboardshawaii.com/page/18/?post_type=product) ['cached']\n",
      "2019-11-16 15:10:14 [scrapy.core.scraper] DEBUG: Scraped from <200 https://www.usedsurfboardshawaii.com/product/6ft-5in-brice-round-pin-tail-ref-26121/>\n",
      "{'url': 'https://www.usedsurfboardshawaii.com/product/6ft-5in-brice-round-pin-tail-ref-26121/', 'title': '6ft 5in Brice Round pin Tail Ref# 26121', 'price': 325.0, 'description': 'Good condition shortboard with minor deck pressures but otherwise minimal signs of previous use', 'type': '5-Fin (Futures)', 'height': 'H 6’5″', 'width': 'W 18 3/4″', 'thickness': 'T 2 5/8″', 'condition': 'Good', 'manufacturer': 'Brice'}\n"
     ]
    },
    {
     "name": "stdout",
     "output_type": "stream",
     "text": [
      "Processing 7 out of 25\n",
      "Processing 8 out of 25\n"
     ]
    },
    {
     "name": "stderr",
     "output_type": "stream",
     "text": [
      "2019-11-16 15:10:14 [scrapy.core.engine] DEBUG: Crawled (200) <GET https://www.usedsurfboardshawaii.com/product/5ft-11in-hoss-co-squash-tail-ref-26062/> (referer: https://www.usedsurfboardshawaii.com/page/18/?post_type=product) ['cached']\n",
      "2019-11-16 15:10:14 [scrapy.core.scraper] DEBUG: Scraped from <200 https://www.usedsurfboardshawaii.com/product/7ft-4in-rawson-round-pin-ref-26086/>\n",
      "{'url': 'https://www.usedsurfboardshawaii.com/product/7ft-4in-rawson-round-pin-ref-26086/', 'title': '7ft 4in Rawson Round Pin Ref# 26086', 'price': 399.0, 'description': 'Good condition step up. A little yellowed from the sun but still solid in big waves.', 'type': 'Thruster (fcs)', 'height': 'H 7’4”', 'width': 'W 18 1/8”', 'thickness': 'T 2 3/16”', 'condition': 'Good', 'manufacturer': 'Rawson'}\n",
      "2019-11-16 15:10:14 [scrapy.core.engine] DEBUG: Crawled (200) <GET https://www.usedsurfboardshawaii.com/product/6ft-j-fernandez-squash-tail-ref-26003/> (referer: https://www.usedsurfboardshawaii.com/page/18/?post_type=product) ['cached']\n",
      "2019-11-16 15:10:14 [scrapy.core.scraper] DEBUG: Scraped from <200 https://www.usedsurfboardshawaii.com/product/6ft-1in-al-merrick-round-pin-tail-ref-26071/>\n",
      "{'url': 'https://www.usedsurfboardshawaii.com/product/6ft-1in-al-merrick-round-pin-tail-ref-26071/', 'title': '6ft 1in Al Merrick Round Pin Tail Ref# 26071', 'price': 550.0, 'description': 'Fair condition short board with a fair amount of deck pressures', 'type': 'Thruster (FCS2)', 'height': 'H 6’1″', 'width': 'W 19″', 'thickness': 'T 2 3/8″', 'condition': 'Fair', 'manufacturer': 'Al Merrick'}\n"
     ]
    },
    {
     "name": "stdout",
     "output_type": "stream",
     "text": [
      "Processing 9 out of 25\n",
      "Processing 10 out of 25\n"
     ]
    },
    {
     "name": "stderr",
     "output_type": "stream",
     "text": [
      "2019-11-16 15:10:14 [scrapy.core.engine] DEBUG: Crawled (200) <GET https://www.usedsurfboardshawaii.com/product/7ft-5in-jc-pin-tail-ref-26061/> (referer: https://www.usedsurfboardshawaii.com/page/18/?post_type=product) ['cached']\n",
      "2019-11-16 15:10:14 [scrapy.core.scraper] DEBUG: Scraped from <200 https://www.usedsurfboardshawaii.com/product/5ft-11in-hoss-co-squash-tail-ref-26062/>\n",
      "{'url': 'https://www.usedsurfboardshawaii.com/product/5ft-11in-hoss-co-squash-tail-ref-26062/', 'title': '5ft 11in Hoss Co Squash Tail Ref# 26062', 'price': 350.0, 'description': 'Good condition short board with minor deck pressures but otherwise minimal signs of use', 'type': 'Thruster (Futures)', 'height': 'H 5’11”', 'width': 'W 19″', 'thickness': 'T 2 3/8″', 'condition': 'Good', 'manufacturer': 'Hoss Co.'}\n",
      "2019-11-16 15:10:15 [scrapy.core.engine] DEBUG: Crawled (200) <GET https://www.usedsurfboardshawaii.com/product/5ft-11in-sparrow-round-tail-ref-25942/> (referer: https://www.usedsurfboardshawaii.com/page/18/?post_type=product) ['cached']\n",
      "2019-11-16 15:10:15 [scrapy.core.scraper] DEBUG: Scraped from <200 https://www.usedsurfboardshawaii.com/product/6ft-j-fernandez-squash-tail-ref-26003/>\n",
      "{'url': 'https://www.usedsurfboardshawaii.com/product/6ft-j-fernandez-squash-tail-ref-26003/', 'title': '6ft J. Fernandez Squash Tail Ref# 26003', 'price': 399.0, 'description': 'Good condition short board with minor deck pressures and yellowing from age but otherwise minimal signs of use', 'type': 'Thruster (Future)', 'height': 'H 6′', 'width': 'W 19.5″', 'thickness': 'T 2.5″', 'condition': 'Good', 'manufacturer': 'J. Fernandez'}\n"
     ]
    },
    {
     "name": "stdout",
     "output_type": "stream",
     "text": [
      "Processing 11 out of 25\n",
      "Processing 12 out of 25\n"
     ]
    },
    {
     "name": "stderr",
     "output_type": "stream",
     "text": [
      "2019-11-16 15:10:15 [scrapy.core.engine] DEBUG: Crawled (200) <GET https://www.usedsurfboardshawaii.com/product/5ft-2in-modex-round-tail-ref-25948/> (referer: https://www.usedsurfboardshawaii.com/page/18/?post_type=product) ['cached']\n",
      "2019-11-16 15:10:15 [scrapy.core.scraper] DEBUG: Scraped from <200 https://www.usedsurfboardshawaii.com/product/7ft-5in-jc-pin-tail-ref-26061/>\n",
      "{'url': 'https://www.usedsurfboardshawaii.com/product/7ft-5in-jc-pin-tail-ref-26061/', 'title': '7ft 5in JC Pin Tail Ref# 26061', 'price': 425.0, 'description': 'Good condition step-up board with minor pressures and minimal signs of use.', 'type': '5-Fin (FCS2)', 'height': 'H 7’5″', 'width': 'W 19.35″', 'thickness': 'T 2.7″', 'condition': 'Good', 'manufacturer': 'JC'}\n",
      "2019-11-16 15:10:15 [scrapy.core.engine] DEBUG: Crawled (200) <GET https://www.usedsurfboardshawaii.com/product/6ft-8in-anacapa-squash-tail-ref-23947/> (referer: https://www.usedsurfboardshawaii.com/page/18/?post_type=product) ['cached']\n",
      "2019-11-16 15:10:15 [scrapy.core.scraper] DEBUG: Scraped from <200 https://www.usedsurfboardshawaii.com/product/5ft-11in-sparrow-round-tail-ref-25942/>\n",
      "{'url': 'https://www.usedsurfboardshawaii.com/product/5ft-11in-sparrow-round-tail-ref-25942/', 'title': '5ft 11in Sparrow Round Tail Ref# 25942', 'price': 250.0, 'description': 'Fair condition short board with various pressures and some yellowing from age but it is water tight with no open dings.', 'type': '5-Fin (Futures)', 'height': 'H 5’11”', 'width': 'W 19 9/16″', 'thickness': 'T 2 11/16″', 'condition': 'Fair', 'manufacturer': 'Sparrow'}\n"
     ]
    },
    {
     "name": "stdout",
     "output_type": "stream",
     "text": [
      "Processing 13 out of 25\n",
      "Processing 14 out of 25\n"
     ]
    },
    {
     "name": "stderr",
     "output_type": "stream",
     "text": [
      "2019-11-16 15:10:15 [scrapy.core.engine] DEBUG: Crawled (200) <GET https://www.usedsurfboardshawaii.com/product/9ft-1in-meyerhoffer-round-pin-tail-ref-25890/> (referer: https://www.usedsurfboardshawaii.com/page/18/?post_type=product) ['cached']\n",
      "2019-11-16 15:10:15 [scrapy.core.scraper] DEBUG: Scraped from <200 https://www.usedsurfboardshawaii.com/product/5ft-2in-modex-round-tail-ref-25948/>\n",
      "{'url': 'https://www.usedsurfboardshawaii.com/product/5ft-2in-modex-round-tail-ref-25948/', 'title': '5ft 2in Modex Round Tail Ref# 25948', 'price': 260.0, 'description': 'Good condition short board with minor pressures and signs of use.\\xa0 This board is great for smaller surfers.', 'type': 'Thruster (FCS)', 'height': 'H 5’2″', 'width': 'W 17 5/8″', 'thickness': 'T 2″', 'condition': 'Good', 'manufacturer': 'Modex'}\n",
      "2019-11-16 15:10:15 [scrapy.core.engine] DEBUG: Crawled (200) <GET https://www.usedsurfboardshawaii.com/product/5ft-9in-m-wilkerson-diamond-tail-quad-ref-25866/> (referer: https://www.usedsurfboardshawaii.com/page/18/?post_type=product) ['cached']\n",
      "2019-11-16 15:10:15 [scrapy.core.scraper] DEBUG: Scraped from <200 https://www.usedsurfboardshawaii.com/product/6ft-8in-anacapa-squash-tail-ref-23947/>\n",
      "{'url': 'https://www.usedsurfboardshawaii.com/product/6ft-8in-anacapa-squash-tail-ref-23947/', 'title': '6ft 8in Anacapa Squash Tail Ref# 23947', 'price': 299.0, 'description': 'Good condition big guy short board with some yellowing from age and a few minor pressures but signs of use are minimal', 'type': 'Thruster (FCS)', 'height': 'H 6’8″', 'width': 'W 20 1/2″', 'thickness': 'T 3 1/8″', 'condition': 'Good', 'manufacturer': 'Anacapa'}\n"
     ]
    },
    {
     "name": "stdout",
     "output_type": "stream",
     "text": [
      "Processing 15 out of 25\n",
      "Processing 16 out of 25\n"
     ]
    },
    {
     "name": "stderr",
     "output_type": "stream",
     "text": [
      "2019-11-16 15:10:15 [scrapy.core.engine] DEBUG: Crawled (200) <GET https://www.usedsurfboardshawaii.com/product/6ft-1in-alan-round-pin-ref-25853/> (referer: https://www.usedsurfboardshawaii.com/page/18/?post_type=product) ['cached']\n",
      "2019-11-16 15:10:15 [scrapy.core.scraper] DEBUG: Scraped from <200 https://www.usedsurfboardshawaii.com/product/9ft-1in-meyerhoffer-round-pin-tail-ref-25890/>\n",
      "{'url': 'https://www.usedsurfboardshawaii.com/product/9ft-1in-meyerhoffer-round-pin-tail-ref-25890/', 'title': '9ft 1in Meyerhoffer Round Pin Tail Ref# 25890', 'price': 899.0, 'description': 'Good condition, just has a couple previous ding repairs and only minor pressure denting.', 'type': '2+1 (FCS & Single)', 'height': 'H 9′ 1″', 'width': 'W 21.75″', 'thickness': 'T 3″', 'condition': 'Good', 'manufacturer': 'Meyer Hoffer'}\n",
      "2019-11-16 15:10:15 [scrapy.core.engine] DEBUG: Crawled (200) <GET https://www.usedsurfboardshawaii.com/product/6ft-3in-pang-round-tail-ref-25871/> (referer: https://www.usedsurfboardshawaii.com/page/18/?post_type=product) ['cached']\n",
      "2019-11-16 15:10:16 [scrapy.core.scraper] DEBUG: Scraped from <200 https://www.usedsurfboardshawaii.com/product/5ft-9in-m-wilkerson-diamond-tail-quad-ref-25866/>\n",
      "{'url': 'https://www.usedsurfboardshawaii.com/product/5ft-9in-m-wilkerson-diamond-tail-quad-ref-25866/', 'title': '5ft 9in M. Wilkerson Diamond Tail Quad Ref# 25866', 'price': 250.0, 'description': 'Fair condition quad shortboard with some previous repairs. The bottom was re-glassed at some point and the resin tinted it yellow.', 'type': 'Quad (Future)', 'height': 'H 5′ 9″', 'width': 'W 20″', 'thickness': 'T 2 5/8″', 'condition': 'Fair', 'manufacturer': 'M. Wilkerson'}\n"
     ]
    },
    {
     "name": "stdout",
     "output_type": "stream",
     "text": [
      "Processing 17 out of 25\n",
      "Processing 18 out of 25\n"
     ]
    },
    {
     "name": "stderr",
     "output_type": "stream",
     "text": [
      "2019-11-16 15:10:16 [scrapy.core.engine] DEBUG: Crawled (200) <GET https://www.usedsurfboardshawaii.com/product/6ft-3in-eric-arakawa-round-pin-tail-ref-25854/> (referer: https://www.usedsurfboardshawaii.com/page/18/?post_type=product) ['cached']\n",
      "2019-11-16 15:10:16 [scrapy.core.scraper] DEBUG: Scraped from <200 https://www.usedsurfboardshawaii.com/product/6ft-1in-alan-round-pin-ref-25853/>\n",
      "{'url': 'https://www.usedsurfboardshawaii.com/product/6ft-1in-alan-round-pin-ref-25853/', 'title': '6ft 1in Alan Round Pin Ref# 25853', 'price': 650.0, 'description': 'Like new condition. Good north shore board.', 'type': 'Thruster (FCS)', 'height': 'H 6′ 1″', 'width': 'W 18 1/2″', 'thickness': 'T 2 1/4″', 'condition': 'Good', 'manufacturer': 'Alan'}\n",
      "2019-11-16 15:10:16 [scrapy.core.engine] DEBUG: Crawled (200) <GET https://www.usedsurfboardshawaii.com/product/6ft-5in-eric-arakawa-rounded-pin-tail-ref-25855/> (referer: https://www.usedsurfboardshawaii.com/page/18/?post_type=product) ['cached']\n",
      "2019-11-16 15:10:16 [scrapy.core.scraper] DEBUG: Scraped from <200 https://www.usedsurfboardshawaii.com/product/6ft-3in-pang-round-tail-ref-25871/>\n",
      "{'url': 'https://www.usedsurfboardshawaii.com/product/6ft-3in-pang-round-tail-ref-25871/', 'title': '6ft 3in Pang Round Tail Ref# 25871', 'price': 299.0, 'description': 'Fair condition short board with pressures on the deck but no open dings', 'type': '5-fin (Future)', 'height': 'H 6’3″', 'width': 'W\\xa0 18 3/4″', 'thickness': 'T 2 1/2″', 'condition': 'Fair', 'manufacturer': 'Pang'}\n"
     ]
    },
    {
     "name": "stdout",
     "output_type": "stream",
     "text": [
      "Processing 19 out of 25\n",
      "Processing 20 out of 25\n"
     ]
    },
    {
     "name": "stderr",
     "output_type": "stream",
     "text": [
      "2019-11-16 15:10:16 [scrapy.core.engine] DEBUG: Crawled (200) <GET https://www.usedsurfboardshawaii.com/product/6ft-1in-lost-round-tail-ref-25857/> (referer: https://www.usedsurfboardshawaii.com/page/18/?post_type=product) ['cached']\n",
      "2019-11-16 15:10:16 [scrapy.core.scraper] DEBUG: Scraped from <200 https://www.usedsurfboardshawaii.com/product/6ft-3in-eric-arakawa-round-pin-tail-ref-25854/>\n",
      "{'url': 'https://www.usedsurfboardshawaii.com/product/6ft-3in-eric-arakawa-round-pin-tail-ref-25854/', 'title': '6ft 3in Eric Arakawa Round Pin Tail Ref# 25854', 'price': 350.0, 'description': 'Good condition Short board with minor deck pressures but otherwise minimal signs of use', 'type': 'Thruster (FCS)', 'height': 'H 6’3″', 'width': 'W 18.75″', 'thickness': 'T 2.75″', 'condition': 'Good', 'manufacturer': 'Eric Arakawa'}\n",
      "2019-11-16 15:10:16 [scrapy.core.engine] DEBUG: Crawled (200) <GET https://www.usedsurfboardshawaii.com/product/6ft-2in-lost-squash-tail-ref-25851/> (referer: https://www.usedsurfboardshawaii.com/page/18/?post_type=product) ['cached']\n",
      "2019-11-16 15:10:16 [scrapy.core.scraper] DEBUG: Scraped from <200 https://www.usedsurfboardshawaii.com/product/6ft-5in-eric-arakawa-rounded-pin-tail-ref-25855/>\n",
      "{'url': 'https://www.usedsurfboardshawaii.com/product/6ft-5in-eric-arakawa-rounded-pin-tail-ref-25855/', 'title': '6ft 5in Eric Arakawa Rounded Pin Tail Ref# 25855', 'price': 300.0, 'description': 'Good condition Step-up with minor pressures and one professional repair on the deck as well as one previous fin box replacement but minimal signs of previous use otherwise.', 'type': 'Thruster (FCS)', 'height': 'H 6’5″', 'width': 'W 18.75″', 'thickness': 'T 2.38″', 'condition': 'Good', 'manufacturer': 'Eric Arakawa'}\n"
     ]
    },
    {
     "name": "stdout",
     "output_type": "stream",
     "text": [
      "Processing 21 out of 25\n",
      "Processing 22 out of 25\n"
     ]
    },
    {
     "name": "stderr",
     "output_type": "stream",
     "text": [
      "2019-11-16 15:10:16 [scrapy.core.engine] DEBUG: Crawled (200) <GET https://www.usedsurfboardshawaii.com/product/6ft-3in-pang-diamond-tail-ref-25879/> (referer: https://www.usedsurfboardshawaii.com/page/18/?post_type=product) ['cached']\n",
      "2019-11-16 15:10:16 [scrapy.core.scraper] DEBUG: Scraped from <200 https://www.usedsurfboardshawaii.com/product/6ft-1in-lost-round-tail-ref-25857/>\n",
      "{'url': 'https://www.usedsurfboardshawaii.com/product/6ft-1in-lost-round-tail-ref-25857/', 'title': '6ft 1in Lost Round Tail Ref# 25857', 'price': 375.0, 'description': 'Good condition Short board with minor pressures on the deck but otherwise minimal signs of previous use', 'type': 'Thruster (Future)', 'height': 'H 6’1″', 'width': 'W 18.5″', 'thickness': 'T 2.38″', 'condition': 'Good', 'manufacturer': ''}\n",
      "2019-11-16 15:10:16 [scrapy.core.engine] DEBUG: Crawled (200) <GET https://www.usedsurfboardshawaii.com/product/6ft-3in-super-round-tail-ref-25828/> (referer: https://www.usedsurfboardshawaii.com/page/18/?post_type=product) ['cached']\n",
      "2019-11-16 15:10:16 [scrapy.core.scraper] DEBUG: Scraped from <200 https://www.usedsurfboardshawaii.com/product/6ft-2in-lost-squash-tail-ref-25851/>\n",
      "{'url': 'https://www.usedsurfboardshawaii.com/product/6ft-2in-lost-squash-tail-ref-25851/', 'title': '6ft 2in Lost Squash Tail Ref# 25851', 'price': 399.0, 'description': 'Good condition Short board with pressures on the deck but otherwise minor signs of previous use.', 'type': 'Thruster (FCS)', 'height': 'H 6’2″', 'width': 'W 20″', 'thickness': 'T 2.5″', 'condition': 'Good', 'manufacturer': 'Lost'}\n"
     ]
    },
    {
     "name": "stdout",
     "output_type": "stream",
     "text": [
      "Processing 23 out of 25\n",
      "Processing 24 out of 25\n"
     ]
    },
    {
     "name": "stderr",
     "output_type": "stream",
     "text": [
      "2019-11-16 15:10:17 [scrapy.core.engine] DEBUG: Crawled (200) <GET https://www.usedsurfboardshawaii.com/product/5ft-10in-quality-surfboards-swallow-tail-ref-25822/> (referer: https://www.usedsurfboardshawaii.com/page/18/?post_type=product) ['cached']\n",
      "2019-11-16 15:10:17 [scrapy.core.scraper] DEBUG: Scraped from <200 https://www.usedsurfboardshawaii.com/product/6ft-3in-pang-diamond-tail-ref-25879/>\n",
      "{'url': 'https://www.usedsurfboardshawaii.com/product/6ft-3in-pang-diamond-tail-ref-25879/', 'title': '6ft 3in Pang Diamond Tail Ref# 25879', 'price': 250.0, 'description': 'Good condition Short board with a few minor pressures on the deck but otherwise minor signs of previous use', 'type': 'Thruster (Future)', 'height': 'H 6’3″', 'width': 'W 19 1/4″', 'thickness': 'T 2 3/8″', 'condition': 'Good', 'manufacturer': 'Pang'}\n",
      "2019-11-16 15:10:17 [scrapy.core.engine] DEBUG: Crawled (200) <GET https://www.usedsurfboardshawaii.com/product/6ft-4in-dennis-pang-pin-tail-ref-25861/> (referer: https://www.usedsurfboardshawaii.com/page/18/?post_type=product) ['cached']\n",
      "2019-11-16 15:10:17 [scrapy.core.scraper] DEBUG: Scraped from <200 https://www.usedsurfboardshawaii.com/product/6ft-3in-super-round-tail-ref-25828/>\n",
      "{'url': 'https://www.usedsurfboardshawaii.com/product/6ft-3in-super-round-tail-ref-25828/', 'title': '6ft 3in Super Round Tail Ref# 25828', 'price': 250.0, 'description': 'Fair condition Step up with moderate pressures on the deck', 'type': 'Thruster (FCS2)', 'height': 'H 6’3″', 'width': 'W 18 1/4″', 'thickness': 'T 2 3/8″', 'condition': 'Fair', 'manufacturer': 'Super Brand'}\n",
      "2019-11-16 15:10:17 [scrapy.core.engine] DEBUG: Crawled (200) <GET https://www.usedsurfboardshawaii.com/page/19/?post_type=product> (referer: https://www.usedsurfboardshawaii.com/page/18/?post_type=product) ['cached']\n",
      "2019-11-16 15:10:17 [scrapy.core.scraper] DEBUG: Scraped from <200 https://www.usedsurfboardshawaii.com/product/5ft-10in-quality-surfboards-swallow-tail-ref-25822/>\n",
      "{'url': 'https://www.usedsurfboardshawaii.com/product/5ft-10in-quality-surfboards-swallow-tail-ref-25822/', 'title': '5ft 10in Quality Surfboards Swallow Tail Ref# 25822', 'price': 250.0, 'description': 'Good condition short board with minor signs of use', 'type': 'Thruster (Future)', 'height': 'H 5’10”', 'width': 'W 18 1/2″', 'thickness': 'T 2 3/8″', 'condition': 'Good', 'manufacturer': 'Quality Surf'}\n"
     ]
    },
    {
     "name": "stdout",
     "output_type": "stream",
     "text": [
      "Processing 25 out of 25\n",
      "\n",
      "https://www.usedsurfboardshawaii.com/page/19/?post_type=product\n"
     ]
    },
    {
     "name": "stderr",
     "output_type": "stream",
     "text": [
      "2019-11-16 15:10:17 [scrapy.core.scraper] DEBUG: Scraped from <200 https://www.usedsurfboardshawaii.com/product/6ft-4in-dennis-pang-pin-tail-ref-25861/>\n",
      "{'url': 'https://www.usedsurfboardshawaii.com/product/6ft-4in-dennis-pang-pin-tail-ref-25861/', 'title': '6ft 4in Dennis Pang Pin Tail Ref# 25861', 'price': 275.0, 'description': 'Good condition shortboard with a few pressures in the deck.', 'type': 'Thruster (fcs)', 'height': 'H 6’4″', 'width': 'W 19″', 'thickness': 'T 2 1/2″', 'condition': 'Good', 'manufacturer': 'D.Pang, Dennis Pang, Pang'}\n",
      "2019-11-16 15:10:17 [scrapy.core.engine] DEBUG: Crawled (200) <GET https://www.usedsurfboardshawaii.com/product/5ft-6in-minamidiamond-tail-ref-25799/> (referer: https://www.usedsurfboardshawaii.com/page/19/?post_type=product) ['cached']\n"
     ]
    },
    {
     "name": "stdout",
     "output_type": "stream",
     "text": [
      "Total:  25\n",
      "Processing 1 out of 25\n",
      "Processing 2 out of 25\n"
     ]
    },
    {
     "name": "stderr",
     "output_type": "stream",
     "text": [
      "2019-11-16 15:10:17 [scrapy.core.engine] DEBUG: Crawled (200) <GET https://www.usedsurfboardshawaii.com/product/8ft-6in-wellman-pin-tail-ref-25772/> (referer: https://www.usedsurfboardshawaii.com/page/19/?post_type=product) ['cached']\n",
      "2019-11-16 15:10:17 [scrapy.core.engine] DEBUG: Crawled (200) <GET https://www.usedsurfboardshawaii.com/product/5ft-10in-fletcher-swallow-tail-ref-25692/> (referer: https://www.usedsurfboardshawaii.com/page/19/?post_type=product) ['cached']\n",
      "2019-11-16 15:10:17 [scrapy.core.scraper] DEBUG: Scraped from <200 https://www.usedsurfboardshawaii.com/product/5ft-6in-minamidiamond-tail-ref-25799/>\n",
      "{'url': 'https://www.usedsurfboardshawaii.com/product/5ft-6in-minamidiamond-tail-ref-25799/', 'title': '5ft 6in Minami Diamond Tail Ref# 25799', 'price': 425.0, 'description': 'Good condition groveler wit minimal signs of use', 'type': '4+1(Futures)', 'height': 'H 5’6″', 'width': 'W 20 1/2″', 'thickness': 'T 2 1/2″', 'condition': 'Good', 'manufacturer': 'Minami'}\n"
     ]
    },
    {
     "name": "stdout",
     "output_type": "stream",
     "text": [
      "Processing 3 out of 25\n",
      "Processing 4 out of 25\n"
     ]
    },
    {
     "name": "stderr",
     "output_type": "stream",
     "text": [
      "2019-11-16 15:10:17 [scrapy.core.engine] DEBUG: Crawled (200) <GET https://www.usedsurfboardshawaii.com/product/5ft-1in-nekamoto-squash-tail-ref-25704/> (referer: https://www.usedsurfboardshawaii.com/page/19/?post_type=product) ['cached']\n",
      "2019-11-16 15:10:17 [scrapy.core.scraper] DEBUG: Scraped from <200 https://www.usedsurfboardshawaii.com/product/8ft-6in-wellman-pin-tail-ref-25772/>\n",
      "{'url': 'https://www.usedsurfboardshawaii.com/product/8ft-6in-wellman-pin-tail-ref-25772/', 'title': '8ft 6in Wellman Pin Tail Ref# 25772', 'price': 550.0, 'description': 'Good condition semi-gun with minor pressures and minor signs of use', 'type': 'Thruster (FCS)', 'height': 'H 8’6″', 'width': 'W 19 1/2″', 'thickness': 'T 2 1/2″', 'condition': 'Good', 'manufacturer': 'Mike Wellman'}\n",
      "2019-11-16 15:10:17 [scrapy.core.engine] DEBUG: Crawled (200) <GET https://www.usedsurfboardshawaii.com/product/6ft-6in-drift-round-tail-ref-25645/> (referer: https://www.usedsurfboardshawaii.com/page/19/?post_type=product) ['cached']\n",
      "2019-11-16 15:10:18 [scrapy.core.scraper] DEBUG: Scraped from <200 https://www.usedsurfboardshawaii.com/product/5ft-10in-fletcher-swallow-tail-ref-25692/>\n",
      "{'url': 'https://www.usedsurfboardshawaii.com/product/5ft-10in-fletcher-swallow-tail-ref-25692/', 'title': '5ft 10in Fletcher Swallow Tail Ref# 25692', 'price': 385.0, 'description': 'Good shortboard with minimal pressure dents.', 'type': None, 'height': 'H 5′ 10″', 'width': 'W 19 5/16', 'thickness': 'T 2 1/4', 'condition': 'Good', 'manufacturer': 'Fletcher'}\n"
     ]
    },
    {
     "name": "stdout",
     "output_type": "stream",
     "text": [
      "Processing 5 out of 25\n",
      "Processing 6 out of 25\n"
     ]
    },
    {
     "name": "stderr",
     "output_type": "stream",
     "text": [
      "2019-11-16 15:10:18 [scrapy.core.engine] DEBUG: Crawled (200) <GET https://www.usedsurfboardshawaii.com/product/5ft-5-1-2in-round-tail-ref-25702/> (referer: https://www.usedsurfboardshawaii.com/page/19/?post_type=product) ['cached']\n",
      "2019-11-16 15:10:18 [scrapy.core.scraper] DEBUG: Scraped from <200 https://www.usedsurfboardshawaii.com/product/5ft-1in-nekamoto-squash-tail-ref-25704/>\n",
      "{'url': 'https://www.usedsurfboardshawaii.com/product/5ft-1in-nekamoto-squash-tail-ref-25704/', 'title': '5ft 1in Nekamoto Squash Tail Ref# 25704', 'price': 200.0, 'description': 'Grom board with minimal pressure dents.', 'type': None, 'height': 'H 5′ 1″', 'width': 'W 17 1/4', 'thickness': 'T 2 1/8', 'condition': 'Good', 'manufacturer': 'M. Nekamoto'}\n",
      "2019-11-16 15:10:18 [scrapy.core.engine] DEBUG: Crawled (200) <GET https://www.usedsurfboardshawaii.com/product/5ft-7in-water-boys-squash-tail-ref-25682/> (referer: https://www.usedsurfboardshawaii.com/page/19/?post_type=product) ['cached']\n",
      "2019-11-16 15:10:18 [scrapy.core.scraper] DEBUG: Scraped from <200 https://www.usedsurfboardshawaii.com/product/6ft-6in-drift-round-tail-ref-25645/>\n",
      "{'url': 'https://www.usedsurfboardshawaii.com/product/6ft-6in-drift-round-tail-ref-25645/', 'title': '6ft 6in Drift Round Tail Ref# 25645', 'price': 250.0, 'description': 'Normal amount of pressure dents for used surfboard.', 'type': None, 'height': 'H 6′ 6″', 'width': 'W 18 1/4', 'thickness': 'T 2 7/16', 'condition': 'Good', 'manufacturer': 'Drift'}\n"
     ]
    },
    {
     "name": "stdout",
     "output_type": "stream",
     "text": [
      "Processing 7 out of 25\n",
      "Processing 8 out of 25\n"
     ]
    },
    {
     "name": "stderr",
     "output_type": "stream",
     "text": [
      "2019-11-16 15:10:18 [scrapy.core.engine] DEBUG: Crawled (200) <GET https://www.usedsurfboardshawaii.com/product/6ft-4in-pang-round-pin-tail-ref-25775/> (referer: https://www.usedsurfboardshawaii.com/page/19/?post_type=product) ['cached']\n",
      "2019-11-16 15:10:18 [scrapy.core.scraper] DEBUG: Scraped from <200 https://www.usedsurfboardshawaii.com/product/5ft-5-1-2in-round-tail-ref-25702/>\n",
      "{'url': 'https://www.usedsurfboardshawaii.com/product/5ft-5-1-2in-round-tail-ref-25702/', 'title': '5ft 5 1/2in Jud Lau Round Tail Ref# 25702', 'price': 300.0, 'description': 'Good high performance shortboard. Fair amount of pressure dents.', 'type': None, 'height': 'H 5′ 5.5″', 'width': 'W 19 3/16', 'thickness': 'T 2 5/8', 'condition': 'Good', 'manufacturer': 'jud lau'}\n",
      "2019-11-16 15:10:18 [scrapy.core.engine] DEBUG: Crawled (200) <GET https://www.usedsurfboardshawaii.com/product/5ft-10in-lost-diamond-bat-tail-ref-25693/> (referer: https://www.usedsurfboardshawaii.com/page/19/?post_type=product) ['cached']\n",
      "2019-11-16 15:10:18 [scrapy.core.scraper] DEBUG: Scraped from <200 https://www.usedsurfboardshawaii.com/product/5ft-7in-water-boys-squash-tail-ref-25682/>\n",
      "{'url': 'https://www.usedsurfboardshawaii.com/product/5ft-7in-water-boys-squash-tail-ref-25682/', 'title': '5ft 7in Water Boys Squash Tail Ref# 25682', 'price': 265.0, 'description': 'Nice shortboard with minimal sign of previous use.', 'type': '5-Fin (FCS)', 'height': 'H 5’7″', 'width': 'W 19 1/4″', 'thickness': 'T 2 1/4″', 'condition': 'Good', 'manufacturer': 'Water Boys'}\n"
     ]
    },
    {
     "name": "stdout",
     "output_type": "stream",
     "text": [
      "Processing 9 out of 25\n",
      "Processing 10 out of 25\n"
     ]
    },
    {
     "name": "stderr",
     "output_type": "stream",
     "text": [
      "2019-11-16 15:10:18 [scrapy.core.engine] DEBUG: Crawled (200) <GET https://www.usedsurfboardshawaii.com/product/6ft-1in-northern-alliance-squash-tail-ref-25537/> (referer: https://www.usedsurfboardshawaii.com/page/19/?post_type=product) ['cached']\n",
      "2019-11-16 15:10:18 [scrapy.core.scraper] DEBUG: Scraped from <200 https://www.usedsurfboardshawaii.com/product/6ft-4in-pang-round-pin-tail-ref-25775/>\n",
      "{'url': 'https://www.usedsurfboardshawaii.com/product/6ft-4in-pang-round-pin-tail-ref-25775/', 'title': '6ft 4in Pang Round Pin Tail Ref# 25775', 'price': 200.0, 'description': 'Good condition step-up with minor pressures but otherwise minor signs of use', 'type': 'Thruster (FCS)', 'height': 'H 6’4″', 'width': 'W 18 1/2″', 'thickness': 'T 2 5/16″', 'condition': 'Good', 'manufacturer': 'Pang'}\n",
      "2019-11-16 15:10:18 [scrapy.core.engine] DEBUG: Crawled (200) <GET https://www.usedsurfboardshawaii.com/product/5ft-11in-lost-beach-buggy-squash-tail-ref-25636/> (referer: https://www.usedsurfboardshawaii.com/page/19/?post_type=product) ['cached']\n",
      "2019-11-16 15:10:18 [scrapy.core.scraper] DEBUG: Scraped from <200 https://www.usedsurfboardshawaii.com/product/5ft-10in-lost-diamond-bat-tail-ref-25693/>\n",
      "{'url': 'https://www.usedsurfboardshawaii.com/product/5ft-10in-lost-diamond-bat-tail-ref-25693/', 'title': '5ft 10in Lost Diamond Bat Tail Ref# 25693', 'price': 375.0, 'description': 'Nice shortboard with minimal sign of previous use.', 'type': 'Thruster (Future)', 'height': 'H 5’10”', 'width': 'W 18 1/4″', 'thickness': 'T 2.35″', 'condition': 'Good', 'manufacturer': 'Lost'}\n"
     ]
    },
    {
     "name": "stdout",
     "output_type": "stream",
     "text": [
      "Processing 11 out of 25\n",
      "Processing 12 out of 25\n"
     ]
    },
    {
     "name": "stderr",
     "output_type": "stream",
     "text": [
      "2019-11-16 15:10:19 [scrapy.core.engine] DEBUG: Crawled (200) <GET https://www.usedsurfboardshawaii.com/product/6ft-4in-js-squash-tail-ref-25551/> (referer: https://www.usedsurfboardshawaii.com/page/19/?post_type=product) ['cached']\n",
      "2019-11-16 15:10:19 [scrapy.core.scraper] DEBUG: Scraped from <200 https://www.usedsurfboardshawaii.com/product/6ft-1in-northern-alliance-squash-tail-ref-25537/>\n",
      "{'url': 'https://www.usedsurfboardshawaii.com/product/6ft-1in-northern-alliance-squash-tail-ref-25537/', 'title': '6ft 1in Northern Alliance Squash Tail Ref# 25537', 'price': 199.0, 'description': 'Fair condition performance shortboard with pressure dents and minor signs of use', 'type': 'Thruster(Futures)', 'height': 'H 6’1″', 'width': 'W 18 1/4″', 'thickness': 'T 2 1/4″', 'condition': 'Fair', 'manufacturer': 'Northern Alliance'}\n",
      "2019-11-16 15:10:19 [scrapy.core.engine] DEBUG: Crawled (200) <GET https://www.usedsurfboardshawaii.com/product/5ft-11in-kolea-swallow-tail-ref-25558/> (referer: https://www.usedsurfboardshawaii.com/page/19/?post_type=product) ['cached']\n",
      "2019-11-16 15:10:19 [scrapy.core.scraper] DEBUG: Scraped from <200 https://www.usedsurfboardshawaii.com/product/5ft-11in-lost-beach-buggy-squash-tail-ref-25636/>\n",
      "{'url': 'https://www.usedsurfboardshawaii.com/product/5ft-11in-lost-beach-buggy-squash-tail-ref-25636/', 'title': '5ft 11in Lost (Beach Buggy) Squash Tail Ref# 25636', 'price': 625.0, 'description': 'Good condition short board with minor pressures but otherwise minimal signs of use', 'type': '5-Fin (Futures)', 'height': 'H 5’11”', 'width': 'W 19″', 'thickness': 'T 2.32″', 'condition': 'Good', 'manufacturer': 'Lost'}\n"
     ]
    },
    {
     "name": "stdout",
     "output_type": "stream",
     "text": [
      "Processing 13 out of 25\n",
      "Processing 14 out of 25\n"
     ]
    },
    {
     "name": "stderr",
     "output_type": "stream",
     "text": [
      "2019-11-16 15:10:19 [scrapy.core.engine] DEBUG: Crawled (200) <GET https://www.usedsurfboardshawaii.com/product/7ft-6in-dewey-weber-feather-fastback-round-pin-ref-25097/> (referer: https://www.usedsurfboardshawaii.com/page/19/?post_type=product) ['cached']\n",
      "2019-11-16 15:10:19 [scrapy.core.scraper] DEBUG: Scraped from <200 https://www.usedsurfboardshawaii.com/product/6ft-4in-js-squash-tail-ref-25551/>\n",
      "{'url': 'https://www.usedsurfboardshawaii.com/product/6ft-4in-js-squash-tail-ref-25551/', 'title': '6ft 4in JS Squash Tail Ref# 25551', 'price': 199.0, 'description': 'Fair condition step-up with signs of use', 'type': 'Thruster (FCS)', 'height': 'H 6’4″', 'width': 'W 18 1/2″', 'thickness': 'T 2 3/8″', 'condition': 'Fair', 'manufacturer': 'JS'}\n",
      "2019-11-16 15:10:19 [scrapy.core.engine] DEBUG: Crawled (200) <GET https://www.usedsurfboardshawaii.com/product/5ft-10in-lost-swallow-tail-ref-25502/> (referer: https://www.usedsurfboardshawaii.com/page/19/?post_type=product) ['cached']\n",
      "2019-11-16 15:10:19 [scrapy.core.scraper] DEBUG: Scraped from <200 https://www.usedsurfboardshawaii.com/product/5ft-11in-kolea-swallow-tail-ref-25558/>\n",
      "{'url': 'https://www.usedsurfboardshawaii.com/product/5ft-11in-kolea-swallow-tail-ref-25558/', 'title': '5ft 11in Kolea Swallow Tail Ref# 25558', 'price': 199.0, 'description': 'Shortboard with pressure dents and signs of use', 'type': 'Thruster (Future)', 'height': 'H 5’11”', 'width': 'W 19 1/2″', 'thickness': 'T 2 1/2″', 'condition': 'Fair', 'manufacturer': 'Kolea'}\n"
     ]
    },
    {
     "name": "stdout",
     "output_type": "stream",
     "text": [
      "Processing 15 out of 25\n",
      "Processing 16 out of 25\n"
     ]
    },
    {
     "name": "stderr",
     "output_type": "stream",
     "text": [
      "2019-11-16 15:10:19 [scrapy.core.engine] DEBUG: Crawled (200) <GET https://www.usedsurfboardshawaii.com/product/6ft-5in-northern-alliance-round-tail-ref-25504/> (referer: https://www.usedsurfboardshawaii.com/page/19/?post_type=product) ['cached']\n",
      "2019-11-16 15:10:19 [scrapy.core.engine] DEBUG: Crawled (200) <GET https://www.usedsurfboardshawaii.com/product/6ft-1in-eyeshapes-squash-tail-ref-25484/> (referer: https://www.usedsurfboardshawaii.com/page/19/?post_type=product) ['cached']\n",
      "2019-11-16 15:10:19 [scrapy.core.scraper] DEBUG: Scraped from <200 https://www.usedsurfboardshawaii.com/product/5ft-10in-lost-swallow-tail-ref-25502/>\n",
      "{'url': 'https://www.usedsurfboardshawaii.com/product/5ft-10in-lost-swallow-tail-ref-25502/', 'title': '5ft 10in Lost Swallow Tail Ref# 25502', 'price': 200.0, 'description': 'Good condition shortboard with\\xa0 pressure dings and moderate use on it, but still has lots of sessions left in it.', 'type': 'Thruster (FCS)', 'height': 'H 5’10”', 'width': 'W 18.25', 'thickness': 'T 2 1/3″', 'condition': 'Good', 'manufacturer': 'Lost'}\n"
     ]
    },
    {
     "name": "stdout",
     "output_type": "stream",
     "text": [
      "Processing 17 out of 25\n",
      "Processing 18 out of 25\n"
     ]
    },
    {
     "name": "stderr",
     "output_type": "stream",
     "text": [
      "2019-11-16 15:10:19 [scrapy.core.engine] DEBUG: Crawled (200) <GET https://www.usedsurfboardshawaii.com/product/7ft-brice-pin-tail-ref-25485/> (referer: https://www.usedsurfboardshawaii.com/page/19/?post_type=product) ['cached']\n",
      "2019-11-16 15:10:19 [scrapy.core.scraper] DEBUG: Scraped from <200 https://www.usedsurfboardshawaii.com/product/6ft-5in-northern-alliance-round-tail-ref-25504/>\n",
      "{'url': 'https://www.usedsurfboardshawaii.com/product/6ft-5in-northern-alliance-round-tail-ref-25504/', 'title': '6ft 5in Northern Alliance Round Tail Ref# 25504', 'price': 200.0, 'description': 'Good condition step-up with minimal signs of use', 'type': 'Thruster (Futures)', 'height': 'H 6’5″', 'width': 'W 18 3/8″', 'thickness': 'T 2 7/16″', 'condition': 'Good', 'manufacturer': 'Northern Alliance'}\n",
      "2019-11-16 15:10:20 [scrapy.core.engine] DEBUG: Crawled (200) <GET https://www.usedsurfboardshawaii.com/product/6ft-4in-js-squash-tail-ref-25462/> (referer: https://www.usedsurfboardshawaii.com/page/19/?post_type=product) ['cached']\n",
      "2019-11-16 15:10:20 [scrapy.core.scraper] DEBUG: Scraped from <200 https://www.usedsurfboardshawaii.com/product/6ft-1in-eyeshapes-squash-tail-ref-25484/>\n",
      "{'url': 'https://www.usedsurfboardshawaii.com/product/6ft-1in-eyeshapes-squash-tail-ref-25484/', 'title': '6ft 1in Eyeshapes Squash Tail Ref# 25484', 'price': 350.0, 'description': 'Good condition shortboard with minimal signs of use', 'type': 'Thruster (Future)', 'height': 'H 6’1″', 'width': 'W 20 1/8″', 'thickness': 'T 2 3/4″', 'condition': 'Good', 'manufacturer': 'Eye'}\n"
     ]
    },
    {
     "name": "stdout",
     "output_type": "stream",
     "text": [
      "Processing 19 out of 25\n",
      "Processing 20 out of 25\n"
     ]
    },
    {
     "name": "stderr",
     "output_type": "stream",
     "text": [
      "2019-11-16 15:10:20 [scrapy.core.engine] DEBUG: Crawled (200) <GET https://www.usedsurfboardshawaii.com/product/5ft-10in-cino-squash-tail-ref-25453/> (referer: https://www.usedsurfboardshawaii.com/page/19/?post_type=product) ['cached']\n",
      "2019-11-16 15:10:20 [scrapy.core.scraper] DEBUG: Scraped from <200 https://www.usedsurfboardshawaii.com/product/7ft-brice-pin-tail-ref-25485/>\n",
      "{'url': 'https://www.usedsurfboardshawaii.com/product/7ft-brice-pin-tail-ref-25485/', 'title': '7ft Brice Pin Tail Ref# 25485', 'price': 350.0, 'description': 'Good condition short board with minor pressure dings but otherwise minimal signs of use', 'type': 'Thruster (Future)', 'height': 'H 7′', 'width': 'W 19.88″', 'thickness': 'T 2.88″', 'condition': 'Good', 'manufacturer': 'Brice'}\n",
      "2019-11-16 15:10:20 [scrapy.core.engine] DEBUG: Crawled (200) <GET https://www.usedsurfboardshawaii.com/product/7ft-meeks-round-tail-ref-25379/> (referer: https://www.usedsurfboardshawaii.com/page/19/?post_type=product) ['cached']\n",
      "2019-11-16 15:10:20 [scrapy.core.scraper] DEBUG: Scraped from <200 https://www.usedsurfboardshawaii.com/product/6ft-4in-js-squash-tail-ref-25462/>\n",
      "{'url': 'https://www.usedsurfboardshawaii.com/product/6ft-4in-js-squash-tail-ref-25462/', 'title': '6ft 4in JS Squash Tail Ref# 25462', 'price': 350.0, 'description': 'Good condition Short board with minor pressure dings and minimal signs of use', 'type': 'Thruster (FCS)', 'height': 'H 6’4″', 'width': 'W 18 1/2″', 'thickness': 'T 2 1/4″', 'condition': 'Good', 'manufacturer': 'JS'}\n"
     ]
    },
    {
     "name": "stdout",
     "output_type": "stream",
     "text": [
      "Processing 21 out of 25\n",
      "Processing 22 out of 25\n"
     ]
    },
    {
     "name": "stderr",
     "output_type": "stream",
     "text": [
      "2019-11-16 15:10:20 [scrapy.core.engine] DEBUG: Crawled (200) <GET https://www.usedsurfboardshawaii.com/product/5ft-9in-west-squash-tail-ref-25224/> (referer: https://www.usedsurfboardshawaii.com/page/19/?post_type=product) ['cached']\n",
      "2019-11-16 15:10:20 [scrapy.core.scraper] DEBUG: Scraped from <200 https://www.usedsurfboardshawaii.com/product/5ft-10in-cino-squash-tail-ref-25453/>\n",
      "{'url': 'https://www.usedsurfboardshawaii.com/product/5ft-10in-cino-squash-tail-ref-25453/', 'title': '5ft 10in Cino Squash Tail Ref# 25453', 'price': 199.0, 'description': 'Fair condition Short board with minor pressure dings but otherwise minor signs of use.', 'type': 'Thruster (FCS)', 'height': 'H 5’10”', 'width': 'W 18 1/2″', 'thickness': 'T 2 3/16″', 'condition': 'Fair', 'manufacturer': 'Cino'}\n",
      "2019-11-16 15:10:20 [scrapy.core.engine] DEBUG: Crawled (200) <GET https://www.usedsurfboardshawaii.com/product/6ft-4in-setzu-squash-tail-ref-25402/> (referer: https://www.usedsurfboardshawaii.com/page/19/?post_type=product) ['cached']\n",
      "2019-11-16 15:10:20 [scrapy.core.scraper] DEBUG: Scraped from <200 https://www.usedsurfboardshawaii.com/product/7ft-meeks-round-tail-ref-25379/>\n",
      "{'url': 'https://www.usedsurfboardshawaii.com/product/7ft-meeks-round-tail-ref-25379/', 'title': '7ft Meeks Round Tail Ref# 25379', 'price': 450.0, 'description': 'Good condition Short Board with minimal signs of use', 'type': 'Thruster (Future)', 'height': 'H 7′', 'width': 'W 20 1/4″', 'thickness': 'T 3″', 'condition': 'Good', 'manufacturer': 'Meeks'}\n"
     ]
    },
    {
     "name": "stdout",
     "output_type": "stream",
     "text": [
      "Processing 23 out of 25\n",
      "Processing 24 out of 25\n"
     ]
    },
    {
     "name": "stderr",
     "output_type": "stream",
     "text": [
      "2019-11-16 15:10:21 [scrapy.core.engine] DEBUG: Crawled (200) <GET https://www.usedsurfboardshawaii.com/product/5ft-11in-hossco-squash-tail-ref-25401/> (referer: https://www.usedsurfboardshawaii.com/page/19/?post_type=product) ['cached']\n",
      "2019-11-16 15:10:21 [scrapy.core.scraper] DEBUG: Scraped from <200 https://www.usedsurfboardshawaii.com/product/5ft-9in-west-squash-tail-ref-25224/>\n",
      "{'url': 'https://www.usedsurfboardshawaii.com/product/5ft-9in-west-squash-tail-ref-25224/', 'title': '5ft 9in West Squash Tail Ref# 25224', 'price': 225.0, 'description': 'Fair condition Short Board with minor pressure dings and minor signs of use.', 'type': 'Thruster (FCS)', 'height': 'H 5’9″', 'width': 'W 19.25″', 'thickness': 'T 2.16″', 'condition': 'Fair', 'manufacturer': 'West Surfboards'}\n",
      "2019-11-16 15:10:21 [scrapy.core.engine] DEBUG: Crawled (200) <GET https://www.usedsurfboardshawaii.com/product/6ft-purington-round-tail-ref-25242/> (referer: https://www.usedsurfboardshawaii.com/page/19/?post_type=product) ['cached']\n",
      "2019-11-16 15:10:21 [scrapy.core.scraper] DEBUG: Scraped from <200 https://www.usedsurfboardshawaii.com/product/6ft-4in-setzu-squash-tail-ref-25402/>\n",
      "{'url': 'https://www.usedsurfboardshawaii.com/product/6ft-4in-setzu-squash-tail-ref-25402/', 'title': '6ft 4in Setzu Squash Tail Ref# 25402', 'price': 350.0, 'description': 'Good condition Short board with minimal signs of use', 'type': 'Thruster (Future)', 'height': 'H 6’4″', 'width': 'W 18 5/8″', 'thickness': 'T 2 1/4″', 'condition': 'Good', 'manufacturer': 'Setsu'}\n",
      "2019-11-16 15:10:21 [scrapy.core.engine] DEBUG: Crawled (200) <GET https://www.usedsurfboardshawaii.com/page/20/?post_type=product> (referer: https://www.usedsurfboardshawaii.com/page/19/?post_type=product) ['cached']\n",
      "2019-11-16 15:10:21 [scrapy.core.scraper] DEBUG: Scraped from <200 https://www.usedsurfboardshawaii.com/product/5ft-11in-hossco-squash-tail-ref-25401/>\n",
      "{'url': 'https://www.usedsurfboardshawaii.com/product/5ft-11in-hossco-squash-tail-ref-25401/', 'title': '5ft 11in HossCo Squash Tail Ref# 25401', 'price': 299.0, 'description': 'Good condition Short board with minimal signs of use', 'type': 'Thruster (Future)', 'height': 'H 5’11”', 'width': 'W 19″', 'thickness': 'T 2 1/4″', 'condition': 'Good', 'manufacturer': 'Hoss Co.'}\n"
     ]
    },
    {
     "name": "stdout",
     "output_type": "stream",
     "text": [
      "Processing 25 out of 25\n",
      "\n",
      "https://www.usedsurfboardshawaii.com/page/20/?post_type=product\n"
     ]
    },
    {
     "name": "stderr",
     "output_type": "stream",
     "text": [
      "2019-11-16 15:10:21 [scrapy.core.scraper] DEBUG: Scraped from <200 https://www.usedsurfboardshawaii.com/product/6ft-purington-round-tail-ref-25242/>\n",
      "{'url': 'https://www.usedsurfboardshawaii.com/product/6ft-purington-round-tail-ref-25242/', 'title': '6ft Purington Round Tail Ref# 25242', 'price': 399.0, 'description': 'Good condition Short Board with minor pressure dings and minimal signs of use', 'type': 'Thruster (Future)', 'height': 'H 6′', 'width': 'W 18 3/4″', 'thickness': 'T 2 1/2″', 'condition': 'Good', 'manufacturer': 'Purington'}\n",
      "2019-11-16 15:10:21 [scrapy.core.engine] DEBUG: Crawled (200) <GET https://www.usedsurfboardshawaii.com/product/6ft-1in-firewire-swallow-tail-ref-25434/> (referer: https://www.usedsurfboardshawaii.com/page/20/?post_type=product) ['cached']\n"
     ]
    },
    {
     "name": "stdout",
     "output_type": "stream",
     "text": [
      "Total:  25\n",
      "Processing 1 out of 25\n",
      "Processing 2 out of 25\n"
     ]
    },
    {
     "name": "stderr",
     "output_type": "stream",
     "text": [
      "2019-11-16 15:10:21 [scrapy.core.engine] DEBUG: Crawled (200) <GET https://www.usedsurfboardshawaii.com/product/5ft-10in-arakawa-round-tail-ref-25393/> (referer: https://www.usedsurfboardshawaii.com/page/20/?post_type=product) ['cached']\n",
      "2019-11-16 15:10:21 [scrapy.core.engine] DEBUG: Crawled (200) <GET https://www.usedsurfboardshawaii.com/product/5ft-11in-meeks-squash-tail-varial-foam-ref-25377/> (referer: https://www.usedsurfboardshawaii.com/page/20/?post_type=product) ['cached']\n",
      "2019-11-16 15:10:21 [scrapy.core.scraper] DEBUG: Scraped from <200 https://www.usedsurfboardshawaii.com/product/6ft-1in-firewire-swallow-tail-ref-25434/>\n",
      "{'url': 'https://www.usedsurfboardshawaii.com/product/6ft-1in-firewire-swallow-tail-ref-25434/', 'title': '6ft 4in Firewire Swallow Tail Ref# 25434', 'price': 199.0, 'description': 'Good condition Short Board with minimal signs of use.', 'type': 'Quad (FCS)', 'height': 'H 6’4″', 'width': 'W 19 3/4″', 'thickness': 'T 2 3/8″', 'condition': 'Good', 'manufacturer': 'Firewire'}\n"
     ]
    },
    {
     "name": "stdout",
     "output_type": "stream",
     "text": [
      "Processing 3 out of 25\n",
      "Processing 4 out of 25\n"
     ]
    },
    {
     "name": "stderr",
     "output_type": "stream",
     "text": [
      "2019-11-16 15:10:21 [scrapy.core.engine] DEBUG: Crawled (200) <GET https://www.usedsurfboardshawaii.com/product/5ft-10in-t-patterson-squash-tail-ref-25431/> (referer: https://www.usedsurfboardshawaii.com/page/20/?post_type=product) ['cached']\n",
      "2019-11-16 15:10:21 [scrapy.core.scraper] DEBUG: Scraped from <200 https://www.usedsurfboardshawaii.com/product/5ft-10in-arakawa-round-tail-ref-25393/>\n",
      "{'url': 'https://www.usedsurfboardshawaii.com/product/5ft-10in-arakawa-round-tail-ref-25393/', 'title': '5ft 10in Arakawa Round Tail Ref# 25393', 'price': 299.0, 'description': 'Good condition Short Board with minor pressure dings and minimal signs of use', 'type': 'Thruster (FCS2)', 'height': 'H 5’7″', 'width': 'W 18.44″', 'thickness': 'T 2.25″', 'condition': 'Good', 'manufacturer': 'Eric Arakawa'}\n",
      "2019-11-16 15:10:21 [scrapy.core.engine] DEBUG: Crawled (200) <GET https://www.usedsurfboardshawaii.com/product/7ft-sharp-eye-pin-tail-ref-25403/> (referer: https://www.usedsurfboardshawaii.com/page/20/?post_type=product) ['cached']\n",
      "2019-11-16 15:10:21 [scrapy.core.scraper] DEBUG: Scraped from <200 https://www.usedsurfboardshawaii.com/product/5ft-11in-meeks-squash-tail-varial-foam-ref-25377/>\n",
      "{'url': 'https://www.usedsurfboardshawaii.com/product/5ft-11in-meeks-squash-tail-varial-foam-ref-25377/', 'title': '5ft 11in Meeks Squash Tail (Varial Foam) Ref# 25377', 'price': 499.0, 'description': 'Good performance shortboard from North Shore pro Kaimana Henry. This board is in fair condition but has a good amount of pressure denting. Still lots of life in this board.', 'type': 'Thruster (Future)', 'height': 'H 5′ 11″', 'width': 'W 19 3/8″', 'thickness': 'T 2 3/8″', 'condition': 'Fair', 'manufacturer': 'Meeks'}\n"
     ]
    },
    {
     "name": "stdout",
     "output_type": "stream",
     "text": [
      "Processing 5 out of 25\n",
      "Processing 6 out of 25\n"
     ]
    },
    {
     "name": "stderr",
     "output_type": "stream",
     "text": [
      "2019-11-16 15:10:22 [scrapy.core.engine] DEBUG: Crawled (200) <GET https://www.usedsurfboardshawaii.com/product/6ft-6in-byrne-round-pin-tail-ref-25357/> (referer: https://www.usedsurfboardshawaii.com/page/20/?post_type=product) ['cached']\n",
      "2019-11-16 15:10:22 [scrapy.core.scraper] DEBUG: Scraped from <200 https://www.usedsurfboardshawaii.com/product/5ft-10in-t-patterson-squash-tail-ref-25431/>\n",
      "{'url': 'https://www.usedsurfboardshawaii.com/product/5ft-10in-t-patterson-squash-tail-ref-25431/', 'title': '5ft 10in T. Patterson Squash Tail Ref# 25431', 'price': 375.0, 'description': 'Good performance shortboard with a fair amount of pressure denting.', 'type': 'Thruster (FCS 2)', 'height': 'H 5′ 10″', 'width': 'W 18.5″', 'thickness': 'T 2 .26″', 'condition': 'Fair', 'manufacturer': 'Timmy Patterson'}\n",
      "2019-11-16 15:10:22 [scrapy.core.engine] DEBUG: Crawled (200) <GET https://www.usedsurfboardshawaii.com/product/5ft-8in-pang-swallow-tail-ref-25256/> (referer: https://www.usedsurfboardshawaii.com/page/20/?post_type=product) ['cached']\n",
      "2019-11-16 15:10:22 [scrapy.core.scraper] DEBUG: Scraped from <200 https://www.usedsurfboardshawaii.com/product/7ft-sharp-eye-pin-tail-ref-25403/>\n",
      "{'url': 'https://www.usedsurfboardshawaii.com/product/7ft-sharp-eye-pin-tail-ref-25403/', 'title': '7ft Sharp Eye Pin Tail Ref# 25403', 'price': 250.0, 'description': 'Good condition step-up with minimal signs of use', 'type': 'Thruster (FCS)', 'height': 'H 7′', 'width': 'W 18.5″', 'thickness': 'T 2.4″', 'condition': 'Good', 'manufacturer': 'Sharp Eye'}\n"
     ]
    },
    {
     "name": "stdout",
     "output_type": "stream",
     "text": [
      "Processing 7 out of 25\n",
      "Processing 8 out of 25\n"
     ]
    },
    {
     "name": "stderr",
     "output_type": "stream",
     "text": [
      "2019-11-16 15:10:22 [scrapy.core.engine] DEBUG: Crawled (200) <GET https://www.usedsurfboardshawaii.com/product/5ft-11-5in-mtd-squash-tail-ref-25407/> (referer: https://www.usedsurfboardshawaii.com/page/20/?post_type=product) ['cached']\n",
      "2019-11-16 15:10:22 [scrapy.core.scraper] DEBUG: Scraped from <200 https://www.usedsurfboardshawaii.com/product/6ft-6in-byrne-round-pin-tail-ref-25357/>\n",
      "{'url': 'https://www.usedsurfboardshawaii.com/product/6ft-6in-byrne-round-pin-tail-ref-25357/', 'title': '6ft 6in Byrne Round Pin Tail Ref# 25357', 'price': 275.0, 'description': 'Good condition step-up with minimal signs of use', 'type': 'Thruster (Future)', 'height': 'H 6’6″', 'width': 'W 18 3/8″', 'thickness': 'T 2 5/16″', 'condition': 'Good', 'manufacturer': 'Byrne'}\n",
      "2019-11-16 15:10:22 [scrapy.core.engine] DEBUG: Crawled (200) <GET https://www.usedsurfboardshawaii.com/product/5ft-11in-meeks-round-tail-ref-25390/> (referer: https://www.usedsurfboardshawaii.com/page/20/?post_type=product) ['cached']\n",
      "2019-11-16 15:10:22 [scrapy.core.scraper] DEBUG: Scraped from <200 https://www.usedsurfboardshawaii.com/product/5ft-8in-pang-swallow-tail-ref-25256/>\n",
      "{'url': 'https://www.usedsurfboardshawaii.com/product/5ft-8in-pang-swallow-tail-ref-25256/', 'title': '5ft 8in Pang Swallow Tail Ref# 25256', 'price': 385.0, 'description': 'Good condition short board with minimal signs of use', 'type': 'Thruster (Future)', 'height': 'H 5’8″', 'width': 'W 19 1/4″', 'thickness': 'T 2 3/8″', 'condition': 'Good', 'manufacturer': 'Pang'}\n"
     ]
    },
    {
     "name": "stdout",
     "output_type": "stream",
     "text": [
      "Processing 9 out of 25\n",
      "Processing 10 out of 25\n"
     ]
    },
    {
     "name": "stderr",
     "output_type": "stream",
     "text": [
      "2019-11-16 15:10:22 [scrapy.core.engine] DEBUG: Crawled (200) <GET https://www.usedsurfboardshawaii.com/product/6ft-2in-tokoro-squash-tail-ref-25408/> (referer: https://www.usedsurfboardshawaii.com/page/20/?post_type=product) ['cached']\n",
      "2019-11-16 15:10:22 [scrapy.core.scraper] DEBUG: Scraped from <200 https://www.usedsurfboardshawaii.com/product/5ft-11-5in-mtd-squash-tail-ref-25407/>\n",
      "{'url': 'https://www.usedsurfboardshawaii.com/product/5ft-11-5in-mtd-squash-tail-ref-25407/', 'title': '5ft 11.5in MTD Squash Tail Ref# 25407', 'price': 250.0, 'description': 'Good condition shortboard with minor pressure dents and minimal signs of use', 'type': 'Thruster (FCS)', 'height': 'H 5’11.5″', 'width': 'W 18 1/4″', 'thickness': 'T 2 1/4″', 'condition': 'Good', 'manufacturer': 'MTD'}\n",
      "2019-11-16 15:10:22 [scrapy.core.engine] DEBUG: Crawled (200) <GET https://www.usedsurfboardshawaii.com/product/5ft-8in-makani-swallow-tail-ref-25345/> (referer: https://www.usedsurfboardshawaii.com/page/20/?post_type=product) ['cached']\n",
      "2019-11-16 15:10:22 [scrapy.core.scraper] DEBUG: Scraped from <200 https://www.usedsurfboardshawaii.com/product/5ft-11in-meeks-round-tail-ref-25390/>\n",
      "{'url': 'https://www.usedsurfboardshawaii.com/product/5ft-11in-meeks-round-tail-ref-25390/', 'title': '5ft 11in Meeks Round Tail Ref# 25390', 'price': 550.0, 'description': 'Brand new shortboard', 'type': 'Thruster (FCS 2)', 'height': 'H 5’11”', 'width': 'W 19 1/8″', 'thickness': 'T 2 3/8″', 'condition': 'New', 'manufacturer': 'Meeks'}\n"
     ]
    },
    {
     "name": "stdout",
     "output_type": "stream",
     "text": [
      "Processing 11 out of 25\n",
      "Processing 12 out of 25\n"
     ]
    },
    {
     "name": "stderr",
     "output_type": "stream",
     "text": [
      "2019-11-16 15:10:23 [scrapy.core.engine] DEBUG: Crawled (200) <GET https://www.usedsurfboardshawaii.com/product/5ft-8in-pang-squash-tail-ref-25223/> (referer: https://www.usedsurfboardshawaii.com/page/20/?post_type=product) ['cached']\n",
      "2019-11-16 15:10:23 [scrapy.core.scraper] DEBUG: Scraped from <200 https://www.usedsurfboardshawaii.com/product/6ft-2in-tokoro-squash-tail-ref-25408/>\n",
      "{'url': 'https://www.usedsurfboardshawaii.com/product/6ft-2in-tokoro-squash-tail-ref-25408/', 'title': '6ft 2in Tokoro Squash Tail Ref# 25408', 'price': 250.0, 'description': 'Good condition shortboard with minor pressure dings and minimal signs of use', 'type': 'Thruster (Future)', 'height': 'H 6’2″', 'width': 'W 18 1/4″', 'thickness': 'T 2 1/4″', 'condition': 'Good', 'manufacturer': 'Tokoro'}\n",
      "2019-11-16 15:10:23 [scrapy.core.engine] DEBUG: Crawled (200) <GET https://www.usedsurfboardshawaii.com/product/6ft-6in-pyzel-round-pin-tail-ref-25222/> (referer: https://www.usedsurfboardshawaii.com/page/20/?post_type=product) ['cached']\n",
      "2019-11-16 15:10:23 [scrapy.core.scraper] DEBUG: Scraped from <200 https://www.usedsurfboardshawaii.com/product/5ft-8in-makani-swallow-tail-ref-25345/>\n",
      "{'url': 'https://www.usedsurfboardshawaii.com/product/5ft-8in-makani-swallow-tail-ref-25345/', 'title': '5ft 8in Makani Swallow Tail Ref# 25345', 'price': 225.0, 'description': 'Good condition shortboard with minor pressure dings and minimal signs of use', 'type': '5-Fin (Future)', 'height': 'H 5’8″', 'width': 'W 18 1/2″', 'thickness': 'T 2 3/8″', 'condition': 'Good', 'manufacturer': 'Makani'}\n"
     ]
    },
    {
     "name": "stdout",
     "output_type": "stream",
     "text": [
      "Processing 13 out of 25\n",
      "Processing 14 out of 25\n"
     ]
    },
    {
     "name": "stderr",
     "output_type": "stream",
     "text": [
      "2019-11-16 15:10:23 [scrapy.core.engine] DEBUG: Crawled (200) <GET https://www.usedsurfboardshawaii.com/product/5ft-11in-dennis-pang-round-tail-ref-25162/> (referer: https://www.usedsurfboardshawaii.com/page/20/?post_type=product) ['cached']\n",
      "2019-11-16 15:10:23 [scrapy.core.scraper] DEBUG: Scraped from <200 https://www.usedsurfboardshawaii.com/product/5ft-8in-pang-squash-tail-ref-25223/>\n",
      "{'url': 'https://www.usedsurfboardshawaii.com/product/5ft-8in-pang-squash-tail-ref-25223/', 'title': '5ft 8in Pang Squash Tail Ref# 25223', 'price': 250.0, 'description': 'Good condition short board with minor pressure dings and minimal signs of use.', 'type': 'Thruster (Future)', 'height': 'H 5’8″', 'width': 'W 19 3/8″', 'thickness': 'T 2 1/2″', 'condition': 'Good', 'manufacturer': 'Pang'}\n",
      "2019-11-16 15:10:23 [scrapy.core.engine] DEBUG: Crawled (200) <GET https://www.usedsurfboardshawaii.com/product/6ft-4in-schaper-swallow-tail-ref-25188/> (referer: https://www.usedsurfboardshawaii.com/page/20/?post_type=product) ['cached']\n",
      "2019-11-16 15:10:23 [scrapy.core.scraper] DEBUG: Scraped from <200 https://www.usedsurfboardshawaii.com/product/6ft-6in-pyzel-round-pin-tail-ref-25222/>\n",
      "{'url': 'https://www.usedsurfboardshawaii.com/product/6ft-6in-pyzel-round-pin-tail-ref-25222/', 'title': '6ft 6in Pyzel Round Pin Tail Ref# 25222', 'price': 300.0, 'description': 'Good condition Step-up with minimal signs of use.', 'type': 'Thruster (Futures)', 'height': 'H 6’6″', 'width': 'W 19″', 'thickness': 'T 2 5/8', 'condition': 'Good', 'manufacturer': 'Pyzel'}\n"
     ]
    },
    {
     "name": "stdout",
     "output_type": "stream",
     "text": [
      "Processing 15 out of 25\n",
      "Processing 16 out of 25\n"
     ]
    },
    {
     "name": "stderr",
     "output_type": "stream",
     "text": [
      "2019-11-16 15:10:23 [scrapy.core.engine] DEBUG: Crawled (200) <GET https://www.usedsurfboardshawaii.com/product/5ft-8in-d-pang-round-pin-tail-ref-25163/> (referer: https://www.usedsurfboardshawaii.com/page/20/?post_type=product) ['cached']\n",
      "2019-11-16 15:10:23 [scrapy.core.scraper] DEBUG: Scraped from <200 https://www.usedsurfboardshawaii.com/product/5ft-11in-dennis-pang-round-tail-ref-25162/>\n",
      "{'url': 'https://www.usedsurfboardshawaii.com/product/5ft-11in-dennis-pang-round-tail-ref-25162/', 'title': '5ft 11in Dennis Pang Round Tail Ref# 25162', 'price': 215.0, 'description': 'Good condition Short Board with minimal signs of use', 'type': 'Thruster (Future)', 'height': 'H 5’11”', 'width': 'W 16 5/16″', 'thickness': 'T 2 1/6″', 'condition': 'Good', 'manufacturer': 'D.Pang, Dennis Pang, Pang'}\n",
      "2019-11-16 15:10:23 [scrapy.core.engine] DEBUG: Crawled (200) <GET https://www.usedsurfboardshawaii.com/product/8ft-6in-nekomoto-squash-tail-ref-25056/> (referer: https://www.usedsurfboardshawaii.com/page/20/?post_type=product) ['cached']\n",
      "2019-11-16 15:10:23 [scrapy.core.scraper] DEBUG: Scraped from <200 https://www.usedsurfboardshawaii.com/product/6ft-4in-schaper-swallow-tail-ref-25188/>\n",
      "{'url': 'https://www.usedsurfboardshawaii.com/product/6ft-4in-schaper-swallow-tail-ref-25188/', 'title': '6ft 4in Simon Anderson Swallow Tail (EPS Epoxy) Ref# 25188', 'price': 399.0, 'description': 'Good condition Short Board with minor signs of use.', 'type': '5-fin (FCS)', 'height': 'H 6’4″', 'width': 'W 20 3/4″', 'thickness': 'T 2 9/16″', 'condition': 'Good', 'manufacturer': 'Schaper'}\n"
     ]
    },
    {
     "name": "stdout",
     "output_type": "stream",
     "text": [
      "Processing 17 out of 25\n",
      "Processing 18 out of 25\n"
     ]
    },
    {
     "name": "stderr",
     "output_type": "stream",
     "text": [
      "2019-11-16 15:10:23 [scrapy.core.engine] DEBUG: Crawled (200) <GET https://www.usedsurfboardshawaii.com/product/12ft-brawner-squash-tail-ref-24909/> (referer: https://www.usedsurfboardshawaii.com/page/20/?post_type=product) ['cached']\n",
      "2019-11-16 15:10:23 [scrapy.core.scraper] DEBUG: Scraped from <200 https://www.usedsurfboardshawaii.com/product/5ft-8in-d-pang-round-pin-tail-ref-25163/>\n",
      "{'url': 'https://www.usedsurfboardshawaii.com/product/5ft-8in-d-pang-round-pin-tail-ref-25163/', 'title': '5ft 8in D. Pang Round Pin Tail Ref# 25163', 'price': 215.0, 'description': 'Good condition shortboard with minor pressure dings and minimal signs of use', 'type': 'Thruster (Future)', 'height': 'H 5’8″', 'width': 'W 16″', 'thickness': 'T 2 9/16″', 'condition': 'Good', 'manufacturer': 'D.Pang'}\n",
      "2019-11-16 15:10:24 [scrapy.core.engine] DEBUG: Crawled (200) <GET https://www.usedsurfboardshawaii.com/product/10ft-6in-starboard-squash-tail-ref-24910/> (referer: https://www.usedsurfboardshawaii.com/page/20/?post_type=product) ['cached']\n",
      "2019-11-16 15:10:24 [scrapy.core.scraper] DEBUG: Scraped from <200 https://www.usedsurfboardshawaii.com/product/8ft-6in-nekomoto-squash-tail-ref-25056/>\n",
      "{'url': 'https://www.usedsurfboardshawaii.com/product/8ft-6in-nekomoto-squash-tail-ref-25056/', 'title': '8ft 6in Nekomoto Squash Tail Ref# 25056', 'price': 625.0, 'description': 'Good condition Long Board with minimal signs of use', 'type': 'Thruster (FCS)', 'height': 'H 8’6″', 'width': 'W 22 1/2″', 'thickness': 'T 3 1/8', 'condition': 'Good', 'manufacturer': 'M. Nekamoto'}\n"
     ]
    },
    {
     "name": "stdout",
     "output_type": "stream",
     "text": [
      "Processing 19 out of 25\n",
      "Processing 20 out of 25\n"
     ]
    },
    {
     "name": "stderr",
     "output_type": "stream",
     "text": [
      "2019-11-16 15:10:24 [scrapy.core.engine] DEBUG: Crawled (200) <GET https://www.usedsurfboardshawaii.com/product/6ft-6in-arakawa-round-pin-tail-ref-25019/> (referer: https://www.usedsurfboardshawaii.com/page/20/?post_type=product) ['cached']\n",
      "2019-11-16 15:10:24 [scrapy.core.scraper] DEBUG: Scraped from <200 https://www.usedsurfboardshawaii.com/product/12ft-brawner-squash-tail-ref-24909/>\n",
      "{'url': 'https://www.usedsurfboardshawaii.com/product/12ft-brawner-squash-tail-ref-24909/', 'title': '12ft Brawner Squash Tail Ref# 24909', 'price': 699.0, 'description': 'Good condition Full Carbon Race SUP With minimal signs of use', 'type': 'Single Fin', 'height': 'H 12′', 'width': 'W 26″', 'thickness': 'T 6″', 'condition': 'Good', 'manufacturer': 'Brawner'}\n",
      "2019-11-16 15:10:24 [scrapy.core.engine] DEBUG: Crawled (200) <GET https://www.usedsurfboardshawaii.com/product/9ft-6in-choy-diamond-tail-ref-15427/> (referer: https://www.usedsurfboardshawaii.com/page/20/?post_type=product) ['cached']\n",
      "2019-11-16 15:10:24 [scrapy.core.scraper] DEBUG: Scraped from <200 https://www.usedsurfboardshawaii.com/product/10ft-6in-starboard-squash-tail-ref-24910/>\n",
      "{'url': 'https://www.usedsurfboardshawaii.com/product/10ft-6in-starboard-squash-tail-ref-24910/', 'title': '10ft 6in Starboard Squash Tail Ref# 24910', 'price': 1599.0, 'description': 'Nice SUP with minimal sign of previous use.', 'type': 'Single Fin', 'height': 'H 10’6″', 'width': 'W 29.5″', 'thickness': None, 'condition': 'Good', 'manufacturer': 'Starboard'}\n"
     ]
    },
    {
     "name": "stdout",
     "output_type": "stream",
     "text": [
      "Processing 21 out of 25\n",
      "Processing 22 out of 25\n"
     ]
    },
    {
     "name": "stderr",
     "output_type": "stream",
     "text": [
      "2019-11-16 15:10:24 [scrapy.core.engine] DEBUG: Crawled (200) <GET https://www.usedsurfboardshawaii.com/product/9ft-6in-griffin-swallow-tail-ref-24826/> (referer: https://www.usedsurfboardshawaii.com/page/20/?post_type=product) ['cached']\n",
      "2019-11-16 15:10:24 [scrapy.core.scraper] DEBUG: Scraped from <200 https://www.usedsurfboardshawaii.com/product/6ft-6in-arakawa-round-pin-tail-ref-25019/>\n",
      "{'url': 'https://www.usedsurfboardshawaii.com/product/6ft-6in-arakawa-round-pin-tail-ref-25019/', 'title': '6ft 6in Arakawa Round Pin Tail Ref# 25019', 'price': 350.0, 'description': 'Nice step-up with minimal sign of previous use.', 'type': 'Thruster (Future)', 'height': 'H 6’6″', 'width': 'W 18.63″', 'thickness': 'T 2.38″', 'condition': 'Good', 'manufacturer': 'Eric Arakawa'}\n",
      "2019-11-16 15:10:24 [scrapy.core.engine] DEBUG: Crawled (200) <GET https://www.usedsurfboardshawaii.com/product/8ft-mega-round-pin-tail-ref-24901/> (referer: https://www.usedsurfboardshawaii.com/page/20/?post_type=product) ['cached']\n",
      "2019-11-16 15:10:24 [scrapy.core.scraper] DEBUG: Scraped from <200 https://www.usedsurfboardshawaii.com/product/9ft-6in-choy-diamond-tail-ref-15427/>\n",
      "{'url': 'https://www.usedsurfboardshawaii.com/product/9ft-6in-choy-diamond-tail-ref-15427/', 'title': '9ft 6in Choy Diamond Tail Ref# 15427', 'price': 799.0, 'description': 'Unique shaped gun with some minor signs of wear.', 'type': 'Quad (Glassed On)', 'height': 'H 9’6″', 'width': 'W 22 3/4″', 'thickness': 'T 3 1/2″', 'condition': 'Good', 'manufacturer': 'Carlton Choy'}\n"
     ]
    },
    {
     "name": "stdout",
     "output_type": "stream",
     "text": [
      "Processing 23 out of 25\n",
      "Processing 24 out of 25\n"
     ]
    },
    {
     "name": "stderr",
     "output_type": "stream",
     "text": [
      "2019-11-16 15:10:24 [scrapy.core.engine] DEBUG: Crawled (200) <GET https://www.usedsurfboardshawaii.com/product/6ft-6in-tokoro-round-tail-ref-24921/> (referer: https://www.usedsurfboardshawaii.com/page/20/?post_type=product) ['cached']\n",
      "2019-11-16 15:10:24 [scrapy.core.scraper] DEBUG: Scraped from <200 https://www.usedsurfboardshawaii.com/product/9ft-6in-griffin-swallow-tail-ref-24826/>\n",
      "{'url': 'https://www.usedsurfboardshawaii.com/product/9ft-6in-griffin-swallow-tail-ref-24826/', 'title': '9ft 6in Griffin Swallow Tail Ref# 24826', 'price': 399.0, 'description': 'Nice gun with minimal sign of previous use.', 'type': 'Thruster (FCS)', 'height': 'H 9’6″', 'width': 'W 23″', 'thickness': 'T 3 1/8″', 'condition': 'Good', 'manufacturer': 'Greg Griffin'}\n",
      "2019-11-16 15:10:24 [scrapy.core.engine] DEBUG: Crawled (200) <GET https://www.usedsurfboardshawaii.com/product/6ft-5in-tokoro-round-tail-ref-24920/> (referer: https://www.usedsurfboardshawaii.com/page/20/?post_type=product) ['cached']\n",
      "2019-11-16 15:10:24 [scrapy.core.scraper] DEBUG: Scraped from <200 https://www.usedsurfboardshawaii.com/product/8ft-mega-round-pin-tail-ref-24901/>\n",
      "{'url': 'https://www.usedsurfboardshawaii.com/product/8ft-mega-round-pin-tail-ref-24901/', 'title': '8ft Mega Round Pin Tail Ref# 24901', 'price': 225.0, 'description': 'Nice board with minimal sign of previous use.', 'type': 'Quad (Lock Box)', 'height': 'H 8′', 'width': 'W 19 1/2″', 'thickness': 'T 2 3/4″', 'condition': 'Good', 'manufacturer': 'Mega'}\n",
      "2019-11-16 15:10:24 [scrapy.core.engine] DEBUG: Crawled (200) <GET https://www.usedsurfboardshawaii.com/page/21/?post_type=product> (referer: https://www.usedsurfboardshawaii.com/page/20/?post_type=product) ['cached']\n",
      "2019-11-16 15:10:25 [scrapy.core.scraper] DEBUG: Scraped from <200 https://www.usedsurfboardshawaii.com/product/6ft-6in-tokoro-round-tail-ref-24921/>\n",
      "{'url': 'https://www.usedsurfboardshawaii.com/product/6ft-6in-tokoro-round-tail-ref-24921/', 'title': '6ft 6in Tokoro Round Tail Ref# 24921', 'price': 425.0, 'description': 'Good condition Step-up minimal signs of use', 'type': '5-fin (FCS2)', 'height': 'H 6’6″', 'width': 'W 18 1/2″', 'thickness': 'T 2 3/8″', 'condition': 'Good', 'manufacturer': 'Tokoro'}\n"
     ]
    },
    {
     "name": "stdout",
     "output_type": "stream",
     "text": [
      "Processing 25 out of 25\n",
      "\n",
      "https://www.usedsurfboardshawaii.com/page/21/?post_type=product\n"
     ]
    },
    {
     "name": "stderr",
     "output_type": "stream",
     "text": [
      "2019-11-16 15:10:25 [scrapy.core.scraper] DEBUG: Scraped from <200 https://www.usedsurfboardshawaii.com/product/6ft-5in-tokoro-round-tail-ref-24920/>\n",
      "{'url': 'https://www.usedsurfboardshawaii.com/product/6ft-5in-tokoro-round-tail-ref-24920/', 'title': '6ft 5in Tokoro Round Tail Ref# 24920', 'price': 399.0, 'description': 'Good condition short board with minor pressure dings and minimal signs of wear', 'type': '5-Fin (FCS2)', 'height': 'H 6′ 5″', 'width': 'W 18 3/8″', 'thickness': 'T 2 5/16', 'condition': 'Good', 'manufacturer': 'Tokoro'}\n",
      "2019-11-16 15:10:25 [scrapy.core.engine] DEBUG: Crawled (200) <GET https://www.usedsurfboardshawaii.com/product/6ft-vercelli-squash-tail-ref-25014/> (referer: https://www.usedsurfboardshawaii.com/page/21/?post_type=product) ['cached']\n"
     ]
    },
    {
     "name": "stdout",
     "output_type": "stream",
     "text": [
      "Total:  25\n",
      "Processing 1 out of 25\n",
      "Processing 2 out of 25\n"
     ]
    },
    {
     "name": "stderr",
     "output_type": "stream",
     "text": [
      "2019-11-16 15:10:25 [scrapy.core.engine] DEBUG: Crawled (200) <GET https://www.usedsurfboardshawaii.com/product/5ft-9in-kalu-round-tail-ref-24960/> (referer: https://www.usedsurfboardshawaii.com/page/21/?post_type=product) ['cached']\n",
      "2019-11-16 15:10:25 [scrapy.core.engine] DEBUG: Crawled (200) <GET https://www.usedsurfboardshawaii.com/product/6ft-10in-minami-round-pin-tail-ref-25021/> (referer: https://www.usedsurfboardshawaii.com/page/21/?post_type=product) ['cached']\n",
      "2019-11-16 15:10:25 [scrapy.core.scraper] DEBUG: Scraped from <200 https://www.usedsurfboardshawaii.com/product/6ft-vercelli-squash-tail-ref-25014/>\n",
      "{'url': 'https://www.usedsurfboardshawaii.com/product/6ft-vercelli-squash-tail-ref-25014/', 'title': '6ft Vercelli Squash Tail Ref# 25014', 'price': 299.0, 'description': 'Good Condition Short board with small nose ding but minimal signs of use', 'type': '5-Fin(FCS2)', 'height': 'H 6’0″', 'width': 'W 19 3/8', 'thickness': 'T 2 1/4', 'condition': 'Good', 'manufacturer': 'Vercelli'}\n"
     ]
    },
    {
     "name": "stdout",
     "output_type": "stream",
     "text": [
      "Processing 3 out of 25\n",
      "Processing 4 out of 25\n"
     ]
    },
    {
     "name": "stderr",
     "output_type": "stream",
     "text": [
      "2019-11-16 15:10:25 [scrapy.core.engine] DEBUG: Crawled (200) <GET https://www.usedsurfboardshawaii.com/product/6ft-6in-minami-round-pin-tail-ref-25020/> (referer: https://www.usedsurfboardshawaii.com/page/21/?post_type=product) ['cached']\n",
      "2019-11-16 15:10:25 [scrapy.core.scraper] DEBUG: Scraped from <200 https://www.usedsurfboardshawaii.com/product/5ft-9in-kalu-round-tail-ref-24960/>\n",
      "{'url': 'https://www.usedsurfboardshawaii.com/product/5ft-9in-kalu-round-tail-ref-24960/', 'title': '5ft 9in Kalu Round Tail Ref# 24960', 'price': 299.0, 'description': 'Good Condition Short Board with minor signs of wear', 'type': 'Thruster (Future)', 'height': 'H 5′ 9″', 'width': 'W\\xa0 17 3/4″', 'thickness': 'T 2 1/8', 'condition': 'Good', 'manufacturer': 'Kalu'}\n",
      "2019-11-16 15:10:25 [scrapy.core.engine] DEBUG: Crawled (200) <GET https://www.usedsurfboardshawaii.com/product/5ft-8in-kalu-squash-tail-ref-24959/> (referer: https://www.usedsurfboardshawaii.com/page/21/?post_type=product) ['cached']\n",
      "2019-11-16 15:10:25 [scrapy.core.scraper] DEBUG: Scraped from <200 https://www.usedsurfboardshawaii.com/product/6ft-10in-minami-round-pin-tail-ref-25021/>\n",
      "{'url': 'https://www.usedsurfboardshawaii.com/product/6ft-10in-minami-round-pin-tail-ref-25021/', 'title': '6ft 10in Minami Round Pin Tail Ref# 25021', 'price': 350.0, 'description': 'Good condition Step-up Board with minor signs of wear', 'type': 'Thruster (Glassed on)', 'height': 'H 6’10”', 'width': 'W 18 1/2″', 'thickness': 'T 2 9/10″', 'condition': 'Good', 'manufacturer': 'Minami'}\n"
     ]
    },
    {
     "name": "stdout",
     "output_type": "stream",
     "text": [
      "Processing 5 out of 25\n",
      "Processing 6 out of 25\n"
     ]
    },
    {
     "name": "stderr",
     "output_type": "stream",
     "text": [
      "2019-11-16 15:10:25 [scrapy.core.engine] DEBUG: Crawled (200) <GET https://www.usedsurfboardshawaii.com/product/6ft-8in-schaper-round-tail-ref-24955/> (referer: https://www.usedsurfboardshawaii.com/page/21/?post_type=product) ['cached']\n",
      "2019-11-16 15:10:25 [scrapy.core.scraper] DEBUG: Scraped from <200 https://www.usedsurfboardshawaii.com/product/6ft-6in-minami-round-pin-tail-ref-25020/>\n",
      "{'url': 'https://www.usedsurfboardshawaii.com/product/6ft-6in-minami-round-pin-tail-ref-25020/', 'title': '6ft 6in Minami Round Pin Tail Ref# 25020', 'price': 450.0, 'description': 'Good Condition ShortBoard with minimal signs of use', 'type': 'Thruster (glassed on)', 'height': 'H 6’6″', 'width': 'W 18 1/2″', 'thickness': 'T 2 3/8″', 'condition': 'Good', 'manufacturer': 'Minami'}\n",
      "2019-11-16 15:10:26 [scrapy.core.engine] DEBUG: Crawled (200) <GET https://www.usedsurfboardshawaii.com/product/6ft-2in-kalu-round-tail-ref-24958/> (referer: https://www.usedsurfboardshawaii.com/page/21/?post_type=product) ['cached']\n",
      "2019-11-16 15:10:26 [scrapy.core.scraper] DEBUG: Scraped from <200 https://www.usedsurfboardshawaii.com/product/5ft-8in-kalu-squash-tail-ref-24959/>\n",
      "{'url': 'https://www.usedsurfboardshawaii.com/product/5ft-8in-kalu-squash-tail-ref-24959/', 'title': '5ft 8in Kalu Squash Tail Ref# 24959', 'price': 299.0, 'description': 'Good Condition ShortBoard With very minimal pressure dings', 'type': 'Thruster (Future)', 'height': 'H 5’8″', 'width': 'W 18 5/8″', 'thickness': 'T 2 1/2″', 'condition': 'Good', 'manufacturer': 'Kalu'}\n"
     ]
    },
    {
     "name": "stdout",
     "output_type": "stream",
     "text": [
      "Processing 7 out of 25\n",
      "Processing 8 out of 25\n"
     ]
    },
    {
     "name": "stderr",
     "output_type": "stream",
     "text": [
      "2019-11-16 15:10:26 [scrapy.core.engine] DEBUG: Crawled (200) <GET https://www.usedsurfboardshawaii.com/product/5ft-8in-kazuma-squash-tail-ref-24987/> (referer: https://www.usedsurfboardshawaii.com/page/21/?post_type=product) ['cached']\n",
      "2019-11-16 15:10:26 [scrapy.core.scraper] DEBUG: Scraped from <200 https://www.usedsurfboardshawaii.com/product/6ft-8in-schaper-round-tail-ref-24955/>\n",
      "{'url': 'https://www.usedsurfboardshawaii.com/product/6ft-8in-schaper-round-tail-ref-24955/', 'title': '6ft 8in Schaper Round Tail Ref# 24955', 'price': 300.0, 'description': 'Good Condition Step-Up Board with minimal signs of use', 'type': 'Thruster (Future)', 'height': 'H 6’8″', 'width': 'W 19″', 'thickness': 'T 2 9/18', 'condition': 'Good', 'manufacturer': 'Schaper'}\n",
      "2019-11-16 15:10:26 [scrapy.core.engine] DEBUG: Crawled (200) <GET https://www.usedsurfboardshawaii.com/product/6ft-6in-tokoro-round-tail-ref-24913/> (referer: https://www.usedsurfboardshawaii.com/page/21/?post_type=product) ['cached']\n",
      "2019-11-16 15:10:26 [scrapy.core.scraper] DEBUG: Scraped from <200 https://www.usedsurfboardshawaii.com/product/6ft-2in-kalu-round-tail-ref-24958/>\n",
      "{'url': 'https://www.usedsurfboardshawaii.com/product/6ft-2in-kalu-round-tail-ref-24958/', 'title': '6ft 2in Kalu Round Tail Ref# 24958', 'price': 299.0, 'description': 'Good Condition ShortBoard with Minor signs of use', 'type': 'Thruster (Future)', 'height': 'H 6′ 2″', 'width': 'W\\xa0 18 1/4″', 'thickness': 'T 2 3/16″', 'condition': 'Good', 'manufacturer': 'Kalu'}\n"
     ]
    },
    {
     "name": "stdout",
     "output_type": "stream",
     "text": [
      "Processing 9 out of 25\n",
      "Processing 10 out of 25\n"
     ]
    },
    {
     "name": "stderr",
     "output_type": "stream",
     "text": [
      "2019-11-16 15:10:26 [scrapy.core.engine] DEBUG: Crawled (200) <GET https://www.usedsurfboardshawaii.com/product/6ft-5in-tokoro-round-tail-ref-24916/> (referer: https://www.usedsurfboardshawaii.com/page/21/?post_type=product) ['cached']\n",
      "2019-11-16 15:10:26 [scrapy.core.scraper] DEBUG: Scraped from <200 https://www.usedsurfboardshawaii.com/product/5ft-8in-kazuma-squash-tail-ref-24987/>\n",
      "{'url': 'https://www.usedsurfboardshawaii.com/product/5ft-8in-kazuma-squash-tail-ref-24987/', 'title': '5ft 8in Kazuma Squash Tail Ref# 24987', 'price': 325.0, 'description': 'Good condition ShortBoard with very minimal signs of use', 'type': 'Thruster (FCS2)', 'height': 'H 5′ 8″', 'width': 'W 19.375″', 'thickness': 'T 2.371″', 'condition': 'Good', 'manufacturer': 'Kazuma'}\n",
      "2019-11-16 15:10:26 [scrapy.core.engine] DEBUG: Crawled (200) <GET https://www.usedsurfboardshawaii.com/product/90192/> (referer: https://www.usedsurfboardshawaii.com/page/21/?post_type=product) ['cached']\n",
      "2019-11-16 15:10:26 [scrapy.core.scraper] DEBUG: Scraped from <200 https://www.usedsurfboardshawaii.com/product/6ft-6in-tokoro-round-tail-ref-24913/>\n",
      "{'url': 'https://www.usedsurfboardshawaii.com/product/6ft-6in-tokoro-round-tail-ref-24913/', 'title': '6ft 6in Tokoro Round Tail Ref# 24913', 'price': 499.0, 'description': 'Good Condition Step-Up board with some pressure dings and minimal signs of use', 'type': '5-Fin (FCS2)', 'height': 'H 6’6″', 'width': 'W 18 7/16″', 'thickness': 'T 2 5/16″', 'condition': 'Good', 'manufacturer': 'Tokoro'}\n"
     ]
    },
    {
     "name": "stdout",
     "output_type": "stream",
     "text": [
      "Processing 11 out of 25\n",
      "Processing 12 out of 25\n"
     ]
    },
    {
     "name": "stderr",
     "output_type": "stream",
     "text": [
      "2019-11-16 15:10:26 [scrapy.core.engine] DEBUG: Crawled (200) <GET https://www.usedsurfboardshawaii.com/product/6ft-8in-tokoro-round-tail-ref-24912/> (referer: https://www.usedsurfboardshawaii.com/page/21/?post_type=product) ['cached']\n",
      "2019-11-16 15:10:26 [scrapy.core.scraper] DEBUG: Scraped from <200 https://www.usedsurfboardshawaii.com/product/6ft-5in-tokoro-round-tail-ref-24916/>\n",
      "{'url': 'https://www.usedsurfboardshawaii.com/product/6ft-5in-tokoro-round-tail-ref-24916/', 'title': '6ft 5in Tokoro Round Tail Ref# 24916', 'price': 650.0, 'description': 'New stepup with no previous use.', 'type': '5-Fin (FCS 2)', 'height': 'H 6’5″', 'width': 'W 18 7/16″', 'thickness': 'T 2 5/16″', 'condition': 'Good', 'manufacturer': 'Tokoro'}\n",
      "2019-11-16 15:10:26 [scrapy.core.engine] DEBUG: Crawled (200) <GET https://www.usedsurfboardshawaii.com/product/7ft-chili-round-tail-ref-24990/> (referer: https://www.usedsurfboardshawaii.com/page/21/?post_type=product) ['cached']\n",
      "2019-11-16 15:10:26 [scrapy.core.scraper] DEBUG: Scraped from <200 https://www.usedsurfboardshawaii.com/product/90192/>\n",
      "{'url': 'https://www.usedsurfboardshawaii.com/product/90192/', 'title': '5ft 7in Local Motion Squash Tail Ref# 25004', 'price': 425.0, 'description': 'Nice shortboard with minimal sign of previous use.', 'type': 'Thruster (FCS 2)', 'height': 'H 5’7″', 'width': 'W 18 3/8′', 'thickness': 'T 2 5/15″', 'condition': 'Good', 'manufacturer': 'Local Motion'}\n"
     ]
    },
    {
     "name": "stdout",
     "output_type": "stream",
     "text": [
      "Processing 13 out of 25\n",
      "Processing 14 out of 25\n"
     ]
    },
    {
     "name": "stderr",
     "output_type": "stream",
     "text": [
      "2019-11-16 15:10:27 [scrapy.core.engine] DEBUG: Crawled (200) <GET https://www.usedsurfboardshawaii.com/product/6ft-6in-proctor-swallow-tail-ref-24957/> (referer: https://www.usedsurfboardshawaii.com/page/21/?post_type=product) ['cached']\n",
      "2019-11-16 15:10:27 [scrapy.core.scraper] DEBUG: Scraped from <200 https://www.usedsurfboardshawaii.com/product/6ft-8in-tokoro-round-tail-ref-24912/>\n",
      "{'url': 'https://www.usedsurfboardshawaii.com/product/6ft-8in-tokoro-round-tail-ref-24912/', 'title': '6ft 8in Tokoro Round Tail Ref# 24912', 'price': 440.0, 'description': 'Nice stepup with minimal sign of previous use.', 'type': '5-Fin (Future)', 'height': 'H 6’8″', 'width': 'W 18 1/4″', 'thickness': 'T 2 1/4″', 'condition': 'Good', 'manufacturer': 'Tokoro'}\n",
      "2019-11-16 15:10:27 [scrapy.core.engine] DEBUG: Crawled (200) <GET https://www.usedsurfboardshawaii.com/product/6ft-10in-al-merrick-round-tail-glass-on-ref-24886/> (referer: https://www.usedsurfboardshawaii.com/page/21/?post_type=product) ['cached']\n",
      "2019-11-16 15:10:27 [scrapy.core.scraper] DEBUG: Scraped from <200 https://www.usedsurfboardshawaii.com/product/7ft-chili-round-tail-ref-24990/>\n",
      "{'url': 'https://www.usedsurfboardshawaii.com/product/7ft-chili-round-tail-ref-24990/', 'title': '7ft Chili Round Tail Ref# 24990', 'price': 200.0, 'description': 'Nice stepup with minimal sign of previous use.', 'type': 'Thruster (Future)', 'height': 'H 7′', 'width': 'W 19″', 'thickness': 'T 2 1/2″', 'condition': 'Good', 'manufacturer': 'Chilli'}\n"
     ]
    },
    {
     "name": "stdout",
     "output_type": "stream",
     "text": [
      "Processing 15 out of 25\n",
      "Processing 16 out of 25\n"
     ]
    },
    {
     "name": "stderr",
     "output_type": "stream",
     "text": [
      "2019-11-16 15:10:27 [scrapy.core.engine] DEBUG: Crawled (200) <GET https://www.usedsurfboardshawaii.com/product/5ft-6in-pyzel-next-step-ref-24849/> (referer: https://www.usedsurfboardshawaii.com/page/21/?post_type=product) ['cached']\n",
      "2019-11-16 15:10:27 [scrapy.core.scraper] DEBUG: Scraped from <200 https://www.usedsurfboardshawaii.com/product/6ft-6in-proctor-swallow-tail-ref-24957/>\n",
      "{'url': 'https://www.usedsurfboardshawaii.com/product/6ft-6in-proctor-swallow-tail-ref-24957/', 'title': '6ft 6in Proctor Swallow Tail Ref# 24956', 'price': 240.0, 'description': 'Nice stepup with minimal sign of previous use.', 'type': 'Thruster (Future)', 'height': 'H 6’6″', 'width': 'W 18 1/2″', 'thickness': 'T 2 7/16″', 'condition': 'Good', 'manufacturer': 'Proctor'}\n",
      "2019-11-16 15:10:27 [scrapy.core.engine] DEBUG: Crawled (200) <GET https://www.usedsurfboardshawaii.com/product/5ft-6in-ian-swallow-tail-ref-24844/> (referer: https://www.usedsurfboardshawaii.com/page/21/?post_type=product) ['cached']\n",
      "2019-11-16 15:10:27 [scrapy.core.scraper] DEBUG: Scraped from <200 https://www.usedsurfboardshawaii.com/product/6ft-10in-al-merrick-round-tail-glass-on-ref-24886/>\n",
      "{'url': 'https://www.usedsurfboardshawaii.com/product/6ft-10in-al-merrick-round-tail-glass-on-ref-24886/', 'title': '6ft 10in Al Merrick From Pro Ezekiel Lau w/ Glass On Ref# 24886', 'price': 450.0, 'description': 'Good condition shortboard step-up, if it worked for a WSL pro surfer it should be good for you too.', 'type': 'Thruster (Glassed On)', 'height': 'H 6’10”', 'width': 'W 18 7/8″', 'thickness': 'T 2 3/8″', 'condition': 'Good', 'manufacturer': 'Al Merrick'}\n"
     ]
    },
    {
     "name": "stdout",
     "output_type": "stream",
     "text": [
      "Processing 17 out of 25\n",
      "Processing 18 out of 25\n"
     ]
    },
    {
     "name": "stderr",
     "output_type": "stream",
     "text": [
      "2019-11-16 15:10:27 [scrapy.core.engine] DEBUG: Crawled (200) <GET https://www.usedsurfboardshawaii.com/product/5ft-9in-mitachi-round-tail-ref-24811/> (referer: https://www.usedsurfboardshawaii.com/page/21/?post_type=product) ['cached']\n",
      "2019-11-16 15:10:27 [scrapy.core.scraper] DEBUG: Scraped from <200 https://www.usedsurfboardshawaii.com/product/5ft-6in-pyzel-next-step-ref-24849/>\n",
      "{'url': 'https://www.usedsurfboardshawaii.com/product/5ft-6in-pyzel-next-step-ref-24849/', 'title': '5ft 6in Pyzel (Next Step) Ref# 24849', 'price': 285.0, 'description': 'Good north shore board for a grom. Fair condition with some normal pressure denting.', 'type': 'Thruster (Future)', 'height': 'H 5’6″', 'width': 'W 16 3/4″', 'thickness': 'T 2″', 'condition': 'Fair', 'manufacturer': 'Pyzel'}\n",
      "2019-11-16 15:10:27 [scrapy.core.engine] DEBUG: Crawled (200) <GET https://www.usedsurfboardshawaii.com/product/6ft-3in-schaper-pin-tail-ref-24810/> (referer: https://www.usedsurfboardshawaii.com/page/21/?post_type=product) ['cached']\n",
      "2019-11-16 15:10:27 [scrapy.core.scraper] DEBUG: Scraped from <200 https://www.usedsurfboardshawaii.com/product/5ft-6in-ian-swallow-tail-ref-24844/>\n",
      "{'url': 'https://www.usedsurfboardshawaii.com/product/5ft-6in-ian-swallow-tail-ref-24844/', 'title': '5ft 6in Ian Swallow Tail Ref# 24844', 'price': 285.0, 'description': 'Nice shortboard with minimal sign of previous use.', 'type': 'Quad (FCS)', 'height': 'H 5’6″', 'width': 'W 19″', 'thickness': 'T 3″', 'condition': 'Good', 'manufacturer': 'Ian'}\n"
     ]
    },
    {
     "name": "stdout",
     "output_type": "stream",
     "text": [
      "Processing 19 out of 25\n",
      "Processing 20 out of 25\n"
     ]
    },
    {
     "name": "stderr",
     "output_type": "stream",
     "text": [
      "2019-11-16 15:10:27 [scrapy.core.engine] DEBUG: Crawled (200) <GET https://www.usedsurfboardshawaii.com/product/6ft-5in-jk-squash-tail-ref-24694/> (referer: https://www.usedsurfboardshawaii.com/page/21/?post_type=product) ['cached']\n",
      "2019-11-16 15:10:28 [scrapy.core.scraper] DEBUG: Scraped from <200 https://www.usedsurfboardshawaii.com/product/5ft-9in-mitachi-round-tail-ref-24811/>\n",
      "{'url': 'https://www.usedsurfboardshawaii.com/product/5ft-9in-mitachi-round-tail-ref-24811/', 'title': '5ft 9in Mitachi Round Tail Ref# 24811', 'price': 260.0, 'description': 'Nice shortboard with minimal sign of previous use.', 'type': 'Quad Fin (FCS)', 'height': 'H 5’9″', 'width': 'W 19 1/8″', 'thickness': 'T 2 3/18″', 'condition': 'Good', 'manufacturer': 'Mitachi'}\n",
      "2019-11-16 15:10:28 [scrapy.core.engine] DEBUG: Crawled (200) <GET https://www.usedsurfboardshawaii.com/product/7ft-b-jonson-pin-tail-ref-24677-malia-manuels/> (referer: https://www.usedsurfboardshawaii.com/page/21/?post_type=product) ['cached']\n",
      "2019-11-16 15:10:28 [scrapy.core.scraper] DEBUG: Scraped from <200 https://www.usedsurfboardshawaii.com/product/6ft-3in-schaper-pin-tail-ref-24810/>\n",
      "{'url': 'https://www.usedsurfboardshawaii.com/product/6ft-3in-schaper-pin-tail-ref-24810/', 'title': '6ft 3in Schaper Pin Tail Ref# 24810', 'price': 260.0, 'description': 'Nice stepup with minimal sign of previous use.', 'type': 'Thruster (FCS)', 'height': 'H 6’3″', 'width': 'W 18 1/2″', 'thickness': 'T 2 1/2″', 'condition': 'Good', 'manufacturer': 'Schaper'}\n"
     ]
    },
    {
     "name": "stdout",
     "output_type": "stream",
     "text": [
      "Processing 21 out of 25\n",
      "Processing 22 out of 25\n"
     ]
    },
    {
     "name": "stderr",
     "output_type": "stream",
     "text": [
      "2019-11-16 15:10:28 [scrapy.core.engine] DEBUG: Crawled (200) <GET https://www.usedsurfboardshawaii.com/product/6ft-6in-b-jonson-pin-tail-ref-24678-malia-manuels-board/> (referer: https://www.usedsurfboardshawaii.com/page/21/?post_type=product) ['cached']\n",
      "2019-11-16 15:10:28 [scrapy.core.scraper] DEBUG: Scraped from <200 https://www.usedsurfboardshawaii.com/product/6ft-5in-jk-squash-tail-ref-24694/>\n",
      "{'url': 'https://www.usedsurfboardshawaii.com/product/6ft-5in-jk-squash-tail-ref-24694/', 'title': '6ft 5in JK Squash Tail Ref# 24694', 'price': 475.0, 'description': 'New board.', 'type': '5-Fin (Future)', 'height': 'H 6’5″', 'width': 'W 22″', 'thickness': 'T 3″', 'condition': 'Good', 'manufacturer': 'JK Surfboards'}\n",
      "2019-11-16 15:10:28 [scrapy.core.engine] DEBUG: Crawled (200) <GET https://www.usedsurfboardshawaii.com/product/9ft-10in-tom-nellis-squash-tail-ref-12703/> (referer: https://www.usedsurfboardshawaii.com/page/21/?post_type=product) ['cached']\n",
      "2019-11-16 15:10:28 [scrapy.core.scraper] DEBUG: Scraped from <200 https://www.usedsurfboardshawaii.com/product/7ft-b-jonson-pin-tail-ref-24677-malia-manuels/>\n",
      "{'url': 'https://www.usedsurfboardshawaii.com/product/7ft-b-jonson-pin-tail-ref-24677-malia-manuels/', 'title': '7ft B. Jonson Pin Tail Ref# 24677 (Malia Manuel’s)', 'price': 350.0, 'description': 'Malia Manuel’s step-up board.', 'type': 'Thruster (Future)', 'height': 'H 7′', 'width': 'W 18 3/8″', 'thickness': 'T 2 1/8″', 'condition': 'Good', 'manufacturer': 'B. Jonson'}\n"
     ]
    },
    {
     "name": "stdout",
     "output_type": "stream",
     "text": [
      "Processing 23 out of 25\n",
      "Processing 24 out of 25\n"
     ]
    },
    {
     "name": "stderr",
     "output_type": "stream",
     "text": [
      "2019-11-16 15:10:28 [scrapy.core.engine] DEBUG: Crawled (200) <GET https://www.usedsurfboardshawaii.com/product/10ft-2in-bark-pin-tail-ref-24381/> (referer: https://www.usedsurfboardshawaii.com/page/21/?post_type=product) ['cached']\n",
      "2019-11-16 15:10:28 [scrapy.core.scraper] DEBUG: Scraped from <200 https://www.usedsurfboardshawaii.com/product/6ft-6in-b-jonson-pin-tail-ref-24678-malia-manuels-board/>\n",
      "{'url': 'https://www.usedsurfboardshawaii.com/product/6ft-6in-b-jonson-pin-tail-ref-24678-malia-manuels-board/', 'title': '6ft 6in B. Jonson Pin Tail Ref# 24678 (Malia Manuel’s Board)', 'price': 350.0, 'description': 'Malia Manuel’s Step-up board.', 'type': 'Thruster (Future)', 'height': 'H 6’6″', 'width': 'W 18″', 'thickness': 'T 2.13″', 'condition': 'Good', 'manufacturer': 'B. Jonson'}\n",
      "2019-11-16 15:10:28 [scrapy.core.engine] DEBUG: Crawled (200) <GET https://www.usedsurfboardshawaii.com/product/7ft-10in-gerry-lopez/> (referer: https://www.usedsurfboardshawaii.com/page/21/?post_type=product) ['cached']\n",
      "2019-11-16 15:10:28 [scrapy.core.scraper] DEBUG: Scraped from <200 https://www.usedsurfboardshawaii.com/product/9ft-10in-tom-nellis-squash-tail-ref-12703/>\n",
      "{'url': 'https://www.usedsurfboardshawaii.com/product/9ft-10in-tom-nellis-squash-tail-ref-12703/', 'title': '9ft 10in Tom Nellis Squash Tail Ref# 12703', 'price': 350.0, 'description': 'Nice gun with small ding repair on bottom.', 'type': 'Thruster (Glass On)', 'height': 'H 9’10”', 'width': 'W 22″', 'thickness': 'T 3 1/2″', 'condition': 'Good', 'manufacturer': 'Tom Nellis'}\n",
      "2019-11-16 15:10:28 [scrapy.core.engine] DEBUG: Crawled (200) <GET https://www.usedsurfboardshawaii.com/page/22/?post_type=product> (referer: https://www.usedsurfboardshawaii.com/page/21/?post_type=product) ['cached']\n",
      "2019-11-16 15:10:28 [scrapy.core.scraper] DEBUG: Scraped from <200 https://www.usedsurfboardshawaii.com/product/10ft-2in-bark-pin-tail-ref-24381/>\n",
      "{'url': 'https://www.usedsurfboardshawaii.com/product/10ft-2in-bark-pin-tail-ref-24381/', 'title': '10ft 2in Bark Pin Tail Ref# 24381', 'price': 875.0, 'description': 'Nice gun with minimal sign of previous use.', 'type': 'Thruster (Future)', 'height': 'H 10’2″', 'width': 'W 21.5″', 'thickness': 'T 3 3/4″', 'condition': 'Good', 'manufacturer': 'Bark'}\n"
     ]
    },
    {
     "name": "stdout",
     "output_type": "stream",
     "text": [
      "Processing 25 out of 25\n",
      "\n",
      "https://www.usedsurfboardshawaii.com/page/22/?post_type=product\n"
     ]
    },
    {
     "name": "stderr",
     "output_type": "stream",
     "text": [
      "2019-11-16 15:10:28 [scrapy.core.scraper] DEBUG: Scraped from <200 https://www.usedsurfboardshawaii.com/product/7ft-10in-gerry-lopez/>\n",
      "{'url': 'https://www.usedsurfboardshawaii.com/product/7ft-10in-gerry-lopez/', 'title': '7ft 10in Gerry Lopez Pin Tail Ref# 24671', 'price': 275.0, 'description': 'Nice step up with small fin repair.', 'type': 'Thruster (Glass On)', 'height': 'H 7’10”', 'width': 'W 18″', 'thickness': 'T 2 3/4″', 'condition': 'Good', 'manufacturer': 'Gerry Lopez'}\n",
      "2019-11-16 15:10:29 [scrapy.core.engine] DEBUG: Crawled (200) <GET https://www.usedsurfboardshawaii.com/product/9ft-2in-d-pang-pin-tail-ref-24781/> (referer: https://www.usedsurfboardshawaii.com/page/22/?post_type=product) ['cached']\n"
     ]
    },
    {
     "name": "stdout",
     "output_type": "stream",
     "text": [
      "Total:  25\n",
      "Processing 1 out of 25\n",
      "Processing 2 out of 25\n"
     ]
    },
    {
     "name": "stderr",
     "output_type": "stream",
     "text": [
      "2019-11-16 15:10:29 [scrapy.core.engine] DEBUG: Crawled (200) <GET https://www.usedsurfboardshawaii.com/product/5ft-8in-raynor-round-tail-ref-24681/> (referer: https://www.usedsurfboardshawaii.com/page/22/?post_type=product) ['cached']\n",
      "2019-11-16 15:10:29 [scrapy.core.engine] DEBUG: Crawled (200) <GET https://www.usedsurfboardshawaii.com/product/11ft-4in-bret-big-wave-gun-quad-ref-23410/> (referer: https://www.usedsurfboardshawaii.com/page/22/?post_type=product) ['cached']\n",
      "2019-11-16 15:10:29 [scrapy.core.scraper] DEBUG: Scraped from <200 https://www.usedsurfboardshawaii.com/product/9ft-2in-d-pang-pin-tail-ref-24781/>\n",
      "{'url': 'https://www.usedsurfboardshawaii.com/product/9ft-2in-d-pang-pin-tail-ref-24781/', 'title': '9ft 2in D. Pang Pin Tail Ref# 24781', 'price': 550.0, 'description': '\\xa0', 'type': 'Thruster (Future)', 'height': 'H 9’2″', 'width': 'W 21 1/2″', 'thickness': 'T 3 3/5″', 'condition': 'Good', 'manufacturer': 'D.Pang'}\n"
     ]
    },
    {
     "name": "stdout",
     "output_type": "stream",
     "text": [
      "Processing 3 out of 25\n",
      "Processing 4 out of 25\n"
     ]
    },
    {
     "name": "stderr",
     "output_type": "stream",
     "text": [
      "2019-11-16 15:10:29 [scrapy.core.engine] DEBUG: Crawled (200) <GET https://www.usedsurfboardshawaii.com/product/5ft-9in-lost-squash-tail-ref-24542/> (referer: https://www.usedsurfboardshawaii.com/page/22/?post_type=product) ['cached']\n",
      "2019-11-16 15:10:29 [scrapy.core.scraper] DEBUG: Scraped from <200 https://www.usedsurfboardshawaii.com/product/5ft-8in-raynor-round-tail-ref-24681/>\n",
      "{'url': 'https://www.usedsurfboardshawaii.com/product/5ft-8in-raynor-round-tail-ref-24681/', 'title': '5ft 8in Raynor Round Tail Ref# 24681', 'price': 275.0, 'description': 'Solid standard', 'type': '5-Fin (FCS)', 'height': 'H 5’8″', 'width': 'W 18 3/4″', 'thickness': 'T 2 1/4″', 'condition': 'Good', 'manufacturer': 'Raynor'}\n",
      "2019-11-16 15:10:29 [scrapy.core.engine] DEBUG: Crawled (200) <GET https://www.usedsurfboardshawaii.com/product/5ft-4in-tokoro-round-tail-ref-24673/> (referer: https://www.usedsurfboardshawaii.com/page/22/?post_type=product) ['cached']\n",
      "2019-11-16 15:10:29 [scrapy.core.scraper] DEBUG: Scraped from <200 https://www.usedsurfboardshawaii.com/product/11ft-4in-bret-big-wave-gun-quad-ref-23410/>\n",
      "{'url': 'https://www.usedsurfboardshawaii.com/product/11ft-4in-bret-big-wave-gun-quad-ref-23410/', 'title': '11ft 4in Bret Big Wave Gun (Quad) Ref# 23410', 'price': 899.0, 'description': 'Ready for the big stuff, this is the board that will take you there. In near perfect shape with no dings, damage, or previous repairs. ON SALE', 'type': 'Quad (Future)', 'height': 'H 11’4″', 'width': 'W 22.25″', 'thickness': 'T 4.25″', 'condition': 'Like New', 'manufacturer': 'Bret'}\n"
     ]
    },
    {
     "name": "stdout",
     "output_type": "stream",
     "text": [
      "Processing 5 out of 25\n",
      "Processing 6 out of 25\n"
     ]
    },
    {
     "name": "stderr",
     "output_type": "stream",
     "text": [
      "2019-11-16 15:10:29 [scrapy.core.engine] DEBUG: Crawled (200) <GET https://www.usedsurfboardshawaii.com/product/6ft-6in-wooley-round-tail-ref-24638/> (referer: https://www.usedsurfboardshawaii.com/page/22/?post_type=product) ['cached']\n",
      "2019-11-16 15:10:29 [scrapy.core.scraper] DEBUG: Scraped from <200 https://www.usedsurfboardshawaii.com/product/5ft-9in-lost-squash-tail-ref-24542/>\n",
      "{'url': 'https://www.usedsurfboardshawaii.com/product/5ft-9in-lost-squash-tail-ref-24542/', 'title': '5ft 9in Lost Squash Tail Ref# 24542', 'price': 399.0, 'description': 'Volume 23.5 L', 'type': 'Thruster (Glass On)', 'height': 'H 5′ 9″', 'width': 'W 18.25″', 'thickness': 'T 2.18″', 'condition': 'Fair', 'manufacturer': 'Lost, Mayhem'}\n",
      "2019-11-16 15:10:29 [scrapy.core.engine] DEBUG: Crawled (200) <GET https://www.usedsurfboardshawaii.com/product/6ft-4in-bushman-round-tail-ref-24666/> (referer: https://www.usedsurfboardshawaii.com/page/22/?post_type=product) ['cached']\n",
      "2019-11-16 15:10:29 [scrapy.core.scraper] DEBUG: Scraped from <200 https://www.usedsurfboardshawaii.com/product/5ft-4in-tokoro-round-tail-ref-24673/>\n",
      "{'url': 'https://www.usedsurfboardshawaii.com/product/5ft-4in-tokoro-round-tail-ref-24673/', 'title': '5ft 4in Tokoro Round Tail Ref# 24673', 'price': 475.0, 'description': 'Nice shortboard with minimal sign of previous use.', 'type': '5-Fin (FCS)', 'height': 'H 5’4″', 'width': 'W 20 1/4″', 'thickness': 'T 2 3/16″', 'condition': 'Good', 'manufacturer': 'Tokoro'}\n"
     ]
    },
    {
     "name": "stdout",
     "output_type": "stream",
     "text": [
      "Processing 7 out of 25\n",
      "Processing 8 out of 25\n"
     ]
    },
    {
     "name": "stderr",
     "output_type": "stream",
     "text": [
      "2019-11-16 15:10:29 [scrapy.core.engine] DEBUG: Crawled (200) <GET https://www.usedsurfboardshawaii.com/product/8ft-lakeshore-kids-sup-ref-24454/> (referer: https://www.usedsurfboardshawaii.com/page/22/?post_type=product) ['cached']\n",
      "2019-11-16 15:10:30 [scrapy.core.scraper] DEBUG: Scraped from <200 https://www.usedsurfboardshawaii.com/product/6ft-6in-wooley-round-tail-ref-24638/>\n",
      "{'url': 'https://www.usedsurfboardshawaii.com/product/6ft-6in-wooley-round-tail-ref-24638/', 'title': '6ft 6in Wooley Round Tail Ref# 24638', 'price': 399.0, 'description': 'Nice shortboard with minimal sign of previous use.', 'type': 'Quad (FCS 2)', 'height': 'H 6’6″', 'width': 'W 19.5″', 'thickness': 'T 2.5″', 'condition': 'Good', 'manufacturer': 'Woolley'}\n",
      "2019-11-16 15:10:30 [scrapy.core.engine] DEBUG: Crawled (200) <GET https://www.usedsurfboardshawaii.com/product/12ft-6in-lakeshore-sup-ref-24455/> (referer: https://www.usedsurfboardshawaii.com/page/22/?post_type=product) ['cached']\n",
      "2019-11-16 15:10:30 [scrapy.core.scraper] DEBUG: Scraped from <200 https://www.usedsurfboardshawaii.com/product/6ft-4in-bushman-round-tail-ref-24666/>\n",
      "{'url': 'https://www.usedsurfboardshawaii.com/product/6ft-4in-bushman-round-tail-ref-24666/', 'title': '6ft 4in Bushman Round Tail Ref# 24666', 'price': 225.0, 'description': 'Nice shortboard with minimal sign of previous use.', 'type': 'Thruster (Future)', 'height': 'H 6’4″', 'width': 'W 18 1/2″', 'thickness': 'T 2 3/8″', 'condition': 'Good', 'manufacturer': 'Bushman'}\n"
     ]
    },
    {
     "name": "stdout",
     "output_type": "stream",
     "text": [
      "Processing 9 out of 25\n",
      "Processing 10 out of 25\n"
     ]
    },
    {
     "name": "stderr",
     "output_type": "stream",
     "text": [
      "2019-11-16 15:10:30 [scrapy.core.engine] DEBUG: Crawled (200) <GET https://www.usedsurfboardshawaii.com/product/5ft-9in-travis-hashimoto-squash-tail-ref-24612/> (referer: https://www.usedsurfboardshawaii.com/page/22/?post_type=product) ['cached']\n",
      "2019-11-16 15:10:30 [scrapy.core.scraper] DEBUG: Scraped from <200 https://www.usedsurfboardshawaii.com/product/8ft-lakeshore-kids-sup-ref-24454/>\n",
      "{'url': 'https://www.usedsurfboardshawaii.com/product/8ft-lakeshore-kids-sup-ref-24454/', 'title': '8ft Lakeshore Kids SUP Ref# 24454', 'price': 575.0, 'description': None, 'type': None, 'height': None, 'width': None, 'thickness': None, 'condition': 'Good', 'manufacturer': 'Lakeshore'}\n",
      "2019-11-16 15:10:30 [scrapy.core.engine] DEBUG: Crawled (200) <GET https://www.usedsurfboardshawaii.com/product/5ft-6in-morgan-round-tail-ref-24537/> (referer: https://www.usedsurfboardshawaii.com/page/22/?post_type=product) ['cached']\n",
      "2019-11-16 15:10:30 [scrapy.core.scraper] DEBUG: Scraped from <200 https://www.usedsurfboardshawaii.com/product/12ft-6in-lakeshore-sup-ref-24455/>\n",
      "{'url': 'https://www.usedsurfboardshawaii.com/product/12ft-6in-lakeshore-sup-ref-24455/', 'title': '12ft 6in Lakeshore SUP Ref# 24455', 'price': 599.0, 'description': None, 'type': None, 'height': None, 'width': None, 'thickness': None, 'condition': 'Good', 'manufacturer': 'Lakeshore'}\n"
     ]
    },
    {
     "name": "stdout",
     "output_type": "stream",
     "text": [
      "Processing 11 out of 25\n",
      "Processing 12 out of 25\n"
     ]
    },
    {
     "name": "stderr",
     "output_type": "stream",
     "text": [
      "2019-11-16 15:10:30 [scrapy.core.engine] DEBUG: Crawled (200) <GET https://www.usedsurfboardshawaii.com/product/6ft-2in-richardson-squash-tail-ref-24559/> (referer: https://www.usedsurfboardshawaii.com/page/22/?post_type=product) ['cached']\n",
      "2019-11-16 15:10:30 [scrapy.core.scraper] DEBUG: Scraped from <200 https://www.usedsurfboardshawaii.com/product/5ft-9in-travis-hashimoto-squash-tail-ref-24612/>\n",
      "{'url': 'https://www.usedsurfboardshawaii.com/product/5ft-9in-travis-hashimoto-squash-tail-ref-24612/', 'title': '5ft 9in Travis Hashimoto Squash Tail Ref# 24612', 'price': 399.0, 'description': 'Nice shortboard with minimal sign of previous use.', 'type': 'Thruster (FCS 2)', 'height': 'H 5’9″', 'width': 'W 18 3/8″', 'thickness': 'T 2 3/8″', 'condition': 'Good', 'manufacturer': 'Travis Hashimoto'}\n",
      "2019-11-16 15:10:30 [scrapy.core.engine] DEBUG: Crawled (200) <GET https://www.usedsurfboardshawaii.com/product/5ft-9in-mayhem-squash-tail-ref-24542/> (referer: https://www.usedsurfboardshawaii.com/page/22/?post_type=product) ['cached']\n",
      "2019-11-16 15:10:30 [scrapy.core.scraper] DEBUG: Scraped from <200 https://www.usedsurfboardshawaii.com/product/5ft-6in-morgan-round-tail-ref-24537/>\n",
      "{'url': 'https://www.usedsurfboardshawaii.com/product/5ft-6in-morgan-round-tail-ref-24537/', 'title': '5ft 6in Morgan Round Tail Ref# 24537', 'price': 299.0, 'description': 'Good condition shortboard', 'type': '5 Fin (FCS)', 'height': 'H 5’6″', 'width': 'W 21″', 'thickness': 'T 2 5/16″', 'condition': 'Good', 'manufacturer': 'Morgan'}\n"
     ]
    },
    {
     "name": "stdout",
     "output_type": "stream",
     "text": [
      "Processing 13 out of 25\n",
      "Processing 14 out of 25\n"
     ]
    },
    {
     "name": "stderr",
     "output_type": "stream",
     "text": [
      "2019-11-16 15:10:30 [scrapy.core.engine] DEBUG: Crawled (200) <GET https://www.usedsurfboardshawaii.com/product/6ft-10in-aipa-pin-tail-ref24565/> (referer: https://www.usedsurfboardshawaii.com/page/22/?post_type=product) ['cached']\n",
      "2019-11-16 15:10:30 [scrapy.core.scraper] DEBUG: Scraped from <200 https://www.usedsurfboardshawaii.com/product/6ft-2in-richardson-squash-tail-ref-24559/>\n",
      "{'url': 'https://www.usedsurfboardshawaii.com/product/6ft-2in-richardson-squash-tail-ref-24559/', 'title': '6ft 2in Richardson Squash Tail Ref# 24559', 'price': 225.0, 'description': 'Good condition shortboard with light signs of usage', 'type': 'Thruster (FCS)', 'height': 'H 6’2″', 'width': 'W 19 3/8″', 'thickness': 'T 2 1/2″', 'condition': 'very good', 'manufacturer': 'Richardson'}\n",
      "2019-11-16 15:10:31 [scrapy.core.engine] DEBUG: Crawled (200) <GET https://www.usedsurfboardshawaii.com/product/7ft-michael-andriozzi-rounded-pin-tail-ref-24525/> (referer: https://www.usedsurfboardshawaii.com/page/22/?post_type=product) ['cached']\n",
      "2019-11-16 15:10:31 [scrapy.core.scraper] DEBUG: Scraped from <200 https://www.usedsurfboardshawaii.com/product/5ft-9in-mayhem-squash-tail-ref-24542/>\n",
      "{'url': 'https://www.usedsurfboardshawaii.com/product/5ft-9in-mayhem-squash-tail-ref-24542/', 'title': '5ft 9in Mayhem Squash Tail Ref# 24542', 'price': 399.0, 'description': 'Good condition shortboard with moderate usage', 'type': 'Thruster (Glass on)', 'height': 'H 5’9″', 'width': 'W 18 1/2″', 'thickness': 'T 2.13″', 'condition': 'Good', 'manufacturer': 'Mayhem'}\n"
     ]
    },
    {
     "name": "stdout",
     "output_type": "stream",
     "text": [
      "Processing 15 out of 25\n",
      "Processing 16 out of 25\n"
     ]
    },
    {
     "name": "stderr",
     "output_type": "stream",
     "text": [
      "2019-11-16 15:10:31 [scrapy.core.engine] DEBUG: Crawled (200) <GET https://www.usedsurfboardshawaii.com/product/6ft-5in-chronic-squash-tail-ref-24449/> (referer: https://www.usedsurfboardshawaii.com/page/22/?post_type=product) ['cached']\n",
      "2019-11-16 15:10:31 [scrapy.core.scraper] DEBUG: Scraped from <200 https://www.usedsurfboardshawaii.com/product/6ft-10in-aipa-pin-tail-ref24565/>\n",
      "{'url': 'https://www.usedsurfboardshawaii.com/product/6ft-10in-aipa-pin-tail-ref24565/', 'title': '6ft 10in Aipa Pin Tail Ref#24565', 'price': 399.0, 'description': None, 'type': None, 'height': None, 'width': None, 'thickness': None, 'condition': 'Good', 'manufacturer': 'Aipa'}\n",
      "2019-11-16 15:10:31 [scrapy.core.engine] DEBUG: Crawled (200) <GET https://www.usedsurfboardshawaii.com/product/5ft-9in-makani-squash-tail-ref-24400/> (referer: https://www.usedsurfboardshawaii.com/page/22/?post_type=product) ['cached']\n",
      "2019-11-16 15:10:31 [scrapy.core.scraper] DEBUG: Scraped from <200 https://www.usedsurfboardshawaii.com/product/7ft-michael-andriozzi-rounded-pin-tail-ref-24525/>\n",
      "{'url': 'https://www.usedsurfboardshawaii.com/product/7ft-michael-andriozzi-rounded-pin-tail-ref-24525/', 'title': '7ft Michael Andriozzi Rounded Pin Tail Ref# 24525', 'price': 599.0, 'description': 'Great condition and design fun shape long board', 'type': '2 + 1 (FCS)', 'height': 'H 7′', 'width': 'W 21.5″', 'thickness': 'T 2.5″', 'condition': 'very good', 'manufacturer': 'Michael Andreozzi'}\n"
     ]
    },
    {
     "name": "stdout",
     "output_type": "stream",
     "text": [
      "Processing 17 out of 25\n",
      "Processing 18 out of 25\n"
     ]
    },
    {
     "name": "stderr",
     "output_type": "stream",
     "text": [
      "2019-11-16 15:10:31 [scrapy.core.engine] DEBUG: Crawled (200) <GET https://www.usedsurfboardshawaii.com/product/6ft-10in-hs-pin-tail-ref-24527/> (referer: https://www.usedsurfboardshawaii.com/page/22/?post_type=product) ['cached']\n",
      "2019-11-16 15:10:31 [scrapy.core.scraper] DEBUG: Scraped from <200 https://www.usedsurfboardshawaii.com/product/6ft-5in-chronic-squash-tail-ref-24449/>\n",
      "{'url': 'https://www.usedsurfboardshawaii.com/product/6ft-5in-chronic-squash-tail-ref-24449/', 'title': '6ft 5in Chronic Squash Tail Ref# 24449', 'price': 225.0, 'description': 'Good condition shortboard', 'type': 'Thruster (FCS)', 'height': 'H 6’5″', 'width': 'W 19 3/8″', 'thickness': 'T 2 9/16″', 'condition': 'Good', 'manufacturer': 'Chronic'}\n",
      "2019-11-16 15:10:31 [scrapy.core.engine] DEBUG: Crawled (200) <GET https://www.usedsurfboardshawaii.com/product/6ft-3in-mike-woo-squash-tail-ref-24408/> (referer: https://www.usedsurfboardshawaii.com/page/22/?post_type=product) ['cached']\n",
      "2019-11-16 15:10:31 [scrapy.core.scraper] DEBUG: Scraped from <200 https://www.usedsurfboardshawaii.com/product/5ft-9in-makani-squash-tail-ref-24400/>\n",
      "{'url': 'https://www.usedsurfboardshawaii.com/product/5ft-9in-makani-squash-tail-ref-24400/', 'title': '5ft 9in Makani Squash Tail Ref# 24400', 'price': 250.0, 'description': 'Nice shortboard with minimal sign of previous use.', 'type': '5-Fin', 'height': 'H 5’9″', 'width': 'W 19 7/8″', 'thickness': 'T 2 5/16″', 'condition': 'Good', 'manufacturer': 'Makani'}\n"
     ]
    },
    {
     "name": "stdout",
     "output_type": "stream",
     "text": [
      "Processing 19 out of 25\n",
      "Processing 20 out of 25\n"
     ]
    },
    {
     "name": "stderr",
     "output_type": "stream",
     "text": [
      "2019-11-16 15:10:31 [scrapy.core.engine] DEBUG: Crawled (200) <GET https://www.usedsurfboardshawaii.com/product/6ft-ciancio-squash-tail-ref-24342/> (referer: https://www.usedsurfboardshawaii.com/page/22/?post_type=product) ['cached']\n",
      "2019-11-16 15:10:31 [scrapy.core.scraper] DEBUG: Scraped from <200 https://www.usedsurfboardshawaii.com/product/6ft-10in-hs-pin-tail-ref-24527/>\n",
      "{'url': 'https://www.usedsurfboardshawaii.com/product/6ft-10in-hs-pin-tail-ref-24527/', 'title': '6ft 10in HS Pin Tail Ref# 24527', 'price': 250.0, 'description': 'Nice gun with minimal sign of previous use.', 'type': 'Thruster (FCS)', 'height': 'H 6’10”', 'width': 'W 18 5/8″', 'thickness': 'T 2 1/2″', 'condition': 'Good', 'manufacturer': 'Hyden Shapes'}\n",
      "2019-11-16 15:10:31 [scrapy.core.engine] DEBUG: Crawled (200) <GET https://www.usedsurfboardshawaii.com/product/8ft-11in-paddle-surf-half-moon-tail-ref-23857/> (referer: https://www.usedsurfboardshawaii.com/page/22/?post_type=product) ['cached']\n",
      "2019-11-16 15:10:31 [scrapy.core.scraper] DEBUG: Scraped from <200 https://www.usedsurfboardshawaii.com/product/6ft-3in-mike-woo-squash-tail-ref-24408/>\n",
      "{'url': 'https://www.usedsurfboardshawaii.com/product/6ft-3in-mike-woo-squash-tail-ref-24408/', 'title': '6ft 3in Mike Woo Squash Tail Ref# 24408', 'price': 250.0, 'description': 'Nice shortboard with minimal sign of previous use.', 'type': 'Thruster (FCS)', 'height': 'H 6’3″', 'width': 'W 18 7/8″', 'thickness': 'T 2 7/16″', 'condition': 'Good', 'manufacturer': 'Mike Woo'}\n"
     ]
    },
    {
     "name": "stdout",
     "output_type": "stream",
     "text": [
      "Processing 21 out of 25\n",
      "Processing 22 out of 25\n"
     ]
    },
    {
     "name": "stderr",
     "output_type": "stream",
     "text": [
      "2019-11-16 15:10:32 [scrapy.core.engine] DEBUG: Crawled (200) <GET https://www.usedsurfboardshawaii.com/product/7ft-6in-jimmy-lewis-diamond-tail-ref-23873/> (referer: https://www.usedsurfboardshawaii.com/page/22/?post_type=product) ['cached']\n",
      "2019-11-16 15:10:32 [scrapy.core.scraper] DEBUG: Scraped from <200 https://www.usedsurfboardshawaii.com/product/6ft-ciancio-squash-tail-ref-24342/>\n",
      "{'url': 'https://www.usedsurfboardshawaii.com/product/6ft-ciancio-squash-tail-ref-24342/', 'title': '6ft Ciancio Squash Tail Ref# 24342', 'price': 225.0, 'description': 'Nice shortboard with minimal sign of previous use.', 'type': 'Thruster (FCS)', 'height': 'H 6′', 'width': 'W 18 1/4″', 'thickness': 'T 2 3/16', 'condition': 'Good', 'manufacturer': 'Ciancio'}\n",
      "2019-11-16 15:10:32 [scrapy.core.engine] DEBUG: Crawled (200) <GET https://www.usedsurfboardshawaii.com/product/5ft-9in-kashiwai-squash-tail-ref-24338/> (referer: https://www.usedsurfboardshawaii.com/page/22/?post_type=product) ['cached']\n",
      "2019-11-16 15:10:32 [scrapy.core.scraper] DEBUG: Scraped from <200 https://www.usedsurfboardshawaii.com/product/8ft-11in-paddle-surf-half-moon-tail-ref-23857/>\n",
      "{'url': 'https://www.usedsurfboardshawaii.com/product/8ft-11in-paddle-surf-half-moon-tail-ref-23857/', 'title': '8ft 11in Paddle Surf Half Moon Tail Ref# 23857', 'price': 650.0, 'description': 'Nice SUP with minimal sign of previous use.', 'type': 'Quad Fin (Future)', 'height': 'H 8’11”', 'width': 'W 28 3/4″', 'thickness': 'T 4″', 'condition': 'Good', 'manufacturer': 'Paddle Surf Hawaii'}\n"
     ]
    },
    {
     "name": "stdout",
     "output_type": "stream",
     "text": [
      "Processing 23 out of 25\n",
      "Processing 24 out of 25\n"
     ]
    },
    {
     "name": "stderr",
     "output_type": "stream",
     "text": [
      "2019-11-16 15:10:32 [scrapy.core.engine] DEBUG: Crawled (200) <GET https://www.usedsurfboardshawaii.com/product/6ft-2in-dhd-performance-squash-tail-ref-24334/> (referer: https://www.usedsurfboardshawaii.com/page/22/?post_type=product) ['cached']\n",
      "2019-11-16 15:10:32 [scrapy.core.engine] DEBUG: Crawled (200) <GET https://www.usedsurfboardshawaii.com/product/7ft-7in-ck-step-up-pin-tail-ref-24465/> (referer: https://www.usedsurfboardshawaii.com/page/22/?post_type=product) ['cached']\n",
      "2019-11-16 15:10:32 [scrapy.core.scraper] DEBUG: Scraped from <200 https://www.usedsurfboardshawaii.com/product/5ft-9in-kashiwai-squash-tail-ref-24338/>\n",
      "{'url': 'https://www.usedsurfboardshawaii.com/product/5ft-9in-kashiwai-squash-tail-ref-24338/', 'title': '5ft 9in Kashiwai Squash Tail Ref# 24338', 'price': 260.0, 'description': 'Good condition short board', 'type': 'Thruster (FCS)', 'height': 'H 5’9″', 'width': 'W 18 1/2″', 'thickness': 'T 2 1/2″', 'condition': 'Good', 'manufacturer': 'J. Kashiwai'}\n",
      "2019-11-16 15:10:32 [scrapy.core.engine] DEBUG: Crawled (200) <GET https://www.usedsurfboardshawaii.com/page/23/?post_type=product> (referer: https://www.usedsurfboardshawaii.com/page/22/?post_type=product) ['cached']\n",
      "2019-11-16 15:10:32 [scrapy.core.scraper] DEBUG: Scraped from <200 https://www.usedsurfboardshawaii.com/product/6ft-2in-dhd-performance-squash-tail-ref-24334/>\n",
      "{'url': 'https://www.usedsurfboardshawaii.com/product/6ft-2in-dhd-performance-squash-tail-ref-24334/', 'title': '6ft 2in DHD (Performance) Squash Tail Ref# 24334', 'price': 250.0, 'description': 'Good condition short board', 'type': 'Thruster (FCS2)', 'height': 'H 6’2″', 'width': 'W 18 5/8″', 'thickness': 'T 2 10/16″', 'condition': 'Good', 'manufacturer': 'DHD'}\n"
     ]
    },
    {
     "name": "stdout",
     "output_type": "stream",
     "text": [
      "Processing 25 out of 25\n",
      "\n",
      "https://www.usedsurfboardshawaii.com/page/23/?post_type=product\n"
     ]
    },
    {
     "name": "stderr",
     "output_type": "stream",
     "text": [
      "2019-11-16 15:10:32 [scrapy.core.scraper] DEBUG: Scraped from <200 https://www.usedsurfboardshawaii.com/product/7ft-7in-ck-step-up-pin-tail-ref-24465/>\n",
      "{'url': 'https://www.usedsurfboardshawaii.com/product/7ft-7in-ck-step-up-pin-tail-ref-24465/', 'title': '7ft 7in CK (Step Up) Pin Tail Ref# 24465', 'price': 199.0, 'description': 'H: 7’7″', 'type': 'Pin Tail Step up (FCS)', 'height': None, 'width': None, 'thickness': None, 'condition': 'Fair', 'manufacturer': 'CK'}\n",
      "2019-11-16 15:10:32 [scrapy.core.engine] DEBUG: Crawled (200) <GET https://www.usedsurfboardshawaii.com/product/6ft-2in-healy-pin-tail-ref-24353/> (referer: https://www.usedsurfboardshawaii.com/page/23/?post_type=product) ['cached']\n"
     ]
    },
    {
     "name": "stdout",
     "output_type": "stream",
     "text": [
      "Total:  25\n",
      "Processing 1 out of 25\n",
      "Processing 2 out of 25\n"
     ]
    },
    {
     "name": "stderr",
     "output_type": "stream",
     "text": [
      "2019-11-16 15:10:32 [scrapy.core.engine] DEBUG: Crawled (200) <GET https://www.usedsurfboardshawaii.com/product/6ft-11in-ck-pin-tail-ref-24468/> (referer: https://www.usedsurfboardshawaii.com/page/23/?post_type=product) ['cached']\n",
      "2019-11-16 15:10:33 [scrapy.core.engine] DEBUG: Crawled (200) <GET https://www.usedsurfboardshawaii.com/product/11ft-jimmy-lewis-sup-squash-tail-ref-24032/> (referer: https://www.usedsurfboardshawaii.com/page/23/?post_type=product) ['cached']\n",
      "2019-11-16 15:10:33 [scrapy.core.scraper] DEBUG: Scraped from <200 https://www.usedsurfboardshawaii.com/product/6ft-2in-healy-pin-tail-ref-24353/>\n",
      "{'url': 'https://www.usedsurfboardshawaii.com/product/6ft-2in-healy-pin-tail-ref-24353/', 'title': '6ft 2in Healy Pin Tail Ref# 24353', 'price': 175.0, 'description': 'H: 6’2″', 'type': 'Rounded Pin Tail (FCS)', 'height': None, 'width': None, 'thickness': None, 'condition': 'Good', 'manufacturer': 'healy'}\n"
     ]
    },
    {
     "name": "stdout",
     "output_type": "stream",
     "text": [
      "Processing 3 out of 25\n",
      "Processing 4 out of 25\n"
     ]
    },
    {
     "name": "stderr",
     "output_type": "stream",
     "text": [
      "2019-11-16 15:10:33 [scrapy.core.engine] DEBUG: Crawled (200) <GET https://www.usedsurfboardshawaii.com/product/10ft-6in-jimmy-lewis-sup-squash-tail-ref-24033/> (referer: https://www.usedsurfboardshawaii.com/page/23/?post_type=product) ['cached']\n",
      "2019-11-16 15:10:33 [scrapy.core.scraper] DEBUG: Scraped from <200 https://www.usedsurfboardshawaii.com/product/6ft-11in-ck-pin-tail-ref-24468/>\n",
      "{'url': 'https://www.usedsurfboardshawaii.com/product/6ft-11in-ck-pin-tail-ref-24468/', 'title': '6ft 11in CK Pin Tail Ref# 24468', 'price': 215.0, 'description': 'H: 6’11”', 'type': 'Thruster Shortboard (Future)', 'height': None, 'width': None, 'thickness': None, 'condition': 'Good', 'manufacturer': 'CK'}\n",
      "2019-11-16 15:10:33 [scrapy.core.engine] DEBUG: Crawled (200) <GET https://www.usedsurfboardshawaii.com/product/6ft-4in-hanalei-diamond-tail-ref-24178/> (referer: https://www.usedsurfboardshawaii.com/page/23/?post_type=product) ['cached']\n",
      "2019-11-16 15:10:33 [scrapy.core.scraper] DEBUG: Scraped from <200 https://www.usedsurfboardshawaii.com/product/11ft-jimmy-lewis-sup-squash-tail-ref-24032/>\n",
      "{'url': 'https://www.usedsurfboardshawaii.com/product/11ft-jimmy-lewis-sup-squash-tail-ref-24032/', 'title': '11ft Jimmy Lewis SUP Squash Tail Ref# 24032', 'price': 499.0, 'description': 'Nice SUP with minimal sign of previous use.', 'type': '2+1 Fin (Future)', 'height': 'H 11′', 'width': 'W 30″', 'thickness': 'T 4″', 'condition': 'Good', 'manufacturer': 'Jimmy Lewis'}\n"
     ]
    },
    {
     "name": "stdout",
     "output_type": "stream",
     "text": [
      "Processing 5 out of 25\n",
      "Processing 6 out of 25\n"
     ]
    },
    {
     "name": "stderr",
     "output_type": "stream",
     "text": [
      "2019-11-16 15:10:33 [scrapy.core.engine] DEBUG: Crawled (200) <GET https://www.usedsurfboardshawaii.com/product/5ft-11in-maurice-cole-swallow-tail-ref-24171/> (referer: https://www.usedsurfboardshawaii.com/page/23/?post_type=product) ['cached']\n",
      "2019-11-16 15:10:33 [scrapy.core.scraper] DEBUG: Scraped from <200 https://www.usedsurfboardshawaii.com/product/10ft-6in-jimmy-lewis-sup-squash-tail-ref-24033/>\n",
      "{'url': 'https://www.usedsurfboardshawaii.com/product/10ft-6in-jimmy-lewis-sup-squash-tail-ref-24033/', 'title': '10ft 6in Jimmy Lewis SUP Squash Tail Ref# 24033', 'price': 550.0, 'description': 'Nice SUP with minimal sign of previous use.', 'type': 'Single Fin', 'height': 'H 10’6″', 'width': 'W 28 3/4′', 'thickness': 'T 3 1/2″', 'condition': 'Good', 'manufacturer': 'Jimmy Lewis'}\n",
      "2019-11-16 15:10:33 [scrapy.core.engine] DEBUG: Crawled (200) <GET https://www.usedsurfboardshawaii.com/product/5ft-6in-al-merrick-fiyer-squash-tail-ref-24121/> (referer: https://www.usedsurfboardshawaii.com/page/23/?post_type=product) ['cached']\n",
      "2019-11-16 15:10:33 [scrapy.core.scraper] DEBUG: Scraped from <200 https://www.usedsurfboardshawaii.com/product/6ft-4in-hanalei-diamond-tail-ref-24178/>\n",
      "{'url': 'https://www.usedsurfboardshawaii.com/product/6ft-4in-hanalei-diamond-tail-ref-24178/', 'title': '6ft 4in Hanalei Diamond Tail Ref# 24178', 'price': 320.0, 'description': 'Nice shortboard with minimal sign of previous use.', 'type': '5-Fin (FCS)', 'height': 'H 6’4″', 'width': None, 'thickness': 'T 2.6″', 'condition': 'Good', 'manufacturer': 'Hanalei'}\n"
     ]
    },
    {
     "name": "stdout",
     "output_type": "stream",
     "text": [
      "Processing 7 out of 25\n",
      "Processing 8 out of 25\n"
     ]
    },
    {
     "name": "stderr",
     "output_type": "stream",
     "text": [
      "2019-11-16 15:10:33 [scrapy.core.engine] DEBUG: Crawled (200) <GET https://www.usedsurfboardshawaii.com/product/6ft-5in-chronic-round-tail-five-fin-ref-24198/> (referer: https://www.usedsurfboardshawaii.com/page/23/?post_type=product) ['cached']\n",
      "2019-11-16 15:10:33 [scrapy.core.scraper] DEBUG: Scraped from <200 https://www.usedsurfboardshawaii.com/product/5ft-11in-maurice-cole-swallow-tail-ref-24171/>\n",
      "{'url': 'https://www.usedsurfboardshawaii.com/product/5ft-11in-maurice-cole-swallow-tail-ref-24171/', 'title': '5ft 11in Maurice Cole Swallow Tail Ref# 24171', 'price': 399.0, 'description': 'Nice shortboard with minimal sign of previous use.', 'type': 'Thruster (Future)', 'height': 'H 5’11”', 'width': 'W 20″', 'thickness': 'T 2 1/4″', 'condition': 'Good', 'manufacturer': 'Maurice Cole'}\n",
      "2019-11-16 15:10:33 [scrapy.core.engine] DEBUG: Crawled (200) <GET https://www.usedsurfboardshawaii.com/product/5ft-4in-pang-squash-tail-ref-24166/> (referer: https://www.usedsurfboardshawaii.com/page/23/?post_type=product) ['cached']\n",
      "2019-11-16 15:10:33 [scrapy.core.scraper] DEBUG: Scraped from <200 https://www.usedsurfboardshawaii.com/product/5ft-6in-al-merrick-fiyer-squash-tail-ref-24121/>\n",
      "{'url': 'https://www.usedsurfboardshawaii.com/product/5ft-6in-al-merrick-fiyer-squash-tail-ref-24121/', 'title': '5ft 6in Al Merrick (Fiyer) Squash Tail Ref# 24121', 'price': 475.0, 'description': 'Nice shortboard with minimal sign of previous use.', 'type': '5-Fin (FCS)', 'height': 'H 5’6″', 'width': 'W 19″', 'thickness': 'T 2 1/4″', 'condition': 'Good', 'manufacturer': 'Al Merrick'}\n"
     ]
    },
    {
     "name": "stdout",
     "output_type": "stream",
     "text": [
      "Processing 9 out of 25\n",
      "Processing 10 out of 25\n"
     ]
    },
    {
     "name": "stderr",
     "output_type": "stream",
     "text": [
      "2019-11-16 15:10:34 [scrapy.core.engine] DEBUG: Crawled (200) <GET https://www.usedsurfboardshawaii.com/product/6ft-2in-cole-rounded-pin-tail-ref-24203/> (referer: https://www.usedsurfboardshawaii.com/page/23/?post_type=product) ['cached']\n",
      "2019-11-16 15:10:34 [scrapy.core.scraper] DEBUG: Scraped from <200 https://www.usedsurfboardshawaii.com/product/6ft-5in-chronic-round-tail-five-fin-ref-24198/>\n",
      "{'url': 'https://www.usedsurfboardshawaii.com/product/6ft-5in-chronic-round-tail-five-fin-ref-24198/', 'title': '6ft 5in Chronic Round Tail Five Fin Ref# 24198', 'price': 250.0, 'description': 'A solid board for a slightly heavier surfer needing more foam under them.', 'type': 'Five Fin (Future)', 'height': 'H 6’5″', 'width': 'W 20″', 'thickness': 'T 2 3/4″', 'condition': 'Good', 'manufacturer': 'Chronic'}\n",
      "2019-11-16 15:10:34 [scrapy.core.engine] DEBUG: Crawled (200) <GET https://www.usedsurfboardshawaii.com/product/5ft-5in-cole-round-tail-ref-24205/> (referer: https://www.usedsurfboardshawaii.com/page/23/?post_type=product) ['cached']\n",
      "2019-11-16 15:10:34 [scrapy.core.scraper] DEBUG: Scraped from <200 https://www.usedsurfboardshawaii.com/product/5ft-4in-pang-squash-tail-ref-24166/>\n",
      "{'url': 'https://www.usedsurfboardshawaii.com/product/5ft-4in-pang-squash-tail-ref-24166/', 'title': '5ft 4in Pang Squash Tail Ref# 24166', 'price': 199.0, 'description': 'Nice shortboard with minimal sign of previous use.', 'type': 'Thruster (FCS 2)', 'height': 'H 5’9″', 'width': 'W 17 7/8″', 'thickness': 'T 2 1/3″', 'condition': 'Good', 'manufacturer': 'Pang'}\n"
     ]
    },
    {
     "name": "stdout",
     "output_type": "stream",
     "text": [
      "Processing 11 out of 25\n",
      "Processing 12 out of 25\n"
     ]
    },
    {
     "name": "stderr",
     "output_type": "stream",
     "text": [
      "2019-11-16 15:10:34 [scrapy.core.engine] DEBUG: Crawled (200) <GET https://www.usedsurfboardshawaii.com/product/6ft-3in-hli-round-tail-ref-24129/> (referer: https://www.usedsurfboardshawaii.com/page/23/?post_type=product) ['cached']\n",
      "2019-11-16 15:10:34 [scrapy.core.scraper] DEBUG: Scraped from <200 https://www.usedsurfboardshawaii.com/product/6ft-2in-cole-rounded-pin-tail-ref-24203/>\n",
      "{'url': 'https://www.usedsurfboardshawaii.com/product/6ft-2in-cole-rounded-pin-tail-ref-24203/', 'title': '6ft 2in Cole Rounded Pin Tail Ref# 24203', 'price': 385.0, 'description': 'Nice shortboard with minimal sign of previous use.', 'type': '5-Fin (FCS)', 'height': 'H 6’2″', 'width': 'W 18 1/4″', 'thickness': 'T 2 1/4″', 'condition': 'Good', 'manufacturer': 'Cole'}\n",
      "2019-11-16 15:10:34 [scrapy.core.engine] DEBUG: Crawled (200) <GET https://www.usedsurfboardshawaii.com/product/8ft-8in-m-nekamoto-squash-tail-ref-23876/> (referer: https://www.usedsurfboardshawaii.com/page/23/?post_type=product) ['cached']\n",
      "2019-11-16 15:10:34 [scrapy.core.scraper] DEBUG: Scraped from <200 https://www.usedsurfboardshawaii.com/product/5ft-5in-cole-round-tail-ref-24205/>\n",
      "{'url': 'https://www.usedsurfboardshawaii.com/product/5ft-5in-cole-round-tail-ref-24205/', 'title': '5ft 5in Cole Round Tail Ref# 24205', 'price': 260.0, 'description': 'Nice shortboard with minimal sign of previous use.', 'type': '5-Fin (FCS)', 'height': 'H 5’5″', 'width': 'W 19 1/8″', 'thickness': 'T 2 1/3″', 'condition': 'Good', 'manufacturer': 'Cole'}\n"
     ]
    },
    {
     "name": "stdout",
     "output_type": "stream",
     "text": [
      "Processing 13 out of 25\n",
      "Processing 14 out of 25\n"
     ]
    },
    {
     "name": "stderr",
     "output_type": "stream",
     "text": [
      "2019-11-16 15:10:34 [scrapy.core.engine] DEBUG: Crawled (200) <GET https://www.usedsurfboardshawaii.com/product/6ft-1in-lost-mayhem-squash-tail-ref-24098/> (referer: https://www.usedsurfboardshawaii.com/page/23/?post_type=product) ['cached']\n",
      "2019-11-16 15:10:34 [scrapy.core.scraper] DEBUG: Scraped from <200 https://www.usedsurfboardshawaii.com/product/6ft-3in-hli-round-tail-ref-24129/>\n",
      "{'url': 'https://www.usedsurfboardshawaii.com/product/6ft-3in-hli-round-tail-ref-24129/', 'title': '6ft 3in HLI Round Tail Ref# 24129', 'price': 175.0, 'description': 'Nice shortboard with minimal sign of previous use.', 'type': 'Thruster (Future)', 'height': 'H 6’3″', 'width': 'W 18 3/4″', 'thickness': 'T 2 1/2″', 'condition': 'Good', 'manufacturer': 'HLI'}\n",
      "2019-11-16 15:10:34 [scrapy.core.engine] DEBUG: Crawled (200) <GET https://www.usedsurfboardshawaii.com/product/6ft-3in-backdoor-round-tail-ref-24083/> (referer: https://www.usedsurfboardshawaii.com/page/23/?post_type=product) ['cached']\n",
      "2019-11-16 15:10:34 [scrapy.core.scraper] DEBUG: Scraped from <200 https://www.usedsurfboardshawaii.com/product/8ft-8in-m-nekamoto-squash-tail-ref-23876/>\n",
      "{'url': 'https://www.usedsurfboardshawaii.com/product/8ft-8in-m-nekamoto-squash-tail-ref-23876/', 'title': '8ft 8in M. Nekamoto Squash Tail Ref# 23867', 'price': 629.0, 'description': 'Good board in new condition with barely any pressure dent.', 'type': 'Thruster (FCS)', 'height': 'H 8′ 8″', 'width': 'W 22 1/2', 'thickness': 'T 3 1/8', 'condition': 'Good', 'manufacturer': 'M. Nekamoto'}\n"
     ]
    },
    {
     "name": "stdout",
     "output_type": "stream",
     "text": [
      "Processing 15 out of 25\n",
      "Processing 16 out of 25\n"
     ]
    },
    {
     "name": "stderr",
     "output_type": "stream",
     "text": [
      "2019-11-16 15:10:34 [scrapy.core.engine] DEBUG: Crawled (200) <GET https://www.usedsurfboardshawaii.com/product/7ft-mulhern-pin-tail-ref-24065/> (referer: https://www.usedsurfboardshawaii.com/page/23/?post_type=product) ['cached']\n",
      "2019-11-16 15:10:35 [scrapy.core.scraper] DEBUG: Scraped from <200 https://www.usedsurfboardshawaii.com/product/6ft-1in-lost-mayhem-squash-tail-ref-24098/>\n",
      "{'url': 'https://www.usedsurfboardshawaii.com/product/6ft-1in-lost-mayhem-squash-tail-ref-24098/', 'title': '6ft 1in Lost Mayhem Squash Tail Ref# 24098', 'price': 225.0, 'description': 'Good shortboard with plenty of life left.', 'type': 'Thruster (FCS2)', 'height': 'H 6′ 1″', 'width': 'W 19', 'thickness': 'T 2 1/2', 'condition': 'Good', 'manufacturer': 'Lost'}\n",
      "2019-11-16 15:10:35 [scrapy.core.engine] DEBUG: Crawled (200) <GET https://www.usedsurfboardshawaii.com/product/6ft-8in-bret-pin-tail-ref-24051/> (referer: https://www.usedsurfboardshawaii.com/page/23/?post_type=product) ['cached']\n",
      "2019-11-16 15:10:35 [scrapy.core.scraper] DEBUG: Scraped from <200 https://www.usedsurfboardshawaii.com/product/6ft-3in-backdoor-round-tail-ref-24083/>\n",
      "{'url': 'https://www.usedsurfboardshawaii.com/product/6ft-3in-backdoor-round-tail-ref-24083/', 'title': '6ft 3in Backdoor Round Tail Ref# 24083', 'price': 270.0, 'description': 'Nice shrotboard with minimal sign of previous use.', 'type': 'Thruster (Future)', 'height': 'H 6’3″', 'width': 'W 18 1/2″', 'thickness': 'T 2 1/2″', 'condition': 'Good', 'manufacturer': 'Backdoor'}\n"
     ]
    },
    {
     "name": "stdout",
     "output_type": "stream",
     "text": [
      "Processing 17 out of 25\n",
      "Processing 18 out of 25\n"
     ]
    },
    {
     "name": "stderr",
     "output_type": "stream",
     "text": [
      "2019-11-16 15:10:35 [scrapy.core.engine] DEBUG: Crawled (200) <GET https://www.usedsurfboardshawaii.com/product/6ft-2in-cstiglione-squash-tail-ref-23848/> (referer: https://www.usedsurfboardshawaii.com/page/23/?post_type=product) ['cached']\n",
      "2019-11-16 15:10:35 [scrapy.core.scraper] DEBUG: Scraped from <200 https://www.usedsurfboardshawaii.com/product/7ft-mulhern-pin-tail-ref-24065/>\n",
      "{'url': 'https://www.usedsurfboardshawaii.com/product/7ft-mulhern-pin-tail-ref-24065/', 'title': '7ft Mulhern Pin Tail Ref# 24065', 'price': 200.0, 'description': 'Nice midsize board with minimal sign of previous use.', 'type': 'Thruster (Future)', 'height': 'H 7′', 'width': 'W 18 5/8″', 'thickness': 'T 2 3/8″', 'condition': 'Good', 'manufacturer': 'Mulhern'}\n",
      "2019-11-16 15:10:35 [scrapy.core.engine] DEBUG: Crawled (200) <GET https://www.usedsurfboardshawaii.com/product/5ft-10in-chris-woo-diamond-tail-ref-24048/> (referer: https://www.usedsurfboardshawaii.com/page/23/?post_type=product) ['cached']\n",
      "2019-11-16 15:10:35 [scrapy.core.scraper] DEBUG: Scraped from <200 https://www.usedsurfboardshawaii.com/product/6ft-8in-bret-pin-tail-ref-24051/>\n",
      "{'url': 'https://www.usedsurfboardshawaii.com/product/6ft-8in-bret-pin-tail-ref-24051/', 'title': '6ft 8in Bret Pin Tail Ref# 24051', 'price': 350.0, 'description': 'Nice shortboard with minimal sign of previous use.', 'type': '5-Fin (Future)', 'height': 'H 6’8″', 'width': 'W 18.5″', 'thickness': 'T 2.68″', 'condition': 'Good', 'manufacturer': 'Bret'}\n"
     ]
    },
    {
     "name": "stdout",
     "output_type": "stream",
     "text": [
      "Processing 19 out of 25\n",
      "Processing 20 out of 25\n"
     ]
    },
    {
     "name": "stderr",
     "output_type": "stream",
     "text": [
      "2019-11-16 15:10:35 [scrapy.core.engine] DEBUG: Crawled (200) <GET https://www.usedsurfboardshawaii.com/product/6ft-10in-tore-round-tail-ref-24050/> (referer: https://www.usedsurfboardshawaii.com/page/23/?post_type=product) ['cached']\n",
      "2019-11-16 15:10:35 [scrapy.core.scraper] DEBUG: Scraped from <200 https://www.usedsurfboardshawaii.com/product/6ft-2in-cstiglione-squash-tail-ref-23848/>\n",
      "{'url': 'https://www.usedsurfboardshawaii.com/product/6ft-2in-cstiglione-squash-tail-ref-23848/', 'title': '6ft 2in Cstiglione Squash Tail Ref# 23848', 'price': 399.0, 'description': 'Nice board with unique fin setup. Fins included.', 'type': None, 'height': 'H 6’2″', 'width': 'W 20″', 'thickness': 'T 2 3/4″', 'condition': 'Good', 'manufacturer': 'Castiglione'}\n",
      "2019-11-16 15:10:35 [scrapy.core.engine] DEBUG: Crawled (200) <GET https://www.usedsurfboardshawaii.com/product/6ft-3in-eric-arakawa-squash-tail-ref-23990/> (referer: https://www.usedsurfboardshawaii.com/page/23/?post_type=product) ['cached']\n",
      "2019-11-16 15:10:35 [scrapy.core.scraper] DEBUG: Scraped from <200 https://www.usedsurfboardshawaii.com/product/5ft-10in-chris-woo-diamond-tail-ref-24048/>\n",
      "{'url': 'https://www.usedsurfboardshawaii.com/product/5ft-10in-chris-woo-diamond-tail-ref-24048/', 'title': '5ft 10in Chris Woo Diamond Tail Ref# 24048', 'price': 225.0, 'description': 'Nice shortboard with minimal sign of previous use. Few small dings in need of repair.', 'type': 'Thruster (FCS)', 'height': 'H 6’10”', 'width': 'W 18 1/2″', 'thickness': 'T 2 1/2″', 'condition': 'Good', 'manufacturer': 'Chris Woo'}\n"
     ]
    },
    {
     "name": "stdout",
     "output_type": "stream",
     "text": [
      "Processing 21 out of 25\n",
      "Processing 22 out of 25\n"
     ]
    },
    {
     "name": "stderr",
     "output_type": "stream",
     "text": [
      "2019-11-16 15:10:35 [scrapy.core.engine] DEBUG: Crawled (200) <GET https://www.usedsurfboardshawaii.com/product/6ft-10in-kazuma-round-tail-ref-23806/> (referer: https://www.usedsurfboardshawaii.com/page/23/?post_type=product) ['cached']\n",
      "2019-11-16 15:10:35 [scrapy.core.scraper] DEBUG: Scraped from <200 https://www.usedsurfboardshawaii.com/product/6ft-10in-tore-round-tail-ref-24050/>\n",
      "{'url': 'https://www.usedsurfboardshawaii.com/product/6ft-10in-tore-round-tail-ref-24050/', 'title': '6ft 10in Tore Round Tail Ref# 24050', 'price': 200.0, 'description': 'Nice stepup board with minimal sign of previous use.', 'type': 'Thruster (FCS)', 'height': 'H 6’10”', 'width': 'W 18 1/2″', 'thickness': 'T 2 1/2″', 'condition': 'Good', 'manufacturer': 'Tore'}\n",
      "2019-11-16 15:10:36 [scrapy.core.engine] DEBUG: Crawled (200) <GET https://www.usedsurfboardshawaii.com/product/5ft-7in-setsu-round-tail-ref-23910/> (referer: https://www.usedsurfboardshawaii.com/page/23/?post_type=product) ['cached']\n",
      "2019-11-16 15:10:36 [scrapy.core.scraper] DEBUG: Scraped from <200 https://www.usedsurfboardshawaii.com/product/6ft-3in-eric-arakawa-squash-tail-ref-23990/>\n",
      "{'url': 'https://www.usedsurfboardshawaii.com/product/6ft-3in-eric-arakawa-squash-tail-ref-23990/', 'title': '6ft 3in Eric Arakawa Squash Tail Ref# 23990', 'price': 250.0, 'description': '6′ 3″', 'type': 'Thruster (Future)', 'height': None, 'width': None, 'thickness': None, 'condition': 'Good', 'manufacturer': 'Eric Arakawa'}\n"
     ]
    },
    {
     "name": "stdout",
     "output_type": "stream",
     "text": [
      "Processing 23 out of 25\n",
      "Processing 24 out of 25\n"
     ]
    },
    {
     "name": "stderr",
     "output_type": "stream",
     "text": [
      "2019-11-16 15:10:36 [scrapy.core.engine] DEBUG: Crawled (200) <GET https://www.usedsurfboardshawaii.com/product/5ft-10in-freed-diamond-tail-ref-23860/> (referer: https://www.usedsurfboardshawaii.com/page/23/?post_type=product) ['cached']\n",
      "2019-11-16 15:10:36 [scrapy.core.scraper] DEBUG: Scraped from <200 https://www.usedsurfboardshawaii.com/product/6ft-10in-kazuma-round-tail-ref-23806/>\n",
      "{'url': 'https://www.usedsurfboardshawaii.com/product/6ft-10in-kazuma-round-tail-ref-23806/', 'title': '6ft 10in Kazuma Round Tail Ref# 23806', 'price': 275.0, 'description': 'Nice stepup board with minimal sign of previous use.', 'type': 'Thruster (FCS 2)', 'height': 'H 6’10”', 'width': 'W 18.82″', 'thickness': 'T 2.38″', 'condition': 'Good', 'manufacturer': 'Kazuma'}\n",
      "2019-11-16 15:10:36 [scrapy.core.engine] DEBUG: Crawled (200) <GET https://www.usedsurfboardshawaii.com/product/5ft-8in-wright-swallow-tail-ref-23920/> (referer: https://www.usedsurfboardshawaii.com/page/23/?post_type=product) ['cached']\n",
      "2019-11-16 15:10:36 [scrapy.core.scraper] DEBUG: Scraped from <200 https://www.usedsurfboardshawaii.com/product/5ft-7in-setsu-round-tail-ref-23910/>\n",
      "{'url': 'https://www.usedsurfboardshawaii.com/product/5ft-7in-setsu-round-tail-ref-23910/', 'title': '5ft 7in Setsu Round Tail Ref# 23910', 'price': 350.0, 'description': 'Nice shortboard with minimal sign of previous use.', 'type': 'Thruster (FCS)', 'height': 'H 5’7″', 'width': 'W 19″', 'thickness': 'T 2 3/8″', 'condition': 'Good', 'manufacturer': 'Setsu'}\n",
      "2019-11-16 15:10:36 [scrapy.core.engine] DEBUG: Crawled (200) <GET https://www.usedsurfboardshawaii.com/page/24/?post_type=product> (referer: https://www.usedsurfboardshawaii.com/page/23/?post_type=product) ['cached']\n"
     ]
    },
    {
     "name": "stdout",
     "output_type": "stream",
     "text": [
      "Processing 25 out of 25\n",
      "\n",
      "https://www.usedsurfboardshawaii.com/page/24/?post_type=product\n"
     ]
    },
    {
     "name": "stderr",
     "output_type": "stream",
     "text": [
      "2019-11-16 15:10:36 [scrapy.core.scraper] DEBUG: Scraped from <200 https://www.usedsurfboardshawaii.com/product/5ft-8in-wright-swallow-tail-ref-23920/>\n",
      "{'url': 'https://www.usedsurfboardshawaii.com/product/5ft-8in-wright-swallow-tail-ref-23920/', 'title': '5ft 8in Wright Swallow Tail Ref# 23920', 'price': 299.0, 'description': 'Nice shortboard with minimal sign of previous use. Small ding on bottom and a bit of pressure denting.', 'type': 'Thruster (FCS)', 'height': 'H 5’8″', 'width': 'W 19 1/2″', 'thickness': 'T 2 1/2″', 'condition': 'Good', 'manufacturer': 'Ian Wright'}\n",
      "2019-11-16 15:10:36 [scrapy.core.engine] DEBUG: Crawled (200) <GET https://www.usedsurfboardshawaii.com/product/5ft-11in-pang-round-tail-shaped-for-coco-ho-ref-23879/> (referer: https://www.usedsurfboardshawaii.com/page/24/?post_type=product) ['cached']\n"
     ]
    },
    {
     "name": "stdout",
     "output_type": "stream",
     "text": [
      "Total:  25\n",
      "Processing 1 out of 25\n",
      "Processing 2 out of 25\n"
     ]
    },
    {
     "name": "stderr",
     "output_type": "stream",
     "text": [
      "2019-11-16 15:10:36 [scrapy.core.engine] DEBUG: Crawled (200) <GET https://www.usedsurfboardshawaii.com/product/5ft-11in-victory-squash-tail-ref23687/> (referer: https://www.usedsurfboardshawaii.com/page/24/?post_type=product) ['cached']\n",
      "2019-11-16 15:10:36 [scrapy.core.engine] DEBUG: Crawled (200) <GET https://www.usedsurfboardshawaii.com/product/5ft-8in-alan-swallow-tail-ref-23792/> (referer: https://www.usedsurfboardshawaii.com/page/24/?post_type=product) ['cached']\n",
      "2019-11-16 15:10:36 [scrapy.core.scraper] DEBUG: Scraped from <200 https://www.usedsurfboardshawaii.com/product/5ft-11in-pang-round-tail-shaped-for-coco-ho-ref-23879/>\n",
      "{'url': 'https://www.usedsurfboardshawaii.com/product/5ft-11in-pang-round-tail-shaped-for-coco-ho-ref-23879/', 'title': '5ft 11in Pang Round Tail (Shaped for Coco Ho) Ref# 23879', 'price': 399.0, 'description': 'Great condition shoartboard that was shaped for Pro Coco Ho.', 'type': '5 Fin (FCS)', 'height': 'H 5’11”', 'width': 'W 17 7/8″', 'thickness': 'T 2 1/4″', 'condition': 'Good', 'manufacturer': 'Pang'}\n"
     ]
    },
    {
     "name": "stdout",
     "output_type": "stream",
     "text": [
      "Processing 3 out of 25\n",
      "Processing 4 out of 25\n"
     ]
    },
    {
     "name": "stderr",
     "output_type": "stream",
     "text": [
      "2019-11-16 15:10:36 [scrapy.core.engine] DEBUG: Crawled (200) <GET https://www.usedsurfboardshawaii.com/product/6ft-3in-tokoro-squash-tail-ref-23803/> (referer: https://www.usedsurfboardshawaii.com/page/24/?post_type=product) ['cached']\n",
      "2019-11-16 15:10:36 [scrapy.core.scraper] DEBUG: Scraped from <200 https://www.usedsurfboardshawaii.com/product/5ft-11in-victory-squash-tail-ref23687/>\n",
      "{'url': 'https://www.usedsurfboardshawaii.com/product/5ft-11in-victory-squash-tail-ref23687/', 'title': '5ft 11in Victory Squash Tail Ref#23687', 'price': 250.0, 'description': 'Light shortboard with FCS fin system and good shape.', 'type': 'Thruster (FCS)', 'height': 'H 5’11”', 'width': 'W 18″', 'thickness': 'T 2″', 'condition': 'Good', 'manufacturer': 'Victory'}\n",
      "2019-11-16 15:10:37 [scrapy.core.engine] DEBUG: Crawled (200) <GET https://www.usedsurfboardshawaii.com/product/6ft-10in-stacey-round-tail-ref-23757/> (referer: https://www.usedsurfboardshawaii.com/page/24/?post_type=product) ['cached']\n",
      "2019-11-16 15:10:37 [scrapy.core.scraper] DEBUG: Scraped from <200 https://www.usedsurfboardshawaii.com/product/5ft-8in-alan-swallow-tail-ref-23792/>\n",
      "{'url': 'https://www.usedsurfboardshawaii.com/product/5ft-8in-alan-swallow-tail-ref-23792/', 'title': '5ft 8in Alan Swallow Tail Ref# 23792', 'price': 285.0, 'description': 'Nice shortboard with open ding on nose.', 'type': '5-Fin (Future)', 'height': 'H 5’8″', 'width': 'W 20″', 'thickness': 'T 2 9/16″', 'condition': 'Good', 'manufacturer': 'Alan'}\n"
     ]
    },
    {
     "name": "stdout",
     "output_type": "stream",
     "text": [
      "Processing 5 out of 25\n",
      "Processing 6 out of 25\n"
     ]
    },
    {
     "name": "stderr",
     "output_type": "stream",
     "text": [
      "2019-11-16 15:10:37 [scrapy.core.engine] DEBUG: Crawled (200) <GET https://www.usedsurfboardshawaii.com/product/6ft-6in-stacy-round-tail-ref-23756/> (referer: https://www.usedsurfboardshawaii.com/page/24/?post_type=product) ['cached']\n",
      "2019-11-16 15:10:37 [scrapy.core.scraper] DEBUG: Scraped from <200 https://www.usedsurfboardshawaii.com/product/6ft-3in-tokoro-squash-tail-ref-23803/>\n",
      "{'url': 'https://www.usedsurfboardshawaii.com/product/6ft-3in-tokoro-squash-tail-ref-23803/', 'title': '6ft 3in Tokoro Squash Tail Ref# 23803', 'price': 290.0, 'description': 'Nice shortboard with minimal sign of previous use.', 'type': 'Thruster (FCS)', 'height': 'H 6’3″', 'width': 'W 18 1/4″', 'thickness': 'T 2 1/4″', 'condition': 'Good', 'manufacturer': 'Tokoro'}\n",
      "2019-11-16 15:10:37 [scrapy.core.engine] DEBUG: Crawled (200) <GET https://www.usedsurfboardshawaii.com/product/6ft-8in-pyzel-round-tail-ref-23755/> (referer: https://www.usedsurfboardshawaii.com/page/24/?post_type=product) ['cached']\n",
      "2019-11-16 15:10:37 [scrapy.core.scraper] DEBUG: Scraped from <200 https://www.usedsurfboardshawaii.com/product/6ft-10in-stacey-round-tail-ref-23757/>\n",
      "{'url': 'https://www.usedsurfboardshawaii.com/product/6ft-10in-stacey-round-tail-ref-23757/', 'title': '6ft 10in Stacey Round Tail Ref# 23757', 'price': 350.0, 'description': 'Nice stepup with minimal sign of previous use.', 'type': '5-Fin (Future)', 'height': 'H 6’10”', 'width': 'W 18 7/8″', 'thickness': 'T 2 5/8″', 'condition': 'Good', 'manufacturer': 'Stacey'}\n"
     ]
    },
    {
     "name": "stdout",
     "output_type": "stream",
     "text": [
      "Processing 7 out of 25\n",
      "Processing 8 out of 25\n"
     ]
    },
    {
     "name": "stderr",
     "output_type": "stream",
     "text": [
      "2019-11-16 15:10:37 [scrapy.core.engine] DEBUG: Crawled (200) <GET https://www.usedsurfboardshawaii.com/product/6ft-6in-pyzel-round-tail-ref-23754/> (referer: https://www.usedsurfboardshawaii.com/page/24/?post_type=product) ['cached']\n",
      "2019-11-16 15:10:37 [scrapy.core.scraper] DEBUG: Scraped from <200 https://www.usedsurfboardshawaii.com/product/6ft-6in-stacy-round-tail-ref-23756/>\n",
      "{'url': 'https://www.usedsurfboardshawaii.com/product/6ft-6in-stacy-round-tail-ref-23756/', 'title': '6ft 6in Stacy Round Tail Ref# 23756', 'price': 350.0, 'description': 'Nice stepup with minimal sign of previous use.', 'type': '5-Fin (Future)', 'height': 'H 6’6″', 'width': 'W 18 1/2″', 'thickness': 'T 2 3/4″', 'condition': 'Good', 'manufacturer': 'Stacey'}\n",
      "2019-11-16 15:10:37 [scrapy.core.engine] DEBUG: Crawled (200) <GET https://www.usedsurfboardshawaii.com/product/5ft-8in-tokoro-round-tail-ref-23761/> (referer: https://www.usedsurfboardshawaii.com/page/24/?post_type=product) ['cached']\n",
      "2019-11-16 15:10:37 [scrapy.core.scraper] DEBUG: Scraped from <200 https://www.usedsurfboardshawaii.com/product/6ft-8in-pyzel-round-tail-ref-23755/>\n",
      "{'url': 'https://www.usedsurfboardshawaii.com/product/6ft-8in-pyzel-round-tail-ref-23755/', 'title': '6ft 8in Pyzel Round Tail Ref# 23755', 'price': 350.0, 'description': 'Nice stepup board with minimal sign of previous use.', 'type': 'Thruster (Future)', 'height': 'H 6’8″', 'width': 'W 18.63″', 'thickness': 'T 2.44″', 'condition': 'Good', 'manufacturer': 'Pyzel'}\n"
     ]
    },
    {
     "name": "stdout",
     "output_type": "stream",
     "text": [
      "Processing 9 out of 25\n",
      "Processing 10 out of 25\n"
     ]
    },
    {
     "name": "stderr",
     "output_type": "stream",
     "text": [
      "2019-11-16 15:10:37 [scrapy.core.engine] DEBUG: Crawled (200) <GET https://www.usedsurfboardshawaii.com/product/5ft-8in-meeks-squash-tail-ref23719/> (referer: https://www.usedsurfboardshawaii.com/page/24/?post_type=product) ['cached']\n",
      "2019-11-16 15:10:37 [scrapy.core.scraper] DEBUG: Scraped from <200 https://www.usedsurfboardshawaii.com/product/6ft-6in-pyzel-round-tail-ref-23754/>\n",
      "{'url': 'https://www.usedsurfboardshawaii.com/product/6ft-6in-pyzel-round-tail-ref-23754/', 'title': '6ft 6in Pyzel Round Tail Ref# 23754', 'price': 350.0, 'description': 'Nice stepup with minimal sign of previous use.', 'type': 'Thruster (Future)', 'height': 'H 6’6″', 'width': 'W 18.6″', 'thickness': 'T 2.39″', 'condition': 'Good', 'manufacturer': 'Pyzel'}\n",
      "2019-11-16 15:10:38 [scrapy.core.engine] DEBUG: Crawled (200) <GET https://www.usedsurfboardshawaii.com/product/5ft-1in-juniel-squash-tail-ref23727/> (referer: https://www.usedsurfboardshawaii.com/page/24/?post_type=product) ['cached']\n",
      "2019-11-16 15:10:38 [scrapy.core.scraper] DEBUG: Scraped from <200 https://www.usedsurfboardshawaii.com/product/5ft-8in-tokoro-round-tail-ref-23761/>\n",
      "{'url': 'https://www.usedsurfboardshawaii.com/product/5ft-8in-tokoro-round-tail-ref-23761/', 'title': '5ft 8in Tokoro Round Tail Ref# 23761', 'price': 199.0, 'description': 'Nice shortboard with minimal sign of previous use.', 'type': '5-Fin (FCS)', 'height': 'H 5’8″', 'width': 'W 18 3/4″', 'thickness': 'T 2 1/4″', 'condition': 'Good', 'manufacturer': 'Tokoro'}\n"
     ]
    },
    {
     "name": "stdout",
     "output_type": "stream",
     "text": [
      "Processing 11 out of 25\n",
      "Processing 12 out of 25\n"
     ]
    },
    {
     "name": "stderr",
     "output_type": "stream",
     "text": [
      "2019-11-16 15:10:38 [scrapy.core.engine] DEBUG: Crawled (200) <GET https://www.usedsurfboardshawaii.com/product/7ft-pin-tail-ref23699/> (referer: https://www.usedsurfboardshawaii.com/page/24/?post_type=product) ['cached']\n",
      "2019-11-16 15:10:38 [scrapy.core.scraper] DEBUG: Scraped from <200 https://www.usedsurfboardshawaii.com/product/5ft-8in-meeks-squash-tail-ref23719/>\n",
      "{'url': 'https://www.usedsurfboardshawaii.com/product/5ft-8in-meeks-squash-tail-ref23719/', 'title': '5ft 8in Meeks Squash Tail Ref# 23719', 'price': 250.0, 'description': 'Good condition shortboard with custom Minion art on bottom.', 'type': 'Quad Fin (Future)', 'height': 'H 5’8″', 'width': 'W 19 7/8″', 'thickness': 'T 2 9/10', 'condition': 'Good', 'manufacturer': 'Meeks'}\n",
      "2019-11-16 15:10:38 [scrapy.core.engine] DEBUG: Crawled (200) <GET https://www.usedsurfboardshawaii.com/product/6ft-2in-arakawa-squash-tail-ref-23701/> (referer: https://www.usedsurfboardshawaii.com/page/24/?post_type=product) ['cached']\n",
      "2019-11-16 15:10:38 [scrapy.core.scraper] DEBUG: Scraped from <200 https://www.usedsurfboardshawaii.com/product/5ft-1in-juniel-squash-tail-ref23727/>\n",
      "{'url': 'https://www.usedsurfboardshawaii.com/product/5ft-1in-juniel-squash-tail-ref23727/', 'title': '5ft 1in Juniel Squash Tail Ref# 23727', 'price': 325.0, 'description': 'Solid Grom Board.', 'type': 'Thruster (FCS)', 'height': 'H 5’1″', 'width': 'W 16 5/8″', 'thickness': 'T 2 1/8', 'condition': 'Good', 'manufacturer': 'Juniel'}\n"
     ]
    },
    {
     "name": "stdout",
     "output_type": "stream",
     "text": [
      "Processing 13 out of 25\n",
      "Processing 14 out of 25\n"
     ]
    },
    {
     "name": "stderr",
     "output_type": "stream",
     "text": [
      "2019-11-16 15:10:38 [scrapy.core.engine] DEBUG: Crawled (200) <GET https://www.usedsurfboardshawaii.com/product/6ft-kerry-tokoro-squash-tail-ref-23686/> (referer: https://www.usedsurfboardshawaii.com/page/24/?post_type=product) ['cached']\n",
      "2019-11-16 15:10:38 [scrapy.core.scraper] DEBUG: Scraped from <200 https://www.usedsurfboardshawaii.com/product/7ft-pin-tail-ref23699/>\n",
      "{'url': 'https://www.usedsurfboardshawaii.com/product/7ft-pin-tail-ref23699/', 'title': '7ft P. Mulhern Pin Tail Ref# 23699', 'price': 350.0, 'description': 'Good condition board.', 'type': 'Thruster (Future)', 'height': 'H 7′', 'width': 'W 18 1/4', 'thickness': 'T 2 3/8', 'condition': 'Good', 'manufacturer': ''}\n",
      "2019-11-16 15:10:38 [scrapy.core.engine] DEBUG: Crawled (200) <GET https://www.usedsurfboardshawaii.com/product/6ft-7in-kerry-tokoro-pin-tail-ref-23683/> (referer: https://www.usedsurfboardshawaii.com/page/24/?post_type=product) ['cached']\n",
      "2019-11-16 15:10:38 [scrapy.core.scraper] DEBUG: Scraped from <200 https://www.usedsurfboardshawaii.com/product/6ft-2in-arakawa-squash-tail-ref-23701/>\n",
      "{'url': 'https://www.usedsurfboardshawaii.com/product/6ft-2in-arakawa-squash-tail-ref-23701/', 'title': '6ft 2in Arakawa Squash Tail Ref# 23701', 'price': 385.0, 'description': 'Nice board in good condition.', 'type': 'Thruster (Future)', 'height': 'H 6’2″', 'width': 'W 18.5', 'thickness': 'T 2.38', 'condition': 'Good', 'manufacturer': ''}\n"
     ]
    },
    {
     "name": "stdout",
     "output_type": "stream",
     "text": [
      "Processing 15 out of 25\n",
      "Processing 16 out of 25\n"
     ]
    },
    {
     "name": "stderr",
     "output_type": "stream",
     "text": [
      "2019-11-16 15:10:38 [scrapy.core.engine] DEBUG: Crawled (200) <GET https://www.usedsurfboardshawaii.com/product/6ft-3in-tokoro-round-tail-ref-23684/> (referer: https://www.usedsurfboardshawaii.com/page/24/?post_type=product) ['cached']\n",
      "2019-11-16 15:10:38 [scrapy.core.scraper] DEBUG: Scraped from <200 https://www.usedsurfboardshawaii.com/product/6ft-kerry-tokoro-squash-tail-ref-23686/>\n",
      "{'url': 'https://www.usedsurfboardshawaii.com/product/6ft-kerry-tokoro-squash-tail-ref-23686/', 'title': '6ft Kerry Tokoro Squash Tail Ref# 23686', 'price': 175.0, 'description': 'Nice shortboard with minimal sign of previous use.', 'type': 'Thruster (FCS)', 'height': 'H 6′', 'width': 'W 18″', 'thickness': 'T 2″', 'condition': 'Good', 'manufacturer': 'Kerry Tokoro'}\n",
      "2019-11-16 15:10:39 [scrapy.core.engine] DEBUG: Crawled (200) <GET https://www.usedsurfboardshawaii.com/product/6ft-leashlok/> (referer: https://www.usedsurfboardshawaii.com/page/24/?post_type=product) ['cached']\n",
      "2019-11-16 15:10:39 [scrapy.core.scraper] DEBUG: Scraped from <200 https://www.usedsurfboardshawaii.com/product/6ft-7in-kerry-tokoro-pin-tail-ref-23683/>\n",
      "{'url': 'https://www.usedsurfboardshawaii.com/product/6ft-7in-kerry-tokoro-pin-tail-ref-23683/', 'title': '6ft 7in Kerry Tokoro Pin Tail Ref# 23683', 'price': 199.0, 'description': 'Nice shortboard with minimal sign of previous use.', 'type': 'Thruster (FCS)', 'height': 'H 6’7″', 'width': 'W 18″', 'thickness': 'T 2 1/16″', 'condition': 'Good', 'manufacturer': 'Kerry Tokoro'}\n"
     ]
    },
    {
     "name": "stdout",
     "output_type": "stream",
     "text": [
      "Processing 17 out of 25\n",
      "Processing 18 out of 25\n"
     ]
    },
    {
     "name": "stderr",
     "output_type": "stream",
     "text": [
      "2019-11-16 15:10:39 [scrapy.core.engine] DEBUG: Crawled (200) <GET https://www.usedsurfboardshawaii.com/product/6ft-5in-umeda-pin-tail-ref-23655/> (referer: https://www.usedsurfboardshawaii.com/page/24/?post_type=product) ['cached']\n",
      "2019-11-16 15:10:39 [scrapy.core.scraper] DEBUG: Scraped from <200 https://www.usedsurfboardshawaii.com/product/6ft-3in-tokoro-round-tail-ref-23684/>\n",
      "{'url': 'https://www.usedsurfboardshawaii.com/product/6ft-3in-tokoro-round-tail-ref-23684/', 'title': '6ft 3in Tokoro Round Tail Ref# 23684', 'price': 199.0, 'description': 'Nice shortboard with minimal sign of previous use. EPS.', 'type': 'Thruster (FCS)', 'height': 'H 6’3″', 'width': 'W 18″', 'thickness': 'T 2″', 'condition': 'Good', 'manufacturer': 'Tokoro'}\n",
      "2019-11-16 15:10:39 [scrapy.core.engine] DEBUG: Crawled (200) <GET https://www.usedsurfboardshawaii.com/product/5ft-tokoro-round-tail-ref-23656/> (referer: https://www.usedsurfboardshawaii.com/page/24/?post_type=product) ['cached']\n"
     ]
    },
    {
     "name": "stdout",
     "output_type": "stream",
     "text": [
      "Processing 19 out of 25\n",
      "Processing 20 out of 25\n"
     ]
    },
    {
     "name": "stderr",
     "output_type": "stream",
     "text": [
      "2019-11-16 15:10:39 [scrapy.core.engine] DEBUG: Crawled (200) <GET https://www.usedsurfboardshawaii.com/product/5ft-5in-tokoro-diamond-tail-ref-23642/> (referer: https://www.usedsurfboardshawaii.com/page/24/?post_type=product) ['cached']\n",
      "2019-11-16 15:10:39 [scrapy.core.scraper] DEBUG: Scraped from <200 https://www.usedsurfboardshawaii.com/product/6ft-5in-umeda-pin-tail-ref-23655/>\n",
      "{'url': 'https://www.usedsurfboardshawaii.com/product/6ft-5in-umeda-pin-tail-ref-23655/', 'title': '6ft 5in Umeda Pin Tail Ref# 23655', 'price': 250.0, 'description': 'Nice shortboard with minimal sign of previous use.', 'type': 'Thruster (FCS)', 'height': 'H 6’5″', 'width': 'W 18 1/4″', 'thickness': 'T 2 1/4″', 'condition': 'Good', 'manufacturer': 'Umeda'}\n",
      "2019-11-16 15:10:39 [scrapy.core.engine] DEBUG: Crawled (200) <GET https://www.usedsurfboardshawaii.com/product/5ft-10in-ey-swallow-tail-ref-23639/> (referer: https://www.usedsurfboardshawaii.com/page/24/?post_type=product) ['cached']\n",
      "2019-11-16 15:10:39 [scrapy.core.scraper] DEBUG: Scraped from <200 https://www.usedsurfboardshawaii.com/product/5ft-tokoro-round-tail-ref-23656/>\n",
      "{'url': 'https://www.usedsurfboardshawaii.com/product/5ft-tokoro-round-tail-ref-23656/', 'title': '5ft Tokoro Round Tail Ref# 23656', 'price': 250.0, 'description': 'Nice shortboard with minimal sign of previous use.', 'type': 'Thruster (FCS)', 'height': 'H 5′', 'width': 'W 18 3/8″', 'thickness': 'T 2 1/4″', 'condition': 'Good', 'manufacturer': 'Tokoro'}\n"
     ]
    },
    {
     "name": "stdout",
     "output_type": "stream",
     "text": [
      "Processing 21 out of 25\n",
      "Processing 22 out of 25\n"
     ]
    },
    {
     "name": "stderr",
     "output_type": "stream",
     "text": [
      "2019-11-16 15:10:39 [scrapy.core.engine] DEBUG: Crawled (200) <GET https://www.usedsurfboardshawaii.com/product/5ft-5in-tokoro-round-tail-ref-23634/> (referer: https://www.usedsurfboardshawaii.com/page/24/?post_type=product) ['cached']\n",
      "2019-11-16 15:10:39 [scrapy.core.scraper] DEBUG: Scraped from <200 https://www.usedsurfboardshawaii.com/product/5ft-5in-tokoro-diamond-tail-ref-23642/>\n",
      "{'url': 'https://www.usedsurfboardshawaii.com/product/5ft-5in-tokoro-diamond-tail-ref-23642/', 'title': '5ft 5in Tokoro Diamond Tail Ref# 23642', 'price': 550.0, 'description': 'Nice shortboard with minimal sign of previous use.', 'type': '5-Fin (FCS 2)', 'height': 'H 5’5″', 'width': 'W 19 1/8″', 'thickness': 'T 2 1/4″', 'condition': 'Good', 'manufacturer': 'Tokoro'}\n",
      "2019-11-16 15:10:39 [scrapy.core.engine] DEBUG: Crawled (200) <GET https://www.usedsurfboardshawaii.com/product/6ft-1in-prototype-swallow-tail-ref-23638/> (referer: https://www.usedsurfboardshawaii.com/page/24/?post_type=product) ['cached']\n",
      "2019-11-16 15:10:39 [scrapy.core.scraper] DEBUG: Scraped from <200 https://www.usedsurfboardshawaii.com/product/5ft-10in-ey-swallow-tail-ref-23639/>\n",
      "{'url': 'https://www.usedsurfboardshawaii.com/product/5ft-10in-ey-swallow-tail-ref-23639/', 'title': '5ft 10in EY Swallow Tail Ref# 23639', 'price': 299.0, 'description': 'Nice shortboard with minimal sign of previous use.', 'type': 'Thruster (FCS)', 'height': 'H 5’10”', 'width': 'W 18 1/4″', 'thickness': 'T 2″', 'condition': 'Good', 'manufacturer': 'EY'}\n"
     ]
    },
    {
     "name": "stdout",
     "output_type": "stream",
     "text": [
      "Processing 23 out of 25\n",
      "Processing 24 out of 25\n"
     ]
    },
    {
     "name": "stderr",
     "output_type": "stream",
     "text": [
      "2019-11-16 15:10:40 [scrapy.core.engine] DEBUG: Crawled (200) <GET https://www.usedsurfboardshawaii.com/product/6ft-3in-downing-round-tail-ref-23644/> (referer: https://www.usedsurfboardshawaii.com/page/24/?post_type=product) ['cached']\n",
      "2019-11-16 15:10:40 [scrapy.core.scraper] DEBUG: Scraped from <200 https://www.usedsurfboardshawaii.com/product/5ft-5in-tokoro-round-tail-ref-23634/>\n",
      "{'url': 'https://www.usedsurfboardshawaii.com/product/5ft-5in-tokoro-round-tail-ref-23634/', 'title': '5ft 5in Tokoro Round Tail Ref# 23634', 'price': 399.0, 'description': 'Nice shortboard with minimal sign of previous use.', 'type': '5-Fin (FCS 2)', 'height': 'H 5’5″', 'width': 'W 19 3/4″', 'thickness': 'T 2 1/4″', 'condition': 'Good', 'manufacturer': 'Tokoro'}\n",
      "2019-11-16 15:10:40 [scrapy.core.engine] DEBUG: Crawled (200) <GET https://www.usedsurfboardshawaii.com/product/7ft-6in-jc-round-tail-ref-23647/> (referer: https://www.usedsurfboardshawaii.com/page/24/?post_type=product) ['cached']\n",
      "2019-11-16 15:10:40 [scrapy.core.scraper] DEBUG: Scraped from <200 https://www.usedsurfboardshawaii.com/product/6ft-1in-prototype-swallow-tail-ref-23638/>\n",
      "{'url': 'https://www.usedsurfboardshawaii.com/product/6ft-1in-prototype-swallow-tail-ref-23638/', 'title': '6ft 1in Prototype Swallow Tail Ref# 23638', 'price': 299.0, 'description': 'Nice shortboard with minimal sign of previous use.', 'type': 'Thruster (FCS)', 'height': 'H 6’1″', 'width': 'W 18 3/4″', 'thickness': 'T 2.31″', 'condition': 'Good', 'manufacturer': 'Prototype'}\n",
      "2019-11-16 15:10:40 [scrapy.core.engine] DEBUG: Crawled (200) <GET https://www.usedsurfboardshawaii.com/page/25/?post_type=product> (referer: https://www.usedsurfboardshawaii.com/page/24/?post_type=product) ['cached']\n",
      "2019-11-16 15:10:40 [scrapy.core.scraper] DEBUG: Scraped from <200 https://www.usedsurfboardshawaii.com/product/6ft-3in-downing-round-tail-ref-23644/>\n",
      "{'url': 'https://www.usedsurfboardshawaii.com/product/6ft-3in-downing-round-tail-ref-23644/', 'title': '6ft 3in Downing Round Tail Ref# 23644', 'price': 325.0, 'description': 'Nice shortboard with minimal sign of previous use.', 'type': 'Thruster (Future)', 'height': 'H 6’3″', 'width': 'W 18″', 'thickness': 'T 2″', 'condition': 'Good', 'manufacturer': 'Downing'}\n"
     ]
    },
    {
     "name": "stdout",
     "output_type": "stream",
     "text": [
      "Processing 25 out of 25\n",
      "\n",
      "https://www.usedsurfboardshawaii.com/page/25/?post_type=product\n"
     ]
    },
    {
     "name": "stderr",
     "output_type": "stream",
     "text": [
      "2019-11-16 15:10:40 [scrapy.core.engine] DEBUG: Crawled (200) <GET https://www.usedsurfboardshawaii.com/product/6ft-8in-tokoro-round-pin-tail-ref-23588/> (referer: https://www.usedsurfboardshawaii.com/page/25/?post_type=product) ['cached']\n"
     ]
    },
    {
     "name": "stdout",
     "output_type": "stream",
     "text": [
      "Total:  25\n",
      "Processing 1 out of 25\n",
      "Processing 2 out of 25\n"
     ]
    },
    {
     "name": "stderr",
     "output_type": "stream",
     "text": [
      "2019-11-16 15:10:40 [scrapy.core.engine] DEBUG: Crawled (200) <GET https://www.usedsurfboardshawaii.com/product/5ft-6in-bret-swallow-tail-ref-23600/> (referer: https://www.usedsurfboardshawaii.com/page/25/?post_type=product) ['cached']\n",
      "2019-11-16 15:10:40 [scrapy.core.engine] DEBUG: Crawled (200) <GET https://www.usedsurfboardshawaii.com/product/5ft-11in-pyzel-swallow-tail-ref-23582/> (referer: https://www.usedsurfboardshawaii.com/page/25/?post_type=product) ['cached']\n",
      "2019-11-16 15:10:40 [scrapy.core.scraper] DEBUG: Scraped from <200 https://www.usedsurfboardshawaii.com/product/6ft-8in-tokoro-round-pin-tail-ref-23588/>\n",
      "{'url': 'https://www.usedsurfboardshawaii.com/product/6ft-8in-tokoro-round-pin-tail-ref-23588/', 'title': '6ft 8in Tokoro Round Pin Tail Ref# 23588', 'price': 215.0, 'description': 'Nice shortboard with minimal sign of previous use.', 'type': 'Thruster (FCS)', 'height': 'H 6’8″', 'width': 'W 18 1/16″', 'thickness': 'T 2 1/8″', 'condition': 'Good', 'manufacturer': 'Tokoro'}\n"
     ]
    },
    {
     "name": "stdout",
     "output_type": "stream",
     "text": [
      "Processing 3 out of 25\n",
      "Processing 4 out of 25\n"
     ]
    },
    {
     "name": "stderr",
     "output_type": "stream",
     "text": [
      "2019-11-16 15:10:40 [scrapy.core.engine] DEBUG: Crawled (200) <GET https://www.usedsurfboardshawaii.com/product/6ft-1in-meeks-round-tail-ref-23570/> (referer: https://www.usedsurfboardshawaii.com/page/25/?post_type=product) ['cached']\n",
      "2019-11-16 15:10:40 [scrapy.core.scraper] DEBUG: Scraped from <200 https://www.usedsurfboardshawaii.com/product/5ft-6in-bret-swallow-tail-ref-23600/>\n",
      "{'url': 'https://www.usedsurfboardshawaii.com/product/5ft-6in-bret-swallow-tail-ref-23600/', 'title': '5ft 6in Bret Swallow Tail Ref# 23600', 'price': 130.0, 'description': 'Nice shortboard with minimal sign of previous use. A bit of pressure denting on the deck.', 'type': '5-Fin (Future)', 'height': 'H 5’6″', 'width': 'W 19.68″', 'thickness': 'T 2.38″', 'condition': 'Good', 'manufacturer': 'Bret'}\n",
      "2019-11-16 15:10:41 [scrapy.core.engine] DEBUG: Crawled (200) <GET https://www.usedsurfboardshawaii.com/product/6ft-10in-brett-round-tail-ref-23478/> (referer: https://www.usedsurfboardshawaii.com/page/25/?post_type=product) ['cached']\n",
      "2019-11-16 15:10:41 [scrapy.core.scraper] DEBUG: Scraped from <200 https://www.usedsurfboardshawaii.com/product/5ft-11in-pyzel-swallow-tail-ref-23582/>\n",
      "{'url': 'https://www.usedsurfboardshawaii.com/product/5ft-11in-pyzel-swallow-tail-ref-23582/', 'title': '5ft 11in Pyzel Swallow Tail Ref# 23582', 'price': 325.0, 'description': 'Nice shortboard with minimal sign of previous use.', 'type': 'Quad Fin (Future)', 'height': 'H 5’11”', 'width': 'W 19 3/8″', 'thickness': 'T 2 7/16″', 'condition': 'Good', 'manufacturer': 'Pyzel'}\n"
     ]
    },
    {
     "name": "stdout",
     "output_type": "stream",
     "text": [
      "Processing 5 out of 25\n",
      "Processing 6 out of 25\n"
     ]
    },
    {
     "name": "stderr",
     "output_type": "stream",
     "text": [
      "2019-11-16 15:10:41 [scrapy.core.engine] DEBUG: Crawled (200) <GET https://www.usedsurfboardshawaii.com/product/5ft-7in-j-sleigh-swallow-tail-ref-23472/> (referer: https://www.usedsurfboardshawaii.com/page/25/?post_type=product) ['cached']\n",
      "2019-11-16 15:10:41 [scrapy.core.scraper] DEBUG: Scraped from <200 https://www.usedsurfboardshawaii.com/product/6ft-1in-meeks-round-tail-ref-23570/>\n",
      "{'url': 'https://www.usedsurfboardshawaii.com/product/6ft-1in-meeks-round-tail-ref-23570/', 'title': '6ft 1in Meeks Round Tail Ref# 23570', 'price': 575.0, 'description': 'Nice shortboard with minimal sign of previous use.', 'type': 'Thruster (Future)', 'height': 'H 6’1″', 'width': 'W 18 1/2″', 'thickness': 'T 2 1/4″', 'condition': 'Good', 'manufacturer': 'Meeks'}\n",
      "2019-11-16 15:10:41 [scrapy.core.engine] DEBUG: Crawled (200) <GET https://www.usedsurfboardshawaii.com/product/6ft-6in-richie-collins-round-tail-ref-23470/> (referer: https://www.usedsurfboardshawaii.com/page/25/?post_type=product) ['cached']\n",
      "2019-11-16 15:10:41 [scrapy.core.scraper] DEBUG: Scraped from <200 https://www.usedsurfboardshawaii.com/product/6ft-10in-brett-round-tail-ref-23478/>\n",
      "{'url': 'https://www.usedsurfboardshawaii.com/product/6ft-10in-brett-round-tail-ref-23478/', 'title': '6ft 10in Brett Round Tail Ref# 23478', 'price': 299.0, 'description': 'Nice shortboard with minimal sign of previous use.', 'type': 'Thruster (FCS)', 'height': 'H 6’10”', 'width': 'W 18 1/2″', 'thickness': 'T 2 1/4″', 'condition': 'Good', 'manufacturer': 'Brett'}\n"
     ]
    },
    {
     "name": "stdout",
     "output_type": "stream",
     "text": [
      "Processing 7 out of 25\n",
      "Processing 8 out of 25\n"
     ]
    },
    {
     "name": "stderr",
     "output_type": "stream",
     "text": [
      "2019-11-16 15:10:41 [scrapy.core.engine] DEBUG: Crawled (200) <GET https://www.usedsurfboardshawaii.com/product/6ft-7in-chronic-swallow-tail-ref-23397/> (referer: https://www.usedsurfboardshawaii.com/page/25/?post_type=product) ['cached']\n",
      "2019-11-16 15:10:41 [scrapy.core.scraper] DEBUG: Scraped from <200 https://www.usedsurfboardshawaii.com/product/5ft-7in-j-sleigh-swallow-tail-ref-23472/>\n",
      "{'url': 'https://www.usedsurfboardshawaii.com/product/5ft-7in-j-sleigh-swallow-tail-ref-23472/', 'title': '5ft 7in J. Sleigh Swallow Tail Ref# 23472', 'price': 199.0, 'description': 'Nice shortboard with minimal sign of previous use.', 'type': 'Thruster (Future)', 'height': 'H 5’7″', 'width': 'W 19 1/4″', 'thickness': 'T 2 1/8″', 'condition': 'Good', 'manufacturer': 'J. Sleigh'}\n",
      "2019-11-16 15:10:41 [scrapy.core.engine] DEBUG: Crawled (200) <GET https://www.usedsurfboardshawaii.com/product/6ft-9in-johnston-squash-tail-ref-23425/> (referer: https://www.usedsurfboardshawaii.com/page/25/?post_type=product) ['cached']\n",
      "2019-11-16 15:10:41 [scrapy.core.scraper] DEBUG: Scraped from <200 https://www.usedsurfboardshawaii.com/product/6ft-6in-richie-collins-round-tail-ref-23470/>\n",
      "{'url': 'https://www.usedsurfboardshawaii.com/product/6ft-6in-richie-collins-round-tail-ref-23470/', 'title': '6ft 6in Richie Collins Round Tail Ref# 23470', 'price': 190.0, 'description': 'Nice shortboard with minimal sign of previous use.', 'type': 'Thruster (FCS)', 'height': 'H 6’6″', 'width': 'W 18 3/8″', 'thickness': 'T 2 3/16″', 'condition': 'Good', 'manufacturer': 'Richie Collins'}\n"
     ]
    },
    {
     "name": "stdout",
     "output_type": "stream",
     "text": [
      "Processing 9 out of 25\n",
      "Processing 10 out of 25\n"
     ]
    },
    {
     "name": "stderr",
     "output_type": "stream",
     "text": [
      "2019-11-16 15:10:41 [scrapy.core.engine] DEBUG: Crawled (200) <GET https://www.usedsurfboardshawaii.com/product/7ft-triple-crown-pin-tail-ref-23377/> (referer: https://www.usedsurfboardshawaii.com/page/25/?post_type=product) ['cached']\n",
      "2019-11-16 15:10:41 [scrapy.core.scraper] DEBUG: Scraped from <200 https://www.usedsurfboardshawaii.com/product/6ft-7in-chronic-swallow-tail-ref-23397/>\n",
      "{'url': 'https://www.usedsurfboardshawaii.com/product/6ft-7in-chronic-swallow-tail-ref-23397/', 'title': '6ft 7in Chronic Swallow Tail Ref# 23397', 'price': 250.0, 'description': 'Nice shortboard with minimal sign of previous use.', 'type': 'Thruster (FCS)', 'height': 'H 6’7″', 'width': 'W 18 1/2″', 'thickness': 'T 2 1/2″', 'condition': 'Good', 'manufacturer': 'Chronic'}\n",
      "2019-11-16 15:10:41 [scrapy.core.engine] DEBUG: Crawled (200) <GET https://www.usedsurfboardshawaii.com/product/5ft-11in-edge-swallow-tail-ref-23287/> (referer: https://www.usedsurfboardshawaii.com/page/25/?post_type=product) ['cached']\n",
      "2019-11-16 15:10:41 [scrapy.core.scraper] DEBUG: Scraped from <200 https://www.usedsurfboardshawaii.com/product/6ft-9in-johnston-squash-tail-ref-23425/>\n",
      "{'url': 'https://www.usedsurfboardshawaii.com/product/6ft-9in-johnston-squash-tail-ref-23425/', 'title': '6ft 9in Johnston Squash Tail Ref# 23425', 'price': 575.0, 'description': 'Nice shortboard with minimal sign of previous use.', 'type': 'Quad Fin (Future)', 'height': 'H 6’9″', 'width': 'W 20 3/4″', 'thickness': 'T 2 3/4″', 'condition': 'Good', 'manufacturer': 'Johnston'}\n"
     ]
    },
    {
     "name": "stdout",
     "output_type": "stream",
     "text": [
      "Processing 11 out of 25\n",
      "Processing 12 out of 25\n"
     ]
    },
    {
     "name": "stderr",
     "output_type": "stream",
     "text": [
      "2019-11-16 15:10:42 [scrapy.core.engine] DEBUG: Crawled (200) <GET https://www.usedsurfboardshawaii.com/product/6ft-7s-swallow-tail-ref-23305/> (referer: https://www.usedsurfboardshawaii.com/page/25/?post_type=product) ['cached']\n",
      "2019-11-16 15:10:42 [scrapy.core.scraper] DEBUG: Scraped from <200 https://www.usedsurfboardshawaii.com/product/7ft-triple-crown-pin-tail-ref-23377/>\n",
      "{'url': 'https://www.usedsurfboardshawaii.com/product/7ft-triple-crown-pin-tail-ref-23377/', 'title': '7ft Triple Crown Pin Tail Ref# 23377', 'price': 525.0, 'description': 'Nice midsize board with minimal sign of previous use.', 'type': '5-Fin (Future)', 'height': 'H 7′', 'width': 'W 20 1/2″', 'thickness': 'T 2 1/2″', 'condition': 'Good', 'manufacturer': 'Triple Crown'}\n",
      "2019-11-16 15:10:42 [scrapy.core.engine] DEBUG: Crawled (200) <GET https://www.usedsurfboardshawaii.com/product/5ft-6in-j-kashiwai-squash-tail-ref-23180/> (referer: https://www.usedsurfboardshawaii.com/page/25/?post_type=product) ['cached']\n",
      "2019-11-16 15:10:42 [scrapy.core.scraper] DEBUG: Scraped from <200 https://www.usedsurfboardshawaii.com/product/5ft-11in-edge-swallow-tail-ref-23287/>\n",
      "{'url': 'https://www.usedsurfboardshawaii.com/product/5ft-11in-edge-swallow-tail-ref-23287/', 'title': '5ft 11in Edge Swallow Tail Ref# 23287', 'price': 199.0, 'description': 'Nice shortboard with minimal sign of previous use.', 'type': 'Thruster (FCS)', 'height': 'H 5’11”', 'width': 'W 19.5″', 'thickness': 'T 32.5″', 'condition': 'Good', 'manufacturer': 'Edge'}\n"
     ]
    },
    {
     "name": "stdout",
     "output_type": "stream",
     "text": [
      "Processing 13 out of 25\n",
      "Processing 14 out of 25\n"
     ]
    },
    {
     "name": "stderr",
     "output_type": "stream",
     "text": [
      "2019-11-16 15:10:42 [scrapy.core.engine] DEBUG: Crawled (200) <GET https://www.usedsurfboardshawaii.com/product/5ft-6in-j-kashiwai-squash-tail-ref-23284/> (referer: https://www.usedsurfboardshawaii.com/page/25/?post_type=product) ['cached']\n",
      "2019-11-16 15:10:42 [scrapy.core.scraper] DEBUG: Scraped from <200 https://www.usedsurfboardshawaii.com/product/6ft-7s-swallow-tail-ref-23305/>\n",
      "{'url': 'https://www.usedsurfboardshawaii.com/product/6ft-7s-swallow-tail-ref-23305/', 'title': '6ft 7S Swallow Tail Ref# 23305', 'price': 350.0, 'description': 'Nice shortboard with minimal sign of previous use.', 'type': '5-Fin (FCS)', 'height': 'H 6′', 'width': 'W 20 1/4″', 'thickness': 'T 2 3/16″', 'condition': 'Good', 'manufacturer': '7S'}\n",
      "2019-11-16 15:10:42 [scrapy.core.engine] DEBUG: Crawled (200) <GET https://www.usedsurfboardshawaii.com/product/5ft-10in-j-richardson-squash-tail-ref-23203/> (referer: https://www.usedsurfboardshawaii.com/page/25/?post_type=product) ['cached']\n",
      "2019-11-16 15:10:42 [scrapy.core.scraper] DEBUG: Scraped from <200 https://www.usedsurfboardshawaii.com/product/5ft-6in-j-kashiwai-squash-tail-ref-23180/>\n",
      "{'url': 'https://www.usedsurfboardshawaii.com/product/5ft-6in-j-kashiwai-squash-tail-ref-23180/', 'title': '5ft 6in J. Kashiwai Squash Tail Ref# 23180', 'price': 465.0, 'description': 'Nice shortboard with minimal sign of previous use.', 'type': 'Thruster (Future)', 'height': 'H 5’6″', 'width': 'W 2.31″', 'thickness': None, 'condition': 'Good', 'manufacturer': 'J. Kashiwai'}\n"
     ]
    },
    {
     "name": "stdout",
     "output_type": "stream",
     "text": [
      "Processing 15 out of 25\n",
      "Processing 16 out of 25\n"
     ]
    },
    {
     "name": "stderr",
     "output_type": "stream",
     "text": [
      "2019-11-16 15:10:42 [scrapy.core.engine] DEBUG: Crawled (200) <GET https://www.usedsurfboardshawaii.com/product/6ft-kolea-squash-tail-ref-23276/> (referer: https://www.usedsurfboardshawaii.com/page/25/?post_type=product) ['cached']\n",
      "2019-11-16 15:10:42 [scrapy.core.scraper] DEBUG: Scraped from <200 https://www.usedsurfboardshawaii.com/product/5ft-6in-j-kashiwai-squash-tail-ref-23284/>\n",
      "{'url': 'https://www.usedsurfboardshawaii.com/product/5ft-6in-j-kashiwai-squash-tail-ref-23284/', 'title': '5ft 6in J. Kashiwai Squash Tail Ref# 23284', 'price': 465.0, 'description': 'Nice shortboard with minimal sign of previous use. 2 Sets of fins included.', 'type': 'Thruster (Fin S)', 'height': 'H 5’6″', 'width': 'W 18 3/4″', 'thickness': 'T 2 1/4″', 'condition': 'Good', 'manufacturer': 'J. Kashiwai'}\n",
      "2019-11-16 15:10:42 [scrapy.core.engine] DEBUG: Crawled (200) <GET https://www.usedsurfboardshawaii.com/product/6ft-1in-vol-4-squash-tail-ref-23274/> (referer: https://www.usedsurfboardshawaii.com/page/25/?post_type=product) ['cached']\n",
      "2019-11-16 15:10:42 [scrapy.core.scraper] DEBUG: Scraped from <200 https://www.usedsurfboardshawaii.com/product/5ft-10in-j-richardson-squash-tail-ref-23203/>\n",
      "{'url': 'https://www.usedsurfboardshawaii.com/product/5ft-10in-j-richardson-squash-tail-ref-23203/', 'title': '5ft 10in J. Richardson Squash Tail Ref# 23203', 'price': 480.0, 'description': 'Nice shortboard with minimal sign of previous use.', 'type': 'Thruster (FCS 2)', 'height': 'H 5’10”', 'width': 'W 20″', 'thickness': 'T 2 5/8″', 'condition': 'Good', 'manufacturer': 'J. Richardson'}\n"
     ]
    },
    {
     "name": "stdout",
     "output_type": "stream",
     "text": [
      "Processing 17 out of 25\n",
      "Processing 18 out of 25\n"
     ]
    },
    {
     "name": "stderr",
     "output_type": "stream",
     "text": [
      "2019-11-16 15:10:42 [scrapy.core.engine] DEBUG: Crawled (200) <GET https://www.usedsurfboardshawaii.com/product/8ft-6in-flight-swallow-tail-ref-23103/> (referer: https://www.usedsurfboardshawaii.com/page/25/?post_type=product) ['cached']\n",
      "2019-11-16 15:10:42 [scrapy.core.scraper] DEBUG: Scraped from <200 https://www.usedsurfboardshawaii.com/product/6ft-kolea-squash-tail-ref-23276/>\n",
      "{'url': 'https://www.usedsurfboardshawaii.com/product/6ft-kolea-squash-tail-ref-23276/', 'title': '6ft Kolea Squash Tail Ref# 23276', 'price': 332.0, 'description': 'Nice shortboard with minimal sign of previous use.', 'type': 'Thruster (Future)', 'height': 'H 6′', 'width': 'W 19 1/2″', 'thickness': 'T 2 13/32″', 'condition': 'Good', 'manufacturer': 'Kolea'}\n",
      "2019-11-16 15:10:43 [scrapy.core.engine] DEBUG: Crawled (200) <GET https://www.usedsurfboardshawaii.com/product/9ft-nectar-squash-tail-ref-22473/> (referer: https://www.usedsurfboardshawaii.com/page/25/?post_type=product) ['cached']\n",
      "2019-11-16 15:10:43 [scrapy.core.scraper] DEBUG: Scraped from <200 https://www.usedsurfboardshawaii.com/product/6ft-1in-vol-4-squash-tail-ref-23274/>\n",
      "{'url': 'https://www.usedsurfboardshawaii.com/product/6ft-1in-vol-4-squash-tail-ref-23274/', 'title': '6ft 1in Vol 4 Squash Tail Ref# 23274', 'price': 208.0, 'description': 'Nice shortboard with minimal sign of previous use. Small ding on bottom that needs fixing.', 'type': '5-Fin (Future)', 'height': 'H 6’1″', 'width': 'W 19 3/8″', 'thickness': 'T 2 1/2″', 'condition': 'Good', 'manufacturer': 'Vol4'}\n"
     ]
    },
    {
     "name": "stdout",
     "output_type": "stream",
     "text": [
      "Processing 19 out of 25\n",
      "Processing 20 out of 25\n"
     ]
    },
    {
     "name": "stderr",
     "output_type": "stream",
     "text": [
      "2019-11-16 15:10:43 [scrapy.core.engine] DEBUG: Crawled (200) <GET https://www.usedsurfboardshawaii.com/product/8ft-4in-rawson-round-tail-ref-22848/> (referer: https://www.usedsurfboardshawaii.com/page/25/?post_type=product) ['cached']\n",
      "2019-11-16 15:10:43 [scrapy.core.scraper] DEBUG: Scraped from <200 https://www.usedsurfboardshawaii.com/product/8ft-6in-flight-swallow-tail-ref-23103/>\n",
      "{'url': 'https://www.usedsurfboardshawaii.com/product/8ft-6in-flight-swallow-tail-ref-23103/', 'title': '8ft 6in Flight Swallow Tail Ref# 23103', 'price': 949.0, 'description': 'Nice SUP with minimal sign of previous use.', 'type': '4+1 Fin (Future)', 'height': 'H 8’6″', 'width': 'W 29 5/8″', 'thickness': 'T 4″', 'condition': 'Good', 'manufacturer': 'Flight'}\n",
      "2019-11-16 15:10:43 [scrapy.core.engine] DEBUG: Crawled (200) <GET https://www.usedsurfboardshawaii.com/product/6ft-10in-al-merrick-channel-island-pin-tail-ref-23265/> (referer: https://www.usedsurfboardshawaii.com/page/25/?post_type=product) ['cached']\n",
      "2019-11-16 15:10:43 [scrapy.core.scraper] DEBUG: Scraped from <200 https://www.usedsurfboardshawaii.com/product/9ft-nectar-squash-tail-ref-22473/>\n",
      "{'url': 'https://www.usedsurfboardshawaii.com/product/9ft-nectar-squash-tail-ref-22473/', 'title': '9ft Nectar Squash Tail Ref# 22473', 'price': 699.0, 'description': 'Nice SUP with minimal sign of previous use.', 'type': '2+1 Fin (Future)', 'height': 'H 9′', 'width': 'W 26 1/2″', 'thickness': 'T 3 1/4″', 'condition': 'Good', 'manufacturer': 'Nectar'}\n"
     ]
    },
    {
     "name": "stdout",
     "output_type": "stream",
     "text": [
      "Processing 21 out of 25\n",
      "Processing 22 out of 25\n"
     ]
    },
    {
     "name": "stderr",
     "output_type": "stream",
     "text": [
      "2019-11-16 15:10:43 [scrapy.core.engine] DEBUG: Crawled (200) <GET https://www.usedsurfboardshawaii.com/product/6ft-3in-firewire-round-tail-ref-23173/> (referer: https://www.usedsurfboardshawaii.com/page/25/?post_type=product) ['cached']\n",
      "2019-11-16 15:10:43 [scrapy.core.scraper] DEBUG: Scraped from <200 https://www.usedsurfboardshawaii.com/product/8ft-4in-rawson-round-tail-ref-22848/>\n",
      "{'url': 'https://www.usedsurfboardshawaii.com/product/8ft-4in-rawson-round-tail-ref-22848/', 'title': '8ft 4in Rawson Round Tail Ref# 22848', 'price': 1350.0, 'description': 'Nice SUP with minimal sign of previous use.', 'type': 'Quad Fin (Future)', 'height': 'H 8’4″', 'width': 'W 29″', 'thickness': 'T 4″', 'condition': 'Good', 'manufacturer': 'Rawson'}\n",
      "2019-11-16 15:10:43 [scrapy.core.engine] DEBUG: Crawled (200) <GET https://www.usedsurfboardshawaii.com/product/10ft-6in-harbour-squash-tail-ref-23163/> (referer: https://www.usedsurfboardshawaii.com/page/25/?post_type=product) ['cached']\n",
      "2019-11-16 15:10:43 [scrapy.core.scraper] DEBUG: Scraped from <200 https://www.usedsurfboardshawaii.com/product/6ft-10in-al-merrick-channel-island-pin-tail-ref-23265/>\n",
      "{'url': 'https://www.usedsurfboardshawaii.com/product/6ft-10in-al-merrick-channel-island-pin-tail-ref-23265/', 'title': '6ft 10in Al Merrick Channel Island Pin Tail Ref# 23265', 'price': 399.0, 'description': 'Nice shortbaord with minimal sign of previous use.', 'type': '5-Fin (FCS + Glass on)', 'height': 'H 6’10”', 'width': 'W 18 7/8″', 'thickness': 'T 3″', 'condition': 'Good', 'manufacturer': 'Al Merrick'}\n"
     ]
    },
    {
     "name": "stdout",
     "output_type": "stream",
     "text": [
      "Processing 23 out of 25\n",
      "Processing 24 out of 25\n"
     ]
    },
    {
     "name": "stderr",
     "output_type": "stream",
     "text": [
      "2019-11-16 15:10:43 [scrapy.core.engine] DEBUG: Crawled (200) <GET https://www.usedsurfboardshawaii.com/product/6ft-g-shiu-squash-tail-ref-23091/> (referer: https://www.usedsurfboardshawaii.com/page/25/?post_type=product) ['cached']\n",
      "2019-11-16 15:10:43 [scrapy.core.scraper] DEBUG: Scraped from <200 https://www.usedsurfboardshawaii.com/product/6ft-3in-firewire-round-tail-ref-23173/>\n",
      "{'url': 'https://www.usedsurfboardshawaii.com/product/6ft-3in-firewire-round-tail-ref-23173/', 'title': '6ft 3in Firewire Round Tail Ref# 23173', 'price': 475.0, 'description': 'Nice shortboard with unique shape.', 'type': '5-Fin (Future)', 'height': 'H 6’3″', 'width': 'W 18 1/2″', 'thickness': 'T 2 3/4″', 'condition': 'Good', 'manufacturer': 'Firewire'}\n",
      "2019-11-16 15:10:43 [scrapy.core.engine] DEBUG: Crawled (200) <GET https://www.usedsurfboardshawaii.com/product/shipping-4-boards-under-9/> (referer: https://www.usedsurfboardshawaii.com/page/25/?post_type=product) ['cached']\n",
      "2019-11-16 15:10:44 [scrapy.core.scraper] DEBUG: Scraped from <200 https://www.usedsurfboardshawaii.com/product/10ft-6in-harbour-squash-tail-ref-23163/>\n",
      "{'url': 'https://www.usedsurfboardshawaii.com/product/10ft-6in-harbour-squash-tail-ref-23163/', 'title': '10ft 6in Harbour Squash Tail Ref# 23163', 'price': 450.0, 'description': 'Nice longboard with minimal sign of previous use.', 'type': 'Thruster (Glassed On)', 'height': 'H 10’6″', 'width': 'W 22 1/2″', 'thickness': 'T 3 1/2″', 'condition': 'Good', 'manufacturer': 'Harbour'}\n",
      "2019-11-16 15:10:44 [scrapy.core.engine] DEBUG: Crawled (200) <GET https://www.usedsurfboardshawaii.com/page/26/?post_type=product> (referer: https://www.usedsurfboardshawaii.com/page/25/?post_type=product) ['cached']\n",
      "2019-11-16 15:10:44 [scrapy.core.scraper] DEBUG: Scraped from <200 https://www.usedsurfboardshawaii.com/product/6ft-g-shiu-squash-tail-ref-23091/>\n",
      "{'url': 'https://www.usedsurfboardshawaii.com/product/6ft-g-shiu-squash-tail-ref-23091/', 'title': '6ft  G. Shiu Squash Tail Ref# 23091', 'price': 399.0, 'description': 'Nice shortboard with minimal sign of previous use.', 'type': 'Thruster (Future)', 'height': 'H 6′', 'width': 'W 19 1/8″', 'thickness': 'T 2 5/8″', 'condition': 'Good', 'manufacturer': 'Greg Shiu'}\n"
     ]
    },
    {
     "name": "stdout",
     "output_type": "stream",
     "text": [
      "Processing 25 out of 25\n",
      "\n",
      "https://www.usedsurfboardshawaii.com/page/26/?post_type=product\n"
     ]
    },
    {
     "name": "stderr",
     "output_type": "stream",
     "text": [
      "2019-11-16 15:10:44 [scrapy.core.engine] DEBUG: Crawled (200) <GET https://www.usedsurfboardshawaii.com/product/6ft-3in-backdoor-round-tail-ref-23037/> (referer: https://www.usedsurfboardshawaii.com/page/26/?post_type=product) ['cached']\n"
     ]
    },
    {
     "name": "stdout",
     "output_type": "stream",
     "text": [
      "Total:  25\n",
      "Processing 1 out of 25\n",
      "Processing 2 out of 25\n"
     ]
    },
    {
     "name": "stderr",
     "output_type": "stream",
     "text": [
      "2019-11-16 15:10:44 [scrapy.core.engine] DEBUG: Crawled (200) <GET https://www.usedsurfboardshawaii.com/product/5ft-6in-schaper-bat-tail-ref-22979/> (referer: https://www.usedsurfboardshawaii.com/page/26/?post_type=product) ['cached']\n",
      "2019-11-16 15:10:44 [scrapy.core.engine] DEBUG: Crawled (200) <GET https://www.usedsurfboardshawaii.com/product/6ft-js-round-tail-ref-23033/> (referer: https://www.usedsurfboardshawaii.com/page/26/?post_type=product) ['cached']\n",
      "2019-11-16 15:10:44 [scrapy.core.scraper] DEBUG: Scraped from <200 https://www.usedsurfboardshawaii.com/product/6ft-3in-backdoor-round-tail-ref-23037/>\n",
      "{'url': 'https://www.usedsurfboardshawaii.com/product/6ft-3in-backdoor-round-tail-ref-23037/', 'title': '6ft 3in Backdoor Round Tail Ref# 23037', 'price': 270.0, 'description': 'Nice shortboard with some sign of previous use. Bit of pressure denting near the center. Gash on bottom of board.', 'type': '2+1 Fin (Future)', 'height': 'H 6’3″', 'width': 'W 18 1/2″', 'thickness': 'T 2 1/2″', 'condition': 'Good', 'manufacturer': 'Backdoor'}\n"
     ]
    },
    {
     "name": "stdout",
     "output_type": "stream",
     "text": [
      "Processing 3 out of 25\n",
      "Processing 4 out of 25\n"
     ]
    },
    {
     "name": "stderr",
     "output_type": "stream",
     "text": [
      "2019-11-16 15:10:44 [scrapy.core.engine] DEBUG: Crawled (200) <GET https://www.usedsurfboardshawaii.com/product/5ft-11in-js-fmn-round-tail-ref-22879/> (referer: https://www.usedsurfboardshawaii.com/page/26/?post_type=product) ['cached']\n",
      "2019-11-16 15:10:44 [scrapy.core.scraper] DEBUG: Scraped from <200 https://www.usedsurfboardshawaii.com/product/5ft-6in-schaper-bat-tail-ref-22979/>\n",
      "{'url': 'https://www.usedsurfboardshawaii.com/product/5ft-6in-schaper-bat-tail-ref-22979/', 'title': '5ft 6in Schaper Bat Tail Ref# 22979', 'price': 300.0, 'description': 'Nice shortboard with minimal sign of previous use.', 'type': '5-Fin (FCS)', 'height': 'H 5’6″', 'width': 'W 19.5″', 'thickness': 'T 2.25″', 'condition': 'Good', 'manufacturer': 'Schaper'}\n",
      "2019-11-16 15:10:44 [scrapy.core.engine] DEBUG: Crawled (200) <GET https://www.usedsurfboardshawaii.com/product/5ft-11in-lost-mayhem-squash-tail-ref-22906/> (referer: https://www.usedsurfboardshawaii.com/page/26/?post_type=product) ['cached']\n",
      "2019-11-16 15:10:44 [scrapy.core.scraper] DEBUG: Scraped from <200 https://www.usedsurfboardshawaii.com/product/6ft-js-round-tail-ref-23033/>\n",
      "{'url': 'https://www.usedsurfboardshawaii.com/product/6ft-js-round-tail-ref-23033/', 'title': '6ft JS Round Tail Ref# 23033', 'price': 450.0, 'description': 'Nice shortboard with minimal sign of previous use.', 'type': 'Thruster (Future)', 'height': 'H 6′', 'width': 'W 18 1/5″', 'thickness': 'T 2 3/15″', 'condition': 'Good', 'manufacturer': 'JS'}\n"
     ]
    },
    {
     "name": "stdout",
     "output_type": "stream",
     "text": [
      "Processing 5 out of 25\n",
      "Processing 6 out of 25\n"
     ]
    },
    {
     "name": "stderr",
     "output_type": "stream",
     "text": [
      "2019-11-16 15:10:44 [scrapy.core.engine] DEBUG: Crawled (200) <GET https://www.usedsurfboardshawaii.com/product/6ft-surftech-squash-tail-ref-22925/> (referer: https://www.usedsurfboardshawaii.com/page/26/?post_type=product) ['cached']\n",
      "2019-11-16 15:10:45 [scrapy.core.scraper] DEBUG: Scraped from <200 https://www.usedsurfboardshawaii.com/product/5ft-11in-js-fmn-round-tail-ref-22879/>\n",
      "{'url': 'https://www.usedsurfboardshawaii.com/product/5ft-11in-js-fmn-round-tail-ref-22879/', 'title': '5ft 11in JS (FMN) Round Tail Ref# 22879', 'price': 385.0, 'description': 'Nice shortboard with minimal sign of previous use.', 'type': '5-Fin', 'height': 'H 5’11”', 'width': 'W 18 1/2″', 'thickness': None, 'condition': 'Good', 'manufacturer': 'JS'}\n",
      "2019-11-16 15:10:45 [scrapy.core.engine] DEBUG: Crawled (200) <GET https://www.usedsurfboardshawaii.com/product/6ft-6in-pyzel-round-tail-ref-22880/> (referer: https://www.usedsurfboardshawaii.com/page/26/?post_type=product) ['cached']\n",
      "2019-11-16 15:10:45 [scrapy.core.scraper] DEBUG: Scraped from <200 https://www.usedsurfboardshawaii.com/product/5ft-11in-lost-mayhem-squash-tail-ref-22906/>\n",
      "{'url': 'https://www.usedsurfboardshawaii.com/product/5ft-11in-lost-mayhem-squash-tail-ref-22906/', 'title': '5ft 11in Lost (Mayhem) Squash Tail Ref# 22906', 'price': 350.0, 'description': 'Nice shortboard with minimal sign of previous use.', 'type': '5-Fin (Future)', 'height': 'H 5’11”', 'width': 'W 19″', 'thickness': 'T 32″', 'condition': 'Good', 'manufacturer': 'Lost'}\n"
     ]
    },
    {
     "name": "stdout",
     "output_type": "stream",
     "text": [
      "Processing 7 out of 25\n",
      "Processing 8 out of 25\n"
     ]
    },
    {
     "name": "stderr",
     "output_type": "stream",
     "text": [
      "2019-11-16 15:10:45 [scrapy.core.engine] DEBUG: Crawled (200) <GET https://www.usedsurfboardshawaii.com/product/12ft-6in-c4-down-wind-sup-ref-22895/> (referer: https://www.usedsurfboardshawaii.com/page/26/?post_type=product) ['cached']\n",
      "2019-11-16 15:10:45 [scrapy.core.scraper] DEBUG: Scraped from <200 https://www.usedsurfboardshawaii.com/product/6ft-surftech-squash-tail-ref-22925/>\n",
      "{'url': 'https://www.usedsurfboardshawaii.com/product/6ft-surftech-squash-tail-ref-22925/', 'title': '6ft Surftech Squash Tail Ref# 22925', 'price': 260.0, 'description': 'Nice shortboard with minimal sign of previous use.', 'type': 'Thruster (FCS)', 'height': 'H 6′', 'width': 'W 18 1/4″', 'thickness': 'T 2 1/8″', 'condition': 'Good', 'manufacturer': 'Surftech'}\n",
      "2019-11-16 15:10:45 [scrapy.core.engine] DEBUG: Crawled (200) <GET https://www.usedsurfboardshawaii.com/product/6ft-j-kashiwai-squash-tail-ref-22822/> (referer: https://www.usedsurfboardshawaii.com/page/26/?post_type=product) ['cached']\n",
      "2019-11-16 15:10:45 [scrapy.core.scraper] DEBUG: Scraped from <200 https://www.usedsurfboardshawaii.com/product/6ft-6in-pyzel-round-tail-ref-22880/>\n",
      "{'url': 'https://www.usedsurfboardshawaii.com/product/6ft-6in-pyzel-round-tail-ref-22880/', 'title': '6ft 6in Pyzel Round Tail Ref# 22880', 'price': 425.0, 'description': 'Nice shortboard with minimal sign of previous use. Small ding on bottom that needs repair.', 'type': 'Thruster (Future)', 'height': 'H 6’6″', 'width': 'W 18.5″', 'thickness': 'T 2.3″', 'condition': 'Good', 'manufacturer': 'Pyzel'}\n"
     ]
    },
    {
     "name": "stdout",
     "output_type": "stream",
     "text": [
      "Processing 9 out of 25\n",
      "Processing 10 out of 25\n"
     ]
    },
    {
     "name": "stderr",
     "output_type": "stream",
     "text": [
      "2019-11-16 15:10:45 [scrapy.core.engine] DEBUG: Crawled (200) <GET https://www.usedsurfboardshawaii.com/product/6ft-1in-mccray-swallow-tail-ref-22846/> (referer: https://www.usedsurfboardshawaii.com/page/26/?post_type=product) ['cached']\n",
      "2019-11-16 15:10:45 [scrapy.core.scraper] DEBUG: Scraped from <200 https://www.usedsurfboardshawaii.com/product/12ft-6in-c4-down-wind-sup-ref-22895/>\n",
      "{'url': 'https://www.usedsurfboardshawaii.com/product/12ft-6in-c4-down-wind-sup-ref-22895/', 'title': '12ft 6in C4 (Down Wind SUP) Ref# 22895', 'price': 750.0, 'description': 'Nice SUP with very little sign of previous use.', 'type': 'Single Fin', 'height': 'H 12’6″', 'width': 'W 27.8″', 'thickness': 'T 5.7″', 'condition': 'Good', 'manufacturer': 'C4 Waterman'}\n",
      "2019-11-16 15:10:45 [scrapy.core.engine] DEBUG: Crawled (200) <GET https://www.usedsurfboardshawaii.com/product/5ft-7in-kashiwai-squash-tail-ref-22821/> (referer: https://www.usedsurfboardshawaii.com/page/26/?post_type=product) ['cached']\n",
      "2019-11-16 15:10:45 [scrapy.core.scraper] DEBUG: Scraped from <200 https://www.usedsurfboardshawaii.com/product/6ft-j-kashiwai-squash-tail-ref-22822/>\n",
      "{'url': 'https://www.usedsurfboardshawaii.com/product/6ft-j-kashiwai-squash-tail-ref-22822/', 'title': '6ft J. Kashiwai Squash Tail Ref# 22822', 'price': 325.0, 'description': 'Nice shortboard with minimal sign of previous use. Bit of pressure denting near the center.', 'type': 'Thruster (FCS)', 'height': 'H 6′', 'width': 'W 19″', 'thickness': 'T 2 1/2″', 'condition': 'Good', 'manufacturer': 'J. Kashiwai'}\n"
     ]
    },
    {
     "name": "stdout",
     "output_type": "stream",
     "text": [
      "Processing 11 out of 25\n",
      "Processing 12 out of 25\n"
     ]
    },
    {
     "name": "stderr",
     "output_type": "stream",
     "text": [
      "2019-11-16 15:10:45 [scrapy.core.engine] DEBUG: Crawled (200) <GET https://www.usedsurfboardshawaii.com/product/5ft-8in-tokoro-round-tail-ref-22209/> (referer: https://www.usedsurfboardshawaii.com/page/26/?post_type=product) ['cached']\n",
      "2019-11-16 15:10:45 [scrapy.core.scraper] DEBUG: Scraped from <200 https://www.usedsurfboardshawaii.com/product/6ft-1in-mccray-swallow-tail-ref-22846/>\n",
      "{'url': 'https://www.usedsurfboardshawaii.com/product/6ft-1in-mccray-swallow-tail-ref-22846/', 'title': '6ft 1in McCray Swallow Tail Ref# 22846', 'price': 200.0, 'description': 'Nice shortboard with minimal sign of previous use. A bit of denting near the center.', 'type': '5-Fin (Future)', 'height': 'H 6’1″', 'width': 'W 20 1/2″', 'thickness': 'T 2 1/2″', 'condition': 'Good', 'manufacturer': 'McCray'}\n",
      "2019-11-16 15:10:46 [scrapy.core.engine] DEBUG: Crawled (200) <GET https://www.usedsurfboardshawaii.com/product/5ft-9in-j-boards-round-tail-ref-22782/> (referer: https://www.usedsurfboardshawaii.com/page/26/?post_type=product) ['cached']\n",
      "2019-11-16 15:10:46 [scrapy.core.scraper] DEBUG: Scraped from <200 https://www.usedsurfboardshawaii.com/product/5ft-7in-kashiwai-squash-tail-ref-22821/>\n",
      "{'url': 'https://www.usedsurfboardshawaii.com/product/5ft-7in-kashiwai-squash-tail-ref-22821/', 'title': '5ft 7in Kashiwai Squash Tail Ref# 22821', 'price': 199.0, 'description': 'Nice shortboard with minimal sign of previous use. A bit of pressure denting near the center.', 'type': 'Thruster (FCS)', 'height': 'H 5’7″', 'width': 'W 19 3/8″', 'thickness': 'T 2 3/8″', 'condition': 'Good', 'manufacturer': 'J. Kashiwai'}\n"
     ]
    },
    {
     "name": "stdout",
     "output_type": "stream",
     "text": [
      "Processing 13 out of 25\n",
      "Processing 14 out of 25\n"
     ]
    },
    {
     "name": "stderr",
     "output_type": "stream",
     "text": [
      "2019-11-16 15:10:46 [scrapy.core.engine] DEBUG: Crawled (200) <GET https://www.usedsurfboardshawaii.com/product/5ft-6in-lost-swallow-tail-ref-22673/> (referer: https://www.usedsurfboardshawaii.com/page/26/?post_type=product) ['cached']\n",
      "2019-11-16 15:10:46 [scrapy.core.scraper] DEBUG: Scraped from <200 https://www.usedsurfboardshawaii.com/product/5ft-8in-tokoro-round-tail-ref-22209/>\n",
      "{'url': 'https://www.usedsurfboardshawaii.com/product/5ft-8in-tokoro-round-tail-ref-22209/', 'title': '5ft 8in Tokoro Round Tail Ref# 22209', 'price': 299.0, 'description': 'Nice shortboard with minimal sign of previous use. Bit of pressure denting near the center.', 'type': 'Thruster (Future)', 'height': 'H 5’8″', 'width': 'W 17 13/16″', 'thickness': 'T 2 1/8″', 'condition': 'Good', 'manufacturer': 'Tokoro'}\n",
      "2019-11-16 15:10:46 [scrapy.core.engine] DEBUG: Crawled (200) <GET https://www.usedsurfboardshawaii.com/product/5ft-4in-korps-round-tail-ref-22603/> (referer: https://www.usedsurfboardshawaii.com/page/26/?post_type=product) ['cached']\n",
      "2019-11-16 15:10:46 [scrapy.core.scraper] DEBUG: Scraped from <200 https://www.usedsurfboardshawaii.com/product/5ft-9in-j-boards-round-tail-ref-22782/>\n",
      "{'url': 'https://www.usedsurfboardshawaii.com/product/5ft-9in-j-boards-round-tail-ref-22782/', 'title': '5ft 9in J. Boards Round Tail Ref# 22782', 'price': 399.0, 'description': 'Nice shortboard with minimal sign of previous use.', 'type': 'Thruster (Future)', 'height': 'H 5’9″', 'width': 'W 18 1/2″', 'thickness': 'T 2 3/8″', 'condition': 'Good', 'manufacturer': 'J. Boards'}\n"
     ]
    },
    {
     "name": "stdout",
     "output_type": "stream",
     "text": [
      "Processing 15 out of 25\n",
      "Processing 16 out of 25\n"
     ]
    },
    {
     "name": "stderr",
     "output_type": "stream",
     "text": [
      "2019-11-16 15:10:46 [scrapy.core.engine] DEBUG: Crawled (200) <GET https://www.usedsurfboardshawaii.com/product/6ft-makani-squash-tail-ref-22641/> (referer: https://www.usedsurfboardshawaii.com/page/26/?post_type=product) ['cached']\n",
      "2019-11-16 15:10:46 [scrapy.core.scraper] DEBUG: Scraped from <200 https://www.usedsurfboardshawaii.com/product/5ft-6in-lost-swallow-tail-ref-22673/>\n",
      "{'url': 'https://www.usedsurfboardshawaii.com/product/5ft-6in-lost-swallow-tail-ref-22673/', 'title': '5ft 6in Lost Swallow Tail Ref# 22673', 'price': 260.0, 'description': 'Nice shortboard with minimal sign of previous use.', 'type': '5-Fin (Future)', 'height': 'H 5’6″', 'width': 'W 19″', 'thickness': 'T 2 5/16″', 'condition': 'Good', 'manufacturer': 'Lost'}\n",
      "2019-11-16 15:10:46 [scrapy.core.engine] DEBUG: Crawled (200) <GET https://www.usedsurfboardshawaii.com/product/5ft-10in-setsu-squash-tail-ref-19884/> (referer: https://www.usedsurfboardshawaii.com/page/26/?post_type=product) ['cached']\n",
      "2019-11-16 15:10:46 [scrapy.core.scraper] DEBUG: Scraped from <200 https://www.usedsurfboardshawaii.com/product/5ft-4in-korps-round-tail-ref-22603/>\n",
      "{'url': 'https://www.usedsurfboardshawaii.com/product/5ft-4in-korps-round-tail-ref-22603/', 'title': '5ft 4in Korps Round Tail Ref# 22603', 'price': 260.0, 'description': 'Nice shortboard with minimal sign of previous use.', 'type': 'Thruster (Future)', 'height': 'H 5’4″', 'width': 'W 16″', 'thickness': 'T 2 3/8″', 'condition': 'Good', 'manufacturer': 'Korps'}\n"
     ]
    },
    {
     "name": "stdout",
     "output_type": "stream",
     "text": [
      "Processing 17 out of 25\n",
      "Processing 18 out of 25\n"
     ]
    },
    {
     "name": "stderr",
     "output_type": "stream",
     "text": [
      "2019-11-16 15:10:46 [scrapy.core.engine] DEBUG: Crawled (200) <GET https://www.usedsurfboardshawaii.com/product/5ft-10in-hansen-swallow-tail-ref-13418/> (referer: https://www.usedsurfboardshawaii.com/page/26/?post_type=product) ['cached']\n",
      "2019-11-16 15:10:46 [scrapy.core.scraper] DEBUG: Scraped from <200 https://www.usedsurfboardshawaii.com/product/6ft-makani-squash-tail-ref-22641/>\n",
      "{'url': 'https://www.usedsurfboardshawaii.com/product/6ft-makani-squash-tail-ref-22641/', 'title': '6ft Makani Squash Tail Ref# 22641', 'price': 315.0, 'description': 'Nice shortboard with minimal sign of previous use.', 'type': 'Quad Fin (Future)', 'height': 'H 6′', 'width': 'W 19 3/8″', 'thickness': 'T 2 7/16″', 'condition': 'Good', 'manufacturer': 'Makani'}\n",
      "2019-11-16 15:10:46 [scrapy.core.engine] DEBUG: Crawled (200) <GET https://www.usedsurfboardshawaii.com/product/6ft-6in-maurice-cole-round-tail-ref-18748/> (referer: https://www.usedsurfboardshawaii.com/page/26/?post_type=product) ['cached']\n",
      "2019-11-16 15:10:46 [scrapy.core.scraper] DEBUG: Scraped from <200 https://www.usedsurfboardshawaii.com/product/5ft-10in-setsu-squash-tail-ref-19884/>\n",
      "{'url': 'https://www.usedsurfboardshawaii.com/product/5ft-10in-setsu-squash-tail-ref-19884/', 'title': '5ft 10in Setsu Squash Tail Ref# 19884', 'price': 89.0, 'description': 'Seen some action but still has some life in it.', 'type': 'Thruster (FCS)', 'height': 'H 5’10”', 'width': 'W 18 5/8″', 'thickness': 'T 25/16', 'condition': 'Good', 'manufacturer': 'Setsu'}\n"
     ]
    },
    {
     "name": "stdout",
     "output_type": "stream",
     "text": [
      "Processing 19 out of 25\n",
      "Processing 20 out of 25\n"
     ]
    },
    {
     "name": "stderr",
     "output_type": "stream",
     "text": [
      "2019-11-16 15:10:47 [scrapy.core.engine] DEBUG: Crawled (200) <GET https://www.usedsurfboardshawaii.com/product/5ft-10in-brice-swallow-tail-ref-22347/> (referer: https://www.usedsurfboardshawaii.com/page/26/?post_type=product) ['cached']\n",
      "2019-11-16 15:10:47 [scrapy.core.scraper] DEBUG: Scraped from <200 https://www.usedsurfboardshawaii.com/product/5ft-10in-hansen-swallow-tail-ref-13418/>\n",
      "{'url': 'https://www.usedsurfboardshawaii.com/product/5ft-10in-hansen-swallow-tail-ref-13418/', 'title': '5ft 10in Hansen Swallow Tail Ref# 13418', 'price': 265.0, 'description': 'Nice shortboard with minimal sign of previous use.', 'type': '5-Fin (FCS 2)', 'height': 'H 5’10”', 'width': 'W 18 1/4″', 'thickness': 'T 2 1/2″', 'condition': 'Good', 'manufacturer': 'Hansen'}\n",
      "2019-11-16 15:10:47 [scrapy.core.engine] DEBUG: Crawled (200) <GET https://www.usedsurfboardshawaii.com/product/6ft-kashiwai-squash-tail-ref-22274/> (referer: https://www.usedsurfboardshawaii.com/page/26/?post_type=product) ['cached']\n",
      "2019-11-16 15:10:47 [scrapy.core.scraper] DEBUG: Scraped from <200 https://www.usedsurfboardshawaii.com/product/6ft-6in-maurice-cole-round-tail-ref-18748/>\n",
      "{'url': 'https://www.usedsurfboardshawaii.com/product/6ft-6in-maurice-cole-round-tail-ref-18748/', 'title': '6ft 6in Maurice Cole Round Tail Ref# 18748', 'price': 199.0, 'description': 'Nice shortboard with minimal sign of previous use.', 'type': 'Thruster (FCS)', 'height': 'H 6’6″', 'width': 'W 18 1/4″', 'thickness': 'T 2 1/4″', 'condition': 'Good', 'manufacturer': 'Maurice Cole'}\n"
     ]
    },
    {
     "name": "stdout",
     "output_type": "stream",
     "text": [
      "Processing 21 out of 25\n",
      "Processing 22 out of 25\n"
     ]
    },
    {
     "name": "stderr",
     "output_type": "stream",
     "text": [
      "2019-11-16 15:10:47 [scrapy.core.engine] DEBUG: Crawled (200) <GET https://www.usedsurfboardshawaii.com/product/6ft-js-squash-tail-ref-20225/> (referer: https://www.usedsurfboardshawaii.com/page/26/?post_type=product) ['cached']\n",
      "2019-11-16 15:10:47 [scrapy.core.scraper] DEBUG: Scraped from <200 https://www.usedsurfboardshawaii.com/product/5ft-10in-brice-swallow-tail-ref-22347/>\n",
      "{'url': 'https://www.usedsurfboardshawaii.com/product/5ft-10in-brice-swallow-tail-ref-22347/', 'title': '5ft 10in Brice Swallow Tail Ref# 22347', 'price': 299.0, 'description': 'Nice shortboard with minimal sign of previous use.', 'type': 'Thruster (Future)', 'height': 'H 5’10”', 'width': 'W 19.38″', 'thickness': 'T 2 8/21', 'condition': 'Good', 'manufacturer': 'Brice'}\n",
      "2019-11-16 15:10:47 [scrapy.core.engine] DEBUG: Crawled (200) <GET https://www.usedsurfboardshawaii.com/product/6ft-sunova-swallow-tail-ref-22556/> (referer: https://www.usedsurfboardshawaii.com/page/26/?post_type=product) ['cached']\n",
      "2019-11-16 15:10:47 [scrapy.core.scraper] DEBUG: Scraped from <200 https://www.usedsurfboardshawaii.com/product/6ft-kashiwai-squash-tail-ref-22274/>\n",
      "{'url': 'https://www.usedsurfboardshawaii.com/product/6ft-kashiwai-squash-tail-ref-22274/', 'title': '6ft Kashiwai Squash Tail Ref# 22274', 'price': 150.0, 'description': 'Nice shortboard with a bit of pressure denting.', 'type': 'Thruster (Future)', 'height': 'H 6′', 'width': 'W 18 1/2″', 'thickness': 'T 2 1/4″', 'condition': 'Good', 'manufacturer': 'J. Kashiwai'}\n"
     ]
    },
    {
     "name": "stdout",
     "output_type": "stream",
     "text": [
      "Processing 23 out of 25\n",
      "Processing 24 out of 25\n"
     ]
    },
    {
     "name": "stderr",
     "output_type": "stream",
     "text": [
      "2019-11-16 15:10:47 [scrapy.core.engine] DEBUG: Crawled (200) <GET https://www.usedsurfboardshawaii.com/product/20in-x-20in-thomas-muller-oil-painting-ref-22372/> (referer: https://www.usedsurfboardshawaii.com/page/26/?post_type=product) ['cached']\n",
      "2019-11-16 15:10:47 [scrapy.core.scraper] DEBUG: Scraped from <200 https://www.usedsurfboardshawaii.com/product/6ft-js-squash-tail-ref-20225/>\n",
      "{'url': 'https://www.usedsurfboardshawaii.com/product/6ft-js-squash-tail-ref-20225/', 'title': '6ft JS Squash Tail Ref# 20225', 'price': 250.0, 'description': 'Good shortboard with some pressure denting near the center.', 'type': 'Thruster (FCS)', 'height': 'H 6′', 'width': 'W 18″', 'thickness': 'T 2 1/4″', 'condition': 'Good', 'manufacturer': 'JS'}\n",
      "2019-11-16 15:10:47 [scrapy.core.engine] DEBUG: Crawled (200) <GET https://www.usedsurfboardshawaii.com/product/28in-x-20in-thomas-muller-oil-painting-ref-22370/> (referer: https://www.usedsurfboardshawaii.com/page/26/?post_type=product) ['cached']\n",
      "2019-11-16 15:10:47 [scrapy.core.scraper] DEBUG: Scraped from <200 https://www.usedsurfboardshawaii.com/product/6ft-sunova-swallow-tail-ref-22556/>\n",
      "{'url': 'https://www.usedsurfboardshawaii.com/product/6ft-sunova-swallow-tail-ref-22556/', 'title': '6ft Sunova Swallow Tail Ref# 22556', 'price': 225.0, 'description': 'Nice shortboard with minimal sign of previous use.', 'type': 'Thruster (FCS)', 'height': 'H 6′', 'width': 'W 18 3/8″', 'thickness': 'T 2 1/8″', 'condition': 'Good', 'manufacturer': 'Sunnova'}\n",
      "2019-11-16 15:10:47 [scrapy.core.engine] DEBUG: Crawled (200) <GET https://www.usedsurfboardshawaii.com/page/27/?post_type=product> (referer: https://www.usedsurfboardshawaii.com/page/26/?post_type=product) ['cached']\n"
     ]
    },
    {
     "name": "stdout",
     "output_type": "stream",
     "text": [
      "Processing 25 out of 25\n",
      "\n",
      "https://www.usedsurfboardshawaii.com/page/27/?post_type=product\n"
     ]
    },
    {
     "name": "stderr",
     "output_type": "stream",
     "text": [
      "2019-11-16 15:10:48 [scrapy.core.engine] DEBUG: Crawled (200) <GET https://www.usedsurfboardshawaii.com/product/24in-x-30in-thomas-muller-oil-painting-ref-22373/> (referer: https://www.usedsurfboardshawaii.com/page/27/?post_type=product) ['cached']\n"
     ]
    },
    {
     "name": "stdout",
     "output_type": "stream",
     "text": [
      "Total:  25\n",
      "Processing 1 out of 25\n",
      "Processing 2 out of 25\n"
     ]
    },
    {
     "name": "stderr",
     "output_type": "stream",
     "text": [
      "2019-11-16 15:10:48 [scrapy.core.engine] DEBUG: Crawled (200) <GET https://www.usedsurfboardshawaii.com/product/30in-x-24in-thomas-muller-oil-painting-ref-22371/> (referer: https://www.usedsurfboardshawaii.com/page/27/?post_type=product) ['cached']\n",
      "2019-11-16 15:10:48 [scrapy.core.engine] DEBUG: Crawled (200) <GET https://www.usedsurfboardshawaii.com/product/rip-curl-sunset-beach-poster-ref-22466/> (referer: https://www.usedsurfboardshawaii.com/page/27/?post_type=product) ['cached']\n"
     ]
    },
    {
     "name": "stdout",
     "output_type": "stream",
     "text": [
      "Processing 3 out of 25\n",
      "Processing 4 out of 25\n"
     ]
    },
    {
     "name": "stderr",
     "output_type": "stream",
     "text": [
      "2019-11-16 15:10:48 [scrapy.core.engine] DEBUG: Crawled (200) <GET https://www.usedsurfboardshawaii.com/product/eddie-aikau-poster-ref-22526/> (referer: https://www.usedsurfboardshawaii.com/page/27/?post_type=product) ['cached']\n",
      "2019-11-16 15:10:48 [scrapy.core.engine] DEBUG: Crawled (200) <GET https://www.usedsurfboardshawaii.com/product/eddie-aikau-poster-ref-22525/> (referer: https://www.usedsurfboardshawaii.com/page/27/?post_type=product) ['cached']\n"
     ]
    },
    {
     "name": "stdout",
     "output_type": "stream",
     "text": [
      "Processing 5 out of 25\n",
      "Processing 6 out of 25\n"
     ]
    },
    {
     "name": "stderr",
     "output_type": "stream",
     "text": [
      "2019-11-16 15:10:48 [scrapy.core.engine] DEBUG: Crawled (200) <GET https://www.usedsurfboardshawaii.com/product/2008-pipeline-masters-poster-ref-22523/> (referer: https://www.usedsurfboardshawaii.com/page/27/?post_type=product) ['cached']\n",
      "2019-11-16 15:10:48 [scrapy.core.engine] DEBUG: Crawled (200) <GET https://www.usedsurfboardshawaii.com/product/1990-pipeline-masters-poster-ref-22524/> (referer: https://www.usedsurfboardshawaii.com/page/27/?post_type=product) ['cached']\n"
     ]
    },
    {
     "name": "stdout",
     "output_type": "stream",
     "text": [
      "Processing 7 out of 25\n",
      "Processing 8 out of 25\n"
     ]
    },
    {
     "name": "stderr",
     "output_type": "stream",
     "text": [
      "2019-11-16 15:10:48 [scrapy.core.engine] DEBUG: Crawled (200) <GET https://www.usedsurfboardshawaii.com/product/6ft-6in-firewire-round-tail-ref-22488/> (referer: https://www.usedsurfboardshawaii.com/page/27/?post_type=product) ['cached']\n",
      "2019-11-16 15:10:49 [scrapy.core.engine] DEBUG: Crawled (200) <GET https://www.usedsurfboardshawaii.com/product/5ft-8in-matchi-moon-tail-ref-22483/> (referer: https://www.usedsurfboardshawaii.com/page/27/?post_type=product) ['cached']\n"
     ]
    },
    {
     "name": "stdout",
     "output_type": "stream",
     "text": [
      "Processing 9 out of 25\n",
      "Processing 10 out of 25\n"
     ]
    },
    {
     "name": "stderr",
     "output_type": "stream",
     "text": [
      "2019-11-16 15:10:49 [scrapy.core.engine] DEBUG: Crawled (200) <GET https://www.usedsurfboardshawaii.com/product/6ft-1in-pang-squash-tail-ref-22267/> (referer: https://www.usedsurfboardshawaii.com/page/27/?post_type=product) ['cached']\n",
      "2019-11-16 15:10:49 [scrapy.core.scraper] DEBUG: Scraped from <200 https://www.usedsurfboardshawaii.com/product/6ft-6in-firewire-round-tail-ref-22488/>\n",
      "{'url': 'https://www.usedsurfboardshawaii.com/product/6ft-6in-firewire-round-tail-ref-22488/', 'title': '6ft 6in Firewire Round Tail Ref# 22488', 'price': 199.0, 'description': 'Nice shortboard with minimal sign of previous use. First generation firewire: has vent plug.', 'type': 'Thruster (Future)', 'height': 'H 6’6″', 'width': 'W 18″', 'thickness': 'T 2 1/4″', 'condition': 'Good', 'manufacturer': 'Firewire'}\n",
      "2019-11-16 15:10:49 [scrapy.core.engine] DEBUG: Crawled (200) <GET https://www.usedsurfboardshawaii.com/product/5ft-10in-schaper-swallow-tail-ref-22487/> (referer: https://www.usedsurfboardshawaii.com/page/27/?post_type=product) ['cached']\n",
      "2019-11-16 15:10:49 [scrapy.core.scraper] DEBUG: Scraped from <200 https://www.usedsurfboardshawaii.com/product/5ft-8in-matchi-moon-tail-ref-22483/>\n",
      "{'url': 'https://www.usedsurfboardshawaii.com/product/5ft-8in-matchi-moon-tail-ref-22483/', 'title': '5ft 8in Matchi Moon Tail Ref# 22483', 'price': 250.0, 'description': 'Good shortboard with minimal pressure dents.', 'type': 'Quad (FCS)', 'height': 'H 5’8″', 'width': 'W 18″', 'thickness': 'T 2 1/2', 'condition': 'Good', 'manufacturer': 'Matchi'}\n"
     ]
    },
    {
     "name": "stdout",
     "output_type": "stream",
     "text": [
      "Processing 11 out of 25\n",
      "Processing 12 out of 25\n"
     ]
    },
    {
     "name": "stderr",
     "output_type": "stream",
     "text": [
      "2019-11-16 15:10:49 [scrapy.core.engine] DEBUG: Crawled (200) <GET https://www.usedsurfboardshawaii.com/product/5ft-7in-setsu-round-tail-ref-22232/> (referer: https://www.usedsurfboardshawaii.com/page/27/?post_type=product) ['cached']\n",
      "2019-11-16 15:10:49 [scrapy.core.scraper] DEBUG: Scraped from <200 https://www.usedsurfboardshawaii.com/product/6ft-1in-pang-squash-tail-ref-22267/>\n",
      "{'url': 'https://www.usedsurfboardshawaii.com/product/6ft-1in-pang-squash-tail-ref-22267/', 'title': '6ft 1in Pang Squash Tail Ref# 22267', 'price': 175.0, 'description': 'Good shortboard with plenty of life left in it.', 'type': 'Thruster (FCS)', 'height': 'H 6’1″', 'width': 'W 18 3/4', 'thickness': 'T 2 3/7', 'condition': 'Good', 'manufacturer': 'Pang'}\n",
      "2019-11-16 15:10:49 [scrapy.core.engine] DEBUG: Crawled (200) <GET https://www.usedsurfboardshawaii.com/product/5ft-11in-al-merrick-squash-tail-ref-22225/> (referer: https://www.usedsurfboardshawaii.com/page/27/?post_type=product) ['cached']\n",
      "2019-11-16 15:10:49 [scrapy.core.scraper] DEBUG: Scraped from <200 https://www.usedsurfboardshawaii.com/product/5ft-10in-schaper-swallow-tail-ref-22487/>\n",
      "{'url': 'https://www.usedsurfboardshawaii.com/product/5ft-10in-schaper-swallow-tail-ref-22487/', 'title': '5ft 10in Schaper Swallow Tail Ref# 22487', 'price': 250.0, 'description': 'Nice shortboard with minimal sign of previous use.', 'type': '5-Fin (FCS)', 'height': 'H 5’10”', 'width': 'W 19″', 'thickness': 'T 2 3/16″', 'condition': 'Good', 'manufacturer': 'Schaper'}\n"
     ]
    },
    {
     "name": "stdout",
     "output_type": "stream",
     "text": [
      "Processing 13 out of 25\n",
      "Processing 14 out of 25\n"
     ]
    },
    {
     "name": "stderr",
     "output_type": "stream",
     "text": [
      "2019-11-16 15:10:49 [scrapy.core.engine] DEBUG: Crawled (200) <GET https://www.usedsurfboardshawaii.com/product/6ft-sparrow-squash-tail-ref-22331/> (referer: https://www.usedsurfboardshawaii.com/page/27/?post_type=product) ['cached']\n",
      "2019-11-16 15:10:49 [scrapy.core.scraper] DEBUG: Scraped from <200 https://www.usedsurfboardshawaii.com/product/5ft-7in-setsu-round-tail-ref-22232/>\n",
      "{'url': 'https://www.usedsurfboardshawaii.com/product/5ft-7in-setsu-round-tail-ref-22232/', 'title': '5ft 7in Setsu Round Tail Ref# 22232', 'price': 399.0, 'description': 'Nice shortboard with minimal sign of previous use.', 'type': 'Thruster (FCS)', 'height': 'H 5’7″', 'width': 'W 19″', 'thickness': 'T 2 3/8″', 'condition': 'Good', 'manufacturer': 'Setsu'}\n",
      "2019-11-16 15:10:49 [scrapy.core.engine] DEBUG: Crawled (200) <GET https://www.usedsurfboardshawaii.com/product/5ft-11in-rick-stroms-squash-tail-ref-22220/> (referer: https://www.usedsurfboardshawaii.com/page/27/?post_type=product) ['cached']\n",
      "2019-11-16 15:10:49 [scrapy.core.scraper] DEBUG: Scraped from <200 https://www.usedsurfboardshawaii.com/product/5ft-11in-al-merrick-squash-tail-ref-22225/>\n",
      "{'url': 'https://www.usedsurfboardshawaii.com/product/5ft-11in-al-merrick-squash-tail-ref-22225/', 'title': '5ft 11in Al Merrick Squash Tail Ref# 22225', 'price': 199.0, 'description': 'Nice shortboard with a bit of pressure denting.', 'type': '5-Fin (Future)', 'height': 'H 5’11”', 'width': 'W 18 7/8″', 'thickness': 'T 2 1/4″', 'condition': 'Good', 'manufacturer': 'Al Merrick'}\n"
     ]
    },
    {
     "name": "stdout",
     "output_type": "stream",
     "text": [
      "Processing 15 out of 25\n",
      "Processing 16 out of 25\n"
     ]
    },
    {
     "name": "stderr",
     "output_type": "stream",
     "text": [
      "2019-11-16 15:10:50 [scrapy.core.engine] DEBUG: Crawled (200) <GET https://www.usedsurfboardshawaii.com/product/5ft-7in-lust-swallow-tail-ref-22253/> (referer: https://www.usedsurfboardshawaii.com/page/27/?post_type=product) ['cached']\n",
      "2019-11-16 15:10:50 [scrapy.core.scraper] DEBUG: Scraped from <200 https://www.usedsurfboardshawaii.com/product/6ft-sparrow-squash-tail-ref-22331/>\n",
      "{'url': 'https://www.usedsurfboardshawaii.com/product/6ft-sparrow-squash-tail-ref-22331/', 'title': '6ft Sparrow Squash Tail Ref# 22331', 'price': 225.0, 'description': 'Fun shortboard with minimal signs of previous use', 'type': None, 'height': 'H 6′', 'width': 'W 19″', 'thickness': 'T 2 1/2″', 'condition': 'Good', 'manufacturer': 'Sparrow'}\n",
      "2019-11-16 15:10:50 [scrapy.core.engine] DEBUG: Crawled (200) <GET https://www.usedsurfboardshawaii.com/product/5ft-8in-setsu-swallow-tail-ref-22234/> (referer: https://www.usedsurfboardshawaii.com/page/27/?post_type=product) ['cached']\n",
      "2019-11-16 15:10:50 [scrapy.core.scraper] DEBUG: Scraped from <200 https://www.usedsurfboardshawaii.com/product/5ft-11in-rick-stroms-squash-tail-ref-22220/>\n",
      "{'url': 'https://www.usedsurfboardshawaii.com/product/5ft-11in-rick-stroms-squash-tail-ref-22220/', 'title': '5ft 11in Rick Stroms Squash Tail Ref# 22220', 'price': 325.0, 'description': 'Nice shortboard with minimal sign of previous use.', 'type': '5-Fin (Future)', 'height': 'H 5’11”', 'width': 'W 18 3/8″', 'thickness': 'T 2 3/8″', 'condition': 'Good', 'manufacturer': 'Rick Stroms'}\n"
     ]
    },
    {
     "name": "stdout",
     "output_type": "stream",
     "text": [
      "Processing 17 out of 25\n",
      "Processing 18 out of 25\n"
     ]
    },
    {
     "name": "stderr",
     "output_type": "stream",
     "text": [
      "2019-11-16 15:10:50 [scrapy.core.engine] DEBUG: Crawled (200) <GET https://www.usedsurfboardshawaii.com/product/5ft-10in-bryne-round-tail-ref-22282/> (referer: https://www.usedsurfboardshawaii.com/page/27/?post_type=product) ['cached']\n",
      "2019-11-16 15:10:50 [scrapy.core.scraper] DEBUG: Scraped from <200 https://www.usedsurfboardshawaii.com/product/5ft-7in-lust-swallow-tail-ref-22253/>\n",
      "{'url': 'https://www.usedsurfboardshawaii.com/product/5ft-7in-lust-swallow-tail-ref-22253/', 'title': '5ft 7in Lust Swallow Tail Ref# 22253', 'price': 315.0, 'description': 'Nice shortboard with minimal denting near the center.', 'type': 'Thruster (FCS 2)', 'height': 'H 5’7″', 'width': 'W 19 .13″', 'thickness': 'T 2.25″', 'condition': 'Good', 'manufacturer': 'Lust'}\n",
      "2019-11-16 15:10:50 [scrapy.core.engine] DEBUG: Crawled (200) <GET https://www.usedsurfboardshawaii.com/product/5ft-11in-b-tudor-squash-tail-ref-22264/> (referer: https://www.usedsurfboardshawaii.com/page/27/?post_type=product) ['cached']\n",
      "2019-11-16 15:10:50 [scrapy.core.scraper] DEBUG: Scraped from <200 https://www.usedsurfboardshawaii.com/product/5ft-8in-setsu-swallow-tail-ref-22234/>\n",
      "{'url': 'https://www.usedsurfboardshawaii.com/product/5ft-8in-setsu-swallow-tail-ref-22234/', 'title': '5ft 8in Setsu Swallow Tail Ref# 22234', 'price': 250.0, 'description': 'Nice shortboard with minimal sign of previous use.', 'type': 'Thruster (Future)', 'height': 'H 5’8″', 'width': 'W 18 5/6″', 'thickness': 'T 2 3/16″', 'condition': 'Good', 'manufacturer': 'Setsu'}\n"
     ]
    },
    {
     "name": "stdout",
     "output_type": "stream",
     "text": [
      "Processing 19 out of 25\n",
      "Processing 20 out of 25\n"
     ]
    },
    {
     "name": "stderr",
     "output_type": "stream",
     "text": [
      "2019-11-16 15:10:50 [scrapy.core.engine] DEBUG: Crawled (200) <GET https://www.usedsurfboardshawaii.com/product/6ft-6in-goin-round-tail-ref-22075/> (referer: https://www.usedsurfboardshawaii.com/page/27/?post_type=product) ['cached']\n",
      "2019-11-16 15:10:50 [scrapy.core.scraper] DEBUG: Scraped from <200 https://www.usedsurfboardshawaii.com/product/5ft-10in-bryne-round-tail-ref-22282/>\n",
      "{'url': 'https://www.usedsurfboardshawaii.com/product/5ft-10in-bryne-round-tail-ref-22282/', 'title': '5ft 10in Bryne Round Tail Ref# 22282', 'price': 225.0, 'description': 'Nice shortboard with minimal sign of previous use.', 'type': '5-Fin (FCS)', 'height': 'H 5’10”', 'width': 'W 18 3/8″', 'thickness': 'T 2 1/4″', 'condition': 'Good', 'manufacturer': 'Byrne'}\n",
      "2019-11-16 15:10:50 [scrapy.core.engine] DEBUG: Crawled (200) <GET https://www.usedsurfboardshawaii.com/product/5ft-10in-ride-squash-tail-ref-22112/> (referer: https://www.usedsurfboardshawaii.com/page/27/?post_type=product) ['cached']\n",
      "2019-11-16 15:10:50 [scrapy.core.scraper] DEBUG: Scraped from <200 https://www.usedsurfboardshawaii.com/product/5ft-11in-b-tudor-squash-tail-ref-22264/>\n",
      "{'url': 'https://www.usedsurfboardshawaii.com/product/5ft-11in-b-tudor-squash-tail-ref-22264/', 'title': '5ft 11in B. Tudor Squash Tail Ref# 22264', 'price': 225.0, 'description': 'Nice shortboard with minimal pressure denting near the center.', 'type': 'Thruster (Future)', 'height': 'H 5’11”', 'width': 'W 18 5/8″', 'thickness': 'T 2 5/16″', 'condition': 'Good', 'manufacturer': 'B. Tudor'}\n"
     ]
    },
    {
     "name": "stdout",
     "output_type": "stream",
     "text": [
      "Processing 21 out of 25\n",
      "Processing 22 out of 25\n"
     ]
    },
    {
     "name": "stderr",
     "output_type": "stream",
     "text": [
      "2019-11-16 15:10:51 [scrapy.core.engine] DEBUG: Crawled (200) <GET https://www.usedsurfboardshawaii.com/product/5ft-5in-unknown-shaper-squash-tail-ref-22118/> (referer: https://www.usedsurfboardshawaii.com/page/27/?post_type=product) ['cached']\n",
      "2019-11-16 15:10:51 [scrapy.core.scraper] DEBUG: Scraped from <200 https://www.usedsurfboardshawaii.com/product/6ft-6in-goin-round-tail-ref-22075/>\n",
      "{'url': 'https://www.usedsurfboardshawaii.com/product/6ft-6in-goin-round-tail-ref-22075/', 'title': '6ft 6in Goin Round Tail Ref# 22075', 'price': 175.0, 'description': 'Nice shortboard with minimal sign of previous use.', 'type': 'Thruster (Future)', 'height': 'H 6’6″', 'width': 'W 18 7/8″', 'thickness': 'T 2 3/16″', 'condition': 'Good', 'manufacturer': 'Goin'}\n",
      "2019-11-16 15:10:51 [scrapy.core.engine] DEBUG: Crawled (200) <GET https://www.usedsurfboardshawaii.com/product/4ft-7in-pang-swallow-tail-ref-22184/> (referer: https://www.usedsurfboardshawaii.com/page/27/?post_type=product) ['cached']\n",
      "2019-11-16 15:10:51 [scrapy.core.scraper] DEBUG: Scraped from <200 https://www.usedsurfboardshawaii.com/product/5ft-10in-ride-squash-tail-ref-22112/>\n",
      "{'url': 'https://www.usedsurfboardshawaii.com/product/5ft-10in-ride-squash-tail-ref-22112/', 'title': '5ft 10in Ride Squash Tail Ref# 22112', 'price': 225.0, 'description': 'Nice shortboard with minimal sign of previous use.', 'type': 'Thruster (FCS)', 'height': 'H 5’10”', 'width': 'W 18 3/4″', 'thickness': 'T 2 3/8″', 'condition': 'Good', 'manufacturer': 'Ride Surfboards'}\n"
     ]
    },
    {
     "name": "stdout",
     "output_type": "stream",
     "text": [
      "Processing 23 out of 25\n",
      "Processing 24 out of 25\n"
     ]
    },
    {
     "name": "stderr",
     "output_type": "stream",
     "text": [
      "2019-11-16 15:10:51 [scrapy.core.engine] DEBUG: Crawled (200) <GET https://www.usedsurfboardshawaii.com/product/4ft-8in-pang-round-tail-ref-22185/> (referer: https://www.usedsurfboardshawaii.com/page/27/?post_type=product) ['cached']\n",
      "2019-11-16 15:10:51 [scrapy.core.scraper] DEBUG: Scraped from <200 https://www.usedsurfboardshawaii.com/product/5ft-5in-unknown-shaper-squash-tail-ref-22118/>\n",
      "{'url': 'https://www.usedsurfboardshawaii.com/product/5ft-5in-unknown-shaper-squash-tail-ref-22118/', 'title': '5ft 5in Unknown Shaper Squash Tail Ref# 22118', 'price': 175.0, 'description': 'Nice shortboard with minimal sign of previous use.', 'type': 'Thruster (Future)', 'height': 'H 5’5″', 'width': 'W 2 3/8″', 'thickness': 'T 19.75″', 'condition': 'Good', 'manufacturer': 'Unknown'}\n",
      "2019-11-16 15:10:51 [scrapy.core.engine] DEBUG: Crawled (200) <GET https://www.usedsurfboardshawaii.com/product/5ft-11in-lost-round-tail-ref-22061/> (referer: https://www.usedsurfboardshawaii.com/page/27/?post_type=product) ['cached']\n",
      "2019-11-16 15:10:51 [scrapy.core.scraper] DEBUG: Scraped from <200 https://www.usedsurfboardshawaii.com/product/4ft-7in-pang-swallow-tail-ref-22184/>\n",
      "{'url': 'https://www.usedsurfboardshawaii.com/product/4ft-7in-pang-swallow-tail-ref-22184/', 'title': '4ft 7in Pang Swallow Tail Ref# 22184', 'price': 275.0, 'description': 'Nice shortboard for a smaller rider.', 'type': 'Thruster (FCS 2)', 'height': 'H 4’8″', 'width': 'W 15 1/4', 'thickness': 'T\\xa0 1 3/8″', 'condition': 'Good', 'manufacturer': 'Pang'}\n",
      "2019-11-16 15:10:51 [scrapy.core.engine] DEBUG: Crawled (200) <GET https://www.usedsurfboardshawaii.com/page/28/?post_type=product> (referer: https://www.usedsurfboardshawaii.com/page/27/?post_type=product) ['cached']\n",
      "2019-11-16 15:10:51 [scrapy.core.scraper] DEBUG: Scraped from <200 https://www.usedsurfboardshawaii.com/product/4ft-8in-pang-round-tail-ref-22185/>\n",
      "{'url': 'https://www.usedsurfboardshawaii.com/product/4ft-8in-pang-round-tail-ref-22185/', 'title': '4ft 8in Pang Round Tail Ref# 22185', 'price': 250.0, 'description': 'Nice shortboard for a smaller rider.', 'type': 'Thruster (FCS 2)', 'height': 'H 4’8″', 'width': 'W 15 1/2″', 'thickness': 'T 1 3/8″', 'condition': 'Good', 'manufacturer': 'Pang'}\n"
     ]
    },
    {
     "name": "stdout",
     "output_type": "stream",
     "text": [
      "Processing 25 out of 25\n",
      "\n",
      "https://www.usedsurfboardshawaii.com/page/28/?post_type=product\n"
     ]
    },
    {
     "name": "stderr",
     "output_type": "stream",
     "text": [
      "2019-11-16 15:10:51 [scrapy.core.scraper] DEBUG: Scraped from <200 https://www.usedsurfboardshawaii.com/product/5ft-11in-lost-round-tail-ref-22061/>\n",
      "{'url': 'https://www.usedsurfboardshawaii.com/product/5ft-11in-lost-round-tail-ref-22061/', 'title': '5ft 11in Lost Round Tail Ref# 22061', 'price': 225.0, 'description': 'Nice shortboard with minimal sign of previous use. Minor ding repair on bottom.', 'type': 'Thruster (FCS)', 'height': 'H 5’11”', 'width': 'W 18.38″', 'thickness': 'T 2.20″', 'condition': 'Good', 'manufacturer': 'Lost'}\n",
      "2019-11-16 15:10:51 [scrapy.core.engine] DEBUG: Crawled (200) <GET https://www.usedsurfboardshawaii.com/product/5ft-4in-stretch-bat-wing-tail-ref-22128/> (referer: https://www.usedsurfboardshawaii.com/page/28/?post_type=product) ['cached']\n"
     ]
    },
    {
     "name": "stdout",
     "output_type": "stream",
     "text": [
      "Total:  25\n",
      "Processing 1 out of 25\n",
      "Processing 2 out of 25\n"
     ]
    },
    {
     "name": "stderr",
     "output_type": "stream",
     "text": [
      "2019-11-16 15:10:51 [scrapy.core.engine] DEBUG: Crawled (200) <GET https://www.usedsurfboardshawaii.com/product/7ft-goin-round-tail-ref-22076/> (referer: https://www.usedsurfboardshawaii.com/page/28/?post_type=product) ['cached']\n",
      "2019-11-16 15:10:51 [scrapy.core.engine] DEBUG: Crawled (200) <GET https://www.usedsurfboardshawaii.com/product/6ft-2in-goin-swallow-tail-ref-22077/> (referer: https://www.usedsurfboardshawaii.com/page/28/?post_type=product) ['cached']\n",
      "2019-11-16 15:10:52 [scrapy.core.scraper] DEBUG: Scraped from <200 https://www.usedsurfboardshawaii.com/product/5ft-4in-stretch-bat-wing-tail-ref-22128/>\n",
      "{'url': 'https://www.usedsurfboardshawaii.com/product/5ft-4in-stretch-bat-wing-tail-ref-22128/', 'title': '5ft 4in Stretch Bat Wing Tail Ref# 22128', 'price': 399.0, 'description': 'Nice shortboard with minimal sign of previous use.', 'type': 'Thruster (FCS)', 'height': 'H 5’4″', 'width': 'W 19.75', 'thickness': 'T 2.38″', 'condition': 'Good', 'manufacturer': 'Stretch'}\n"
     ]
    },
    {
     "name": "stdout",
     "output_type": "stream",
     "text": [
      "Processing 3 out of 25\n",
      "Processing 4 out of 25\n"
     ]
    },
    {
     "name": "stderr",
     "output_type": "stream",
     "text": [
      "2019-11-16 15:10:52 [scrapy.core.engine] DEBUG: Crawled (200) <GET https://www.usedsurfboardshawaii.com/product/6ft-2in-goin-swallow-tail-ref-22078/> (referer: https://www.usedsurfboardshawaii.com/page/28/?post_type=product) ['cached']\n",
      "2019-11-16 15:10:52 [scrapy.core.scraper] DEBUG: Scraped from <200 https://www.usedsurfboardshawaii.com/product/7ft-goin-round-tail-ref-22076/>\n",
      "{'url': 'https://www.usedsurfboardshawaii.com/product/7ft-goin-round-tail-ref-22076/', 'title': '7ft Goin Round Tail Ref# 22076', 'price': 399.0, 'description': 'Nice midsize board with minimal sign of previous use.', 'type': 'Thruster (Future)', 'height': 'H 7′', 'width': 'W 18 7/8″', 'thickness': 'T 2 3/16″', 'condition': 'Good', 'manufacturer': 'Goin'}\n",
      "2019-11-16 15:10:52 [scrapy.core.engine] DEBUG: Crawled (200) <GET https://www.usedsurfboardshawaii.com/product/5ft-9in-minami-squash-tail-ref-22100/> (referer: https://www.usedsurfboardshawaii.com/page/28/?post_type=product) ['cached']\n",
      "2019-11-16 15:10:52 [scrapy.core.scraper] DEBUG: Scraped from <200 https://www.usedsurfboardshawaii.com/product/6ft-2in-goin-swallow-tail-ref-22077/>\n",
      "{'url': 'https://www.usedsurfboardshawaii.com/product/6ft-2in-goin-swallow-tail-ref-22077/', 'title': '6ft 2in Goin Swallow Tail Ref# 22077', 'price': 399.0, 'description': 'Good shortboard with minimal pressure dents.', 'type': 'Twin (Future)', 'height': 'H 6’2″', 'width': 'W 18 7/8', 'thickness': 'T 2 3/8', 'condition': 'Good', 'manufacturer': 'Goin'}\n"
     ]
    },
    {
     "name": "stdout",
     "output_type": "stream",
     "text": [
      "Processing 5 out of 25\n",
      "Processing 6 out of 25\n"
     ]
    },
    {
     "name": "stderr",
     "output_type": "stream",
     "text": [
      "2019-11-16 15:10:52 [scrapy.core.engine] DEBUG: Crawled (200) <GET https://www.usedsurfboardshawaii.com/product/6ft-minami-squash-tail-ref-22098/> (referer: https://www.usedsurfboardshawaii.com/page/28/?post_type=product) ['cached']\n",
      "2019-11-16 15:10:52 [scrapy.core.scraper] DEBUG: Scraped from <200 https://www.usedsurfboardshawaii.com/product/6ft-2in-goin-swallow-tail-ref-22078/>\n",
      "{'url': 'https://www.usedsurfboardshawaii.com/product/6ft-2in-goin-swallow-tail-ref-22078/', 'title': '6ft 2in Goin Swallow Tail Ref# 22078', 'price': 350.0, 'description': 'Good shortboard with minimal pressure dents.', 'type': 'Thruster (Future)', 'height': 'H 6’2″', 'width': 'W 18 7/8', 'thickness': 'T 2 /16', 'condition': 'Good', 'manufacturer': 'Goin'}\n",
      "2019-11-16 15:10:52 [scrapy.core.engine] DEBUG: Crawled (200) <GET https://www.usedsurfboardshawaii.com/product/5ft-10-in-minami-squash-tail-ref-22097/> (referer: https://www.usedsurfboardshawaii.com/page/28/?post_type=product) ['cached']\n",
      "2019-11-16 15:10:52 [scrapy.core.scraper] DEBUG: Scraped from <200 https://www.usedsurfboardshawaii.com/product/5ft-9in-minami-squash-tail-ref-22100/>\n",
      "{'url': 'https://www.usedsurfboardshawaii.com/product/5ft-9in-minami-squash-tail-ref-22100/', 'title': '5ft 9in Minami Squash Tail Ref# 22100', 'price': 450.0, 'description': 'Good shortboard in new condition.', 'type': 'Thruster (FCS2)', 'height': 'H 5’9″', 'width': 'W 18 3/8', 'thickness': 'T 2 1/4', 'condition': 'Good', 'manufacturer': 'Minami'}\n"
     ]
    },
    {
     "name": "stdout",
     "output_type": "stream",
     "text": [
      "Processing 7 out of 25\n",
      "Processing 8 out of 25\n"
     ]
    },
    {
     "name": "stderr",
     "output_type": "stream",
     "text": [
      "2019-11-16 15:10:52 [scrapy.core.engine] DEBUG: Crawled (200) <GET https://www.usedsurfboardshawaii.com/product/6ft-6in-tokoro-squash-tail-ref-21519/> (referer: https://www.usedsurfboardshawaii.com/page/28/?post_type=product) ['cached']\n",
      "2019-11-16 15:10:52 [scrapy.core.scraper] DEBUG: Scraped from <200 https://www.usedsurfboardshawaii.com/product/6ft-minami-squash-tail-ref-22098/>\n",
      "{'url': 'https://www.usedsurfboardshawaii.com/product/6ft-minami-squash-tail-ref-22098/', 'title': '6ft Minami Squash Tail Ref# 22098', 'price': 525.0, 'description': 'Good shortboard in new condition.', 'type': 'Quad (FCS2)', 'height': 'H 6′', 'width': 'W 18 3/8', 'thickness': 'T 2 1/4', 'condition': 'Good', 'manufacturer': 'Minami'}\n",
      "2019-11-16 15:10:52 [scrapy.core.engine] DEBUG: Crawled (200) <GET https://www.usedsurfboardshawaii.com/product/6ft-5in-aipa-swallow-tail-ref-21957/> (referer: https://www.usedsurfboardshawaii.com/page/28/?post_type=product) ['cached']\n",
      "2019-11-16 15:10:52 [scrapy.core.scraper] DEBUG: Scraped from <200 https://www.usedsurfboardshawaii.com/product/5ft-10-in-minami-squash-tail-ref-22097/>\n",
      "{'url': 'https://www.usedsurfboardshawaii.com/product/5ft-10-in-minami-squash-tail-ref-22097/', 'title': '5ft 10 in Minami Squash Tail Ref# 22097', 'price': 525.0, 'description': 'Good shortboard in new condition.', 'type': 'Thruster (FCS2)', 'height': 'H 5’10”', 'width': 'W 18 1/2', 'thickness': 'T 2 5/16', 'condition': 'Good', 'manufacturer': 'Minami'}\n"
     ]
    },
    {
     "name": "stdout",
     "output_type": "stream",
     "text": [
      "Processing 9 out of 25\n",
      "Processing 10 out of 25\n"
     ]
    },
    {
     "name": "stderr",
     "output_type": "stream",
     "text": [
      "2019-11-16 15:10:53 [scrapy.core.engine] DEBUG: Crawled (200) <GET https://www.usedsurfboardshawaii.com/product/6ft-3in-arakawa-round-tail-ref-21902/> (referer: https://www.usedsurfboardshawaii.com/page/28/?post_type=product) ['cached']\n",
      "2019-11-16 15:10:53 [scrapy.core.scraper] DEBUG: Scraped from <200 https://www.usedsurfboardshawaii.com/product/6ft-6in-tokoro-squash-tail-ref-21519/>\n",
      "{'url': 'https://www.usedsurfboardshawaii.com/product/6ft-6in-tokoro-squash-tail-ref-21519/', 'title': '6ft 6in Tokoro Squash Tail Ref# 21519', 'price': 150.0, 'description': 'Shortboard that’s seen a lot of action needs some love.', 'type': 'Quad (FCS)', 'height': 'H 6’6″', 'width': 'W 20″', 'thickness': 'T 2 5/8', 'condition': 'Good', 'manufacturer': 'Tokoro'}\n",
      "2019-11-16 15:10:53 [scrapy.core.engine] DEBUG: Crawled (200) <GET https://www.usedsurfboardshawaii.com/product/6ft-3in-arakawa-round-tail-ref-21903/> (referer: https://www.usedsurfboardshawaii.com/page/28/?post_type=product) ['cached']\n",
      "2019-11-16 15:10:53 [scrapy.core.scraper] DEBUG: Scraped from <200 https://www.usedsurfboardshawaii.com/product/6ft-5in-aipa-swallow-tail-ref-21957/>\n",
      "{'url': 'https://www.usedsurfboardshawaii.com/product/6ft-5in-aipa-swallow-tail-ref-21957/', 'title': '6ft 5in Aipa Swallow Tail Ref# 21957', 'price': 450.0, 'description': 'Nice shortboard with minimal sign of previous use.', 'type': 'Twin Fin (Future)', 'height': 'H 6’5″', 'width': 'W 19″', 'thickness': 'T 2 3/8″', 'condition': 'Good', 'manufacturer': 'Aipa'}\n"
     ]
    },
    {
     "name": "stdout",
     "output_type": "stream",
     "text": [
      "Processing 11 out of 25\n",
      "Processing 12 out of 25\n"
     ]
    },
    {
     "name": "stderr",
     "output_type": "stream",
     "text": [
      "2019-11-16 15:10:53 [scrapy.core.engine] DEBUG: Crawled (200) <GET https://www.usedsurfboardshawaii.com/product/5ft-3in-jube-swallow-tail-ref-21630/> (referer: https://www.usedsurfboardshawaii.com/page/28/?post_type=product) ['cached']\n",
      "2019-11-16 15:10:53 [scrapy.core.scraper] DEBUG: Scraped from <200 https://www.usedsurfboardshawaii.com/product/6ft-3in-arakawa-round-tail-ref-21902/>\n",
      "{'url': 'https://www.usedsurfboardshawaii.com/product/6ft-3in-arakawa-round-tail-ref-21902/', 'title': '6ft 3in Arakawa Round Tail Ref# 21902', 'price': 215.0, 'description': 'Nice shortboard with minimal sign of previous use.', 'type': 'Thruster (Future)', 'height': 'H 6’3″', 'width': 'W 18.5″', 'thickness': 'T 2.38″', 'condition': 'Good', 'manufacturer': 'Eric Arakawa'}\n",
      "2019-11-16 15:10:53 [scrapy.core.engine] DEBUG: Crawled (200) <GET https://www.usedsurfboardshawaii.com/product/5ft-8in-ian-squash-tail-ref-21798/> (referer: https://www.usedsurfboardshawaii.com/page/28/?post_type=product) ['cached']\n",
      "2019-11-16 15:10:53 [scrapy.core.scraper] DEBUG: Scraped from <200 https://www.usedsurfboardshawaii.com/product/6ft-3in-arakawa-round-tail-ref-21903/>\n",
      "{'url': 'https://www.usedsurfboardshawaii.com/product/6ft-3in-arakawa-round-tail-ref-21903/', 'title': '6ft 3in Arakawa Round Tail Ref# 21903', 'price': 175.0, 'description': 'Nice shortboard with minimal sign of previous use.', 'type': 'Thruster (Future)', 'height': 'H 6’3″', 'width': 'W 18.5″', 'thickness': 'T 2.38″', 'condition': 'Good', 'manufacturer': 'Eric Arakawa'}\n"
     ]
    },
    {
     "name": "stdout",
     "output_type": "stream",
     "text": [
      "Processing 13 out of 25\n",
      "Processing 14 out of 25\n"
     ]
    },
    {
     "name": "stderr",
     "output_type": "stream",
     "text": [
      "2019-11-16 15:10:53 [scrapy.core.engine] DEBUG: Crawled (200) <GET https://www.usedsurfboardshawaii.com/product/6ft-10in-pang-squash-tail-ref-21759/> (referer: https://www.usedsurfboardshawaii.com/page/28/?post_type=product) ['cached']\n",
      "2019-11-16 15:10:53 [scrapy.core.scraper] DEBUG: Scraped from <200 https://www.usedsurfboardshawaii.com/product/5ft-3in-jube-swallow-tail-ref-21630/>\n",
      "{'url': 'https://www.usedsurfboardshawaii.com/product/5ft-3in-jube-swallow-tail-ref-21630/', 'title': '5ft 3in Jube Swallow Tail Ref# 21630', 'price': 250.0, 'description': 'Nice shortboard with minimal sign of previous use.', 'type': 'Twin Fin (FCS 2)', 'height': 'H 5’3″', 'width': 'W 19″', 'thickness': 'T 2 1/4″', 'condition': 'Good', 'manufacturer': 'Jube'}\n",
      "2019-11-16 15:10:53 [scrapy.core.engine] DEBUG: Crawled (200) <GET https://www.usedsurfboardshawaii.com/product/6ft-jc-squash-tail-ref-20886/> (referer: https://www.usedsurfboardshawaii.com/page/28/?post_type=product) ['cached']\n",
      "2019-11-16 15:10:53 [scrapy.core.scraper] DEBUG: Scraped from <200 https://www.usedsurfboardshawaii.com/product/5ft-8in-ian-squash-tail-ref-21798/>\n",
      "{'url': 'https://www.usedsurfboardshawaii.com/product/5ft-8in-ian-squash-tail-ref-21798/', 'title': '5ft 8in Ian Squash Tail Ref# 21798', 'price': 275.0, 'description': 'Nice shortboard with minimal sign of previous use.', 'type': 'Thruster (FCS)', 'height': 'H 5’8″', 'width': 'W 19″', 'thickness': 'T 2 2/8″', 'condition': 'Good', 'manufacturer': 'Ian'}\n"
     ]
    },
    {
     "name": "stdout",
     "output_type": "stream",
     "text": [
      "Processing 15 out of 25\n",
      "Processing 16 out of 25\n"
     ]
    },
    {
     "name": "stderr",
     "output_type": "stream",
     "text": [
      "2019-11-16 15:10:53 [scrapy.core.engine] DEBUG: Crawled (200) <GET https://www.usedsurfboardshawaii.com/product/5ft-8in-dylan-squash-tail-ref-21693/> (referer: https://www.usedsurfboardshawaii.com/page/28/?post_type=product) ['cached']\n",
      "2019-11-16 15:10:53 [scrapy.core.scraper] DEBUG: Scraped from <200 https://www.usedsurfboardshawaii.com/product/6ft-10in-pang-squash-tail-ref-21759/>\n",
      "{'url': 'https://www.usedsurfboardshawaii.com/product/6ft-10in-pang-squash-tail-ref-21759/', 'title': '6ft 10in Pang Squash Tail Ref# 21759', 'price': 399.0, 'description': 'Nice shortboard with minimal sign of previous use.', 'type': 'Thruster (FCS)', 'height': 'H 6’10”', 'width': 'W 19 1/8″', 'thickness': 'T 2 3/4″', 'condition': 'Good', 'manufacturer': 'Pang'}\n",
      "2019-11-16 15:10:54 [scrapy.core.engine] DEBUG: Crawled (200) <GET https://www.usedsurfboardshawaii.com/product/carver-surfboard-bike-rack/> (referer: https://www.usedsurfboardshawaii.com/page/28/?post_type=product) ['cached']\n",
      "2019-11-16 15:10:54 [scrapy.core.scraper] DEBUG: Scraped from <200 https://www.usedsurfboardshawaii.com/product/6ft-jc-squash-tail-ref-20886/>\n",
      "{'url': 'https://www.usedsurfboardshawaii.com/product/6ft-jc-squash-tail-ref-20886/', 'title': '6ft JC Squash Tail Ref# 20886', 'price': 155.0, 'description': 'Nice shortboard with minimal sign of previous use.', 'type': 'Thruster (Future)', 'height': 'H 6′', 'width': 'W 18.25', 'thickness': 'T 2.15″', 'condition': 'Good', 'manufacturer': 'John Carper (JC)'}\n"
     ]
    },
    {
     "name": "stdout",
     "output_type": "stream",
     "text": [
      "Processing 17 out of 25\n",
      "Processing 18 out of 25\n"
     ]
    },
    {
     "name": "stderr",
     "output_type": "stream",
     "text": [
      "2019-11-16 15:10:54 [scrapy.core.engine] DEBUG: Crawled (200) <GET https://www.usedsurfboardshawaii.com/product/6ft-1in-michael-walter-squash-tail-ref-21661/> (referer: https://www.usedsurfboardshawaii.com/page/28/?post_type=product) ['cached']\n",
      "2019-11-16 15:10:54 [scrapy.core.scraper] DEBUG: Scraped from <200 https://www.usedsurfboardshawaii.com/product/5ft-8in-dylan-squash-tail-ref-21693/>\n",
      "{'url': 'https://www.usedsurfboardshawaii.com/product/5ft-8in-dylan-squash-tail-ref-21693/', 'title': '5ft 8in Dylan Squash Tail Ref# 21693', 'price': 225.0, 'description': 'Good shortboard with minimal sign of previous use.', 'type': 'Thruster (FCS)', 'height': 'H 5’8″', 'width': 'W 18 1/8″', 'thickness': 'T 2 1/4″', 'condition': 'Good', 'manufacturer': 'Dylan'}\n",
      "2019-11-16 15:10:54 [scrapy.core.engine] DEBUG: Crawled (200) <GET https://www.usedsurfboardshawaii.com/product/6ft-3in-ron-rousch-round-tail-ref-21570/> (referer: https://www.usedsurfboardshawaii.com/page/28/?post_type=product) ['cached']\n"
     ]
    },
    {
     "name": "stdout",
     "output_type": "stream",
     "text": [
      "Processing 19 out of 25\n",
      "Processing 20 out of 25\n"
     ]
    },
    {
     "name": "stderr",
     "output_type": "stream",
     "text": [
      "2019-11-16 15:10:54 [scrapy.core.engine] DEBUG: Crawled (200) <GET https://www.usedsurfboardshawaii.com/product/5ft-10in-ron-rouch-swallow-tail-ref-21568/> (referer: https://www.usedsurfboardshawaii.com/page/28/?post_type=product) ['cached']\n",
      "2019-11-16 15:10:54 [scrapy.core.scraper] DEBUG: Scraped from <200 https://www.usedsurfboardshawaii.com/product/6ft-1in-michael-walter-squash-tail-ref-21661/>\n",
      "{'url': 'https://www.usedsurfboardshawaii.com/product/6ft-1in-michael-walter-squash-tail-ref-21661/', 'title': '6ft 1in Michael Walter Squash Tail Ref# 21661', 'price': 199.0, 'description': 'Nice shortboard with minimal sign of previous use.', 'type': 'Thruster (Future)', 'height': 'H 6’1″', 'width': None, 'thickness': None, 'condition': 'Good', 'manufacturer': 'Micheal Walter'}\n",
      "2019-11-16 15:10:54 [scrapy.core.engine] DEBUG: Crawled (200) <GET https://www.usedsurfboardshawaii.com/product/5ft-2in-pang-reverse-swallow-tail-ref-21524/> (referer: https://www.usedsurfboardshawaii.com/page/28/?post_type=product) ['cached']\n",
      "2019-11-16 15:10:54 [scrapy.core.scraper] DEBUG: Scraped from <200 https://www.usedsurfboardshawaii.com/product/6ft-3in-ron-rousch-round-tail-ref-21570/>\n",
      "{'url': 'https://www.usedsurfboardshawaii.com/product/6ft-3in-ron-rousch-round-tail-ref-21570/', 'title': '6ft 3in Ron Rousch Round Tail Ref# 21570', 'price': 230.0, 'description': 'Nice shortboard with minimal sign of previous use.', 'type': '5-Fin (Future)', 'height': 'H 6’3″', 'width': 'W 19″', 'thickness': 'T 2 1/2″', 'condition': 'Good', 'manufacturer': 'Ron Rousch'}\n"
     ]
    },
    {
     "name": "stdout",
     "output_type": "stream",
     "text": [
      "Processing 21 out of 25\n",
      "Processing 22 out of 25\n"
     ]
    },
    {
     "name": "stderr",
     "output_type": "stream",
     "text": [
      "2019-11-16 15:10:54 [scrapy.core.engine] DEBUG: Crawled (200) <GET https://www.usedsurfboardshawaii.com/product/5ft-7in-pang-round-tail-ref-21523/> (referer: https://www.usedsurfboardshawaii.com/page/28/?post_type=product) ['cached']\n",
      "2019-11-16 15:10:54 [scrapy.core.scraper] DEBUG: Scraped from <200 https://www.usedsurfboardshawaii.com/product/5ft-10in-ron-rouch-swallow-tail-ref-21568/>\n",
      "{'url': 'https://www.usedsurfboardshawaii.com/product/5ft-10in-ron-rouch-swallow-tail-ref-21568/', 'title': '5ft 10in Ron Rousch Swallow Tail Ref# 21568', 'price': 230.0, 'description': 'Nice shortboard with minimal signs of previous use.', 'type': '5-Fin (Future)', 'height': 'H 5’10”', 'width': 'W 19 1/2″', 'thickness': 'T 2 3/4″', 'condition': 'Good', 'manufacturer': 'Ron Rousch'}\n",
      "2019-11-16 15:10:54 [scrapy.core.engine] DEBUG: Crawled (200) <GET https://www.usedsurfboardshawaii.com/product/6ft-nick-blair-rounded-pin-tail-ref-21469/> (referer: https://www.usedsurfboardshawaii.com/page/28/?post_type=product) ['cached']\n",
      "2019-11-16 15:10:54 [scrapy.core.scraper] DEBUG: Scraped from <200 https://www.usedsurfboardshawaii.com/product/5ft-2in-pang-reverse-swallow-tail-ref-21524/>\n",
      "{'url': 'https://www.usedsurfboardshawaii.com/product/5ft-2in-pang-reverse-swallow-tail-ref-21524/', 'title': '5ft 2in Pang Reverse Swallow Tail Ref# 21524', 'price': 240.0, 'description': 'Nice shortboard with unique shape.', 'type': 'Thruster (Future)', 'height': 'H 5’2″', 'width': 'W 18″', 'thickness': 'T 2 1/2″', 'condition': 'Good', 'manufacturer': 'Pang'}\n"
     ]
    },
    {
     "name": "stdout",
     "output_type": "stream",
     "text": [
      "Processing 23 out of 25\n",
      "Processing 24 out of 25\n"
     ]
    },
    {
     "name": "stderr",
     "output_type": "stream",
     "text": [
      "2019-11-16 15:10:55 [scrapy.core.engine] DEBUG: Crawled (200) <GET https://www.usedsurfboardshawaii.com/product/5ft-9in-northern-alliance-squash-tail-ref-21101/> (referer: https://www.usedsurfboardshawaii.com/page/28/?post_type=product) ['cached']\n",
      "2019-11-16 15:10:55 [scrapy.core.scraper] DEBUG: Scraped from <200 https://www.usedsurfboardshawaii.com/product/5ft-7in-pang-round-tail-ref-21523/>\n",
      "{'url': 'https://www.usedsurfboardshawaii.com/product/5ft-7in-pang-round-tail-ref-21523/', 'title': '5ft 7in Pang Round Tail Ref# 21523', 'price': 300.0, 'description': 'Nice shortboard with a bit of denting near the center.', 'type': '5-Fin (Future)', 'height': 'H 5’7″', 'width': 'W 18″', 'thickness': 'T 2 5/16″', 'condition': 'Good', 'manufacturer': 'Pang'}\n",
      "2019-11-16 15:10:55 [scrapy.core.engine] DEBUG: Crawled (200) <GET https://www.usedsurfboardshawaii.com/product/5ft-9in-tokoro-squash-tail-ref-21417/> (referer: https://www.usedsurfboardshawaii.com/page/28/?post_type=product) ['cached']\n",
      "2019-11-16 15:10:55 [scrapy.core.scraper] DEBUG: Scraped from <200 https://www.usedsurfboardshawaii.com/product/6ft-nick-blair-rounded-pin-tail-ref-21469/>\n",
      "{'url': 'https://www.usedsurfboardshawaii.com/product/6ft-nick-blair-rounded-pin-tail-ref-21469/', 'title': '6ft Nick Blair Rounded Pin Tail Ref# 21469', 'price': 200.0, 'description': 'Nice shortboard with a bit of denting near the middle.', 'type': 'Thruster (Future)', 'height': 'H 6′', 'width': 'W 18 1/2″', 'thickness': 'T 2 7/16″', 'condition': 'Good', 'manufacturer': 'Nick Blair'}\n",
      "2019-11-16 15:10:55 [scrapy.core.engine] DEBUG: Crawled (200) <GET https://www.usedsurfboardshawaii.com/page/29/?post_type=product> (referer: https://www.usedsurfboardshawaii.com/page/28/?post_type=product) ['cached']\n",
      "2019-11-16 15:10:55 [scrapy.core.scraper] DEBUG: Scraped from <200 https://www.usedsurfboardshawaii.com/product/5ft-9in-northern-alliance-squash-tail-ref-21101/>\n",
      "{'url': 'https://www.usedsurfboardshawaii.com/product/5ft-9in-northern-alliance-squash-tail-ref-21101/', 'title': '5ft 9in Northern Alliance Squash Tail Ref# 21101', 'price': 280.0, 'description': 'Nice shortboard with minimal sign of previous use.', 'type': 'Thruster (Future)', 'height': 'H 5’9″', 'width': 'W 18 5/8″', 'thickness': 'T 2.31″', 'condition': 'Good', 'manufacturer': 'Northern Alliance'}\n"
     ]
    },
    {
     "name": "stdout",
     "output_type": "stream",
     "text": [
      "Processing 25 out of 25\n",
      "\n",
      "https://www.usedsurfboardshawaii.com/page/29/?post_type=product\n"
     ]
    },
    {
     "name": "stderr",
     "output_type": "stream",
     "text": [
      "2019-11-16 15:10:55 [scrapy.core.scraper] DEBUG: Scraped from <200 https://www.usedsurfboardshawaii.com/product/5ft-9in-tokoro-squash-tail-ref-21417/>\n",
      "{'url': 'https://www.usedsurfboardshawaii.com/product/5ft-9in-tokoro-squash-tail-ref-21417/', 'title': '5ft 9in Tokoro Squash Tail Ref# 21417', 'price': 240.0, 'description': 'Very nice shortboard with barely any evidence of previous use.', 'type': 'Thruster (FCS)', 'height': 'H 5’9″', 'width': 'W 19 1/8″', 'thickness': 'T 2 1/2″', 'condition': 'Good', 'manufacturer': 'Tokoro'}\n",
      "2019-11-16 15:10:55 [scrapy.core.engine] DEBUG: Crawled (200) <GET https://www.usedsurfboardshawaii.com/product/5ft-11in-peralta-squash-tail-ref-21249/> (referer: https://www.usedsurfboardshawaii.com/page/29/?post_type=product) ['cached']\n"
     ]
    },
    {
     "name": "stdout",
     "output_type": "stream",
     "text": [
      "Total:  25\n",
      "Processing 1 out of 25\n",
      "Processing 2 out of 25\n"
     ]
    },
    {
     "name": "stderr",
     "output_type": "stream",
     "text": [
      "2019-11-16 15:10:55 [scrapy.core.engine] DEBUG: Crawled (200) <GET https://www.usedsurfboardshawaii.com/product/5ft-10in-richardson-squash-tail-ref-21405/> (referer: https://www.usedsurfboardshawaii.com/page/29/?post_type=product) ['cached']\n",
      "2019-11-16 15:10:55 [scrapy.core.engine] DEBUG: Crawled (200) <GET https://www.usedsurfboardshawaii.com/product/5ft-9in-tokoro-swallow-tail-ref-21447/> (referer: https://www.usedsurfboardshawaii.com/page/29/?post_type=product) ['cached']\n",
      "2019-11-16 15:10:55 [scrapy.core.scraper] DEBUG: Scraped from <200 https://www.usedsurfboardshawaii.com/product/5ft-11in-peralta-squash-tail-ref-21249/>\n",
      "{'url': 'https://www.usedsurfboardshawaii.com/product/5ft-11in-peralta-squash-tail-ref-21249/', 'title': '5ft 11in Peralta Squash Tail Ref# 21249', 'price': 380.0, 'description': 'Good shortboard with very little evidence of previous use.', 'type': 'Thruster (Future)', 'height': 'H 5’11”', 'width': 'W 211″', 'thickness': 'T 3″', 'condition': 'Good', 'manufacturer': 'Peralta'}\n"
     ]
    },
    {
     "name": "stdout",
     "output_type": "stream",
     "text": [
      "Processing 3 out of 25\n",
      "Processing 4 out of 25\n"
     ]
    },
    {
     "name": "stderr",
     "output_type": "stream",
     "text": [
      "2019-11-16 15:10:56 [scrapy.core.engine] DEBUG: Crawled (200) <GET https://www.usedsurfboardshawaii.com/product/6ft-5in-tokoro-round-pin-tail-ref-21359/> (referer: https://www.usedsurfboardshawaii.com/page/29/?post_type=product) ['cached']\n",
      "2019-11-16 15:10:56 [scrapy.core.scraper] DEBUG: Scraped from <200 https://www.usedsurfboardshawaii.com/product/5ft-10in-richardson-squash-tail-ref-21405/>\n",
      "{'url': 'https://www.usedsurfboardshawaii.com/product/5ft-10in-richardson-squash-tail-ref-21405/', 'title': '5ft 10in Richardson Squash Tail Ref# 21405', 'price': 320.0, 'description': 'Great shortboard with barely any sign of previous use.', 'type': 'Thruster (FCS2)', 'height': 'H 5’10”', 'width': 'W 19.25″', 'thickness': 'T 2 1/4″', 'condition': 'Good', 'manufacturer': 'J. Richardson'}\n",
      "2019-11-16 15:10:56 [scrapy.core.engine] DEBUG: Crawled (200) <GET https://www.usedsurfboardshawaii.com/product/5ft-7in-tokoro-swallow-tail-ref-21311/> (referer: https://www.usedsurfboardshawaii.com/page/29/?post_type=product) ['cached']\n",
      "2019-11-16 15:10:56 [scrapy.core.scraper] DEBUG: Scraped from <200 https://www.usedsurfboardshawaii.com/product/5ft-9in-tokoro-swallow-tail-ref-21447/>\n",
      "{'url': 'https://www.usedsurfboardshawaii.com/product/5ft-9in-tokoro-swallow-tail-ref-21447/', 'title': '5ft 9in Tokoro Swallow Tail Ref# 21447', 'price': 240.0, 'description': 'Nice shortboard with minimal pressure denting near the middle.', 'type': 'Thruster (FCS)', 'height': 'H 5’9.5″', 'width': 'W 18 5/8″', 'thickness': 'T 2 7/16″', 'condition': 'Good', 'manufacturer': 'Tokoro'}\n"
     ]
    },
    {
     "name": "stdout",
     "output_type": "stream",
     "text": [
      "Processing 5 out of 25\n",
      "Processing 6 out of 25\n"
     ]
    },
    {
     "name": "stderr",
     "output_type": "stream",
     "text": [
      "2019-11-16 15:10:56 [scrapy.core.engine] DEBUG: Crawled (200) <GET https://www.usedsurfboardshawaii.com/product/6ft-3in-pang-round-tail-ref-21354/> (referer: https://www.usedsurfboardshawaii.com/page/29/?post_type=product) ['cached']\n",
      "2019-11-16 15:10:56 [scrapy.core.scraper] DEBUG: Scraped from <200 https://www.usedsurfboardshawaii.com/product/6ft-5in-tokoro-round-pin-tail-ref-21359/>\n",
      "{'url': 'https://www.usedsurfboardshawaii.com/product/6ft-5in-tokoro-round-pin-tail-ref-21359/', 'title': '6ft 5in Tokoro Round Pin Tail Ref# 21359', 'price': 185.0, 'description': 'Good shortboard with a few minor dings and a bit of denting.', 'type': 'Thruster (Future)', 'height': 'H 6’5″', 'width': 'W 18 3/4″', 'thickness': 'T 2 3/8″', 'condition': 'Good', 'manufacturer': 'Tokoro'}\n",
      "2019-11-16 15:10:56 [scrapy.core.engine] DEBUG: Crawled (200) <GET https://www.usedsurfboardshawaii.com/product/5ft-10in-rawson-round-tail-ref-21069/> (referer: https://www.usedsurfboardshawaii.com/page/29/?post_type=product) ['cached']\n",
      "2019-11-16 15:10:56 [scrapy.core.scraper] DEBUG: Scraped from <200 https://www.usedsurfboardshawaii.com/product/5ft-7in-tokoro-swallow-tail-ref-21311/>\n",
      "{'url': 'https://www.usedsurfboardshawaii.com/product/5ft-7in-tokoro-swallow-tail-ref-21311/', 'title': '5ft 7in Tokoro Swallow Tail Ref# 21311', 'price': 160.0, 'description': 'Nice shortboard with a bit of denting.', 'type': 'Thuster (FCS)', 'height': 'H 5’7″', 'width': 'W 18 3/8″', 'thickness': 'T 2.25″', 'condition': 'Good', 'manufacturer': 'Tokoro'}\n"
     ]
    },
    {
     "name": "stdout",
     "output_type": "stream",
     "text": [
      "Processing 7 out of 25\n",
      "Processing 8 out of 25\n"
     ]
    },
    {
     "name": "stderr",
     "output_type": "stream",
     "text": [
      "2019-11-16 15:10:56 [scrapy.core.engine] DEBUG: Crawled (200) <GET https://www.usedsurfboardshawaii.com/product/6ft-3in-hansen-swallow-tail-ref-20871/> (referer: https://www.usedsurfboardshawaii.com/page/29/?post_type=product) ['cached']\n",
      "2019-11-16 15:10:56 [scrapy.core.scraper] DEBUG: Scraped from <200 https://www.usedsurfboardshawaii.com/product/6ft-3in-pang-round-tail-ref-21354/>\n",
      "{'url': 'https://www.usedsurfboardshawaii.com/product/6ft-3in-pang-round-tail-ref-21354/', 'title': '6ft 3in Pang Round Tail Ref# 21354', 'price': 450.0, 'description': 'Good shortboard with very few dents or dings.', 'type': 'Thruster (Future)', 'height': 'H 6’3″', 'width': 'W 18 3/4″', 'thickness': 'T 2 3/8″', 'condition': 'Good', 'manufacturer': 'Pang'}\n",
      "2019-11-16 15:10:56 [scrapy.core.engine] DEBUG: Crawled (200) <GET https://www.usedsurfboardshawaii.com/product/5ft-9in-bushman-round-tail-ref-21062/> (referer: https://www.usedsurfboardshawaii.com/page/29/?post_type=product) ['cached']\n",
      "2019-11-16 15:10:56 [scrapy.core.scraper] DEBUG: Scraped from <200 https://www.usedsurfboardshawaii.com/product/5ft-10in-rawson-round-tail-ref-21069/>\n",
      "{'url': 'https://www.usedsurfboardshawaii.com/product/5ft-10in-rawson-round-tail-ref-21069/', 'title': '5ft 10in Rawson Round Tail Ref# 21069', 'price': 260.0, 'description': 'Good performance shortboard. This board is in good condition with just some minor pressure denting.', 'type': 'Thruster (Future)', 'height': 'H 5′ 10″', 'width': 'W 19″', 'thickness': 'T 2 3/16″', 'condition': 'Good', 'manufacturer': 'Rawson'}\n"
     ]
    },
    {
     "name": "stdout",
     "output_type": "stream",
     "text": [
      "Processing 9 out of 25\n",
      "Processing 10 out of 25\n"
     ]
    },
    {
     "name": "stderr",
     "output_type": "stream",
     "text": [
      "2019-11-16 15:10:56 [scrapy.core.engine] DEBUG: Crawled (200) <GET https://www.usedsurfboardshawaii.com/product/5ft-9in-round-tail-ref20595/> (referer: https://www.usedsurfboardshawaii.com/page/29/?post_type=product) ['cached']\n",
      "2019-11-16 15:10:56 [scrapy.core.scraper] DEBUG: Scraped from <200 https://www.usedsurfboardshawaii.com/product/6ft-3in-hansen-swallow-tail-ref-20871/>\n",
      "{'url': 'https://www.usedsurfboardshawaii.com/product/6ft-3in-hansen-swallow-tail-ref-20871/', 'title': '6ft 3in Hansen Swallow Tail Ref# 20871', 'price': 250.0, 'description': 'Nice shortboard with minimal pressure denting.', 'type': 'Thruster (Future)', 'height': 'H 6’3″', 'width': 'W 19 1/2″', 'thickness': 'T 2 1/4″', 'condition': 'Good', 'manufacturer': 'Hansen'}\n",
      "2019-11-16 15:10:57 [scrapy.core.engine] DEBUG: Crawled (200) <GET https://www.usedsurfboardshawaii.com/product/5ft-7in-northern-alliance-pin-tail-ref-20885/> (referer: https://www.usedsurfboardshawaii.com/page/29/?post_type=product) ['cached']\n",
      "2019-11-16 15:10:57 [scrapy.core.scraper] DEBUG: Scraped from <200 https://www.usedsurfboardshawaii.com/product/5ft-9in-bushman-round-tail-ref-21062/>\n",
      "{'url': 'https://www.usedsurfboardshawaii.com/product/5ft-9in-bushman-round-tail-ref-21062/', 'title': '5ft 9in Bushman Round Tail Ref# 21062', 'price': 315.0, 'description': 'Very nice shortboard. Minimal sign of previous usage.', 'type': 'Thruster (Future)', 'height': 'H 5’9″', 'width': 'W 17 1/2″', 'thickness': 'T 2″', 'condition': 'Good', 'manufacturer': 'Bushman'}\n"
     ]
    },
    {
     "name": "stdout",
     "output_type": "stream",
     "text": [
      "Processing 11 out of 25\n",
      "Processing 12 out of 25\n"
     ]
    },
    {
     "name": "stderr",
     "output_type": "stream",
     "text": [
      "2019-11-16 15:10:57 [scrapy.core.engine] DEBUG: Crawled (200) <GET https://www.usedsurfboardshawaii.com/product/5ft-8in-northern-alliance-ref-20878/> (referer: https://www.usedsurfboardshawaii.com/page/29/?post_type=product) ['cached']\n",
      "2019-11-16 15:10:57 [scrapy.core.scraper] DEBUG: Scraped from <200 https://www.usedsurfboardshawaii.com/product/5ft-9in-round-tail-ref20595/>\n",
      "{'url': 'https://www.usedsurfboardshawaii.com/product/5ft-9in-round-tail-ref20595/', 'title': '5ft 9in Round Tail Ref#20595', 'price': 120.0, 'description': 'Nice shortboard with just a bit of denting towards the middle.', 'type': 'Thruster (FCS)', 'height': 'H 5’9″', 'width': 'W 19 1/2″', 'thickness': 'T 2 1/2″', 'condition': 'Good', 'manufacturer': 'Wes'}\n",
      "2019-11-16 15:10:57 [scrapy.core.engine] DEBUG: Crawled (200) <GET https://www.usedsurfboardshawaii.com/product/7ft-10in-fg-round-tail-ref-15951/> (referer: https://www.usedsurfboardshawaii.com/page/29/?post_type=product) ['cached']\n",
      "2019-11-16 15:10:57 [scrapy.core.scraper] DEBUG: Scraped from <200 https://www.usedsurfboardshawaii.com/product/5ft-7in-northern-alliance-pin-tail-ref-20885/>\n",
      "{'url': 'https://www.usedsurfboardshawaii.com/product/5ft-7in-northern-alliance-pin-tail-ref-20885/', 'title': '5ft 7in Northern Alliance Pin Tail Ref# 20885', 'price': 245.0, 'description': 'Nice shortboard with no major dents or dings.', 'type': 'Thruster (Future)', 'height': 'H 5’7″', 'width': 'W 18 1/2″', 'thickness': 'T 2 1/4″', 'condition': 'Good', 'manufacturer': 'Northern Alliance'}\n"
     ]
    },
    {
     "name": "stdout",
     "output_type": "stream",
     "text": [
      "Processing 13 out of 25\n",
      "Processing 14 out of 25\n"
     ]
    },
    {
     "name": "stderr",
     "output_type": "stream",
     "text": [
      "2019-11-16 15:10:57 [scrapy.core.engine] DEBUG: Crawled (200) <GET https://www.usedsurfboardshawaii.com/product/5ft-10in-johnston-squash-tail-ref-20715/> (referer: https://www.usedsurfboardshawaii.com/page/29/?post_type=product) ['cached']\n",
      "2019-11-16 15:10:57 [scrapy.core.scraper] DEBUG: Scraped from <200 https://www.usedsurfboardshawaii.com/product/5ft-8in-northern-alliance-ref-20878/>\n",
      "{'url': 'https://www.usedsurfboardshawaii.com/product/5ft-8in-northern-alliance-ref-20878/', 'title': '5ft 8in Northern Alliance Ref# 20878', 'price': 325.0, 'description': 'Nice shortboard with no major dings and only a little denting.', 'type': 'Thruster (Future)', 'height': 'H 5’8″', 'width': 'W 18″', 'thickness': 'T 2 3/16″', 'condition': 'Good', 'manufacturer': 'Northern Alliance'}\n",
      "2019-11-16 15:10:57 [scrapy.core.engine] DEBUG: Crawled (200) <GET https://www.usedsurfboardshawaii.com/product/6ft-3-5in-korps-round-tail-ref-20614/> (referer: https://www.usedsurfboardshawaii.com/page/29/?post_type=product) ['cached']\n",
      "2019-11-16 15:10:57 [scrapy.core.scraper] DEBUG: Scraped from <200 https://www.usedsurfboardshawaii.com/product/7ft-10in-fg-round-tail-ref-15951/>\n",
      "{'url': 'https://www.usedsurfboardshawaii.com/product/7ft-10in-fg-round-tail-ref-15951/', 'title': '7ft 10in FG Round Tail Ref# 15951', 'price': 300.0, 'description': 'Mid size board with minimal pressure dents. Has a bad fin plug.', 'type': '5-Fin (FCS)', 'height': 'H 7’10”', 'width': 'W 19 1/4″', 'thickness': 'T 2 3/4″', 'condition': 'Good', 'manufacturer': 'FG'}\n"
     ]
    },
    {
     "name": "stdout",
     "output_type": "stream",
     "text": [
      "Processing 15 out of 25\n",
      "Processing 16 out of 25\n"
     ]
    },
    {
     "name": "stderr",
     "output_type": "stream",
     "text": [
      "2019-11-16 15:10:57 [scrapy.core.engine] DEBUG: Crawled (200) <GET https://www.usedsurfboardshawaii.com/product/6ft-1in-m10-squash-tail-ref-20723/> (referer: https://www.usedsurfboardshawaii.com/page/29/?post_type=product) ['cached']\n",
      "2019-11-16 15:10:57 [scrapy.core.scraper] DEBUG: Scraped from <200 https://www.usedsurfboardshawaii.com/product/5ft-10in-johnston-squash-tail-ref-20715/>\n",
      "{'url': 'https://www.usedsurfboardshawaii.com/product/5ft-10in-johnston-squash-tail-ref-20715/', 'title': '5ft 10in Johnston Squash Tail Ref# 20715', 'price': 360.0, 'description': 'Good quality shortboard with very minor pressure dents and dings.', 'type': 'Thruster (Future)', 'height': 'H 5’10”', 'width': 'W 15 5/8″', 'thickness': 'T 2 5/16″', 'condition': 'Good', 'manufacturer': 'Johnston'}\n",
      "2019-11-16 15:10:57 [scrapy.core.engine] DEBUG: Crawled (200) <GET https://www.usedsurfboardshawaii.com/product/6ft-0in-al-merrick-round-tail-ref-20630/> (referer: https://www.usedsurfboardshawaii.com/page/29/?post_type=product) ['cached']\n",
      "2019-11-16 15:10:58 [scrapy.core.scraper] DEBUG: Scraped from <200 https://www.usedsurfboardshawaii.com/product/6ft-3-5in-korps-round-tail-ref-20614/>\n",
      "{'url': 'https://www.usedsurfboardshawaii.com/product/6ft-3-5in-korps-round-tail-ref-20614/', 'title': '6ft 3.5in Korps Round Tail Ref# 20614', 'price': 215.0, 'description': 'A standard shortboard for when the waves are a little overhead and you want a little more foam under you to paddle.', 'type': 'Thruster (FCS)', 'height': 'H 6’3.5″', 'width': 'W 19 1/4″', 'thickness': 'T 2 1/2″', 'condition': 'Good', 'manufacturer': 'Korps'}\n"
     ]
    },
    {
     "name": "stdout",
     "output_type": "stream",
     "text": [
      "Processing 17 out of 25\n",
      "Processing 18 out of 25\n"
     ]
    },
    {
     "name": "stderr",
     "output_type": "stream",
     "text": [
      "2019-11-16 15:10:58 [scrapy.core.engine] DEBUG: Crawled (200) <GET https://www.usedsurfboardshawaii.com/product/7ft-2in-pang-pin-tail-ref-20272/> (referer: https://www.usedsurfboardshawaii.com/page/29/?post_type=product) ['cached']\n",
      "2019-11-16 15:10:58 [scrapy.core.scraper] DEBUG: Scraped from <200 https://www.usedsurfboardshawaii.com/product/6ft-1in-m10-squash-tail-ref-20723/>\n",
      "{'url': 'https://www.usedsurfboardshawaii.com/product/6ft-1in-m10-squash-tail-ref-20723/', 'title': '6ft 1in M10 Squash Tail Ref# 20723', 'price': 120.0, 'description': 'Good shortboard ready to be taken out again.', 'type': 'Thruster (Future)', 'height': 'H 6′ 1″', 'width': 'W 18 1/2″', 'thickness': 'T 2 5/18″', 'condition': 'Good', 'manufacturer': 'M10'}\n",
      "2019-11-16 15:10:58 [scrapy.core.engine] DEBUG: Crawled (200) <GET https://www.usedsurfboardshawaii.com/product/7ft-sc-round-rail-ref-20653/> (referer: https://www.usedsurfboardshawaii.com/page/29/?post_type=product) ['cached']\n",
      "2019-11-16 15:10:58 [scrapy.core.scraper] DEBUG: Scraped from <200 https://www.usedsurfboardshawaii.com/product/6ft-0in-al-merrick-round-tail-ref-20630/>\n",
      "{'url': 'https://www.usedsurfboardshawaii.com/product/6ft-0in-al-merrick-round-tail-ref-20630/', 'title': '6ft 0in Al Merrick Round Tail Ref# 20630', 'price': 160.0, 'description': 'Good quality board with nothing more than minor pressure dents and dings.', 'type': 'Thruster (FCS)', 'height': 'H 6′ 0″', 'width': 'W 18 1/8″', 'thickness': 'T 2 5/16″', 'condition': 'Good', 'manufacturer': 'Al Merrick'}\n"
     ]
    },
    {
     "name": "stdout",
     "output_type": "stream",
     "text": [
      "Processing 19 out of 25\n",
      "Processing 20 out of 25\n"
     ]
    },
    {
     "name": "stderr",
     "output_type": "stream",
     "text": [
      "2019-11-16 15:10:58 [scrapy.core.engine] DEBUG: Crawled (200) <GET https://www.usedsurfboardshawaii.com/product/6ft-2in-aleution-juice-squash-tail-ref-20598/> (referer: https://www.usedsurfboardshawaii.com/page/29/?post_type=product) ['cached']\n",
      "2019-11-16 15:10:58 [scrapy.core.scraper] DEBUG: Scraped from <200 https://www.usedsurfboardshawaii.com/product/7ft-2in-pang-pin-tail-ref-20272/>\n",
      "{'url': 'https://www.usedsurfboardshawaii.com/product/7ft-2in-pang-pin-tail-ref-20272/', 'title': '7ft 2in Pang Pin Tail Ref# 20272', 'price': 245.0, 'description': 'This board is in pretty good condition with just some pressure denting. This board is for charging some big barrels.', 'type': 'Thruster (Future)', 'height': 'H 7′ 2″', 'width': 'W 18 1/8″', 'thickness': 'T 2 1/2″', 'condition': 'Good', 'manufacturer': 'Pang'}\n",
      "2019-11-16 15:10:58 [scrapy.core.engine] DEBUG: Crawled (200) <GET https://www.usedsurfboardshawaii.com/product/6ft-6in-tokoro-pin-tail-ref-20266/> (referer: https://www.usedsurfboardshawaii.com/page/29/?post_type=product) ['cached']\n",
      "2019-11-16 15:10:58 [scrapy.core.scraper] DEBUG: Scraped from <200 https://www.usedsurfboardshawaii.com/product/7ft-sc-round-rail-ref-20653/>\n",
      "{'url': 'https://www.usedsurfboardshawaii.com/product/7ft-sc-round-rail-ref-20653/', 'title': '7ft SC Round Rail Ref# 20653', 'price': 245.0, 'description': 'Great board for a bigger guy or a day when the waves are pumping.\\xa0 This board is in great shape and has plenty of life left in it.', 'type': None, 'height': 'H 7′', 'width': 'W 19″', 'thickness': 'T 2.53″', 'condition': 'Good', 'manufacturer': 'SC'}\n"
     ]
    },
    {
     "name": "stdout",
     "output_type": "stream",
     "text": [
      "Processing 21 out of 25\n",
      "Processing 22 out of 25\n"
     ]
    },
    {
     "name": "stderr",
     "output_type": "stream",
     "text": [
      "2019-11-16 15:10:58 [scrapy.core.engine] DEBUG: Crawled (200) <GET https://www.usedsurfboardshawaii.com/product/6ft-1in-kolea-squash-tail-ref-20002/> (referer: https://www.usedsurfboardshawaii.com/page/29/?post_type=product) ['cached']\n",
      "2019-11-16 15:10:58 [scrapy.core.scraper] DEBUG: Scraped from <200 https://www.usedsurfboardshawaii.com/product/6ft-2in-aleution-juice-squash-tail-ref-20598/>\n",
      "{'url': 'https://www.usedsurfboardshawaii.com/product/6ft-2in-aleution-juice-squash-tail-ref-20598/', 'title': '6ft 2in Aleution Juice Squash Tail Ref# 20598', 'price': 199.0, 'description': 'Good all around shortboard for a little bit bigger guy. This board has seen a good amount of use but still has lot of life in it.', 'type': 'Thruster (FCS)', 'height': 'H 6′ 2″', 'width': 'W 19 5/8″', 'thickness': 'T 2 1/2″', 'condition': 'Fair', 'manufacturer': 'Aleution Juice'}\n",
      "2019-11-16 15:10:58 [scrapy.core.engine] DEBUG: Crawled (200) <GET https://www.usedsurfboardshawaii.com/product/7ft-2in-js-round-pin-ref-20234/> (referer: https://www.usedsurfboardshawaii.com/page/29/?post_type=product) ['cached']\n",
      "2019-11-16 15:10:58 [scrapy.core.scraper] DEBUG: Scraped from <200 https://www.usedsurfboardshawaii.com/product/6ft-6in-tokoro-pin-tail-ref-20266/>\n",
      "{'url': 'https://www.usedsurfboardshawaii.com/product/6ft-6in-tokoro-pin-tail-ref-20266/', 'title': '6ft 6in Tokoro Pin Tail Ref# 20266', 'price': 318.75, 'description': 'A good step up for steep waves. In good condition with some pressures on the deck.', 'type': 'Thruster (FCS)', 'height': 'H 6′ 6″', 'width': 'W 18″', 'thickness': 'T 2 1/8″', 'condition': 'Good', 'manufacturer': 'Tokoro'}\n"
     ]
    },
    {
     "name": "stdout",
     "output_type": "stream",
     "text": [
      "Processing 23 out of 25\n",
      "Processing 24 out of 25\n"
     ]
    },
    {
     "name": "stderr",
     "output_type": "stream",
     "text": [
      "2019-11-16 15:10:59 [scrapy.core.engine] DEBUG: Crawled (200) <GET https://www.usedsurfboardshawaii.com/product/6ft-4in-tokoro-round-tail-ref20081/> (referer: https://www.usedsurfboardshawaii.com/page/29/?post_type=product) ['cached']\n",
      "2019-11-16 15:10:59 [scrapy.core.scraper] DEBUG: Scraped from <200 https://www.usedsurfboardshawaii.com/product/6ft-1in-kolea-squash-tail-ref-20002/>\n",
      "{'url': 'https://www.usedsurfboardshawaii.com/product/6ft-1in-kolea-squash-tail-ref-20002/', 'title': '6ft 1in Kolea Squash Tail Ref# 20002', 'price': 255.0, 'description': 'Great all around shortboard. Locally shaped by a talented up an coming shaper. This board is in good condition with just some minor pressure dents.', 'type': '5-Fin (Future)', 'height': 'H 6′ 1″', 'width': 'W 19″', 'thickness': 'T 2 3/8″', 'condition': 'Good', 'manufacturer': 'Kolea'}\n",
      "2019-11-16 15:10:59 [scrapy.core.engine] DEBUG: Crawled (200) <GET https://www.usedsurfboardshawaii.com/product/5ft-8in-aloha-round-tail-quad-ref-20013/> (referer: https://www.usedsurfboardshawaii.com/page/29/?post_type=product) ['cached']\n",
      "2019-11-16 15:10:59 [scrapy.core.scraper] DEBUG: Scraped from <200 https://www.usedsurfboardshawaii.com/product/7ft-2in-js-round-pin-ref-20234/>\n",
      "{'url': 'https://www.usedsurfboardshawaii.com/product/7ft-2in-js-round-pin-ref-20234/', 'title': '7ft 2in JS Round Pin Ref# 20234', 'price': 361.25, 'description': 'Great step up for the north shore when the waves get some real good size. The board is in real good condition with very minor pressure denting.', 'type': '5-Fin (Future)', 'height': 'H 7′ 2″', 'width': 'W 18.58″', 'thickness': 'T 2.5″', 'condition': 'Good', 'manufacturer': 'JS'}\n",
      "2019-11-16 15:10:59 [scrapy.core.engine] DEBUG: Crawled (200) <GET https://www.usedsurfboardshawaii.com/page/30/?post_type=product> (referer: https://www.usedsurfboardshawaii.com/page/29/?post_type=product) ['cached']\n",
      "2019-11-16 15:10:59 [scrapy.core.scraper] DEBUG: Scraped from <200 https://www.usedsurfboardshawaii.com/product/6ft-4in-tokoro-round-tail-ref20081/>\n",
      "{'url': 'https://www.usedsurfboardshawaii.com/product/6ft-4in-tokoro-round-tail-ref20081/', 'title': '6ft 4in Tokoro Round Tail Ref#20081', 'price': 254.15, 'description': 'Locally shaped board in great condition.\\xa0 This board is great for a bigger guy or those smaller wave days.\\xa0 This board is water tight and ready to surf.', 'type': None, 'height': 'H 6’4', 'width': 'W 19 3/4″', 'thickness': 'T 2 1/2″', 'condition': 'Good', 'manufacturer': 'Tokoro'}\n"
     ]
    },
    {
     "name": "stdout",
     "output_type": "stream",
     "text": [
      "Processing 25 out of 25\n",
      "\n",
      "https://www.usedsurfboardshawaii.com/page/30/?post_type=product\n"
     ]
    },
    {
     "name": "stderr",
     "output_type": "stream",
     "text": [
      "2019-11-16 15:10:59 [scrapy.core.scraper] DEBUG: Scraped from <200 https://www.usedsurfboardshawaii.com/product/5ft-8in-aloha-round-tail-quad-ref-20013/>\n",
      "{'url': 'https://www.usedsurfboardshawaii.com/product/5ft-8in-aloha-round-tail-quad-ref-20013/', 'title': '5ft 8in Aloha Round Tail Quad Ref# 20013', 'price': 339.15, 'description': 'A new board that is a little bit of a hybrid but still a short board, has a more flat deck with a good amount of volume for such a little board.', 'type': 'Quad (Future)', 'height': 'H 5’8″', 'width': 'W 18 3/4″', 'thickness': 'T 2 1/4″', 'condition': 'New', 'manufacturer': 'Aloha'}\n",
      "2019-11-16 15:10:59 [scrapy.core.engine] DEBUG: Crawled (200) <GET https://www.usedsurfboardshawaii.com/product/6ft-10in-minami-swallow-tail-ref-19955/> (referer: https://www.usedsurfboardshawaii.com/page/30/?post_type=product) ['cached']\n"
     ]
    },
    {
     "name": "stdout",
     "output_type": "stream",
     "text": [
      "Total:  25\n",
      "Processing 1 out of 25\n",
      "Processing 2 out of 25\n"
     ]
    },
    {
     "name": "stderr",
     "output_type": "stream",
     "text": [
      "2019-11-16 15:10:59 [scrapy.core.engine] DEBUG: Crawled (200) <GET https://www.usedsurfboardshawaii.com/product/6ft-10in-js-pin-tail-ref-19931/> (referer: https://www.usedsurfboardshawaii.com/page/30/?post_type=product) ['cached']\n",
      "2019-11-16 15:10:59 [scrapy.core.engine] DEBUG: Crawled (200) <GET https://www.usedsurfboardshawaii.com/product/5ft-10in-modex-squash-tail-ref-19885/> (referer: https://www.usedsurfboardshawaii.com/page/30/?post_type=product) ['cached']\n",
      "2019-11-16 15:10:59 [scrapy.core.scraper] DEBUG: Scraped from <200 https://www.usedsurfboardshawaii.com/product/6ft-10in-minami-swallow-tail-ref-19955/>\n",
      "{'url': 'https://www.usedsurfboardshawaii.com/product/6ft-10in-minami-swallow-tail-ref-19955/', 'title': '6ft 10in Minami Swallow Tail Ref# 19955', 'price': 335.75, 'description': 'This is a great step up for a bigger guy.\\xa0 This board is in good condition and water tight.', 'type': None, 'height': 'H 6’10', 'width': 'W 20 1/2', 'thickness': 'T 2 5/8', 'condition': 'Good', 'manufacturer': 'Minami'}\n"
     ]
    },
    {
     "name": "stdout",
     "output_type": "stream",
     "text": [
      "Processing 3 out of 25\n",
      "Processing 4 out of 25\n"
     ]
    },
    {
     "name": "stderr",
     "output_type": "stream",
     "text": [
      "2019-11-16 15:10:59 [scrapy.core.engine] DEBUG: Crawled (200) <GET https://www.usedsurfboardshawaii.com/product/6ft-2in-sparrow-squash-tail-ref-19626/> (referer: https://www.usedsurfboardshawaii.com/page/30/?post_type=product) ['cached']\n",
      "2019-11-16 15:10:59 [scrapy.core.scraper] DEBUG: Scraped from <200 https://www.usedsurfboardshawaii.com/product/6ft-10in-js-pin-tail-ref-19931/>\n",
      "{'url': 'https://www.usedsurfboardshawaii.com/product/6ft-10in-js-pin-tail-ref-19931/', 'title': '6ft 10in JS Pin Tail Ref# 19931', 'price': 339.15, 'description': 'Great step up for the North Shore. Originally shaped for pro surfer Makua Rothman. This board is pretty much brand new beside the crack it has on the rail up by the nose.', 'type': 'Thruster (FCS)', 'height': 'H 6′ 10″', 'width': 'W 18 7/8″', 'thickness': 'T 2 1/2″', 'condition': 'Good', 'manufacturer': 'JS'}\n",
      "2019-11-16 15:11:00 [scrapy.core.engine] DEBUG: Crawled (200) <GET https://www.usedsurfboardshawaii.com/product/6ft-8in-keoki-round-pin-ref-19688/> (referer: https://www.usedsurfboardshawaii.com/page/30/?post_type=product) ['cached']\n",
      "2019-11-16 15:11:00 [scrapy.core.scraper] DEBUG: Scraped from <200 https://www.usedsurfboardshawaii.com/product/5ft-10in-modex-squash-tail-ref-19885/>\n",
      "{'url': 'https://www.usedsurfboardshawaii.com/product/5ft-10in-modex-squash-tail-ref-19885/', 'title': '5ft 10in Modex Squash Tail Ref# 19885', 'price': 254.15, 'description': 'Great performance shortboard. This board is in good condition with minimal pressure denting. This board has a lot of life left in it.', 'type': 'Thruster (FCS)', 'height': 'H 5′ 10″', 'width': 'W 18 5/16″', 'thickness': 'T 2 5/16″', 'condition': 'Good', 'manufacturer': 'Modex'}\n"
     ]
    },
    {
     "name": "stdout",
     "output_type": "stream",
     "text": [
      "Processing 5 out of 25\n",
      "Processing 6 out of 25\n"
     ]
    },
    {
     "name": "stderr",
     "output_type": "stream",
     "text": [
      "2019-11-16 15:11:00 [scrapy.core.engine] DEBUG: Crawled (200) <GET https://www.usedsurfboardshawaii.com/product/6ft-11in-eric-arakawa-pintail-ref-19039/> (referer: https://www.usedsurfboardshawaii.com/page/30/?post_type=product) ['cached']\n",
      "2019-11-16 15:11:00 [scrapy.core.scraper] DEBUG: Scraped from <200 https://www.usedsurfboardshawaii.com/product/6ft-2in-sparrow-squash-tail-ref-19626/>\n",
      "{'url': 'https://www.usedsurfboardshawaii.com/product/6ft-2in-sparrow-squash-tail-ref-19626/', 'title': '6ft 2in Sparrow Squash Tail Ref# 19626', 'price': 140.25, 'description': 'Good all around shortboard. This board has seen some use. It has a good amount of pressure dents on the deck but has a good amount of life still in it.', 'type': 'Thruster (Future)', 'height': 'H 6′ 2″', 'width': 'W 19 3/8″', 'thickness': 'T 2 5/8″', 'condition': 'Fair', 'manufacturer': 'Sparrow'}\n",
      "2019-11-16 15:11:00 [scrapy.core.engine] DEBUG: Crawled (200) <GET https://www.usedsurfboardshawaii.com/product/6ft-4in-eric-arakawa-round-tail-ref-19396/> (referer: https://www.usedsurfboardshawaii.com/page/30/?post_type=product) ['cached']\n",
      "2019-11-16 15:11:00 [scrapy.core.scraper] DEBUG: Scraped from <200 https://www.usedsurfboardshawaii.com/product/6ft-8in-keoki-round-pin-ref-19688/>\n",
      "{'url': 'https://www.usedsurfboardshawaii.com/product/6ft-8in-keoki-round-pin-ref-19688/', 'title': '6ft 8in Keoki Round Pin Ref# 19688', 'price': 318.75, 'description': 'This board is in real good condition. Great step up for the north shore when the waves get some good size.', 'type': 'Thruster (FCS)', 'height': 'H 6′ 8″', 'width': 'W 18 5/16″', 'thickness': 'T 2 5/16″', 'condition': 'Good', 'manufacturer': 'Keoki'}\n"
     ]
    },
    {
     "name": "stdout",
     "output_type": "stream",
     "text": [
      "Processing 7 out of 25\n",
      "Processing 8 out of 25\n"
     ]
    },
    {
     "name": "stderr",
     "output_type": "stream",
     "text": [
      "2019-11-16 15:11:00 [scrapy.core.engine] DEBUG: Crawled (200) <GET https://www.usedsurfboardshawaii.com/product/6ft-8in-eric-arakawa-round-tail-ref-19397/> (referer: https://www.usedsurfboardshawaii.com/page/30/?post_type=product) ['cached']\n",
      "2019-11-16 15:11:00 [scrapy.core.scraper] DEBUG: Scraped from <200 https://www.usedsurfboardshawaii.com/product/6ft-11in-eric-arakawa-pintail-ref-19039/>\n",
      "{'url': 'https://www.usedsurfboardshawaii.com/product/6ft-11in-eric-arakawa-pintail-ref-19039/', 'title': '6ft 11in Eric Arakawa PinTail Ref# 19039', 'price': 297.5, 'description': 'A board for when it getsr really big and critical. In like new condition, just yellowed from the sun.', 'type': 'FCS (Thruster)', 'height': 'H 6′ 11″', 'width': 'W 18 1/8″', 'thickness': 'T 2 1/4″', 'condition': '', 'manufacturer': 'Eric Arakawa'}\n",
      "2019-11-16 15:11:00 [scrapy.core.engine] DEBUG: Crawled (200) <GET https://www.usedsurfboardshawaii.com/product/6ft-5in-ciancio-pin-tail-ref-15904/> (referer: https://www.usedsurfboardshawaii.com/page/30/?post_type=product) ['cached']\n",
      "2019-11-16 15:11:00 [scrapy.core.scraper] DEBUG: Scraped from <200 https://www.usedsurfboardshawaii.com/product/6ft-4in-eric-arakawa-round-tail-ref-19396/>\n",
      "{'url': 'https://www.usedsurfboardshawaii.com/product/6ft-4in-eric-arakawa-round-tail-ref-19396/', 'title': '6ft 4in Eric Arakawa Round Tail Ref# 19396', 'price': 339.15, 'description': 'A near perfect step up for bigger days. In great condition with minimal use and no previous repairs.', 'type': 'Thruster (FCS)', 'height': 'H 6’4″', 'width': 'W 18.19″', 'thickness': 'T 2.25″', 'condition': 'Like New', 'manufacturer': 'Eric Arakawa'}\n"
     ]
    },
    {
     "name": "stdout",
     "output_type": "stream",
     "text": [
      "Processing 9 out of 25\n",
      "Processing 10 out of 25\n"
     ]
    },
    {
     "name": "stderr",
     "output_type": "stream",
     "text": [
      "2019-11-16 15:11:00 [scrapy.core.engine] DEBUG: Crawled (200) <GET https://www.usedsurfboardshawaii.com/product/6ft-2in-arakawa-round-tail-ref-19210/> (referer: https://www.usedsurfboardshawaii.com/page/30/?post_type=product) ['cached']\n",
      "2019-11-16 15:11:00 [scrapy.core.scraper] DEBUG: Scraped from <200 https://www.usedsurfboardshawaii.com/product/6ft-8in-eric-arakawa-round-tail-ref-19397/>\n",
      "{'url': 'https://www.usedsurfboardshawaii.com/product/6ft-8in-eric-arakawa-round-tail-ref-19397/', 'title': '6ft 8in Eric Arakawa Round Tail Ref# 19397', 'price': 339.15, 'description': 'A great performance step-up board for bigger country days. In great condition with minimal use and only light pressure dents on the deck.', 'type': 'Future (Thruster)', 'height': 'H 6′ 8″', 'width': 'W 18.25', 'thickness': 'T 2.25″', 'condition': 'Good', 'manufacturer': 'Eric Arakawa'}\n",
      "2019-11-16 15:11:00 [scrapy.core.engine] DEBUG: Crawled (200) <GET https://www.usedsurfboardshawaii.com/product/5ft-8in-tokoro-swalloe-tail-ref-19203/> (referer: https://www.usedsurfboardshawaii.com/page/30/?post_type=product) ['cached']\n",
      "2019-11-16 15:11:00 [scrapy.core.scraper] DEBUG: Scraped from <200 https://www.usedsurfboardshawaii.com/product/6ft-5in-ciancio-pin-tail-ref-15904/>\n",
      "{'url': 'https://www.usedsurfboardshawaii.com/product/6ft-5in-ciancio-pin-tail-ref-15904/', 'title': '6ft 5in Ciancio Pin Tail Ref# 15904', 'price': 129.2, 'description': 'A good bargain step up board. In good condition with normal wear and tear.', 'type': 'FCS (Thruster)', 'height': 'H 6′ 5″', 'width': 'W 18.5″', 'thickness': 'T 2.25″', 'condition': 'Good', 'manufacturer': 'Ciancio'}\n"
     ]
    },
    {
     "name": "stdout",
     "output_type": "stream",
     "text": [
      "Processing 11 out of 25\n",
      "Processing 12 out of 25\n"
     ]
    },
    {
     "name": "stderr",
     "output_type": "stream",
     "text": [
      "2019-11-16 15:11:01 [scrapy.core.engine] DEBUG: Crawled (200) <GET https://www.usedsurfboardshawaii.com/product/6ft-7in-fcs-all-purpose-dual-bag-red/> (referer: https://www.usedsurfboardshawaii.com/page/30/?post_type=product) ['cached']\n",
      "2019-11-16 15:11:01 [scrapy.core.scraper] DEBUG: Scraped from <200 https://www.usedsurfboardshawaii.com/product/6ft-2in-arakawa-round-tail-ref-19210/>\n",
      "{'url': 'https://www.usedsurfboardshawaii.com/product/6ft-2in-arakawa-round-tail-ref-19210/', 'title': '6ft 2in Arakawa Round Tail Ref# 19210', 'price': 220.0, 'description': 'A great step up board for country waves. In good condition with normal pressure dents from use.', 'type': 'Thruster (Future)', 'height': 'H 6′ 2″', 'width': 'W 18.75″', 'thickness': 'T 2.38″', 'condition': 'Good', 'manufacturer': 'Eric Arakawa'}\n",
      "2019-11-16 15:11:01 [scrapy.core.engine] DEBUG: Crawled (200) <GET https://www.usedsurfboardshawaii.com/product/6ft-3in-fcs-all-purpose-dual-bag-red/> (referer: https://www.usedsurfboardshawaii.com/page/30/?post_type=product) ['cached']\n",
      "2019-11-16 15:11:01 [scrapy.core.scraper] DEBUG: Scraped from <200 https://www.usedsurfboardshawaii.com/product/5ft-8in-tokoro-swalloe-tail-ref-19203/>\n",
      "{'url': 'https://www.usedsurfboardshawaii.com/product/5ft-8in-tokoro-swalloe-tail-ref-19203/', 'title': '5ft 8in Tokoro Swalloe Tail Ref# 19203', 'price': 300.0, 'description': 'A great board for slopey and weaker waves. In great condition with no previous repairs.', 'type': 'Future (Thuster)', 'height': 'H 5′ 8″', 'width': 'W 19 1/4″', 'thickness': 'T 2 1/2″', 'condition': 'Good', 'manufacturer': 'Tokoro'}\n"
     ]
    },
    {
     "name": "stdout",
     "output_type": "stream",
     "text": [
      "Processing 13 out of 25\n",
      "Processing 14 out of 25\n"
     ]
    },
    {
     "name": "stderr",
     "output_type": "stream",
     "text": [
      "2019-11-16 15:11:01 [scrapy.core.engine] DEBUG: Crawled (200) <GET https://www.usedsurfboardshawaii.com/product/6ft-fcs-all-purpose-dual-bag-red/> (referer: https://www.usedsurfboardshawaii.com/page/30/?post_type=product) ['cached']\n",
      "2019-11-16 15:11:01 [scrapy.core.engine] DEBUG: Crawled (200) <GET https://www.usedsurfboardshawaii.com/product/10ft-2in-fcs-flight-longboard-bag-charcoal/> (referer: https://www.usedsurfboardshawaii.com/page/30/?post_type=product) ['cached']\n"
     ]
    },
    {
     "name": "stdout",
     "output_type": "stream",
     "text": [
      "Processing 15 out of 25\n",
      "Processing 16 out of 25\n"
     ]
    },
    {
     "name": "stderr",
     "output_type": "stream",
     "text": [
      "2019-11-16 15:11:01 [scrapy.core.engine] DEBUG: Crawled (200) <GET https://www.usedsurfboardshawaii.com/product/8ft-6in-fcs-flight-longboard-bag-charcoal/> (referer: https://www.usedsurfboardshawaii.com/page/30/?post_type=product) ['cached']\n",
      "2019-11-16 15:11:01 [scrapy.core.engine] DEBUG: Crawled (200) <GET https://www.usedsurfboardshawaii.com/product/8ft-fcs-flight-funboard-bag-charcoal/> (referer: https://www.usedsurfboardshawaii.com/page/30/?post_type=product) ['cached']\n"
     ]
    },
    {
     "name": "stdout",
     "output_type": "stream",
     "text": [
      "Processing 17 out of 25\n",
      "Processing 18 out of 25\n"
     ]
    },
    {
     "name": "stderr",
     "output_type": "stream",
     "text": [
      "2019-11-16 15:11:01 [scrapy.core.engine] DEBUG: Crawled (200) <GET https://www.usedsurfboardshawaii.com/product/6ft-7in-fcs-flight-board-bag-charcoal/> (referer: https://www.usedsurfboardshawaii.com/page/30/?post_type=product) ['cached']\n",
      "2019-11-16 15:11:02 [scrapy.core.engine] DEBUG: Crawled (200) <GET https://www.usedsurfboardshawaii.com/product/8ft-6in-fcs-longboard-day-bag-teal/> (referer: https://www.usedsurfboardshawaii.com/page/30/?post_type=product) ['cached']\n"
     ]
    },
    {
     "name": "stdout",
     "output_type": "stream",
     "text": [
      "Processing 19 out of 25\n",
      "Processing 20 out of 25\n"
     ]
    },
    {
     "name": "stderr",
     "output_type": "stream",
     "text": [
      "2019-11-16 15:11:02 [scrapy.core.engine] DEBUG: Crawled (200) <GET https://www.usedsurfboardshawaii.com/product/8ft-fcs-funboard-day-bag/> (referer: https://www.usedsurfboardshawaii.com/page/30/?post_type=product) ['cached']\n",
      "2019-11-16 15:11:02 [scrapy.core.engine] DEBUG: Crawled (200) <GET https://www.usedsurfboardshawaii.com/product/7ft-fcs-funboard-day-bag-teal/> (referer: https://www.usedsurfboardshawaii.com/page/30/?post_type=product) ['cached']\n"
     ]
    },
    {
     "name": "stdout",
     "output_type": "stream",
     "text": [
      "Processing 21 out of 25\n",
      "Processing 22 out of 25\n"
     ]
    },
    {
     "name": "stderr",
     "output_type": "stream",
     "text": [
      "2019-11-16 15:11:02 [scrapy.core.engine] DEBUG: Crawled (200) <GET https://www.usedsurfboardshawaii.com/product/6ft-7in-fcs-funboard-day-bag/> (referer: https://www.usedsurfboardshawaii.com/page/30/?post_type=product) ['cached']\n",
      "2019-11-16 15:11:02 [scrapy.core.engine] DEBUG: Crawled (200) <GET https://www.usedsurfboardshawaii.com/product/6ft-3in-fcs-funboard-day-bag-grey/> (referer: https://www.usedsurfboardshawaii.com/page/30/?post_type=product) ['cached']\n"
     ]
    },
    {
     "name": "stdout",
     "output_type": "stream",
     "text": [
      "Processing 23 out of 25\n",
      "Processing 24 out of 25\n"
     ]
    },
    {
     "name": "stderr",
     "output_type": "stream",
     "text": [
      "2019-11-16 15:11:02 [scrapy.core.engine] DEBUG: Crawled (200) <GET https://www.usedsurfboardshawaii.com/product/6ft-3in-fcs-funboard-day-bag-teal/> (referer: https://www.usedsurfboardshawaii.com/page/30/?post_type=product) ['cached']\n",
      "2019-11-16 15:11:02 [scrapy.core.engine] DEBUG: Crawled (200) <GET https://www.usedsurfboardshawaii.com/product/6ft-3in-fcs-day-bag-grey/> (referer: https://www.usedsurfboardshawaii.com/page/30/?post_type=product) ['cached']\n",
      "2019-11-16 15:11:02 [scrapy.core.engine] DEBUG: Crawled (200) <GET https://www.usedsurfboardshawaii.com/page/31/?post_type=product> (referer: https://www.usedsurfboardshawaii.com/page/30/?post_type=product) ['cached']\n"
     ]
    },
    {
     "name": "stdout",
     "output_type": "stream",
     "text": [
      "Processing 25 out of 25\n",
      "\n",
      "https://www.usedsurfboardshawaii.com/page/31/?post_type=product\n"
     ]
    },
    {
     "name": "stderr",
     "output_type": "stream",
     "text": [
      "2019-11-16 15:11:03 [scrapy.core.engine] DEBUG: Crawled (200) <GET https://www.usedsurfboardshawaii.com/product/6ft-fcs-day-bag-grey/> (referer: https://www.usedsurfboardshawaii.com/page/31/?post_type=product) ['cached']\n"
     ]
    },
    {
     "name": "stdout",
     "output_type": "stream",
     "text": [
      "Total:  25\n",
      "Processing 1 out of 25\n",
      "Processing 2 out of 25\n"
     ]
    },
    {
     "name": "stderr",
     "output_type": "stream",
     "text": [
      "2019-11-16 15:11:03 [scrapy.core.engine] DEBUG: Crawled (200) <GET https://www.usedsurfboardshawaii.com/product/6ft-fcs-day-bag/> (referer: https://www.usedsurfboardshawaii.com/page/31/?post_type=product) ['cached']\n",
      "2019-11-16 15:11:03 [scrapy.core.engine] DEBUG: Crawled (200) <GET https://www.usedsurfboardshawaii.com/product/5ft-9in-fcs-day-bag/> (referer: https://www.usedsurfboardshawaii.com/page/31/?post_type=product) ['cached']\n"
     ]
    },
    {
     "name": "stdout",
     "output_type": "stream",
     "text": [
      "Processing 3 out of 25\n",
      "Processing 4 out of 25\n"
     ]
    },
    {
     "name": "stderr",
     "output_type": "stream",
     "text": [
      "2019-11-16 15:11:03 [scrapy.core.engine] DEBUG: Crawled (200) <GET https://www.usedsurfboardshawaii.com/product/5ft-6in-fcs-day-bag/> (referer: https://www.usedsurfboardshawaii.com/page/31/?post_type=product) ['cached']\n",
      "2019-11-16 15:11:03 [scrapy.core.engine] DEBUG: Crawled (200) <GET https://www.usedsurfboardshawaii.com/product/fcs-2-mark-richards-twin-with-stabilizer/> (referer: https://www.usedsurfboardshawaii.com/page/31/?post_type=product) ['cached']\n"
     ]
    },
    {
     "name": "stdout",
     "output_type": "stream",
     "text": [
      "Processing 5 out of 25\n",
      "Processing 6 out of 25\n"
     ]
    },
    {
     "name": "stderr",
     "output_type": "stream",
     "text": [
      "2019-11-16 15:11:03 [scrapy.core.engine] DEBUG: Crawled (200) <GET https://www.usedsurfboardshawaii.com/product/6ft-wes-squash-tail-ref-19183/> (referer: https://www.usedsurfboardshawaii.com/page/31/?post_type=product) ['cached']\n",
      "2019-11-16 15:11:03 [scrapy.core.engine] DEBUG: Crawled (200) <GET https://www.usedsurfboardshawaii.com/product/fcs-2-jeremy-flores-medium/> (referer: https://www.usedsurfboardshawaii.com/page/31/?post_type=product) ['cached']\n"
     ]
    },
    {
     "name": "stdout",
     "output_type": "stream",
     "text": [
      "Processing 7 out of 25\n",
      "Processing 8 out of 25\n"
     ]
    },
    {
     "name": "stderr",
     "output_type": "stream",
     "text": [
      "2019-11-16 15:11:03 [scrapy.core.engine] DEBUG: Crawled (200) <GET https://www.usedsurfboardshawaii.com/product/fcs-2-julian-wilson-medium/> (referer: https://www.usedsurfboardshawaii.com/page/31/?post_type=product) ['cached']\n",
      "2019-11-16 15:11:03 [scrapy.core.scraper] DEBUG: Scraped from <200 https://www.usedsurfboardshawaii.com/product/6ft-wes-squash-tail-ref-19183/>\n",
      "{'url': 'https://www.usedsurfboardshawaii.com/product/6ft-wes-squash-tail-ref-19183/', 'title': '6ft Wes Squash Tail Ref# 19183', 'price': 200.0, 'description': 'Great performance shortboard, would be good for some faster, steeper waves on the north shore. The board is in good condition with just minor pressure dents.', 'type': 'Thruster (Future)', 'height': 'H 6′', 'width': 'W 18 1/4″', 'thickness': 'T 2 1/4″', 'condition': 'Good', 'manufacturer': 'Wes'}\n",
      "2019-11-16 15:11:04 [scrapy.core.engine] DEBUG: Crawled (200) <GET https://www.usedsurfboardshawaii.com/product/fcs-2-julian-wilson-grom/> (referer: https://www.usedsurfboardshawaii.com/page/31/?post_type=product) ['cached']\n"
     ]
    },
    {
     "name": "stdout",
     "output_type": "stream",
     "text": [
      "Processing 9 out of 25\n",
      "Processing 10 out of 25\n"
     ]
    },
    {
     "name": "stderr",
     "output_type": "stream",
     "text": [
      "2019-11-16 15:11:04 [scrapy.core.engine] DEBUG: Crawled (200) <GET https://www.usedsurfboardshawaii.com/product/fcs-2-filipe-toledo-medium/> (referer: https://www.usedsurfboardshawaii.com/page/31/?post_type=product) ['cached']\n",
      "2019-11-16 15:11:04 [scrapy.core.engine] DEBUG: Crawled (200) <GET https://www.usedsurfboardshawaii.com/product/fcs-2-mick-fanning-large/> (referer: https://www.usedsurfboardshawaii.com/page/31/?post_type=product) ['cached']\n"
     ]
    },
    {
     "name": "stdout",
     "output_type": "stream",
     "text": [
      "Processing 11 out of 25\n",
      "Processing 12 out of 25\n"
     ]
    },
    {
     "name": "stderr",
     "output_type": "stream",
     "text": [
      "2019-11-16 15:11:04 [scrapy.core.engine] DEBUG: Crawled (200) <GET https://www.usedsurfboardshawaii.com/product/fcs-2-mick-fanning-medium/> (referer: https://www.usedsurfboardshawaii.com/page/31/?post_type=product) ['cached']\n",
      "2019-11-16 15:11:04 [scrapy.core.engine] DEBUG: Crawled (200) <GET https://www.usedsurfboardshawaii.com/product/6ft-9in-pyzel-squash-tail-ref-19005/> (referer: https://www.usedsurfboardshawaii.com/page/31/?post_type=product) ['cached']\n"
     ]
    },
    {
     "name": "stdout",
     "output_type": "stream",
     "text": [
      "Processing 13 out of 25\n",
      "Processing 14 out of 25\n"
     ]
    },
    {
     "name": "stderr",
     "output_type": "stream",
     "text": [
      "2019-11-16 15:11:04 [scrapy.core.engine] DEBUG: Crawled (200) <GET https://www.usedsurfboardshawaii.com/product/6ft-firewire-squash-tail-ref-19008/> (referer: https://www.usedsurfboardshawaii.com/page/31/?post_type=product) ['cached']\n",
      "2019-11-16 15:11:04 [scrapy.core.engine] DEBUG: Crawled (200) <GET https://www.usedsurfboardshawaii.com/product/6ft-8in-downing-pin-tail-ref-19003/> (referer: https://www.usedsurfboardshawaii.com/page/31/?post_type=product) ['cached']\n",
      "2019-11-16 15:11:04 [scrapy.core.scraper] DEBUG: Scraped from <200 https://www.usedsurfboardshawaii.com/product/6ft-9in-pyzel-squash-tail-ref-19005/>\n",
      "{'url': 'https://www.usedsurfboardshawaii.com/product/6ft-9in-pyzel-squash-tail-ref-19005/', 'title': '6ft 9in Pyzel Squash Tail Ref# 19005', 'price': 199.2, 'description': 'Other dimensions were covered up.', 'type': 'Thruster (Future)', 'height': 'H 6′ 9″', 'width': None, 'thickness': None, 'condition': 'Fair', 'manufacturer': 'Pyzel'}\n"
     ]
    },
    {
     "name": "stdout",
     "output_type": "stream",
     "text": [
      "Processing 15 out of 25\n",
      "Processing 16 out of 25\n"
     ]
    },
    {
     "name": "stderr",
     "output_type": "stream",
     "text": [
      "2019-11-16 15:11:05 [scrapy.core.engine] DEBUG: Crawled (200) <GET https://www.usedsurfboardshawaii.com/product/5ft-7in-alan-squash-tail-ref-18961/> (referer: https://www.usedsurfboardshawaii.com/page/31/?post_type=product) ['cached']\n",
      "2019-11-16 15:11:05 [scrapy.core.scraper] DEBUG: Scraped from <200 https://www.usedsurfboardshawaii.com/product/6ft-firewire-squash-tail-ref-19008/>\n",
      "{'url': 'https://www.usedsurfboardshawaii.com/product/6ft-firewire-squash-tail-ref-19008/', 'title': '6ft Firewire Squash Tail Ref# 19008', 'price': 225.0, 'description': 'Great performance shortboard. This boar is kind of yellowed but not in bad condition at all, just has the normal pressure dents.', 'type': 'Thruster (FCS)', 'height': 'H 6′', 'width': 'W 18 3/4″', 'thickness': 'T 2 1/4″', 'condition': 'Fair', 'manufacturer': 'Firewire'}\n",
      "2019-11-16 15:11:05 [scrapy.core.engine] DEBUG: Crawled (200) <GET https://www.usedsurfboardshawaii.com/product/6ft-8in-bret-pin-tail-ref-18930/> (referer: https://www.usedsurfboardshawaii.com/page/31/?post_type=product) ['cached']\n",
      "2019-11-16 15:11:05 [scrapy.core.scraper] DEBUG: Scraped from <200 https://www.usedsurfboardshawaii.com/product/6ft-8in-downing-pin-tail-ref-19003/>\n",
      "{'url': 'https://www.usedsurfboardshawaii.com/product/6ft-8in-downing-pin-tail-ref-19003/', 'title': '6ft 8in Downing Pin Tail Ref# 19003', 'price': 159.2, 'description': 'Good step up for the north shore. This board is an older one but still has a good amount of life left in it.', 'type': 'Thruster (Future)', 'height': 'H 6′ 8″', 'width': None, 'thickness': None, 'condition': 'Fair', 'manufacturer': 'Downing'}\n"
     ]
    },
    {
     "name": "stdout",
     "output_type": "stream",
     "text": [
      "Processing 17 out of 25\n",
      "Processing 18 out of 25\n"
     ]
    },
    {
     "name": "stderr",
     "output_type": "stream",
     "text": [
      "2019-11-16 15:11:05 [scrapy.core.engine] DEBUG: Crawled (200) <GET https://www.usedsurfboardshawaii.com/product/5ft-8in-tokoro-swallow-tail-ref-18927/> (referer: https://www.usedsurfboardshawaii.com/page/31/?post_type=product) ['cached']\n",
      "2019-11-16 15:11:05 [scrapy.core.scraper] DEBUG: Scraped from <200 https://www.usedsurfboardshawaii.com/product/5ft-7in-alan-squash-tail-ref-18961/>\n",
      "{'url': 'https://www.usedsurfboardshawaii.com/product/5ft-7in-alan-squash-tail-ref-18961/', 'title': '5ft 7in Alan Squash Tail Ref# 18961', 'price': 180.0, 'description': 'Good all around performance shortboard. This board is pretty clean with just minor pressure dents.', 'type': 'Thruster (Future)', 'height': 'H 5′ 7″', 'width': 'W 18 3/4″', 'thickness': 'T 2 7/16″', 'condition': 'Good', 'manufacturer': 'Alan'}\n",
      "2019-11-16 15:11:05 [scrapy.core.engine] DEBUG: Crawled (200) <GET https://www.usedsurfboardshawaii.com/product/6ft-2in-tokoro-round-pin-tail-ref-18818/> (referer: https://www.usedsurfboardshawaii.com/page/31/?post_type=product) ['cached']\n",
      "2019-11-16 15:11:05 [scrapy.core.scraper] DEBUG: Scraped from <200 https://www.usedsurfboardshawaii.com/product/6ft-8in-bret-pin-tail-ref-18930/>\n",
      "{'url': 'https://www.usedsurfboardshawaii.com/product/6ft-8in-bret-pin-tail-ref-18930/', 'title': '6ft 8in Bret Pin Tail Ref# 18930', 'price': 159.2, 'description': 'Good step up for north shore. This board is a little older so the foam is yellowed but this boards still has a good amount of sessions in it still.', 'type': 'Thruster (FCS)', 'height': 'H 6′ 8″', 'width': 'W 18 3/4″', 'thickness': 'T 2 5/16″', 'condition': 'Fair', 'manufacturer': 'Bret'}\n"
     ]
    },
    {
     "name": "stdout",
     "output_type": "stream",
     "text": [
      "Processing 19 out of 25\n",
      "Processing 20 out of 25\n"
     ]
    },
    {
     "name": "stderr",
     "output_type": "stream",
     "text": [
      "2019-11-16 15:11:05 [scrapy.core.engine] DEBUG: Crawled (200) <GET https://www.usedsurfboardshawaii.com/product/5ft-8in-brice-squash-tail-ref-18786/> (referer: https://www.usedsurfboardshawaii.com/page/31/?post_type=product) ['cached']\n",
      "2019-11-16 15:11:05 [scrapy.core.scraper] DEBUG: Scraped from <200 https://www.usedsurfboardshawaii.com/product/5ft-8in-tokoro-swallow-tail-ref-18927/>\n",
      "{'url': 'https://www.usedsurfboardshawaii.com/product/5ft-8in-tokoro-swallow-tail-ref-18927/', 'title': '5ft 8in Tokoro Swallow Tail Ref# 18927', 'price': 180.0, 'description': 'Great all around performance shortboard. The board has minimal pressure dents. The foam is a little discolored but this board sill has a lot of session left in it.', 'type': 'Thruster (FCS)', 'height': 'H 5′ 8″', 'width': 'W 18 3/8″', 'thickness': 'T 2 1/4″', 'condition': 'Good', 'manufacturer': 'Tokoro'}\n",
      "2019-11-16 15:11:05 [scrapy.core.engine] DEBUG: Crawled (200) <GET https://www.usedsurfboardshawaii.com/product/5ft-1in-minami-squash-tail-ref-18763/> (referer: https://www.usedsurfboardshawaii.com/page/31/?post_type=product) ['cached']\n",
      "2019-11-16 15:11:05 [scrapy.core.scraper] DEBUG: Scraped from <200 https://www.usedsurfboardshawaii.com/product/6ft-2in-tokoro-round-pin-tail-ref-18818/>\n",
      "{'url': 'https://www.usedsurfboardshawaii.com/product/6ft-2in-tokoro-round-pin-tail-ref-18818/', 'title': '6ft 2in Tokoro Round-Pin Tail Ref# 18818', 'price': 240.0, 'description': 'Great board for the north shore. Locally shaped by Wade Tokoro. Has the normal pressure dents but still has a lot of life left in it.', 'type': '5-fin (Future)', 'height': 'H 6′ 2″', 'width': 'W 18 1/2″', 'thickness': 'T 2 1/4″', 'condition': 'Good', 'manufacturer': 'Tokoro'}\n"
     ]
    },
    {
     "name": "stdout",
     "output_type": "stream",
     "text": [
      "Processing 21 out of 25\n",
      "Processing 22 out of 25\n"
     ]
    },
    {
     "name": "stderr",
     "output_type": "stream",
     "text": [
      "2019-11-16 15:11:05 [scrapy.core.engine] DEBUG: Crawled (200) <GET https://www.usedsurfboardshawaii.com/product/6ft-2in-schaper-round-tail-ref-18736/> (referer: https://www.usedsurfboardshawaii.com/page/31/?post_type=product) ['cached']\n",
      "2019-11-16 15:11:05 [scrapy.core.scraper] DEBUG: Scraped from <200 https://www.usedsurfboardshawaii.com/product/5ft-8in-brice-squash-tail-ref-18786/>\n",
      "{'url': 'https://www.usedsurfboardshawaii.com/product/5ft-8in-brice-squash-tail-ref-18786/', 'title': '5ft 8in Brice Squash Tail Ref# 18786', 'price': 160.0, 'description': 'Great all around shortboard. The board is in pretty fair condition it just has a good amount of pressure dings but other than that its a pretty white board with a bunch of session still in it.', 'type': 'Thruster (FCS2)', 'height': 'H 5′ 8″', 'width': 'W 18 3/4″', 'thickness': 'T 21/4″', 'condition': 'Fair', 'manufacturer': 'Brice'}\n",
      "2019-11-16 15:11:06 [scrapy.core.engine] DEBUG: Crawled (200) <GET https://www.usedsurfboardshawaii.com/product/6ft-6in-cino-pin-tail-ref18580/> (referer: https://www.usedsurfboardshawaii.com/page/31/?post_type=product) ['cached']\n",
      "2019-11-16 15:11:06 [scrapy.core.scraper] DEBUG: Scraped from <200 https://www.usedsurfboardshawaii.com/product/5ft-1in-minami-squash-tail-ref-18763/>\n",
      "{'url': 'https://www.usedsurfboardshawaii.com/product/5ft-1in-minami-squash-tail-ref-18763/', 'title': '5ft 1in Minami Squash Tail Ref# 18763', 'price': 160.0, 'description': 'Great little performance shortboard for a grom. In fair condition with a good amount of pressure dents but the board still has a lot of sessions in it still.', 'type': 'Thruster (FCS2)', 'height': 'H 5’1″', 'width': 'W 16 1/2″', 'thickness': 'T 2 1/16″', 'condition': 'Fair', 'manufacturer': 'Minami'}\n"
     ]
    },
    {
     "name": "stdout",
     "output_type": "stream",
     "text": [
      "Processing 23 out of 25\n",
      "Processing 24 out of 25\n"
     ]
    },
    {
     "name": "stderr",
     "output_type": "stream",
     "text": [
      "2019-11-16 15:11:06 [scrapy.core.engine] DEBUG: Crawled (200) <GET https://www.usedsurfboardshawaii.com/product/6ft-moody-squash-tail-ref18545/> (referer: https://www.usedsurfboardshawaii.com/page/31/?post_type=product) ['cached']\n",
      "2019-11-16 15:11:06 [scrapy.core.scraper] DEBUG: Scraped from <200 https://www.usedsurfboardshawaii.com/product/6ft-2in-schaper-round-tail-ref-18736/>\n",
      "{'url': 'https://www.usedsurfboardshawaii.com/product/6ft-2in-schaper-round-tail-ref-18736/', 'title': '6ft 2in Schaper Round Tail Ref# 18736', 'price': 160.0, 'description': 'Great all around shortboard. Just has normal pressure dents.', 'type': 'Thruster (Future)', 'height': 'H 6′ 2″', 'width': 'W 18 3/4″', 'thickness': 'T 2 5/16″', 'condition': 'Fair', 'manufacturer': 'Schaper'}\n",
      "2019-11-16 15:11:06 [scrapy.core.engine] DEBUG: Crawled (200) <GET https://www.usedsurfboardshawaii.com/product/7ft-spider-round-tail-ref-18320/> (referer: https://www.usedsurfboardshawaii.com/page/31/?post_type=product) ['cached']\n",
      "2019-11-16 15:11:06 [scrapy.core.scraper] DEBUG: Scraped from <200 https://www.usedsurfboardshawaii.com/product/6ft-6in-cino-pin-tail-ref18580/>\n",
      "{'url': 'https://www.usedsurfboardshawaii.com/product/6ft-6in-cino-pin-tail-ref18580/', 'title': '6ft 6in Cino Pin Tail Ref# 18580', 'price': 180.0, 'description': 'Locally shaped step-up board in fair condition.\\xa0 This board will work well in bigger waves with a steep face.', 'type': None, 'height': 'H 6’6', 'width': 'W 19″', 'thickness': 'T 2 1/2″', 'condition': 'Fair', 'manufacturer': 'Cino'}\n",
      "2019-11-16 15:11:06 [scrapy.core.engine] DEBUG: Crawled (200) <GET https://www.usedsurfboardshawaii.com/page/32/?post_type=product> (referer: https://www.usedsurfboardshawaii.com/page/31/?post_type=product) ['cached']\n",
      "2019-11-16 15:11:06 [scrapy.core.scraper] DEBUG: Scraped from <200 https://www.usedsurfboardshawaii.com/product/6ft-moody-squash-tail-ref18545/>\n",
      "{'url': 'https://www.usedsurfboardshawaii.com/product/6ft-moody-squash-tail-ref18545/', 'title': '6ft Moody Squash Tail Ref# 18545', 'price': 228.0, 'description': 'This is a great board for a bigger guy with minimal pressure dings on the deck.\\xa0 This board is water tight and ready to surf!', 'type': None, 'height': 'H 6′', 'width': 'W 19″', 'thickness': 'T 2 1/2″', 'condition': 'Good', 'manufacturer': 'Moody'}\n"
     ]
    },
    {
     "name": "stdout",
     "output_type": "stream",
     "text": [
      "Processing 25 out of 25\n",
      "\n",
      "https://www.usedsurfboardshawaii.com/page/32/?post_type=product\n"
     ]
    },
    {
     "name": "stderr",
     "output_type": "stream",
     "text": [
      "2019-11-16 15:11:06 [scrapy.core.scraper] DEBUG: Scraped from <200 https://www.usedsurfboardshawaii.com/product/7ft-spider-round-tail-ref-18320/>\n",
      "{'url': 'https://www.usedsurfboardshawaii.com/product/7ft-spider-round-tail-ref-18320/', 'title': '7ft Spider Round Tail Ref# 18320', 'price': 160.0, 'description': 'Great step up for north shore when the waves get some real good size. Has pretty minimal pressure dents.', 'type': 'Thruster (Future)', 'height': 'H 7″', 'width': 'W 18 1/4″', 'thickness': 'T 2 1/4″', 'condition': 'Good', 'manufacturer': 'Spider'}\n",
      "2019-11-16 15:11:06 [scrapy.core.engine] DEBUG: Crawled (200) <GET https://www.usedsurfboardshawaii.com/product/5ft-11in-n-budroe-round-tail-ref17952/> (referer: https://www.usedsurfboardshawaii.com/page/32/?post_type=product) ['cached']\n"
     ]
    },
    {
     "name": "stdout",
     "output_type": "stream",
     "text": [
      "Total:  25\n",
      "Processing 1 out of 25\n",
      "Processing 2 out of 25\n"
     ]
    },
    {
     "name": "stderr",
     "output_type": "stream",
     "text": [
      "2019-11-16 15:11:06 [scrapy.core.engine] DEBUG: Crawled (200) <GET https://www.usedsurfboardshawaii.com/product/5ft-8in-northern-alliance-diamond-tail-ref-18722/> (referer: https://www.usedsurfboardshawaii.com/page/32/?post_type=product) ['cached']\n",
      "2019-11-16 15:11:06 [scrapy.core.engine] DEBUG: Crawled (200) <GET https://www.usedsurfboardshawaii.com/product/6ft-1in-stretch-bat-tail-quad-ref-18316/> (referer: https://www.usedsurfboardshawaii.com/page/32/?post_type=product) ['cached']\n",
      "2019-11-16 15:11:06 [scrapy.core.scraper] DEBUG: Scraped from <200 https://www.usedsurfboardshawaii.com/product/5ft-11in-n-budroe-round-tail-ref17952/>\n",
      "{'url': 'https://www.usedsurfboardshawaii.com/product/5ft-11in-n-budroe-round-tail-ref17952/', 'title': '5ft 11in N. Budroe Round Tail Ref#17952', 'price': 180.0, 'description': 'Locally shaped board in good condition. \\xa0This board is hi-performance and had minimal pressure dents on the deck.', 'type': None, 'height': 'H 5’11', 'width': 'W 18 1/4″', 'thickness': 'T 2 1/4', 'condition': '', 'manufacturer': ''}\n",
      "2019-11-16 15:11:06 [scrapy.extensions.logstats] INFO: Crawled 809 pages (at 411 pages/min), scraped 726 items (at 352 items/min)\n"
     ]
    },
    {
     "name": "stdout",
     "output_type": "stream",
     "text": [
      "Processing 3 out of 25\n",
      "Processing 4 out of 25\n"
     ]
    },
    {
     "name": "stderr",
     "output_type": "stream",
     "text": [
      "2019-11-16 15:11:07 [scrapy.core.engine] DEBUG: Crawled (200) <GET https://www.usedsurfboardshawaii.com/product/6ft-7in-raynur-round-tail-ref-18079/> (referer: https://www.usedsurfboardshawaii.com/page/32/?post_type=product) ['cached']\n",
      "2019-11-16 15:11:07 [scrapy.core.scraper] DEBUG: Scraped from <200 https://www.usedsurfboardshawaii.com/product/5ft-8in-northern-alliance-diamond-tail-ref-18722/>\n",
      "{'url': 'https://www.usedsurfboardshawaii.com/product/5ft-8in-northern-alliance-diamond-tail-ref-18722/', 'title': '5ft 8in Northern Alliance Diamond Tail Ref# 18722', 'price': 240.0, 'description': 'Great all around performance shortboard. Has some normal pressure denting. This board is ready to rip! Come in and check it out', 'type': 'Thruster (Future)', 'height': 'H 5′ 8″', 'width': 'W 18 1/2″', 'thickness': 'T 2 3/16″', 'condition': 'Good', 'manufacturer': 'Northern Alliance'}\n",
      "2019-11-16 15:11:07 [scrapy.core.engine] DEBUG: Crawled (200) <GET https://www.usedsurfboardshawaii.com/product/6ft-5in-mike-carroll-round-tail-ref-18080/> (referer: https://www.usedsurfboardshawaii.com/page/32/?post_type=product) ['cached']\n",
      "2019-11-16 15:11:07 [scrapy.core.scraper] DEBUG: Scraped from <200 https://www.usedsurfboardshawaii.com/product/6ft-1in-stretch-bat-tail-quad-ref-18316/>\n",
      "{'url': 'https://www.usedsurfboardshawaii.com/product/6ft-1in-stretch-bat-tail-quad-ref-18316/', 'title': '6ft 1in Stretch Bat Tail Quad Ref# 18316', 'price': 240.0, 'description': 'Good fast shortboard, would make a good North shore board for those fast barrels. The board is in good condition with very minimal pressure dings. The board is pretty yellowed though, that is the only down side.', 'type': 'Quad (Future)', 'height': 'H 6′ 1″', 'width': 'W 18″', 'thickness': 'T 2 2/3″', 'condition': 'Good', 'manufacturer': 'Stretch'}\n"
     ]
    },
    {
     "name": "stdout",
     "output_type": "stream",
     "text": [
      "Processing 5 out of 25\n",
      "Processing 6 out of 25\n"
     ]
    },
    {
     "name": "stderr",
     "output_type": "stream",
     "text": [
      "2019-11-16 15:11:07 [scrapy.core.engine] DEBUG: Crawled (200) <GET https://www.usedsurfboardshawaii.com/product/6ft-1in-dennis-pang-squash-tail-ref-17957/> (referer: https://www.usedsurfboardshawaii.com/page/32/?post_type=product) ['cached']\n",
      "2019-11-16 15:11:07 [scrapy.core.scraper] DEBUG: Scraped from <200 https://www.usedsurfboardshawaii.com/product/6ft-7in-raynur-round-tail-ref-18079/>\n",
      "{'url': 'https://www.usedsurfboardshawaii.com/product/6ft-7in-raynur-round-tail-ref-18079/', 'title': '6ft 7in Raynor Round Tail Ref# 18079', 'price': 212.0, 'description': 'A slightly broken in, yet solid step up board. This is a board designed for the bigger days and is ideal for hollow and faster waves.', 'type': 'thruster (future)', 'height': 'H 6’7″', 'width': 'W 16 1/4″', 'thickness': 'T 2 1/4″', 'condition': 'Good', 'manufacturer': 'Raynor'}\n",
      "2019-11-16 15:11:07 [scrapy.core.engine] DEBUG: Crawled (200) <GET https://www.usedsurfboardshawaii.com/product/6ft-4in-gerry-lopez-squash-tail-surfboard/> (referer: https://www.usedsurfboardshawaii.com/page/32/?post_type=product) ['cached']\n",
      "2019-11-16 15:11:07 [scrapy.core.scraper] DEBUG: Scraped from <200 https://www.usedsurfboardshawaii.com/product/6ft-5in-mike-carroll-round-tail-ref-18080/>\n",
      "{'url': 'https://www.usedsurfboardshawaii.com/product/6ft-5in-mike-carroll-round-tail-ref-18080/', 'title': '6ft 5in Mike Carroll Round Tail Ref# 18080', 'price': 220.0, 'description': 'H: 6′ 5″', 'type': 'Thruster (FCS)', 'height': None, 'width': None, 'thickness': None, 'condition': 'Good', 'manufacturer': 'Mike Carroll'}\n"
     ]
    },
    {
     "name": "stdout",
     "output_type": "stream",
     "text": [
      "Processing 7 out of 25\n",
      "Processing 8 out of 25\n"
     ]
    },
    {
     "name": "stderr",
     "output_type": "stream",
     "text": [
      "2019-11-16 15:11:07 [scrapy.core.engine] DEBUG: Crawled (200) <GET https://www.usedsurfboardshawaii.com/product/6ft-4in-y-uemeda-pin-tail-ref-17252/> (referer: https://www.usedsurfboardshawaii.com/page/32/?post_type=product) ['cached']\n",
      "2019-11-16 15:11:07 [scrapy.core.scraper] DEBUG: Scraped from <200 https://www.usedsurfboardshawaii.com/product/6ft-1in-dennis-pang-squash-tail-ref-17957/>\n",
      "{'url': 'https://www.usedsurfboardshawaii.com/product/6ft-1in-dennis-pang-squash-tail-ref-17957/', 'title': '6ft 1in Dennis Pang Squash Tail Ref# 17957', 'price': 160.0, 'description': 'H: 6′ 1″', 'type': 'Thruster (Future)', 'height': None, 'width': None, 'thickness': None, 'condition': 'Fair', 'manufacturer': 'Dennis Pang'}\n",
      "2019-11-16 15:11:07 [scrapy.core.engine] DEBUG: Crawled (200) <GET https://www.usedsurfboardshawaii.com/product/5ft-11in-lost-round-tail-ref-17842/> (referer: https://www.usedsurfboardshawaii.com/page/32/?post_type=product) ['cached']\n",
      "2019-11-16 15:11:07 [scrapy.core.scraper] DEBUG: Scraped from <200 https://www.usedsurfboardshawaii.com/product/6ft-4in-gerry-lopez-squash-tail-surfboard/>\n",
      "{'url': 'https://www.usedsurfboardshawaii.com/product/6ft-4in-gerry-lopez-squash-tail-surfboard/', 'title': '6ft 4in Gerry Lopez Squash Tail Surfboard Ref#17999', 'price': 440.0, 'description': 'Gerry Lopez Shaped board in great condition. Great for a bigger guy looking to get into some solid size surf.', 'type': None, 'height': 'H 6′ 4', 'width': 'W 19 1/8″', 'thickness': 'T 2 5/16', 'condition': 'Good', 'manufacturer': 'Gerry Lopez'}\n"
     ]
    },
    {
     "name": "stdout",
     "output_type": "stream",
     "text": [
      "Processing 9 out of 25\n",
      "Processing 10 out of 25\n"
     ]
    },
    {
     "name": "stderr",
     "output_type": "stream",
     "text": [
      "2019-11-16 15:11:07 [scrapy.core.engine] DEBUG: Crawled (200) <GET https://www.usedsurfboardshawaii.com/product/6ft-4in-sparrow-squash-tail-ref-17631/> (referer: https://www.usedsurfboardshawaii.com/page/32/?post_type=product) ['cached']\n",
      "2019-11-16 15:11:07 [scrapy.core.scraper] DEBUG: Scraped from <200 https://www.usedsurfboardshawaii.com/product/6ft-4in-y-uemeda-pin-tail-ref-17252/>\n",
      "{'url': 'https://www.usedsurfboardshawaii.com/product/6ft-4in-y-uemeda-pin-tail-ref-17252/', 'title': '6ft 4in Y. Uemeda Pin Tail Ref# 17252', 'price': 120.0, 'description': 'H: 6′ 4″', 'type': 'Thruster (FCS)', 'height': None, 'width': None, 'thickness': None, 'condition': 'Good', 'manufacturer': ''}\n",
      "2019-11-16 15:11:08 [scrapy.core.engine] DEBUG: Crawled (200) <GET https://www.usedsurfboardshawaii.com/product/5ft-8in-tokoro-round-tail-ref-17448/> (referer: https://www.usedsurfboardshawaii.com/page/32/?post_type=product) ['cached']\n",
      "2019-11-16 15:11:08 [scrapy.core.scraper] DEBUG: Scraped from <200 https://www.usedsurfboardshawaii.com/product/5ft-11in-lost-round-tail-ref-17842/>\n",
      "{'url': 'https://www.usedsurfboardshawaii.com/product/5ft-11in-lost-round-tail-ref-17842/', 'title': '5ft 11in Lost Round Tail Ref# 17842', 'price': 160.0, 'description': 'A high performance shortboard for a lighter weighing surfer that likes a responsive board that will allow you to rip the waves to the next level.', 'type': 'Thruster (Future)', 'height': 'H 5’11”', 'width': 'W 18 1/2″', 'thickness': 'T 2 1/8″', 'condition': 'Good', 'manufacturer': 'Lost'}\n"
     ]
    },
    {
     "name": "stdout",
     "output_type": "stream",
     "text": [
      "Processing 11 out of 25\n",
      "Processing 12 out of 25\n"
     ]
    },
    {
     "name": "stderr",
     "output_type": "stream",
     "text": [
      "2019-11-16 15:11:08 [scrapy.core.engine] DEBUG: Crawled (200) <GET https://www.usedsurfboardshawaii.com/product/5ft-8in-schaper-diamond-tail-ref-17394/> (referer: https://www.usedsurfboardshawaii.com/page/32/?post_type=product) ['cached']\n",
      "2019-11-16 15:11:08 [scrapy.core.scraper] DEBUG: Scraped from <200 https://www.usedsurfboardshawaii.com/product/6ft-4in-sparrow-squash-tail-ref-17631/>\n",
      "{'url': 'https://www.usedsurfboardshawaii.com/product/6ft-4in-sparrow-squash-tail-ref-17631/', 'title': '6ft 4in Sparrow Squash Tail Ref# 17631', 'price': 159.0, 'description': 'A less expensive option for getting in the water and catching some waves.', 'type': 'Thruster (FCS)', 'height': 'H 6’4″', 'width': 'W 18 3/4″', 'thickness': 'T 2 1/4″', 'condition': 'Fair', 'manufacturer': 'Sparrow'}\n",
      "2019-11-16 15:11:08 [scrapy.core.engine] DEBUG: Crawled (200) <GET https://www.usedsurfboardshawaii.com/product/6ft-6in-tricoast-round-tail-ref-17312/> (referer: https://www.usedsurfboardshawaii.com/page/32/?post_type=product) ['cached']\n",
      "2019-11-16 15:11:08 [scrapy.core.scraper] DEBUG: Scraped from <200 https://www.usedsurfboardshawaii.com/product/5ft-8in-tokoro-round-tail-ref-17448/>\n",
      "{'url': 'https://www.usedsurfboardshawaii.com/product/5ft-8in-tokoro-round-tail-ref-17448/', 'title': '5ft 8in Tokoro Round Tail Ref# 17448', 'price': 400.0, 'description': 'Super clean, slightly used board directly from Wade Tokoro. Essentially saving $300 off a new board.', 'type': 'Thruster (FCS 2)', 'height': 'H 5′ 8″', 'width': 'W 18 7/8″', 'thickness': 'T 2 3/8″', 'condition': 'Like New', 'manufacturer': 'Tokoro, Wade Tokoro'}\n"
     ]
    },
    {
     "name": "stdout",
     "output_type": "stream",
     "text": [
      "Processing 13 out of 25\n",
      "Processing 14 out of 25\n"
     ]
    },
    {
     "name": "stderr",
     "output_type": "stream",
     "text": [
      "2019-11-16 15:11:08 [scrapy.core.engine] DEBUG: Crawled (200) <GET https://www.usedsurfboardshawaii.com/product/6ft-2in-tricoast-round-tail-ref-17313/> (referer: https://www.usedsurfboardshawaii.com/page/32/?post_type=product) ['cached']\n",
      "2019-11-16 15:11:08 [scrapy.core.scraper] DEBUG: Scraped from <200 https://www.usedsurfboardshawaii.com/product/5ft-8in-schaper-diamond-tail-ref-17394/>\n",
      "{'url': 'https://www.usedsurfboardshawaii.com/product/5ft-8in-schaper-diamond-tail-ref-17394/', 'title': '5ft 8in Schaper Diamond Tail Ref# 17394', 'price': 212.0, 'description': 'Great all around short board that can handle the smaller slop to some of the bigger stuff. Only rode a couple of times so very minimal use on the deck.', 'type': 'Five-Fin\\xa0(FCS)', 'height': 'H 5’8”', 'width': 'W 19″', 'thickness': 'T 2.8″', 'condition': 'Good', 'manufacturer': 'Schaper'}\n",
      "2019-11-16 15:11:08 [scrapy.core.engine] DEBUG: Crawled (200) <GET https://www.usedsurfboardshawaii.com/product/5ft-6in-d-tatsuno-winged-round-tail-ref-17114/> (referer: https://www.usedsurfboardshawaii.com/page/32/?post_type=product) ['cached']\n",
      "2019-11-16 15:11:08 [scrapy.core.scraper] DEBUG: Scraped from <200 https://www.usedsurfboardshawaii.com/product/6ft-6in-tricoast-round-tail-ref-17312/>\n",
      "{'url': 'https://www.usedsurfboardshawaii.com/product/6ft-6in-tricoast-round-tail-ref-17312/', 'title': '6ft 6in Tricoast Round Tail Ref# 17312', 'price': 200.0, 'description': 'Get it in time for summer to ride those town waves!', 'type': 'Thruster (FCS)', 'height': 'H 6′ 6″', 'width': 'W 18 1/2″', 'thickness': 'T 2 1/4″', 'condition': 'Good', 'manufacturer': 'Tri Coast'}\n"
     ]
    },
    {
     "name": "stdout",
     "output_type": "stream",
     "text": [
      "Processing 15 out of 25\n",
      "Processing 16 out of 25\n"
     ]
    },
    {
     "name": "stderr",
     "output_type": "stream",
     "text": [
      "2019-11-16 15:11:08 [scrapy.core.engine] DEBUG: Crawled (200) <GET https://www.usedsurfboardshawaii.com/product/6ft-2in-garduque-squash-tail-ref-17043/> (referer: https://www.usedsurfboardshawaii.com/page/32/?post_type=product) ['cached']\n",
      "2019-11-16 15:11:08 [scrapy.core.scraper] DEBUG: Scraped from <200 https://www.usedsurfboardshawaii.com/product/6ft-2in-tricoast-round-tail-ref-17313/>\n",
      "{'url': 'https://www.usedsurfboardshawaii.com/product/6ft-2in-tricoast-round-tail-ref-17313/', 'title': '6ft 2in Tricoast Round Tail Ref# 17313', 'price': 120.0, 'description': 'A great performance short board for bigger town waves. In good condition.', 'type': 'Thruster (FCS)', 'height': 'H 6′ 2″', 'width': 'W 18 1/2″', 'thickness': 'T 2 1/4″', 'condition': 'Good', 'manufacturer': 'Tri Coast'}\n",
      "2019-11-16 15:11:08 [scrapy.core.engine] DEBUG: Crawled (200) <GET https://www.usedsurfboardshawaii.com/product/5ft-10in-dennis-pang-swallow-tail-ref-16967/> (referer: https://www.usedsurfboardshawaii.com/page/32/?post_type=product) ['cached']\n",
      "2019-11-16 15:11:09 [scrapy.core.scraper] DEBUG: Scraped from <200 https://www.usedsurfboardshawaii.com/product/5ft-6in-d-tatsuno-winged-round-tail-ref-17114/>\n",
      "{'url': 'https://www.usedsurfboardshawaii.com/product/5ft-6in-d-tatsuno-winged-round-tail-ref-17114/', 'title': '5ft 6in D. Tatsuno Winged Round Tail Ref# 17114', 'price': 240.0, 'description': 'This board has\\xa0normal pressure dents, and one patched\\xa0ding. Still in good condition and is a good ride for the summer.', 'type': 'Five Fin\\xa0(Future)', 'height': 'H 5’6″', 'width': 'W 19″', 'thickness': 'T 2 1/4″', 'condition': 'Good', 'manufacturer': 'D Tatsuno'}\n"
     ]
    },
    {
     "name": "stdout",
     "output_type": "stream",
     "text": [
      "Processing 17 out of 25\n",
      "Processing 18 out of 25\n"
     ]
    },
    {
     "name": "stderr",
     "output_type": "stream",
     "text": [
      "2019-11-16 15:11:09 [scrapy.core.engine] DEBUG: Crawled (200) <GET https://www.usedsurfboardshawaii.com/product/10ft-6in-dick-brewer-collectors-special-ref16793/> (referer: https://www.usedsurfboardshawaii.com/page/32/?post_type=product) ['cached']\n",
      "2019-11-16 15:11:09 [scrapy.core.scraper] DEBUG: Scraped from <200 https://www.usedsurfboardshawaii.com/product/6ft-2in-garduque-squash-tail-ref-17043/>\n",
      "{'url': 'https://www.usedsurfboardshawaii.com/product/6ft-2in-garduque-squash-tail-ref-17043/', 'title': '6ft 2in Garduque Squash Tail Ref# 17043', 'price': 290.0, 'description': 'Like New condition. Great shortboard for summer town swells and small northern swells. Great board for intermediate to expert level surfers.', 'type': 'Five fin (Future)', 'height': 'H 6’2″', 'width': 'W 19″', 'thickness': 'T 2 3/8″', 'condition': 'Good', 'manufacturer': 'Garduque'}\n",
      "2019-11-16 15:11:09 [scrapy.core.engine] DEBUG: Crawled (200) <GET https://www.usedsurfboardshawaii.com/product/5ft-10in-j-kashiwai-squash-tail-ref-16759/> (referer: https://www.usedsurfboardshawaii.com/page/32/?post_type=product) ['cached']\n",
      "2019-11-16 15:11:09 [scrapy.core.scraper] DEBUG: Scraped from <200 https://www.usedsurfboardshawaii.com/product/5ft-10in-dennis-pang-swallow-tail-ref-16967/>\n",
      "{'url': 'https://www.usedsurfboardshawaii.com/product/5ft-10in-dennis-pang-swallow-tail-ref-16967/', 'title': '5ft 10in Dennis Pang Swallow Tail Ref# 16967', 'price': 220.0, 'description': None, 'type': None, 'height': None, 'width': None, 'thickness': None, 'condition': 'Good', 'manufacturer': 'Dennis Pang'}\n"
     ]
    },
    {
     "name": "stdout",
     "output_type": "stream",
     "text": [
      "Processing 19 out of 25\n",
      "Processing 20 out of 25\n"
     ]
    },
    {
     "name": "stderr",
     "output_type": "stream",
     "text": [
      "2019-11-16 15:11:09 [scrapy.core.engine] DEBUG: Crawled (200) <GET https://www.usedsurfboardshawaii.com/product/5ft-10in-bateman-swallow-tail-5-fin-ref-16703/> (referer: https://www.usedsurfboardshawaii.com/page/32/?post_type=product) ['cached']\n",
      "2019-11-16 15:11:09 [scrapy.core.engine] DEBUG: Crawled (200) <GET https://www.usedsurfboardshawaii.com/product/6ft-3in-dhd-squash-tail-ref-16322/> (referer: https://www.usedsurfboardshawaii.com/page/32/?post_type=product) ['cached']\n",
      "2019-11-16 15:11:09 [scrapy.core.scraper] DEBUG: Scraped from <200 https://www.usedsurfboardshawaii.com/product/5ft-10in-j-kashiwai-squash-tail-ref-16759/>\n",
      "{'url': 'https://www.usedsurfboardshawaii.com/product/5ft-10in-j-kashiwai-squash-tail-ref-16759/', 'title': '5ft 10in J. Kashiwai Squash Tail Ref# 16759', 'price': 239.0, 'description': 'Great all around shortboard. In good condition just has some of the usual pressure dents but its all good to go. Come check it out.', 'type': 'Thruster (Future)', 'height': 'H 5′ 10″', 'width': 'W 19 1/2″', 'thickness': 'T 2 5/16″', 'condition': 'Good', 'manufacturer': 'J. Kashiwai'}\n"
     ]
    },
    {
     "name": "stdout",
     "output_type": "stream",
     "text": [
      "Processing 21 out of 25\n",
      "Processing 22 out of 25\n"
     ]
    },
    {
     "name": "stderr",
     "output_type": "stream",
     "text": [
      "2019-11-16 15:11:09 [scrapy.core.engine] DEBUG: Crawled (200) <GET https://www.usedsurfboardshawaii.com/product/5ft-10in-peter-daniels-epoxy-round-tail-ref16568/> (referer: https://www.usedsurfboardshawaii.com/page/32/?post_type=product) ['cached']\n",
      "2019-11-16 15:11:09 [scrapy.core.scraper] DEBUG: Scraped from <200 https://www.usedsurfboardshawaii.com/product/5ft-10in-bateman-swallow-tail-5-fin-ref-16703/>\n",
      "{'url': 'https://www.usedsurfboardshawaii.com/product/5ft-10in-bateman-swallow-tail-5-fin-ref-16703/', 'title': '5ft 10in Bateman Swallow Tail 5-Fin Ref# 16703', 'price': 140.0, 'description': 'This board is pretty beat up but its still got life left in it. Great swallow tail shortboard with a 5 fin set up for the most versatility. Good\\xa0price, come check it out.', 'type': '5-fin (FCS)', 'height': 'H 5′ 10″', 'width': 'W 19 3/8″', 'thickness': 'T 2 7/16″', 'condition': 'Poor', 'manufacturer': 'Bateman'}\n",
      "2019-11-16 15:11:09 [scrapy.core.engine] DEBUG: Crawled (200) <GET https://www.usedsurfboardshawaii.com/product/5ft-11in-tokoro-2/> (referer: https://www.usedsurfboardshawaii.com/page/32/?post_type=product) ['cached']\n",
      "2019-11-16 15:11:09 [scrapy.core.scraper] DEBUG: Scraped from <200 https://www.usedsurfboardshawaii.com/product/6ft-3in-dhd-squash-tail-ref-16322/>\n",
      "{'url': 'https://www.usedsurfboardshawaii.com/product/6ft-3in-dhd-squash-tail-ref-16322/', 'title': '6ft 3in DHD Squash Tail Ref# 16322', 'price': 295.0, 'description': 'A great board for when the \\xa0waves get bigger and have more power behind them. In good condition with normal pressures on the deck from use and no previous previous repairs', 'type': 'Thruster \\xa0(FCS)', 'height': 'H 6′ 3″', 'width': 'W 18 1/2″', 'thickness': 'T 2 3/8″', 'condition': 'Good', 'manufacturer': 'DHD'}\n"
     ]
    },
    {
     "name": "stdout",
     "output_type": "stream",
     "text": [
      "Processing 23 out of 25\n",
      "Processing 24 out of 25\n"
     ]
    },
    {
     "name": "stderr",
     "output_type": "stream",
     "text": [
      "2019-11-16 15:11:10 [scrapy.core.engine] DEBUG: Crawled (200) <GET https://www.usedsurfboardshawaii.com/product/5ft-10in-korps-squash-tail/> (referer: https://www.usedsurfboardshawaii.com/page/32/?post_type=product) ['cached']\n",
      "2019-11-16 15:11:10 [scrapy.core.scraper] DEBUG: Scraped from <200 https://www.usedsurfboardshawaii.com/product/5ft-10in-peter-daniels-epoxy-round-tail-ref16568/>\n",
      "{'url': 'https://www.usedsurfboardshawaii.com/product/5ft-10in-peter-daniels-epoxy-round-tail-ref16568/', 'title': '5ft 10in Peter Daniels Epoxy Round Tail Ref#16568', 'price': 200.0, 'description': 'A great board for waves that are steeper and have more power in them. In good condition with minor pressures on the and some yellowing with age, but still has alot of life left in it. \\xa0Water tight and ready to ride.', 'type': 'Thruster (FCS)', 'height': 'H 6′ 1″', 'width': 'W 18 1/2″', 'thickness': 'T 2 1/4″', 'condition': 'Good', 'manufacturer': 'Peter Daniels'}\n",
      "2019-11-16 15:11:10 [scrapy.core.engine] DEBUG: Crawled (200) <GET https://www.usedsurfboardshawaii.com/product/5ft-6in-akila-aipa-swallow-tail/> (referer: https://www.usedsurfboardshawaii.com/page/32/?post_type=product) ['cached']\n",
      "2019-11-16 15:11:10 [scrapy.core.scraper] DEBUG: Scraped from <200 https://www.usedsurfboardshawaii.com/product/5ft-11in-tokoro-2/>\n",
      "{'url': 'https://www.usedsurfboardshawaii.com/product/5ft-11in-tokoro-2/', 'title': '5ft 11in Tokoro Five Fin Squash Tail Ref# 16184', 'price': 260.0, 'description': '26.5L (Volume)', 'type': 'Five Fin (Future)', 'height': 'H 5′ 7″', 'width': 'W 19 1/4″', 'thickness': 'T 2 3/8″', 'condition': 'Good', 'manufacturer': 'Wade Tokoro'}\n",
      "2019-11-16 15:11:10 [scrapy.core.engine] DEBUG: Crawled (200) <GET https://www.usedsurfboardshawaii.com/page/33/?post_type=product> (referer: https://www.usedsurfboardshawaii.com/page/32/?post_type=product) ['cached']\n",
      "2019-11-16 15:11:10 [scrapy.core.scraper] DEBUG: Scraped from <200 https://www.usedsurfboardshawaii.com/product/5ft-10in-korps-squash-tail/>\n",
      "{'url': 'https://www.usedsurfboardshawaii.com/product/5ft-10in-korps-squash-tail/', 'title': '5ft 10in Korps Squash Tail Ref# 16048', 'price': 180.0, 'description': 'A good performance shortboard for when the waves have more push to them. Round tail for extra hold in the barrel or for big carves. In good condition with pressures on the deck \\xa0and no open dings', 'type': 'FCS 5 fin', 'height': 'H 5ft 10in', 'width': 'W 18 1/2in', 'thickness': 'T 2 1/4in', 'condition': 'Fair', 'manufacturer': 'Korps'}\n"
     ]
    },
    {
     "name": "stdout",
     "output_type": "stream",
     "text": [
      "Processing 25 out of 25\n",
      "\n",
      "https://www.usedsurfboardshawaii.com/page/33/?post_type=product\n"
     ]
    },
    {
     "name": "stderr",
     "output_type": "stream",
     "text": [
      "2019-11-16 15:11:10 [scrapy.core.scraper] DEBUG: Scraped from <200 https://www.usedsurfboardshawaii.com/product/5ft-6in-akila-aipa-swallow-tail/>\n",
      "{'url': 'https://www.usedsurfboardshawaii.com/product/5ft-6in-akila-aipa-swallow-tail/', 'title': '5ft 6in Akila Aipa swallow Tail Ref# 15898', 'price': 175.0, 'description': 'Good board for a smaller person or a Grommet.', 'type': None, 'height': 'H 5’6', 'width': 'W 17 7/8', 'thickness': 'T 2 1/8', 'condition': 'Good', 'manufacturer': 'Akila Aipa'}\n",
      "2019-11-16 15:11:10 [scrapy.core.engine] DEBUG: Crawled (200) <GET https://www.usedsurfboardshawaii.com/product/7ft-6in-tbc-pin-tail/> (referer: https://www.usedsurfboardshawaii.com/page/33/?post_type=product) ['cached']\n"
     ]
    },
    {
     "name": "stdout",
     "output_type": "stream",
     "text": [
      "Total:  25\n",
      "Processing 1 out of 25\n",
      "Processing 2 out of 25\n"
     ]
    },
    {
     "name": "stderr",
     "output_type": "stream",
     "text": [
      "2019-11-16 15:11:10 [scrapy.core.engine] DEBUG: Crawled (200) <GET https://www.usedsurfboardshawaii.com/product/6ft-1in-tokoro-squash-tail/> (referer: https://www.usedsurfboardshawaii.com/page/33/?post_type=product) ['cached']\n",
      "2019-11-16 15:11:10 [scrapy.core.engine] DEBUG: Crawled (200) <GET https://www.usedsurfboardshawaii.com/product/5ft-8in-keisen-swallow-tail/> (referer: https://www.usedsurfboardshawaii.com/page/33/?post_type=product) ['cached']\n",
      "2019-11-16 15:11:10 [scrapy.core.scraper] DEBUG: Scraped from <200 https://www.usedsurfboardshawaii.com/product/7ft-6in-tbc-pin-tail/>\n",
      "{'url': 'https://www.usedsurfboardshawaii.com/product/7ft-6in-tbc-pin-tail/', 'title': '7ft 6in TBC Pin Tail Ref# 15792', 'price': 200.0, 'description': 'An older step up but a great deal if you are looking to getting into some solid North Shore waves.', 'type': 'Thruster (FCS)', 'height': 'H 7’6″', 'width': 'W 18″', 'thickness': 'T 2.5″', 'condition': 'Fair', 'manufacturer': 'TBC'}\n"
     ]
    },
    {
     "name": "stdout",
     "output_type": "stream",
     "text": [
      "Processing 3 out of 25\n",
      "Processing 4 out of 25\n"
     ]
    },
    {
     "name": "stderr",
     "output_type": "stream",
     "text": [
      "2019-11-16 15:11:10 [scrapy.core.engine] DEBUG: Crawled (200) <GET https://www.usedsurfboardshawaii.com/product/7ft-4in-tokoro-pin-tail/> (referer: https://www.usedsurfboardshawaii.com/page/33/?post_type=product) ['cached']\n",
      "2019-11-16 15:11:10 [scrapy.core.scraper] DEBUG: Scraped from <200 https://www.usedsurfboardshawaii.com/product/6ft-1in-tokoro-squash-tail/>\n",
      "{'url': 'https://www.usedsurfboardshawaii.com/product/6ft-1in-tokoro-squash-tail/', 'title': '6ft 1in Tokoro Squash Tail Ref# 15795', 'price': 120.0, 'description': 'A nice standard shortboard with EPS epoxy construction. No dings or damage and ready for any style high performance waves.', 'type': 'Thruster (FCS)', 'height': 'H 6’1″', 'width': 'W 18 5/16″', 'thickness': 'T 2 1/4″', 'condition': 'Good', 'manufacturer': 'Tokoro'}\n",
      "2019-11-16 15:11:11 [scrapy.core.engine] DEBUG: Crawled (200) <GET https://www.usedsurfboardshawaii.com/product/6ft-3in-richie-collins-round-pin-tail-2/> (referer: https://www.usedsurfboardshawaii.com/page/33/?post_type=product) ['cached']\n",
      "2019-11-16 15:11:11 [scrapy.core.scraper] DEBUG: Scraped from <200 https://www.usedsurfboardshawaii.com/product/5ft-8in-keisen-swallow-tail/>\n",
      "{'url': 'https://www.usedsurfboardshawaii.com/product/5ft-8in-keisen-swallow-tail/', 'title': '5ft 8in Keisen Swallow Tail Ref# 15716', 'price': 280.0, 'description': 'A', 'type': 'FCS 5fin', 'height': 'H 5ft 6in', 'width': 'W 19 1.8in', 'thickness': 'T 2 5/16in', 'condition': 'Good', 'manufacturer': 'Keisen'}\n"
     ]
    },
    {
     "name": "stdout",
     "output_type": "stream",
     "text": [
      "Processing 5 out of 25\n",
      "Processing 6 out of 25\n"
     ]
    },
    {
     "name": "stderr",
     "output_type": "stream",
     "text": [
      "2019-11-16 15:11:11 [scrapy.core.engine] DEBUG: Crawled (200) <GET https://www.usedsurfboardshawaii.com/product/6ft-3in-richie-collins-round-pin-tail/> (referer: https://www.usedsurfboardshawaii.com/page/33/?post_type=product) ['cached']\n",
      "2019-11-16 15:11:11 [scrapy.core.scraper] DEBUG: Scraped from <200 https://www.usedsurfboardshawaii.com/product/7ft-4in-tokoro-pin-tail/>\n",
      "{'url': 'https://www.usedsurfboardshawaii.com/product/7ft-4in-tokoro-pin-tail/', 'title': '7ft 4in Tokoro Pin Tail Ref# 15693', 'price': 220.0, 'description': 'A great step-up board for any grom whose ready to push the limits. In great condition with minimal pressures on the deck and no dings. Custom airbrush on the foam under the glassing.', 'type': 'FCs THruster', 'height': 'H 7ft 4in', 'width': 'W 17 7/8in', 'thickness': 'T 2 1/4in', 'condition': 'Good', 'manufacturer': 'Tokoro'}\n",
      "2019-11-16 15:11:11 [scrapy.core.engine] DEBUG: Crawled (200) <GET https://www.usedsurfboardshawaii.com/product/5ft-6in-sf-round-tail/> (referer: https://www.usedsurfboardshawaii.com/page/33/?post_type=product) ['cached']\n",
      "2019-11-16 15:11:11 [scrapy.core.scraper] DEBUG: Scraped from <200 https://www.usedsurfboardshawaii.com/product/6ft-3in-richie-collins-round-pin-tail-2/>\n",
      "{'url': 'https://www.usedsurfboardshawaii.com/product/6ft-3in-richie-collins-round-pin-tail-2/', 'title': '6ft 3in Richie Collins Round Pin Tail Ref# 15524', 'price': 220.0, 'description': 'Step up in good condition. Shaped for big South Shore or medium to large North Shore. Has pretty thin rails for sharp turns.', 'type': 'Thruster (FCS)', 'height': 'H 6’3″', 'width': 'W 18 7/8″', 'thickness': 'T 2 5/16″', 'condition': 'Good', 'manufacturer': 'Richie Collins'}\n"
     ]
    },
    {
     "name": "stdout",
     "output_type": "stream",
     "text": [
      "Processing 7 out of 25\n",
      "Processing 8 out of 25\n"
     ]
    },
    {
     "name": "stderr",
     "output_type": "stream",
     "text": [
      "2019-11-16 15:11:11 [scrapy.core.engine] DEBUG: Crawled (200) <GET https://www.usedsurfboardshawaii.com/product/7ft-5in-robin-johnston-pin-tail/> (referer: https://www.usedsurfboardshawaii.com/page/33/?post_type=product) ['cached']\n",
      "2019-11-16 15:11:11 [scrapy.core.scraper] DEBUG: Scraped from <200 https://www.usedsurfboardshawaii.com/product/6ft-3in-richie-collins-round-pin-tail/>\n",
      "{'url': 'https://www.usedsurfboardshawaii.com/product/6ft-3in-richie-collins-round-pin-tail/', 'title': '6ft 3in Richie Collins Round Pin Tail Ref# 15522', 'price': 220.0, 'description': 'Nice step up for bigger South Shore or North Shore. Nice condition, well-priced.', 'type': 'Thruster (FCS)', 'height': 'H 6’3″', 'width': 'W 18 3/8″', 'thickness': 'T 2 1/4″', 'condition': 'Good', 'manufacturer': 'Richie Collins'}\n",
      "2019-11-16 15:11:11 [scrapy.core.engine] DEBUG: Crawled (200) <GET https://www.usedsurfboardshawaii.com/product/7ft-11in-surfboards-makaha-round-pin-tail/> (referer: https://www.usedsurfboardshawaii.com/page/33/?post_type=product) ['cached']\n",
      "2019-11-16 15:11:11 [scrapy.core.scraper] DEBUG: Scraped from <200 https://www.usedsurfboardshawaii.com/product/5ft-6in-sf-round-tail/>\n",
      "{'url': 'https://www.usedsurfboardshawaii.com/product/5ft-6in-sf-round-tail/', 'title': '5ft 6in SF Round Tail Ref# 15451', 'price': 239.0, 'description': 'Good condition round-tail thruster with future boxes. \\xa0Nice choice for a smaller person in good waves.', 'type': 'Thruster (Future)', 'height': 'H 5′ 6″', 'width': 'W 18 7/8″', 'thickness': 'T 2 1/4″', 'condition': 'Good', 'manufacturer': 'SF'}\n"
     ]
    },
    {
     "name": "stdout",
     "output_type": "stream",
     "text": [
      "Processing 9 out of 25\n",
      "Processing 10 out of 25\n"
     ]
    },
    {
     "name": "stderr",
     "output_type": "stream",
     "text": [
      "2019-11-16 15:11:11 [scrapy.core.engine] DEBUG: Crawled (200) <GET https://www.usedsurfboardshawaii.com/product/7ft-6in-mike-woo-round-tail-fins-included/> (referer: https://www.usedsurfboardshawaii.com/page/33/?post_type=product) ['cached']\n",
      "2019-11-16 15:11:11 [scrapy.core.scraper] DEBUG: Scraped from <200 https://www.usedsurfboardshawaii.com/product/7ft-5in-robin-johnston-pin-tail/>\n",
      "{'url': 'https://www.usedsurfboardshawaii.com/product/7ft-5in-robin-johnston-pin-tail/', 'title': '7ft 5in Robin Johnston Pin Tail Ref# 15452', 'price': 319.0, 'description': 'Good condition Robin Johnston step up. \\xa0Great choice for a bigger surfer in bigger waves.', 'type': 'Thruster (Future)', 'height': 'H 7′ 5″', 'width': 'W 19 1/4″', 'thickness': 'T 2 3/4″', 'condition': 'Good', 'manufacturer': 'Robin Johnston'}\n",
      "2019-11-16 15:11:11 [scrapy.core.engine] DEBUG: Crawled (200) <GET https://www.usedsurfboardshawaii.com/product/6ft-11in-r-johnston-pin-tail/> (referer: https://www.usedsurfboardshawaii.com/page/33/?post_type=product) ['cached']\n",
      "2019-11-16 15:11:11 [scrapy.core.scraper] DEBUG: Scraped from <200 https://www.usedsurfboardshawaii.com/product/7ft-11in-surfboards-makaha-round-pin-tail/>\n",
      "{'url': 'https://www.usedsurfboardshawaii.com/product/7ft-11in-surfboards-makaha-round-pin-tail/', 'title': '7ft 11in Surfboards Makaha Round Pin Tail Ref# 15395', 'price': 460.0, 'description': 'Like new, clean semi-gun. Solid dimensions for big North Shore days. Come check it out!', 'type': 'Thruster (FCS)', 'height': 'H 7’11”', 'width': 'W 21″', 'thickness': 'T 3″', 'condition': 'Like New', 'manufacturer': 'Surfboards Makaha'}\n"
     ]
    },
    {
     "name": "stdout",
     "output_type": "stream",
     "text": [
      "Processing 11 out of 25\n",
      "Processing 12 out of 25\n"
     ]
    },
    {
     "name": "stderr",
     "output_type": "stream",
     "text": [
      "2019-11-16 15:11:12 [scrapy.core.engine] DEBUG: Crawled (200) <GET https://www.usedsurfboardshawaii.com/product/5ft-10in-bourton-squash-tail/> (referer: https://www.usedsurfboardshawaii.com/page/33/?post_type=product) ['cached']\n",
      "2019-11-16 15:11:12 [scrapy.core.scraper] DEBUG: Scraped from <200 https://www.usedsurfboardshawaii.com/product/7ft-6in-mike-woo-round-tail-fins-included/>\n",
      "{'url': 'https://www.usedsurfboardshawaii.com/product/7ft-6in-mike-woo-round-tail-fins-included/', 'title': '7ft 6in Mike Woo Round Tail (Fins Included) Ref# 15331', 'price': 144.0, 'description': 'Nice step-up, semi-gun for big North Shore. Older board, but still in good condition. Can’t beat the price – comes with fins, as well.', 'type': 'Thruster (FCS)', 'height': 'H 7’6″', 'width': 'W 18 3/4″', 'thickness': 'T 2 7/16″', 'condition': 'Fair', 'manufacturer': 'Mike Woo'}\n",
      "2019-11-16 15:11:12 [scrapy.core.engine] DEBUG: Crawled (200) <GET https://www.usedsurfboardshawaii.com/product/7ft-2in-j7-pin-tail/> (referer: https://www.usedsurfboardshawaii.com/page/33/?post_type=product) ['cached']\n"
     ]
    },
    {
     "name": "stdout",
     "output_type": "stream",
     "text": [
      "Processing 13 out of 25\n",
      "Processing 14 out of 25\n"
     ]
    },
    {
     "name": "stderr",
     "output_type": "stream",
     "text": [
      "2019-11-16 15:11:12 [scrapy.core.engine] DEBUG: Crawled (200) <GET https://www.usedsurfboardshawaii.com/product/7ft-6in-j7-pin-tail/> (referer: https://www.usedsurfboardshawaii.com/page/33/?post_type=product) ['cached']\n",
      "2019-11-16 15:11:12 [scrapy.core.scraper] DEBUG: Scraped from <200 https://www.usedsurfboardshawaii.com/product/5ft-10in-bourton-squash-tail/>\n",
      "{'url': 'https://www.usedsurfboardshawaii.com/product/5ft-10in-bourton-squash-tail/', 'title': '5ft 10in Bourton Squash Tail Ref# 15120', 'price': 156.0, 'description': 'Good condition with minor damage on the nose and deck. \\xa0Nice short board for a smaller person to use as a step up option.', 'type': 'Thruster (FCS)', 'height': 'H 5′ 10″', 'width': 'W 17 7/8″', 'thickness': 'T 2″', 'condition': 'Good', 'manufacturer': 'Bourton'}\n",
      "2019-11-16 15:11:12 [scrapy.core.engine] DEBUG: Crawled (200) <GET https://www.usedsurfboardshawaii.com/product/8ft-doc-pin-tail-glass-on/> (referer: https://www.usedsurfboardshawaii.com/page/33/?post_type=product) ['cached']\n",
      "2019-11-16 15:11:12 [scrapy.core.scraper] DEBUG: Scraped from <200 https://www.usedsurfboardshawaii.com/product/7ft-2in-j7-pin-tail/>\n",
      "{'url': 'https://www.usedsurfboardshawaii.com/product/7ft-2in-j7-pin-tail/', 'title': '7ft 2in J7 Pin Tail Ref# 14962', 'price': 236.0, 'description': 'Good condition with some light pressures on bottom. \\xa0Good choice as a step-up or semi-gun for bigger waves.', 'type': 'Thruster (FCS)', 'height': 'H 7′ 2″', 'width': 'W 18 1/8″', 'thickness': 'T 2 3/8″', 'condition': 'Good', 'manufacturer': 'J7'}\n"
     ]
    },
    {
     "name": "stdout",
     "output_type": "stream",
     "text": [
      "Processing 15 out of 25\n",
      "Processing 16 out of 25\n"
     ]
    },
    {
     "name": "stderr",
     "output_type": "stream",
     "text": [
      "2019-11-16 15:11:12 [scrapy.core.engine] DEBUG: Crawled (200) <GET https://www.usedsurfboardshawaii.com/product/6ft-3in-g-garduque-squash-tail/> (referer: https://www.usedsurfboardshawaii.com/page/33/?post_type=product) ['cached']\n",
      "2019-11-16 15:11:12 [scrapy.core.scraper] DEBUG: Scraped from <200 https://www.usedsurfboardshawaii.com/product/7ft-6in-j7-pin-tail/>\n",
      "{'url': 'https://www.usedsurfboardshawaii.com/product/7ft-6in-j7-pin-tail/', 'title': '7ft 6in J7 Pin Tail Ref# 14963', 'price': 300.0, 'description': 'Good condition, with minor damage on nose. \\xa0Shows little signs of use. \\xa0Best used as a semi-gun or step up.', 'type': 'Thruster (FCS)', 'height': 'H 7′ 6″', 'width': 'W 18 1/4″', 'thickness': 'T 2 1/2″', 'condition': 'Good', 'manufacturer': 'J7'}\n",
      "2019-11-16 15:11:12 [scrapy.core.engine] DEBUG: Crawled (200) <GET https://www.usedsurfboardshawaii.com/product/5ft-11in-j7-squash-tail-2/> (referer: https://www.usedsurfboardshawaii.com/page/33/?post_type=product) ['cached']\n",
      "2019-11-16 15:11:12 [scrapy.core.scraper] DEBUG: Scraped from <200 https://www.usedsurfboardshawaii.com/product/8ft-doc-pin-tail-glass-on/>\n",
      "{'url': 'https://www.usedsurfboardshawaii.com/product/8ft-doc-pin-tail-glass-on/', 'title': '8ft Doc Pin Tail (Glass On) Ref# 14974', 'price': 220.0, 'description': 'Good condition, although fins show some wear and tear. Best used in big waves.', 'type': 'Thruster (Glassed on)', 'height': 'H 8′', 'width': 'W 18 1/2″', 'thickness': 'T 2 5/16″', 'condition': 'Good', 'manufacturer': 'Doc Lansch'}\n"
     ]
    },
    {
     "name": "stdout",
     "output_type": "stream",
     "text": [
      "Processing 17 out of 25\n",
      "Processing 18 out of 25\n"
     ]
    },
    {
     "name": "stderr",
     "output_type": "stream",
     "text": [
      "2019-11-16 15:11:13 [scrapy.core.engine] DEBUG: Crawled (200) <GET https://www.usedsurfboardshawaii.com/product/5ft-11in-j7-squash-tail/> (referer: https://www.usedsurfboardshawaii.com/page/33/?post_type=product) ['cached']\n",
      "2019-11-16 15:11:13 [scrapy.core.scraper] DEBUG: Scraped from <200 https://www.usedsurfboardshawaii.com/product/6ft-3in-g-garduque-squash-tail/>\n",
      "{'url': 'https://www.usedsurfboardshawaii.com/product/6ft-3in-g-garduque-squash-tail/', 'title': '6ft 3in G Garduque Squash Tail Ref# 14969', 'price': 260.0, 'description': 'Good condition Garduque thruster with FCS boxes.', 'type': 'Thruster (FCS)', 'height': 'H 6′ 3″', 'width': 'W 18 1/3″', 'thickness': 'T 2 1/4″', 'condition': 'Good', 'manufacturer': 'Garduque'}\n",
      "2019-11-16 15:11:13 [scrapy.core.engine] DEBUG: Crawled (200) <GET https://www.usedsurfboardshawaii.com/product/6ft-1in-d-tatsuno-round-tail/> (referer: https://www.usedsurfboardshawaii.com/page/33/?post_type=product) ['cached']\n",
      "2019-11-16 15:11:13 [scrapy.core.scraper] DEBUG: Scraped from <200 https://www.usedsurfboardshawaii.com/product/5ft-11in-j7-squash-tail-2/>\n",
      "{'url': 'https://www.usedsurfboardshawaii.com/product/5ft-11in-j7-squash-tail-2/', 'title': '5ft 11in J7 Squash Tail Ref# 14960', 'price': 140.0, 'description': 'Good condition J7 squash tail thruster with FCS plugs. \\xa0Has some yellowing.', 'type': 'Thruster (FCS)', 'height': 'H 5′ 11″', 'width': 'W 18 1/4″', 'thickness': 'T 2 13/16″', 'condition': 'Good', 'manufacturer': 'J7'}\n"
     ]
    },
    {
     "name": "stdout",
     "output_type": "stream",
     "text": [
      "Processing 19 out of 25\n",
      "Processing 20 out of 25\n"
     ]
    },
    {
     "name": "stderr",
     "output_type": "stream",
     "text": [
      "2019-11-16 15:11:13 [scrapy.core.engine] DEBUG: Crawled (200) <GET https://www.usedsurfboardshawaii.com/product/6ft-lsd-squash-tail/> (referer: https://www.usedsurfboardshawaii.com/page/33/?post_type=product) ['cached']\n",
      "2019-11-16 15:11:13 [scrapy.core.scraper] DEBUG: Scraped from <200 https://www.usedsurfboardshawaii.com/product/5ft-11in-j7-squash-tail/>\n",
      "{'url': 'https://www.usedsurfboardshawaii.com/product/5ft-11in-j7-squash-tail/', 'title': '5ft 11in J7 Squash Tail Ref# 14961', 'price': 200.0, 'description': 'Good condition J7 thruster with FCS plugs. \\xa0It has a couple minor dings which could use repair.', 'type': 'Thruster (FCS)', 'height': 'H 5′ 11″', 'width': 'W 18 3/16″', 'thickness': 'T 2 1/8″', 'condition': 'Good', 'manufacturer': 'J7'}\n",
      "2019-11-16 15:11:13 [scrapy.core.engine] DEBUG: Crawled (200) <GET https://www.usedsurfboardshawaii.com/product/5ft-10in-trevelyn-swallow-tail-2/> (referer: https://www.usedsurfboardshawaii.com/page/33/?post_type=product) ['cached']\n",
      "2019-11-16 15:11:13 [scrapy.core.scraper] DEBUG: Scraped from <200 https://www.usedsurfboardshawaii.com/product/6ft-1in-d-tatsuno-round-tail/>\n",
      "{'url': 'https://www.usedsurfboardshawaii.com/product/6ft-1in-d-tatsuno-round-tail/', 'title': '6ft 1in D. Tatsuno Round Tail Ref# 14746', 'price': 280.0, 'description': 'A clean board for North Shore when the waves get a little heavier and you’ll want a board with a round pin.', 'type': None, 'height': 'H 6’1″', 'width': 'W 18 1/2″', 'thickness': 'T 2 5/16″', 'condition': 'Good', 'manufacturer': 'D Tatsuno'}\n"
     ]
    },
    {
     "name": "stdout",
     "output_type": "stream",
     "text": [
      "Processing 21 out of 25\n",
      "Processing 22 out of 25\n"
     ]
    },
    {
     "name": "stderr",
     "output_type": "stream",
     "text": [
      "2019-11-16 15:11:13 [scrapy.core.engine] DEBUG: Crawled (200) <GET https://www.usedsurfboardshawaii.com/product/6ft-3in-setsu-squash-tail/> (referer: https://www.usedsurfboardshawaii.com/page/33/?post_type=product) ['cached']\n",
      "2019-11-16 15:11:13 [scrapy.core.scraper] DEBUG: Scraped from <200 https://www.usedsurfboardshawaii.com/product/6ft-lsd-squash-tail/>\n",
      "{'url': 'https://www.usedsurfboardshawaii.com/product/6ft-lsd-squash-tail/', 'title': '6ft LSD Squash Tail Ref# 14745', 'price': 120.0, 'description': 'This is an older board, but has a good repair on the nose and has many sessions left. Hard to beat the price! Ideal for faster, steeper waves.', 'type': 'Thruster (FCS)', 'height': 'H 6’0″', 'width': 'W 18 1/4″', 'thickness': 'T 2 1/4″', 'condition': 'Good', 'manufacturer': 'LSD'}\n",
      "2019-11-16 15:11:13 [scrapy.core.engine] DEBUG: Crawled (200) <GET https://www.usedsurfboardshawaii.com/product/6ft-5in-ride-squash-tail/> (referer: https://www.usedsurfboardshawaii.com/page/33/?post_type=product) ['cached']\n",
      "2019-11-16 15:11:13 [scrapy.core.scraper] DEBUG: Scraped from <200 https://www.usedsurfboardshawaii.com/product/5ft-10in-trevelyn-swallow-tail-2/>\n",
      "{'url': 'https://www.usedsurfboardshawaii.com/product/5ft-10in-trevelyn-swallow-tail-2/', 'title': '5ft 10in Trevelyn Swallow Tail Ref# 12424', 'price': 240.0, 'description': 'Trevelyn shortboard starting at 299. Just a few minor repairs. Good board for decent size waves.', 'type': 'Thruster (Future)', 'height': 'H 5’10”', 'width': 'W 19 1/4″', 'thickness': 'T 2 1/4″', 'condition': 'Good', 'manufacturer': 'Trevelyn'}\n"
     ]
    },
    {
     "name": "stdout",
     "output_type": "stream",
     "text": [
      "Processing 23 out of 25\n",
      "Processing 24 out of 25\n"
     ]
    },
    {
     "name": "stderr",
     "output_type": "stream",
     "text": [
      "2019-11-16 15:11:13 [scrapy.core.engine] DEBUG: Crawled (200) <GET https://www.usedsurfboardshawaii.com/product/6ft-1in-hawaiian-surf-squash-tail/> (referer: https://www.usedsurfboardshawaii.com/page/33/?post_type=product) ['cached']\n",
      "2019-11-16 15:11:13 [scrapy.core.scraper] DEBUG: Scraped from <200 https://www.usedsurfboardshawaii.com/product/6ft-3in-setsu-squash-tail/>\n",
      "{'url': 'https://www.usedsurfboardshawaii.com/product/6ft-3in-setsu-squash-tail/', 'title': '6ft 3in Setsu Squash Tail Ref# 14547', 'price': 120.0, 'description': 'Rough around the edges. Needs repairs. Solid north shore board when repaired.', 'type': 'Thruster (Future)', 'height': 'H 6’3″', 'width': 'W 18 3/4″', 'thickness': 'T 2 3/8″', 'condition': 'Fair', 'manufacturer': 'Setsu'}\n",
      "2019-11-16 15:11:14 [scrapy.core.engine] DEBUG: Crawled (200) <GET https://www.usedsurfboardshawaii.com/product/6ft-2in-hawk-surf-round-tail/> (referer: https://www.usedsurfboardshawaii.com/page/33/?post_type=product) ['cached']\n",
      "2019-11-16 15:11:14 [scrapy.core.scraper] DEBUG: Scraped from <200 https://www.usedsurfboardshawaii.com/product/6ft-5in-ride-squash-tail/>\n",
      "{'url': 'https://www.usedsurfboardshawaii.com/product/6ft-5in-ride-squash-tail/', 'title': '6ft 5in Ride Squash Tail Ref# 14559', 'price': 220.0, 'description': 'This board is a good fit for a surfer who is larger or for surfing larger and more powerful waves. The board is in good condition.', 'type': 'Thruster (FCS)', 'height': 'H 6’5″', 'width': 'W 18 3/16″', 'thickness': 'T 2 1/2″', 'condition': 'Good', 'manufacturer': 'Ride Surfboards'}\n",
      "2019-11-16 15:11:14 [scrapy.core.engine] DEBUG: Crawled (200) <GET https://www.usedsurfboardshawaii.com/page/34/?post_type=product> (referer: https://www.usedsurfboardshawaii.com/page/33/?post_type=product) ['cached']\n",
      "2019-11-16 15:11:14 [scrapy.core.scraper] DEBUG: Scraped from <200 https://www.usedsurfboardshawaii.com/product/6ft-1in-hawaiian-surf-squash-tail/>\n",
      "{'url': 'https://www.usedsurfboardshawaii.com/product/6ft-1in-hawaiian-surf-squash-tail/', 'title': '6ft 1in Hawaiian Surf Squash Tail Ref# 14555', 'price': 120.0, 'description': 'You can’t get more a standard/classic shortboard. The dimensions are picture perfect for waves from waist to a little overhead. Take this out in a variety of conditions, and you’ll have a great time with nice turns down the line. Can’t beat the price.', 'type': 'Thruster (FCS)', 'height': 'H 6’1″', 'width': 'W 19″', 'thickness': 'T 2 1/4″', 'condition': 'Good', 'manufacturer': 'Hawaiian Surf'}\n"
     ]
    },
    {
     "name": "stdout",
     "output_type": "stream",
     "text": [
      "Processing 25 out of 25\n",
      "\n",
      "https://www.usedsurfboardshawaii.com/page/34/?post_type=product\n"
     ]
    },
    {
     "name": "stderr",
     "output_type": "stream",
     "text": [
      "2019-11-16 15:11:14 [scrapy.core.scraper] DEBUG: Scraped from <200 https://www.usedsurfboardshawaii.com/product/6ft-2in-hawk-surf-round-tail/>\n",
      "{'url': 'https://www.usedsurfboardshawaii.com/product/6ft-2in-hawk-surf-round-tail/', 'title': '6ft 2in Hawk Surf Round Tail Ref# 13705', 'price': 220.0, 'description': 'This is a thin board, best for a steeper, bigger wave. In good condition with no dings.', 'type': 'Thruster (FCS)', 'height': 'H 6’2″', 'width': 'W 18 1/8″', 'thickness': 'T 2 1/8″', 'condition': 'Good', 'manufacturer': 'Hawk Surf'}\n",
      "2019-11-16 15:11:14 [scrapy.core.engine] DEBUG: Crawled (200) <GET https://www.usedsurfboardshawaii.com/product/6ft-andrus-swallow-tail/> (referer: https://www.usedsurfboardshawaii.com/page/34/?post_type=product) ['cached']\n"
     ]
    },
    {
     "name": "stdout",
     "output_type": "stream",
     "text": [
      "Total:  25\n",
      "Processing 1 out of 25\n",
      "Processing 2 out of 25\n"
     ]
    },
    {
     "name": "stderr",
     "output_type": "stream",
     "text": [
      "2019-11-16 15:11:14 [scrapy.core.engine] DEBUG: Crawled (200) <GET https://www.usedsurfboardshawaii.com/product/5ft-10-in-hansen-swallow-tail/> (referer: https://www.usedsurfboardshawaii.com/page/34/?post_type=product) ['cached']\n",
      "2019-11-16 15:11:14 [scrapy.core.engine] DEBUG: Crawled (200) <GET https://www.usedsurfboardshawaii.com/product/7ft-surge-pin-tail/> (referer: https://www.usedsurfboardshawaii.com/page/34/?post_type=product) ['cached']\n",
      "2019-11-16 15:11:14 [scrapy.core.scraper] DEBUG: Scraped from <200 https://www.usedsurfboardshawaii.com/product/6ft-andrus-swallow-tail/>\n",
      "{'url': 'https://www.usedsurfboardshawaii.com/product/6ft-andrus-swallow-tail/', 'title': '6ft Andrus Swallow Tail Ref# 13473', 'price': 240.0, 'description': 'A fun retro fish boar that can be run as a single fin with a skeg box. Has a epaired ding shown in picture, with some minor pressures on the deck.', 'type': 'FCS Twim or Single', 'height': 'H 6ft', 'width': 'W 18 1/4in', 'thickness': 'T 2 3/8in', 'condition': 'Good', 'manufacturer': 'Andrus'}\n"
     ]
    },
    {
     "name": "stdout",
     "output_type": "stream",
     "text": [
      "Processing 3 out of 25\n",
      "Processing 4 out of 25\n"
     ]
    },
    {
     "name": "stderr",
     "output_type": "stream",
     "text": [
      "2019-11-16 15:11:14 [scrapy.core.engine] DEBUG: Crawled (200) <GET https://www.usedsurfboardshawaii.com/product/6ft-2in-baillie-squash-tail/> (referer: https://www.usedsurfboardshawaii.com/page/34/?post_type=product) ['cached']\n",
      "2019-11-16 15:11:14 [scrapy.core.scraper] DEBUG: Scraped from <200 https://www.usedsurfboardshawaii.com/product/5ft-10-in-hansen-swallow-tail/>\n",
      "{'url': 'https://www.usedsurfboardshawaii.com/product/5ft-10-in-hansen-swallow-tail/', 'title': '5ft 10 in Hansen Swallow Tail Ref# 13418', 'price': 200.0, 'description': '2 1/8in', 'type': 'FCSII 5fin', 'height': 'H 5ft 10in', 'width': 'W 18 1/4in', 'thickness': None, 'condition': 'Good', 'manufacturer': 'Hansen'}\n",
      "2019-11-16 15:11:14 [scrapy.core.engine] DEBUG: Crawled (200) <GET https://www.usedsurfboardshawaii.com/product/7ft-pang-big-wave-gun-pin-tail/> (referer: https://www.usedsurfboardshawaii.com/page/34/?post_type=product) ['cached']\n",
      "2019-11-16 15:11:14 [scrapy.core.scraper] DEBUG: Scraped from <200 https://www.usedsurfboardshawaii.com/product/7ft-surge-pin-tail/>\n",
      "{'url': 'https://www.usedsurfboardshawaii.com/product/7ft-surge-pin-tail/', 'title': '7ft Surge Pin Tail Ref# 13431', 'price': 160.0, 'description': 'A good step up board for when the waves begin to pump. Some pressures on the deck.', 'type': 'FCS thruster', 'height': 'H 7ft', 'width': 'W 18 1/8in', 'thickness': 'T 2 5/16', 'condition': 'Fair', 'manufacturer': 'Surge'}\n"
     ]
    },
    {
     "name": "stdout",
     "output_type": "stream",
     "text": [
      "Processing 5 out of 25\n",
      "Processing 6 out of 25\n"
     ]
    },
    {
     "name": "stderr",
     "output_type": "stream",
     "text": [
      "2019-11-16 15:11:15 [scrapy.core.engine] DEBUG: Crawled (200) <GET https://www.usedsurfboardshawaii.com/product/7ft-bull-williams-pin-tail/> (referer: https://www.usedsurfboardshawaii.com/page/34/?post_type=product) ['cached']\n",
      "2019-11-16 15:11:15 [scrapy.core.scraper] DEBUG: Scraped from <200 https://www.usedsurfboardshawaii.com/product/6ft-2in-baillie-squash-tail/>\n",
      "{'url': 'https://www.usedsurfboardshawaii.com/product/6ft-2in-baillie-squash-tail/', 'title': '6ft 2in Baillie Squash Tail Ref# 13433', 'price': 200.0, 'description': 'H: 6’2”', 'type': 'Squash Tail (FCS)', 'height': None, 'width': None, 'thickness': None, 'condition': 'Good', 'manufacturer': 'Baillie'}\n",
      "2019-11-16 15:11:15 [scrapy.core.engine] DEBUG: Crawled (200) <GET https://www.usedsurfboardshawaii.com/product/5ft-11in-richie-collins-squash-tail-2/> (referer: https://www.usedsurfboardshawaii.com/page/34/?post_type=product) ['cached']\n",
      "2019-11-16 15:11:15 [scrapy.core.scraper] DEBUG: Scraped from <200 https://www.usedsurfboardshawaii.com/product/7ft-pang-big-wave-gun-pin-tail/>\n",
      "{'url': 'https://www.usedsurfboardshawaii.com/product/7ft-pang-big-wave-gun-pin-tail/', 'title': '7ft Pang Big Wave Gun Pin Tail Ref# 13260', 'price': 140.0, 'description': 'H: 7′', 'type': 'Pin Tail (FCS)', 'height': None, 'width': None, 'thickness': None, 'condition': 'Good', 'manufacturer': 'Pang'}\n"
     ]
    },
    {
     "name": "stdout",
     "output_type": "stream",
     "text": [
      "Processing 7 out of 25\n",
      "Processing 8 out of 25\n"
     ]
    },
    {
     "name": "stderr",
     "output_type": "stream",
     "text": [
      "2019-11-16 15:11:15 [scrapy.core.engine] DEBUG: Crawled (200) <GET https://www.usedsurfboardshawaii.com/product/63-tokoro-round-tail-2/> (referer: https://www.usedsurfboardshawaii.com/page/34/?post_type=product) ['cached']\n",
      "2019-11-16 15:11:15 [scrapy.core.scraper] DEBUG: Scraped from <200 https://www.usedsurfboardshawaii.com/product/7ft-bull-williams-pin-tail/>\n",
      "{'url': 'https://www.usedsurfboardshawaii.com/product/7ft-bull-williams-pin-tail/', 'title': '7ft Bull Williams Pin Tail Ref# 12954', 'price': 270.0, 'description': 'A great step up board for when the waves get more power in them and a little extra volume is needed. In good condition with minimal pressures on the deck.', 'type': 'Thruster Future', 'height': 'H 7ft', 'width': 'W 18.5in', 'thickness': 'T 2 7/16in', 'condition': 'Good', 'manufacturer': 'Buddy Williams'}\n",
      "2019-11-16 15:11:15 [scrapy.core.engine] DEBUG: Crawled (200) <GET https://www.usedsurfboardshawaii.com/product/7ft-7in-yexa-pin-tail/> (referer: https://www.usedsurfboardshawaii.com/page/34/?post_type=product) ['cached']\n",
      "2019-11-16 15:11:15 [scrapy.core.scraper] DEBUG: Scraped from <200 https://www.usedsurfboardshawaii.com/product/5ft-11in-richie-collins-squash-tail-2/>\n",
      "{'url': 'https://www.usedsurfboardshawaii.com/product/5ft-11in-richie-collins-squash-tail-2/', 'title': '5ft 11in Richie Collins Squash Tail Ref# 12661', 'price': 240.0, 'description': 'This Richie Collins is ready for its next life. Great town board, no dings, can handle a variety of waves.', 'type': 'Thruster (FCS)', 'height': 'H 5’11”', 'width': 'W 18 1/4″', 'thickness': 'T 2 1/8″', 'condition': 'Good', 'manufacturer': 'Richie Collins'}\n"
     ]
    },
    {
     "name": "stdout",
     "output_type": "stream",
     "text": [
      "Processing 9 out of 25\n",
      "Processing 10 out of 25\n"
     ]
    },
    {
     "name": "stderr",
     "output_type": "stream",
     "text": [
      "2019-11-16 15:11:15 [scrapy.core.engine] DEBUG: Crawled (200) <GET https://www.usedsurfboardshawaii.com/product/7ft-6in-dennis-pang-pin-tail/> (referer: https://www.usedsurfboardshawaii.com/page/34/?post_type=product) ['cached']\n",
      "2019-11-16 15:11:15 [scrapy.core.scraper] DEBUG: Scraped from <200 https://www.usedsurfboardshawaii.com/product/63-tokoro-round-tail-2/>\n",
      "{'url': 'https://www.usedsurfboardshawaii.com/product/63-tokoro-round-tail-2/', 'title': '6ft 3in Tokoro Round Tail (Shaped for Jeremy Flores) Ref# 12717', 'price': 399.0, 'description': 'H: 6’3”', 'type': 'Round Tail (FCS)', 'height': None, 'width': None, 'thickness': None, 'condition': 'Like New', 'manufacturer': 'Tokoro'}\n",
      "2019-11-16 15:11:15 [scrapy.core.engine] DEBUG: Crawled (200) <GET https://www.usedsurfboardshawaii.com/product/5ft-10in-trevelyn-swallow-tail/> (referer: https://www.usedsurfboardshawaii.com/page/34/?post_type=product) ['cached']\n",
      "2019-11-16 15:11:15 [scrapy.core.scraper] DEBUG: Scraped from <200 https://www.usedsurfboardshawaii.com/product/7ft-7in-yexa-pin-tail/>\n",
      "{'url': 'https://www.usedsurfboardshawaii.com/product/7ft-7in-yexa-pin-tail/', 'title': '7ft 7in Yexa Pin Tail Ref# 12492', 'price': 140.0, 'description': 'A good step up board in fair condition with no major damage and minor pressure dents on the deck, and ready for the next XL swell.', 'type': 'Future Thruster', 'height': 'H 7fr 7in', 'width': 'W 18.5in', 'thickness': 'T 2.38in', 'condition': 'Fair', 'manufacturer': 'Yerxa'}\n"
     ]
    },
    {
     "name": "stdout",
     "output_type": "stream",
     "text": [
      "Processing 11 out of 25\n",
      "Processing 12 out of 25\n"
     ]
    },
    {
     "name": "stderr",
     "output_type": "stream",
     "text": [
      "2019-11-16 15:11:15 [scrapy.core.engine] DEBUG: Crawled (200) <GET https://www.usedsurfboardshawaii.com/product/6ft-9in-northern-alliance-round-pin/> (referer: https://www.usedsurfboardshawaii.com/page/34/?post_type=product) ['cached']\n",
      "2019-11-16 15:11:16 [scrapy.core.scraper] DEBUG: Scraped from <200 https://www.usedsurfboardshawaii.com/product/7ft-6in-dennis-pang-pin-tail/>\n",
      "{'url': 'https://www.usedsurfboardshawaii.com/product/7ft-6in-dennis-pang-pin-tail/', 'title': '7ft 6in Dennis Pang Pin Tail Ref# 12486', 'price': 185.0, 'description': 'A good country step-up board for bigger days. With mild usage on the deck with pressure dents.', 'type': 'Thruster Future', 'height': 'H 7ft 6in', 'width': 'W 18 1/2in', 'thickness': 'T 2.38in', 'condition': 'Good', 'manufacturer': 'Dennis Pang'}\n",
      "2019-11-16 15:11:16 [scrapy.core.engine] DEBUG: Crawled (200) <GET https://www.usedsurfboardshawaii.com/product/ship-1-board-inter-island/> (referer: https://www.usedsurfboardshawaii.com/page/34/?post_type=product) ['cached']\n",
      "2019-11-16 15:11:16 [scrapy.core.scraper] DEBUG: Scraped from <200 https://www.usedsurfboardshawaii.com/product/5ft-10in-trevelyn-swallow-tail/>\n",
      "{'url': 'https://www.usedsurfboardshawaii.com/product/5ft-10in-trevelyn-swallow-tail/', 'title': '5ft 10in Trevelyn Swallow Tail Ref# 12424', 'price': 240.0, 'description': 'This board has been well-loved, but has many sessions left. It has one ding that has been repaired, but otherwise is a fun board, ready for a variety of breaks.', 'type': 'Thruster (Futures)', 'height': 'H 5′ 10″', 'width': 'W 19 1/4″', 'thickness': 'T 2 1/4″', 'condition': 'Good', 'manufacturer': 'Trevelyn'}\n"
     ]
    },
    {
     "name": "stdout",
     "output_type": "stream",
     "text": [
      "Processing 13 out of 25\n",
      "Processing 14 out of 25\n"
     ]
    },
    {
     "name": "stderr",
     "output_type": "stream",
     "text": [
      "2019-11-16 15:11:16 [scrapy.core.engine] DEBUG: Crawled (200) <GET https://www.usedsurfboardshawaii.com/product/6ft-4in-dutch-squash-tail-2/> (referer: https://www.usedsurfboardshawaii.com/page/34/?post_type=product) ['cached']\n",
      "2019-11-16 15:11:16 [scrapy.core.scraper] DEBUG: Scraped from <200 https://www.usedsurfboardshawaii.com/product/6ft-9in-northern-alliance-round-pin/>\n",
      "{'url': 'https://www.usedsurfboardshawaii.com/product/6ft-9in-northern-alliance-round-pin/', 'title': '6ft 9in Northern Alliance Round Pin Ref# 12344', 'price': 275.0, 'description': 'This board has many rides to give and can handle various conditions from height to wave type with its unique pin/quad combo. Come check it out! No dings.', 'type': 'Quad (Future)', 'height': 'H 6’9″', 'width': 'W 19 5/8″', 'thickness': 'T 2 1/2″', 'condition': 'Good', 'manufacturer': 'Northern Alliance'}\n",
      "2019-11-16 15:11:16 [scrapy.core.engine] DEBUG: Crawled (200) <GET https://www.usedsurfboardshawaii.com/product/future-fins-f3/> (referer: https://www.usedsurfboardshawaii.com/page/34/?post_type=product) ['cached']\n"
     ]
    },
    {
     "name": "stdout",
     "output_type": "stream",
     "text": [
      "Processing 15 out of 25\n",
      "Processing 16 out of 25\n"
     ]
    },
    {
     "name": "stderr",
     "output_type": "stream",
     "text": [
      "2019-11-16 15:11:16 [scrapy.core.engine] DEBUG: Crawled (200) <GET https://www.usedsurfboardshawaii.com/product/10ft-2in-fcs-3dxfit-dayrunner-longboard-blue/> (referer: https://www.usedsurfboardshawaii.com/page/34/?post_type=product) ['cached']\n",
      "2019-11-16 15:11:16 [scrapy.core.scraper] DEBUG: Scraped from <200 https://www.usedsurfboardshawaii.com/product/6ft-4in-dutch-squash-tail-2/>\n",
      "{'url': 'https://www.usedsurfboardshawaii.com/product/6ft-4in-dutch-squash-tail-2/', 'title': '6ft 4in Dutch Squash Tail Ref# 11954', 'price': 300.0, 'description': 'This is a great shortboard for any intermediate to advanced surfer looking for a board that can paddle easy and get onto waves. This board will perform well on head high and plus conditions. Overall this board is in good shape.', 'type': '5-Fin (Future)', 'height': 'H 6’4″', 'width': 'W 18 5/8″', 'thickness': 'T 2 5/8″', 'condition': '', 'manufacturer': 'Dutch, good'}\n",
      "2019-11-16 15:11:16 [scrapy.core.engine] DEBUG: Crawled (200) <GET https://www.usedsurfboardshawaii.com/product/9ft-2in-fcs-3dxfit-dayrunner-longboard-blue/> (referer: https://www.usedsurfboardshawaii.com/page/34/?post_type=product) ['cached']\n"
     ]
    },
    {
     "name": "stdout",
     "output_type": "stream",
     "text": [
      "Processing 17 out of 25\n",
      "Processing 18 out of 25\n"
     ]
    },
    {
     "name": "stderr",
     "output_type": "stream",
     "text": [
      "2019-11-16 15:11:16 [scrapy.core.engine] DEBUG: Crawled (200) <GET https://www.usedsurfboardshawaii.com/product/8ft-6in-fcs-3dxfit-dayrunner-longboard-blue/> (referer: https://www.usedsurfboardshawaii.com/page/34/?post_type=product) ['cached']\n",
      "2019-11-16 15:11:16 [scrapy.core.engine] DEBUG: Crawled (200) <GET https://www.usedsurfboardshawaii.com/product/6ft-7in-fcs-3dxfit-dayrunner-hybrid-blue/> (referer: https://www.usedsurfboardshawaii.com/page/34/?post_type=product) ['cached']\n"
     ]
    },
    {
     "name": "stdout",
     "output_type": "stream",
     "text": [
      "Processing 19 out of 25\n",
      "Processing 20 out of 25\n"
     ]
    },
    {
     "name": "stderr",
     "output_type": "stream",
     "text": [
      "2019-11-16 15:11:17 [scrapy.core.engine] DEBUG: Crawled (200) <GET https://www.usedsurfboardshawaii.com/product/6ft-3in-fcs-3dxfit-dayrunner-hybrid-blue/> (referer: https://www.usedsurfboardshawaii.com/page/34/?post_type=product) ['cached']\n",
      "2019-11-16 15:11:17 [scrapy.core.engine] DEBUG: Crawled (200) <GET https://www.usedsurfboardshawaii.com/product/6ft-fcs-3dxfit-dayrunner-hybrid-black/> (referer: https://www.usedsurfboardshawaii.com/page/34/?post_type=product) ['cached']\n"
     ]
    },
    {
     "name": "stdout",
     "output_type": "stream",
     "text": [
      "Processing 21 out of 25\n",
      "Processing 22 out of 25\n"
     ]
    },
    {
     "name": "stderr",
     "output_type": "stream",
     "text": [
      "2019-11-16 15:11:17 [scrapy.core.engine] DEBUG: Crawled (200) <GET https://www.usedsurfboardshawaii.com/product/6ft-fcs-3dxfit-dayrunner-hybrid-blue/> (referer: https://www.usedsurfboardshawaii.com/page/34/?post_type=product) ['cached']\n",
      "2019-11-16 15:11:17 [scrapy.core.engine] DEBUG: Crawled (200) <GET https://www.usedsurfboardshawaii.com/product/7ft-fcs-3dxfit-dayrunner-shortboard-blue/> (referer: https://www.usedsurfboardshawaii.com/page/34/?post_type=product) ['cached']\n"
     ]
    },
    {
     "name": "stdout",
     "output_type": "stream",
     "text": [
      "Processing 23 out of 25\n",
      "Processing 24 out of 25\n"
     ]
    },
    {
     "name": "stderr",
     "output_type": "stream",
     "text": [
      "2019-11-16 15:11:17 [scrapy.core.engine] DEBUG: Crawled (200) <GET https://www.usedsurfboardshawaii.com/product/6ft-7in-fcs-3dxfit-dayrunner-shortboard-black/> (referer: https://www.usedsurfboardshawaii.com/page/34/?post_type=product) ['cached']\n",
      "2019-11-16 15:11:17 [scrapy.core.engine] DEBUG: Crawled (200) <GET https://www.usedsurfboardshawaii.com/product/6ft-7in-fcs-3dxfit-dayrunner-shortboard-blue-2/> (referer: https://www.usedsurfboardshawaii.com/page/34/?post_type=product) ['cached']\n",
      "2019-11-16 15:11:17 [scrapy.core.engine] DEBUG: Crawled (200) <GET https://www.usedsurfboardshawaii.com/page/35/?post_type=product> (referer: https://www.usedsurfboardshawaii.com/page/34/?post_type=product) ['cached']\n"
     ]
    },
    {
     "name": "stdout",
     "output_type": "stream",
     "text": [
      "Processing 25 out of 25\n",
      "\n",
      "https://www.usedsurfboardshawaii.com/page/35/?post_type=product\n"
     ]
    },
    {
     "name": "stderr",
     "output_type": "stream",
     "text": [
      "2019-11-16 15:11:18 [scrapy.core.engine] DEBUG: Crawled (200) <GET https://www.usedsurfboardshawaii.com/product/6ft-7in-fcs-3dxfit-dayrunner-shortboard-blue/> (referer: https://www.usedsurfboardshawaii.com/page/35/?post_type=product) ['cached']\n"
     ]
    },
    {
     "name": "stdout",
     "output_type": "stream",
     "text": [
      "Total:  20\n",
      "Processing 1 out of 20\n",
      "Processing 2 out of 20\n"
     ]
    },
    {
     "name": "stderr",
     "output_type": "stream",
     "text": [
      "2019-11-16 15:11:18 [scrapy.core.engine] DEBUG: Crawled (200) <GET https://www.usedsurfboardshawaii.com/product/6ft-3in-fcs-3dxfit-dayrunner-shortboard-blue/> (referer: https://www.usedsurfboardshawaii.com/page/35/?post_type=product) ['cached']\n",
      "2019-11-16 15:11:18 [scrapy.core.engine] DEBUG: Crawled (200) <GET https://www.usedsurfboardshawaii.com/product/6ft-3in-fcs-3dxfit-dayrunner-shortboard/> (referer: https://www.usedsurfboardshawaii.com/page/35/?post_type=product) ['cached']\n"
     ]
    },
    {
     "name": "stdout",
     "output_type": "stream",
     "text": [
      "Processing 3 out of 20\n",
      "Processing 4 out of 20\n"
     ]
    },
    {
     "name": "stderr",
     "output_type": "stream",
     "text": [
      "2019-11-16 15:11:18 [scrapy.core.engine] DEBUG: Crawled (200) <GET https://www.usedsurfboardshawaii.com/product/6ft-fcs-3dxfit-dayrunner-shortboard/> (referer: https://www.usedsurfboardshawaii.com/page/35/?post_type=product) ['cached']\n",
      "2019-11-16 15:11:18 [scrapy.core.engine] DEBUG: Crawled (200) <GET https://www.usedsurfboardshawaii.com/product/shipping-96-to-11/> (referer: https://www.usedsurfboardshawaii.com/page/35/?post_type=product) ['cached']\n"
     ]
    },
    {
     "name": "stdout",
     "output_type": "stream",
     "text": [
      "Processing 5 out of 20\n",
      "Processing 6 out of 20\n"
     ]
    },
    {
     "name": "stderr",
     "output_type": "stream",
     "text": [
      "2019-11-16 15:11:18 [scrapy.core.engine] DEBUG: Crawled (200) <GET https://www.usedsurfboardshawaii.com/product/shipping-9-to-96/> (referer: https://www.usedsurfboardshawaii.com/page/35/?post_type=product) ['cached']\n",
      "2019-11-16 15:11:18 [scrapy.core.engine] DEBUG: Crawled (200) <GET https://www.usedsurfboardshawaii.com/product/ship-3-boards-under-9/> (referer: https://www.usedsurfboardshawaii.com/page/35/?post_type=product) ['cached']\n"
     ]
    },
    {
     "name": "stdout",
     "output_type": "stream",
     "text": [
      "Processing 7 out of 20\n",
      "Processing 8 out of 20\n"
     ]
    },
    {
     "name": "stderr",
     "output_type": "stream",
     "text": [
      "2019-11-16 15:11:18 [scrapy.core.engine] DEBUG: Crawled (200) <GET https://www.usedsurfboardshawaii.com/product/ship-2-boards-under-9/> (referer: https://www.usedsurfboardshawaii.com/page/35/?post_type=product) ['cached']\n",
      "2019-11-16 15:11:18 [scrapy.core.engine] DEBUG: Crawled (200) <GET https://www.usedsurfboardshawaii.com/product/ship-1-board-under-9/> (referer: https://www.usedsurfboardshawaii.com/page/35/?post_type=product) ['cached']\n"
     ]
    },
    {
     "name": "stdout",
     "output_type": "stream",
     "text": [
      "Processing 9 out of 20\n",
      "Processing 10 out of 20\n"
     ]
    },
    {
     "name": "stderr",
     "output_type": "stream",
     "text": [
      "2019-11-16 15:11:19 [scrapy.core.engine] DEBUG: Crawled (200) <GET https://www.usedsurfboardshawaii.com/product/fcs-dolphin-gf-9/> (referer: https://www.usedsurfboardshawaii.com/page/35/?post_type=product) ['cached']\n",
      "2019-11-16 15:11:19 [scrapy.core.engine] DEBUG: Crawled (200) <GET https://www.usedsurfboardshawaii.com/product/fcs-dolphin-gf-7/> (referer: https://www.usedsurfboardshawaii.com/page/35/?post_type=product) ['cached']\n"
     ]
    },
    {
     "name": "stdout",
     "output_type": "stream",
     "text": [
      "Processing 11 out of 20\n",
      "Processing 12 out of 20\n"
     ]
    },
    {
     "name": "stderr",
     "output_type": "stream",
     "text": [
      "2019-11-16 15:11:19 [scrapy.core.engine] DEBUG: Crawled (200) <GET https://www.usedsurfboardshawaii.com/product/fcs-premium-tail-gate-system/> (referer: https://www.usedsurfboardshawaii.com/page/35/?post_type=product) ['cached']\n",
      "2019-11-16 15:11:19 [scrapy.core.engine] DEBUG: Crawled (200) <GET https://www.usedsurfboardshawaii.com/product/fcs-cam-lock-tie-down-straps/> (referer: https://www.usedsurfboardshawaii.com/page/35/?post_type=product) ['cached']\n"
     ]
    },
    {
     "name": "stdout",
     "output_type": "stream",
     "text": [
      "Processing 13 out of 20\n",
      "Processing 14 out of 20\n"
     ]
    },
    {
     "name": "stderr",
     "output_type": "stream",
     "text": [
      "2019-11-16 15:11:19 [scrapy.core.engine] DEBUG: Crawled (200) <GET https://www.usedsurfboardshawaii.com/product/fcs-cam-lock-soft-racks-single/> (referer: https://www.usedsurfboardshawaii.com/page/35/?post_type=product) ['cached']\n",
      "2019-11-16 15:11:19 [scrapy.core.engine] DEBUG: Crawled (200) <GET https://www.usedsurfboardshawaii.com/product/astrodeck-slippers/> (referer: https://www.usedsurfboardshawaii.com/page/35/?post_type=product) ['cached']\n"
     ]
    },
    {
     "name": "stdout",
     "output_type": "stream",
     "text": [
      "Processing 15 out of 20\n",
      "Processing 16 out of 20\n"
     ]
    },
    {
     "name": "stderr",
     "output_type": "stream",
     "text": [
      "2019-11-16 15:11:19 [scrapy.core.engine] DEBUG: Crawled (200) <GET https://www.usedsurfboardshawaii.com/product/astrodeck-traction-pads/> (referer: https://www.usedsurfboardshawaii.com/page/35/?post_type=product) ['cached']\n",
      "2019-11-16 15:11:20 [scrapy.core.engine] DEBUG: Crawled (200) <GET https://www.usedsurfboardshawaii.com/product/used-surfboards-hawaii-flag-logo-tee-shirt/> (referer: https://www.usedsurfboardshawaii.com/page/35/?post_type=product) ['cached']\n"
     ]
    },
    {
     "name": "stdout",
     "output_type": "stream",
     "text": [
      "Processing 17 out of 20\n",
      "Processing 18 out of 20\n"
     ]
    },
    {
     "name": "stderr",
     "output_type": "stream",
     "text": [
      "2019-11-16 15:11:20 [scrapy.core.engine] DEBUG: Crawled (200) <GET https://www.usedsurfboardshawaii.com/product/used-surfboards-hawaii-shirts/> (referer: https://www.usedsurfboardshawaii.com/page/35/?post_type=product) ['cached']\n",
      "2019-11-16 15:11:20 [scrapy.core.engine] DEBUG: Crawled (200) <GET https://www.usedsurfboardshawaii.com/product/used-surfboards-hawaii-limited-edition-hat/> (referer: https://www.usedsurfboardshawaii.com/page/35/?post_type=product) ['cached']\n"
     ]
    },
    {
     "name": "stdout",
     "output_type": "stream",
     "text": [
      "Processing 19 out of 20\n",
      "Processing 20 out of 20\n"
     ]
    },
    {
     "name": "stderr",
     "output_type": "stream",
     "text": [
      "2019-11-16 15:11:20 [scrapy.core.engine] DEBUG: Crawled (200) <GET https://www.usedsurfboardshawaii.com/product/used-surfboards-hawaii-hat/> (referer: https://www.usedsurfboardshawaii.com/page/35/?post_type=product) ['cached']\n",
      "2019-11-16 15:11:20 [scrapy.core.scraper] ERROR: Spider error processing <GET https://www.usedsurfboardshawaii.com/page/35/?post_type=product> (referer: https://www.usedsurfboardshawaii.com/page/34/?post_type=product)\n",
      "Traceback (most recent call last):\n",
      "  File \"/Users/marshallmamiya/anaconda3/lib/python3.7/site-packages/scrapy/utils/defer.py\", line 102, in iter_errback\n",
      "    yield next(it)\n",
      "  File \"/Users/marshallmamiya/anaconda3/lib/python3.7/site-packages/scrapy/core/spidermw.py\", line 84, in evaluate_iterable\n",
      "    for r in iterable:\n",
      "  File \"/Users/marshallmamiya/anaconda3/lib/python3.7/site-packages/scrapy/spidermiddlewares/offsite.py\", line 29, in process_spider_output\n",
      "    for x in result:\n",
      "  File \"/Users/marshallmamiya/anaconda3/lib/python3.7/site-packages/scrapy/core/spidermw.py\", line 84, in evaluate_iterable\n",
      "    for r in iterable:\n",
      "  File \"/Users/marshallmamiya/anaconda3/lib/python3.7/site-packages/scrapy/spidermiddlewares/referer.py\", line 339, in <genexpr>\n",
      "    return (_set_referer(r) for r in result or ())\n",
      "  File \"/Users/marshallmamiya/anaconda3/lib/python3.7/site-packages/scrapy/core/spidermw.py\", line 84, in evaluate_iterable\n",
      "    for r in iterable:\n",
      "  File \"/Users/marshallmamiya/anaconda3/lib/python3.7/site-packages/scrapy/spidermiddlewares/urllength.py\", line 37, in <genexpr>\n",
      "    return (r for r in result or () if _filter(r))\n",
      "  File \"/Users/marshallmamiya/anaconda3/lib/python3.7/site-packages/scrapy/core/spidermw.py\", line 84, in evaluate_iterable\n",
      "    for r in iterable:\n",
      "  File \"/Users/marshallmamiya/anaconda3/lib/python3.7/site-packages/scrapy/spidermiddlewares/depth.py\", line 58, in <genexpr>\n",
      "    return (r for r in result or () if _filter(r))\n",
      "  File \"<ipython-input-2-3fedeecdedb5>\", line 92, in parse\n",
      "    yield Request(relative_next_url, callback=self.parse)\n",
      "  File \"/Users/marshallmamiya/anaconda3/lib/python3.7/site-packages/scrapy/http/request/__init__.py\", line 25, in __init__\n",
      "    self._set_url(url)\n",
      "  File \"/Users/marshallmamiya/anaconda3/lib/python3.7/site-packages/scrapy/http/request/__init__.py\", line 63, in _set_url\n",
      "    raise TypeError('Request url must be str or unicode, got %s:' % type(url).__name__)\n",
      "TypeError: Request url must be str or unicode, got NoneType:\n",
      "2019-11-16 15:11:20 [scrapy.core.engine] INFO: Closing spider (finished)\n",
      "2019-11-16 15:11:20 [scrapy.extensions.feedexport] INFO: Stored json feed (786 items) in: used_surfboard_hawaii.json\n",
      "2019-11-16 15:11:20 [scrapy.statscollectors] INFO: Dumping Scrapy stats:\n",
      "{'downloader/request_bytes': 461265,\n",
      " 'downloader/request_count': 904,\n",
      " 'downloader/request_method_count/GET': 904,\n",
      " 'downloader/response_bytes': 45364540,\n",
      " 'downloader/response_count': 904,\n",
      " 'downloader/response_status_count/200': 903,\n",
      " 'downloader/response_status_count/404': 1,\n",
      " 'dupefilter/filtered': 1,\n",
      " 'elapsed_time_seconds': 133.686799,\n",
      " 'finish_reason': 'finished',\n",
      " 'finish_time': datetime.datetime(2019, 11, 16, 23, 11, 20, 543933),\n",
      " 'httpcache/hit': 904,\n",
      " 'httperror/response_ignored_count': 1,\n",
      " 'httperror/response_ignored_status_count/404': 1,\n",
      " 'item_scraped_count': 786,\n",
      " 'log_count/DEBUG': 1692,\n",
      " 'log_count/ERROR': 1,\n",
      " 'log_count/INFO': 14,\n",
      " 'memusage/max': 229191680,\n",
      " 'memusage/startup': 136798208,\n",
      " 'request_depth_max': 35,\n",
      " 'response_received_count': 904,\n",
      " 'scheduler/dequeued': 904,\n",
      " 'scheduler/dequeued/memory': 904,\n",
      " 'scheduler/enqueued': 904,\n",
      " 'scheduler/enqueued/memory': 904,\n",
      " 'spider_exceptions/TypeError': 1,\n",
      " 'start_time': datetime.datetime(2019, 11, 16, 23, 9, 6, 857134)}\n",
      "2019-11-16 15:11:20 [scrapy.core.engine] INFO: Spider closed (finished)\n"
     ]
    },
    {
     "name": "stdout",
     "output_type": "stream",
     "text": [
      "\n",
      "None\n"
     ]
    }
   ],
   "source": [
    "import numpy as np\n",
    "import scrapy\n",
    "from scrapy.crawler import CrawlerProcess\n",
    "from scrapy import Spider\n",
    "import scrapy\n",
    "from scrapy import Request\n",
    "import time\n",
    "from collections import defaultdict\n",
    "\n",
    "class usb_hi_Spider(scrapy.Spider):\n",
    "        \n",
    "    name = \"surfboards\"\n",
    "    start_urls = [\"https://www.usedsurfboardshawaii.com/?post_type=product\"]\n",
    "    \n",
    "    def is_surfboard(self, response):\n",
    "        \n",
    "        surfboard_category_list = ['Big Guy Boards', 'Big Wave Gun', 'Boards from Pros', 'Bonzer', 'Carbon Fiber', 'Clearance',\n",
    "         'Collector Boards', 'Epoxy', 'Fish', 'Five-fin', 'Foam ', 'Grom', 'Groveler', 'Gun', 'Hybrid',\n",
    "         'Fun Board', 'Hybrid/Fun Board', 'Hydro Foil', 'Kite Boards', 'Longboard', 'Mini Simmons',\n",
    "         'On Sale', 'Quad', 'Semi-gun', 'Shortboard', 'Single Fin', 'Step-up', 'SUP', 'Twin Fin',\n",
    "         'Vintage Surfboards', 'Youth Shortboard']\n",
    "        surfboard_category_list = [tag.lower() for tag in surfboard_category_list]\n",
    "        \n",
    "        categories = ' '.join(response.xpath('//*[@class=\"posted_in\"]/a/text()').extract()).lower().split(' ')\n",
    "        related_category = 0\n",
    "        for category in categories:\n",
    "            if category in surfboard_category_list:\n",
    "                related_category += 1\n",
    "        if related_category > 0:\n",
    "            return True\n",
    "    \n",
    "    def attr_check_dict(self, response):\n",
    "        attr_dict = defaultdict(lambda: None)\n",
    "        for i in range(1,7):\n",
    "            attr = ''.join(response.xpath('//*[@class=\"product_description\"]/p[' + str(i) + ']/text()').extract())\n",
    "            \n",
    "            if attr == '':\n",
    "                continue\n",
    "                \n",
    "            if re.search(r'future|fcs|glassed\\s?on|lokbox|nsp|thruster|quad|single|twin|5[\\s?\\-]fin|5fin', attr.lower()) and i == 1:\n",
    "                attr_dict['type'] = attr\n",
    "\n",
    "            elif re.search('H(?=\\s*\\d+)', attr):\n",
    "                attr_dict['height'] = attr\n",
    "\n",
    "            elif re.search('W(?=\\s*\\d+)', attr):\n",
    "                attr_dict['width'] = attr\n",
    "\n",
    "            elif re.search('T(?=\\s*\\d+)', attr):\n",
    "                attr_dict['thickness'] = attr\n",
    "\n",
    "            elif re.search('V(?=\\s*\\d+)', attr):\n",
    "                attr_dict['volume'] = attr\n",
    "\n",
    "            elif i != 1:\n",
    "                attr_dict['description'] = \"\".join(line for line in response.xpath('//*[@class=\"product_description\"]/p[' + str(i) + ']/text()').extract())\n",
    "                break\n",
    "        \n",
    "        \n",
    "        sale_price = ''.join(response.xpath('//p[@class=\"price\"]/ins/span[1]/text()').extract()).strip('$').replace(',','')\n",
    "        regular_price = ''.join(response.xpath('//p[@class=\"price\"]/span[1]/text()').extract()).strip('$').replace(',','') \n",
    "        \n",
    "        if sale_price == '':\n",
    "            attr_dict['price'] = float(regular_price)\n",
    "        else:\n",
    "            attr_dict['price'] = float(sale_price)\n",
    "            \n",
    "        attr_dict['url'] = response.meta.get('URL')\n",
    "        attr_dict['title'] = ''.join(response.xpath('//h1[@class=\"product_title entry-title\"]/text()').extract())\n",
    "        attr_dict['condition'] = ''.join(response.xpath('//*[@class=\"woocommerce-product-attributes-item woocommerce-product-attributes-item--attribute_pa_condition\"]/td/p/text()').extract())\n",
    "        attr_dict['manufacturer'] = ''.join(response.xpath('//*[@class=\"woocommerce-product-attributes-item woocommerce-product-attributes-item--attribute_pa_shaper-of-board\"]/td/p/text()').extract())\n",
    "        \n",
    "        return attr_dict\n",
    "\n",
    "    def parse(self, response):\n",
    "        products = response.xpath('//*[@id=\"products-grid\"]/li')\n",
    "        print('Total: ', len(products))\n",
    "        for i,product in enumerate(products):\n",
    "            print('Processing {} out of {}'.format(i+1, len(products)))\n",
    "            \n",
    "            relative_url = product.xpath('a/@href').extract_first()\n",
    "\n",
    "            time.sleep(.1)\n",
    "\n",
    "            yield Request(relative_url, callback=self.parse_page, meta={'URL': relative_url})\n",
    "\n",
    "        relative_next_url = response.xpath('//*[@class=\"next page-numbers\"]/@href').extract_first()\n",
    "        \n",
    "        print()\n",
    "        print(relative_next_url)\n",
    "\n",
    "        yield Request(relative_next_url, callback=self.parse)\n",
    "        \n",
    "    def parse_page(self, response):\n",
    "        if self.is_surfboard(response) == True:\n",
    "            attr_dict = self.attr_check_dict(response)\n",
    "            yield {\n",
    "            'url': attr_dict['url'],\n",
    "            'title': attr_dict['title'],\n",
    "            'price': attr_dict['price'],\n",
    "            'description': attr_dict['description'],\n",
    "            'type': attr_dict['type'],    \n",
    "            'height': attr_dict['height'],\n",
    "            'width': attr_dict['width'],    \n",
    "            'thickness': attr_dict['thickness'],    \n",
    "            'condition': attr_dict['condition'],\n",
    "            'manufacturer': attr_dict['manufacturer']    \n",
    "            }\n",
    "process = CrawlerProcess({\n",
    "'FEED_FORMAT': 'json',\n",
    "'FEED_URI': 'used_surfboard_hawaii.json',\n",
    "'ROBOTSTXT_OBEY': False,\n",
    "'USER_AGENT': 'ThinkfulDataScienceBootcampCrawler (thinkful.com)',\n",
    "'AUTOTHROTTLE_ENABLED': True,\n",
    "'HTTPCACHE_ENABLED': True,\n",
    "'LOG_ENABLED': True\n",
    "# 'DOWNLOAD_DELAY' : 1\n",
    "})                             \n",
    "\n",
    "process.crawl(usb_hi_Spider)\n",
    "process.start()\n"
   ]
  }
 ],
 "metadata": {
  "kernelspec": {
   "display_name": "Python 3",
   "language": "python",
   "name": "python3"
  },
  "language_info": {
   "codemirror_mode": {
    "name": "ipython",
    "version": 3
   },
   "file_extension": ".py",
   "mimetype": "text/x-python",
   "name": "python",
   "nbconvert_exporter": "python",
   "pygments_lexer": "ipython3",
   "version": "3.7.1"
  },
  "toc": {
   "base_numbering": 1,
   "nav_menu": {},
   "number_sections": true,
   "sideBar": true,
   "skip_h1_title": false,
   "title_cell": "Table of Contents",
   "title_sidebar": "Contents",
   "toc_cell": true,
   "toc_position": {},
   "toc_section_display": true,
   "toc_window_display": false
  },
  "varInspector": {
   "cols": {
    "lenName": 16,
    "lenType": 16,
    "lenVar": 40
   },
   "kernels_config": {
    "python": {
     "delete_cmd_postfix": "",
     "delete_cmd_prefix": "del ",
     "library": "var_list.py",
     "varRefreshCmd": "print(var_dic_list())"
    },
    "r": {
     "delete_cmd_postfix": ") ",
     "delete_cmd_prefix": "rm(",
     "library": "var_list.r",
     "varRefreshCmd": "cat(var_dic_list()) "
    }
   },
   "types_to_exclude": [
    "module",
    "function",
    "builtin_function_or_method",
    "instance",
    "_Feature"
   ],
   "window_display": false
  }
 },
 "nbformat": 4,
 "nbformat_minor": 2
}
