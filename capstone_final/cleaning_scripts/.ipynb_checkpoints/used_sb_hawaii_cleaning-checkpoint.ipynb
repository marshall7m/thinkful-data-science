{
 "cells": [
  {
   "cell_type": "markdown",
   "metadata": {},
   "source": [
    "# Introduction"
   ]
  },
  {
   "cell_type": "markdown",
   "metadata": {},
   "source": [
    "### Imports"
   ]
  },
  {
   "cell_type": "code",
   "execution_count": 1,
   "metadata": {},
   "outputs": [
    {
     "name": "stderr",
     "output_type": "stream",
     "text": [
      "/Users/marshallmamiya/anaconda3/lib/python3.7/site-packages/matplotlib/__init__.py:886: MatplotlibDeprecationWarning: \n",
      "examples.directory is deprecated; in the future, examples will be found relative to the 'datapath' directory.\n",
      "  \"found relative to the 'datapath' directory.\".format(key))\n"
     ]
    }
   ],
   "source": [
    "\n",
    "import pandas as pd\n",
    "import numpy as np\n",
    "import matplotlib.pyplot as plt\n",
    "import seaborn as sns\n",
    "import re\n",
    "import json\n",
    "%matplotlib inline\n",
    "\n",
    "# Options for pandas\n",
    "pd.options.display.max_columns = 150\n",
    "pd.options.display.max_rows = 150\n",
    "pd.set_option('max_colwidth', 50000)\n"
   ]
  },
  {
   "cell_type": "markdown",
   "metadata": {
    "toc": true
   },
   "source": [
    "<h1>Table of Contents<span class=\"tocSkip\"></span></h1>\n",
    "<div class=\"toc\"><ul class=\"toc-item\"><li><span><a href=\"#Introduction\" data-toc-modified-id=\"Introduction-1\"><span class=\"toc-item-num\">1&nbsp;&nbsp;</span>Introduction</a></span><ul class=\"toc-item\"><li><ul class=\"toc-item\"><li><span><a href=\"#Imports\" data-toc-modified-id=\"Imports-1.0.1\"><span class=\"toc-item-num\">1.0.1&nbsp;&nbsp;</span>Imports</a></span></li></ul></li></ul></li><li><span><a href=\"#Single-Fix-Cases\" data-toc-modified-id=\"Single-Fix-Cases-2\"><span class=\"toc-item-num\">2&nbsp;&nbsp;</span>Single Fix Cases</a></span></li><li><span><a href=\"#Variable-Cleaning\" data-toc-modified-id=\"Variable-Cleaning-3\"><span class=\"toc-item-num\">3&nbsp;&nbsp;</span>Variable Cleaning</a></span></li><li><span><a href=\"#Export-Clean-Json\" data-toc-modified-id=\"Export-Clean-Json-4\"><span class=\"toc-item-num\">4&nbsp;&nbsp;</span>Export Clean Json</a></span></li></ul></div>"
   ]
  },
  {
   "cell_type": "code",
   "execution_count": 2,
   "metadata": {},
   "outputs": [],
   "source": [
    "with open('data/used_surfboard_hawaii.json') as datafile:\n",
    "    data = json.load(datafile)\n",
    "df = pd.DataFrame(data)\n"
   ]
  },
  {
   "cell_type": "code",
   "execution_count": 3,
   "metadata": {},
   "outputs": [],
   "source": [
    "df = df.dropna(how='any')"
   ]
  },
  {
   "cell_type": "code",
   "execution_count": 4,
   "metadata": {
    "scrolled": false
   },
   "outputs": [
    {
     "data": {
      "text/plain": [
       "734"
      ]
     },
     "execution_count": 4,
     "metadata": {},
     "output_type": "execute_result"
    }
   ],
   "source": [
    "len(df)"
   ]
  },
  {
   "cell_type": "markdown",
   "metadata": {},
   "source": [
    "# Single Fix Cases"
   ]
  },
  {
   "cell_type": "code",
   "execution_count": 6,
   "metadata": {},
   "outputs": [],
   "source": [
    "#fix grammatical mistakes\n",
    "\n",
    "df.at[675, 'width'] = 'W 21″'\n",
    "df.at[343, 'width'] = 'W 20 1/3″'\n",
    "df.at[647, 'width'] = 'W 19.75\"'\n",
    "\n",
    "df.at[596, 'thickness'] = 'T 2.43'\n",
    "df.at[614, 'thickness'] = 'T 2.32'\n",
    "df.at[626, 'thickness'] = 'T 2 5/16'\n",
    "df.at[719, 'thickness'] = 'T 2 1/4'\n",
    "df.at[262, 'thickness'] = 'T 2 1/2'\n",
    "df.at[647, 'thickness'] = 'T 2 3/8'\n"
   ]
  },
  {
   "cell_type": "markdown",
   "metadata": {},
   "source": [
    "# Variable Cleaning"
   ]
  },
  {
   "cell_type": "code",
   "execution_count": 5,
   "metadata": {},
   "outputs": [],
   "source": [
    "def dimension_to_float(int_list, height=False):\n",
    "\n",
    "    if height == True:\n",
    "        if len(int_list) == 1:\n",
    "            return int(int_list[0])\n",
    "        elif len(int_list) == 2:\n",
    "            return int(int_list[0]) + (int(int_list[1])/100)\n",
    "    else:\n",
    "        if len(int_list) == 1:\n",
    "            return int(int_list[0])\n",
    "        \n",
    "        elif len(int_list) == 2 and len(int_list[1]) == 1:\n",
    "            return int(int_list[0]) + (int(int_list[1])/10)\n",
    "        \n",
    "        elif len(int_list) == 2 and len(int_list[1]) >= 2:\n",
    "            return int(int_list[0]) + (int(int_list[1][:2])/100)\n",
    "        \n",
    "        else:\n",
    "            return int(int_list[0]) + (int(int_list[1])/int(int_list[2]))\n",
    "    \n",
    "def single_condition(text):\n",
    "    text_list = [condition.strip() for condition in text.lower().split(',')]\n",
    "    condition_list = ['new', 'like new', 'excellent', 'very good', 'good', 'fair', 'poor']\n",
    "    conditon_map = {'new':'new',\n",
    "                    'like new': 'like_new',\n",
    "                    'excellent': 'like_new',\n",
    "                    'very good': 'great',\n",
    "                    'good': 'good',\n",
    "                    'fair': 'fair',\n",
    "                    'poor': 'poor'}\n",
    "    \n",
    "    for condition in condition_list:\n",
    "        if condition in text_list:\n",
    "            return conditon_map[condition]\n",
    "                                    \n",
    "\n",
    "def extract_model_name(text):\n",
    "    matches = re.findall(r'(?<=\\().*?(?=\\))', text)\n",
    "    if len(matches) == 0:\n",
    "        matches = re.findall('(Round\\sPin|Squash|Round|Pin|Diamond|Swallow|Chop|Bat|Fish|Square) Tail(?=\\sRef#)', text)\n",
    "    if len(matches) == 0:\n",
    "        model = np.NaN\n",
    "    else:\n",
    "        model = matches[0]\n",
    "    return model"
   ]
  },
  {
   "cell_type": "code",
   "execution_count": 7,
   "metadata": {
    "scrolled": true
   },
   "outputs": [],
   "source": [
    "df['model_name'] = df['title'].apply(extract_model_name)\n",
    "\n",
    "df['height_list'] = df['height'].apply(lambda x: re.findall('\\d+(?=[ftin\\u0080-\\uFFFF])', x))\n",
    "df['height_float'] = df['height_list'].apply(lambda x: dimension_to_float(x, height=True))\n",
    "\n",
    "df['width_list'] = df['width'].apply(lambda x: re.findall('(?<=[A-Z]\\s)\\d+|(?<=[A-Z]\\s\\s)\\d+|\\d+(?=\\/)|(?<=[.\\/])\\d+', x))\n",
    "df['width_float'] = df['width_list'].apply(lambda x: dimension_to_float(x))\n",
    "\n",
    "df['thickness_list'] = df['thickness'].apply(lambda x: re.findall('(?<=[A-Z]\\s)\\d+|(?<=[A-Z]\\s\\s)\\d+|\\d+(?=\\/)|(?<=[.\\/])\\d+', x))\n",
    "df['thickness_float'] = df['thickness_list'].apply(lambda x: dimension_to_float(x))\n",
    "\n",
    "df['uni_condition'] = df['condition'].apply(single_condition)\n"
   ]
  },
  {
   "cell_type": "markdown",
   "metadata": {},
   "source": [
    "# Export Clean Json"
   ]
  },
  {
   "cell_type": "code",
   "execution_count": 8,
   "metadata": {},
   "outputs": [],
   "source": [
    "df.to_csv('data/clean_usb_data')"
   ]
  }
 ],
 "metadata": {
  "kernelspec": {
   "display_name": "Python 3",
   "language": "python",
   "name": "python3"
  },
  "language_info": {
   "codemirror_mode": {
    "name": "ipython",
    "version": 3
   },
   "file_extension": ".py",
   "mimetype": "text/x-python",
   "name": "python",
   "nbconvert_exporter": "python",
   "pygments_lexer": "ipython3",
   "version": "3.7.1"
  },
  "toc": {
   "base_numbering": 1,
   "nav_menu": {},
   "number_sections": true,
   "sideBar": true,
   "skip_h1_title": false,
   "title_cell": "Table of Contents",
   "title_sidebar": "Contents",
   "toc_cell": true,
   "toc_position": {},
   "toc_section_display": true,
   "toc_window_display": false
  },
  "varInspector": {
   "cols": {
    "lenName": 16,
    "lenType": 16,
    "lenVar": 40
   },
   "kernels_config": {
    "python": {
     "delete_cmd_postfix": "",
     "delete_cmd_prefix": "del ",
     "library": "var_list.py",
     "varRefreshCmd": "print(var_dic_list())"
    },
    "r": {
     "delete_cmd_postfix": ") ",
     "delete_cmd_prefix": "rm(",
     "library": "var_list.r",
     "varRefreshCmd": "cat(var_dic_list()) "
    }
   },
   "types_to_exclude": [
    "module",
    "function",
    "builtin_function_or_method",
    "instance",
    "_Feature"
   ],
   "window_display": false
  }
 },
 "nbformat": 4,
 "nbformat_minor": 2
}
