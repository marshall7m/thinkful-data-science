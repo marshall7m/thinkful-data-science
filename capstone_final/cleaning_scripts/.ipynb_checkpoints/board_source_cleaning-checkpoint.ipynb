{
 "cells": [
  {
   "cell_type": "markdown",
   "metadata": {
    "toc": true
   },
   "source": [
    "<h1>Table of Contents<span class=\"tocSkip\"></span></h1>\n",
    "<div class=\"toc\"><ul class=\"toc-item\"><li><span><a href=\"#Cleaning-Objectives:\" data-toc-modified-id=\"Cleaning-Objectives:-1\"><span class=\"toc-item-num\">1&nbsp;&nbsp;</span>Cleaning Objectives:</a></span><ul class=\"toc-item\"><li><ul class=\"toc-item\"><li><span><a href=\"#Imports\" data-toc-modified-id=\"Imports-1.0.1\"><span class=\"toc-item-num\">1.0.1&nbsp;&nbsp;</span>Imports</a></span></li></ul></li></ul></li><li><span><a href=\"#Clean-Description-Column\" data-toc-modified-id=\"Clean-Description-Column-2\"><span class=\"toc-item-num\">2&nbsp;&nbsp;</span>Clean Description Column</a></span></li><li><span><a href=\"#Create-Condition-Column\" data-toc-modified-id=\"Create-Condition-Column-3\"><span class=\"toc-item-num\">3&nbsp;&nbsp;</span>Create Condition Column</a></span></li><li><span><a href=\"#Create-Separate-Board-Dimension-Columns\" data-toc-modified-id=\"Create-Separate-Board-Dimension-Columns-4\"><span class=\"toc-item-num\">4&nbsp;&nbsp;</span>Create Separate Board Dimension Columns</a></span></li><li><span><a href=\"#Export-Clean-Json\" data-toc-modified-id=\"Export-Clean-Json-5\"><span class=\"toc-item-num\">5&nbsp;&nbsp;</span>Export Clean Json</a></span></li></ul></div>"
   ]
  },
  {
   "cell_type": "markdown",
   "metadata": {},
   "source": [
    "# Cleaning Objectives:\n",
    "    - Remove HTML tags from description\n",
    "    - Extract condition from description\n",
    "    - Separate board dimensions into separate columns\n",
    "    "
   ]
  },
  {
   "cell_type": "markdown",
   "metadata": {},
   "source": [
    "### Imports"
   ]
  },
  {
   "cell_type": "code",
   "execution_count": 88,
   "metadata": {},
   "outputs": [],
   "source": [
    "\n",
    "import pandas as pd\n",
    "import numpy as np\n",
    "import matplotlib.pyplot as plt\n",
    "import seaborn as sns\n",
    "import re\n",
    "import json\n",
    "from collections import Counter\n",
    "%matplotlib inline\n",
    "\n",
    "# Options for pandas\n",
    "pd.options.display.max_columns = 150\n",
    "pd.options.display.max_rows = 150\n",
    "pd.set_option('max_colwidth', 50000)\n"
   ]
  },
  {
   "cell_type": "code",
   "execution_count": 89,
   "metadata": {
    "scrolled": false
   },
   "outputs": [
    {
     "name": "stdout",
     "output_type": "stream",
     "text": [
      "/Users/marshallmamiya/courses/thinkful_ds/capstone_final/data\n"
     ]
    }
   ],
   "source": [
    "cd ~/courses/thinkful_ds/capstone_final/data/"
   ]
  },
  {
   "cell_type": "code",
   "execution_count": 90,
   "metadata": {},
   "outputs": [
    {
     "name": "stdout",
     "output_type": "stream",
     "text": [
      "Original Count:  3023\n"
     ]
    }
   ],
   "source": [
    "with open('raw_data/board_source_surfboards.json') as datafile:\n",
    "    data = json.load(datafile)\n",
    "df = pd.DataFrame(data)\n",
    "\n",
    "original_count = len(df)\n",
    "print('Original Count: ', original_count)"
   ]
  },
  {
   "cell_type": "markdown",
   "metadata": {},
   "source": [
    "# Clean Description Column"
   ]
  },
  {
   "cell_type": "code",
   "execution_count": 91,
   "metadata": {},
   "outputs": [],
   "source": [
    "df['description'] = df['description_list']"
   ]
  },
  {
   "cell_type": "code",
   "execution_count": 92,
   "metadata": {},
   "outputs": [],
   "source": [
    "def clean_text(text, word_list=False):\n",
    "    if word_list == True:\n",
    "        stripped_text = re.sub(r'\\\\n|\\n|[(),?.!@#$&*:\\/]', ' ', text).strip().lower()\n",
    "        clean_text = [word for word in stripped_text.split(' ') if word != '']\n",
    "\n",
    "    else:\n",
    "        clean_text = re.sub(r'\\\\n|\\n|[(),?.!@#$&*:\\/]', ' ', text).strip().lower()\n",
    "    \n",
    "    return clean_text"
   ]
  },
  {
   "cell_type": "markdown",
   "metadata": {},
   "source": [
    "# Create Condition Column"
   ]
  },
  {
   "cell_type": "code",
   "execution_count": 93,
   "metadata": {},
   "outputs": [],
   "source": [
    "def extract_condition(description_word_list):\n",
    "    condition_list = ['new', 'like new', 'excellent', 'great', 'good', 'fair', 'poor']\n",
    "    condition_bigram = ['in to', 'in condition']\n",
    "    for i,word in enumerate(description_word_list):\n",
    "        if word in condition_list:\n",
    "            if description_word_list[i-1] == 'like':\n",
    "                return 'like_new'\n",
    "            else:\n",
    "                return word\n",
    "    "
   ]
  },
  {
   "cell_type": "code",
   "execution_count": 94,
   "metadata": {},
   "outputs": [],
   "source": [
    "df['description_word_list'] = df['description'].apply(lambda x: clean_text(x, word_list=True))\n",
    "df['condition'] = df['description_word_list'].apply(extract_condition)"
   ]
  },
  {
   "cell_type": "code",
   "execution_count": 95,
   "metadata": {
    "scrolled": true
   },
   "outputs": [
    {
     "name": "stderr",
     "output_type": "stream",
     "text": [
      "/Users/marshallmamiya/anaconda3/lib/python3.7/site-packages/ipykernel_launcher.py:2: SettingWithCopyWarning: \n",
      "A value is trying to be set on a copy of a slice from a DataFrame.\n",
      "Try using .loc[row_indexer,col_indexer] = value instead\n",
      "\n",
      "See the caveats in the documentation: http://pandas.pydata.org/pandas-docs/stable/indexing.html#indexing-view-versus-copy\n",
      "  \n"
     ]
    }
   ],
   "source": [
    "null_condition_df = df[df['condition'].isnull()]\n",
    "null_condition_df['condition'] = null_condition_df['title'].apply(lambda x: extract_condition(clean_text(x)))\n",
    "\n",
    "df.loc[df['condition'].isnull(), 'condition'] = null_condition_df['condition']\n"
   ]
  },
  {
   "cell_type": "code",
   "execution_count": 96,
   "metadata": {},
   "outputs": [
    {
     "name": "stdout",
     "output_type": "stream",
     "text": [
      "Previous Count:  3023\n",
      "Current Count:  2723\n"
     ]
    }
   ],
   "source": [
    "print('Previous Count: ', len(df))\n",
    "\n",
    "df.dropna(subset=['condition'], inplace=True)\n",
    "\n",
    "print('Current Count: ', len(df))"
   ]
  },
  {
   "cell_type": "markdown",
   "metadata": {},
   "source": [
    "# Create Separate Board Dimension Columns"
   ]
  },
  {
   "cell_type": "code",
   "execution_count": 97,
   "metadata": {},
   "outputs": [],
   "source": [
    "def dimension_to_float(board_dimensions, pattern, dimension_type):\n",
    "    uni_dimension_list = re.findall(pattern, board_dimensions.strip())\n",
    "\n",
    "    if uni_dimension_list == []:\n",
    "        return np.NaN\n",
    "    \n",
    "    if dimension_type == 'height':\n",
    "        \n",
    "        if len(uni_dimension_list) == 1:\n",
    "            return float(uni_dimension_list[0])\n",
    "        elif len(uni_dimension_list) == 2:\n",
    "            return int(uni_dimension_list[0]) + (int(uni_dimension_list[1])/100)\n",
    "    \n",
    "    else:\n",
    "        \n",
    "        if len(uni_dimension_list) == 1:\n",
    "            return float(uni_dimension_list[0])\n",
    "        \n",
    "        elif len(uni_dimension_list) == 2 and len(uni_dimension_list[1]) == 1:\n",
    "            return int(uni_dimension_list[0]) + (int(uni_dimension_list[1])/10)\n",
    "        \n",
    "        elif len(uni_dimension_list) == 2 and len(uni_dimension_list[1]) >= 2:\n",
    "            return int(uni_dimension_list[0]) + (int(uni_dimension_list[1][:2])/100)\n",
    "        \n",
    "        else:\n",
    "            return int(uni_dimension_list[0]) + (int(uni_dimension_list[1])/int(uni_dimension_list[2]))\n",
    "                                    "
   ]
  },
  {
   "cell_type": "code",
   "execution_count": 98,
   "metadata": {},
   "outputs": [],
   "source": [
    "height_pattern = re.compile(r\"\"\"\n",
    "                                                             # RE Pattern Description \n",
    "(?<=^)\\d{1,2}(?=\\'?\\s[Xx])                                   # (?<= Start of Str) Feet (?= X or x)\n",
    "|(?<=^)\\d{1,2}(?=\\'?\\d{1,2}\\\"?\\s[Xx]|\\'?\\d{1,2}\\'\\'?\\s[Xx])  # (?<= Start of Str) Feet (?= Inches, '' or \", X or x)\n",
    "|(?<=\\d\\')\\d{1,2}(?=\\\"?\\s[Xx]|\\'\\'?\\s[Xx])                   # (?<= Feet) Inches (?= ' or '' or , X or X)\n",
    "\"\"\", re.X)\n",
    "\n",
    "width_pattern = re.compile(r\"\"\"\n",
    "(?<=[Xx]\\s)\\d{2}(?=\\\"?\\s[Xx])                                # Inches (?= X or x)\n",
    "|(?<=[Xx]\\s)\\d{2}\\.\\d+(?=\\\"?\\s[Xx])                          # Float Inches (?= X or x)\n",
    "|(?<=[Xx]\\s)\\d{2}(?=\\s\\d+\\/\\d+\\\"?\\s[Xx])                     # Inches (?= Fraction, X or x)\n",
    "|(?<=\\d{2}\\s)\\d+(?=\\/\\d+\\\"?\\s[Xx])                           # Numerator Inches (?= /Denominator, X or x)\n",
    "|(?<=\\d\\/)\\d+(?=\\\"?\\s[Xx])                                   # Denominator Inches (?= X or x)\n",
    "\"\"\", re.X)\n",
    "\n",
    "\n",
    "thickness_pattern = re.compile(r\"\"\"\n",
    "(?<=[Xx]\\s)\\d(?=\\s\\d+\\/\\d+$)                                 # (?<= X or x) Inches (?= Fraction, End of Str)\n",
    "|(?<=[Xx]\\s)\\d(?=\\s\\d+\\/\\d+\\s\\()                             # (?<= X or x) Inches (?= Fraction, Board Liters)\n",
    "|(?<=[Xx]\\s)\\d(?=\\s\\(|$)                                     # (?<= X or x) Inches (?= End of Str)\n",
    "|(?<=[Xx]\\s)\\d\\.\\d+(?=\\s\\(|$)                                # (?<= X or x) Float Inches (?= Board Liters OR End of Str)\n",
    "|(?<=\\d\\s)\\d+(?=\\/\\d+$)                                      # (?<= Inches) Numerator Inches (?= /Denominator, End of Str)\n",
    "|(?<=\\d\\s)\\d+(?=\\/\\d+\\s\\()                                   # (?<= Inches) Numerator Inches (?= /Denominator, Board Liters)\n",
    "|(?<=\\d\\/)\\d+(?=\\s\\()                                        # (?<= Numerator/) Denominator Inches (?= Board Liters)\n",
    "|(?<=\\d\\/)\\d+(?=$)                                           # (?<= Numerator/) Denominator Inches (End of Str)\n",
    "\"\"\", re.X)"
   ]
  },
  {
   "cell_type": "code",
   "execution_count": 99,
   "metadata": {},
   "outputs": [],
   "source": [
    "df['height'] = df['board_dimensions'].apply(lambda x: dimension_to_float(x, height_pattern, dimension_type='height'))\n",
    "df['width'] = df['board_dimensions'].apply(lambda x: dimension_to_float(x, width_pattern, dimension_type='width'))\n",
    "df['thickness'] = df['board_dimensions'].apply(lambda x: dimension_to_float(x, thickness_pattern, dimension_type='thickness'))\n",
    "\n",
    "df['clean_price'] = df['price'].apply(lambda x: float(x.strip('$')))\n",
    "df['clean_manufacturer'] = df['manufacturer'].apply(clean_text)\n",
    "df['clean_model_name'] = df['model_name'].apply(clean_text)\n",
    "\n",
    "\n"
   ]
  },
  {
   "cell_type": "code",
   "execution_count": 100,
   "metadata": {
    "scrolled": true
   },
   "outputs": [
    {
     "data": {
      "text/plain": [
       "manufacturer             0.000000\n",
       "model_name               0.000000\n",
       "board_dimensions         0.000000\n",
       "price                    0.000000\n",
       "url                      0.000000\n",
       "title                    0.000000\n",
       "description_list         0.000000\n",
       "description              0.000000\n",
       "description_word_list    0.000000\n",
       "condition                0.000000\n",
       "height                   1.175174\n",
       "width                    0.220345\n",
       "thickness                0.036724\n",
       "clean_price              0.000000\n",
       "clean_manufacturer       0.000000\n",
       "clean_model_name         0.000000\n",
       "dtype: float64"
      ]
     },
     "execution_count": 100,
     "metadata": {},
     "output_type": "execute_result"
    }
   ],
   "source": [
    "df.isnull().sum()/df.isnull().count()*100"
   ]
  },
  {
   "cell_type": "code",
   "execution_count": 101,
   "metadata": {},
   "outputs": [
    {
     "name": "stdout",
     "output_type": "stream",
     "text": [
      "Previous Count:  2723\n",
      "Current Count:  2685\n"
     ]
    }
   ],
   "source": [
    "print('Previous Count: ', len(df))\n",
    "\n",
    "df = df.dropna(subset=['height', 'width', 'thickness']).reset_index(drop=True)\n",
    "\n",
    "print('Current Count: ', len(df))\n"
   ]
  },
  {
   "cell_type": "markdown",
   "metadata": {},
   "source": [
    "# Export Clean Json"
   ]
  },
  {
   "cell_type": "code",
   "execution_count": 102,
   "metadata": {},
   "outputs": [],
   "source": [
    "clean_df = df[['clean_manufacturer', 'clean_model_name', 'clean_price', 'description_word_list', 'condition', 'height', 'width', 'thickness']]"
   ]
  },
  {
   "cell_type": "code",
   "execution_count": 103,
   "metadata": {},
   "outputs": [],
   "source": [
    "clean_df = clean_df.rename(columns={\n",
    "    'clean_manufacturer': 'manufacturer',\n",
    "    'clean_model_name': 'model_name',\n",
    "    'clean_price': 'price'\n",
    "    })"
   ]
  },
  {
   "cell_type": "code",
   "execution_count": 104,
   "metadata": {},
   "outputs": [
    {
     "data": {
      "text/html": [
       "<div>\n",
       "<style scoped>\n",
       "    .dataframe tbody tr th:only-of-type {\n",
       "        vertical-align: middle;\n",
       "    }\n",
       "\n",
       "    .dataframe tbody tr th {\n",
       "        vertical-align: top;\n",
       "    }\n",
       "\n",
       "    .dataframe thead th {\n",
       "        text-align: right;\n",
       "    }\n",
       "</style>\n",
       "<table border=\"1\" class=\"dataframe\">\n",
       "  <thead>\n",
       "    <tr style=\"text-align: right;\">\n",
       "      <th></th>\n",
       "      <th>manufacturer</th>\n",
       "      <th>model_name</th>\n",
       "      <th>price</th>\n",
       "      <th>description_word_list</th>\n",
       "      <th>condition</th>\n",
       "      <th>height</th>\n",
       "      <th>width</th>\n",
       "      <th>thickness</th>\n",
       "    </tr>\n",
       "  </thead>\n",
       "  <tbody>\n",
       "    <tr>\n",
       "      <th>0</th>\n",
       "      <td>7s</td>\n",
       "      <td>superfish</td>\n",
       "      <td>325.0</td>\n",
       "      <td>[this, board, is, in, excellent, condition, with, light, pressures, and, no, dings, fins, and, traction, are, available, at, a, discounted, price, with, all, surfboard, purchases, the, superfish, is, a, great, balance, of, stability, and, turning, in, a, fish, hybrid]</td>\n",
       "      <td>excellent</td>\n",
       "      <td>6.06</td>\n",
       "      <td>20.75</td>\n",
       "      <td>2.750</td>\n",
       "    </tr>\n",
       "    <tr>\n",
       "      <th>1</th>\n",
       "      <td>wave tools</td>\n",
       "      <td>classic twin fin</td>\n",
       "      <td>525.0</td>\n",
       "      <td>[this, board, is, in, excellent, near, new, condition, with, no, very, light, pressures, and, no, dings, fins, are, available, at, a, discounted, price, with, all, surfboard, purchases, wave, tools, twin, fins, became, the, 1, seller, over, all, surf, brands, in, the, 1980’s, when, lance, collins, developed, the, lift, and, rails, that, made, twins, so, successful]</td>\n",
       "      <td>excellent</td>\n",
       "      <td>6.02</td>\n",
       "      <td>21.50</td>\n",
       "      <td>3.125</td>\n",
       "    </tr>\n",
       "    <tr>\n",
       "      <th>2</th>\n",
       "      <td>easy button</td>\n",
       "      <td>mini longboard 4+1</td>\n",
       "      <td>575.0</td>\n",
       "      <td>[this, board, is, brand, new, full, resin, tint, with, fin, and, deck, patch, this, is, easy, button’s, no, logo, version, fins, are, available, at, a, discounted, price, with, all, surfboard, purchases, american, made, classic, longboard, shape, in, a, mini, version, super, fun, and, maneuverable, to, surf, gives, you, the, paddle, power, of, a, longboard, without, having, to, lug, around, a, 9′, plus, board, concave, scooped, nose, 4+1, fcs, fin, system, can, be, ridden, as, a, quad, 2+1, or, single]</td>\n",
       "      <td>new</td>\n",
       "      <td>7.06</td>\n",
       "      <td>22.00</td>\n",
       "      <td>2.875</td>\n",
       "    </tr>\n",
       "    <tr>\n",
       "      <th>3</th>\n",
       "      <td>mandala</td>\n",
       "      <td>parabola mini glider</td>\n",
       "      <td>1120.0</td>\n",
       "      <td>[this, board, is, brand, new, fins, are, available, at, a, discounted, price, with, all, surfboard, purchases, the, parabola, has, an, almost, parabolic, template, meaning, the, nose, and, tail, are, almost, the, same, width, it, has, a, hulled, out, bottom, and, has, minimal, rocker, all, making, for, a, fast, and, very, fun, board]</td>\n",
       "      <td>new</td>\n",
       "      <td>8.08</td>\n",
       "      <td>23.00</td>\n",
       "      <td>3.125</td>\n",
       "    </tr>\n",
       "    <tr>\n",
       "      <th>4</th>\n",
       "      <td>minard</td>\n",
       "      <td>mid-length</td>\n",
       "      <td>375.0</td>\n",
       "      <td>[this, board, is, in, excellent, condition, with, no, dings, and, very, mild, pressures]</td>\n",
       "      <td>excellent</td>\n",
       "      <td>6.10</td>\n",
       "      <td>20.75</td>\n",
       "      <td>2.875</td>\n",
       "    </tr>\n",
       "  </tbody>\n",
       "</table>\n",
       "</div>"
      ],
      "text/plain": [
       "  manufacturer            model_name   price  \\\n",
       "0           7s             superfish   325.0   \n",
       "1   wave tools      classic twin fin   525.0   \n",
       "2  easy button    mini longboard 4+1   575.0   \n",
       "3      mandala  parabola mini glider  1120.0   \n",
       "4       minard            mid-length   375.0   \n",
       "\n",
       "                                                                                                                                                                                                                                                                                                                                                                                                                                                                                                         description_word_list  \\\n",
       "0                                                                                                                                                                                                                                                 [this, board, is, in, excellent, condition, with, light, pressures, and, no, dings, fins, and, traction, are, available, at, a, discounted, price, with, all, surfboard, purchases, the, superfish, is, a, great, balance, of, stability, and, turning, in, a, fish, hybrid]   \n",
       "1                                                                                                                                              [this, board, is, in, excellent, near, new, condition, with, no, very, light, pressures, and, no, dings, fins, are, available, at, a, discounted, price, with, all, surfboard, purchases, wave, tools, twin, fins, became, the, 1, seller, over, all, surf, brands, in, the, 1980’s, when, lance, collins, developed, the, lift, and, rails, that, made, twins, so, successful]   \n",
       "2  [this, board, is, brand, new, full, resin, tint, with, fin, and, deck, patch, this, is, easy, button’s, no, logo, version, fins, are, available, at, a, discounted, price, with, all, surfboard, purchases, american, made, classic, longboard, shape, in, a, mini, version, super, fun, and, maneuverable, to, surf, gives, you, the, paddle, power, of, a, longboard, without, having, to, lug, around, a, 9′, plus, board, concave, scooped, nose, 4+1, fcs, fin, system, can, be, ridden, as, a, quad, 2+1, or, single]   \n",
       "3                                                                                                                                                                              [this, board, is, brand, new, fins, are, available, at, a, discounted, price, with, all, surfboard, purchases, the, parabola, has, an, almost, parabolic, template, meaning, the, nose, and, tail, are, almost, the, same, width, it, has, a, hulled, out, bottom, and, has, minimal, rocker, all, making, for, a, fast, and, very, fun, board]   \n",
       "4                                                                                                                                                                                                                                                                                                                                                                                                                                     [this, board, is, in, excellent, condition, with, no, dings, and, very, mild, pressures]   \n",
       "\n",
       "   condition  height  width  thickness  \n",
       "0  excellent    6.06  20.75      2.750  \n",
       "1  excellent    6.02  21.50      3.125  \n",
       "2        new    7.06  22.00      2.875  \n",
       "3        new    8.08  23.00      3.125  \n",
       "4  excellent    6.10  20.75      2.875  "
      ]
     },
     "execution_count": 104,
     "metadata": {},
     "output_type": "execute_result"
    }
   ],
   "source": [
    "clean_df.head()"
   ]
  },
  {
   "cell_type": "code",
   "execution_count": 105,
   "metadata": {},
   "outputs": [],
   "source": [
    "# fix data entry grammatical mistake (10\" to 10')\n",
    "clean_df.at[1760, 'height'] = 10.0\n",
    "\n",
    "# fix data entry grammatical mistake (7/16\" to 2.438 (2 7/16\"))\n",
    "clean_df.at[386, 'thickness'] = 2.438\n",
    "clean_df.at[1291, 'thickness'] = 2.438\n",
    "\n",
    "# fix data entry grammatical mistake (5/8\" to 2.625 (2 5/8\"))\n",
    "clean_df.at[1437, 'thickness'] = 2.625\n"
   ]
  },
  {
   "cell_type": "code",
   "execution_count": 106,
   "metadata": {},
   "outputs": [],
   "source": [
    "clean_df.to_json('clean_data/clean_board_source_data.json')"
   ]
  }
 ],
 "metadata": {
  "kernelspec": {
   "display_name": "Python 3",
   "language": "python",
   "name": "python3"
  },
  "language_info": {
   "codemirror_mode": {
    "name": "ipython",
    "version": 3
   },
   "file_extension": ".py",
   "mimetype": "text/x-python",
   "name": "python",
   "nbconvert_exporter": "python",
   "pygments_lexer": "ipython3",
   "version": "3.7.1"
  },
  "toc": {
   "base_numbering": 1,
   "nav_menu": {},
   "number_sections": true,
   "sideBar": true,
   "skip_h1_title": false,
   "title_cell": "Table of Contents",
   "title_sidebar": "Contents",
   "toc_cell": true,
   "toc_position": {},
   "toc_section_display": true,
   "toc_window_display": false
  },
  "varInspector": {
   "cols": {
    "lenName": 16,
    "lenType": 16,
    "lenVar": 40
   },
   "kernels_config": {
    "python": {
     "delete_cmd_postfix": "",
     "delete_cmd_prefix": "del ",
     "library": "var_list.py",
     "varRefreshCmd": "print(var_dic_list())"
    },
    "r": {
     "delete_cmd_postfix": ") ",
     "delete_cmd_prefix": "rm(",
     "library": "var_list.r",
     "varRefreshCmd": "cat(var_dic_list()) "
    }
   },
   "types_to_exclude": [
    "module",
    "function",
    "builtin_function_or_method",
    "instance",
    "_Feature"
   ],
   "window_display": false
  }
 },
 "nbformat": 4,
 "nbformat_minor": 2
}
