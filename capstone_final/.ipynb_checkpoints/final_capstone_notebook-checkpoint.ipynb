{
 "cells": [
  {
   "cell_type": "markdown",
   "metadata": {},
   "source": [
    "# Introduction"
   ]
  },
  {
   "cell_type": "markdown",
   "metadata": {},
   "source": [
    "### Imports"
   ]
  },
  {
   "cell_type": "code",
   "execution_count": 1,
   "metadata": {
    "scrolled": true
   },
   "outputs": [
    {
     "name": "stderr",
     "output_type": "stream",
     "text": [
      "/Users/marshallmamiya/anaconda3/lib/python3.7/site-packages/matplotlib/__init__.py:886: MatplotlibDeprecationWarning: \n",
      "examples.directory is deprecated; in the future, examples will be found relative to the 'datapath' directory.\n",
      "  \"found relative to the 'datapath' directory.\".format(key))\n"
     ]
    }
   ],
   "source": [
    "\n",
    "import pandas as pd\n",
    "import numpy as np\n",
    "import matplotlib.pyplot as plt\n",
    "import seaborn as sns\n",
    "import re\n",
    "import json\n",
    "from collections import Counter\n",
    "\n",
    "\n",
    "import statsmodels.api as sm\n",
    "from sklearn.linear_model import LinearRegression, LassoCV, ElasticNetCV, RidgeCV, Lasso, Ridge, ElasticNet\n",
    "\n",
    "from sklearn.model_selection import train_test_split\n",
    "from sklearn.model_selection import cross_validate, GridSearchCV\n",
    "from sklearn.metrics import mean_absolute_error\n",
    "from statsmodels.tools.eval_measures import mse, rmse\n",
    "\n",
    "%matplotlib inline\n",
    "\n",
    "# Options for pandas\n",
    "pd.options.display.max_columns = 150\n",
    "pd.options.display.max_rows = 150\n",
    "pd.options.display.max_colwidth = 200"
   ]
  },
  {
   "cell_type": "markdown",
   "metadata": {
    "toc": true
   },
   "source": [
    "<h1>Table of Contents<span class=\"tocSkip\"></span></h1>\n",
    "<div class=\"toc\"><ul class=\"toc-item\"><li><span><a href=\"#Introduction\" data-toc-modified-id=\"Introduction-1\"><span class=\"toc-item-num\">1&nbsp;&nbsp;</span>Introduction</a></span><ul class=\"toc-item\"><li><ul class=\"toc-item\"><li><span><a href=\"#Imports\" data-toc-modified-id=\"Imports-1.0.1\"><span class=\"toc-item-num\">1.0.1&nbsp;&nbsp;</span>Imports</a></span></li></ul></li></ul></li><li><span><a href=\"#Modeling\" data-toc-modified-id=\"Modeling-2\"><span class=\"toc-item-num\">2&nbsp;&nbsp;</span>Modeling</a></span></li></ul></div>"
   ]
  },
  {
   "cell_type": "code",
   "execution_count": 9,
   "metadata": {
    "scrolled": true
   },
   "outputs": [],
   "source": [
    "with open('data/honolulu_craiglist_surfboards.json') as datafile:\n",
    "    data = json.load(datafile)\n",
    "hi_df = pd.DataFrame(data)\n",
    "\n",
    "with open('data/los_angeles_craiglist_surfboards.json') as datafile:\n",
    "    data = json.load(datafile)\n",
    "la_df = pd.DataFrame(data)\n",
    "\n",
    "with open('data/san_diego_craiglist_surfboards.json') as datafile:\n",
    "    data = json.load(datafile)\n",
    "sd_df = pd.DataFrame(data)\n",
    "\n",
    "df = hi_df.append([la_df,sd_df])"
   ]
  },
  {
   "cell_type": "code",
   "execution_count": 10,
   "metadata": {
    "scrolled": true
   },
   "outputs": [
    {
     "data": {
      "text/html": [
       "<div>\n",
       "<style scoped>\n",
       "    .dataframe tbody tr th:only-of-type {\n",
       "        vertical-align: middle;\n",
       "    }\n",
       "\n",
       "    .dataframe tbody tr th {\n",
       "        vertical-align: top;\n",
       "    }\n",
       "\n",
       "    .dataframe thead th {\n",
       "        text-align: right;\n",
       "    }\n",
       "</style>\n",
       "<table border=\"1\" class=\"dataframe\">\n",
       "  <thead>\n",
       "    <tr style=\"text-align: right;\">\n",
       "      <th></th>\n",
       "      <th>condition</th>\n",
       "      <th>description</th>\n",
       "      <th>location</th>\n",
       "      <th>manufacturer</th>\n",
       "      <th>model_name</th>\n",
       "      <th>price</th>\n",
       "      <th>size_dimensions</th>\n",
       "      <th>title</th>\n",
       "      <th>url</th>\n",
       "    </tr>\n",
       "  </thead>\n",
       "  <tbody>\n",
       "    <tr>\n",
       "      <th>0</th>\n",
       "      <td>NaN</td>\n",
       "      <td>\\n        \\nVery good condition wade tokoro shortboard surfboard, fcsii fin boxes, no dings, very little use\\n\\n5’8 x 19 x 2.25\\n\\nThank you\\n\\n\\n\\nSurfboards, surf board, boards, board, fins, fcs...</td>\n",
       "      <td>Honolulu</td>\n",
       "      <td>NaN</td>\n",
       "      <td>NaN</td>\n",
       "      <td>250.0</td>\n",
       "      <td>NaN</td>\n",
       "      <td>Tokoro surfboard</td>\n",
       "      <td>https://honolulu.craigslist.org/oah/spo/d/honolulu-tokoro-surfboard/7005760652.html</td>\n",
       "    </tr>\n",
       "    <tr>\n",
       "      <th>1</th>\n",
       "      <td>excellent</td>\n",
       "      <td>\\n        \\n6'2\"x20.5x2 prototype board from Eric Arakawa. made for an industry pro. Biaxial fiberglass. FCS boxes, thruster. Waist of the board is farther towards the tail making a fun board that...</td>\n",
       "      <td>Honolulu</td>\n",
       "      <td>Eric Arakawa</td>\n",
       "      <td>Prototype</td>\n",
       "      <td>180.0</td>\n",
       "      <td>NaN</td>\n",
       "      <td>Arakawa Prototype Surfboard</td>\n",
       "      <td>https://honolulu.craigslist.org/oah/spo/d/wheeler-army-airfield-arakawa-prototype/7011893010.html</td>\n",
       "    </tr>\n",
       "    <tr>\n",
       "      <th>2</th>\n",
       "      <td>good</td>\n",
       "      <td>\\n        \\nAndreini surfboard. 6'6\". Large volume. Board had delam on top, it was repaired and sealed, but not filled/leveled with q-cell. Futures fin boxes in a tri/thruster. Cheap plastic fins ...</td>\n",
       "      <td>Honolulu</td>\n",
       "      <td>Andreini</td>\n",
       "      <td>NaN</td>\n",
       "      <td>80.0</td>\n",
       "      <td>6'6\"x20\"x2\"</td>\n",
       "      <td>Andreini Surfboard</td>\n",
       "      <td>https://honolulu.craigslist.org/oah/spo/d/wheeler-army-airfield-andreini-surfboard/7011895192.html</td>\n",
       "    </tr>\n",
       "    <tr>\n",
       "      <th>3</th>\n",
       "      <td>good</td>\n",
       "      <td>\\n        \\n5’11 x 18.75 x 2.37 - 27.46L\\n\\nKrank model by J. Kashiwai. Squash tail w/ future box thruster setup.\\n\\nBoard is in decent to good condition. No open dings at all and still has a lot ...</td>\n",
       "      <td>Honolulu</td>\n",
       "      <td>Jason Kashiwai</td>\n",
       "      <td>Krank</td>\n",
       "      <td>250.0</td>\n",
       "      <td>5’11 x 18.75 x 2.37 = 27.46L</td>\n",
       "      <td>5’11 J. Kashiwai “Krank” Surfboard w/ Fins</td>\n",
       "      <td>https://honolulu.craigslist.org/oah/spo/d/honolulu-511-kashiwai-krank-surfboard/7011909978.html</td>\n",
       "    </tr>\n",
       "    <tr>\n",
       "      <th>4</th>\n",
       "      <td>NaN</td>\n",
       "      <td>\\n        \\n6' Egg Shortboard Surfboard with fins\\n\\nThe listed dimensions are 6’ x 19 3/4 x 2 3/4\\n\\n</td>\n",
       "      <td>Honolulu</td>\n",
       "      <td>NaN</td>\n",
       "      <td>NaN</td>\n",
       "      <td>220.0</td>\n",
       "      <td>6'</td>\n",
       "      <td>6' Egg Shortboard Surfboard</td>\n",
       "      <td>https://honolulu.craigslist.org/oah/spo/d/honolulu-6-egg-shortboard-surfboard/7011911532.html</td>\n",
       "    </tr>\n",
       "  </tbody>\n",
       "</table>\n",
       "</div>"
      ],
      "text/plain": [
       "   condition  \\\n",
       "0        NaN   \n",
       "1  excellent   \n",
       "2       good   \n",
       "3       good   \n",
       "4        NaN   \n",
       "\n",
       "                                                                                                                                                                                               description  \\\n",
       "0  \\n        \\nVery good condition wade tokoro shortboard surfboard, fcsii fin boxes, no dings, very little use\\n\\n5’8 x 19 x 2.25\\n\\nThank you\\n\\n\\n\\nSurfboards, surf board, boards, board, fins, fcs...   \n",
       "1  \\n        \\n6'2\"x20.5x2 prototype board from Eric Arakawa. made for an industry pro. Biaxial fiberglass. FCS boxes, thruster. Waist of the board is farther towards the tail making a fun board that...   \n",
       "2  \\n        \\nAndreini surfboard. 6'6\". Large volume. Board had delam on top, it was repaired and sealed, but not filled/leveled with q-cell. Futures fin boxes in a tri/thruster. Cheap plastic fins ...   \n",
       "3  \\n        \\n5’11 x 18.75 x 2.37 - 27.46L\\n\\nKrank model by J. Kashiwai. Squash tail w/ future box thruster setup.\\n\\nBoard is in decent to good condition. No open dings at all and still has a lot ...   \n",
       "4                                                                                               \\n        \\n6' Egg Shortboard Surfboard with fins\\n\\nThe listed dimensions are 6’ x 19 3/4 x 2 3/4\\n\\n       \n",
       "\n",
       "   location    manufacturer model_name  price               size_dimensions  \\\n",
       "0  Honolulu             NaN        NaN  250.0                           NaN   \n",
       "1  Honolulu    Eric Arakawa  Prototype  180.0                           NaN   \n",
       "2  Honolulu        Andreini        NaN   80.0                   6'6\"x20\"x2\"   \n",
       "3  Honolulu  Jason Kashiwai      Krank  250.0  5’11 x 18.75 x 2.37 = 27.46L   \n",
       "4  Honolulu             NaN        NaN  220.0                            6'   \n",
       "\n",
       "                                        title  \\\n",
       "0                            Tokoro surfboard   \n",
       "1                 Arakawa Prototype Surfboard   \n",
       "2                          Andreini Surfboard   \n",
       "3  5’11 J. Kashiwai “Krank” Surfboard w/ Fins   \n",
       "4                 6' Egg Shortboard Surfboard   \n",
       "\n",
       "                                                                                                  url  \n",
       "0                 https://honolulu.craigslist.org/oah/spo/d/honolulu-tokoro-surfboard/7005760652.html  \n",
       "1   https://honolulu.craigslist.org/oah/spo/d/wheeler-army-airfield-arakawa-prototype/7011893010.html  \n",
       "2  https://honolulu.craigslist.org/oah/spo/d/wheeler-army-airfield-andreini-surfboard/7011895192.html  \n",
       "3     https://honolulu.craigslist.org/oah/spo/d/honolulu-511-kashiwai-krank-surfboard/7011909978.html  \n",
       "4       https://honolulu.craigslist.org/oah/spo/d/honolulu-6-egg-shortboard-surfboard/7011911532.html  "
      ]
     },
     "execution_count": 10,
     "metadata": {},
     "output_type": "execute_result"
    }
   ],
   "source": [
    "df.head()"
   ]
  },
  {
   "cell_type": "code",
   "execution_count": 11,
   "metadata": {},
   "outputs": [
    {
     "data": {
      "text/plain": [
       "2781"
      ]
     },
     "execution_count": 11,
     "metadata": {},
     "output_type": "execute_result"
    }
   ],
   "source": [
    "len(df)"
   ]
  },
  {
   "cell_type": "code",
   "execution_count": 12,
   "metadata": {},
   "outputs": [
    {
     "data": {
      "text/plain": [
       "condition          44.516361\n",
       "description         0.000000\n",
       "location            0.000000\n",
       "manufacturer       51.564186\n",
       "model_name         65.336210\n",
       "price               0.000000\n",
       "size_dimensions    61.165049\n",
       "title               0.000000\n",
       "url                 0.000000\n",
       "dtype: float64"
      ]
     },
     "execution_count": 12,
     "metadata": {},
     "output_type": "execute_result"
    }
   ],
   "source": [
    "df.isnull().sum()/df.isnull().count()*100"
   ]
  },
  {
   "cell_type": "code",
   "execution_count": 25,
   "metadata": {},
   "outputs": [],
   "source": [
    "def extract_bigram_condition(text):\n",
    "    condition_list = ['new', 'excellent', 'good', 'like new', 'fair']\n",
    "    trigram_condition_list = []\n",
    "    for i,word in enumerate(text):\n",
    "        if word in condition_list:\n",
    "            trigram_condition_list.append(' '.join(text[i-1:i+2:2]))\n",
    "    return trigram_condition_list\n",
    "\n",
    "#for unrelated results with surfboard in description and not in title\n",
    "def is_surfboard(title):\n",
    "    title_words = re.sub(r'[,?.!@#$&*-:\\'\\\"\\/]', ' ', title).lower().split(' ')\n",
    "    surfboard_in_title = 0\n",
    "    surfboard_match_list = ['surfboard', 'surf', 'board', 'sup', 'fish', 'stub', \n",
    "                            'shortboard', 'short', 'longboard', 'long', 'foamie', 'foam', 'softtop', 'paddleboard', 'surfboards']\n",
    "    valid_surf_brands_list = []\n",
    "    for word in title_words:\n",
    "        if word in surfboard_match_list:\n",
    "            surfboard_in_title = 1\n",
    "    return surfboard_in_title\n",
    "\n",
    "\n",
    "def clean_description(text):\n",
    "    stripped_text = re.sub(r'\\\\n|\\n|[,?.!@#$&*:\\/]', ' ', text).strip().lower()\n",
    "    clean_text = [word for word in stripped_text.split(' ') if word != '']\n",
    "    return clean_text\n",
    "\n",
    "def ngram(text, n_gram):\n",
    "    n_gram_list = []\n",
    "    for i in range(len(text)-n_gram):\n",
    "        text_seq = ' '.join(text[i:i+n_gram])\n",
    "        if text_seq not in n_gram_list:\n",
    "            n_gram_list.append(text_seq)\n",
    "    return n_gram_list\n",
    "\n",
    "def bigram_condition_filter(text):\n",
    "    condition_list = ['new', 'excellent', 'good', 'like new', 'fair']\n",
    "    \n",
    "    bigram_list = ['in condition', 'very condition', 'brand never', 'like condition', 'in shape', 'surfboard condition', \n",
    "              'a hybrid', 'brand surfboard', 'brand condition', 'a board', 'near condition', 'board condition', \n",
    "               'brand board', 'in working', 'brand carbon', 'brand sup', 'really condition', 'like no', 'like used',\n",
    "              'like only', 'almost condition', 'brand for', 'brand beautiful', 'like i', 'brand js', 'like', '- condition',\n",
    "              'very quality', 'brand -', 'like in', 'brand only', 'brand quality', 'brand kazuma', 'sale condition', \n",
    "              'condition', 'used condition', 'brand save', 'like and', 'brand check', 'brand performance', 'really shape',\n",
    "              '(like condition)', 'brand it']\n",
    "    \n",
    "    for i,word in enumerate(text):\n",
    "        if word in condition_list:\n",
    "            if ' '.join(text[i-1:i+2:2]) in bigram_list:\n",
    "                return word\n",
    "                \n",
    "\n"
   ]
  },
  {
   "cell_type": "code",
   "execution_count": 35,
   "metadata": {},
   "outputs": [],
   "source": [
    "bigram_list = ['in condition', 'very condition', 'brand never', 'like condition', 'in shape', 'surfboard condition', \n",
    "              'a hybrid', 'brand surfboard', 'brand condition', 'a board', 'near condition', 'board condition', \n",
    "               'brand board', 'in working', 'brand carbon', 'brand sup', 'really condition', 'like no', 'like used',\n",
    "              'like only', 'almost condition', 'brand for', 'brand beautiful', 'like i', 'brand js', 'like', '- condition',\n",
    "              'very quality', 'brand -', 'like in', 'brand only', 'brand quality', 'brand kazuma', 'sale condition', \n",
    "              'condition', 'used condition', 'brand save', 'like and', 'brand check', 'brand performance', 'really shape',\n",
    "              '(like condition)', 'brand it']\n",
    "condition_list = ['new', 'excellent', 'good', 'like new', 'fair']\n",
    "not_condition_list = []\n",
    "for text in df['description_word_list']:\n",
    "    for i,word in enumerate(text):\n",
    "        if ' '.join(text[i-1:i+2:2]) in bigram_list and word not in condition_list:\n",
    "            not_condition_list.append(word)\n",
    "            \n",
    "Counter(not_condition_list).most_common()\n",
    "\n",
    "similar_conditions = ['great', 'perfect', 'decent', 'pristine']"
   ]
  },
  {
   "cell_type": "markdown",
   "metadata": {},
   "source": [
    "combine like new and excellent into one condition\n",
    "\n",
    "look for other conditions that are similar to condition list\n",
    "\n",
    "outliers for price possibly multiple boards or look in description for plural board words\n",
    "\n",
    "create filters for description to weed out guranteed noise (len of description)\n",
    "\n",
    "scrape other sites\n",
    "\n"
   ]
  },
  {
   "cell_type": "code",
   "execution_count": null,
   "metadata": {},
   "outputs": [],
   "source": [
    "df['bigram_condition'] = df['description_word_list'].apply(lambda x: extract_bigram_condition(x))"
   ]
  },
  {
   "cell_type": "code",
   "execution_count": null,
   "metadata": {},
   "outputs": [],
   "source": [
    "condition_list = ['new', 'excellent', 'good', 'like new', 'fair']\n",
    "all_bigrams = []\n",
    "\n",
    "for i,text in enumerate(df['description_word_list']):\n",
    "    for i,word in enumerate(text):\n",
    "        if word in condition_list:\n",
    "            all_bigrams.append(' '.join(text[i-1:i+2:2]))\n",
    "\n",
    "dict(Counter(all_bigrams).most_common())"
   ]
  },
  {
   "cell_type": "markdown",
   "metadata": {},
   "source": [
    "https://www.surfstationstore.com/collections/used-surfboards\n",
    "\n",
    "https://www.usedsurfboardshawaii.com/?post_type=product \n",
    "\n",
    "combine all clean df into one and predict price together\n",
    "\n",
    "To do:\n",
    "\n",
    "get more data (~2500 rows)\n",
    "\n",
    "clean data\n",
    "\n",
    "\n"
   ]
  },
  {
   "cell_type": "code",
   "execution_count": 19,
   "metadata": {},
   "outputs": [],
   "source": [
    "#clean description of html tags and punctuations, strip whitespace, lowercase, and split at spaces for word extraction\n",
    "df['description_word_list'] = df['description'].apply(lambda x: clean_description(x))\n",
    "\n",
    "#extract condition of board from description\n",
    "# df['condition'] = df['description_word_list'].apply(lambda x: extract_condition_filter(x))\n",
    "\n",
    "#filter out unrelated products with surfboard referred only in description\n",
    "df['surfboard_in_title'] = df['title'].apply(lambda x: is_surfboard(x))\n",
    "\n",
    "# extract board dimensions from size_dimensions column to create separate board dimension features\n",
    "\n",
    "# df['length'] =  df['size_dimensions'].apply(lambda x: extract_board_dimension(x, length_pattern))\n",
    "# df['width'] =  df['size_dimensions'].apply(lambda x: extract_board_dimension(x, width_pattern))\n",
    "# df['thickness'] =  df['size_dimensions'].apply(lambda x: extract_board_dimension(x, thickness_pattern))\n",
    "\n",
    "\n"
   ]
  },
  {
   "cell_type": "code",
   "execution_count": null,
   "metadata": {},
   "outputs": [],
   "source": []
  },
  {
   "cell_type": "code",
   "execution_count": null,
   "metadata": {},
   "outputs": [],
   "source": [
    "# investigate frequent description words for low/high cost boards"
   ]
  },
  {
   "cell_type": "code",
   "execution_count": null,
   "metadata": {
    "scrolled": true
   },
   "outputs": [],
   "source": [
    "# words likely to have a strong negative correlatation with price\n",
    "one_hot_word_list = ['ding', 'dings', 'yellow', 'patched', 'patch', 'repaired', 'fixed', 'fix', 'carbon',\n",
    "                     'fiber', 'pressure', 'dent', 'old', 'salvage', 'crack', 'cracks', 'epoxy', 'foamie', \n",
    "                     'foam', 'softtop', 'longboard', 'shortboard', 'sup']\n",
    "description_dummy_cols = []\n",
    "\n",
    "df.reset_index(inplace=True)\n",
    "for word in one_hot_word_list:\n",
    "    #init one-hot columns\n",
    "    df['DV_'+word] = 0\n",
    "    description_dummy_cols.append('DV_'+word)\n",
    "    \n",
    "for i,word_list in enumerate(df['description_word_list']):\n",
    "    for word in one_hot_word_list:\n",
    "        if word in word_list:\n",
    "            df.at[i, 'DV_'+word] = 1\n",
    "        else: \n",
    "            df.at[i, 'DV_'+word] = 0\n"
   ]
  },
  {
   "cell_type": "code",
   "execution_count": null,
   "metadata": {
    "scrolled": true
   },
   "outputs": [],
   "source": [
    "def extract_board_dimension(text, pattern):\n",
    "    try:\n",
    "        raw_dimension = pattern.findall(text)[0]\n",
    "    except (IndexError, TypeError):\n",
    "        return np.NaN\n",
    "    int_dimension = list(map(int, re.findall('\\d+', raw_dimension)))\n",
    "    print(int_dimension)\n",
    "    \n",
    "    #str dimension includes fraction\n",
    "    if len(int_dimension) == 3:\n",
    "        return int_dimension[0] + (int_dimension[1]/int_dimension[2])\n",
    "    elif len(int_dimension) == 2:\n",
    "        return int_dimension[0] + (int_dimension[1] / 10)\n",
    "    else:\n",
    "        return int_dimension[0]\n",
    "    \n",
    "\n",
    "length_pattern = re.compile('(?<![Xx\\d+\\\"])\\d+[\\u0080-\\uFFFF\\'\\.]\\d+(?=[\\\"\\s*Xx])')\n",
    "width_pattern = re.compile('(?<=[Xx])\\s?\\d+[\\\"/s*\\.]?\\s?\\d?[\\\"\\/]?\\d+?(?=[\\s?\\\"Xx?])')\n",
    "thickness_pattern = re.compile('(?<=[Xx?])\\s?\\d+[\\\"/s*\\.]?\\s?\\d+?[\\\"\\/]?\\d+?(?=[\\\",]?)(?![\\dXx])')\n",
    "                    \n",
    "text = \"\"\"9'-0\" x 22.625\" x 2.625\" \"\"\"\n",
    "extract_board_dimension(text, width_pattern)"
   ]
  },
  {
   "cell_type": "markdown",
   "metadata": {},
   "source": [
    "extract indiv dimensions as indiv col from dimen col\n",
    "if nan after extract from description"
   ]
  },
  {
   "cell_type": "markdown",
   "metadata": {},
   "source": [
    "df = df.dropna(subset=['condition', 'dimensions'], how='any')"
   ]
  },
  {
   "cell_type": "markdown",
   "metadata": {},
   "source": [
    "# Modeling"
   ]
  },
  {
   "cell_type": "code",
   "execution_count": null,
   "metadata": {},
   "outputs": [],
   "source": [
    "df.describe()"
   ]
  },
  {
   "cell_type": "code",
   "execution_count": 9,
   "metadata": {},
   "outputs": [],
   "source": [
    "test_data = df[df['surfboard_in_title']==1].copy()\n",
    "test_data = test_data.dropna(how='any')"
   ]
  },
  {
   "cell_type": "code",
   "execution_count": 10,
   "metadata": {},
   "outputs": [
    {
     "data": {
      "text/plain": [
       "584"
      ]
     },
     "execution_count": 10,
     "metadata": {},
     "output_type": "execute_result"
    }
   ],
   "source": [
    "len(test_data)"
   ]
  },
  {
   "cell_type": "code",
   "execution_count": null,
   "metadata": {},
   "outputs": [],
   "source": [
    "one_hot_df = pd.get_dummies(test_data[['condition','manufacturer', 'model_name']])\n",
    "data_x = pd.merge(one_hot_df, test_data[description_dummy_cols], how='inner', left_on=one_hot_df.index, right_on=test_data.index)\n",
    "data_y = test_data['price']\n"
   ]
  },
  {
   "cell_type": "code",
   "execution_count": null,
   "metadata": {
    "scrolled": false
   },
   "outputs": [],
   "source": [
    "data_x = data_x.loc[:, data_x.columns != 'key_0']"
   ]
  },
  {
   "cell_type": "code",
   "execution_count": null,
   "metadata": {},
   "outputs": [],
   "source": [
    "len(data_x)"
   ]
  },
  {
   "cell_type": "code",
   "execution_count": null,
   "metadata": {},
   "outputs": [],
   "source": [
    "\n",
    "X = sm.add_constant(data_x)\n",
    "results = sm.OLS(list(data_y),X).fit()\n",
    "results.summary()"
   ]
  },
  {
   "cell_type": "code",
   "execution_count": null,
   "metadata": {},
   "outputs": [],
   "source": [
    "def model_results(model_list, train_x, train_y, test_x, test_y):\n",
    "    \n",
    "    model_dict = []\n",
    "    for name, model in model_list.items():\n",
    "        print(name)\n",
    "        model_stats = {}\n",
    "        \n",
    "        alpha_dict = {'alpha': [.01,.1,1,10,100,1000]}\n",
    "        if name in ['elastic', 'lasso']:\n",
    "            model = GridSearchCV(model, alpha_dict, cv=3)\n",
    "            model.fit(train_x, train_y)\n",
    "            model_stats['best_alpha'] = model.best_params_['alpha']\n",
    "            model_stats['coef'] = model.best_estimator_.coef_\n",
    "        else:\n",
    "            model.fit(train_x,train_y)\n",
    "            model_stats['coef'] = np.around(model.coef_)\n",
    "            if name != 'linear':\n",
    "                model_stats['best_alpha'] = model.alpha_\n",
    "        \n",
    "        pred_y = model.predict(test_x)\n",
    "        \n",
    "        model_stats['r2'] = model.score(test_x, test_y)\n",
    "        model_stats['root_MSE'] = np.sqrt(mse(test_y, pred_y))\n",
    "        model_stats['MAE'] = np.abs(test_y - pred_y).mean()\n",
    "        model_stats['MAPE'] = (np.abs(test_y - pred_y) / test_y).mean() * 100\n",
    "        model_stats['model_name'] = name\n",
    "        \n",
    "        \n",
    "        model_dict.append(model_stats)\n",
    "            \n",
    "    model_df = pd.DataFrame(model_dict).set_index('model_name')\n",
    "\n",
    "    return model_df"
   ]
  },
  {
   "cell_type": "code",
   "execution_count": null,
   "metadata": {},
   "outputs": [],
   "source": [
    "train_x, test_x, train_y, test_y = train_test_split(\n",
    "    data_x, data_y, test_size=.2)\n",
    "\n",
    "elastic = ElasticNet()\n",
    "ridge = RidgeCV(alphas=(.01,1,10,100,1000))\n",
    "lasso = Lasso()\n",
    "linear = LinearRegression()\n",
    "model_list = {'elastic': elastic, 'ridge': ridge, 'lasso': lasso, 'linear': linear}\n",
    "\n",
    "model_df = model_results(model_list, train_x, train_y, test_x, test_y)"
   ]
  },
  {
   "cell_type": "code",
   "execution_count": null,
   "metadata": {},
   "outputs": [],
   "source": [
    "model_df"
   ]
  }
 ],
 "metadata": {
  "kernelspec": {
   "display_name": "Python 3",
   "language": "python",
   "name": "python3"
  },
  "language_info": {
   "codemirror_mode": {
    "name": "ipython",
    "version": 3
   },
   "file_extension": ".py",
   "mimetype": "text/x-python",
   "name": "python",
   "nbconvert_exporter": "python",
   "pygments_lexer": "ipython3",
   "version": "3.7.1"
  },
  "toc": {
   "base_numbering": 1,
   "nav_menu": {},
   "number_sections": true,
   "sideBar": true,
   "skip_h1_title": false,
   "title_cell": "Table of Contents",
   "title_sidebar": "Contents",
   "toc_cell": true,
   "toc_position": {},
   "toc_section_display": true,
   "toc_window_display": false
  },
  "varInspector": {
   "cols": {
    "lenName": 16,
    "lenType": 16,
    "lenVar": 40
   },
   "kernels_config": {
    "python": {
     "delete_cmd_postfix": "",
     "delete_cmd_prefix": "del ",
     "library": "var_list.py",
     "varRefreshCmd": "print(var_dic_list())"
    },
    "r": {
     "delete_cmd_postfix": ") ",
     "delete_cmd_prefix": "rm(",
     "library": "var_list.r",
     "varRefreshCmd": "cat(var_dic_list()) "
    }
   },
   "types_to_exclude": [
    "module",
    "function",
    "builtin_function_or_method",
    "instance",
    "_Feature"
   ],
   "window_display": false
  }
 },
 "nbformat": 4,
 "nbformat_minor": 2
}
