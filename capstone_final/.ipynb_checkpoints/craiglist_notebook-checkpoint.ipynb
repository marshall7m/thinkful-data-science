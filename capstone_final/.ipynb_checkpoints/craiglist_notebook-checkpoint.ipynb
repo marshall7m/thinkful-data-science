{
 "cells": [
  {
   "cell_type": "markdown",
   "metadata": {},
   "source": [
    "# Introduction"
   ]
  },
  {
   "cell_type": "markdown",
   "metadata": {},
   "source": [
    "### Imports"
   ]
  },
  {
   "cell_type": "code",
   "execution_count": 12,
   "metadata": {},
   "outputs": [],
   "source": [
    "\n",
    "import pandas as pd\n",
    "import numpy as np\n",
    "import matplotlib.pyplot as plt\n",
    "import seaborn as sns\n",
    "import re\n",
    "%matplotlib inline\n",
    "\n",
    "# Options for pandas\n",
    "pd.options.display.max_columns = 150\n",
    "pd.options.display.max_rows = 150"
   ]
  },
  {
   "cell_type": "markdown",
   "metadata": {
    "toc": true
   },
   "source": [
    "<h1>Table of Contents<span class=\"tocSkip\"></span></h1>\n",
    "<div class=\"toc\"><ul class=\"toc-item\"><li><span><a href=\"#Introduction\" data-toc-modified-id=\"Introduction-1\"><span class=\"toc-item-num\">1&nbsp;&nbsp;</span>Introduction</a></span><ul class=\"toc-item\"><li><ul class=\"toc-item\"><li><span><a href=\"#Imports\" data-toc-modified-id=\"Imports-1.0.1\"><span class=\"toc-item-num\">1.0.1&nbsp;&nbsp;</span>Imports</a></span></li></ul></li></ul></li></ul></div>"
   ]
  },
  {
   "cell_type": "code",
   "execution_count": 2,
   "metadata": {},
   "outputs": [],
   "source": [
    "df = pd.read_json('surfboard.json')"
   ]
  },
  {
   "cell_type": "code",
   "execution_count": 17,
   "metadata": {},
   "outputs": [],
   "source": [
    "df['manufacturer'] = df['manufacturer'].apply(lambda x: str(x).replace('[', '').replace(']', ''))\n",
    "df['price'] = df['price'].apply(lambda x: str(x).replace('[', '').replace(']', '').replace('$', ''))"
   ]
  },
  {
   "cell_type": "code",
   "execution_count": null,
   "metadata": {},
   "outputs": [],
   "source": [
    "re.compile('\\n')"
   ]
  },
  {
   "cell_type": "code",
   "execution_count": 13,
   "metadata": {},
   "outputs": [
    {
     "data": {
      "text/plain": [
       "['good']"
      ]
     },
     "execution_count": 13,
     "metadata": {},
     "output_type": "execute_result"
    }
   ],
   "source": [
    "df['condition'][0]"
   ]
  },
  {
   "cell_type": "code",
   "execution_count": 6,
   "metadata": {},
   "outputs": [
    {
     "data": {
      "text/html": [
       "<div>\n",
       "<style scoped>\n",
       "    .dataframe tbody tr th:only-of-type {\n",
       "        vertical-align: middle;\n",
       "    }\n",
       "\n",
       "    .dataframe tbody tr th {\n",
       "        vertical-align: top;\n",
       "    }\n",
       "\n",
       "    .dataframe thead th {\n",
       "        text-align: right;\n",
       "    }\n",
       "</style>\n",
       "<table border=\"1\" class=\"dataframe\">\n",
       "  <thead>\n",
       "    <tr style=\"text-align: right;\">\n",
       "      <th></th>\n",
       "      <th>condition</th>\n",
       "      <th>description</th>\n",
       "      <th>manufacturer</th>\n",
       "      <th>model_name</th>\n",
       "      <th>price</th>\n",
       "      <th>size_dimensions</th>\n",
       "      <th>title</th>\n",
       "      <th>url</th>\n",
       "    </tr>\n",
       "  </thead>\n",
       "  <tbody>\n",
       "    <tr>\n",
       "      <th>0</th>\n",
       "      <td>[good]</td>\n",
       "      <td>\\n        \\nUsed but plenty fun left...pls loo...</td>\n",
       "      <td></td>\n",
       "      <td>[]</td>\n",
       "      <td>'50'</td>\n",
       "      <td>[]</td>\n",
       "      <td>[CBC 5'8 Foam Surfboard]</td>\n",
       "      <td>https://honolulu.craigslist.org/mau/spo/d/kihe...</td>\n",
       "    </tr>\n",
       "    <tr>\n",
       "      <th>1</th>\n",
       "      <td>[]</td>\n",
       "      <td>\\n        \\n10' Dakine Recon 2 Longboard Trave...</td>\n",
       "      <td></td>\n",
       "      <td>[]</td>\n",
       "      <td>'100'</td>\n",
       "      <td>[]</td>\n",
       "      <td>[10' SURFBOARD TRAVEL BAG]</td>\n",
       "      <td>https://honolulu.craigslist.org/kau/spo/d/kila...</td>\n",
       "    </tr>\n",
       "    <tr>\n",
       "      <th>2</th>\n",
       "      <td>[]</td>\n",
       "      <td>\\n        \\nAlmost new Monsta8 hyfi\\nL 6’\\nW 1...</td>\n",
       "      <td></td>\n",
       "      <td>[]</td>\n",
       "      <td>'700'</td>\n",
       "      <td>[]</td>\n",
       "      <td>[JS hyfi surfboard]</td>\n",
       "      <td>https://honolulu.craigslist.org/mau/spo/d/kihe...</td>\n",
       "    </tr>\n",
       "    <tr>\n",
       "      <th>3</th>\n",
       "      <td>[good]</td>\n",
       "      <td>\\n        \\n4 SURFBOARD FINS $15. SEE IN WAIKI...</td>\n",
       "      <td></td>\n",
       "      <td>[]</td>\n",
       "      <td>'15'</td>\n",
       "      <td>[]</td>\n",
       "      <td>[4 SURFBOARD FINS]</td>\n",
       "      <td>https://honolulu.craigslist.org/oah/spo/d/hono...</td>\n",
       "    </tr>\n",
       "    <tr>\n",
       "      <th>4</th>\n",
       "      <td>[]</td>\n",
       "      <td>\\n        \\nCustom one of a kind wooden surfbo...</td>\n",
       "      <td></td>\n",
       "      <td>[]</td>\n",
       "      <td>'200'</td>\n",
       "      <td>[]</td>\n",
       "      <td>[CUSTOM HANDMADE BAMBOO WOOD SURFBOARD RACKS]</td>\n",
       "      <td>https://honolulu.craigslist.org/oah/hsh/d/waia...</td>\n",
       "    </tr>\n",
       "  </tbody>\n",
       "</table>\n",
       "</div>"
      ],
      "text/plain": [
       "  condition                                        description manufacturer  \\\n",
       "0    [good]  \\n        \\nUsed but plenty fun left...pls loo...                \n",
       "1        []  \\n        \\n10' Dakine Recon 2 Longboard Trave...                \n",
       "2        []  \\n        \\nAlmost new Monsta8 hyfi\\nL 6’\\nW 1...                \n",
       "3    [good]  \\n        \\n4 SURFBOARD FINS $15. SEE IN WAIKI...                \n",
       "4        []  \\n        \\nCustom one of a kind wooden surfbo...                \n",
       "\n",
       "  model_name  price size_dimensions  \\\n",
       "0         []   '50'              []   \n",
       "1         []  '100'              []   \n",
       "2         []  '700'              []   \n",
       "3         []   '15'              []   \n",
       "4         []  '200'              []   \n",
       "\n",
       "                                           title  \\\n",
       "0                       [CBC 5'8 Foam Surfboard]   \n",
       "1                     [10' SURFBOARD TRAVEL BAG]   \n",
       "2                            [JS hyfi surfboard]   \n",
       "3                             [4 SURFBOARD FINS]   \n",
       "4  [CUSTOM HANDMADE BAMBOO WOOD SURFBOARD RACKS]   \n",
       "\n",
       "                                                 url  \n",
       "0  https://honolulu.craigslist.org/mau/spo/d/kihe...  \n",
       "1  https://honolulu.craigslist.org/kau/spo/d/kila...  \n",
       "2  https://honolulu.craigslist.org/mau/spo/d/kihe...  \n",
       "3  https://honolulu.craigslist.org/oah/spo/d/hono...  \n",
       "4  https://honolulu.craigslist.org/oah/hsh/d/waia...  "
      ]
     },
     "execution_count": 6,
     "metadata": {},
     "output_type": "execute_result"
    }
   ],
   "source": [
    "df.head()"
   ]
  }
 ],
 "metadata": {
  "kernelspec": {
   "display_name": "Python 3",
   "language": "python",
   "name": "python3"
  },
  "language_info": {
   "codemirror_mode": {
    "name": "ipython",
    "version": 3
   },
   "file_extension": ".py",
   "mimetype": "text/x-python",
   "name": "python",
   "nbconvert_exporter": "python",
   "pygments_lexer": "ipython3",
   "version": "3.7.1"
  },
  "toc": {
   "base_numbering": 1,
   "nav_menu": {},
   "number_sections": true,
   "sideBar": true,
   "skip_h1_title": false,
   "title_cell": "Table of Contents",
   "title_sidebar": "Contents",
   "toc_cell": true,
   "toc_position": {},
   "toc_section_display": true,
   "toc_window_display": false
  },
  "varInspector": {
   "cols": {
    "lenName": 16,
    "lenType": 16,
    "lenVar": 40
   },
   "kernels_config": {
    "python": {
     "delete_cmd_postfix": "",
     "delete_cmd_prefix": "del ",
     "library": "var_list.py",
     "varRefreshCmd": "print(var_dic_list())"
    },
    "r": {
     "delete_cmd_postfix": ") ",
     "delete_cmd_prefix": "rm(",
     "library": "var_list.r",
     "varRefreshCmd": "cat(var_dic_list()) "
    }
   },
   "types_to_exclude": [
    "module",
    "function",
    "builtin_function_or_method",
    "instance",
    "_Feature"
   ],
   "window_display": false
  }
 },
 "nbformat": 4,
 "nbformat_minor": 2
}
