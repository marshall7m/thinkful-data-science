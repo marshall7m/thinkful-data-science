{
 "cells": [
  {
   "cell_type": "code",
   "execution_count": null,
   "metadata": {},
   "outputs": [],
   "source": [
    "import numpy as np\n",
    "import scrapy\n",
    "from scrapy.crawler import CrawlerProcess\n",
    "from scrapy import Spider\n",
    "import scrapy\n",
    "from scrapy import Request\n",
    "\n",
    "class craiglistSpider(scrapy.Spider):\n",
    "        \n",
    "    name = \"surfboards\"\n",
    "    allowed_domains = [\"craigslist.org\"]\n",
    "    start_urls = [\"https://sandiego.craigslist.org/search/sss?query=surfboard&sort=rel\"]\n",
    "\n",
    "    def parse(self, response):\n",
    "        products = response.xpath('//p[@class=\"result-info\"]')\n",
    "\n",
    "        for product in products:\n",
    "            \n",
    "            relative_url = product.xpath('a/@href').extract_first()\n",
    "            absolute_url = response.urljoin(relative_url)\n",
    "            \n",
    "            yield Request(absolute_url, callback=self.parse_page, meta={'URL': absolute_url})\n",
    "            \n",
    "        relative_next_url = response.xpath('//a[@class=\"button next\"]/@href').extract_first()\n",
    "        absolute_next_url = \"https://sandiego.craigslist.org\" + relative_next_url\n",
    "\n",
    "        yield Request(absolute_next_url, callback=self.parse)\n",
    "        \n",
    "    def parse_page(self, response):\n",
    "        url = response.meta.get('URL')\n",
    "        attr_dict = {\n",
    "            'condition': np.NaN,\n",
    "            'make / manufacturer': np.NaN,\n",
    "            'model name / number': np.NaN,\n",
    "            'size / dimensions': np.NaN\n",
    "            }\n",
    "        \n",
    "        attr_keys = [key[:-2] for key in response.xpath('//p[@class=\"attrgroup\"]/span/text()').extract()]\n",
    "        attr_values = [val for val in response.xpath('//p[@class=\"attrgroup\"]/span/b/text()').extract()]\n",
    "        filled_attr_dict = dict(zip(attr_keys, attr_values))\n",
    "\n",
    "        attr_dict.update(filled_attr_dict)\n",
    "        \n",
    "        yield {\n",
    "        'url': url,\n",
    "        'title': ''.join(response.xpath('//span[@id=\"titletextonly\"]/text()').extract()),\n",
    "        'price': float(''.join(response.xpath('//span[@class=\"price\"]/text()').extract()).strip('$')),\n",
    "        'description': \"\".join(line for line in response.xpath('//*[@id=\"postingbody\"]/text()').extract()),\n",
    "        'condition': attr_dict['condition'],    \n",
    "        'manufacturer': attr_dict['make / manufacturer'],\n",
    "        'model_name': attr_dict['model name / number'],\n",
    "        'size_dimensions': attr_dict['size / dimensions'],\n",
    "        'location': 'San Diego'\n",
    "        }\n",
    "process = CrawlerProcess({\n",
    "'FEED_FORMAT': 'json',\n",
    "'FEED_URI': 'san_diego_craiglist_surfboards.json',\n",
    "'ROBOTSTXT_OBEY': False,\n",
    "'USER_AGENT': 'ThinkfulDataScienceBootcampCrawler (thinkful.com)',\n",
    "'AUTOTHROTTLE_ENABLED': True,\n",
    "'HTTPCACHE_ENABLED': True,\n",
    "'LOG_ENABLED': False,\n",
    "# 'CLOSESPIDER_PAGECOUNT' : 10\n",
    "})\n",
    "                                         \n",
    "\n",
    "process.crawl(craiglistSpider)\n",
    "process.start()\n"
   ]
  }
 ],
 "metadata": {
  "kernelspec": {
   "display_name": "Python 3",
   "language": "python",
   "name": "python3"
  },
  "language_info": {
   "codemirror_mode": {
    "name": "ipython",
    "version": 3
   },
   "file_extension": ".py",
   "mimetype": "text/x-python",
   "name": "python",
   "nbconvert_exporter": "python",
   "pygments_lexer": "ipython3",
   "version": "3.7.1"
  },
  "toc": {
   "base_numbering": 1,
   "nav_menu": {},
   "number_sections": true,
   "sideBar": true,
   "skip_h1_title": false,
   "title_cell": "Table of Contents",
   "title_sidebar": "Contents",
   "toc_cell": true,
   "toc_position": {},
   "toc_section_display": true,
   "toc_window_display": false
  },
  "varInspector": {
   "cols": {
    "lenName": 16,
    "lenType": 16,
    "lenVar": 40
   },
   "kernels_config": {
    "python": {
     "delete_cmd_postfix": "",
     "delete_cmd_prefix": "del ",
     "library": "var_list.py",
     "varRefreshCmd": "print(var_dic_list())"
    },
    "r": {
     "delete_cmd_postfix": ") ",
     "delete_cmd_prefix": "rm(",
     "library": "var_list.r",
     "varRefreshCmd": "cat(var_dic_list()) "
    }
   },
   "types_to_exclude": [
    "module",
    "function",
    "builtin_function_or_method",
    "instance",
    "_Feature"
   ],
   "window_display": false
  }
 },
 "nbformat": 4,
 "nbformat_minor": 2
}
