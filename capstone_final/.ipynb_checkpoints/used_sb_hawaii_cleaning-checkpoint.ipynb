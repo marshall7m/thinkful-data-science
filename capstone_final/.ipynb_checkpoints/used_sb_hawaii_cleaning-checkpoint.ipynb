{
 "cells": [
  {
   "cell_type": "markdown",
   "metadata": {},
   "source": [
    "# Introduction"
   ]
  },
  {
   "cell_type": "markdown",
   "metadata": {},
   "source": [
    "### Imports"
   ]
  },
  {
   "cell_type": "code",
   "execution_count": 9,
   "metadata": {},
   "outputs": [],
   "source": [
    "\n",
    "import pandas as pd\n",
    "import numpy as np\n",
    "import matplotlib.pyplot as plt\n",
    "import seaborn as sns\n",
    "import re\n",
    "import json\n",
    "%matplotlib inline\n",
    "\n",
    "# Options for pandas\n",
    "pd.options.display.max_columns = 150\n",
    "pd.options.display.max_rows = 150\n",
    "pd.set_option.max_colwidth = 150\n"
   ]
  },
  {
   "cell_type": "markdown",
   "metadata": {
    "toc": true
   },
   "source": [
    "<h1>Table of Contents<span class=\"tocSkip\"></span></h1>\n",
    "<div class=\"toc\"><ul class=\"toc-item\"><li><span><a href=\"#Introduction\" data-toc-modified-id=\"Introduction-1\"><span class=\"toc-item-num\">1&nbsp;&nbsp;</span>Introduction</a></span><ul class=\"toc-item\"><li><ul class=\"toc-item\"><li><span><a href=\"#Imports\" data-toc-modified-id=\"Imports-1.0.1\"><span class=\"toc-item-num\">1.0.1&nbsp;&nbsp;</span>Imports</a></span></li></ul></li></ul></li></ul></div>"
   ]
  },
  {
   "cell_type": "code",
   "execution_count": 10,
   "metadata": {},
   "outputs": [],
   "source": [
    "with open('data/used_surfboard_hawaii.json') as datafile:\n",
    "    data = json.load(datafile)\n",
    "df = pd.DataFrame(data)\n"
   ]
  },
  {
   "cell_type": "code",
   "execution_count": 11,
   "metadata": {
    "scrolled": true
   },
   "outputs": [
    {
     "data": {
      "text/html": [
       "<div>\n",
       "<style scoped>\n",
       "    .dataframe tbody tr th:only-of-type {\n",
       "        vertical-align: middle;\n",
       "    }\n",
       "\n",
       "    .dataframe tbody tr th {\n",
       "        vertical-align: top;\n",
       "    }\n",
       "\n",
       "    .dataframe thead th {\n",
       "        text-align: right;\n",
       "    }\n",
       "</style>\n",
       "<table border=\"1\" class=\"dataframe\">\n",
       "  <thead>\n",
       "    <tr style=\"text-align: right;\">\n",
       "      <th></th>\n",
       "      <th>condition</th>\n",
       "      <th>description</th>\n",
       "      <th>height</th>\n",
       "      <th>manufacturer</th>\n",
       "      <th>price</th>\n",
       "      <th>thickness</th>\n",
       "      <th>title</th>\n",
       "      <th>type</th>\n",
       "      <th>url</th>\n",
       "      <th>width</th>\n",
       "    </tr>\n",
       "  </thead>\n",
       "  <tbody>\n",
       "    <tr>\n",
       "      <th>0</th>\n",
       "      <td>Excellent, Good, Like New, New</td>\n",
       "      <td>Brand new shortboard with no signs of previous...</td>\n",
       "      <td>H 6’2″</td>\n",
       "      <td>Tokoro</td>\n",
       "      <td>585.0</td>\n",
       "      <td>T 2 3/8″</td>\n",
       "      <td>6ft 2in Tokoro (4VC) Round Pin Tail Ref# 30481</td>\n",
       "      <td>Thruster (FCS2)</td>\n",
       "      <td>https://www.usedsurfboardshawaii.com/product/6...</td>\n",
       "      <td>W 18 7/8″</td>\n",
       "    </tr>\n",
       "    <tr>\n",
       "      <th>1</th>\n",
       "      <td>Excellent, Good</td>\n",
       "      <td></td>\n",
       "      <td>H 7’4″</td>\n",
       "      <td>Donald Takayama, Guy Takayama</td>\n",
       "      <td>749.0</td>\n",
       "      <td>T 2 1/2″</td>\n",
       "      <td>7ft 4in Donald Takayama (Scorpion) Pin Tail Re...</td>\n",
       "      <td>4+1 (FCS)</td>\n",
       "      <td>https://www.usedsurfboardshawaii.com/product/7...</td>\n",
       "      <td>W 22″</td>\n",
       "    </tr>\n",
       "    <tr>\n",
       "      <th>2</th>\n",
       "      <td>Excellent, Good</td>\n",
       "      <td></td>\n",
       "      <td>H 9’0″</td>\n",
       "      <td>Peralta</td>\n",
       "      <td>565.0</td>\n",
       "      <td>T 2 3/4″</td>\n",
       "      <td>9ft Peralta Round Pin Tail Ref# 30460</td>\n",
       "      <td>5-Fin (FCS2)</td>\n",
       "      <td>https://www.usedsurfboardshawaii.com/product/9...</td>\n",
       "      <td>W 21 3/4″</td>\n",
       "    </tr>\n",
       "    <tr>\n",
       "      <th>3</th>\n",
       "      <td>Good</td>\n",
       "      <td></td>\n",
       "      <td>H 6’8″</td>\n",
       "      <td>Arakawa, Eric Arakawa</td>\n",
       "      <td>250.0</td>\n",
       "      <td>T 2.31″</td>\n",
       "      <td>6ft 8in Eric Arakawa (Mr. 200) Round Pin Tail ...</td>\n",
       "      <td>Thruster (FCS)</td>\n",
       "      <td>https://www.usedsurfboardshawaii.com/product/6...</td>\n",
       "      <td>W 18.5″</td>\n",
       "    </tr>\n",
       "    <tr>\n",
       "      <th>4</th>\n",
       "      <td>Fair</td>\n",
       "      <td></td>\n",
       "      <td>H 5’6″</td>\n",
       "      <td>JS</td>\n",
       "      <td>275.0</td>\n",
       "      <td>T 2 1/2″</td>\n",
       "      <td>5ft 6in JS Swallow Tail Ref# 30430</td>\n",
       "      <td>5-Fin (FCS)</td>\n",
       "      <td>https://www.usedsurfboardshawaii.com/product/5...</td>\n",
       "      <td>W 20″</td>\n",
       "    </tr>\n",
       "  </tbody>\n",
       "</table>\n",
       "</div>"
      ],
      "text/plain": [
       "                        condition  \\\n",
       "0  Excellent, Good, Like New, New   \n",
       "1                 Excellent, Good   \n",
       "2                 Excellent, Good   \n",
       "3                            Good   \n",
       "4                            Fair   \n",
       "\n",
       "                                         description  height  \\\n",
       "0  Brand new shortboard with no signs of previous...  H 6’2″   \n",
       "1                                                     H 7’4″   \n",
       "2                                                     H 9’0″   \n",
       "3                                                     H 6’8″   \n",
       "4                                                     H 5’6″   \n",
       "\n",
       "                    manufacturer  price thickness  \\\n",
       "0                         Tokoro  585.0  T 2 3/8″   \n",
       "1  Donald Takayama, Guy Takayama  749.0  T 2 1/2″   \n",
       "2                        Peralta  565.0  T 2 3/4″   \n",
       "3          Arakawa, Eric Arakawa  250.0   T 2.31″   \n",
       "4                             JS  275.0  T 2 1/2″   \n",
       "\n",
       "                                               title             type  \\\n",
       "0     6ft 2in Tokoro (4VC) Round Pin Tail Ref# 30481  Thruster (FCS2)   \n",
       "1  7ft 4in Donald Takayama (Scorpion) Pin Tail Re...        4+1 (FCS)   \n",
       "2              9ft Peralta Round Pin Tail Ref# 30460     5-Fin (FCS2)   \n",
       "3  6ft 8in Eric Arakawa (Mr. 200) Round Pin Tail ...   Thruster (FCS)   \n",
       "4                 5ft 6in JS Swallow Tail Ref# 30430      5-Fin (FCS)   \n",
       "\n",
       "                                                 url      width  \n",
       "0  https://www.usedsurfboardshawaii.com/product/6...  W 18 7/8″  \n",
       "1  https://www.usedsurfboardshawaii.com/product/7...      W 22″  \n",
       "2  https://www.usedsurfboardshawaii.com/product/9...  W 21 3/4″  \n",
       "3  https://www.usedsurfboardshawaii.com/product/6...    W 18.5″  \n",
       "4  https://www.usedsurfboardshawaii.com/product/5...      W 20″  "
      ]
     },
     "execution_count": 11,
     "metadata": {},
     "output_type": "execute_result"
    }
   ],
   "source": [
    "df.head()"
   ]
  },
  {
   "cell_type": "code",
   "execution_count": 12,
   "metadata": {},
   "outputs": [],
   "source": [
    "df = df.loc[(df['thickness'] != '') & (df['height'] != '') & (df['width'] != '') & (df['condition'] != '')].copy()\n",
    "df.reset_index(inplace=True, drop=True)"
   ]
  },
  {
   "cell_type": "code",
   "execution_count": 13,
   "metadata": {},
   "outputs": [],
   "source": [
    "def dimension_to_float(int_list, height=False):\n",
    "    if height == True:\n",
    "        if len(int_list) == 1:\n",
    "            return int(int_list[0])\n",
    "        else:\n",
    "            return int(int_list[0]) + (int(int_list[1])/100)\n",
    "    else:\n",
    "        if len(int_list) == 1:\n",
    "            return int(int_list[0])\n",
    "        else:\n",
    "            return int(int_list[0]) + (int(int_list[1])/int(int_list[2]))\n",
    "    \n",
    "def single_condition(text):\n",
    "    text_list = [condition.strip() for condition in text.lower().split(',')]\n",
    "    condition_list = ['new', 'like new', 'excellent', 'very good', 'good', 'fair', 'poor']\n",
    "    conditon_map = {'new':'new',\n",
    "                    'like new': 'like_new',\n",
    "                    'excellent': 'like_new',\n",
    "                    'very good': 'great',\n",
    "                    'good': 'good',\n",
    "                    'fair': 'fair',\n",
    "                    'poor': 'poor'}\n",
    "    \n",
    "    for condition in condition_list:\n",
    "        if condition in text_list:\n",
    "            return conditon_map[condition]\n",
    "                                    \n",
    "\n",
    "def extract_model_name(text):\n",
    "    matches = re.findall(r'(?<=\\().*?(?=\\))', text)\n",
    "    if len(matches) == 0:\n",
    "        matches = re.findall('(Round\\sPin|Squash|Round|Pin|Diamond|Swallow|Chop|Bat|Fish|Square) Tail(?=\\sRef#)', text)\n",
    "    if len(matches) == 0:\n",
    "        model = np.NaN\n",
    "    else:\n",
    "        model = matches[0]\n",
    "    return model"
   ]
  },
  {
   "cell_type": "code",
   "execution_count": 14,
   "metadata": {},
   "outputs": [
    {
     "data": {
      "text/html": [
       "<div>\n",
       "<style scoped>\n",
       "    .dataframe tbody tr th:only-of-type {\n",
       "        vertical-align: middle;\n",
       "    }\n",
       "\n",
       "    .dataframe tbody tr th {\n",
       "        vertical-align: top;\n",
       "    }\n",
       "\n",
       "    .dataframe thead th {\n",
       "        text-align: right;\n",
       "    }\n",
       "</style>\n",
       "<table border=\"1\" class=\"dataframe\">\n",
       "  <thead>\n",
       "    <tr style=\"text-align: right;\">\n",
       "      <th></th>\n",
       "      <th>condition</th>\n",
       "      <th>description</th>\n",
       "      <th>height</th>\n",
       "      <th>manufacturer</th>\n",
       "      <th>price</th>\n",
       "      <th>thickness</th>\n",
       "      <th>title</th>\n",
       "      <th>type</th>\n",
       "      <th>url</th>\n",
       "      <th>width</th>\n",
       "    </tr>\n",
       "  </thead>\n",
       "  <tbody>\n",
       "    <tr>\n",
       "      <th>144</th>\n",
       "      <td>Good</td>\n",
       "      <td></td>\n",
       "      <td>H 5’11”</td>\n",
       "      <td>Drift</td>\n",
       "      <td>399.0</td>\n",
       "      <td>T 2 5/8″</td>\n",
       "      <td>5ft 11in Drift Squash Tail Ref# 29218</td>\n",
       "      <td>5-Fin (Future)</td>\n",
       "      <td>https://www.usedsurfboardshawaii.com/product/5...</td>\n",
       "      <td>W 19 3/4″</td>\n",
       "    </tr>\n",
       "    <tr>\n",
       "      <th>461</th>\n",
       "      <td>Good</td>\n",
       "      <td></td>\n",
       "      <td>T 2 7/16</td>\n",
       "      <td>Drift</td>\n",
       "      <td>250.0</td>\n",
       "      <td>Normal amount of pressure dents for used surfb...</td>\n",
       "      <td>6ft 6in Drift Round Tail Ref# 25645</td>\n",
       "      <td>H 6′ 6″</td>\n",
       "      <td>https://www.usedsurfboardshawaii.com/product/6...</td>\n",
       "      <td>W 18 1/4</td>\n",
       "    </tr>\n",
       "  </tbody>\n",
       "</table>\n",
       "</div>"
      ],
      "text/plain": [
       "    condition description    height manufacturer  price  \\\n",
       "144      Good               H 5’11”        Drift  399.0   \n",
       "461      Good              T 2 7/16        Drift  250.0   \n",
       "\n",
       "                                             thickness  \\\n",
       "144                                           T 2 5/8″   \n",
       "461  Normal amount of pressure dents for used surfb...   \n",
       "\n",
       "                                     title            type  \\\n",
       "144  5ft 11in Drift Squash Tail Ref# 29218  5-Fin (Future)   \n",
       "461    6ft 6in Drift Round Tail Ref# 25645         H 6′ 6″   \n",
       "\n",
       "                                                   url      width  \n",
       "144  https://www.usedsurfboardshawaii.com/product/5...  W 19 3/4″  \n",
       "461  https://www.usedsurfboardshawaii.com/product/6...   W 18 1/4  "
      ]
     },
     "execution_count": 14,
     "metadata": {},
     "output_type": "execute_result"
    }
   ],
   "source": [
    "df[df['manufacturer'] == 'Drift']"
   ]
  },
  {
   "cell_type": "code",
   "execution_count": 18,
   "metadata": {},
   "outputs": [
    {
     "ename": "NameError",
     "evalue": "name 'response' is not defined",
     "output_type": "error",
     "traceback": [
      "\u001b[0;31m---------------------------------------------------------------------------\u001b[0m",
      "\u001b[0;31mNameError\u001b[0m                                 Traceback (most recent call last)",
      "\u001b[0;32m<ipython-input-18-7658ed664d12>\u001b[0m in \u001b[0;36m<module>\u001b[0;34m\u001b[0m\n\u001b[0;32m----> 1\u001b[0;31m \u001b[0;34m''\u001b[0m\u001b[0;34m.\u001b[0m\u001b[0mjoin\u001b[0m\u001b[0;34m(\u001b[0m\u001b[0mresponse\u001b[0m\u001b[0;34m.\u001b[0m\u001b[0mxpath\u001b[0m\u001b[0;34m(\u001b[0m\u001b[0;34m'//*[@class=\"product_description\"]/p[1]/text()'\u001b[0m\u001b[0;34m)\u001b[0m\u001b[0;34m.\u001b[0m\u001b[0mextract\u001b[0m\u001b[0;34m(\u001b[0m\u001b[0;34m)\u001b[0m\u001b[0;34m)\u001b[0m\u001b[0;34m\u001b[0m\u001b[0;34m\u001b[0m\u001b[0m\n\u001b[0m",
      "\u001b[0;31mNameError\u001b[0m: name 'response' is not defined"
     ]
    }
   ],
   "source": []
  },
  {
   "cell_type": "code",
   "execution_count": 17,
   "metadata": {},
   "outputs": [
    {
     "ename": "IndexError",
     "evalue": "list index out of range",
     "output_type": "error",
     "traceback": [
      "\u001b[0;31m---------------------------------------------------------------------------\u001b[0m",
      "\u001b[0;31mIndexError\u001b[0m                                Traceback (most recent call last)",
      "\u001b[0;32m<ipython-input-17-df9f1c4dc18e>\u001b[0m in \u001b[0;36m<module>\u001b[0;34m\u001b[0m\n\u001b[1;32m      2\u001b[0m \u001b[0;34m\u001b[0m\u001b[0m\n\u001b[1;32m      3\u001b[0m \u001b[0mdf\u001b[0m\u001b[0;34m[\u001b[0m\u001b[0;34m'height_list'\u001b[0m\u001b[0;34m]\u001b[0m \u001b[0;34m=\u001b[0m \u001b[0mdf\u001b[0m\u001b[0;34m[\u001b[0m\u001b[0;34m'height'\u001b[0m\u001b[0;34m]\u001b[0m\u001b[0;34m.\u001b[0m\u001b[0mapply\u001b[0m\u001b[0;34m(\u001b[0m\u001b[0;32mlambda\u001b[0m \u001b[0mx\u001b[0m\u001b[0;34m:\u001b[0m \u001b[0mre\u001b[0m\u001b[0;34m.\u001b[0m\u001b[0mfindall\u001b[0m\u001b[0;34m(\u001b[0m\u001b[0;34m'\\d+(?=[\\u0080-\\uFFFF])'\u001b[0m\u001b[0;34m,\u001b[0m \u001b[0mx\u001b[0m\u001b[0;34m)\u001b[0m\u001b[0;34m)\u001b[0m\u001b[0;34m\u001b[0m\u001b[0;34m\u001b[0m\u001b[0m\n\u001b[0;32m----> 4\u001b[0;31m \u001b[0mdf\u001b[0m\u001b[0;34m[\u001b[0m\u001b[0;34m'height_float'\u001b[0m\u001b[0;34m]\u001b[0m \u001b[0;34m=\u001b[0m \u001b[0mdf\u001b[0m\u001b[0;34m[\u001b[0m\u001b[0;34m'height_list'\u001b[0m\u001b[0;34m]\u001b[0m\u001b[0;34m.\u001b[0m\u001b[0mapply\u001b[0m\u001b[0;34m(\u001b[0m\u001b[0;32mlambda\u001b[0m \u001b[0mx\u001b[0m\u001b[0;34m:\u001b[0m \u001b[0mdimension_to_float\u001b[0m\u001b[0;34m(\u001b[0m\u001b[0mx\u001b[0m\u001b[0;34m,\u001b[0m \u001b[0mheight\u001b[0m\u001b[0;34m=\u001b[0m\u001b[0;32mTrue\u001b[0m\u001b[0;34m)\u001b[0m\u001b[0;34m)\u001b[0m\u001b[0;34m\u001b[0m\u001b[0;34m\u001b[0m\u001b[0m\n\u001b[0m\u001b[1;32m      5\u001b[0m \u001b[0;34m\u001b[0m\u001b[0m\n\u001b[1;32m      6\u001b[0m \u001b[0;34m\u001b[0m\u001b[0m\n",
      "\u001b[0;32m~/anaconda3/lib/python3.7/site-packages/pandas/core/series.py\u001b[0m in \u001b[0;36mapply\u001b[0;34m(self, func, convert_dtype, args, **kwds)\u001b[0m\n\u001b[1;32m   3192\u001b[0m             \u001b[0;32melse\u001b[0m\u001b[0;34m:\u001b[0m\u001b[0;34m\u001b[0m\u001b[0;34m\u001b[0m\u001b[0m\n\u001b[1;32m   3193\u001b[0m                 \u001b[0mvalues\u001b[0m \u001b[0;34m=\u001b[0m \u001b[0mself\u001b[0m\u001b[0;34m.\u001b[0m\u001b[0mastype\u001b[0m\u001b[0;34m(\u001b[0m\u001b[0mobject\u001b[0m\u001b[0;34m)\u001b[0m\u001b[0;34m.\u001b[0m\u001b[0mvalues\u001b[0m\u001b[0;34m\u001b[0m\u001b[0;34m\u001b[0m\u001b[0m\n\u001b[0;32m-> 3194\u001b[0;31m                 \u001b[0mmapped\u001b[0m \u001b[0;34m=\u001b[0m \u001b[0mlib\u001b[0m\u001b[0;34m.\u001b[0m\u001b[0mmap_infer\u001b[0m\u001b[0;34m(\u001b[0m\u001b[0mvalues\u001b[0m\u001b[0;34m,\u001b[0m \u001b[0mf\u001b[0m\u001b[0;34m,\u001b[0m \u001b[0mconvert\u001b[0m\u001b[0;34m=\u001b[0m\u001b[0mconvert_dtype\u001b[0m\u001b[0;34m)\u001b[0m\u001b[0;34m\u001b[0m\u001b[0;34m\u001b[0m\u001b[0m\n\u001b[0m\u001b[1;32m   3195\u001b[0m \u001b[0;34m\u001b[0m\u001b[0m\n\u001b[1;32m   3196\u001b[0m         \u001b[0;32mif\u001b[0m \u001b[0mlen\u001b[0m\u001b[0;34m(\u001b[0m\u001b[0mmapped\u001b[0m\u001b[0;34m)\u001b[0m \u001b[0;32mand\u001b[0m \u001b[0misinstance\u001b[0m\u001b[0;34m(\u001b[0m\u001b[0mmapped\u001b[0m\u001b[0;34m[\u001b[0m\u001b[0;36m0\u001b[0m\u001b[0;34m]\u001b[0m\u001b[0;34m,\u001b[0m \u001b[0mSeries\u001b[0m\u001b[0;34m)\u001b[0m\u001b[0;34m:\u001b[0m\u001b[0;34m\u001b[0m\u001b[0;34m\u001b[0m\u001b[0m\n",
      "\u001b[0;32mpandas/_libs/src/inference.pyx\u001b[0m in \u001b[0;36mpandas._libs.lib.map_infer\u001b[0;34m()\u001b[0m\n",
      "\u001b[0;32m<ipython-input-17-df9f1c4dc18e>\u001b[0m in \u001b[0;36m<lambda>\u001b[0;34m(x)\u001b[0m\n\u001b[1;32m      2\u001b[0m \u001b[0;34m\u001b[0m\u001b[0m\n\u001b[1;32m      3\u001b[0m \u001b[0mdf\u001b[0m\u001b[0;34m[\u001b[0m\u001b[0;34m'height_list'\u001b[0m\u001b[0;34m]\u001b[0m \u001b[0;34m=\u001b[0m \u001b[0mdf\u001b[0m\u001b[0;34m[\u001b[0m\u001b[0;34m'height'\u001b[0m\u001b[0;34m]\u001b[0m\u001b[0;34m.\u001b[0m\u001b[0mapply\u001b[0m\u001b[0;34m(\u001b[0m\u001b[0;32mlambda\u001b[0m \u001b[0mx\u001b[0m\u001b[0;34m:\u001b[0m \u001b[0mre\u001b[0m\u001b[0;34m.\u001b[0m\u001b[0mfindall\u001b[0m\u001b[0;34m(\u001b[0m\u001b[0;34m'\\d+(?=[\\u0080-\\uFFFF])'\u001b[0m\u001b[0;34m,\u001b[0m \u001b[0mx\u001b[0m\u001b[0;34m)\u001b[0m\u001b[0;34m)\u001b[0m\u001b[0;34m\u001b[0m\u001b[0;34m\u001b[0m\u001b[0m\n\u001b[0;32m----> 4\u001b[0;31m \u001b[0mdf\u001b[0m\u001b[0;34m[\u001b[0m\u001b[0;34m'height_float'\u001b[0m\u001b[0;34m]\u001b[0m \u001b[0;34m=\u001b[0m \u001b[0mdf\u001b[0m\u001b[0;34m[\u001b[0m\u001b[0;34m'height_list'\u001b[0m\u001b[0;34m]\u001b[0m\u001b[0;34m.\u001b[0m\u001b[0mapply\u001b[0m\u001b[0;34m(\u001b[0m\u001b[0;32mlambda\u001b[0m \u001b[0mx\u001b[0m\u001b[0;34m:\u001b[0m \u001b[0mdimension_to_float\u001b[0m\u001b[0;34m(\u001b[0m\u001b[0mx\u001b[0m\u001b[0;34m,\u001b[0m \u001b[0mheight\u001b[0m\u001b[0;34m=\u001b[0m\u001b[0;32mTrue\u001b[0m\u001b[0;34m)\u001b[0m\u001b[0;34m)\u001b[0m\u001b[0;34m\u001b[0m\u001b[0;34m\u001b[0m\u001b[0m\n\u001b[0m\u001b[1;32m      5\u001b[0m \u001b[0;34m\u001b[0m\u001b[0m\n\u001b[1;32m      6\u001b[0m \u001b[0;34m\u001b[0m\u001b[0m\n",
      "\u001b[0;32m<ipython-input-13-b9e0d4cf4b05>\u001b[0m in \u001b[0;36mdimension_to_float\u001b[0;34m(int_list, height)\u001b[0m\n\u001b[1;32m      4\u001b[0m             \u001b[0;32mreturn\u001b[0m \u001b[0mint\u001b[0m\u001b[0;34m(\u001b[0m\u001b[0mint_list\u001b[0m\u001b[0;34m[\u001b[0m\u001b[0;36m0\u001b[0m\u001b[0;34m]\u001b[0m\u001b[0;34m)\u001b[0m\u001b[0;34m\u001b[0m\u001b[0;34m\u001b[0m\u001b[0m\n\u001b[1;32m      5\u001b[0m         \u001b[0;32melse\u001b[0m\u001b[0;34m:\u001b[0m\u001b[0;34m\u001b[0m\u001b[0;34m\u001b[0m\u001b[0m\n\u001b[0;32m----> 6\u001b[0;31m             \u001b[0;32mreturn\u001b[0m \u001b[0mint\u001b[0m\u001b[0;34m(\u001b[0m\u001b[0mint_list\u001b[0m\u001b[0;34m[\u001b[0m\u001b[0;36m0\u001b[0m\u001b[0;34m]\u001b[0m\u001b[0;34m)\u001b[0m \u001b[0;34m+\u001b[0m \u001b[0;34m(\u001b[0m\u001b[0mint\u001b[0m\u001b[0;34m(\u001b[0m\u001b[0mint_list\u001b[0m\u001b[0;34m[\u001b[0m\u001b[0;36m1\u001b[0m\u001b[0;34m]\u001b[0m\u001b[0;34m)\u001b[0m\u001b[0;34m/\u001b[0m\u001b[0;36m100\u001b[0m\u001b[0;34m)\u001b[0m\u001b[0;34m\u001b[0m\u001b[0;34m\u001b[0m\u001b[0m\n\u001b[0m\u001b[1;32m      7\u001b[0m     \u001b[0;32melse\u001b[0m\u001b[0;34m:\u001b[0m\u001b[0;34m\u001b[0m\u001b[0;34m\u001b[0m\u001b[0m\n\u001b[1;32m      8\u001b[0m         \u001b[0;32mif\u001b[0m \u001b[0mlen\u001b[0m\u001b[0;34m(\u001b[0m\u001b[0mint_list\u001b[0m\u001b[0;34m)\u001b[0m \u001b[0;34m==\u001b[0m \u001b[0;36m1\u001b[0m\u001b[0;34m:\u001b[0m\u001b[0;34m\u001b[0m\u001b[0;34m\u001b[0m\u001b[0m\n",
      "\u001b[0;31mIndexError\u001b[0m: list index out of range"
     ]
    }
   ],
   "source": [
    "df['model_name'] = df['title'].apply(extract_model_name)\n",
    "\n",
    "df['height_list'] = df['height'].apply(lambda x: re.findall('\\d+(?=[\\u0080-\\uFFFF])', x))\n",
    "df['height_float'] = df['height_list'].apply(lambda x: dimension_to_float(x, height=True))\n",
    "\n",
    "\n",
    "df['width_list'] = df['width'].apply(lambda x: re.findall('(?<=[A-Z]\\s)\\d+|\\d+(?=\\/)|(?<=\\/)\\d+', x))\n",
    "df['width_float'] = df['width_list'].apply(lambda x: dimension_to_float(x, height=False))\n",
    "\n",
    "df['thickness_list'] = df['thickness'].apply(lambda x: re.findall('(?<=[A-Z]\\s)\\d+|\\d+(?=\\/)|(?<=\\/)\\d+', x))\n",
    "df['thickness_float'] = df['thickness_list'].apply(lambda x: dimension_to_float(x, height=False))\n",
    "\n",
    "df['uni_condition'] = df['condition'].apply(single_condition())\n",
    "\n"
   ]
  }
 ],
 "metadata": {
  "kernelspec": {
   "display_name": "Python 3",
   "language": "python",
   "name": "python3"
  },
  "language_info": {
   "codemirror_mode": {
    "name": "ipython",
    "version": 3
   },
   "file_extension": ".py",
   "mimetype": "text/x-python",
   "name": "python",
   "nbconvert_exporter": "python",
   "pygments_lexer": "ipython3",
   "version": "3.7.1"
  },
  "toc": {
   "base_numbering": 1,
   "nav_menu": {},
   "number_sections": true,
   "sideBar": true,
   "skip_h1_title": false,
   "title_cell": "Table of Contents",
   "title_sidebar": "Contents",
   "toc_cell": true,
   "toc_position": {},
   "toc_section_display": true,
   "toc_window_display": false
  },
  "varInspector": {
   "cols": {
    "lenName": 16,
    "lenType": 16,
    "lenVar": 40
   },
   "kernels_config": {
    "python": {
     "delete_cmd_postfix": "",
     "delete_cmd_prefix": "del ",
     "library": "var_list.py",
     "varRefreshCmd": "print(var_dic_list())"
    },
    "r": {
     "delete_cmd_postfix": ") ",
     "delete_cmd_prefix": "rm(",
     "library": "var_list.r",
     "varRefreshCmd": "cat(var_dic_list()) "
    }
   },
   "types_to_exclude": [
    "module",
    "function",
    "builtin_function_or_method",
    "instance",
    "_Feature"
   ],
   "window_display": false
  }
 },
 "nbformat": 4,
 "nbformat_minor": 2
}
