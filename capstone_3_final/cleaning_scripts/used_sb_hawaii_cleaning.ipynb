{
 "cells": [
  {
   "cell_type": "markdown",
   "metadata": {},
   "source": [
    "# Introduction"
   ]
  },
  {
   "cell_type": "markdown",
   "metadata": {},
   "source": [
    "### Imports"
   ]
  },
  {
   "cell_type": "code",
   "execution_count": 47,
   "metadata": {},
   "outputs": [],
   "source": [
    "\n",
    "import pandas as pd\n",
    "import numpy as np\n",
    "import matplotlib.pyplot as plt\n",
    "import seaborn as sns\n",
    "import re\n",
    "import json\n",
    "%matplotlib inline\n",
    "\n",
    "# Options for pandas\n",
    "pd.options.display.max_columns = 150\n",
    "pd.options.display.max_rows = 150\n",
    "pd.set_option('max_colwidth', 50000)\n"
   ]
  },
  {
   "cell_type": "markdown",
   "metadata": {
    "toc": true
   },
   "source": [
    "<h1>Table of Contents<span class=\"tocSkip\"></span></h1>\n",
    "<div class=\"toc\"><ul class=\"toc-item\"><li><span><a href=\"#Introduction\" data-toc-modified-id=\"Introduction-1\"><span class=\"toc-item-num\">1&nbsp;&nbsp;</span>Introduction</a></span><ul class=\"toc-item\"><li><ul class=\"toc-item\"><li><span><a href=\"#Imports\" data-toc-modified-id=\"Imports-1.0.1\"><span class=\"toc-item-num\">1.0.1&nbsp;&nbsp;</span>Imports</a></span></li></ul></li></ul></li><li><span><a href=\"#Single-Fix-Cases\" data-toc-modified-id=\"Single-Fix-Cases-2\"><span class=\"toc-item-num\">2&nbsp;&nbsp;</span>Single Fix Cases</a></span></li><li><span><a href=\"#Variable-Cleaning\" data-toc-modified-id=\"Variable-Cleaning-3\"><span class=\"toc-item-num\">3&nbsp;&nbsp;</span>Variable Cleaning</a></span></li><li><span><a href=\"#Export-Clean-Json\" data-toc-modified-id=\"Export-Clean-Json-4\"><span class=\"toc-item-num\">4&nbsp;&nbsp;</span>Export Clean Json</a></span></li></ul></div>"
   ]
  },
  {
   "cell_type": "code",
   "execution_count": 48,
   "metadata": {},
   "outputs": [
    {
     "name": "stdout",
     "output_type": "stream",
     "text": [
      "/Users/marshallmamiya/courses/thinkful_ds/capstone_final/data/raw_data\n"
     ]
    }
   ],
   "source": [
    "cd /Users/marshallmamiya/courses/thinkful_ds/capstone_final/data/raw_data/"
   ]
  },
  {
   "cell_type": "code",
   "execution_count": 49,
   "metadata": {},
   "outputs": [],
   "source": [
    "with open('used_surfboard_hawaii.json') as datafile:\n",
    "    data = json.load(datafile)\n",
    "df = pd.DataFrame(data)\n"
   ]
  },
  {
   "cell_type": "code",
   "execution_count": 50,
   "metadata": {},
   "outputs": [],
   "source": [
    "df = df.dropna(how='any')"
   ]
  },
  {
   "cell_type": "code",
   "execution_count": 51,
   "metadata": {
    "scrolled": false
   },
   "outputs": [
    {
     "data": {
      "text/plain": [
       "734"
      ]
     },
     "execution_count": 51,
     "metadata": {},
     "output_type": "execute_result"
    }
   ],
   "source": [
    "len(df)"
   ]
  },
  {
   "cell_type": "markdown",
   "metadata": {},
   "source": [
    "# Single Fix Cases"
   ]
  },
  {
   "cell_type": "code",
   "execution_count": 52,
   "metadata": {},
   "outputs": [],
   "source": [
    "#fix grammatical mistakes\n",
    "\n",
    "df.at[675, 'width'] = 'W 21″'\n",
    "df.at[343, 'width'] = 'W 20 1/3″'\n",
    "df.at[647, 'width'] = 'W 19.75\"'\n",
    "\n",
    "df.at[596, 'thickness'] = 'T 2.43'\n",
    "df.at[614, 'thickness'] = 'T 2.32'\n",
    "df.at[626, 'thickness'] = 'T 2 5/16'\n",
    "df.at[719, 'thickness'] = 'T 2 1/4'\n",
    "df.at[262, 'thickness'] = 'T 2 1/2'\n",
    "df.at[647, 'thickness'] = 'T 2 3/8'\n"
   ]
  },
  {
   "cell_type": "markdown",
   "metadata": {},
   "source": [
    "# Variable Cleaning"
   ]
  },
  {
   "cell_type": "code",
   "execution_count": 53,
   "metadata": {},
   "outputs": [],
   "source": [
    "def dimension_to_float(board_dimensions, pattern, dimension_type):\n",
    "    uni_dimension_list = re.findall(pattern, board_dimensions.strip())\n",
    "\n",
    "    if uni_dimension_list == []:\n",
    "        return np.NaN\n",
    "    \n",
    "    if dimension_type == 'height':\n",
    "        \n",
    "        if len(uni_dimension_list) == 1:\n",
    "            return float(uni_dimension_list[0])\n",
    "        elif len(uni_dimension_list) == 2:\n",
    "            return int(uni_dimension_list[0]) + (int(uni_dimension_list[1])/100)\n",
    "    \n",
    "    else:\n",
    "        \n",
    "        if len(uni_dimension_list) == 1:\n",
    "            return float(uni_dimension_list[0])\n",
    "        \n",
    "        elif len(uni_dimension_list) == 2 and len(uni_dimension_list[1]) == 1:\n",
    "            return int(uni_dimension_list[0]) + (int(uni_dimension_list[1])/10)\n",
    "        \n",
    "        elif len(uni_dimension_list) == 2 and len(uni_dimension_list[1]) >= 2:\n",
    "            return int(uni_dimension_list[0]) + (int(uni_dimension_list[1][:2])/100)\n",
    "        \n",
    "        else:\n",
    "            return int(uni_dimension_list[0]) + (int(uni_dimension_list[1])/int(uni_dimension_list[2]))\n",
    "                                    "
   ]
  },
  {
   "cell_type": "code",
   "execution_count": 54,
   "metadata": {},
   "outputs": [],
   "source": [
    "def single_condition(text):\n",
    "    text_list = [condition.strip() for condition in text.lower().split(',')]\n",
    "    condition_list = ['new', 'like new', 'excellent', 'very good', 'good', 'fair', 'poor']\n",
    "    conditon_map = {'new':'new',\n",
    "                    'like new': 'like_new',\n",
    "                    'excellent': 'like_new',\n",
    "                    'very good': 'great',\n",
    "                    'good': 'good',\n",
    "                    'fair': 'fair',\n",
    "                    'poor': 'poor'}\n",
    "    \n",
    "    for condition in condition_list:\n",
    "        if condition in text_list:\n",
    "            return conditon_map[condition]\n",
    "                                    \n",
    "\n",
    "def extract_model_name(text):\n",
    "    matches = re.findall(r'(?<=\\().*?(?=\\))', text)\n",
    "    if len(matches) == 0:\n",
    "        matches = re.findall('(Round\\sPin|Squash|Round|Pin|Diamond|Swallow|Chop|Bat|Fish|Square) Tail(?=\\sRef#)', text)\n",
    "    if len(matches) == 0:\n",
    "        model = np.NaN\n",
    "    else:\n",
    "        model = matches[0]\n",
    "    return model\n",
    "\n",
    "def clean_text(text, word_list=False):\n",
    "    text = str(text)\n",
    "    if word_list == True:\n",
    "        stripped_text = re.sub(r'\\\\n|\\n|[(),?.!@#$&*:\\/]', ' ', text).strip().lower()\n",
    "        clean_text = [word for word in stripped_text.split(' ') if word != '']\n",
    "\n",
    "    else:\n",
    "        clean_text = re.sub(r'\\\\n|\\n|[(),?.!@#$&*:\\/]', ' ', text).strip().lower()\n",
    "    \n",
    "    return clean_text"
   ]
  },
  {
   "cell_type": "code",
   "execution_count": 55,
   "metadata": {},
   "outputs": [],
   "source": [
    "height_pattern = '\\d+(?=[ftin\\u0080-\\uFFFF])'\n",
    "width_pattern = '(?<=[A-Z]\\s)\\d+|(?<=[A-Z]\\s\\s)\\d+|\\d+(?=\\/)|(?<=[.\\/])\\d+'\n",
    "thickness_pattern = '(?<=[A-Z]\\s)\\d+|(?<=[A-Z]\\s\\s)\\d+|\\d+(?=\\/)|(?<=[.\\/])\\d+'\n"
   ]
  },
  {
   "cell_type": "code",
   "execution_count": 56,
   "metadata": {
    "scrolled": true
   },
   "outputs": [],
   "source": [
    "df['model_name'] = df['title'].apply(extract_model_name)\n",
    "\n",
    "df['height_float'] = df['height'].apply(lambda x: dimension_to_float(x, height_pattern, dimension_type='height'))\n",
    "df['width_float'] = df['width'].apply(lambda x: dimension_to_float(x, width_pattern, dimension_type='width'))\n",
    "df['thickness_float'] = df['thickness'].apply(lambda x: dimension_to_float(x, thickness_pattern, dimension_type='thickness'))\n",
    "\n",
    "df['uni_condition'] = df['condition'].apply(single_condition)\n",
    "\n",
    "df['description_word_list'] = df['description'].apply(lambda x: clean_text(x, word_list=True))\n",
    "df['clean_manufacturer'] = df['manufacturer'].apply(clean_text)\n",
    "df['clean_model_name'] = df['model_name'].apply(clean_text)"
   ]
  },
  {
   "cell_type": "code",
   "execution_count": 57,
   "metadata": {},
   "outputs": [],
   "source": [
    "clean_df = df[['clean_manufacturer', 'clean_model_name', 'price', 'description_word_list', 'uni_condition', 'height_float', 'width_float', 'thickness_float']]"
   ]
  },
  {
   "cell_type": "code",
   "execution_count": 58,
   "metadata": {},
   "outputs": [],
   "source": [
    "clean_df = clean_df.rename(columns={\n",
    "    'clean_manufacturer': 'manufacturer', \n",
    "    'clean_model_name': 'model_name',\n",
    "    'uni_condition': 'condition',\n",
    "    'height_float': 'height',\n",
    "    'width_float': 'width',\n",
    "    'thickness_float': 'thickness'})"
   ]
  },
  {
   "cell_type": "code",
   "execution_count": 59,
   "metadata": {},
   "outputs": [
    {
     "data": {
      "text/html": [
       "<div>\n",
       "<style scoped>\n",
       "    .dataframe tbody tr th:only-of-type {\n",
       "        vertical-align: middle;\n",
       "    }\n",
       "\n",
       "    .dataframe tbody tr th {\n",
       "        vertical-align: top;\n",
       "    }\n",
       "\n",
       "    .dataframe thead th {\n",
       "        text-align: right;\n",
       "    }\n",
       "</style>\n",
       "<table border=\"1\" class=\"dataframe\">\n",
       "  <thead>\n",
       "    <tr style=\"text-align: right;\">\n",
       "      <th></th>\n",
       "      <th>manufacturer</th>\n",
       "      <th>model_name</th>\n",
       "      <th>price</th>\n",
       "      <th>description_word_list</th>\n",
       "      <th>condition</th>\n",
       "      <th>height</th>\n",
       "      <th>width</th>\n",
       "      <th>thickness</th>\n",
       "    </tr>\n",
       "  </thead>\n",
       "  <tbody>\n",
       "    <tr>\n",
       "      <th>0</th>\n",
       "      <td>tokoro</td>\n",
       "      <td>4vc</td>\n",
       "      <td>585.0</td>\n",
       "      <td>[brand, new, shortboard, with, no, signs, of, previous, use]</td>\n",
       "      <td>new</td>\n",
       "      <td>6.02</td>\n",
       "      <td>18.875</td>\n",
       "      <td>2.375</td>\n",
       "    </tr>\n",
       "    <tr>\n",
       "      <th>1</th>\n",
       "      <td>donald takayama  guy takayama</td>\n",
       "      <td>scorpion</td>\n",
       "      <td>749.0</td>\n",
       "      <td>[excellent, condition, hybrid, fun, board, with, minimal, signs, of, previous, use]</td>\n",
       "      <td>like_new</td>\n",
       "      <td>7.04</td>\n",
       "      <td>22.000</td>\n",
       "      <td>2.500</td>\n",
       "    </tr>\n",
       "    <tr>\n",
       "      <th>2</th>\n",
       "      <td>peralta</td>\n",
       "      <td>round pin</td>\n",
       "      <td>565.0</td>\n",
       "      <td>[excellent, condition, longboard, with, minimal, signs, of, previous, use]</td>\n",
       "      <td>like_new</td>\n",
       "      <td>9.00</td>\n",
       "      <td>21.750</td>\n",
       "      <td>2.750</td>\n",
       "    </tr>\n",
       "    <tr>\n",
       "      <th>3</th>\n",
       "      <td>donald takayama  takayama</td>\n",
       "      <td>squash</td>\n",
       "      <td>1250.0</td>\n",
       "      <td>[excellent, condition, nose, rider, longboard, with, minimal, signs, of, previous, use]</td>\n",
       "      <td>like_new</td>\n",
       "      <td>9.00</td>\n",
       "      <td>21.500</td>\n",
       "      <td>2.500</td>\n",
       "    </tr>\n",
       "    <tr>\n",
       "      <th>4</th>\n",
       "      <td>arakawa  eric arakawa</td>\n",
       "      <td>mr  200</td>\n",
       "      <td>250.0</td>\n",
       "      <td>[good, condition, step, up, with, various, pressure, dents, but, otherwise, minor, signs, of, previous, use]</td>\n",
       "      <td>good</td>\n",
       "      <td>6.08</td>\n",
       "      <td>18.500</td>\n",
       "      <td>2.310</td>\n",
       "    </tr>\n",
       "  </tbody>\n",
       "</table>\n",
       "</div>"
      ],
      "text/plain": [
       "                    manufacturer model_name   price  \\\n",
       "0                         tokoro        4vc   585.0   \n",
       "1  donald takayama  guy takayama   scorpion   749.0   \n",
       "2                        peralta  round pin   565.0   \n",
       "3      donald takayama  takayama     squash  1250.0   \n",
       "4          arakawa  eric arakawa    mr  200   250.0   \n",
       "\n",
       "                                                                                          description_word_list  \\\n",
       "0                                                  [brand, new, shortboard, with, no, signs, of, previous, use]   \n",
       "1                           [excellent, condition, hybrid, fun, board, with, minimal, signs, of, previous, use]   \n",
       "2                                    [excellent, condition, longboard, with, minimal, signs, of, previous, use]   \n",
       "3                       [excellent, condition, nose, rider, longboard, with, minimal, signs, of, previous, use]   \n",
       "4  [good, condition, step, up, with, various, pressure, dents, but, otherwise, minor, signs, of, previous, use]   \n",
       "\n",
       "  condition  height   width  thickness  \n",
       "0       new    6.02  18.875      2.375  \n",
       "1  like_new    7.04  22.000      2.500  \n",
       "2  like_new    9.00  21.750      2.750  \n",
       "3  like_new    9.00  21.500      2.500  \n",
       "4      good    6.08  18.500      2.310  "
      ]
     },
     "execution_count": 59,
     "metadata": {},
     "output_type": "execute_result"
    }
   ],
   "source": [
    "clean_df.head()"
   ]
  },
  {
   "cell_type": "markdown",
   "metadata": {},
   "source": [
    "# Export Clean Json"
   ]
  },
  {
   "cell_type": "code",
   "execution_count": 60,
   "metadata": {},
   "outputs": [
    {
     "name": "stdout",
     "output_type": "stream",
     "text": [
      "/Users/marshallmamiya/courses/thinkful_ds/capstone_final/data/clean_data\n"
     ]
    }
   ],
   "source": [
    "cd ~/courses/thinkful_ds/capstone_final/data/clean_data/"
   ]
  },
  {
   "cell_type": "code",
   "execution_count": 61,
   "metadata": {},
   "outputs": [],
   "source": [
    "clean_df.to_json('clean_usb_data.json')"
   ]
  }
 ],
 "metadata": {
  "kernelspec": {
   "display_name": "Python 3",
   "language": "python",
   "name": "python3"
  },
  "language_info": {
   "codemirror_mode": {
    "name": "ipython",
    "version": 3
   },
   "file_extension": ".py",
   "mimetype": "text/x-python",
   "name": "python",
   "nbconvert_exporter": "python",
   "pygments_lexer": "ipython3",
   "version": "3.7.1"
  },
  "toc": {
   "base_numbering": 1,
   "nav_menu": {},
   "number_sections": true,
   "sideBar": true,
   "skip_h1_title": false,
   "title_cell": "Table of Contents",
   "title_sidebar": "Contents",
   "toc_cell": true,
   "toc_position": {},
   "toc_section_display": true,
   "toc_window_display": false
  },
  "varInspector": {
   "cols": {
    "lenName": 16,
    "lenType": 16,
    "lenVar": 40
   },
   "kernels_config": {
    "python": {
     "delete_cmd_postfix": "",
     "delete_cmd_prefix": "del ",
     "library": "var_list.py",
     "varRefreshCmd": "print(var_dic_list())"
    },
    "r": {
     "delete_cmd_postfix": ") ",
     "delete_cmd_prefix": "rm(",
     "library": "var_list.r",
     "varRefreshCmd": "cat(var_dic_list()) "
    }
   },
   "types_to_exclude": [
    "module",
    "function",
    "builtin_function_or_method",
    "instance",
    "_Feature"
   ],
   "window_display": false
  }
 },
 "nbformat": 4,
 "nbformat_minor": 2
}
