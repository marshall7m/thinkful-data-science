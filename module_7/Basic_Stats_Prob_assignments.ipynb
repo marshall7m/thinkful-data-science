{
 "cells": [
  {
   "cell_type": "markdown",
   "metadata": {
    "toc": true
   },
   "source": [
    "<h1>Table of Contents<span class=\"tocSkip\"></span></h1>\n",
    "<div class=\"toc\"><ul class=\"toc-item\"><li><span><a href=\"#Working-with-Files\" data-toc-modified-id=\"Working-with-Files-1\"><span class=\"toc-item-num\">1&nbsp;&nbsp;</span>Working with Files</a></span></li><li><span><a href=\"#Plotting-Basics\" data-toc-modified-id=\"Plotting-Basics-2\"><span class=\"toc-item-num\">2&nbsp;&nbsp;</span>Plotting Basics</a></span></li><li><span><a href=\"#Summary-Stats\" data-toc-modified-id=\"Summary-Stats-3\"><span class=\"toc-item-num\">3&nbsp;&nbsp;</span>Summary Stats</a></span><ul class=\"toc-item\"><li><span><a href=\"#Question-1\" data-toc-modified-id=\"Question-1-3.1\"><span class=\"toc-item-num\">3.1&nbsp;&nbsp;</span>Question 1</a></span></li><li><span><a href=\"#Question-2\" data-toc-modified-id=\"Question-2-3.2\"><span class=\"toc-item-num\">3.2&nbsp;&nbsp;</span>Question 2</a></span></li><li><span><a href=\"#Question-3\" data-toc-modified-id=\"Question-3-3.3\"><span class=\"toc-item-num\">3.3&nbsp;&nbsp;</span>Question 3</a></span></li><li><span><a href=\"#Question-4\" data-toc-modified-id=\"Question-4-3.4\"><span class=\"toc-item-num\">3.4&nbsp;&nbsp;</span>Question 4</a></span></li><li><span><a href=\"#Question-5\" data-toc-modified-id=\"Question-5-3.5\"><span class=\"toc-item-num\">3.5&nbsp;&nbsp;</span>Question 5</a></span></li></ul></li><li><span><a href=\"#Basics-of-Probability\" data-toc-modified-id=\"Basics-of-Probability-4\"><span class=\"toc-item-num\">4&nbsp;&nbsp;</span>Basics of Probability</a></span><ul class=\"toc-item\"><li><span><a href=\"#Drill-1\" data-toc-modified-id=\"Drill-1-4.1\"><span class=\"toc-item-num\">4.1&nbsp;&nbsp;</span>Drill 1</a></span></li><li><span><a href=\"#Drill-2\" data-toc-modified-id=\"Drill-2-4.2\"><span class=\"toc-item-num\">4.2&nbsp;&nbsp;</span>Drill 2</a></span></li></ul></li><li><span><a href=\"#Data-distributions-normal-and-otherwise\" data-toc-modified-id=\"Data-distributions-normal-and-otherwise-5\"><span class=\"toc-item-num\">5&nbsp;&nbsp;</span>Data distributions normal and otherwise</a></span><ul class=\"toc-item\"><li><span><a href=\"#6-Distributions\" data-toc-modified-id=\"6-Distributions-5.1\"><span class=\"toc-item-num\">5.1&nbsp;&nbsp;</span>6 Distributions</a></span><ul class=\"toc-item\"><li><span><a href=\"#Question-1\" data-toc-modified-id=\"Question-1-5.1.1\"><span class=\"toc-item-num\">5.1.1&nbsp;&nbsp;</span>Question 1</a></span></li><li><span><a href=\"#Question-2\" data-toc-modified-id=\"Question-2-5.1.2\"><span class=\"toc-item-num\">5.1.2&nbsp;&nbsp;</span>Question 2</a></span></li></ul></li></ul></li><li><span><a href=\"#Sampling-and-the-Central-Limit-Theorem\" data-toc-modified-id=\"Sampling-and-the-Central-Limit-Theorem-6\"><span class=\"toc-item-num\">6&nbsp;&nbsp;</span>Sampling and the Central Limit Theorem</a></span></li><li><span><a href=\"#Evaluating-data-sources\" data-toc-modified-id=\"Evaluating-data-sources-7\"><span class=\"toc-item-num\">7&nbsp;&nbsp;</span>Evaluating data sources</a></span><ul class=\"toc-item\"><li><span><a href=\"#Question-1\" data-toc-modified-id=\"Question-1-7.1\"><span class=\"toc-item-num\">7.1&nbsp;&nbsp;</span>Question 1</a></span></li><li><span><a href=\"#Question-2\" data-toc-modified-id=\"Question-2-7.2\"><span class=\"toc-item-num\">7.2&nbsp;&nbsp;</span>Question 2</a></span></li><li><span><a href=\"#Question-3\" data-toc-modified-id=\"Question-3-7.3\"><span class=\"toc-item-num\">7.3&nbsp;&nbsp;</span>Question 3</a></span></li></ul></li><li><span><a href=\"#Sampling/Central-Theorem\" data-toc-modified-id=\"Sampling/Central-Theorem-8\"><span class=\"toc-item-num\">8&nbsp;&nbsp;</span>Sampling/Central Theorem</a></span><ul class=\"toc-item\"><li><span><a href=\"#Assignments\" data-toc-modified-id=\"Assignments-8.1\"><span class=\"toc-item-num\">8.1&nbsp;&nbsp;</span>Assignments</a></span></li></ul></li></ul></div>"
   ]
  },
  {
   "cell_type": "markdown",
   "metadata": {},
   "source": [
    "# Working with Files"
   ]
  },
  {
   "cell_type": "code",
   "execution_count": 2,
   "metadata": {},
   "outputs": [],
   "source": [
    "import pandas as pd\n",
    "import numpy as np\n",
    "import matplotlib.pyplot as plt\n",
    "from collections import Counter\n",
    "import statistics\n",
    "import re\n",
    "from scipy.stats import ttest_ind\n",
    "%matplotlib inline"
   ]
  },
  {
   "cell_type": "code",
   "execution_count": 3,
   "metadata": {},
   "outputs": [],
   "source": [
    "#purchases = pd.read_csv('purchases.csv')\n",
    "#purchases.to_csv('test.csv')\n",
    "\n",
    "#j_purchases = pd.read_json('purchases.json')\n",
    "#j_purchases.to_json('json_purchases.json')\n",
    "lines = []\n",
    "with open('purchases.csv') as purchases:\n",
    "    purchases = purchases.readline()\n",
    "    for line in purchases:\n",
    "        lines.append(line)\n",
    "#\"\".join(lines)\n",
    "\n"
   ]
  },
  {
   "cell_type": "markdown",
   "metadata": {},
   "source": [
    "# Plotting Basics\n",
    "\n",
    "Let's go out into the world and generate some beautiful visuals. Pick a data source from this aggregation, load the data into a pandas data frame, and generate a series of visuals around that data using pyplot.\n",
    "\n",
    "Each visualization should be accompanied by 2-3 sentences describing what you think is revealed by this representation. Generate at least four different visuals, and be sure to use different types as well as the subplot functionality discussed above. And remember: clean and elegant visuals are key to telling a coherent story."
   ]
  },
  {
   "cell_type": "code",
   "execution_count": 4,
   "metadata": {
    "scrolled": true
   },
   "outputs": [],
   "source": [
    "#import data\n",
    "df = pd.read_csv('planecrashinfo_20181121001952.csv')\n"
   ]
  },
  {
   "cell_type": "code",
   "execution_count": 5,
   "metadata": {
    "scrolled": true
   },
   "outputs": [
    {
     "data": {
      "text/plain": [
       "5783"
      ]
     },
     "execution_count": 5,
     "metadata": {},
     "output_type": "execute_result"
    }
   ],
   "source": [
    "#explore\n",
    "\n",
    "#df.head()\n",
    "#df.describe()\n",
    "len(df)"
   ]
  },
  {
   "cell_type": "code",
   "execution_count": 6,
   "metadata": {},
   "outputs": [],
   "source": [
    "\n",
    "#drop irrelevant colomns\n",
    "columns_drop = ['flight_no', 'ac_type', 'registration', \n",
    "                'cn_ln', 'aboard', 'ground', 'summary']\n",
    "\n",
    "df.drop(columns = columns_drop, inplace = True)\n",
    "\n",
    "#keep top 10 freq crash locations\n",
    "locations = []\n",
    "freq_loc = []\n",
    "cnt_loc = Counter(df['location'])\n",
    "common_loc = cnt_loc.most_common(10)\n",
    "for key, value in common_loc:\n",
    "    locations.append(key)\n",
    "    freq_loc.append(value)\n",
    "loc_df = df[df['location'].isin(locations)]\n"
   ]
  },
  {
   "cell_type": "code",
   "execution_count": 7,
   "metadata": {},
   "outputs": [],
   "source": [
    "df['total_fatalities'] = [i.split()[0]for i in df['fatalities']]\n",
    "\n",
    "#create column of only integer months\n",
    "df['month_date_num'] = [i.split(' ')[0] for i in df['date']]\n",
    "\n",
    "months = {'January': 1,\n",
    "'February': 2,\n",
    "'March': 3,\n",
    "'April': 4,\n",
    "'May': 5,\n",
    "'June': 6,\n",
    "'July': 7,\n",
    "'August': 8,\n",
    "'September': 9,\n",
    "'October': 10,\n",
    "'November': 11,\n",
    "'December': 12}\n",
    "\n",
    "df['month_date_num'] = [months[i] for i in df['month_date_num']]"
   ]
  },
  {
   "cell_type": "code",
   "execution_count": 8,
   "metadata": {},
   "outputs": [
    {
     "ename": "NameError",
     "evalue": "name 'filt2' is not defined",
     "output_type": "error",
     "traceback": [
      "\u001b[0;31m---------------------------------------------------------------------------\u001b[0m",
      "\u001b[0;31mNameError\u001b[0m                                 Traceback (most recent call last)",
      "\u001b[0;32m<ipython-input-8-bb2be75d5208>\u001b[0m in \u001b[0;36m<module>\u001b[0;34m\u001b[0m\n\u001b[0;32m----> 1\u001b[0;31m \u001b[0mdf\u001b[0m\u001b[0;34m.\u001b[0m\u001b[0mloc\u001b[0m\u001b[0;34m[\u001b[0m\u001b[0mfilt2\u001b[0m\u001b[0;34m,\u001b[0m \u001b[0;34m'time'\u001b[0m\u001b[0;34m]\u001b[0m\u001b[0;34m\u001b[0m\u001b[0;34m\u001b[0m\u001b[0m\n\u001b[0m",
      "\u001b[0;31mNameError\u001b[0m: name 'filt2' is not defined"
     ]
    }
   ],
   "source": [
    "df.loc[filt2, 'time']"
   ]
  },
  {
   "cell_type": "code",
   "execution_count": null,
   "metadata": {},
   "outputs": [],
   "source": [
    "df = df[df.time != '?'].copy()\n",
    "df['clean_time'] = df.time.str.lstrip('c ').str.lstrip('c ').str.rstrip('Z').str.lstrip('c:').str.lstrip('C ').str.lstrip('d ')\n",
    "\n",
    "filt = df.clean_time.str.len() > 5\n",
    "df.loc[filt, 'clean_time'] = df[filt]['clean_time'].apply(lambda x: x[1:])\n",
    "\n",
    "filt = df.clean_time.str.len() == 4\n",
    "df.loc[filt, 'clean_time'] = df[filt]['clean_time'].apply(lambda x: x[:2] + ':' + x[2:] if ':' not in x else x)\n",
    "df.loc[filt, 'clean_time'] = df[filt]['clean_time'].apply(lambda x: '0' + x if x[1] == ':' else x)\n",
    "\n",
    "filt = df.clean_time.apply(lambda x: x[1] == ':')\n",
    "df.loc[filt, 'clean_time'] = df[filt]['clean_time'].apply(lambda x: '0'+ x[:-1])\n",
    "\n",
    "df['clean_time'] = df.clean_time.apply(lambda x: int(x[:2]) + int(x[3:]) / 60)\n",
    "df['total_fatalities'] = df.total_fatalities.astype(int)\n"
   ]
  },
  {
   "cell_type": "code",
   "execution_count": null,
   "metadata": {},
   "outputs": [],
   "source": [
    "top_operators = list(df.operator.value_counts().keys()[:10])\n",
    "operators_freq = list(df.operator.value_counts().values[:10])\n",
    "top_operators = dict(zip( top_operators, operators_freq))"
   ]
  },
  {
   "cell_type": "code",
   "execution_count": null,
   "metadata": {},
   "outputs": [],
   "source": [
    "#explore data\n",
    "\n",
    "plt.figure(figsize=(20,10))\n",
    "#\n",
    "plt.subplot(2,2,1)\n",
    "x = np.arange(0,20,2)\n",
    "plt.barh(locations, freq_loc)\n",
    "plt.xticks(x)\n",
    "plt.xlabel('Total Crashes')\n",
    "plt.ylabel('Location')\n",
    "plt.title('Top 10 Plane Crash Locations')\n",
    "\n",
    "#year to fatalities\n",
    "plt.subplot(2,2,2)\n",
    "plt.scatter(df['clean_time'], df['total_fatalities'], alpha= .2)\n",
    "plt.title('Times of Plane Crashes')\n",
    "x = np.arange(1, 23.59, 1)\n",
    "plt.xticks(x)\n",
    "plt.yscale(\"log\")\n",
    "plt.ylim([1,1000])\n",
    "plt.xlabel('Time (Military)')\n",
    "# or ylabel can be just \"Fatalities\"?\n",
    "plt.ylabel('Fatalities')\n",
    "\n",
    "#Pct of Operators\n",
    "plt.subplot(2,2,3)\n",
    "plt.pie(top_operators.values(), labels = top_operators.keys())\n",
    "plt.title('Operators with most Crashes')\n",
    "\n",
    "plt.show()\n"
   ]
  },
  {
   "cell_type": "markdown",
   "metadata": {},
   "source": [
    "2-3 sentences description"
   ]
  },
  {
   "cell_type": "markdown",
   "metadata": {},
   "source": [
    "# Summary Stats"
   ]
  },
  {
   "cell_type": "code",
   "execution_count": null,
   "metadata": {
    "scrolled": true
   },
   "outputs": [],
   "source": [
    "kids = {'greg': 14,\n",
    "        'marcia': 12,\n",
    "        'peter': 11,\n",
    "        'jan': 10,\n",
    "        'bobby': 8,\n",
    "        'cindy': 6,\n",
    "        'oliver': 8}\n",
    "df = pd.DataFrame()\n",
    "df['names'] = kids.keys()\n",
    "df['age'] = kids.values()\n",
    "df.describe()"
   ]
  },
  {
   "cell_type": "markdown",
   "metadata": {},
   "source": [
    "## Question 1 \n",
    "\n",
    "1. Greg was 14, Marcia was 12, Peter was 11, Jan was 10, Bobby was 8, and Cindy was 6 when they started playing the Brady kids on The Brady Bunch.  Cousin Oliver was 8 years old when he joined the show. What are the mean, median, and mode of the kids' ages when they first appeared on the show? What are the variance, standard deviation, and standard error?"
   ]
  },
  {
   "cell_type": "code",
   "execution_count": null,
   "metadata": {},
   "outputs": [],
   "source": [
    "mean = np.mean(df)\n",
    "median = np.median(df['age'])\n",
    "mode = statistics.mode(df['age'])\n",
    "var = np.var(df)\n",
    "std = np.std(df, ddof=1)\n",
    "stand_error = std / np.sqrt(len(df))\n",
    "stand_error"
   ]
  },
  {
   "cell_type": "markdown",
   "metadata": {},
   "source": [
    "## Question 2\n",
    "\n",
    "2. Using these estimates, if you had to choose only one estimate of central tendency and one estimate of variance to describe the data, which would you pick and why?"
   ]
  },
  {
   "cell_type": "markdown",
   "metadata": {},
   "source": [
    "I would choose the mean as the best measurement to describe the data. Since the dataset is very small it not beneficial to use the mode or median. As for variance, I would use the std since it will give insight on the age range of the data. Since the std is quite small, we can assume that the range of ages will be small too. The standard error wouldn't be beneficial since there is no uncertainty with the data. "
   ]
  },
  {
   "cell_type": "markdown",
   "metadata": {},
   "source": [
    "## Question 3\n",
    "3. Next, Cindy has a birthday. Update your estimates- what changed, and what didn't?"
   ]
  },
  {
   "cell_type": "code",
   "execution_count": null,
   "metadata": {
    "scrolled": true
   },
   "outputs": [],
   "source": [
    "#change cindy's age\n",
    "df.loc[5,'age'] = 9\n",
    "df.describe()"
   ]
  },
  {
   "cell_type": "code",
   "execution_count": null,
   "metadata": {},
   "outputs": [],
   "source": [
    "mean = np.mean(df)\n",
    "median = np.median(df['age'])\n",
    "mode = statistics.mode(df['age'])\n",
    "var = np.var(df)\n",
    "std = np.std(df, ddof=1)\n",
    "stand_error = std / np.sqrt(len(df))\n",
    "stand_error"
   ]
  },
  {
   "cell_type": "markdown",
   "metadata": {},
   "source": [
    "The mean increased by around .5, std decreased by .5, standard error decreased by .1. The mode and median remained the same. "
   ]
  },
  {
   "cell_type": "markdown",
   "metadata": {},
   "source": [
    "## Question 4\n",
    "4. Nobody likes Cousin Oliver. Maybe the network should have used an even younger actor. Replace Cousin Oliver with 1-year-old Jessica, then recalculate again.  Does this change your choice of central tendency or variance estimation methods?"
   ]
  },
  {
   "cell_type": "code",
   "execution_count": null,
   "metadata": {},
   "outputs": [],
   "source": [
    "df.loc[6, 'names'] = 'Jessica'\n",
    "df.loc[6, 'age'] = '1'\n",
    "#why does the describe attr change? \n",
    "df.describe()"
   ]
  },
  {
   "cell_type": "markdown",
   "metadata": {},
   "source": [
    "## Question 5\n",
    "5. On the 50th anniversary of The Brady Bunch, four different magazines asked their readers whether they were fans of the show.  The answers were:\n",
    "    TV Guide            20% fans\n",
    "    Entertainment Weekly    23% fans\n",
    "    Pop Culture Today       17% fans\n",
    "    SciPhi Phanatic     5% fans\n",
    "\n",
    " Based on these numbers, what percentage of adult Americans would you estimate were Brady Bunch fans on the 50th anniversary of the show?"
   ]
  },
  {
   "cell_type": "code",
   "execution_count": null,
   "metadata": {},
   "outputs": [],
   "source": [
    "answer = np.mean([23, 20, 17])\n",
    "answer"
   ]
  },
  {
   "cell_type": "markdown",
   "metadata": {},
   "source": [
    "I actually didn't know what the Brady Bunch were so after I found out they were a sitcom, I realized that the SciPhi Phanatic community doesn't represent the population and is probably more biased. The other 3 probably represent the general population alot better. Knowing that, I took the average of the three and I would estimate that 20% of the adult Americans were fans of anniversary show. "
   ]
  },
  {
   "cell_type": "markdown",
   "metadata": {},
   "source": [
    "# Basics of Probability"
   ]
  },
  {
   "cell_type": "markdown",
   "metadata": {},
   "source": [
    "## Drill 1"
   ]
  },
  {
   "cell_type": "markdown",
   "metadata": {},
   "source": [
    "Calculate the probability of flipping a balanced coin four times and getting each pattern: HTTH, HHHH and TTHH.\n",
    "If a list of people has 24 women and 21 men, then the probability of choosing a man from the list is 21/45. What is the probability of not choosing a man?\n",
    "The probability that Bernice will travel by plane sometime in the next year is 10%. The probability of a plane crash at any time is .005%. What is the probability that Bernice will be in a plane crash sometime in the next year?\n",
    "A data scientist wants to study the behavior of users on the company website. Each time a user clicks on a link on the website, there is a 5% chance that the user will be asked to complete a short survey about their behavior on the website. The data scientist uses the survey data to conclude that, on average, users spend 15 minutes surfing the company website before moving on to other things. What is wrong with this conclusion?\n",
    "When you're done, the solution for this drillset can be found here."
   ]
  },
  {
   "cell_type": "code",
   "execution_count": null,
   "metadata": {},
   "outputs": [],
   "source": [
    "#1\n",
    "prob_h_t = .50\n",
    "htth = prob_h_t * prob_h_t * prob_h_t * prob_h_t\n",
    "answer = htth\n",
    "#since the prob are indep, HHHH and TTHH = 0.0625 too\n",
    "\n",
    "#2 \n",
    "total = 24 + 21\n",
    "answer = (45 - 21) / total\n",
    "\n",
    "#3 \n",
    "prob_travel = .10\n",
    "prob_crash = .005\n",
    "answer = prob_travel * prob_crash\n",
    "answer\n",
    "\n",
    "#4 \n",
    "prob_ask_survey = .05\n",
    "# biased towards users who use the website more and ultimately click more links.\n",
    "#since the likelihood of being asked increases everytime they click a link"
   ]
  },
  {
   "cell_type": "markdown",
   "metadata": {},
   "source": [
    "## Drill 2"
   ]
  },
  {
   "cell_type": "markdown",
   "metadata": {},
   "source": [
    "Drill set 2\n",
    "Now it's time to use Bayes' rule to compute some conditional probabilities. First look over the numbers and estimate each of the four probabilities, using your intuition. Then, calculate the probabilities using Bayes' rule. Keep track of your work in a Google document or markdown file that you can share with your mentor.\n",
    "\n",
    "A diagnostic test has a 98% probability of giving a positive result when applied to a person suffering from Thripshaw's Disease, and 10% probability of giving a (false) positive when applied to a non-sufferer. It is estimated that 0.5 % of the population are sufferers. Suppose that the test is now administered to a person whose disease status is unknown. Calculate the probability that the test will:\n",
    "\n",
    "Be positive \n",
    "\n",
    "Correctly diagnose a sufferer of Thripshaw's\n",
    "\n",
    "Correctly identify a non-sufferer of Thripshaw's\n",
    "\n",
    "Misclassify the person"
   ]
  },
  {
   "cell_type": "markdown",
   "metadata": {},
   "source": [
    "Bayes:\n",
    "P(A | B) = P(B | A) * P(A) / P(B)\n",
    " \n",
    "P(B | A) = prob of B (negative) given results A (false negative prob)\n",
    "\n",
    "P(A) = prob of A (prob of having disease (true positive prob)\n",
    "\n",
    "P(B) = prob B (prob of not having disease (true negative)"
   ]
  },
  {
   "cell_type": "code",
   "execution_count": null,
   "metadata": {},
   "outputs": [],
   "source": [
    "#typo in instructions .5 = .05\n",
    ".05 * .98 * .01"
   ]
  },
  {
   "cell_type": "markdown",
   "metadata": {},
   "source": [
    "# Data distributions normal and otherwise"
   ]
  },
  {
   "cell_type": "markdown",
   "metadata": {},
   "source": [
    "To complete the following drills, you'll need to use your Python skills to create some datasets, then use your new statistical knowledge to summarize them. Choose 6 distributions from the list of random distributions available in NumPy, called “Distributions”\n",
    "\n",
    "For each distribution:\n",
    "\n",
    "Generate a random variable with 100 datapoints using the code distributionvar = np.random.distributionname([arguments], 100), replacing distributionvar with an appropriate variable name and distributionname with the name of the distribution you’ve chosen, and filling in the empty space in the parentheses with your chosen values for the appropriate parameters. If you feel uncertain about how to do this, go back to the “Other Distributions” assignment for examples of code to use as a starting point.\n",
    "\n",
    "Graph the variable using a histogram.\n",
    "\n",
    "Compute the mean and standard deviation and plot them as vertical lines on the histogram.\n",
    "\n",
    "Evaluate whether the descriptive statistics provided useful information about the variable. Can you identify any common characteristics of the distributions that could be usefully described using the mean and/or standard deviation, versus the ones that could not?\n",
    "\n",
    "Additionally:\n",
    "\n",
    "Generate two normally-distributed variables, one with a mean of 5 and standard deviation of 0.5, and the other with a mean of 10 and standard deviation of 1.\n",
    "\n",
    "Add them together to create a third variable.\n",
    "\n",
    "Graph the third variable using a histogram.\n",
    "\n",
    "Compute the mean and standard deviation and plot them as vertical lines on the histogram.\n",
    "\n",
    "Evaluate the descriptive statistics against the data.\n"
   ]
  },
  {
   "cell_type": "markdown",
   "metadata": {},
   "source": [
    "## 6 Distributions"
   ]
  },
  {
   "cell_type": "code",
   "execution_count": null,
   "metadata": {
    "scrolled": true
   },
   "outputs": [],
   "source": [
    "normal = np.random.normal(loc = 0, scale = 1, size= 100)\n",
    "binormal = np.random.binomial(2, .5, size= 100)\n",
    "poisson = np.random.poisson(lam = 1, size= 100)\n",
    "gamma = np.random.gamma(8,1, size= 100)\n",
    "uniform = np.random.uniform(-2, 5, size= 100)\n",
    "beta = np.random.beta(6,2, 100)\n",
    "\n",
    "plt.figure(figsize = (20,20))\n",
    "\n",
    "plt.subplot(3,3,1)\n",
    "plt.hist(normal)\n",
    "plt.title('Normal')\n",
    "plt.axvline(normal.mean(), color='b', linestyle='solid', linewidth=2)\n",
    "plt.axvline(normal.std(), color='b', linestyle='dotted', linewidth=2)\n",
    "\n",
    "plt.subplot(3,3,2)\n",
    "plt.hist(binormal)\n",
    "plt.title('Binormal')\n",
    "plt.axvline(binormal.mean(), color='b', linestyle='solid', linewidth=2)\n",
    "plt.axvline(binormal.std(), color='b', linestyle='dotted', linewidth=2)\n",
    "\n",
    "plt.subplot(3,3,3)\n",
    "plt.hist(poisson)\n",
    "plt.title('Poisson')\n",
    "plt.axvline(poisson.mean(), color='b', linestyle='solid', linewidth=2)\n",
    "plt.axvline(poisson.std(), color='b', linestyle='dotted', linewidth=2)\n",
    "\n",
    "plt.subplot(3,3,4)\n",
    "plt.hist(gamma)\n",
    "plt.title('Gamma')\n",
    "plt.axvline(gamma.mean(), color='b', linestyle='solid', linewidth=2)\n",
    "plt.axvline(gamma.std(), color='b', linestyle='dotted', linewidth=2)\n",
    "\n",
    "plt.subplot(3,3,5)\n",
    "plt.hist(uniform)\n",
    "plt.title('Uniform')\n",
    "plt.axvline(uniform.mean(), color='b', linestyle='solid', linewidth=2)\n",
    "plt.axvline(uniform.std(), color='b', linestyle='dotted', linewidth=2)\n",
    "\n",
    "plt.subplot(3,3,6)\n",
    "plt.hist(beta)\n",
    "plt.title('Beta')\n",
    "plt.axvline(beta.mean(), color='b', linestyle='solid', linewidth=2)\n",
    "plt.axvline(beta.std(), color='b', linestyle='dotted', linewidth=2)\n",
    "\n",
    "plt.show()"
   ]
  },
  {
   "cell_type": "markdown",
   "metadata": {},
   "source": [
    "### Question 1"
   ]
  },
  {
   "cell_type": "markdown",
   "metadata": {},
   "source": [
    "Normal: Yes the mean and std accurately represents the data since 50% of the data fall on each side of the mean and the std represents the variance in regards to the mean.\n",
    "\n",
    "Binormal: Yes the mean be a useful metric since the data is also somewhate evenly distributed on each side. Although the std doesn't represent the variance of the data since the data is discrete and the data is spread out significantly farther than mean.\n",
    "\n",
    "Poisson: No for both since the data is skewed towards the left side of the mean so the mean and stardard deviation would be discarded. \n",
    "\n",
    "Gamma: Yes the mean would be a useful metric since the data is somewhat centered in the middle. The standard deviation would be useful since it helps shows the range of the data in the distribution. \n",
    "\n",
    "Common Characteristics: Skewed distributions are more likely to disregard the mean and standard deviation. "
   ]
  },
  {
   "cell_type": "markdown",
   "metadata": {},
   "source": [
    "### Question 2"
   ]
  },
  {
   "cell_type": "markdown",
   "metadata": {},
   "source": [
    "Generate two normally-distributed variables, one with a mean of 5 and standard deviation of 0.5, and the other with a mean of 10 and standard deviation of 1.\n",
    "\n",
    "Add them together to create a third variable.\n",
    "\n",
    "Graph the third variable using a histogram.\n",
    "\n",
    "Compute the mean and standard deviation and plot them as vertical lines on the histogram.\n",
    "\n",
    "Evaluate the descriptive statistics against the data."
   ]
  },
  {
   "cell_type": "code",
   "execution_count": null,
   "metadata": {
    "scrolled": true
   },
   "outputs": [],
   "source": [
    "rand1 = np.random.normal(5, .5, 100)\n",
    "rand2 = np.random.normal(10, 1, 100)\n",
    "rand3 = rand1 + rand2\n",
    "\n",
    "\n",
    "mean1 = rand1.mean()\n",
    "std1 = rand1.std()\n",
    "\n",
    "mean2 = rand2.mean()\n",
    "std2 = rand2.std()\n",
    "\n",
    "mean3 = rand3.mean()\n",
    "std3 = rand3.std()\n",
    "plt.figure(figsize = (10,5))\n",
    "\n",
    "plt.hist(rand1)\n",
    "plt.axvline(mean1, color='b', linestyle='solid', linewidth=2)\n",
    "plt.axvline(mean1 + std1, color='b', linestyle='dotted', linewidth=2)\n",
    "plt.axvline(mean1 - std1, color='b', linestyle='dotted', linewidth=2)\n",
    "\n",
    "plt.hist(rand2)\n",
    "plt.axvline(mean2, color='b', linestyle='solid', linewidth=2)\n",
    "plt.axvline(mean2 + std2, color='b', linestyle='dotted', linewidth=2)\n",
    "plt.axvline(mean2 - std2, color='b', linestyle='dotted', linewidth=2)\n",
    "\n",
    "plt.hist(rand3)\n",
    "plt.axvline(mean3, color='b', linestyle='solid', linewidth=2)\n",
    "plt.axvline(mean3 + std3, color='b', linestyle='dotted', linewidth=2)\n",
    "plt.axvline(mean3 - std3, color='b', linestyle='dotted', linewidth=2)\n",
    "plt.show()"
   ]
  },
  {
   "cell_type": "markdown",
   "metadata": {},
   "source": [
    "The rand3 distribution is skewed right slightly since most of the data from the two other distributions were centered below the rand3 mean of 15. "
   ]
  },
  {
   "cell_type": "markdown",
   "metadata": {},
   "source": [
    "# Sampling and the Central Limit Theorem"
   ]
  },
  {
   "cell_type": "markdown",
   "metadata": {},
   "source": [
    "Now that you have some code to create your own populations, sample them, and compare the samples to the populations, it's time to experiment. Using your own Jupyter notebook, or a copy of the notebook above, reproduce the pop1 and pop2 populations and samples using numpy's binomial function. Specifically, create two binomially distributed populations with n equal to 10 and size equal to 10000. The p-value of pop1 should be 0.2 and the p-value of pop2 should be 0.5. Using a sample size of 100, calculate the means and standard deviations of your samples.\n",
    "\n",
    "For each of the following tasks, first write what you expect will happen, then code the changes and observe what does happen. Discuss the results with your mentor.\n",
    "\n",
    "Increase the size of your samples from 100 to 1000, then calculate the means and standard deviations for your new samples and create histograms for each. Repeat this again, decreasing the size of your samples to 20. What values change, and what remain the same?\n",
    "\n",
    "Change the probability value (p in the NumPy documentation) for pop1 to 0.3, then take new samples and compute the t-statistic and p-value. Then change the probability value p for group 1 to 0.4, and do it again. What changes, and why?\n",
    "\n",
    "Change the distribution of your populations from binomial to a distribution of your choice. Do the sample mean values still accurately represent the population values?\n",
    "\n"
   ]
  },
  {
   "cell_type": "code",
   "execution_count": null,
   "metadata": {
    "scrolled": false
   },
   "outputs": [],
   "source": [
    "np.random.seed(30)\n",
    "pop1 = np.random.binomial(10, .2, 10000)\n",
    "pop2 = np.random.binomial(10, .5, 10000)\n",
    "\n",
    "samp1 = np.random.choice(pop1, 100)\n",
    "samp2 = np.random.choice(pop2, 100)\n",
    "\n",
    "plt.hist(samp1, alpha = .5)\n",
    "plt.hist(samp2, alpha = .5)\n",
    "plt.show()\n",
    "\n",
    "mean1, std1 = samp1.mean(), samp1.std()\n",
    "mean2, std2 = samp2.mean(), samp2.std()\n",
    "print('samp1 mean {} ... std {}'.format(mean1, std1))\n",
    "print('samp2 mean {} ... std {}'.format(mean2, std2))\n",
    "\n",
    "se = mean2 - mean1\n",
    "print('standard error {}'.format(se))\n",
    "\n",
    "t_value, p_value = ttest_ind(samp2, samp1, equal_var=False)\n",
    "print('t-value {} ... p-value {}'.format(t_value, p_value))\n"
   ]
  },
  {
   "cell_type": "markdown",
   "metadata": {},
   "source": [
    "Prediction #1 : (100 samples to 1000)\n",
    "\n",
    "Increasing the sample size to 1000 will increase the amount of noise within the histogram. The p value will go down since the sample size is increasing and will fit the population more than 100. The t value may decrease since more samples may increase the noises and which could lead to a smaller mean difference between the two samples."
   ]
  },
  {
   "cell_type": "code",
   "execution_count": null,
   "metadata": {},
   "outputs": [],
   "source": [
    "np.random.seed(30)\n",
    "pop1 = np.random.binomial(10, .2, 10000)\n",
    "pop2 = np.random.binomial(10, .5, 10000)\n",
    "\n",
    "samp1 = np.random.choice(pop1, 1000)\n",
    "samp2 = np.random.choice(pop2, 1000)\n",
    "\n",
    "plt.hist(samp1, alpha = .5)\n",
    "plt.hist(samp2, alpha = .5)\n",
    "plt.show()\n",
    "\n",
    "mean1, std1 = samp1.mean(), samp1.std()\n",
    "mean2, std2 = samp2.mean(), samp2.std()\n",
    "print('samp1 mean {} ... std {}'.format(mean1, std1))\n",
    "print('samp2 mean {} ... std {}'.format(mean2, std2))\n",
    "\n",
    "se = mean2 - mean1\n",
    "print('standard error {}'.format(se))\n",
    "\n",
    "t_value, p_value = ttest_ind(samp2, samp1, equal_var=False)\n",
    "print('t-value {} ... p-value {}'.format(t_value, p_value))\n"
   ]
  },
  {
   "cell_type": "markdown",
   "metadata": {},
   "source": [
    "Prediction 2: (1000 samples to 20)\n",
    "\n",
    "After seeing the results of my first prediction, I predict that the t-value will decrease significantly and the p-value will increase slightly compared to the first distribution. The histogram will obviously have less noise than the last one."
   ]
  },
  {
   "cell_type": "code",
   "execution_count": null,
   "metadata": {},
   "outputs": [],
   "source": [
    "np.random.seed(30)\n",
    "pop1 = np.random.binomial(10, .2, 10000)\n",
    "pop2 = np.random.binomial(10, .5, 10000)\n",
    "\n",
    "samp1 = np.random.choice(pop1, 20)\n",
    "samp2 = np.random.choice(pop2, 20)\n",
    "\n",
    "plt.hist(samp1, alpha = .5)\n",
    "plt.hist(samp2, alpha = .5)\n",
    "plt.show()\n",
    "\n",
    "mean1, std1 = samp1.mean(), samp1.std()\n",
    "mean2, std2 = samp2.mean(), samp2.std()\n",
    "print('samp1 mean {} ... std {}'.format(mean1, std1))\n",
    "print('samp2 mean {} ... std {}'.format(mean2, std2))\n",
    "\n",
    "se = mean2 - mean1\n",
    "print('standard error {}'.format(se))\n",
    "\n",
    "t_value, p_value = ttest_ind(samp2, samp1, equal_var=False)\n",
    "print('t-value {} ... p-value {}'.format(t_value, p_value))\n"
   ]
  },
  {
   "cell_type": "markdown",
   "metadata": {},
   "source": [
    "Prediction #3: (change pop1 p = .3)\n",
    "The samples will be somewhat in the middle? Unsure"
   ]
  },
  {
   "cell_type": "code",
   "execution_count": 10,
   "metadata": {},
   "outputs": [
    {
     "data": {
      "image/png": "[encoded data removed]",
      "text/plain": [
       "<Figure size 432x288 with 1 Axes>"
      ]
     },
     "metadata": {
      "needs_background": "light"
     },
     "output_type": "display_data"
    },
    {
     "name": "stdout",
     "output_type": "stream",
     "text": [
      "samp1 mean 2.94 ... std 1.355138369318794\n",
      "samp2 mean 5.1 ... std 1.5716233645501712\n",
      "standard error 2.1599999999999997\n",
      "t-value 10.356527555758717 ... p-value 2.7620537128082026e-20\n"
     ]
    }
   ],
   "source": [
    "np.random.seed(30)\n",
    "pop1 = np.random.binomial(10, .3, 10000)\n",
    "pop2 = np.random.binomial(10, .5, 10000)\n",
    "\n",
    "samp1 = np.random.choice(pop1, 100)\n",
    "samp2 = np.random.choice(pop2, 100)\n",
    "\n",
    "plt.hist(samp1, alpha = .5)\n",
    "plt.hist(samp2, alpha = .5)\n",
    "plt.show()\n",
    "\n",
    "mean1, std1 = samp1.mean(), samp1.std()\n",
    "mean2, std2 = samp2.mean(), samp2.std()\n",
    "print('samp1 mean {} ... std {}'.format(mean1, std1))\n",
    "print('samp2 mean {} ... std {}'.format(mean2, std2))\n",
    "\n",
    "se = mean2 - mean1\n",
    "print('standard error {}'.format(se))\n",
    "\n",
    "t_value, p_value = ttest_ind(samp2, samp1, equal_var=False)\n",
    "print('t-value {} ... p-value {}'.format(t_value, p_value))\n"
   ]
  },
  {
   "cell_type": "markdown",
   "metadata": {},
   "source": [
    "prediction #4:\n",
    "\n",
    "Unsure"
   ]
  },
  {
   "cell_type": "code",
   "execution_count": 87,
   "metadata": {},
   "outputs": [
    {
     "data": {
      "image/png": "[encoded data removed]",
      "text/plain": [
       "<Figure size 432x288 with 1 Axes>"
      ]
     },
     "metadata": {
      "needs_background": "light"
     },
     "output_type": "display_data"
    },
    {
     "name": "stdout",
     "output_type": "stream",
     "text": [
      "samp1 mean 1.94 ... std 1.1732007500849972\n",
      "samp2 mean 4.1 ... std 1.5459624833740306\n",
      "standard error 2.1599999999999997\n",
      "t-value 11.074092017799543 ... p-value 3.4922477393142123e-22\n"
     ]
    }
   ],
   "source": [
    "np.random.seed(30)\n",
    "pop1 = np.random.binomial(10, .2, 10000)\n",
    "pop2 = np.random.binomial(10, .4, 10000)\n",
    "\n",
    "samp1 = np.random.choice(pop1, 100)\n",
    "samp2 = np.random.choice(pop2, 100)\n",
    "\n",
    "plt.hist(samp1, alpha = .5)\n",
    "plt.hist(samp2, alpha = .5)\n",
    "plt.show()\n",
    "\n",
    "mean1, std1 = samp1.mean(), samp1.std()\n",
    "mean2, std2 = samp2.mean(), samp2.std()\n",
    "print('samp1 mean {} ... std {}'.format(mean1, std1))\n",
    "print('samp2 mean {} ... std {}'.format(mean2, std2))\n",
    "\n",
    "se = mean2 - mean1\n",
    "print('standard error {}'.format(se))\n",
    "\n",
    "t_value, p_value = ttest_ind(samp2, samp1, equal_var=False)\n",
    "print('t-value {} ... p-value {}'.format(t_value, p_value))\n"
   ]
  },
  {
   "cell_type": "markdown",
   "metadata": {},
   "source": [
    "Change Distribution to Normal:\n",
    "\n",
    "A normal distribution changed the means to be very similar between the samples. The t-value decreased significantly since the means were very similar. The p-value is still very low which is suprising since the t-value is so low. "
   ]
  },
  {
   "cell_type": "code",
   "execution_count": 89,
   "metadata": {},
   "outputs": [
    {
     "data": {
      "image/png": "[encoded data removed]",
      "text/plain": [
       "<Figure size 432x288 with 1 Axes>"
      ]
     },
     "metadata": {
      "needs_background": "light"
     },
     "output_type": "display_data"
    },
    {
     "name": "stdout",
     "output_type": "stream",
     "text": [
      "samp1 mean 9.997209120306549 ... std 0.20101746178571464\n",
      "samp2 mean 9.995891577312921 ... std 0.5288624813612298\n",
      "standard error -0.0013175429936271854\n",
      "t-value -0.023170593166821015 ... p-value 0.9815505559028923\n"
     ]
    }
   ],
   "source": [
    "np.random.seed(30)\n",
    "pop1 = np.random.normal(10, .2, 10000)\n",
    "pop2 = np.random.normal(10, .5, 10000)\n",
    "\n",
    "samp1 = np.random.choice(pop1, 100)\n",
    "samp2 = np.random.choice(pop2, 100)\n",
    "\n",
    "plt.hist(samp1, alpha = .5)\n",
    "plt.hist(samp2, alpha = .5)\n",
    "plt.show()\n",
    "\n",
    "mean1, std1 = samp1.mean(), samp1.std()\n",
    "mean2, std2 = samp2.mean(), samp2.std()\n",
    "print('samp1 mean {} ... std {}'.format(mean1, std1))\n",
    "print('samp2 mean {} ... std {}'.format(mean2, std2))\n",
    "\n",
    "se = mean2 - mean1\n",
    "print('standard error {}'.format(se))\n",
    "\n",
    "t_value, p_value = ttest_ind(samp2, samp1, equal_var=False)\n",
    "print('t-value {} ... p-value {}'.format(t_value, p_value))\n"
   ]
  },
  {
   "cell_type": "markdown",
   "metadata": {},
   "source": [
    "# Evaluating data sources"
   ]
  },
  {
   "cell_type": "markdown",
   "metadata": {},
   "source": [
    "In each of the scenarios, find possible shortcomings of the theoretical or actual data sources to answer the given question. What could be done to either adjust the analysis or reframe the question so that you can answer it accurately?"
   ]
  },
  {
   "cell_type": "markdown",
   "metadata": {},
   "source": [
    "## Question 1\n",
    "Data Source: Amsterdam availability data scraped from AirBnB on December 24th. Question: What are the popular neighborhoods in Amsterdam?"
   ]
  },
  {
   "cell_type": "markdown",
   "metadata": {},
   "source": [
    "Since Amsterdam celebrates Christmas, the data will be skewed towards neighborhoods that are close to Christmas celebrations or events since 12/24 is Christmas eve. For a more accurate answer, the data source should be a on date that is far away from any culture or social events in Amsterdam. If the question was what are the most popular neighborhoods to celebrate christmas, then the data source would be reasonable. "
   ]
  },
  {
   "cell_type": "markdown",
   "metadata": {},
   "source": [
    "## Question 2"
   ]
  },
  {
   "cell_type": "markdown",
   "metadata": {},
   "source": [
    "Data Source: Mental health services use on September 12, 2001 in San Francisco, CA and New York City, NY. Question: How do patterns of mental health service use vary between cities?"
   ]
  },
  {
   "cell_type": "markdown",
   "metadata": {},
   "source": [
    "Data source is the day after the tragic 9/11 attack. It was likely that the data is correlated to that event which may lead to more dramtic results that won't represent a general representation of patterns in the mental health services. The data will probably be probably be more skewed in New York since that was where the most damage and fatalities were. Although, one of the planes that was hijacked had bay area victims. \n",
    "\n",
    "There may be a chance that the data source may be accurate since the data was the day right after the event. I don't know how I would react if I were a victim's family member but my theory is that most people would not contact mental health services the day after. I would assume they would call maybe a couple to a few days after once they processed the situation and mourned with the rest of their family.\n"
   ]
  },
  {
   "cell_type": "markdown",
   "metadata": {},
   "source": [
    "## Question 3\n",
    "\n",
    "Data Source: Armenian Pub Survey. Question: What are the most common reasons Armenians visit local pubs?"
   ]
  },
  {
   "cell_type": "markdown",
   "metadata": {},
   "source": [
    "The population could be more specific/categorized. Instead of the data source generalizing Armenians, it should also include the person's age, gender, occupation, financial status, education, family, religion, etc. Providing these features will allow more insight into the reasons why they visit the local pubs. More specific features could be: frequency of going to the pubs, on average how long they stay at the pubs, do they go alone? (could help in finding if the reason is because of some emotional/addiction issue)"
   ]
  },
  {
   "cell_type": "markdown",
   "metadata": {},
   "source": [
    "# Sampling/Central Theorem\n",
    "\n",
    "## Assignments\n",
    "\n",
    "Now that you have some code to create your own populations, sample them, and compare the samples to the populations, it's time to experiment. Using your own Jupyter notebook, or a copy of the notebook above, reproduce the `pop1` and `pop2` populations and samples using numpy's binomial function. Specifically, create two binomially distributed populations with `n` equal to `10` and size equal to `10000`. The p-value of `pop1` should be `0.2` and the p-value of `pop2` should be `0.5`. Using a sample size of `100`, calculate the means and standard deviations of your samples.\n",
    "\n",
    "For each of the following tasks, first write what you expect will happen, then code the changes and observe what does happen.  Discuss the results with your mentor.\n",
    "\n",
    " 1. Increase the size of your samples from 100 to 1000, then calculate the means and standard deviations for your new samples and create histograms for each.  Repeat this again, decreasing the size of your samples to 20.  What values change, and what remain the same?\n",
    "\n",
    " 2. Change the probability value (`p` in the [NumPy documentation](https://docs.scipy.org/doc/numpy/reference/generated/numpy.random.binomial.html)) for `pop1` to 0.3, then take new samples and compute the t-statistic and p-value.  Then change the probability value p for group 1 to 0.4, and do it again.  What changes, and why?\n",
    " \n",
    " 3. Change the distribution of your populations from binomial to a distribution of your choice.  Do the sample mean values still accurately represent the population values?\n",
    "\n",
    "When you've given it a try, you can find a sample solution [here](https://github.com/Thinkful-Ed/data-201-resources/blob/master/solutions/Prep%20course/3.3.7.ipynb).\n"
   ]
  },
  {
   "cell_type": "code",
   "execution_count": null,
   "metadata": {},
   "outputs": [],
   "source": [
    "pop1 = np.random.binomial(10, .2, 10000)\n",
    "pop2 = np.random.binomial(10, .5, 10000)\n",
    "\n",
    "samp1 = np.random.choice(pop1, 100)\n",
    "samp2 = np.random.choice(pop2, 100)\n",
    "m_1 = np.mean(samp1)\n",
    "m_2 = np.std(samp2)\n",
    "std_1 = np.mean(samp1)\n",
    "std_2 = np.std(samp2)\n",
    "\n"
   ]
  },
  {
   "cell_type": "markdown",
   "metadata": {
    "toc": true
   },
   "source": [
    "<h1>Table of Contents<span class=\"tocSkip\"></span></h1>\n",
    "<div class=\"toc\"><ul class=\"toc-item\"><li><span><a href=\"#Working-with-Files\" data-toc-modified-id=\"Working-with-Files-1\"><span class=\"toc-item-num\">1&nbsp;&nbsp;</span>Working with Files</a></span></li><li><span><a href=\"#Plotting-Basics\" data-toc-modified-id=\"Plotting-Basics-2\"><span class=\"toc-item-num\">2&nbsp;&nbsp;</span>Plotting Basics</a></span></li><li><span><a href=\"#Summary-Stats\" data-toc-modified-id=\"Summary-Stats-3\"><span class=\"toc-item-num\">3&nbsp;&nbsp;</span>Summary Stats</a></span><ul class=\"toc-item\"><li><span><a href=\"#Question-1\" data-toc-modified-id=\"Question-1-3.1\"><span class=\"toc-item-num\">3.1&nbsp;&nbsp;</span>Question 1</a></span></li><li><span><a href=\"#Question-2\" data-toc-modified-id=\"Question-2-3.2\"><span class=\"toc-item-num\">3.2&nbsp;&nbsp;</span>Question 2</a></span></li><li><span><a href=\"#Question-3\" data-toc-modified-id=\"Question-3-3.3\"><span class=\"toc-item-num\">3.3&nbsp;&nbsp;</span>Question 3</a></span></li><li><span><a href=\"#Question-4\" data-toc-modified-id=\"Question-4-3.4\"><span class=\"toc-item-num\">3.4&nbsp;&nbsp;</span>Question 4</a></span></li><li><span><a href=\"#Question-5\" data-toc-modified-id=\"Question-5-3.5\"><span class=\"toc-item-num\">3.5&nbsp;&nbsp;</span>Question 5</a></span></li></ul></li><li><span><a href=\"#Basics-of-Probability\" data-toc-modified-id=\"Basics-of-Probability-4\"><span class=\"toc-item-num\">4&nbsp;&nbsp;</span>Basics of Probability</a></span><ul class=\"toc-item\"><li><span><a href=\"#Drill-1\" data-toc-modified-id=\"Drill-1-4.1\"><span class=\"toc-item-num\">4.1&nbsp;&nbsp;</span>Drill 1</a></span></li><li><span><a href=\"#Drill-2\" data-toc-modified-id=\"Drill-2-4.2\"><span class=\"toc-item-num\">4.2&nbsp;&nbsp;</span>Drill 2</a></span></li></ul></li><li><span><a href=\"#Data-distributions-normal-and-otherwise\" data-toc-modified-id=\"Data-distributions-normal-and-otherwise-5\"><span class=\"toc-item-num\">5&nbsp;&nbsp;</span>Data distributions normal and otherwise</a></span><ul class=\"toc-item\"><li><span><a href=\"#6-Distributions\" data-toc-modified-id=\"6-Distributions-5.1\"><span class=\"toc-item-num\">5.1&nbsp;&nbsp;</span>6 Distributions</a></span><ul class=\"toc-item\"><li><span><a href=\"#Question-1\" data-toc-modified-id=\"Question-1-5.1.1\"><span class=\"toc-item-num\">5.1.1&nbsp;&nbsp;</span>Question 1</a></span></li><li><span><a href=\"#Question-2\" data-toc-modified-id=\"Question-2-5.1.2\"><span class=\"toc-item-num\">5.1.2&nbsp;&nbsp;</span>Question 2</a></span></li></ul></li></ul></li><li><span><a href=\"#Sampling-and-the-Central-Limit-Theorem\" data-toc-modified-id=\"Sampling-and-the-Central-Limit-Theorem-6\"><span class=\"toc-item-num\">6&nbsp;&nbsp;</span>Sampling and the Central Limit Theorem</a></span></li><li><span><a href=\"#Evaluating-data-sources\" data-toc-modified-id=\"Evaluating-data-sources-7\"><span class=\"toc-item-num\">7&nbsp;&nbsp;</span>Evaluating data sources</a></span><ul class=\"toc-item\"><li><span><a href=\"#Question-1\" data-toc-modified-id=\"Question-1-7.1\"><span class=\"toc-item-num\">7.1&nbsp;&nbsp;</span>Question 1</a></span></li><li><span><a href=\"#Question-2\" data-toc-modified-id=\"Question-2-7.2\"><span class=\"toc-item-num\">7.2&nbsp;&nbsp;</span>Question 2</a></span></li><li><span><a href=\"#Question-3\" data-toc-modified-id=\"Question-3-7.3\"><span class=\"toc-item-num\">7.3&nbsp;&nbsp;</span>Question 3</a></span></li></ul></li><li><span><a href=\"#Sampling/Central-Theorem\" data-toc-modified-id=\"Sampling/Central-Theorem-8\"><span class=\"toc-item-num\">8&nbsp;&nbsp;</span>Sampling/Central Theorem</a></span><ul class=\"toc-item\"><li><span><a href=\"#Assignments\" data-toc-modified-id=\"Assignments-8.1\"><span class=\"toc-item-num\">8.1&nbsp;&nbsp;</span>Assignments</a></span></li></ul></li></ul></div>"
   ]
  }
 ],
 "metadata": {
  "kernelspec": {
   "display_name": "Python 3",
   "language": "python",
   "name": "python3"
  },
  "language_info": {
   "codemirror_mode": {
    "name": "ipython",
    "version": 3
   },
   "file_extension": ".py",
   "mimetype": "text/x-python",
   "name": "python",
   "nbconvert_exporter": "python",
   "pygments_lexer": "ipython3",
   "version": "3.7.1"
  },
  "toc": {
   "base_numbering": 1,
   "nav_menu": {},
   "number_sections": true,
   "sideBar": true,
   "skip_h1_title": false,
   "title_cell": "Table of Contents",
   "title_sidebar": "Contents",
   "toc_cell": true,
   "toc_position": {},
   "toc_section_display": true,
   "toc_window_display": false
  },
  "varInspector": {
   "cols": {
    "lenName": 16,
    "lenType": 16,
    "lenVar": 40
   },
   "kernels_config": {
    "python": {
     "delete_cmd_postfix": "",
     "delete_cmd_prefix": "del ",
     "library": "var_list.py",
     "varRefreshCmd": "print(var_dic_list())"
    },
    "r": {
     "delete_cmd_postfix": ") ",
     "delete_cmd_prefix": "rm(",
     "library": "var_list.r",
     "varRefreshCmd": "cat(var_dic_list()) "
    }
   },
   "types_to_exclude": [
    "module",
    "function",
    "builtin_function_or_method",
    "instance",
    "_Feature"
   ],
   "window_display": false
  }
 },
 "nbformat": 4,
 "nbformat_minor": 2
}
