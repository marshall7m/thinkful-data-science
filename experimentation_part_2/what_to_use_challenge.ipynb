{
 "cells": [
  {
   "cell_type": "markdown",
   "metadata": {},
   "source": [
    "# Introduction"
   ]
  },
  {
   "cell_type": "markdown",
   "metadata": {},
   "source": [
    "### Imports"
   ]
  },
  {
   "cell_type": "code",
   "execution_count": 114,
   "metadata": {},
   "outputs": [],
   "source": [
    "\n",
    "import pandas as pd\n",
    "import numpy as np\n",
    "import matplotlib.pyplot as plt\n",
    "import seaborn as sns\n",
    "\n",
    "from scipy import stats\n",
    "%matplotlib inline\n",
    "\n",
    "# Options for pandas\n",
    "pd.options.display.max_columns = 150\n",
    "pd.options.display.max_rows = 150"
   ]
  },
  {
   "cell_type": "markdown",
   "metadata": {
    "toc": true
   },
   "source": [
    "<h1>Table of Contents<span class=\"tocSkip\"></span></h1>\n",
    "<div class=\"toc\"><ul class=\"toc-item\"><li><span><a href=\"#Introduction\" data-toc-modified-id=\"Introduction-1\"><span class=\"toc-item-num\">1&nbsp;&nbsp;</span>Introduction</a></span><ul class=\"toc-item\"><li><ul class=\"toc-item\"><li><span><a href=\"#Imports\" data-toc-modified-id=\"Imports-1.0.1\"><span class=\"toc-item-num\">1.0.1&nbsp;&nbsp;</span>Imports</a></span></li></ul></li></ul></li><li><span><a href=\"#Did-people-become-less-trusting-from-2012-to-2014?-Compute-results-for-each-country-in-the-sample.\" data-toc-modified-id=\"Did-people-become-less-trusting-from-2012-to-2014?-Compute-results-for-each-country-in-the-sample.-2\"><span class=\"toc-item-num\">2&nbsp;&nbsp;</span>Did people become less trusting from 2012 to 2014? Compute results for each country in the sample.</a></span></li><li><span><a href=\"#Did-people-become-happier-from-2012-to-2014?-Compute-results-for-each-country-in-the-sample.\" data-toc-modified-id=\"Did-people-become-happier-from-2012-to-2014?-Compute-results-for-each-country-in-the-sample.-3\"><span class=\"toc-item-num\">3&nbsp;&nbsp;</span>Did people become happier from 2012 to 2014? Compute results for each country in the sample.</a></span></li><li><span><a href=\"#Who-reported-watching-more-TV-in-2012,-men-or-women?\" data-toc-modified-id=\"Who-reported-watching-more-TV-in-2012,-men-or-women?-4\"><span class=\"toc-item-num\">4&nbsp;&nbsp;</span>Who reported watching more TV in 2012, men or women?</a></span></li><li><span><a href=\"#Who-was-more-likely-to-believe-people-were-fair-in-2012,-people-living-with-a-partner-or-people-living-alone?\" data-toc-modified-id=\"Who-was-more-likely-to-believe-people-were-fair-in-2012,-people-living-with-a-partner-or-people-living-alone?-5\"><span class=\"toc-item-num\">5&nbsp;&nbsp;</span>Who was more likely to believe people were fair in 2012, people living with a partner or people living alone?</a></span></li><li><span><a href=\"#Pick-three-or-four-of-the-countries-in-the-sample-and-compare-how-often-people-met-socially-in-2014.-Are-there-differences,-and-if-so,-which-countries-stand-out?\" data-toc-modified-id=\"Pick-three-or-four-of-the-countries-in-the-sample-and-compare-how-often-people-met-socially-in-2014.-Are-there-differences,-and-if-so,-which-countries-stand-out?-6\"><span class=\"toc-item-num\">6&nbsp;&nbsp;</span>Pick three or four of the countries in the sample and compare how often people met socially in 2014. Are there differences, and if so, which countries stand out?</a></span></li><li><span><a href=\"#Pick-three-or-four-of-the-countries-in-the-sample-and-compare-how-often-people-took-part-in-social-activities,-relative-to-others-their-age,-in-2014.-Are-there-differences,-and-if-so,-which-countries-stand-out?\" data-toc-modified-id=\"Pick-three-or-four-of-the-countries-in-the-sample-and-compare-how-often-people-took-part-in-social-activities,-relative-to-others-their-age,-in-2014.-Are-there-differences,-and-if-so,-which-countries-stand-out?-7\"><span class=\"toc-item-num\">7&nbsp;&nbsp;</span>Pick three or four of the countries in the sample and compare how often people took part in social activities, relative to others their age, in 2014. Are there differences, and if so, which countries stand out?</a></span></li></ul></div>"
   ]
  },
  {
   "cell_type": "markdown",
   "metadata": {},
   "source": [
    "Using selected questions from the 2012 and 2014 editions of the European Social Survey, address the following questions. Keep track of your code and results in a Jupyter notebook or other source that you can share with your mentor. For each question, explain why you chose the approach you did.\n",
    "\n",
    "Here is the [data file](https://raw.githubusercontent.com/Thinkful-Ed/data-201-resources/master/ESS_practice_data/ESSdata_Thinkful.csv). And here is the [codebook](https://thinkful-ed.github.io/data-201-resources/ESS_practice_data/ESS_codebook.html), with information about the variable coding and content.\n",
    "\n",
    "In this dataset, the same participants answered questions in 2012 and again 2014."
   ]
  },
  {
   "cell_type": "code",
   "execution_count": 115,
   "metadata": {},
   "outputs": [],
   "source": [
    "df = pd.read_csv('https://raw.githubusercontent.com/Thinkful-Ed/data-201-resources/master/ESS_practice_data/ESSdata_Thinkful.csv')"
   ]
  },
  {
   "cell_type": "code",
   "execution_count": 116,
   "metadata": {},
   "outputs": [
    {
     "data": {
      "text/html": [
       "<div>\n",
       "<style scoped>\n",
       "    .dataframe tbody tr th:only-of-type {\n",
       "        vertical-align: middle;\n",
       "    }\n",
       "\n",
       "    .dataframe tbody tr th {\n",
       "        vertical-align: top;\n",
       "    }\n",
       "\n",
       "    .dataframe thead th {\n",
       "        text-align: right;\n",
       "    }\n",
       "</style>\n",
       "<table border=\"1\" class=\"dataframe\">\n",
       "  <thead>\n",
       "    <tr style=\"text-align: right;\">\n",
       "      <th></th>\n",
       "      <th>cntry</th>\n",
       "      <th>idno</th>\n",
       "      <th>year</th>\n",
       "      <th>tvtot</th>\n",
       "      <th>ppltrst</th>\n",
       "      <th>pplfair</th>\n",
       "      <th>pplhlp</th>\n",
       "      <th>happy</th>\n",
       "      <th>sclmeet</th>\n",
       "      <th>sclact</th>\n",
       "      <th>gndr</th>\n",
       "      <th>agea</th>\n",
       "      <th>partner</th>\n",
       "      <th>is_male</th>\n",
       "    </tr>\n",
       "  </thead>\n",
       "  <tbody>\n",
       "    <tr>\n",
       "      <th>0</th>\n",
       "      <td>CH</td>\n",
       "      <td>5.0</td>\n",
       "      <td>2012</td>\n",
       "      <td>3.0</td>\n",
       "      <td>3.0</td>\n",
       "      <td>10.0</td>\n",
       "      <td>5.0</td>\n",
       "      <td>8.0</td>\n",
       "      <td>5.0</td>\n",
       "      <td>4.0</td>\n",
       "      <td>2.0</td>\n",
       "      <td>60.0</td>\n",
       "      <td>1</td>\n",
       "      <td>0</td>\n",
       "    </tr>\n",
       "    <tr>\n",
       "      <th>1</th>\n",
       "      <td>CH</td>\n",
       "      <td>25.0</td>\n",
       "      <td>2012</td>\n",
       "      <td>6.0</td>\n",
       "      <td>5.0</td>\n",
       "      <td>7.0</td>\n",
       "      <td>5.0</td>\n",
       "      <td>9.0</td>\n",
       "      <td>3.0</td>\n",
       "      <td>2.0</td>\n",
       "      <td>2.0</td>\n",
       "      <td>59.0</td>\n",
       "      <td>1</td>\n",
       "      <td>0</td>\n",
       "    </tr>\n",
       "    <tr>\n",
       "      <th>2</th>\n",
       "      <td>CH</td>\n",
       "      <td>26.0</td>\n",
       "      <td>2012</td>\n",
       "      <td>1.0</td>\n",
       "      <td>8.0</td>\n",
       "      <td>8.0</td>\n",
       "      <td>8.0</td>\n",
       "      <td>7.0</td>\n",
       "      <td>6.0</td>\n",
       "      <td>3.0</td>\n",
       "      <td>1.0</td>\n",
       "      <td>24.0</td>\n",
       "      <td>0</td>\n",
       "      <td>1</td>\n",
       "    </tr>\n",
       "    <tr>\n",
       "      <th>3</th>\n",
       "      <td>CH</td>\n",
       "      <td>28.0</td>\n",
       "      <td>2012</td>\n",
       "      <td>4.0</td>\n",
       "      <td>6.0</td>\n",
       "      <td>6.0</td>\n",
       "      <td>7.0</td>\n",
       "      <td>10.0</td>\n",
       "      <td>6.0</td>\n",
       "      <td>2.0</td>\n",
       "      <td>2.0</td>\n",
       "      <td>64.0</td>\n",
       "      <td>1</td>\n",
       "      <td>0</td>\n",
       "    </tr>\n",
       "    <tr>\n",
       "      <th>4</th>\n",
       "      <td>CH</td>\n",
       "      <td>29.0</td>\n",
       "      <td>2012</td>\n",
       "      <td>5.0</td>\n",
       "      <td>6.0</td>\n",
       "      <td>7.0</td>\n",
       "      <td>5.0</td>\n",
       "      <td>8.0</td>\n",
       "      <td>7.0</td>\n",
       "      <td>2.0</td>\n",
       "      <td>2.0</td>\n",
       "      <td>55.0</td>\n",
       "      <td>1</td>\n",
       "      <td>0</td>\n",
       "    </tr>\n",
       "  </tbody>\n",
       "</table>\n",
       "</div>"
      ],
      "text/plain": [
       "  cntry  idno  year  tvtot  ppltrst  pplfair  pplhlp  happy  sclmeet  sclact  \\\n",
       "0    CH   5.0  2012    3.0      3.0     10.0     5.0    8.0      5.0     4.0   \n",
       "1    CH  25.0  2012    6.0      5.0      7.0     5.0    9.0      3.0     2.0   \n",
       "2    CH  26.0  2012    1.0      8.0      8.0     8.0    7.0      6.0     3.0   \n",
       "3    CH  28.0  2012    4.0      6.0      6.0     7.0   10.0      6.0     2.0   \n",
       "4    CH  29.0  2012    5.0      6.0      7.0     5.0    8.0      7.0     2.0   \n",
       "\n",
       "   gndr  agea  partner  is_male  \n",
       "0   2.0  60.0        1        0  \n",
       "1   2.0  59.0        1        0  \n",
       "2   1.0  24.0        0        1  \n",
       "3   2.0  64.0        1        0  \n",
       "4   2.0  55.0        1        0  "
      ]
     },
     "execution_count": 116,
     "metadata": {},
     "output_type": "execute_result"
    }
   ],
   "source": [
    "df['year'] = df['year'].apply(lambda x: 2012 if x == 6 else 2014)\n",
    "df['partner'] = df['partner'].apply(lambda x: 0 if x == 2 else 1)\n",
    "df['is_male'] = df['gndr'].apply(lambda x: 0 if x == 2 else 1)\n",
    "\n",
    "df.head()"
   ]
  },
  {
   "cell_type": "markdown",
   "metadata": {},
   "source": [
    "# Did people become less trusting from 2012 to 2014? Compute results for each country in the sample.\n"
   ]
  },
  {
   "cell_type": "code",
   "execution_count": 117,
   "metadata": {},
   "outputs": [
    {
     "name": "stdout",
     "output_type": "stream",
     "text": [
      "4293\n",
      "2014:  (0.9583832025527954, 2.1650820660101225e-33)\n",
      "2012:  (0.9523736834526062, 3.045615175428091e-35)\n"
     ]
    }
   ],
   "source": [
    "# check for normality for each sample\n",
    "print(df['ppltrst'][df['year'] == 2014].count())\n",
    "print('2014: ', stats.shapiro(np.asarray(df['ppltrst'][df['year'] == 2014].dropna())))\n",
    "print('2012: ', stats.shapiro(np.asarray(df['ppltrst'][df['year'] == 2012].dropna())))\n"
   ]
  },
  {
   "cell_type": "markdown",
   "metadata": {},
   "source": [
    "Both samples' p-value are less than .05 which means we reject the null that the samples are drawn from a normally distributed population. Also since these are dependent groups meaning that the same participants are in both samples, paired non-parametric t-test would be most apporiate. "
   ]
  },
  {
   "cell_type": "code",
   "execution_count": 118,
   "metadata": {},
   "outputs": [
    {
     "name": "stdout",
     "output_type": "stream",
     "text": [
      "\n",
      "CH\n",
      "No difference\n",
      "\n",
      "CZ\n",
      "No difference\n",
      "\n",
      "DE\n",
      "No difference\n",
      "\n",
      "ES\n",
      "No difference\n",
      "\n",
      "NO\n",
      "No difference\n",
      "\n",
      "SE\n",
      "No difference\n"
     ]
    }
   ],
   "source": [
    "country_list = list(df['cntry'].unique())\n",
    "\n",
    "for country in country_list:\n",
    "    x = df['ppltrst'][(df['cntry'] == country) & (df['year'] == 2012)]\n",
    "    y = df['ppltrst'][(df['cntry'] == country) & (df['year'] == 2014)]\n",
    "    t,p = stats.ttest_rel(x,y)\n",
    "    print()\n",
    "    print(country)\n",
    "    if p < .05 and t > 0:\n",
    "        print('No they became more trusting')\n",
    "    elif p < .05 and t < 0:\n",
    "        print('Yes they became more less trusting')\n",
    "    else:\n",
    "        print('No difference')\n",
    "    "
   ]
  },
  {
   "cell_type": "markdown",
   "metadata": {},
   "source": [
    "As we can see for each country, people are as trusting in 2012 as 2014. "
   ]
  },
  {
   "cell_type": "markdown",
   "metadata": {},
   "source": [
    "# Did people become happier from 2012 to 2014? Compute results for each country in the sample.\n"
   ]
  },
  {
   "cell_type": "code",
   "execution_count": 119,
   "metadata": {},
   "outputs": [
    {
     "name": "stdout",
     "output_type": "stream",
     "text": [
      "2014:  (0.90348219871521, 0.0)\n",
      "2012:  (0.8950968980789185, 0.0)\n"
     ]
    }
   ],
   "source": [
    "# check for normality for each sample\n",
    "\n",
    "print('2014: ', stats.shapiro(np.asarray(df['happy'][df['year'] == 2014].dropna())))\n",
    "print('2012: ', stats.shapiro(np.asarray(df['happy'][df['year'] == 2012].dropna())))\n"
   ]
  },
  {
   "cell_type": "markdown",
   "metadata": {},
   "source": [
    "Same as the previous question, the shapiro test evaluates if the sample is from a normally distributed population. Looking at the p-value, there is a zero percent change that both samples are. "
   ]
  },
  {
   "cell_type": "code",
   "execution_count": 120,
   "metadata": {},
   "outputs": [
    {
     "name": "stdout",
     "output_type": "stream",
     "text": [
      "\n",
      "CH\n",
      "No difference\n",
      "\n",
      "CZ\n",
      "No difference\n",
      "\n",
      "DE\n",
      "No difference\n",
      "\n",
      "ES\n",
      "No difference\n",
      "\n",
      "NO\n",
      "No difference\n",
      "\n",
      "SE\n",
      "No difference\n"
     ]
    }
   ],
   "source": [
    "\n",
    "for country in country_list:\n",
    "    x = df['happy'][(df['cntry'] == country) & (df['year'] == 2012)]\n",
    "    y = df['happy'][(df['cntry'] == country) & (df['year'] == 2014)]\n",
    "    t,p = stats.ttest_rel(x,y)\n",
    "    print()\n",
    "    print(country)\n",
    "    if p < .05 and t > 0:\n",
    "        print('No they became more trusting')\n",
    "    elif p < .05 and t < 0:\n",
    "        print('Yes they became more less trusting')\n",
    "    else:\n",
    "        print('No difference')\n",
    "    "
   ]
  },
  {
   "cell_type": "markdown",
   "metadata": {},
   "source": [
    "As we can see for each country, people are as happy in 2012 as 2014. "
   ]
  },
  {
   "cell_type": "markdown",
   "metadata": {},
   "source": [
    "# Who reported watching more TV in 2012, men or women?\n"
   ]
  },
  {
   "cell_type": "code",
   "execution_count": 121,
   "metadata": {},
   "outputs": [
    {
     "name": "stdout",
     "output_type": "stream",
     "text": [
      "Male:  (0.9435075521469116, 8.185168180479776e-38)\n",
      "Female:  (0.9410152435302734, 3.082838965153947e-38)\n"
     ]
    }
   ],
   "source": [
    "# check for normality for each sample\n",
    "\n",
    "print('Male: ', stats.shapiro(np.asarray(df['tvtot'][df['is_male'] == 1].dropna())))\n",
    "print('Female: ', stats.shapiro(np.asarray(df['tvtot'][df['is_male'] == 0].dropna())))\n"
   ]
  },
  {
   "cell_type": "code",
   "execution_count": 157,
   "metadata": {
    "scrolled": true
   },
   "outputs": [
    {
     "name": "stdout",
     "output_type": "stream",
     "text": [
      "Female:\n",
      "Median TV:  4.0\n",
      "TV Sum 8441.0\n",
      "\n",
      "Male\n",
      "Median TV:  4.0\n",
      "TV Sum 8393.0\n",
      "\n",
      "Overall Median:  4.0\n",
      "\n",
      "Kruskal Test:  KruskalResult(statistic=0.5766091020549451, pvalue=0.447644522500795)\n",
      "Median Test: 0.10448797978115423 ... P-Value: 0.7465089423999145\n"
     ]
    }
   ],
   "source": [
    "female_sample = df['tvtot'][(df['is_male'] == 0) & (df['year'] == 2012)].dropna()\n",
    "male_sample = df['tvtot'][(df['is_male'] == 1) & (df['year'] == 2012)].dropna()\n",
    "\n",
    "df['tvtot_rank'] = stats.rankdata(df['tvtot'])\n",
    "\n",
    "\n",
    "print('Female:')\n",
    "print('Median TV: ', female_sample.median())\n",
    "print('TV Sum', female_sample.sum())\n",
    "print()\n",
    "print('Male')\n",
    "print('Median TV: ', male_sample.median())\n",
    "print('TV Sum', male_sample.sum())\n",
    "print()\n",
    "print('Overall Median: ', df['tvtot'].median())\n",
    "print()\n",
    "\n",
    "print('Kruskal Test: ', stats.kruskal(female_sample, male_sample))\n",
    "t, p, _, _ = stats.median_test(female_sample, male_sample)\n",
    "\n",
    "print('Median Test: {} ... P-Value: {}'.format(t, p))"
   ]
  },
  {
   "cell_type": "markdown",
   "metadata": {},
   "source": [
    "# Who was more likely to believe people were fair in 2012, people living with a partner or people living alone?\n"
   ]
  },
  {
   "cell_type": "code",
   "execution_count": 151,
   "metadata": {},
   "outputs": [
    {
     "name": "stdout",
     "output_type": "stream",
     "text": [
      "Single:  (0.9561690092086792, 1.4302870646482291e-21)\n",
      "Couple:  (0.9411795139312744, 2.4948774386456788e-31)\n"
     ]
    }
   ],
   "source": [
    "single_sample = df['pplfair'][(df['partner'] == 0) & (df['year'] == 2012)].dropna()\n",
    "couple_sample = df['pplfair'][(df['partner'] == 1) & (df['year'] == 2012)].dropna()\n",
    "\n",
    "# check for normality for each sample\n",
    "\n",
    "print('Single: ', stats.shapiro(single_sample))\n",
    "print('Couple: ', stats.shapiro(couple_sample))\n"
   ]
  },
  {
   "cell_type": "code",
   "execution_count": 154,
   "metadata": {},
   "outputs": [
    {
     "name": "stdout",
     "output_type": "stream",
     "text": [
      "Single:\n",
      "Median Fair Score:  6.0\n",
      "Fair Sum 9418.0\n",
      "\n",
      "Couples\n",
      "Median Fair Score:  7.0\n",
      "Fair Sum 16235.0\n",
      "\n",
      "Overall median:  6.0\n"
     ]
    }
   ],
   "source": [
    "print('Single:')\n",
    "print('Median Fair Score: ', single_sample.median())\n",
    "print('Fair Sum', single_sample.sum())\n",
    "print()\n",
    "print('Couples')\n",
    "print('Median Fair Score: ', couple_sample.median())\n",
    "print('Fair Sum', couple_sample.sum())\n",
    "print()\n",
    "print('Overall median: ', df['pplfair'].median())"
   ]
  },
  {
   "cell_type": "markdown",
   "metadata": {},
   "source": [
    "# Pick three or four of the countries in the sample and compare how often people met socially in 2014. Are there differences, and if so, which countries stand out?"
   ]
  },
  {
   "cell_type": "code",
   "execution_count": 159,
   "metadata": {},
   "outputs": [
    {
     "name": "stdout",
     "output_type": "stream",
     "text": [
      "CH:  (0.8974164724349976, 2.7436334896806913e-22)\n",
      "CZ:  (0.9451602101325989, 7.663770300607355e-15)\n",
      "DE:  (0.8616600036621094, 0.032099850475788116)\n"
     ]
    }
   ],
   "source": [
    "ch = df['sclmeet'][(df['cntry'] == 'CH') & (df['year'] == 2014)].dropna()\n",
    "cz = df['sclmeet'][(df['cntry'] == 'CZ') & (df['year'] == 2014)].dropna()\n",
    "de = df['sclmeet'][(df['cntry'] == 'DE') & (df['year'] == 2014)].dropna()\n",
    "\n",
    "# check for normality for each sample\n",
    "\n",
    "print('CH: ', stats.shapiro(ch))\n",
    "print('CZ: ', stats.shapiro(cz))\n",
    "print('DE: ', stats.shapiro(de))"
   ]
  },
  {
   "cell_type": "code",
   "execution_count": 164,
   "metadata": {},
   "outputs": [
    {
     "data": {
      "text/plain": [
       "KruskalResult(statistic=90.64258320601328, pvalue=2.075932098411105e-20)"
      ]
     },
     "execution_count": 164,
     "metadata": {},
     "output_type": "execute_result"
    }
   ],
   "source": [
    "stats.kruskal(ch, cz, de)"
   ]
  },
  {
   "cell_type": "code",
   "execution_count": 167,
   "metadata": {},
   "outputs": [
    {
     "name": "stdout",
     "output_type": "stream",
     "text": [
      "CH vs. CZ:  KruskalResult(statistic=87.94131736160504, pvalue=6.74254394179896e-21)\n",
      "CH vs. DE:  KruskalResult(statistic=6.811209280804956, pvalue=0.009058739707675768)\n",
      "DE vs. Cz:  KruskalResult(statistic=0.02251746084255729, pvalue=0.8807187047553632)\n"
     ]
    }
   ],
   "source": [
    "print('CH vs. CZ: ', stats.kruskal(ch, cz))\n",
    "print('CH vs. DE: ', stats.kruskal(ch, de))\n",
    "print('DE vs. CZ: ', stats.kruskal(de, cz))"
   ]
  },
  {
   "cell_type": "markdown",
   "metadata": {},
   "source": [
    "There is a significant difference between CH and CZ and CH and DE. Although DE and CZ are very similar in regards to sample median and the probability of their population medians to be equal is 88%. "
   ]
  },
  {
   "cell_type": "markdown",
   "metadata": {},
   "source": [
    "# Pick three or four of the countries in the sample and compare how often people took part in social activities, relative to others their age, in 2014. Are there differences, and if so, which countries stand out?"
   ]
  },
  {
   "cell_type": "code",
   "execution_count": 189,
   "metadata": {},
   "outputs": [
    {
     "name": "stdout",
     "output_type": "stream",
     "text": [
      "CH:  (0.8914050459861755, 1.883037234053481e-22)\n",
      "CZ:  (0.8518425226211548, 1.6444474523379619e-23)\n",
      "DE:  (0.7937105894088745, 0.004176934715360403)\n",
      "\n",
      "There is no significant difference in social activity among the 60.0 year old samples\n",
      "There is no significant difference in social activity among the 59.0 year old samples\n",
      "['CH'] 24.0\n",
      "There is no significant difference in social activity among the 24.0 year old samples\n",
      "['CZ'] 64.0\n",
      "There is no significant difference in social activity among the 64.0 year old samples\n",
      "There is no significant difference in social activity among the 55.0 year old samples\n",
      "There is no significant difference in social activity among the nan year old samples\n",
      "There is no significant difference in social activity among the 76.0 year old samples\n",
      "['CZ'] 30.0\n",
      "There is no significant difference in social activity among the 30.0 year old samples\n",
      "There is no significant difference in social activity among the 84.0 year old samples\n",
      "['CH'] 62.0\n",
      "There is no significant difference in social activity among the 62.0 year old samples\n",
      "There is no significant difference in social activity among the 33.0 year old samples\n",
      "There is no significant difference in social activity among the 40.0 year old samples\n",
      "There is no significant difference in social activity among the 69.0 year old samples\n",
      "['CZ'] 32.0\n",
      "There is no significant difference in social activity among the 32.0 year old samples\n",
      "['CH'] 70.0\n",
      "['CZ'] 70.0\n",
      "There is no significant difference in social activity among the 70.0 year old samples\n",
      "['CH'] 61.0\n",
      "There is no significant difference in social activity among the 61.0 year old samples\n",
      "['CZ'] 21.0\n",
      "There is no significant difference in social activity among the 21.0 year old samples\n"
     ]
    },
    {
     "name": "stderr",
     "output_type": "stream",
     "text": [
      "/Users/marshallmamiya/anaconda3/lib/python3.7/site-packages/scipy/stats/morestats.py:1306: UserWarning: Input data for shapiro has range zero. The results may not be accurate.\n",
      "  warnings.warn(\"Input data for shapiro has range zero. The results \"\n"
     ]
    },
    {
     "ename": "TypeError",
     "evalue": "'<' not supported between instances of 'float' and 'str'",
     "output_type": "error",
     "traceback": [
      "\u001b[0;31m---------------------------------------------------------------------------\u001b[0m",
      "\u001b[0;31mTypeError\u001b[0m                                 Traceback (most recent call last)",
      "\u001b[0;32m~/anaconda3/lib/python3.7/site-packages/numpy/core/fromnumeric.py\u001b[0m in \u001b[0;36m_wrapfunc\u001b[0;34m(obj, method, *args, **kwds)\u001b[0m\n\u001b[1;32m     50\u001b[0m     \u001b[0;32mtry\u001b[0m\u001b[0;34m:\u001b[0m\u001b[0;34m\u001b[0m\u001b[0;34m\u001b[0m\u001b[0m\n\u001b[0;32m---> 51\u001b[0;31m         \u001b[0;32mreturn\u001b[0m \u001b[0mgetattr\u001b[0m\u001b[0;34m(\u001b[0m\u001b[0mobj\u001b[0m\u001b[0;34m,\u001b[0m \u001b[0mmethod\u001b[0m\u001b[0;34m)\u001b[0m\u001b[0;34m(\u001b[0m\u001b[0;34m*\u001b[0m\u001b[0margs\u001b[0m\u001b[0;34m,\u001b[0m \u001b[0;34m**\u001b[0m\u001b[0mkwds\u001b[0m\u001b[0;34m)\u001b[0m\u001b[0;34m\u001b[0m\u001b[0;34m\u001b[0m\u001b[0m\n\u001b[0m\u001b[1;32m     52\u001b[0m \u001b[0;34m\u001b[0m\u001b[0m\n",
      "\u001b[0;31mTypeError\u001b[0m: '<' not supported between instances of 'float' and 'str'",
      "\nDuring handling of the above exception, another exception occurred:\n",
      "\u001b[0;31mTypeError\u001b[0m                                 Traceback (most recent call last)",
      "\u001b[0;32m<ipython-input-189-6853ad8f1621>\u001b[0m in \u001b[0;36m<module>\u001b[0;34m\u001b[0m\n\u001b[1;32m     21\u001b[0m             \u001b[0mprint\u001b[0m\u001b[0;34m(\u001b[0m\u001b[0mage_sample\u001b[0m\u001b[0;34m[\u001b[0m\u001b[0;34m'cntry'\u001b[0m\u001b[0;34m]\u001b[0m\u001b[0;34m.\u001b[0m\u001b[0munique\u001b[0m\u001b[0;34m(\u001b[0m\u001b[0;34m)\u001b[0m\u001b[0;34m,\u001b[0m \u001b[0mage\u001b[0m\u001b[0;34m)\u001b[0m\u001b[0;34m\u001b[0m\u001b[0;34m\u001b[0m\u001b[0m\n\u001b[1;32m     22\u001b[0m \u001b[0;34m\u001b[0m\u001b[0m\n\u001b[0;32m---> 23\u001b[0;31m     \u001b[0mt\u001b[0m\u001b[0;34m,\u001b[0m\u001b[0mp\u001b[0m \u001b[0;34m=\u001b[0m \u001b[0mstats\u001b[0m\u001b[0;34m.\u001b[0m\u001b[0mkruskal\u001b[0m\u001b[0;34m(\u001b[0m\u001b[0mch_age\u001b[0m\u001b[0;34m,\u001b[0m \u001b[0mcz_age\u001b[0m\u001b[0;34m,\u001b[0m \u001b[0mde_age\u001b[0m\u001b[0;34m)\u001b[0m\u001b[0;34m\u001b[0m\u001b[0;34m\u001b[0m\u001b[0m\n\u001b[0m\u001b[1;32m     24\u001b[0m \u001b[0;34m\u001b[0m\u001b[0m\n\u001b[1;32m     25\u001b[0m     \u001b[0;32mif\u001b[0m \u001b[0mp\u001b[0m \u001b[0;34m<\u001b[0m \u001b[0;36m.05\u001b[0m\u001b[0;34m:\u001b[0m\u001b[0;34m\u001b[0m\u001b[0;34m\u001b[0m\u001b[0m\n",
      "\u001b[0;32m~/anaconda3/lib/python3.7/site-packages/scipy/stats/stats.py\u001b[0m in \u001b[0;36mkruskal\u001b[0;34m(*args, **kwargs)\u001b[0m\n\u001b[1;32m   5076\u001b[0m \u001b[0;34m\u001b[0m\u001b[0m\n\u001b[1;32m   5077\u001b[0m     \u001b[0malldata\u001b[0m \u001b[0;34m=\u001b[0m \u001b[0mnp\u001b[0m\u001b[0;34m.\u001b[0m\u001b[0mconcatenate\u001b[0m\u001b[0;34m(\u001b[0m\u001b[0margs\u001b[0m\u001b[0;34m)\u001b[0m\u001b[0;34m\u001b[0m\u001b[0;34m\u001b[0m\u001b[0m\n\u001b[0;32m-> 5078\u001b[0;31m     \u001b[0mranked\u001b[0m \u001b[0;34m=\u001b[0m \u001b[0mrankdata\u001b[0m\u001b[0;34m(\u001b[0m\u001b[0malldata\u001b[0m\u001b[0;34m)\u001b[0m\u001b[0;34m\u001b[0m\u001b[0;34m\u001b[0m\u001b[0m\n\u001b[0m\u001b[1;32m   5079\u001b[0m     \u001b[0mties\u001b[0m \u001b[0;34m=\u001b[0m \u001b[0mtiecorrect\u001b[0m\u001b[0;34m(\u001b[0m\u001b[0mranked\u001b[0m\u001b[0;34m)\u001b[0m\u001b[0;34m\u001b[0m\u001b[0;34m\u001b[0m\u001b[0m\n\u001b[1;32m   5080\u001b[0m     \u001b[0;32mif\u001b[0m \u001b[0mties\u001b[0m \u001b[0;34m==\u001b[0m \u001b[0;36m0\u001b[0m\u001b[0;34m:\u001b[0m\u001b[0;34m\u001b[0m\u001b[0;34m\u001b[0m\u001b[0m\n",
      "\u001b[0;32m~/anaconda3/lib/python3.7/site-packages/scipy/stats/stats.py\u001b[0m in \u001b[0;36mrankdata\u001b[0;34m(a, method)\u001b[0m\n\u001b[1;32m   5709\u001b[0m     \u001b[0marr\u001b[0m \u001b[0;34m=\u001b[0m \u001b[0mnp\u001b[0m\u001b[0;34m.\u001b[0m\u001b[0mravel\u001b[0m\u001b[0;34m(\u001b[0m\u001b[0mnp\u001b[0m\u001b[0;34m.\u001b[0m\u001b[0masarray\u001b[0m\u001b[0;34m(\u001b[0m\u001b[0ma\u001b[0m\u001b[0;34m)\u001b[0m\u001b[0;34m)\u001b[0m\u001b[0;34m\u001b[0m\u001b[0;34m\u001b[0m\u001b[0m\n\u001b[1;32m   5710\u001b[0m     \u001b[0malgo\u001b[0m \u001b[0;34m=\u001b[0m \u001b[0;34m'mergesort'\u001b[0m \u001b[0;32mif\u001b[0m \u001b[0mmethod\u001b[0m \u001b[0;34m==\u001b[0m \u001b[0;34m'ordinal'\u001b[0m \u001b[0;32melse\u001b[0m \u001b[0;34m'quicksort'\u001b[0m\u001b[0;34m\u001b[0m\u001b[0;34m\u001b[0m\u001b[0m\n\u001b[0;32m-> 5711\u001b[0;31m     \u001b[0msorter\u001b[0m \u001b[0;34m=\u001b[0m \u001b[0mnp\u001b[0m\u001b[0;34m.\u001b[0m\u001b[0margsort\u001b[0m\u001b[0;34m(\u001b[0m\u001b[0marr\u001b[0m\u001b[0;34m,\u001b[0m \u001b[0mkind\u001b[0m\u001b[0;34m=\u001b[0m\u001b[0malgo\u001b[0m\u001b[0;34m)\u001b[0m\u001b[0;34m\u001b[0m\u001b[0;34m\u001b[0m\u001b[0m\n\u001b[0m\u001b[1;32m   5712\u001b[0m \u001b[0;34m\u001b[0m\u001b[0m\n\u001b[1;32m   5713\u001b[0m     \u001b[0minv\u001b[0m \u001b[0;34m=\u001b[0m \u001b[0mnp\u001b[0m\u001b[0;34m.\u001b[0m\u001b[0mempty\u001b[0m\u001b[0;34m(\u001b[0m\u001b[0msorter\u001b[0m\u001b[0;34m.\u001b[0m\u001b[0msize\u001b[0m\u001b[0;34m,\u001b[0m \u001b[0mdtype\u001b[0m\u001b[0;34m=\u001b[0m\u001b[0mnp\u001b[0m\u001b[0;34m.\u001b[0m\u001b[0mintp\u001b[0m\u001b[0;34m)\u001b[0m\u001b[0;34m\u001b[0m\u001b[0;34m\u001b[0m\u001b[0m\n",
      "\u001b[0;32m~/anaconda3/lib/python3.7/site-packages/numpy/core/fromnumeric.py\u001b[0m in \u001b[0;36margsort\u001b[0;34m(a, axis, kind, order)\u001b[0m\n\u001b[1;32m    971\u001b[0m \u001b[0;34m\u001b[0m\u001b[0m\n\u001b[1;32m    972\u001b[0m     \"\"\"\n\u001b[0;32m--> 973\u001b[0;31m     \u001b[0;32mreturn\u001b[0m \u001b[0m_wrapfunc\u001b[0m\u001b[0;34m(\u001b[0m\u001b[0ma\u001b[0m\u001b[0;34m,\u001b[0m \u001b[0;34m'argsort'\u001b[0m\u001b[0;34m,\u001b[0m \u001b[0maxis\u001b[0m\u001b[0;34m=\u001b[0m\u001b[0maxis\u001b[0m\u001b[0;34m,\u001b[0m \u001b[0mkind\u001b[0m\u001b[0;34m=\u001b[0m\u001b[0mkind\u001b[0m\u001b[0;34m,\u001b[0m \u001b[0morder\u001b[0m\u001b[0;34m=\u001b[0m\u001b[0morder\u001b[0m\u001b[0;34m)\u001b[0m\u001b[0;34m\u001b[0m\u001b[0;34m\u001b[0m\u001b[0m\n\u001b[0m\u001b[1;32m    974\u001b[0m \u001b[0;34m\u001b[0m\u001b[0m\n\u001b[1;32m    975\u001b[0m \u001b[0;34m\u001b[0m\u001b[0m\n",
      "\u001b[0;32m~/anaconda3/lib/python3.7/site-packages/numpy/core/fromnumeric.py\u001b[0m in \u001b[0;36m_wrapfunc\u001b[0;34m(obj, method, *args, **kwds)\u001b[0m\n\u001b[1;32m     59\u001b[0m     \u001b[0;31m# a downstream library like 'pandas'.\u001b[0m\u001b[0;34m\u001b[0m\u001b[0;34m\u001b[0m\u001b[0;34m\u001b[0m\u001b[0m\n\u001b[1;32m     60\u001b[0m     \u001b[0;32mexcept\u001b[0m \u001b[0;34m(\u001b[0m\u001b[0mAttributeError\u001b[0m\u001b[0;34m,\u001b[0m \u001b[0mTypeError\u001b[0m\u001b[0;34m)\u001b[0m\u001b[0;34m:\u001b[0m\u001b[0;34m\u001b[0m\u001b[0;34m\u001b[0m\u001b[0m\n\u001b[0;32m---> 61\u001b[0;31m         \u001b[0;32mreturn\u001b[0m \u001b[0m_wrapit\u001b[0m\u001b[0;34m(\u001b[0m\u001b[0mobj\u001b[0m\u001b[0;34m,\u001b[0m \u001b[0mmethod\u001b[0m\u001b[0;34m,\u001b[0m \u001b[0;34m*\u001b[0m\u001b[0margs\u001b[0m\u001b[0;34m,\u001b[0m \u001b[0;34m**\u001b[0m\u001b[0mkwds\u001b[0m\u001b[0;34m)\u001b[0m\u001b[0;34m\u001b[0m\u001b[0;34m\u001b[0m\u001b[0m\n\u001b[0m\u001b[1;32m     62\u001b[0m \u001b[0;34m\u001b[0m\u001b[0m\n\u001b[1;32m     63\u001b[0m \u001b[0;34m\u001b[0m\u001b[0m\n",
      "\u001b[0;32m~/anaconda3/lib/python3.7/site-packages/numpy/core/fromnumeric.py\u001b[0m in \u001b[0;36m_wrapit\u001b[0;34m(obj, method, *args, **kwds)\u001b[0m\n\u001b[1;32m     39\u001b[0m     \u001b[0;32mexcept\u001b[0m \u001b[0mAttributeError\u001b[0m\u001b[0;34m:\u001b[0m\u001b[0;34m\u001b[0m\u001b[0;34m\u001b[0m\u001b[0m\n\u001b[1;32m     40\u001b[0m         \u001b[0mwrap\u001b[0m \u001b[0;34m=\u001b[0m \u001b[0;32mNone\u001b[0m\u001b[0;34m\u001b[0m\u001b[0;34m\u001b[0m\u001b[0m\n\u001b[0;32m---> 41\u001b[0;31m     \u001b[0mresult\u001b[0m \u001b[0;34m=\u001b[0m \u001b[0mgetattr\u001b[0m\u001b[0;34m(\u001b[0m\u001b[0masarray\u001b[0m\u001b[0;34m(\u001b[0m\u001b[0mobj\u001b[0m\u001b[0;34m)\u001b[0m\u001b[0;34m,\u001b[0m \u001b[0mmethod\u001b[0m\u001b[0;34m)\u001b[0m\u001b[0;34m(\u001b[0m\u001b[0;34m*\u001b[0m\u001b[0margs\u001b[0m\u001b[0;34m,\u001b[0m \u001b[0;34m**\u001b[0m\u001b[0mkwds\u001b[0m\u001b[0;34m)\u001b[0m\u001b[0;34m\u001b[0m\u001b[0;34m\u001b[0m\u001b[0m\n\u001b[0m\u001b[1;32m     42\u001b[0m     \u001b[0;32mif\u001b[0m \u001b[0mwrap\u001b[0m\u001b[0;34m:\u001b[0m\u001b[0;34m\u001b[0m\u001b[0;34m\u001b[0m\u001b[0m\n\u001b[1;32m     43\u001b[0m         \u001b[0;32mif\u001b[0m \u001b[0;32mnot\u001b[0m \u001b[0misinstance\u001b[0m\u001b[0;34m(\u001b[0m\u001b[0mresult\u001b[0m\u001b[0;34m,\u001b[0m \u001b[0mmu\u001b[0m\u001b[0;34m.\u001b[0m\u001b[0mndarray\u001b[0m\u001b[0;34m)\u001b[0m\u001b[0;34m:\u001b[0m\u001b[0;34m\u001b[0m\u001b[0;34m\u001b[0m\u001b[0m\n",
      "\u001b[0;31mTypeError\u001b[0m: '<' not supported between instances of 'float' and 'str'"
     ]
    }
   ],
   "source": [
    "ch = df[(df['cntry'] == 'CH') & (df['year'] == 2014)].dropna()\n",
    "cz = df[(df['cntry'] == 'CZ') & (df['year'] == 2014)].dropna()\n",
    "de = df[(df['cntry'] == 'DE') & (df['year'] == 2014)].dropna()\n",
    "\n",
    "print('CH: ', stats.shapiro(ch['sclact']))\n",
    "print('CZ: ', stats.shapiro(cz['sclact']))\n",
    "print('DE: ', stats.shapiro(de['sclact']))\n",
    "print()\n",
    "\n",
    "age_list = list(df['agea'].unique())\n",
    "for age in age_list:\n",
    "    ch_age = ch[ch['agea'] == age]\n",
    "    cz_age = cz[cz['agea'] == age]\n",
    "    de_age = de[de['agea'] == age]\n",
    "    for age_sample in [ch_age, cz_age, de_age]:\n",
    "        try:\n",
    "            t,p = stats.shapiro(age_sample['sclact'])\n",
    "        except ValueError:\n",
    "            continue\n",
    "        if p > .10:\n",
    "            print(age_sample['cntry'].unique(), age)\n",
    "    \n",
    "    t,p = stats.kruskal(ch_age, cz_age, de_age)\n",
    "    \n",
    "    if p < .05:\n",
    "        print('CH vs. CZ: ', stats.kruskal(ch, cz))\n",
    "        print('CH vs. DE: ', stats.kruskal(ch, de))\n",
    "        print('DE vs. CZ: ', stats.kruskal(de, cz))\n",
    "    else:\n",
    "        print('There is no significant difference in social activity among the {} year old samples'.format(age))"
   ]
  }
 ],
 "metadata": {
  "kernelspec": {
   "display_name": "Python 3",
   "language": "python",
   "name": "python3"
  },
  "language_info": {
   "codemirror_mode": {
    "name": "ipython",
    "version": 3
   },
   "file_extension": ".py",
   "mimetype": "text/x-python",
   "name": "python",
   "nbconvert_exporter": "python",
   "pygments_lexer": "ipython3",
   "version": "3.7.1"
  },
  "toc": {
   "base_numbering": 1,
   "nav_menu": {},
   "number_sections": true,
   "sideBar": true,
   "skip_h1_title": false,
   "title_cell": "Table of Contents",
   "title_sidebar": "Contents",
   "toc_cell": true,
   "toc_position": {},
   "toc_section_display": true,
   "toc_window_display": false
  },
  "varInspector": {
   "cols": {
    "lenName": 16,
    "lenType": 16,
    "lenVar": 40
   },
   "kernels_config": {
    "python": {
     "delete_cmd_postfix": "",
     "delete_cmd_prefix": "del ",
     "library": "var_list.py",
     "varRefreshCmd": "print(var_dic_list())"
    },
    "r": {
     "delete_cmd_postfix": ") ",
     "delete_cmd_prefix": "rm(",
     "library": "var_list.r",
     "varRefreshCmd": "cat(var_dic_list()) "
    }
   },
   "types_to_exclude": [
    "module",
    "function",
    "builtin_function_or_method",
    "instance",
    "_Feature"
   ],
   "window_display": false
  }
 },
 "nbformat": 4,
 "nbformat_minor": 2
}
