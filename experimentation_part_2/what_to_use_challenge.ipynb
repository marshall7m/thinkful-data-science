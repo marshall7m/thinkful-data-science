{
 "cells": [
  {
   "cell_type": "markdown",
   "metadata": {},
   "source": [
    "# Introduction"
   ]
  },
  {
   "cell_type": "markdown",
   "metadata": {},
   "source": [
    "### Imports"
   ]
  },
  {
   "cell_type": "code",
   "execution_count": 1,
   "metadata": {},
   "outputs": [],
   "source": [
    "\n",
    "import pandas as pd\n",
    "import numpy as np\n",
    "import matplotlib.pyplot as plt\n",
    "import seaborn as sns\n",
    "\n",
    "from scipy import stats\n",
    "%matplotlib inline\n",
    "\n",
    "# Options for pandas\n",
    "pd.options.display.max_columns = 150\n",
    "pd.options.display.max_rows = 150"
   ]
  },
  {
   "cell_type": "markdown",
   "metadata": {
    "toc": true
   },
   "source": [
    "<h1>Table of Contents<span class=\"tocSkip\"></span></h1>\n",
    "<div class=\"toc\"><ul class=\"toc-item\"><li><span><a href=\"#Introduction\" data-toc-modified-id=\"Introduction-1\"><span class=\"toc-item-num\">1&nbsp;&nbsp;</span>Introduction</a></span><ul class=\"toc-item\"><li><ul class=\"toc-item\"><li><span><a href=\"#Imports\" data-toc-modified-id=\"Imports-1.0.1\"><span class=\"toc-item-num\">1.0.1&nbsp;&nbsp;</span>Imports</a></span></li></ul></li></ul></li><li><span><a href=\"#Did-people-become-less-trusting-from-2012-to-2014?-Compute-results-for-each-country-in-the-sample.\" data-toc-modified-id=\"Did-people-become-less-trusting-from-2012-to-2014?-Compute-results-for-each-country-in-the-sample.-2\"><span class=\"toc-item-num\">2&nbsp;&nbsp;</span>Did people become less trusting from 2012 to 2014? Compute results for each country in the sample.</a></span></li><li><span><a href=\"#Did-people-become-happier-from-2012-to-2014?-Compute-results-for-each-country-in-the-sample.\" data-toc-modified-id=\"Did-people-become-happier-from-2012-to-2014?-Compute-results-for-each-country-in-the-sample.-3\"><span class=\"toc-item-num\">3&nbsp;&nbsp;</span>Did people become happier from 2012 to 2014? Compute results for each country in the sample.</a></span></li><li><span><a href=\"#Who-reported-watching-more-TV-in-2012,-men-or-women?\" data-toc-modified-id=\"Who-reported-watching-more-TV-in-2012,-men-or-women?-4\"><span class=\"toc-item-num\">4&nbsp;&nbsp;</span>Who reported watching more TV in 2012, men or women?</a></span></li><li><span><a href=\"#Who-was-more-likely-to-believe-people-were-fair-in-2012,-people-living-with-a-partner-or-people-living-alone?\" data-toc-modified-id=\"Who-was-more-likely-to-believe-people-were-fair-in-2012,-people-living-with-a-partner-or-people-living-alone?-5\"><span class=\"toc-item-num\">5&nbsp;&nbsp;</span>Who was more likely to believe people were fair in 2012, people living with a partner or people living alone?</a></span></li><li><span><a href=\"#Pick-three-or-four-of-the-countries-in-the-sample-and-compare-how-often-people-met-socially-in-2014.-Are-there-differences,-and-if-so,-which-countries-stand-out?\" data-toc-modified-id=\"Pick-three-or-four-of-the-countries-in-the-sample-and-compare-how-often-people-met-socially-in-2014.-Are-there-differences,-and-if-so,-which-countries-stand-out?-6\"><span class=\"toc-item-num\">6&nbsp;&nbsp;</span>Pick three or four of the countries in the sample and compare how often people met socially in 2014. Are there differences, and if so, which countries stand out?</a></span></li><li><span><a href=\"#Pick-three-or-four-of-the-countries-in-the-sample-and-compare-how-often-people-took-part-in-social-activities,-relative-to-others-their-age,-in-2014.-Are-there-differences,-and-if-so,-which-countries-stand-out?\" data-toc-modified-id=\"Pick-three-or-four-of-the-countries-in-the-sample-and-compare-how-often-people-took-part-in-social-activities,-relative-to-others-their-age,-in-2014.-Are-there-differences,-and-if-so,-which-countries-stand-out?-7\"><span class=\"toc-item-num\">7&nbsp;&nbsp;</span>Pick three or four of the countries in the sample and compare how often people took part in social activities, relative to others their age, in 2014. Are there differences, and if so, which countries stand out?</a></span></li></ul></div>"
   ]
  },
  {
   "cell_type": "markdown",
   "metadata": {},
   "source": [
    "Using selected questions from the 2012 and 2014 editions of the European Social Survey, address the following questions. Keep track of your code and results in a Jupyter notebook or other source that you can share with your mentor. For each question, explain why you chose the approach you did.\n",
    "\n",
    "Here is the [data file](https://raw.githubusercontent.com/Thinkful-Ed/data-201-resources/master/ESS_practice_data/ESSdata_Thinkful.csv). And here is the [codebook](https://thinkful-ed.github.io/data-201-resources/ESS_practice_data/ESS_codebook.html), with information about the variable coding and content.\n",
    "\n",
    "In this dataset, the same participants answered questions in 2012 and again 2014."
   ]
  },
  {
   "cell_type": "code",
   "execution_count": 2,
   "metadata": {
    "scrolled": true
   },
   "outputs": [],
   "source": [
    "df = pd.read_csv('https://raw.githubusercontent.com/Thinkful-Ed/data-201-resources/master/ESS_practice_data/ESSdata_Thinkful.csv')"
   ]
  },
  {
   "cell_type": "code",
   "execution_count": 3,
   "metadata": {},
   "outputs": [
    {
     "data": {
      "text/html": [
       "<div>\n",
       "<style scoped>\n",
       "    .dataframe tbody tr th:only-of-type {\n",
       "        vertical-align: middle;\n",
       "    }\n",
       "\n",
       "    .dataframe tbody tr th {\n",
       "        vertical-align: top;\n",
       "    }\n",
       "\n",
       "    .dataframe thead th {\n",
       "        text-align: right;\n",
       "    }\n",
       "</style>\n",
       "<table border=\"1\" class=\"dataframe\">\n",
       "  <thead>\n",
       "    <tr style=\"text-align: right;\">\n",
       "      <th></th>\n",
       "      <th>cntry</th>\n",
       "      <th>idno</th>\n",
       "      <th>year</th>\n",
       "      <th>tvtot</th>\n",
       "      <th>ppltrst</th>\n",
       "      <th>pplfair</th>\n",
       "      <th>pplhlp</th>\n",
       "      <th>happy</th>\n",
       "      <th>sclmeet</th>\n",
       "      <th>sclact</th>\n",
       "      <th>gndr</th>\n",
       "      <th>agea</th>\n",
       "      <th>partner</th>\n",
       "      <th>is_male</th>\n",
       "    </tr>\n",
       "  </thead>\n",
       "  <tbody>\n",
       "    <tr>\n",
       "      <th>0</th>\n",
       "      <td>CH</td>\n",
       "      <td>5.0</td>\n",
       "      <td>2012</td>\n",
       "      <td>3.0</td>\n",
       "      <td>3.0</td>\n",
       "      <td>10.0</td>\n",
       "      <td>5.0</td>\n",
       "      <td>8.0</td>\n",
       "      <td>5.0</td>\n",
       "      <td>4.0</td>\n",
       "      <td>2.0</td>\n",
       "      <td>60.0</td>\n",
       "      <td>1</td>\n",
       "      <td>0</td>\n",
       "    </tr>\n",
       "    <tr>\n",
       "      <th>1</th>\n",
       "      <td>CH</td>\n",
       "      <td>25.0</td>\n",
       "      <td>2012</td>\n",
       "      <td>6.0</td>\n",
       "      <td>5.0</td>\n",
       "      <td>7.0</td>\n",
       "      <td>5.0</td>\n",
       "      <td>9.0</td>\n",
       "      <td>3.0</td>\n",
       "      <td>2.0</td>\n",
       "      <td>2.0</td>\n",
       "      <td>59.0</td>\n",
       "      <td>1</td>\n",
       "      <td>0</td>\n",
       "    </tr>\n",
       "    <tr>\n",
       "      <th>2</th>\n",
       "      <td>CH</td>\n",
       "      <td>26.0</td>\n",
       "      <td>2012</td>\n",
       "      <td>1.0</td>\n",
       "      <td>8.0</td>\n",
       "      <td>8.0</td>\n",
       "      <td>8.0</td>\n",
       "      <td>7.0</td>\n",
       "      <td>6.0</td>\n",
       "      <td>3.0</td>\n",
       "      <td>1.0</td>\n",
       "      <td>24.0</td>\n",
       "      <td>0</td>\n",
       "      <td>1</td>\n",
       "    </tr>\n",
       "    <tr>\n",
       "      <th>3</th>\n",
       "      <td>CH</td>\n",
       "      <td>28.0</td>\n",
       "      <td>2012</td>\n",
       "      <td>4.0</td>\n",
       "      <td>6.0</td>\n",
       "      <td>6.0</td>\n",
       "      <td>7.0</td>\n",
       "      <td>10.0</td>\n",
       "      <td>6.0</td>\n",
       "      <td>2.0</td>\n",
       "      <td>2.0</td>\n",
       "      <td>64.0</td>\n",
       "      <td>1</td>\n",
       "      <td>0</td>\n",
       "    </tr>\n",
       "    <tr>\n",
       "      <th>4</th>\n",
       "      <td>CH</td>\n",
       "      <td>29.0</td>\n",
       "      <td>2012</td>\n",
       "      <td>5.0</td>\n",
       "      <td>6.0</td>\n",
       "      <td>7.0</td>\n",
       "      <td>5.0</td>\n",
       "      <td>8.0</td>\n",
       "      <td>7.0</td>\n",
       "      <td>2.0</td>\n",
       "      <td>2.0</td>\n",
       "      <td>55.0</td>\n",
       "      <td>1</td>\n",
       "      <td>0</td>\n",
       "    </tr>\n",
       "  </tbody>\n",
       "</table>\n",
       "</div>"
      ],
      "text/plain": [
       "  cntry  idno  year  tvtot  ppltrst  pplfair  pplhlp  happy  sclmeet  sclact  \\\n",
       "0    CH   5.0  2012    3.0      3.0     10.0     5.0    8.0      5.0     4.0   \n",
       "1    CH  25.0  2012    6.0      5.0      7.0     5.0    9.0      3.0     2.0   \n",
       "2    CH  26.0  2012    1.0      8.0      8.0     8.0    7.0      6.0     3.0   \n",
       "3    CH  28.0  2012    4.0      6.0      6.0     7.0   10.0      6.0     2.0   \n",
       "4    CH  29.0  2012    5.0      6.0      7.0     5.0    8.0      7.0     2.0   \n",
       "\n",
       "   gndr  agea  partner  is_male  \n",
       "0   2.0  60.0        1        0  \n",
       "1   2.0  59.0        1        0  \n",
       "2   1.0  24.0        0        1  \n",
       "3   2.0  64.0        1        0  \n",
       "4   2.0  55.0        1        0  "
      ]
     },
     "execution_count": 3,
     "metadata": {},
     "output_type": "execute_result"
    }
   ],
   "source": [
    "df['year'] = df['year'].apply(lambda x: 2012 if x == 6 else 2014)\n",
    "df['partner'] = df['partner'].apply(lambda x: 0 if x == 2 else 1)\n",
    "df['is_male'] = df['gndr'].apply(lambda x: 0 if x == 2 else 1)\n",
    "\n",
    "df.head()"
   ]
  },
  {
   "cell_type": "markdown",
   "metadata": {},
   "source": [
    "# Did people become less trusting from 2012 to 2014? Compute results for each country in the sample.\n"
   ]
  },
  {
   "cell_type": "code",
   "execution_count": 4,
   "metadata": {},
   "outputs": [
    {
     "name": "stdout",
     "output_type": "stream",
     "text": [
      "4293\n",
      "2014:  (0.9583832025527954, 2.1650820660101225e-33)\n",
      "2012:  (0.9523736834526062, 3.045615175428091e-35)\n"
     ]
    }
   ],
   "source": [
    "# check for normality for each sample\n",
    "print(df['ppltrst'][df['year'] == 2014].count())\n",
    "print('2014: ', stats.shapiro(np.asarray(df['ppltrst'][df['year'] == 2014].dropna())))\n",
    "print('2012: ', stats.shapiro(np.asarray(df['ppltrst'][df['year'] == 2012].dropna())))\n"
   ]
  },
  {
   "cell_type": "code",
   "execution_count": 5,
   "metadata": {},
   "outputs": [
    {
     "data": {
      "text/plain": [
       "<matplotlib.axes._subplots.AxesSubplot at 0x111b2fef0>"
      ]
     },
     "execution_count": 5,
     "metadata": {},
     "output_type": "execute_result"
    },
    {
     "data": {
      "image/png": "[encoded data removed]",
      "text/plain": [
       "<Figure size 432x288 with 1 Axes>"
      ]
     },
     "metadata": {
      "needs_background": "light"
     },
     "output_type": "display_data"
    }
   ],
   "source": [
    "df['ppltrst'][df['year'] == 2012].hist()"
   ]
  },
  {
   "cell_type": "markdown",
   "metadata": {},
   "source": [
    "Both samples' p-value are less than .05 which means we reject the null that the samples are drawn from a normally distributed population. Also since these are dependent groups meaning that the same participants are in both samples, paired non-parametric t-test would be most apporiate. "
   ]
  },
  {
   "cell_type": "code",
   "execution_count": 6,
   "metadata": {},
   "outputs": [
    {
     "name": "stdout",
     "output_type": "stream",
     "text": [
      "\n",
      "CH\n",
      "No difference\n",
      "\n",
      "CZ\n",
      "No difference\n",
      "\n",
      "DE\n",
      "No difference\n",
      "\n",
      "ES\n",
      "No difference\n",
      "\n",
      "NO\n",
      "No difference\n",
      "\n",
      "SE\n",
      "No difference\n"
     ]
    }
   ],
   "source": [
    "country_list = list(df['cntry'].unique())\n",
    "\n",
    "for country in country_list:\n",
    "    x = df['ppltrst'][(df['cntry'] == country) & (df['year'] == 2012)]\n",
    "    y = df['ppltrst'][(df['cntry'] == country) & (df['year'] == 2014)]\n",
    "    t,p = stats.ttest_rel(x,y)\n",
    "    print()\n",
    "    print(country)\n",
    "    if p < .05 and t > 0:\n",
    "        print('No they became more trusting')\n",
    "    elif p < .05 and t < 0:\n",
    "        print('Yes they became more less trusting')\n",
    "    else:\n",
    "        print('No difference')\n",
    "    "
   ]
  },
  {
   "cell_type": "markdown",
   "metadata": {},
   "source": [
    "As we can see for each country, people are as trusting in 2012 as 2014. "
   ]
  },
  {
   "cell_type": "markdown",
   "metadata": {},
   "source": [
    "# Did people become happier from 2012 to 2014? Compute results for each country in the sample.\n"
   ]
  },
  {
   "cell_type": "code",
   "execution_count": 7,
   "metadata": {},
   "outputs": [
    {
     "name": "stdout",
     "output_type": "stream",
     "text": [
      "2014:  (0.90348219871521, 0.0)\n",
      "2012:  (0.8950968980789185, 0.0)\n"
     ]
    }
   ],
   "source": [
    "# check for normality for each sample\n",
    "\n",
    "print('2014: ', stats.shapiro(np.asarray(df['happy'][df['year'] == 2014].dropna())))\n",
    "print('2012: ', stats.shapiro(np.asarray(df['happy'][df['year'] == 2012].dropna())))\n"
   ]
  },
  {
   "cell_type": "markdown",
   "metadata": {},
   "source": [
    "Same as the previous question, the shapiro test evaluates if the sample is from a normally distributed population. Looking at the p-value, there is a zero percent change that both samples are. "
   ]
  },
  {
   "cell_type": "code",
   "execution_count": 8,
   "metadata": {},
   "outputs": [
    {
     "name": "stdout",
     "output_type": "stream",
     "text": [
      "\n",
      "CH\n",
      "No difference\n",
      "\n",
      "CZ\n",
      "No difference\n",
      "\n",
      "DE\n",
      "No difference\n",
      "\n",
      "ES\n",
      "No difference\n",
      "\n",
      "NO\n",
      "No difference\n",
      "\n",
      "SE\n",
      "No difference\n"
     ]
    }
   ],
   "source": [
    "\n",
    "for country in country_list:\n",
    "    x = df['happy'][(df['cntry'] == country) & (df['year'] == 2012)]\n",
    "    y = df['happy'][(df['cntry'] == country) & (df['year'] == 2014)]\n",
    "    t,p = stats.ttest_rel(x,y)\n",
    "    print()\n",
    "    print(country)\n",
    "    if p < .05 and t > 0:\n",
    "        print('No they became more trusting')\n",
    "    elif p < .05 and t < 0:\n",
    "        print('Yes they became more less trusting')\n",
    "    else:\n",
    "        print('No difference')\n",
    "    "
   ]
  },
  {
   "cell_type": "markdown",
   "metadata": {},
   "source": [
    "As we can see for each country, people are as happy in 2012 as 2014. "
   ]
  },
  {
   "cell_type": "markdown",
   "metadata": {},
   "source": [
    "# Who reported watching more TV in 2012, men or women?\n"
   ]
  },
  {
   "cell_type": "code",
   "execution_count": 9,
   "metadata": {},
   "outputs": [
    {
     "name": "stdout",
     "output_type": "stream",
     "text": [
      "Male:  (0.9435075521469116, 8.185168180479776e-38)\n",
      "Female:  (0.9410152435302734, 3.082838965153947e-38)\n"
     ]
    }
   ],
   "source": [
    "# check for normality for each sample\n",
    "\n",
    "print('Male: ', stats.shapiro(np.asarray(df['tvtot'][df['is_male'] == 1].dropna())))\n",
    "print('Female: ', stats.shapiro(np.asarray(df['tvtot'][df['is_male'] == 0].dropna())))\n"
   ]
  },
  {
   "cell_type": "code",
   "execution_count": 10,
   "metadata": {
    "scrolled": true
   },
   "outputs": [
    {
     "name": "stdout",
     "output_type": "stream",
     "text": [
      "Female:\n",
      "Median TV:  4.0\n",
      "TV Sum 8441.0\n",
      "\n",
      "Male\n",
      "Median TV:  4.0\n",
      "TV Sum 8393.0\n",
      "\n",
      "Overall Median:  4.0\n",
      "\n",
      "Kruskal Test:  KruskalResult(statistic=0.5766091020549451, pvalue=0.447644522500795)\n",
      "Median Test: 0.10448797978115423 ... P-Value: 0.7465089423999145\n"
     ]
    }
   ],
   "source": [
    "female_sample = df['tvtot'][(df['is_male'] == 0) & (df['year'] == 2012)].dropna()\n",
    "male_sample = df['tvtot'][(df['is_male'] == 1) & (df['year'] == 2012)].dropna()\n",
    "\n",
    "df['tvtot_rank'] = stats.rankdata(df['tvtot'])\n",
    "\n",
    "\n",
    "print('Female:')\n",
    "print('Median TV: ', female_sample.median())\n",
    "print('TV Sum', female_sample.sum())\n",
    "print()\n",
    "print('Male')\n",
    "print('Median TV: ', male_sample.median())\n",
    "print('TV Sum', male_sample.sum())\n",
    "print()\n",
    "print('Overall Median: ', df['tvtot'].median())\n",
    "print()\n",
    "\n",
    "print('Kruskal Test: ', stats.kruskal(female_sample, male_sample))\n",
    "t, p, _, _ = stats.median_test(female_sample, male_sample)\n",
    "\n",
    "print('Median Test: {} ... P-Value: {}'.format(t, p))"
   ]
  },
  {
   "cell_type": "markdown",
   "metadata": {},
   "source": [
    "# Who was more likely to believe people were fair in 2012, people living with a partner or people living alone?\n"
   ]
  },
  {
   "cell_type": "code",
   "execution_count": 11,
   "metadata": {},
   "outputs": [
    {
     "name": "stdout",
     "output_type": "stream",
     "text": [
      "Single:  (0.9561690092086792, 1.4302870646482291e-21)\n",
      "Couple:  (0.9411795139312744, 2.4948774386456788e-31)\n"
     ]
    }
   ],
   "source": [
    "single_sample = df['pplfair'][(df['partner'] == 0) & (df['year'] == 2012)].dropna()\n",
    "couple_sample = df['pplfair'][(df['partner'] == 1) & (df['year'] == 2012)].dropna()\n",
    "\n",
    "# check for normality for each sample\n",
    "\n",
    "print('Single: ', stats.shapiro(single_sample))\n",
    "print('Couple: ', stats.shapiro(couple_sample))\n"
   ]
  },
  {
   "cell_type": "code",
   "execution_count": 12,
   "metadata": {},
   "outputs": [
    {
     "name": "stdout",
     "output_type": "stream",
     "text": [
      "Single:\n",
      "Median Fair Score:  6.0\n",
      "Fair Sum 9418.0\n",
      "\n",
      "Couples\n",
      "Median Fair Score:  7.0\n",
      "Fair Sum 16235.0\n",
      "\n",
      "Overall median:  6.0\n"
     ]
    }
   ],
   "source": [
    "print('Single:')\n",
    "print('Median Fair Score: ', single_sample.median())\n",
    "print('Fair Sum', single_sample.sum())\n",
    "print()\n",
    "print('Couples')\n",
    "print('Median Fair Score: ', couple_sample.median())\n",
    "print('Fair Sum', couple_sample.sum())\n",
    "print()\n",
    "print('Overall median: ', df['pplfair'].median())"
   ]
  },
  {
   "cell_type": "markdown",
   "metadata": {},
   "source": [
    "# Pick three or four of the countries in the sample and compare how often people met socially in 2014. Are there differences, and if so, which countries stand out?"
   ]
  },
  {
   "cell_type": "code",
   "execution_count": 13,
   "metadata": {},
   "outputs": [
    {
     "name": "stdout",
     "output_type": "stream",
     "text": [
      "CH:  (0.8974164724349976, 2.7436334896806913e-22)\n",
      "CZ:  (0.9451602101325989, 7.663770300607355e-15)\n",
      "DE:  (0.8616600036621094, 0.032099850475788116)\n"
     ]
    }
   ],
   "source": [
    "ch = df['sclmeet'][(df['cntry'] == 'CH') & (df['year'] == 2014)].dropna()\n",
    "cz = df['sclmeet'][(df['cntry'] == 'CZ') & (df['year'] == 2014)].dropna()\n",
    "de = df['sclmeet'][(df['cntry'] == 'DE') & (df['year'] == 2014)].dropna()\n",
    "\n",
    "# check for normality for each sample\n",
    "\n",
    "print('CH: ', stats.shapiro(ch))\n",
    "print('CZ: ', stats.shapiro(cz))\n",
    "print('DE: ', stats.shapiro(de))"
   ]
  },
  {
   "cell_type": "code",
   "execution_count": 14,
   "metadata": {},
   "outputs": [
    {
     "data": {
      "text/plain": [
       "KruskalResult(statistic=90.64258320601328, pvalue=2.075932098411105e-20)"
      ]
     },
     "execution_count": 14,
     "metadata": {},
     "output_type": "execute_result"
    }
   ],
   "source": [
    "stats.kruskal(ch, cz, de)"
   ]
  },
  {
   "cell_type": "code",
   "execution_count": 15,
   "metadata": {},
   "outputs": [
    {
     "name": "stdout",
     "output_type": "stream",
     "text": [
      "CH vs. CZ:  KruskalResult(statistic=87.94131736160504, pvalue=6.74254394179896e-21)\n",
      "CH vs. DE:  KruskalResult(statistic=6.811209280804956, pvalue=0.009058739707675768)\n",
      "DE vs. CZ:  KruskalResult(statistic=0.02251746084255729, pvalue=0.8807187047553632)\n"
     ]
    }
   ],
   "source": [
    "print('CH vs. CZ: ', stats.kruskal(ch, cz))\n",
    "print('CH vs. DE: ', stats.kruskal(ch, de))\n",
    "print('DE vs. CZ: ', stats.kruskal(de, cz))"
   ]
  },
  {
   "cell_type": "markdown",
   "metadata": {},
   "source": [
    "There is a significant difference between CH and CZ and CH and DE. Although DE and CZ are very similar in regards to sample median and the probability of their population medians to be equal is 88%. "
   ]
  },
  {
   "cell_type": "markdown",
   "metadata": {},
   "source": [
    "# Pick three or four of the countries in the sample and compare how often people took part in social activities, relative to others their age, in 2014. Are there differences, and if so, which countries stand out?"
   ]
  },
  {
   "cell_type": "code",
   "execution_count": 45,
   "metadata": {
    "scrolled": false
   },
   "outputs": [
    {
     "name": "stdout",
     "output_type": "stream",
     "text": [
      "CH:  (0.8914050459861755, 1.883037234053481e-22)\n",
      "CZ:  (0.8518425226211548, 1.6444474523379619e-23)\n",
      "DE:  (0.7937105894088745, 0.004176934715360403)\n",
      "\n",
      "2\n",
      "There is no significant difference in social activity among three countries'\n",
      "            60.0 year old samples\n",
      "0\n",
      "No samples for age: 59.0\n",
      "0\n",
      "No samples for age: 24.0\n",
      "0\n",
      "No samples for age: 64.0\n",
      "0\n",
      "No samples for age: 55.0\n",
      "0\n",
      "No samples for age: nan\n",
      "0\n",
      "No samples for age: 76.0\n",
      "0\n",
      "No samples for age: 30.0\n",
      "0\n",
      "No samples for age: 84.0\n",
      "0\n",
      "No samples for age: 62.0\n",
      "0\n",
      "No samples for age: 33.0\n",
      "0\n",
      "No samples for age: 40.0\n",
      "0\n",
      "No samples for age: 69.0\n",
      "0\n",
      "No samples for age: 32.0\n",
      "0\n",
      "No samples for age: 70.0\n",
      "0\n",
      "No samples for age: 61.0\n",
      "0\n",
      "No samples for age: 21.0\n",
      "0\n",
      "No samples for age: 36.0\n",
      "0\n",
      "No samples for age: 51.0\n",
      "0\n",
      "No samples for age: 25.0\n",
      "0\n",
      "No samples for age: 20.0\n",
      "0\n",
      "No samples for age: 22.0\n",
      "0\n",
      "No samples for age: 35.0\n",
      "0\n",
      "No samples for age: 26.0\n",
      "0\n",
      "No samples for age: 54.0\n",
      "0\n",
      "No samples for age: 38.0\n",
      "0\n",
      "No samples for age: 82.0\n",
      "0\n",
      "No samples for age: 53.0\n",
      "0\n",
      "No samples for age: 46.0\n",
      "0\n",
      "No samples for age: 47.0\n",
      "0\n",
      "No samples for age: 72.0\n",
      "0\n",
      "No samples for age: 16.0\n",
      "0\n",
      "No samples for age: 42.0\n",
      "0\n",
      "No samples for age: 57.0\n",
      "0\n",
      "No samples for age: 45.0\n",
      "0\n",
      "No samples for age: 28.0\n",
      "0\n",
      "No samples for age: 85.0\n",
      "0\n",
      "No samples for age: 48.0\n",
      "0\n",
      "No samples for age: 52.0\n",
      "0\n",
      "No samples for age: 29.0\n",
      "0\n",
      "No samples for age: 27.0\n",
      "0\n",
      "No samples for age: 79.0\n",
      "0\n",
      "No samples for age: 44.0\n",
      "0\n",
      "No samples for age: 92.0\n",
      "0\n",
      "No samples for age: 50.0\n",
      "0\n",
      "No samples for age: 37.0\n",
      "0\n",
      "No samples for age: 75.0\n",
      "0\n",
      "No samples for age: 19.0\n",
      "0\n",
      "No samples for age: 31.0\n",
      "0\n",
      "No samples for age: 65.0\n",
      "0\n",
      "No samples for age: 68.0\n",
      "0\n",
      "No samples for age: 58.0\n",
      "0\n",
      "No samples for age: 39.0\n",
      "0\n",
      "No samples for age: 67.0\n",
      "0\n",
      "No samples for age: 23.0\n",
      "0\n",
      "No samples for age: 56.0\n",
      "0\n",
      "No samples for age: 78.0\n",
      "0\n",
      "No samples for age: 83.0\n",
      "0\n",
      "No samples for age: 74.0\n",
      "0\n",
      "No samples for age: 49.0\n",
      "0\n",
      "No samples for age: 43.0\n",
      "0\n",
      "No samples for age: 86.0\n",
      "0\n",
      "No samples for age: 91.0\n",
      "0\n",
      "No samples for age: 34.0\n",
      "0\n",
      "No samples for age: 17.0\n",
      "0\n",
      "No samples for age: 41.0\n",
      "0\n",
      "No samples for age: 63.0\n",
      "0\n",
      "No samples for age: 73.0\n",
      "0\n",
      "No samples for age: 80.0\n",
      "0\n",
      "No samples for age: 81.0\n",
      "0\n",
      "No samples for age: 71.0\n",
      "0\n",
      "No samples for age: 89.0\n",
      "0\n",
      "No samples for age: 18.0\n",
      "0\n",
      "No samples for age: 94.0\n",
      "0\n",
      "No samples for age: 87.0\n",
      "0\n",
      "No samples for age: 90.0\n",
      "0\n",
      "No samples for age: 15.0\n",
      "0\n",
      "No samples for age: 103.0\n",
      "0\n",
      "No samples for age: 95.0\n",
      "0\n",
      "No samples for age: 97.0\n",
      "0\n",
      "No samples for age: 93.0\n",
      "0\n",
      "No samples for age: 101.0\n",
      "0\n",
      "No samples for age: 96.0\n",
      "0\n",
      "No samples for age: 114.0\n"
     ]
    }
   ],
   "source": [
    "ch = df[(df['cntry'] == 'CH') & (df['year'] == 2014)].dropna()\n",
    "cz = df[(df['cntry'] == 'CZ') & (df['year'] == 2014)].dropna()\n",
    "de = df[(df['cntry'] == 'DE') & (df['year'] == 2014)].dropna()\n",
    "\n",
    "# check for normality between each countries sclact sample\n",
    "print('CH: ', stats.shapiro(ch['sclact']))\n",
    "print('CZ: ', stats.shapiro(cz['sclact']))\n",
    "print('DE: ', stats.shapiro(de['sclact']))\n",
    "print()\n",
    "\n",
    "age_list = list(df['agea'].unique())\n",
    "for age in age_list:\n",
    "    \n",
    "    has_data = {}\n",
    "    \n",
    "    ch = ch[ch['agea'] == age].dropna()\n",
    "    cz = cz[cz['agea'] == age].dropna()\n",
    "    de = de[de['agea'] == age].dropna()\n",
    "    \n",
    "    for i,age_sample in enumerate([ch, cz, de]):\n",
    "        \n",
    "        if len(age_sample != 0):\n",
    "            has_data[str(i+1)] = age_sample['sclact']\n",
    "            t,p = stats.shapiro(age_sample['sclact'])\n",
    "            if p > .05:\n",
    "                print(age_sample['cntry'].unique(), age)\n",
    "    print(len(has_data))   \n",
    "    if len(has_data) == 0:\n",
    "        print('No samples for age: {}'.format(age))\n",
    "        \n",
    "    elif len(has_data) == 2:\n",
    "        t,p = stats.kruskal(has_data['1'], has_data['2'])\n",
    "        if p < .05:\n",
    "            cntry_1 = has_data['1']['cntry']\n",
    "            cntry_2 = has_data['1']['cntry']\n",
    "            print('{} vs {}: {}'.format(cntry_1, cntry_2, stats.kruskal(has_data['1'], has_data['2'])))\n",
    "        else:\n",
    "            print(\"\"\"There is no significant difference in social activity among three countries\\'\n",
    "            {} year old samples\"\"\".format(round(age)))\n",
    "    else:\n",
    "        t,p = stats.kruskal(has_data['1'], has_data['2'], has_data['3'])"
   ]
  }
 ],
 "metadata": {
  "kernelspec": {
   "display_name": "Python 3",
   "language": "python",
   "name": "python3"
  },
  "language_info": {
   "codemirror_mode": {
    "name": "ipython",
    "version": 3
   },
   "file_extension": ".py",
   "mimetype": "text/x-python",
   "name": "python",
   "nbconvert_exporter": "python",
   "pygments_lexer": "ipython3",
   "version": "3.7.1"
  },
  "toc": {
   "base_numbering": 1,
   "nav_menu": {},
   "number_sections": true,
   "sideBar": true,
   "skip_h1_title": false,
   "title_cell": "Table of Contents",
   "title_sidebar": "Contents",
   "toc_cell": true,
   "toc_position": {},
   "toc_section_display": true,
   "toc_window_display": false
  },
  "varInspector": {
   "cols": {
    "lenName": 16,
    "lenType": 16,
    "lenVar": 40
   },
   "kernels_config": {
    "python": {
     "delete_cmd_postfix": "",
     "delete_cmd_prefix": "del ",
     "library": "var_list.py",
     "varRefreshCmd": "print(var_dic_list())"
    },
    "r": {
     "delete_cmd_postfix": ") ",
     "delete_cmd_prefix": "rm(",
     "library": "var_list.r",
     "varRefreshCmd": "cat(var_dic_list()) "
    }
   },
   "types_to_exclude": [
    "module",
    "function",
    "builtin_function_or_method",
    "instance",
    "_Feature"
   ],
   "window_display": false
  }
 },
 "nbformat": 4,
 "nbformat_minor": 2
}
